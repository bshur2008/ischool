{
 "cells": [
  {
   "cell_type": "markdown",
   "metadata": {},
   "source": [
    "## Actitracker labeled dataset NN model\n",
    "This model will use keras to predict activity from sessionized accelerometer data, via the actitracker dataset (http://www.cis.fordham.edu/wisdm/dataset.php). "
   ]
  },
  {
   "cell_type": "markdown",
   "metadata": {},
   "source": [
    "### Load libraries"
   ]
  },
  {
   "cell_type": "code",
   "execution_count": 71,
   "metadata": {
    "collapsed": false
   },
   "outputs": [],
   "source": [
    "import pandas as pd\n",
    "import numpy as np\n",
    "import seaborn as sns\n",
    "import scipy as sp\n",
    "from sklearn.preprocessing import OneHotEncoder, LabelEncoder\n",
    "%matplotlib inline"
   ]
  },
  {
   "cell_type": "markdown",
   "metadata": {},
   "source": [
    "### Data load"
   ]
  },
  {
   "cell_type": "code",
   "execution_count": 72,
   "metadata": {
    "collapsed": false
   },
   "outputs": [],
   "source": [
    "DATA_FOLDER = 'Data/WISDM_ar_v1.1/'\n",
    "DATA_FILE = 'raw_data_fixed.txt'\n",
    "actitracker = pd.read_csv(\n",
    "    DATA_FOLDER+DATA_FILE ,\n",
    "    sep=',' ,\n",
    "    lineterminator=';' ,\n",
    "    header=None ,\n",
    ")\n",
    "actitracker.columns = [\n",
    "    'user' ,\n",
    "    'activity' ,\n",
    "    'timestamp' ,\n",
    "    'x-accel' ,\n",
    "    'y-accel' ,\n",
    "    'z-accel' ,\n",
    "    'NA' ,\n",
    "]\n",
    "del actitracker['NA']\n",
    "accel_cols = ['x-accel','y-accel','z-accel']"
   ]
  },
  {
   "cell_type": "markdown",
   "metadata": {},
   "source": [
    "### Sessionize data"
   ]
  },
  {
   "cell_type": "code",
   "execution_count": 73,
   "metadata": {
    "collapsed": false
   },
   "outputs": [],
   "source": [
    "# re-calculate time in seconds\n",
    "actitracker['time_seconds'] = actitracker['timestamp']*10e-9\n",
    "\n",
    "# sort by user and time \n",
    "actitracker = actitracker.sort_values(by=['user','time_seconds'])\n",
    "actitracker['seq'] = xrange(actitracker.shape[0])\n",
    "actitracker['session'] = actitracker.groupby(['user','activity'])['seq'].apply(lambda x: x%500 == 0).fillna(0).cumsum()"
   ]
  },
  {
   "cell_type": "markdown",
   "metadata": {},
   "source": [
    "### Gather labels"
   ]
  },
  {
   "cell_type": "code",
   "execution_count": 74,
   "metadata": {
    "collapsed": true
   },
   "outputs": [],
   "source": [
    "# get session_labels \n",
    "ohe = OneHotEncoder(sparse=False); le = LabelEncoder()\n",
    "labels = actitracker.groupby(['user','session'])['activity'].apply(lambda x: max(x))\n",
    "ohe_labels = ohe.fit_transform(le.fit_transform(labels).reshape(-1,1))\n",
    "Y = pd.DataFrame(ohe_labels,index=labels.index)"
   ]
  },
  {
   "cell_type": "markdown",
   "metadata": {},
   "source": [
    "### Calculate features "
   ]
  },
  {
   "cell_type": "code",
   "execution_count": 86,
   "metadata": {
    "collapsed": false
   },
   "outputs": [],
   "source": [
    "# group by user and session\n",
    "accel_cols = ['x-accel','y-accel','z-accel']\n",
    "g = actitracker.loc[:,accel_cols+['user','session']].groupby(['user','session'])\n",
    "\n",
    "# calculate model cols\n",
    "def iqr(x):\n",
    "    ''' pass a series object \n",
    "        to calculate IQR\n",
    "    '''\n",
    "    q75, q25 = np.percentile(x, [75,25])\n",
    "    return q75-q25\n",
    "\n",
    "means = g[accel_cols].apply(lambda x: np.mean(x))\n",
    "sds = g[accel_cols].apply(lambda x: np.std(x))\n",
    "median_1 = g[accel_cols[0]].apply(lambda x: np.median(x))\n",
    "median_2 = g[accel_cols[1]].apply(lambda x: np.median(x))\n",
    "median_3 = g[accel_cols[2]].apply(lambda x: np.median(x))\n",
    "iqr_1 = g[accel_cols[0]].apply(lambda x: iqr(x))\n",
    "iqr_2 = g[accel_cols[1]].apply(lambda x: iqr(x))\n",
    "iqr_3 = g[accel_cols[2]].apply(lambda x: iqr(x))\n",
    "mins = g[accel_cols].apply(lambda x: np.min(x))\n",
    "maxs = g[accel_cols].apply(lambda x: np.max(x))\n",
    "\n",
    "# concat columns\n",
    "X = pd.concat((means,\n",
    "               sds,\n",
    "               median_1,\n",
    "               median_2,\n",
    "               median_3,\n",
    "               iqr_1,\n",
    "               iqr_2,\n",
    "               iqr_3,\n",
    "               mins,\n",
    "               maxs,\n",
    "              ),axis=1)"
   ]
  },
  {
   "cell_type": "markdown",
   "metadata": {},
   "source": [
    "### Neural Network Model"
   ]
  },
  {
   "cell_type": "code",
   "execution_count": 68,
   "metadata": {
    "collapsed": false
   },
   "outputs": [],
   "source": [
    "from keras.models import Sequential\n",
    "from keras.layers import Dense, Dropout, Activation\n",
    "from sklearn.cross_validation import train_test_split\n",
    "from sklearn.metrics import accuracy_score\n",
    "from sklearn.metrics import log_loss\n",
    "from keras.layers.recurrent import LSTM"
   ]
  },
  {
   "cell_type": "markdown",
   "metadata": {},
   "source": [
    "#### Compile model"
   ]
  },
  {
   "cell_type": "code",
   "execution_count": 91,
   "metadata": {
    "collapsed": false
   },
   "outputs": [],
   "source": [
    "model = Sequential()\n",
    "\n",
    "indim = X.shape[1]\n",
    "model.add(Dense(512*8, input_dim=indim, activation='relu'))\n",
    "model.add(Dropout(0.5))\n",
    "model.add(Dense(512*12, activation='relu'))\n",
    "model.add(Dropout(0.5))\n",
    "model.add(Dense(6, activation='softmax'))\n",
    "\n",
    "model.compile(loss='categorical_crossentropy',\n",
    "              optimizer='sgd',\n",
    "              metrics=['accuracy'])"
   ]
  },
  {
   "cell_type": "markdown",
   "metadata": {},
   "source": [
    "#### Execute model"
   ]
  },
  {
   "cell_type": "code",
   "execution_count": 92,
   "metadata": {
    "collapsed": false
   },
   "outputs": [
    {
     "name": "stdout",
     "output_type": "stream",
     "text": [
      "Epoch 1/20\n",
      "1495/1495 [==============================] - 15s - loss: 1.3590 - acc: 0.6107    \n",
      "Epoch 2/20\n",
      "1495/1495 [==============================] - 15s - loss: 0.8550 - acc: 0.7030    \n",
      "Epoch 3/20\n",
      "1495/1495 [==============================] - 15s - loss: 0.7523 - acc: 0.7318    \n",
      "Epoch 4/20\n",
      "1495/1495 [==============================] - 14s - loss: 0.7144 - acc: 0.7351    \n",
      "Epoch 5/20\n",
      "1495/1495 [==============================] - 15s - loss: 0.6799 - acc: 0.7605    \n",
      "Epoch 6/20\n",
      "1495/1495 [==============================] - 15s - loss: 0.6593 - acc: 0.7686    \n",
      "Epoch 7/20\n",
      "1495/1495 [==============================] - 15s - loss: 0.6485 - acc: 0.7666    \n",
      "Epoch 8/20\n",
      "1495/1495 [==============================] - 15s - loss: 0.6244 - acc: 0.7873    \n",
      "Epoch 9/20\n",
      "1495/1495 [==============================] - 14s - loss: 0.6223 - acc: 0.7779    \n",
      "Epoch 10/20\n",
      "1495/1495 [==============================] - 15s - loss: 0.6216 - acc: 0.7766    \n",
      "Epoch 11/20\n",
      "1495/1495 [==============================] - 14s - loss: 0.5944 - acc: 0.7853    \n",
      "Epoch 12/20\n",
      "1495/1495 [==============================] - 15s - loss: 0.5871 - acc: 0.7873    \n",
      "Epoch 13/20\n",
      "1495/1495 [==============================] - 15s - loss: 0.5800 - acc: 0.7900    \n",
      "Epoch 14/20\n",
      "1495/1495 [==============================] - 15s - loss: 0.5817 - acc: 0.8000    \n",
      "Epoch 15/20\n",
      "1495/1495 [==============================] - 15s - loss: 0.5377 - acc: 0.8047    \n",
      "Epoch 16/20\n",
      "1495/1495 [==============================] - 15s - loss: 0.5544 - acc: 0.8114    \n",
      "Epoch 17/20\n",
      "1495/1495 [==============================] - 15s - loss: 0.5484 - acc: 0.8087    \n",
      "Epoch 18/20\n",
      "1495/1495 [==============================] - 16s - loss: 0.5496 - acc: 0.8054    \n",
      "Epoch 19/20\n",
      "1495/1495 [==============================] - 15s - loss: 0.5376 - acc: 0.8154    \n",
      "Epoch 20/20\n",
      "1495/1495 [==============================] - 15s - loss: 0.5295 - acc: 0.8107    \n"
     ]
    },
    {
     "data": {
      "text/plain": [
       "<keras.callbacks.History at 0x10cf0a850>"
      ]
     },
     "execution_count": 92,
     "metadata": {},
     "output_type": "execute_result"
    }
   ],
   "source": [
    "X_train, X_test, Y_train, Y_test = train_test_split(X.as_matrix(), Y.as_matrix(), test_size=0.33, random_state=22)\n",
    "model.fit(X_train, Y_train,\n",
    "          nb_epoch=20,\n",
    "          batch_size=20)"
   ]
  },
  {
   "cell_type": "code",
   "execution_count": 94,
   "metadata": {
    "collapsed": false
   },
   "outputs": [
    {
     "name": "stdout",
     "output_type": "stream",
     "text": [
      "Accuracy: 0.799185888738\n",
      "Log-loss: 0.566244617757\n"
     ]
    }
   ],
   "source": [
    "predictions = model.predict(X_test)\n",
    "print 'Accuracy: {}'.format(accuracy_score(np.argmax(Y_test, axis=1), np.argmax(predictions,axis=1)) )\n",
    "print 'Log-loss: {}'.format(log_loss(Y_test, predictions))"
   ]
  },
  {
   "cell_type": "code",
   "execution_count": null,
   "metadata": {
    "collapsed": true
   },
   "outputs": [],
   "source": []
  }
 ],
 "metadata": {
  "kernelspec": {
   "display_name": "Python 2",
   "language": "python",
   "name": "python2"
  },
  "language_info": {
   "codemirror_mode": {
    "name": "ipython",
    "version": 2
   },
   "file_extension": ".py",
   "mimetype": "text/x-python",
   "name": "python",
   "nbconvert_exporter": "python",
   "pygments_lexer": "ipython2",
   "version": "2.7.10"
  }
 },
 "nbformat": 4,
 "nbformat_minor": 0
}
