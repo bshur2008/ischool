{
 "cells": [
  {
   "cell_type": "markdown",
   "metadata": {},
   "source": [
    "## Actitracker labeled dataset NN model\n",
    "This model will use keras to predict activity from sessionized accelerometer data, via the actitracker dataset (http://www.cis.fordham.edu/wisdm/dataset.php). "
   ]
  },
  {
   "cell_type": "markdown",
   "metadata": {},
   "source": [
    "### Data Processing"
   ]
  },
  {
   "cell_type": "code",
   "execution_count": 43,
   "metadata": {
    "collapsed": false
   },
   "outputs": [],
   "source": [
    "# Feature engineering \n",
    "import pandas as pd\n",
    "import numpy as np\n",
    "import scipy as sp\n",
    "\n",
    "# Machine learning\n",
    "from sklearn.preprocessing import OneHotEncoder, LabelEncoder\n",
    "from sklearn.preprocessing import MinMaxScaler, StandardScaler\n",
    "from sklearn.cross_validation import train_test_split\n",
    "from sklearn.metrics import accuracy_score\n",
    "from sklearn.metrics import log_loss\n",
    "from sklearn.linear_model import LogisticRegression\n",
    "from sklearn.metrics import confusion_matrix\n",
    "\n",
    "# Charts\n",
    "import matplotlib.pylab as plt\n",
    "import seaborn as sns\n",
    "%matplotlib inline\n",
    "\n",
    "# Static params\n",
    "DATA_FOLDER = 'Data/WISDM_ar_v1.1/'\n",
    "DATA_FILE = 'raw_data_fixed.txt'"
   ]
  },
  {
   "cell_type": "markdown",
   "metadata": {},
   "source": [
    "#### Data load"
   ]
  },
  {
   "cell_type": "code",
   "execution_count": 3,
   "metadata": {
    "collapsed": false
   },
   "outputs": [],
   "source": [
    "def load_data():\n",
    "    global actitracker\n",
    "    actitracker = pd.read_csv(\n",
    "        DATA_FOLDER+DATA_FILE ,\n",
    "        sep=',' ,\n",
    "        lineterminator=';' ,\n",
    "        header=None ,\n",
    "    )\n",
    "    actitracker.columns = [\n",
    "        'user' ,\n",
    "        'activity' ,\n",
    "        'timestamp' ,\n",
    "        'x-accel' ,\n",
    "        'y-accel' ,\n",
    "        'z-accel' ,\n",
    "        'NA' ,\n",
    "    ]\n",
    "    del actitracker['NA']"
   ]
  },
  {
   "cell_type": "markdown",
   "metadata": {},
   "source": [
    "#### Sessionize "
   ]
  },
  {
   "cell_type": "code",
   "execution_count": 5,
   "metadata": {
    "collapsed": false
   },
   "outputs": [],
   "source": [
    "def create_sessions():\n",
    "    global actitracker\n",
    "    # re-calculate time in seconds\n",
    "    actitracker['time_seconds'] = actitracker['timestamp']*10e-9\n",
    "\n",
    "    # sort by user and time \n",
    "    actitracker = actitracker.sort_values(by=['user','time_seconds'])\n",
    "\n",
    "    # create sessions\n",
    "    session_length = 100\n",
    "    actitracker['seq'] = xrange(actitracker.shape[0])\n",
    "    actitracker['session'] = actitracker.\\\n",
    "                               groupby(['user','activity'])['seq'].\\\n",
    "                               apply(lambda x: x%session_length == 0).\\\n",
    "                               fillna(0).cumsum()"
   ]
  },
  {
   "cell_type": "markdown",
   "metadata": {},
   "source": [
    "#### Gather labels"
   ]
  },
  {
   "cell_type": "code",
   "execution_count": 6,
   "metadata": {
    "collapsed": false
   },
   "outputs": [],
   "source": [
    "def gather_target_vars():\n",
    "    global label_lookup\n",
    "    # get session_labels \n",
    "    ohe = OneHotEncoder(sparse=False); le = LabelEncoder()\n",
    "    labels = actitracker.groupby(['user','session'])['activity'].apply(lambda x: max(x))\n",
    "    le_labels = le.fit_transform(labels)\n",
    "    ohe_labels = ohe.fit_transform(le_labels.reshape(-1,1))\n",
    "    label_lookup = { k: v for k,v in set((i, v) for i,v in np.vstack((le_labels,labels)).T) }\n",
    "    \n",
    "    # create target variables\n",
    "    Y = pd.DataFrame(ohe_labels,index=labels.index)\n",
    "    return Y"
   ]
  },
  {
   "cell_type": "markdown",
   "metadata": {},
   "source": [
    "#### Calculate features "
   ]
  },
  {
   "cell_type": "code",
   "execution_count": 7,
   "metadata": {
    "collapsed": false
   },
   "outputs": [],
   "source": [
    "def feature_engineering():\n",
    "    # group by user and session\n",
    "    accel_cols = ['x-accel','y-accel','z-accel']\n",
    "    g = actitracker.loc[:,accel_cols+['user','session']].groupby(['user','session'])\n",
    "\n",
    "    # IQR function\n",
    "    def iqr(x):\n",
    "        ''' calculate IQR from array\n",
    "        '''\n",
    "        q75, q25 = np.percentile(x, [75,25])\n",
    "        return q75-q25\n",
    "\n",
    "    # calculate model cols \n",
    "    means = g[accel_cols].apply(lambda x: np.mean(x))\n",
    "    sds = g[accel_cols].apply(lambda x: np.std(x))\n",
    "    median_1 = g[accel_cols[0]].apply(lambda x: np.median(x))\n",
    "    median_2 = g[accel_cols[1]].apply(lambda x: np.median(x))\n",
    "    median_3 = g[accel_cols[2]].apply(lambda x: np.median(x))\n",
    "    iqr_1 = g[accel_cols[0]].apply(lambda x: iqr(x))\n",
    "    iqr_2 = g[accel_cols[1]].apply(lambda x: iqr(x))\n",
    "    iqr_3 = g[accel_cols[2]].apply(lambda x: iqr(x))\n",
    "    mins = g[accel_cols].apply(lambda x: np.min(x))\n",
    "    maxs = g[accel_cols].apply(lambda x: np.max(x))\n",
    "    kurtosis_1 = g[accel_cols[0]].apply(lambda x: sp.stats.kurtosis(x))\n",
    "    kurtosis_2 = g[accel_cols[1]].apply(lambda x: sp.stats.kurtosis(x))\n",
    "    kurtosis_3 = g[accel_cols[2]].apply(lambda x: sp.stats.kurtosis(x))\n",
    "    skew_1 = g[accel_cols[0]].apply(lambda x: sp.stats.skew(x))\n",
    "    skew_2 = g[accel_cols[1]].apply(lambda x: sp.stats.skew(x))\n",
    "    skew_3 = g[accel_cols[2]].apply(lambda x: sp.stats.skew(x))\n",
    "    percentiles = []\n",
    "    for i in range(10,100,10):\n",
    "        for e in range(1,4):\n",
    "            percentiles.append(eval('g[accel_cols['+str(e-1)+']].apply(lambda x: sp.percentile(x,'+str(i)+'))'))\n",
    "\n",
    "    # concat columns\n",
    "    X = pd.concat([means,\n",
    "                   sds,\n",
    "                   median_1,\n",
    "                   median_2,\n",
    "                   median_3,\n",
    "                   iqr_1,\n",
    "                   iqr_2,\n",
    "                   iqr_3,\n",
    "                   mins,\n",
    "                   maxs,\n",
    "                   kurtosis_1,\n",
    "                   kurtosis_2,\n",
    "                   kurtosis_3,\n",
    "                   skew_1,\n",
    "                   skew_2,\n",
    "                   skew_3,\n",
    "                  ]+percentiles\n",
    "                  ,axis=1)\n",
    "\n",
    "    # Scale data\n",
    "    ss = StandardScaler()\n",
    "    X = ss.fit_transform(X)\n",
    "    return X"
   ]
  },
  {
   "cell_type": "markdown",
   "metadata": {},
   "source": [
    "#### Split test and train"
   ]
  },
  {
   "cell_type": "code",
   "execution_count": 8,
   "metadata": {
    "collapsed": false
   },
   "outputs": [],
   "source": [
    "load_data()\n",
    "create_sessions()\n",
    "Y = gather_target_vars()\n",
    "X = feature_engineering()\n",
    "X_train, X_test, Y_train, Y_test = train_test_split(X, Y.as_matrix(), test_size=0.33, random_state=22)"
   ]
  },
  {
   "cell_type": "markdown",
   "metadata": {},
   "source": [
    "### Baseline LR Model"
   ]
  },
  {
   "cell_type": "code",
   "execution_count": 45,
   "metadata": {
    "collapsed": false
   },
   "outputs": [],
   "source": [
    "class ActitrackerLR:\n",
    "    ''' Logistic Regression models\n",
    "        one for each class\n",
    "    '''\n",
    "    @staticmethod\n",
    "    def train_models(X_train, Y_train, model_params):\n",
    "        ''' Train models iteratively \n",
    "            for each class\n",
    "        '''\n",
    "        models = [] \n",
    "        for i in xrange(Y_train.shape[1]):\n",
    "            model = LogisticRegression(**model_params)\n",
    "            y = Y_train[:,i]\n",
    "            model.fit(X_train, y)\n",
    "            models.append(model)\n",
    "        return models\n",
    "    \n",
    "    @staticmethod\n",
    "    def make_predictions(X_test, models, num_classes=6):\n",
    "        ''' Make predictions \n",
    "            for each class \n",
    "        '''\n",
    "        predictions = np.zeros((X_test.shape[0], num_classes))\n",
    "        for i, model in enumerate(models):\n",
    "            p = model.predict_proba(X_test)\n",
    "            predictions[:,i] = p[:,1]\n",
    "        return predictions\n",
    "\n",
    "lrmodel = ActitrackerLR()"
   ]
  },
  {
   "cell_type": "markdown",
   "metadata": {},
   "source": [
    "#### Evaluate model params"
   ]
  },
  {
   "cell_type": "code",
   "execution_count": 26,
   "metadata": {
    "collapsed": false
   },
   "outputs": [
    {
     "name": "stdout",
     "output_type": "stream",
     "text": [
      "               C  accuracy  log_loss\n",
      "0        0.00001  0.683443  1.710534\n",
      "1        0.00100  0.732673  1.120656\n",
      "2        0.10000  0.823432  0.573227\n",
      "3        1.00000  0.838284  0.529065\n",
      "4       10.00000  0.841309  0.524394\n",
      "5      100.00000  0.841309  0.529344\n",
      "6    10000.00000  0.841309  0.540622\n",
      "7  1000000.00000  0.841309  0.541216\n"
     ]
    }
   ],
   "source": [
    "c_values = [ 1e-5, 1e-3, 1e-1, 1.0, 10.0, 1e2, 1e4, 1e6 ]\n",
    "def lr_evaluate_params(c_values):\n",
    "    accuracies = []\n",
    "    log_losses = []\n",
    "    for c in c_values:\n",
    "        params = {'C':c,'max_iter':1000,'tol':1e-8}\n",
    "        models = lrmodel.train_models(X_train, Y_train, params)\n",
    "        predictions = lrmodel.make_predictions(X_test, Y_test, models)\n",
    "        accuracy = accuracy_score(np.argmax(Y_test, axis=1), np.argmax(predictions,axis=1))\n",
    "        ll = log_loss(Y_test, predictions)\n",
    "        accuracies.append(accuracy)\n",
    "        log_losses.append(ll)\n",
    "    evaluation = pd.DataFrame({'C':c_values,'accuracy':accuracies,'log_loss':log_losses})\n",
    "    print evaluation\n",
    "    return evaluation\n",
    "\n",
    "evaluation = lr_evaluate_params(c_values)"
   ]
  },
  {
   "cell_type": "code",
   "execution_count": 27,
   "metadata": {
    "collapsed": false
   },
   "outputs": [
    {
     "data": {
      "image/png": "[encoded data removed]",
      "text/plain": [
       "<matplotlib.figure.Figure at 0x1159ab990>"
      ]
     },
     "metadata": {},
     "output_type": "display_data"
    }
   ],
   "source": [
    "def lr_param_charts(c_values, accuracies, log_losses):\n",
    "    plt.figure(figsize=(14, 4))\n",
    "    plt.subplot(1,2,1)\n",
    "    plt.plot(np.log(c_values), accuracies, 'g')\n",
    "    plt.title(\"Change in Accuracy with Decreasing Regularization\")\n",
    "    plt.xlabel(\"Log of Inv. Regularization Strength (C)\")\n",
    "    plt.ylabel(\"Accuracy\")\n",
    "    plt.subplot(1,2,2)\n",
    "    plt.plot(np.log(c_values), log_losses, 'b')\n",
    "    plt.title(\"Change in Log-loss with Decreasing Regularization\")\n",
    "    plt.xlabel(\"Log of Inv. Regularization Strength (C)\")\n",
    "    plt.ylabel(\"Log-loss\")\n",
    "\n",
    "lr_param_charts(evaluation['C'],evaluation['accuracy'],evaluation['log_loss'])"
   ]
  },
  {
   "cell_type": "markdown",
   "metadata": {},
   "source": [
    "#### Train final model"
   ]
  },
  {
   "cell_type": "code",
   "execution_count": 33,
   "metadata": {
    "collapsed": false
   },
   "outputs": [],
   "source": [
    "params = {'C':10.0,'max_iter':1000,'tol':1e-8,'solver':'lbfgs'}\n",
    "models = lrmodel.train_models(X_train, Y_train, params)"
   ]
  },
  {
   "cell_type": "markdown",
   "metadata": {},
   "source": [
    "#### Test prediction accuracy"
   ]
  },
  {
   "cell_type": "code",
   "execution_count": 69,
   "metadata": {
    "collapsed": true
   },
   "outputs": [],
   "source": [
    "def print_accuracy(true_category, pred_category):\n",
    "    print 'Accuracy: {}'.format(accuracy_score(true_category, pred_category ))\n",
    "    print 'Log-loss: {}'.format(log_loss(Y_test, predictions))"
   ]
  },
  {
   "cell_type": "code",
   "execution_count": 46,
   "metadata": {
    "collapsed": false
   },
   "outputs": [],
   "source": [
    "predictions = lrmodel.make_predictions(X_test, models, 6)\n",
    "pred_category = np.argmax(predictions, axis=1)\n",
    "true_category = np.argmax(Y_test, axis=1)"
   ]
  },
  {
   "cell_type": "code",
   "execution_count": 70,
   "metadata": {
    "collapsed": false
   },
   "outputs": [
    {
     "name": "stdout",
     "output_type": "stream",
     "text": [
      "Accuracy: 0.841309130913\n",
      "Log-loss: 0.524565689825\n"
     ]
    }
   ],
   "source": [
    "print_accuracy(true_category, pred_category)"
   ]
  },
  {
   "cell_type": "markdown",
   "metadata": {},
   "source": [
    "#### Analyze errors"
   ]
  },
  {
   "cell_type": "code",
   "execution_count": null,
   "metadata": {
    "collapsed": true
   },
   "outputs": [],
   "source": [
    "get_label = np.vectorize(lambda x: label_lookup[x])\n",
    "    \n",
    "def analyze_errors(true_category, pred_category, get_label=get_label):\n",
    "    errors = pred_category != true_category\n",
    "    true_labels = get_label(true_category)\n",
    "    base = np.ones(true_labels.shape)\n",
    "    error_base = pd.DataFrame({'errors':errors,\n",
    "                      'labels':true_labels,\n",
    "                      'base':base})\n",
    "    b = error_base.groupby('labels').sum()\n",
    "    error_rates = pd.DataFrame((b['errors']/b['base']).sort_values(ascending=False), columns=['Error Rate'])\n",
    "    error_rates['Total Session Counts'] = b['base']\n",
    "    return error_rates"
   ]
  },
  {
   "cell_type": "code",
   "execution_count": 71,
   "metadata": {
    "collapsed": false
   },
   "outputs": [
    {
     "data": {
      "text/html": [
       "<div>\n",
       "<table border=\"1\" class=\"dataframe\">\n",
       "  <thead>\n",
       "    <tr style=\"text-align: right;\">\n",
       "      <th></th>\n",
       "      <th>Error Rate</th>\n",
       "      <th>Total Session Counts</th>\n",
       "    </tr>\n",
       "    <tr>\n",
       "      <th>labels</th>\n",
       "      <th></th>\n",
       "      <th></th>\n",
       "    </tr>\n",
       "  </thead>\n",
       "  <tbody>\n",
       "    <tr>\n",
       "      <th>Upstairs</th>\n",
       "      <td>0.536866</td>\n",
       "      <td>434.0</td>\n",
       "    </tr>\n",
       "    <tr>\n",
       "      <th>Downstairs</th>\n",
       "      <td>0.479730</td>\n",
       "      <td>296.0</td>\n",
       "    </tr>\n",
       "    <tr>\n",
       "      <th>Sitting</th>\n",
       "      <td>0.113990</td>\n",
       "      <td>193.0</td>\n",
       "    </tr>\n",
       "    <tr>\n",
       "      <th>Standing</th>\n",
       "      <td>0.090909</td>\n",
       "      <td>154.0</td>\n",
       "    </tr>\n",
       "    <tr>\n",
       "      <th>Walking</th>\n",
       "      <td>0.088050</td>\n",
       "      <td>1431.0</td>\n",
       "    </tr>\n",
       "    <tr>\n",
       "      <th>Jogging</th>\n",
       "      <td>0.035461</td>\n",
       "      <td>1128.0</td>\n",
       "    </tr>\n",
       "  </tbody>\n",
       "</table>\n",
       "</div>"
      ],
      "text/plain": [
       "            Error Rate  Total Session Counts\n",
       "labels                                      \n",
       "Upstairs      0.536866                 434.0\n",
       "Downstairs    0.479730                 296.0\n",
       "Sitting       0.113990                 193.0\n",
       "Standing      0.090909                 154.0\n",
       "Walking       0.088050                1431.0\n",
       "Jogging       0.035461                1128.0"
      ]
     },
     "execution_count": 71,
     "metadata": {},
     "output_type": "execute_result"
    }
   ],
   "source": [
    "analyze_errors(true_category, pred_category)"
   ]
  },
  {
   "cell_type": "code",
   "execution_count": 64,
   "metadata": {
    "collapsed": false
   },
   "outputs": [
    {
     "data": {
      "image/png": "[encoded data removed]",
      "text/plain": [
       "<matplotlib.figure.Figure at 0x11581ad50>"
      ]
     },
     "metadata": {},
     "output_type": "display_data"
    }
   ],
   "source": [
    "def plot_confusion_matrix(cm, title='Confusion matrix', cmap=plt.cm.Blues):\n",
    "    classes = label_lookup.values()\n",
    "    plt.imshow(cm, interpolation='nearest', cmap=cmap)\n",
    "    plt.title(title)\n",
    "    plt.colorbar()\n",
    "    tick_marks = np.arange(len(classes))\n",
    "    plt.xticks(tick_marks, classes, rotation=45)\n",
    "    plt.yticks(tick_marks, classes)\n",
    "    plt.tight_layout()\n",
    "    plt.ylabel('True label')\n",
    "    plt.xlabel('Predicted label')\n",
    "\n",
    "cm = confusion_matrix(true_category, pred_category)\n",
    "cm_normalized = cm.astype('float') / cm.sum(axis=1)[:, np.newaxis]\n",
    "plot_confusion_matrix(cm_normalized)"
   ]
  },
  {
   "cell_type": "markdown",
   "metadata": {},
   "source": [
    "### MLP Neural Network Model"
   ]
  },
  {
   "cell_type": "code",
   "execution_count": null,
   "metadata": {
    "collapsed": false
   },
   "outputs": [
    {
     "name": "stderr",
     "output_type": "stream",
     "text": [
      "Using Theano backend.\n"
     ]
    }
   ],
   "source": [
    "from keras.models import Sequential\n",
    "from keras.layers import Dense, Dropout"
   ]
  },
  {
   "cell_type": "markdown",
   "metadata": {},
   "source": [
    "#### Compile model"
   ]
  },
  {
   "cell_type": "code",
   "execution_count": null,
   "metadata": {
    "collapsed": false
   },
   "outputs": [],
   "source": [
    "model = Sequential()\n",
    "\n",
    "indim = X.shape[1]\n",
    "model.add(Dense(512*4, input_dim=indim, activation='relu'))\n",
    "model.add(Dropout(0.5))\n",
    "model.add(Dense(512*12, activation='relu'))\n",
    "model.add(Dropout(0.5))\n",
    "model.add(Dense(512*4, activation='relu'))\n",
    "model.add(Dropout(0.5))\n",
    "model.add(Dense(6, activation='softmax'))\n",
    "\n",
    "model.compile(loss='categorical_crossentropy',\n",
    "              optimizer='sgd',\n",
    "              metrics=['accuracy'])"
   ]
  },
  {
   "cell_type": "markdown",
   "metadata": {},
   "source": [
    "#### Execute model"
   ]
  },
  {
   "cell_type": "code",
   "execution_count": null,
   "metadata": {
    "collapsed": false
   },
   "outputs": [],
   "source": [
    "model.fit(X_train, Y_train,\n",
    "          nb_epoch=20,\n",
    "          batch_size=20)"
   ]
  },
  {
   "cell_type": "code",
   "execution_count": 35,
   "metadata": {
    "collapsed": false
   },
   "outputs": [
    {
     "name": "stdout",
     "output_type": "stream",
     "text": [
      "Accuracy: 0.911716171617\n",
      "Log-loss: 0.282118099038\n"
     ]
    }
   ],
   "source": [
    "predictions = model.predict(X_test)\n",
    "print 'Accuracy: {}'.format(accuracy_score(np.argmax(Y_test, axis=1), np.argmax(predictions,axis=1)) )\n",
    "print 'Log-loss: {}'.format(log_loss(Y_test, predictions))"
   ]
  },
  {
   "cell_type": "code",
   "execution_count": null,
   "metadata": {
    "collapsed": true
   },
   "outputs": [],
   "source": [
    "analyze_errors(true_category, pred_category)"
   ]
  },
  {
   "cell_type": "markdown",
   "metadata": {},
   "source": [
    "<table border=1 class=\"dataframe\" align=\"left\">\n",
    "<thead>\n",
    " <tr style=text-align: left;>\n",
    "   <th></th>\n",
    "   <th>Error Rate</th>\n",
    "   <th>Total Session Counts</th>\n",
    " </tr>\n",
    " <tr>\n",
    "   <th>labels</th>\n",
    "   <th></th>\n",
    "   <th></th>\n",
    " </tr>\n",
    "</thead>\n",
    "<tbody>\n",
    " <tr>\n",
    "   <th>Upstairs</th>\n",
    "   <td>0.299539</td>\n",
    "   <td>434.0</td>\n",
    " </tr>\n",
    " <tr>\n",
    "   <th>Downstairs</th>\n",
    "   <td>0.277027</td>\n",
    "   <td>296.0</td>\n",
    " </tr>\n",
    " <tr>\n",
    "   <th>Sitting</th>\n",
    "   <td>0.067358</td>\n",
    "   <td>193.0</td>\n",
    " </tr>\n",
    " <tr>\n",
    "   <th>Standing</th>\n",
    "   <td>0.058442</td>\n",
    "   <td>154.0</td>\n",
    " </tr>\n",
    " <tr>\n",
    "   <th>Walking</th>\n",
    "   <td>0.046820</td>\n",
    "   <td>1431.0</td>\n",
    " </tr>\n",
    " <tr>\n",
    "   <th>Jogging</th>\n",
    "   <td>0.023936</td>\n",
    "   <td>1128.0</td>\n",
    " </tr>\n",
    "</tbody>\n",
    "</table>"
   ]
  },
  {
   "cell_type": "code",
   "execution_count": 76,
   "metadata": {
    "collapsed": false
   },
   "outputs": [
    {
     "data": {
      "image/png": "[encoded data removed]",
      "text/plain": [
       "<matplotlib.figure.Figure at 0x115cc9d50>"
      ]
     },
     "metadata": {},
     "output_type": "display_data"
    }
   ],
   "source": [
    "cm = confusion_matrix(true_category, pred_category)\n",
    "cm_normalized = cm.astype('float') / cm.sum(axis=1)[:, np.newaxis]\n",
    "plot_confusion_matrix(cm_normalized)"
   ]
  },
  {
   "cell_type": "markdown",
   "metadata": {},
   "source": [
    "### XGA Boost "
   ]
  },
  {
   "cell_type": "code",
   "execution_count": 78,
   "metadata": {
    "collapsed": true
   },
   "outputs": [],
   "source": [
    "import xgboost as xgb"
   ]
  },
  {
   "cell_type": "markdown",
   "metadata": {},
   "source": [
    "#### Compile model"
   ]
  },
  {
   "cell_type": "code",
   "execution_count": 93,
   "metadata": {
    "collapsed": false
   },
   "outputs": [
    {
     "name": "stderr",
     "output_type": "stream",
     "text": [
      "[0]\teval-mlogloss:0.760695\ttrain-mlogloss:0.754171\n",
      "[1]\teval-mlogloss:0.598930\ttrain-mlogloss:0.576739\n",
      "[2]\teval-mlogloss:0.520721\ttrain-mlogloss:0.481857\n",
      "[3]\teval-mlogloss:0.476041\ttrain-mlogloss:0.431687\n",
      "[4]\teval-mlogloss:0.445296\ttrain-mlogloss:0.394194\n",
      "[5]\teval-mlogloss:0.425401\ttrain-mlogloss:0.367310\n",
      "[6]\teval-mlogloss:0.406365\ttrain-mlogloss:0.345374\n",
      "[7]\teval-mlogloss:0.390670\ttrain-mlogloss:0.324867\n",
      "[8]\teval-mlogloss:0.379835\ttrain-mlogloss:0.307603\n",
      "[9]\teval-mlogloss:0.367803\ttrain-mlogloss:0.292929\n",
      "[10]\teval-mlogloss:0.358466\ttrain-mlogloss:0.282933\n",
      "[11]\teval-mlogloss:0.351205\ttrain-mlogloss:0.272443\n",
      "[12]\teval-mlogloss:0.343025\ttrain-mlogloss:0.261356\n",
      "[13]\teval-mlogloss:0.334049\ttrain-mlogloss:0.251744\n",
      "[14]\teval-mlogloss:0.325781\ttrain-mlogloss:0.244233\n",
      "[15]\teval-mlogloss:0.323674\ttrain-mlogloss:0.236684\n",
      "[16]\teval-mlogloss:0.317566\ttrain-mlogloss:0.229995\n",
      "[17]\teval-mlogloss:0.314826\ttrain-mlogloss:0.221644\n",
      "[18]\teval-mlogloss:0.311927\ttrain-mlogloss:0.215582\n",
      "[19]\teval-mlogloss:0.309836\ttrain-mlogloss:0.209789\n",
      "[20]\teval-mlogloss:0.306457\ttrain-mlogloss:0.205081\n",
      "[21]\teval-mlogloss:0.303188\ttrain-mlogloss:0.198328\n",
      "[22]\teval-mlogloss:0.300235\ttrain-mlogloss:0.193614\n",
      "[23]\teval-mlogloss:0.299268\ttrain-mlogloss:0.188594\n",
      "[24]\teval-mlogloss:0.295739\ttrain-mlogloss:0.184872\n",
      "[25]\teval-mlogloss:0.290899\ttrain-mlogloss:0.179426\n",
      "[26]\teval-mlogloss:0.289862\ttrain-mlogloss:0.175639\n",
      "[27]\teval-mlogloss:0.288180\ttrain-mlogloss:0.171256\n",
      "[28]\teval-mlogloss:0.287131\ttrain-mlogloss:0.167435\n",
      "[29]\teval-mlogloss:0.287217\ttrain-mlogloss:0.163234\n",
      "[30]\teval-mlogloss:0.286231\ttrain-mlogloss:0.159557\n",
      "[31]\teval-mlogloss:0.286510\ttrain-mlogloss:0.155322\n",
      "[32]\teval-mlogloss:0.287316\ttrain-mlogloss:0.152143\n",
      "[33]\teval-mlogloss:0.287394\ttrain-mlogloss:0.149020\n",
      "[34]\teval-mlogloss:0.283150\ttrain-mlogloss:0.144489\n",
      "[35]\teval-mlogloss:0.280729\ttrain-mlogloss:0.140424\n",
      "[36]\teval-mlogloss:0.277178\ttrain-mlogloss:0.137783\n",
      "[37]\teval-mlogloss:0.276388\ttrain-mlogloss:0.135344\n",
      "[38]\teval-mlogloss:0.273945\ttrain-mlogloss:0.132195\n",
      "[39]\teval-mlogloss:0.273883\ttrain-mlogloss:0.129855\n",
      "[40]\teval-mlogloss:0.272873\ttrain-mlogloss:0.126332\n",
      "[41]\teval-mlogloss:0.273050\ttrain-mlogloss:0.123681\n",
      "[42]\teval-mlogloss:0.273749\ttrain-mlogloss:0.121144\n",
      "[43]\teval-mlogloss:0.273228\ttrain-mlogloss:0.119207\n",
      "[44]\teval-mlogloss:0.273876\ttrain-mlogloss:0.116322\n",
      "[45]\teval-mlogloss:0.274529\ttrain-mlogloss:0.114873\n",
      "[46]\teval-mlogloss:0.274006\ttrain-mlogloss:0.113060\n",
      "[47]\teval-mlogloss:0.271708\ttrain-mlogloss:0.110624\n",
      "[48]\teval-mlogloss:0.271824\ttrain-mlogloss:0.107976\n",
      "[49]\teval-mlogloss:0.269971\ttrain-mlogloss:0.105206\n",
      "[50]\teval-mlogloss:0.269011\ttrain-mlogloss:0.103508\n",
      "[51]\teval-mlogloss:0.268647\ttrain-mlogloss:0.101348\n",
      "[52]\teval-mlogloss:0.267689\ttrain-mlogloss:0.099099\n",
      "[53]\teval-mlogloss:0.266235\ttrain-mlogloss:0.097313\n",
      "[54]\teval-mlogloss:0.268263\ttrain-mlogloss:0.095829\n",
      "[55]\teval-mlogloss:0.266893\ttrain-mlogloss:0.094159\n",
      "[56]\teval-mlogloss:0.267449\ttrain-mlogloss:0.092085\n",
      "[57]\teval-mlogloss:0.267082\ttrain-mlogloss:0.090863\n",
      "[58]\teval-mlogloss:0.266742\ttrain-mlogloss:0.089474\n",
      "[59]\teval-mlogloss:0.267346\ttrain-mlogloss:0.088364\n",
      "[60]\teval-mlogloss:0.266940\ttrain-mlogloss:0.086981\n",
      "[61]\teval-mlogloss:0.266155\ttrain-mlogloss:0.084899\n",
      "[62]\teval-mlogloss:0.266367\ttrain-mlogloss:0.083130\n",
      "[63]\teval-mlogloss:0.264817\ttrain-mlogloss:0.081268\n",
      "[64]\teval-mlogloss:0.265379\ttrain-mlogloss:0.079894\n",
      "[65]\teval-mlogloss:0.265487\ttrain-mlogloss:0.078596\n",
      "[66]\teval-mlogloss:0.264847\ttrain-mlogloss:0.077535\n",
      "[67]\teval-mlogloss:0.266814\ttrain-mlogloss:0.076712\n",
      "[68]\teval-mlogloss:0.266154\ttrain-mlogloss:0.075283\n",
      "[69]\teval-mlogloss:0.266549\ttrain-mlogloss:0.074017\n",
      "[70]\teval-mlogloss:0.267425\ttrain-mlogloss:0.072726\n",
      "[71]\teval-mlogloss:0.266833\ttrain-mlogloss:0.071605\n",
      "[72]\teval-mlogloss:0.265965\ttrain-mlogloss:0.070529\n",
      "[73]\teval-mlogloss:0.266369\ttrain-mlogloss:0.069372\n",
      "[74]\teval-mlogloss:0.268156\ttrain-mlogloss:0.068071\n",
      "[75]\teval-mlogloss:0.266225\ttrain-mlogloss:0.067064\n",
      "[76]\teval-mlogloss:0.266425\ttrain-mlogloss:0.066322\n",
      "[77]\teval-mlogloss:0.267465\ttrain-mlogloss:0.065291\n",
      "[78]\teval-mlogloss:0.268774\ttrain-mlogloss:0.064175\n",
      "[79]\teval-mlogloss:0.268974\ttrain-mlogloss:0.063161\n",
      "[80]\teval-mlogloss:0.267861\ttrain-mlogloss:0.062317\n",
      "[81]\teval-mlogloss:0.266995\ttrain-mlogloss:0.061553\n",
      "[82]\teval-mlogloss:0.266616\ttrain-mlogloss:0.060686\n",
      "[83]\teval-mlogloss:0.267410\ttrain-mlogloss:0.059429\n",
      "[84]\teval-mlogloss:0.267251\ttrain-mlogloss:0.058399\n",
      "[85]\teval-mlogloss:0.266109\ttrain-mlogloss:0.057444\n",
      "[86]\teval-mlogloss:0.262807\ttrain-mlogloss:0.056150\n",
      "[87]\teval-mlogloss:0.262712\ttrain-mlogloss:0.055463\n",
      "[88]\teval-mlogloss:0.263854\ttrain-mlogloss:0.054459\n",
      "[89]\teval-mlogloss:0.262981\ttrain-mlogloss:0.053523\n",
      "[90]\teval-mlogloss:0.263098\ttrain-mlogloss:0.052956\n",
      "[91]\teval-mlogloss:0.261858\ttrain-mlogloss:0.052277\n",
      "[92]\teval-mlogloss:0.260676\ttrain-mlogloss:0.051388\n",
      "[93]\teval-mlogloss:0.259405\ttrain-mlogloss:0.050596\n",
      "[94]\teval-mlogloss:0.258614\ttrain-mlogloss:0.049968\n",
      "[95]\teval-mlogloss:0.260250\ttrain-mlogloss:0.049508\n",
      "[96]\teval-mlogloss:0.261415\ttrain-mlogloss:0.048833\n",
      "[97]\teval-mlogloss:0.261036\ttrain-mlogloss:0.048091\n",
      "[98]\teval-mlogloss:0.258483\ttrain-mlogloss:0.047415\n",
      "[99]\teval-mlogloss:0.261043\ttrain-mlogloss:0.046557\n"
     ]
    }
   ],
   "source": [
    "dtrain = xgb.DMatrix( X_train, label=np.argmax(Y_train,axis=1))\n",
    "dtest = xgb.DMatrix( X_test, label=np.argmax(Y_test,axis=1))\n",
    "evallist  = [(dtest,'eval'), (dtrain,'train')]\n",
    "param = {'bst:max_depth':2, \n",
    "         'bst:eta':1, \n",
    "         'subsample':0.5, \n",
    "         'silent':1, \n",
    "         'num_class':6,\n",
    "         'objective':'multi:softprob' }\n",
    "param['eval_metric'] = 'mlogloss'\n",
    "model = xgb.train(param, dtrain, 100, evallist)"
   ]
  },
  {
   "cell_type": "markdown",
   "metadata": {},
   "source": [
    "#### Test accuracy"
   ]
  },
  {
   "cell_type": "code",
   "execution_count": 94,
   "metadata": {
    "collapsed": false
   },
   "outputs": [
    {
     "name": "stdout",
     "output_type": "stream",
     "text": [
      "Accuracy: 0.922442244224\n",
      "Log-loss: 0.261043025966\n"
     ]
    }
   ],
   "source": [
    "predictions = model.predict(dtest)\n",
    "print 'Accuracy: {}'.format(accuracy_score(np.argmax(Y_test, axis=1), np.argmax(predictions,axis=1)) )\n",
    "print 'Log-loss: {}'.format(log_loss(Y_test, predictions))"
   ]
  },
  {
   "cell_type": "markdown",
   "metadata": {
    "collapsed": true
   },
   "source": [
    "### RNN"
   ]
  },
  {
   "cell_type": "code",
   "execution_count": 8,
   "metadata": {
    "collapsed": false
   },
   "outputs": [
    {
     "name": "stderr",
     "output_type": "stream",
     "text": [
      "Using Theano backend.\n"
     ]
    }
   ],
   "source": [
    "from keras.layers.core import Flatten\n",
    "from keras.layers.recurrent import GRU"
   ]
  },
  {
   "cell_type": "code",
   "execution_count": 18,
   "metadata": {
    "collapsed": false
   },
   "outputs": [],
   "source": [
    "session_length = 100\n",
    "nnum = (actitracker.shape[0]//session_length)\n",
    "lim = nnum * session_length\n",
    "X = actitracker.iloc[:lim,:][['x-accel','y-accel','z-accel']].as_matrix()\n",
    "Y = actitracker.iloc[:lim,:].groupby(['session'])['activity'].apply(lambda x: max(x))\n",
    "ohe = OneHotEncoder(sparse=False); le = LabelEncoder()\n",
    "Y = ohe.fit_transform(le.fit_transform(Y.iloc[:lim]).reshape(-1,1))\n",
    "X = X[:lim].T.reshape((nnum, session_length, 3))"
   ]
  },
  {
   "cell_type": "code",
   "execution_count": null,
   "metadata": {
    "collapsed": false
   },
   "outputs": [],
   "source": [
    "model = Sequential()\n",
    "model.add(GRU(32, return_sequences=True, input_dim=3, input_length=session_length, dropout_W=.5, dropout_U=.5))\n",
    "model.add(GRU(32, return_sequences=True, dropout_W=.5, dropout_U=.5))\n",
    "model.add(GRU(32, dropout_W=.5, dropout_U=.5))\n",
    "model.add(Dense(64, activation='relu'))\n",
    "model.add(Dense(6))\n",
    "model.compile(loss='mean_squared_error',\n",
    "              optimizer='adam',\n",
    "              metrics=['accuracy'])"
   ]
  },
  {
   "cell_type": "code",
   "execution_count": null,
   "metadata": {
    "collapsed": true
   },
   "outputs": [],
   "source": [
    "indices = np.random.permutation(nnum)\n",
    "train, test = indices[:(nnum//3)*2], indices[(nnum//3)*2:]"
   ]
  },
  {
   "cell_type": "code",
   "execution_count": null,
   "metadata": {
    "collapsed": true
   },
   "outputs": [],
   "source": [
    "model.fit(X[train], Y[train],\n",
    "          nb_epoch=20,\n",
    "          batch_size=20)"
   ]
  },
  {
   "cell_type": "code",
   "execution_count": null,
   "metadata": {
    "collapsed": true
   },
   "outputs": [],
   "source": [
    "predictions = model.predict(X[test])\n",
    "print 'Accuracy: {}'.format(accuracy_score(np.argmax(Y[test], axis=1), np.argmax(predictions,axis=1)) )\n",
    "print 'Log-loss: {}'.format(log_loss(Y[test], predictions))"
   ]
  }
 ],
 "metadata": {
  "kernelspec": {
   "display_name": "Python 2",
   "language": "python",
   "name": "python2"
  },
  "language_info": {
   "codemirror_mode": {
    "name": "ipython",
    "version": 2
   },
   "file_extension": ".py",
   "mimetype": "text/x-python",
   "name": "python",
   "nbconvert_exporter": "python",
   "pygments_lexer": "ipython2",
   "version": "2.7.12"
  }
 },
 "nbformat": 4,
 "nbformat_minor": 0
}
