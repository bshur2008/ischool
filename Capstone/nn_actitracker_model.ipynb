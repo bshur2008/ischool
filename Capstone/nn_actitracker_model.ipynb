{
 "cells": [
  {
   "cell_type": "markdown",
   "metadata": {},
   "source": [
    "## Actitracker labeled dataset NN model\n",
    "This model will use keras to predict activity from sessionized accelerometer data, via the actitracker dataset (http://www.cis.fordham.edu/wisdm/dataset.php). "
   ]
  },
  {
   "cell_type": "markdown",
   "metadata": {},
   "source": [
    "### Load libraries"
   ]
  },
  {
   "cell_type": "code",
   "execution_count": 2,
   "metadata": {
    "collapsed": false
   },
   "outputs": [
    {
     "name": "stderr",
     "output_type": "stream",
     "text": [
      ":0: FutureWarning: IPython widgets are experimental and may change in the future.\n"
     ]
    }
   ],
   "source": [
    "import pandas as pd\n",
    "import numpy as np\n",
    "import seaborn as sns\n",
    "import scipy as sp\n",
    "from sklearn.preprocessing import OneHotEncoder, LabelEncoder\n",
    "%matplotlib inline"
   ]
  },
  {
   "cell_type": "markdown",
   "metadata": {},
   "source": [
    "### Data load"
   ]
  },
  {
   "cell_type": "code",
   "execution_count": 3,
   "metadata": {
    "collapsed": false
   },
   "outputs": [],
   "source": [
    "DATA_FOLDER = 'Data/WISDM_ar_v1.1/'\n",
    "DATA_FILE = 'raw_data_fixed.txt'\n",
    "actitracker = pd.read_csv(\n",
    "    DATA_FOLDER+DATA_FILE ,\n",
    "    sep=',' ,\n",
    "    lineterminator=';' ,\n",
    "    header=None ,\n",
    ")\n",
    "actitracker.columns = [\n",
    "    'user' ,\n",
    "    'activity' ,\n",
    "    'timestamp' ,\n",
    "    'x-accel' ,\n",
    "    'y-accel' ,\n",
    "    'z-accel' ,\n",
    "    'NA' ,\n",
    "]\n",
    "del actitracker['NA']\n",
    "accel_cols = ['x-accel','y-accel','z-accel']"
   ]
  },
  {
   "cell_type": "markdown",
   "metadata": {},
   "source": [
    "### Sessionize data and gather labels"
   ]
  },
  {
   "cell_type": "code",
   "execution_count": 4,
   "metadata": {
    "collapsed": false
   },
   "outputs": [
    {
     "name": "stderr",
     "output_type": "stream",
     "text": [
      "/Library/Python/2.7/site-packages/numpy/core/fromnumeric.py:2652: VisibleDeprecationWarning: `rank` is deprecated; use the `ndim` attribute or function instead. To find the rank of a matrix see `numpy.linalg.matrix_rank`.\n",
      "  VisibleDeprecationWarning)\n"
     ]
    }
   ],
   "source": [
    "# re-calculate time in seconds\n",
    "actitracker['time_seconds'] = actitracker['timestamp']*10e-9\n",
    "\n",
    "# sort by user and time \n",
    "actitracker = actitracker.sort_values(by=['user','time_seconds'])\n",
    "actitracker['seq'] = xrange(actitracker.shape[0])\n",
    "actitracker['session'] = actitracker.groupby(['user','activity'])['seq'].apply(lambda x: x%500 == 0).fillna(0).cumsum()\n",
    "\n",
    "# get session_labels \n",
    "ohe = OneHotEncoder(sparse=False); le = LabelEncoder()\n",
    "labels = actitracker.groupby(['user','session'])['activity'].apply(lambda x: max(x))\n",
    "ohe_labels = ohe.fit_transform(le.fit_transform(labels).reshape(-1,1))\n",
    "Y = pd.DataFrame(ohe_labels,index=labels.index)"
   ]
  },
  {
   "cell_type": "markdown",
   "metadata": {},
   "source": [
    "### Calculate features "
   ]
  },
  {
   "cell_type": "code",
   "execution_count": 5,
   "metadata": {
    "collapsed": false
   },
   "outputs": [],
   "source": [
    "# group by user and session\n",
    "accel_cols = ['x-accel','y-accel','z-accel']\n",
    "g = actitracker.loc[:,accel_cols+['user','session']].groupby(['user','session'])\n",
    "\n",
    "# calculate model cols\n",
    "means = g[accel_cols].apply(lambda x: np.mean(x))\n",
    "sds = g[accel_cols].apply(lambda x: np.std(x))\n",
    "median_1 = g[accel_cols[0]].apply(lambda x: np.median(x))\n",
    "median_2 = g[accel_cols[1]].apply(lambda x: np.median(x))\n",
    "median_3 = g[accel_cols[2]].apply(lambda x: np.median(x))\n",
    "mins = g[accel_cols].apply(lambda x: np.min(x))\n",
    "maxs = g[accel_cols].apply(lambda x: np.max(x))\n",
    "\n",
    "# label columns \n",
    "means.columns = means.columns.map(lambda x: x+'_mean')\n",
    "sds.columns = sds.columns.map(lambda x: x+'_sd')\n",
    "mins.columns = mins.columns.map(lambda x: x+'_min')\n",
    "maxs.columns = mins.columns.map(lambda x: x+'_max')\n",
    "\n",
    "# concat columns\n",
    "X = pd.concat((means,sds,median_1,median_2,median_3,mins,maxs),axis=1)"
   ]
  },
  {
   "cell_type": "markdown",
   "metadata": {},
   "source": [
    "### Neural Network Model"
   ]
  },
  {
   "cell_type": "code",
   "execution_count": 68,
   "metadata": {
    "collapsed": false
   },
   "outputs": [],
   "source": [
    "from keras.models import Sequential\n",
    "from keras.layers import Dense, Dropout, Activation\n",
    "from sklearn.cross_validation import train_test_split\n",
    "from sklearn.metrics import accuracy_score\n",
    "from sklearn.metrics import log_loss\n",
    "from keras.layers.recurrent import LSTM"
   ]
  },
  {
   "cell_type": "markdown",
   "metadata": {},
   "source": [
    "#### Compile model"
   ]
  },
  {
   "cell_type": "code",
   "execution_count": null,
   "metadata": {
    "collapsed": false
   },
   "outputs": [],
   "source": [
    "model = Sequential()\n",
    "\n",
    "model.add(Dense(512*8, input_dim=15, activation='relu'))\n",
    "model.add(Dropout(0.5))\n",
    "model.add(Dense(512*12, activation='relu'))\n",
    "model.add(Dropout(0.5))\n",
    "model.add(Dense(6, activation='softmax'))\n",
    "\n",
    "model.compile(loss='categorical_crossentropy',\n",
    "              optimizer='sgd',\n",
    "              metrics=['accuracy'])"
   ]
  },
  {
   "cell_type": "markdown",
   "metadata": {},
   "source": [
    "#### Execute model"
   ]
  },
  {
   "cell_type": "code",
   "execution_count": 64,
   "metadata": {
    "collapsed": false
   },
   "outputs": [
    {
     "name": "stdout",
     "output_type": "stream",
     "text": [
      "Epoch 1/20\n",
      "1495/1495 [==============================] - 16s - loss: 1.3824 - acc: 0.5639    \n",
      "Epoch 2/20\n",
      "1495/1495 [==============================] - 15s - loss: 0.9185 - acc: 0.6682    \n",
      "Epoch 3/20\n",
      "1495/1495 [==============================] - 15s - loss: 0.8390 - acc: 0.6983    \n",
      "Epoch 4/20\n",
      "1495/1495 [==============================] - 15s - loss: 0.8126 - acc: 0.7017    \n",
      "Epoch 5/20\n",
      "1495/1495 [==============================] - 15s - loss: 0.7651 - acc: 0.7264    \n",
      "Epoch 6/20\n",
      "1495/1495 [==============================] - 16s - loss: 0.7536 - acc: 0.7311    \n",
      "Epoch 7/20\n",
      "1495/1495 [==============================] - 16s - loss: 0.7187 - acc: 0.7452    \n",
      "Epoch 8/20\n",
      "1495/1495 [==============================] - 16s - loss: 0.6964 - acc: 0.7545    \n",
      "Epoch 9/20\n",
      "1495/1495 [==============================] - 16s - loss: 0.6930 - acc: 0.7532    \n",
      "Epoch 10/20\n",
      "1495/1495 [==============================] - 16s - loss: 0.6722 - acc: 0.7625    \n",
      "Epoch 11/20\n",
      "1495/1495 [==============================] - 16s - loss: 0.6487 - acc: 0.7639    \n",
      "Epoch 12/20\n",
      "1495/1495 [==============================] - 15s - loss: 0.6531 - acc: 0.7719    \n",
      "Epoch 13/20\n",
      "1495/1495 [==============================] - 15s - loss: 0.6490 - acc: 0.7686    \n",
      "Epoch 14/20\n",
      "1495/1495 [==============================] - 15s - loss: 0.6307 - acc: 0.7833    \n",
      "Epoch 15/20\n",
      "1495/1495 [==============================] - 15s - loss: 0.6092 - acc: 0.7766    \n",
      "Epoch 16/20\n",
      "1495/1495 [==============================] - 16s - loss: 0.6027 - acc: 0.7960    \n",
      "Epoch 17/20\n",
      "1495/1495 [==============================] - 16s - loss: 0.6066 - acc: 0.7853    \n",
      "Epoch 18/20\n",
      "1495/1495 [==============================] - 16s - loss: 0.6043 - acc: 0.7886    \n",
      "Epoch 19/20\n",
      "1495/1495 [==============================] - 16s - loss: 0.6146 - acc: 0.7846    \n",
      "Epoch 20/20\n",
      "1495/1495 [==============================] - 16s - loss: 0.5714 - acc: 0.8094    \n"
     ]
    },
    {
     "data": {
      "text/plain": [
       "<keras.callbacks.History at 0x10ed65990>"
      ]
     },
     "execution_count": 64,
     "metadata": {},
     "output_type": "execute_result"
    }
   ],
   "source": [
    "X_train, X_test, Y_train, Y_test = train_test_split(X.as_matrix(), Y.as_matrix(), test_size=0.33, random_state=22)\n",
    "model.fit(X_train, Y_train,\n",
    "          nb_epoch=20,\n",
    "          batch_size=20)"
   ]
  },
  {
   "cell_type": "code",
   "execution_count": 66,
   "metadata": {
    "collapsed": false
   },
   "outputs": [
    {
     "name": "stdout",
     "output_type": "stream",
     "text": [
      "Accuracy: 0.791044776119\n",
      "Log-loss: 0.564882863071\n"
     ]
    }
   ],
   "source": [
    "predictions = model.predict(X_test)\n",
    "print 'Accuracy: {}'.format(accuracy_score(np.argmax(Y_test, axis=1), np.argmax(predictions,axis=1)) )\n",
    "print 'Log-loss: {}'.format(log_loss(Y_test, predictions))"
   ]
  }
 ],
 "metadata": {
  "kernelspec": {
   "display_name": "Python 2",
   "language": "python",
   "name": "python2"
  },
  "language_info": {
   "codemirror_mode": {
    "name": "ipython",
    "version": 2
   },
   "file_extension": ".py",
   "mimetype": "text/x-python",
   "name": "python",
   "nbconvert_exporter": "python",
   "pygments_lexer": "ipython2",
   "version": "2.7.10"
  }
 },
 "nbformat": 4,
 "nbformat_minor": 0
}
