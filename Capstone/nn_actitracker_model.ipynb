{
 "cells": [
  {
   "cell_type": "markdown",
   "metadata": {},
   "source": [
    "## Actitracker labeled dataset NN model\n",
    "This model will use keras to predict activity from sessionized accelerometer data, via the actitracker dataset (http://www.cis.fordham.edu/wisdm/dataset.php). "
   ]
  },
  {
   "cell_type": "markdown",
   "metadata": {},
   "source": [
    "### Data Processing"
   ]
  },
  {
   "cell_type": "code",
   "execution_count": 184,
   "metadata": {
    "collapsed": false
   },
   "outputs": [],
   "source": [
    "import pandas as pd\n",
    "import numpy as np\n",
    "import scipy as sp\n",
    "from sklearn.preprocessing import OneHotEncoder, LabelEncoder\n",
    "from sklearn.preprocessing import MinMaxScaler, StandardScaler\n",
    "from sklearn.cross_validation import train_test_split\n",
    "from sklearn.metrics import accuracy_score\n",
    "from sklearn.metrics import log_loss\n",
    "import matplotlib.pylab as plt\n",
    "from math import log\n",
    "import seaborn as sns\n",
    "%matplotlib inline"
   ]
  },
  {
   "cell_type": "markdown",
   "metadata": {},
   "source": [
    "#### Data load"
   ]
  },
  {
   "cell_type": "code",
   "execution_count": 185,
   "metadata": {
    "collapsed": false
   },
   "outputs": [],
   "source": [
    "DATA_FOLDER = 'Data/WISDM_ar_v1.1/'\n",
    "DATA_FILE = 'raw_data_fixed.txt'\n",
    "actitracker = pd.read_csv(\n",
    "    DATA_FOLDER+DATA_FILE ,\n",
    "    sep=',' ,\n",
    "    lineterminator=';' ,\n",
    "    header=None ,\n",
    ")\n",
    "actitracker.columns = [\n",
    "    'user' ,\n",
    "    'activity' ,\n",
    "    'timestamp' ,\n",
    "    'x-accel' ,\n",
    "    'y-accel' ,\n",
    "    'z-accel' ,\n",
    "    'NA' ,\n",
    "]\n",
    "del actitracker['NA']\n",
    "accel_cols = ['x-accel','y-accel','z-accel']"
   ]
  },
  {
   "cell_type": "markdown",
   "metadata": {},
   "source": [
    "#### Sessionize "
   ]
  },
  {
   "cell_type": "code",
   "execution_count": 186,
   "metadata": {
    "collapsed": false
   },
   "outputs": [],
   "source": [
    "# re-calculate time in seconds\n",
    "actitracker['time_seconds'] = actitracker['timestamp']*10e-9\n",
    "\n",
    "# sort by user and time \n",
    "session_length = 100\n",
    "actitracker = actitracker.sort_values(by=['user','time_seconds'])\n",
    "\n",
    "# create sessions\n",
    "actitracker['seq'] = xrange(actitracker.shape[0])\n",
    "actitracker['session'] = actitracker.\\\n",
    "                           groupby(['user','activity'])['seq'].\\\n",
    "                           apply(lambda x: x%session_length == 0).\\\n",
    "                           fillna(0).cumsum()"
   ]
  },
  {
   "cell_type": "markdown",
   "metadata": {},
   "source": [
    "#### Gather labels"
   ]
  },
  {
   "cell_type": "code",
   "execution_count": 187,
   "metadata": {
    "collapsed": false
   },
   "outputs": [],
   "source": [
    "# get session_labels \n",
    "ohe = OneHotEncoder(sparse=False); le = LabelEncoder()\n",
    "labels = actitracker.groupby(['user','session'])['activity'].apply(lambda x: max(x))\n",
    "le_labels = le.fit_transform(labels)\n",
    "ohe_labels = ohe.fit_transform(le_labels.reshape(-1,1))\n",
    "label_lookup = { k: v for k,v in set((i, v) for i,v in np.vstack((le_labels,labels)).T) }\n",
    "Y = pd.DataFrame(ohe_labels,index=labels.index)"
   ]
  },
  {
   "cell_type": "code",
   "execution_count": 188,
   "metadata": {
    "collapsed": false
   },
   "outputs": [
    {
     "data": {
      "text/plain": [
       "{0: 'Downstairs',\n",
       " 1: 'Jogging',\n",
       " 2: 'Sitting',\n",
       " 3: 'Standing',\n",
       " 4: 'Upstairs',\n",
       " 5: 'Walking'}"
      ]
     },
     "execution_count": 188,
     "metadata": {},
     "output_type": "execute_result"
    }
   ],
   "source": [
    "label_lookup"
   ]
  },
  {
   "cell_type": "markdown",
   "metadata": {},
   "source": [
    "#### Calculate features "
   ]
  },
  {
   "cell_type": "code",
   "execution_count": 189,
   "metadata": {
    "collapsed": false
   },
   "outputs": [],
   "source": [
    "# group by user and session\n",
    "accel_cols = ['x-accel','y-accel','z-accel']\n",
    "g = actitracker.loc[:,accel_cols+['user','session']].groupby(['user','session'])\n",
    "\n",
    "# IQR function\n",
    "def iqr(x):\n",
    "    ''' calculate IQR from array\n",
    "    '''\n",
    "    q75, q25 = np.percentile(x, [75,25])\n",
    "    return q75-q25\n",
    "\n",
    "# calculate model cols \n",
    "means = g[accel_cols].apply(lambda x: np.mean(x))\n",
    "sds = g[accel_cols].apply(lambda x: np.std(x))\n",
    "median_1 = g[accel_cols[0]].apply(lambda x: np.median(x))\n",
    "median_2 = g[accel_cols[1]].apply(lambda x: np.median(x))\n",
    "median_3 = g[accel_cols[2]].apply(lambda x: np.median(x))\n",
    "iqr_1 = g[accel_cols[0]].apply(lambda x: iqr(x))\n",
    "iqr_2 = g[accel_cols[1]].apply(lambda x: iqr(x))\n",
    "iqr_3 = g[accel_cols[2]].apply(lambda x: iqr(x))\n",
    "mins = g[accel_cols].apply(lambda x: np.min(x))\n",
    "maxs = g[accel_cols].apply(lambda x: np.max(x))\n",
    "kurtosis_1 = g[accel_cols[0]].apply(lambda x: sp.stats.kurtosis(x))\n",
    "kurtosis_2 = g[accel_cols[1]].apply(lambda x: sp.stats.kurtosis(x))\n",
    "kurtosis_3 = g[accel_cols[2]].apply(lambda x: sp.stats.kurtosis(x))\n",
    "skew_1 = g[accel_cols[0]].apply(lambda x: sp.stats.skew(x))\n",
    "skew_2 = g[accel_cols[1]].apply(lambda x: sp.stats.skew(x))\n",
    "skew_3 = g[accel_cols[2]].apply(lambda x: sp.stats.skew(x))\n",
    "percentiles = []\n",
    "for i in range(10,100,10):\n",
    "    for e in range(1,4):\n",
    "        percentiles.append(eval('g[accel_cols['+str(e-1)+']].apply(lambda x: sp.percentile(x,'+str(i)+'))'))\n",
    "\n",
    "# concat columns\n",
    "X = pd.concat([means,\n",
    "               sds,\n",
    "               median_1,\n",
    "               median_2,\n",
    "               median_3,\n",
    "               iqr_1,\n",
    "               iqr_2,\n",
    "               iqr_3,\n",
    "               mins,\n",
    "               maxs,\n",
    "               kurtosis_1,\n",
    "               kurtosis_2,\n",
    "               kurtosis_3,\n",
    "               skew_1,\n",
    "               skew_2,\n",
    "               skew_3,\n",
    "              ]+percentiles\n",
    "              ,axis=1)\n",
    "\n",
    "# Scale data\n",
    "ss = StandardScaler()\n",
    "X = ss.fit_transform(X)"
   ]
  },
  {
   "cell_type": "markdown",
   "metadata": {},
   "source": [
    "#### Split test and train"
   ]
  },
  {
   "cell_type": "code",
   "execution_count": 190,
   "metadata": {
    "collapsed": false
   },
   "outputs": [],
   "source": [
    "X_train, X_test, Y_train, Y_test = train_test_split(X, Y.as_matrix(), test_size=0.33, random_state=22)"
   ]
  },
  {
   "cell_type": "markdown",
   "metadata": {},
   "source": [
    "### Baseline LR Model"
   ]
  },
  {
   "cell_type": "code",
   "execution_count": 207,
   "metadata": {
    "collapsed": true
   },
   "outputs": [],
   "source": [
    "from sklearn.linear_model import LogisticRegression\n",
    "\n",
    "def train_models(model_params):\n",
    "    ''' Train models iteratively \n",
    "        for each class\n",
    "    '''\n",
    "    models = [] \n",
    "    for i in xrange(Y_train.shape[1]):\n",
    "        model = LogisticRegression(**model_params)\n",
    "        y = Y_train[:,i]\n",
    "        model.fit(X_train, y)\n",
    "        models.append(model)\n",
    "    return models\n",
    "\n",
    "def make_predictions(models):\n",
    "    ''' Make predictions \n",
    "        for each class \n",
    "    '''\n",
    "    predictions = np.zeros(Y_test.shape)\n",
    "    for i, model in enumerate(models):\n",
    "        p = model.predict_proba(X_test)\n",
    "        predictions[:,i] = p[:,1]\n",
    "    return predictions\n",
    "\n",
    "get_label = np.vectorize(lambda x: label_lookup[x])\n",
    "\n",
    "def analyze_errors(pred_category, true_category, get_label=get_label):\n",
    "    errors = pred_category != true_category\n",
    "    true_labels = get_label(true_category)\n",
    "    base = np.ones(true_labels.shape)\n",
    "    error_base = pd.DataFrame({'errors':errors,\n",
    "                      'labels':true_labels,\n",
    "                      'base':base})\n",
    "    b = error_base.groupby('labels').sum()\n",
    "    error_rates = pd.DataFrame((b['errors']/b['base']).sort_values(ascending=False), columns=['Error Rate'])\n",
    "    error_rates['Total Session Counts'] = b['base']\n",
    "    return error_rates"
   ]
  },
  {
   "cell_type": "markdown",
   "metadata": {},
   "source": [
    "#### Evaluate model params"
   ]
  },
  {
   "cell_type": "code",
   "execution_count": 209,
   "metadata": {
    "collapsed": false
   },
   "outputs": [],
   "source": [
    "c_values = [ 0.1, 1.0, 5.0, 10.0, 15.0, 25.0, 50.0, 100.0, 500.0, 1000.0, 10000.0 ]\n",
    "accuracies = []\n",
    "log_losses = []\n",
    "for c in c_values:\n",
    "    params = {'C':c,'max_iter':1000,'tol':1e-8}\n",
    "    models = train_models(params)\n",
    "    predictions = make_predictions(models)\n",
    "    accuracy = accuracy_score(np.argmax(Y_test, axis=1), np.argmax(predictions,axis=1))\n",
    "    ll = log_loss(Y_test, predictions)\n",
    "    accuracies.append(accuracy)\n",
    "    log_losses.append(ll)"
   ]
  },
  {
   "cell_type": "code",
   "execution_count": 210,
   "metadata": {
    "collapsed": false
   },
   "outputs": [
    {
     "data": {
      "text/html": [
       "<div>\n",
       "<table border=\"1\" class=\"dataframe\">\n",
       "  <thead>\n",
       "    <tr style=\"text-align: right;\">\n",
       "      <th></th>\n",
       "      <th>C</th>\n",
       "      <th>accuracy</th>\n",
       "      <th>log_loss</th>\n",
       "    </tr>\n",
       "  </thead>\n",
       "  <tbody>\n",
       "    <tr>\n",
       "      <th>0</th>\n",
       "      <td>0.1</td>\n",
       "      <td>0.823432</td>\n",
       "      <td>0.573227</td>\n",
       "    </tr>\n",
       "    <tr>\n",
       "      <th>1</th>\n",
       "      <td>1.0</td>\n",
       "      <td>0.838284</td>\n",
       "      <td>0.529065</td>\n",
       "    </tr>\n",
       "    <tr>\n",
       "      <th>2</th>\n",
       "      <td>5.0</td>\n",
       "      <td>0.840759</td>\n",
       "      <td>0.524077</td>\n",
       "    </tr>\n",
       "    <tr>\n",
       "      <th>3</th>\n",
       "      <td>10.0</td>\n",
       "      <td>0.841309</td>\n",
       "      <td>0.524394</td>\n",
       "    </tr>\n",
       "    <tr>\n",
       "      <th>4</th>\n",
       "      <td>15.0</td>\n",
       "      <td>0.841309</td>\n",
       "      <td>0.524943</td>\n",
       "    </tr>\n",
       "    <tr>\n",
       "      <th>5</th>\n",
       "      <td>25.0</td>\n",
       "      <td>0.840484</td>\n",
       "      <td>0.525880</td>\n",
       "    </tr>\n",
       "    <tr>\n",
       "      <th>6</th>\n",
       "      <td>50.0</td>\n",
       "      <td>0.840209</td>\n",
       "      <td>0.527427</td>\n",
       "    </tr>\n",
       "    <tr>\n",
       "      <th>7</th>\n",
       "      <td>100.0</td>\n",
       "      <td>0.841309</td>\n",
       "      <td>0.529344</td>\n",
       "    </tr>\n",
       "    <tr>\n",
       "      <th>8</th>\n",
       "      <td>500.0</td>\n",
       "      <td>0.841034</td>\n",
       "      <td>0.535144</td>\n",
       "    </tr>\n",
       "    <tr>\n",
       "      <th>9</th>\n",
       "      <td>1000.0</td>\n",
       "      <td>0.841034</td>\n",
       "      <td>0.537270</td>\n",
       "    </tr>\n",
       "    <tr>\n",
       "      <th>10</th>\n",
       "      <td>10000.0</td>\n",
       "      <td>0.841309</td>\n",
       "      <td>0.540622</td>\n",
       "    </tr>\n",
       "  </tbody>\n",
       "</table>\n",
       "</div>"
      ],
      "text/plain": [
       "          C  accuracy  log_loss\n",
       "0       0.1  0.823432  0.573227\n",
       "1       1.0  0.838284  0.529065\n",
       "2       5.0  0.840759  0.524077\n",
       "3      10.0  0.841309  0.524394\n",
       "4      15.0  0.841309  0.524943\n",
       "5      25.0  0.840484  0.525880\n",
       "6      50.0  0.840209  0.527427\n",
       "7     100.0  0.841309  0.529344\n",
       "8     500.0  0.841034  0.535144\n",
       "9    1000.0  0.841034  0.537270\n",
       "10  10000.0  0.841309  0.540622"
      ]
     },
     "execution_count": 210,
     "metadata": {},
     "output_type": "execute_result"
    }
   ],
   "source": [
    "pd.DataFrame({'C':c_values,'accuracy':accuracies,'log_loss':log_losses})"
   ]
  },
  {
   "cell_type": "code",
   "execution_count": 211,
   "metadata": {
    "collapsed": false
   },
   "outputs": [
    {
     "data": {
      "image/png": "[encoded data removed]",
      "text/plain": [
       "<matplotlib.figure.Figure at 0x116e1bdd0>"
      ]
     },
     "metadata": {},
     "output_type": "display_data"
    }
   ],
   "source": [
    "def lr_param_charts():\n",
    "    plt.figure(figsize=(14, 4))\n",
    "    plt.subplot(1,2,1)\n",
    "    plt.plot(np.log(c_values), accuracies, 'g')\n",
    "    plt.title(\"Change in Accuracy with Decreasing Regularization\")\n",
    "    plt.xlabel(\"Log of Inv. Regularization Strength (C)\")\n",
    "    plt.ylabel(\"Accuracy\")\n",
    "    plt.subplot(1,2,2)\n",
    "    plt.plot(np.log(c_values), log_losses, 'b')\n",
    "    plt.title(\"Change in Log-loss with Decreasing Regularization\")\n",
    "    plt.xlabel(\"Log of Inv. Regularization Strength (C)\")\n",
    "    plt.ylabel(\"Log-loss\")\n",
    "\n",
    "lr_param_charts()"
   ]
  },
  {
   "cell_type": "markdown",
   "metadata": {},
   "source": [
    "#### Train final model"
   ]
  },
  {
   "cell_type": "code",
   "execution_count": 212,
   "metadata": {
    "collapsed": false
   },
   "outputs": [],
   "source": [
    "params = {'C':10.0,'max_iter':1000,'tol':1e-8,'solver':'lbfgs'}\n",
    "models = train_models(params)"
   ]
  },
  {
   "cell_type": "markdown",
   "metadata": {},
   "source": [
    "#### Test prediction accuracy"
   ]
  },
  {
   "cell_type": "code",
   "execution_count": 213,
   "metadata": {
    "collapsed": true
   },
   "outputs": [],
   "source": [
    "predictions = make_predictions(models)\n",
    "pred_category = np.argmax(predictions, axis=1)\n",
    "true_category = np.argmax(Y_test, axis=1)"
   ]
  },
  {
   "cell_type": "code",
   "execution_count": 214,
   "metadata": {
    "collapsed": false
   },
   "outputs": [
    {
     "name": "stdout",
     "output_type": "stream",
     "text": [
      "Accuracy: 0.841309130913\n",
      "Log-loss: 0.524565689825\n"
     ]
    }
   ],
   "source": [
    "print 'Accuracy: {}'.format(accuracy_score(true_category, pred_category ))\n",
    "print 'Log-loss: {}'.format(log_loss(Y_test, predictions))"
   ]
  },
  {
   "cell_type": "markdown",
   "metadata": {},
   "source": [
    "#### Analyze errors"
   ]
  },
  {
   "cell_type": "code",
   "execution_count": 215,
   "metadata": {
    "collapsed": false
   },
   "outputs": [
    {
     "data": {
      "text/html": [
       "<div>\n",
       "<table border=\"1\" class=\"dataframe\">\n",
       "  <thead>\n",
       "    <tr style=\"text-align: right;\">\n",
       "      <th></th>\n",
       "      <th>Error Rate</th>\n",
       "      <th>Total Session Counts</th>\n",
       "    </tr>\n",
       "    <tr>\n",
       "      <th>labels</th>\n",
       "      <th></th>\n",
       "      <th></th>\n",
       "    </tr>\n",
       "  </thead>\n",
       "  <tbody>\n",
       "    <tr>\n",
       "      <th>Upstairs</th>\n",
       "      <td>0.536866</td>\n",
       "      <td>434.0</td>\n",
       "    </tr>\n",
       "    <tr>\n",
       "      <th>Downstairs</th>\n",
       "      <td>0.479730</td>\n",
       "      <td>296.0</td>\n",
       "    </tr>\n",
       "    <tr>\n",
       "      <th>Sitting</th>\n",
       "      <td>0.113990</td>\n",
       "      <td>193.0</td>\n",
       "    </tr>\n",
       "    <tr>\n",
       "      <th>Standing</th>\n",
       "      <td>0.090909</td>\n",
       "      <td>154.0</td>\n",
       "    </tr>\n",
       "    <tr>\n",
       "      <th>Walking</th>\n",
       "      <td>0.088050</td>\n",
       "      <td>1431.0</td>\n",
       "    </tr>\n",
       "    <tr>\n",
       "      <th>Jogging</th>\n",
       "      <td>0.035461</td>\n",
       "      <td>1128.0</td>\n",
       "    </tr>\n",
       "  </tbody>\n",
       "</table>\n",
       "</div>"
      ],
      "text/plain": [
       "            Error Rate  Total Session Counts\n",
       "labels                                      \n",
       "Upstairs      0.536866                 434.0\n",
       "Downstairs    0.479730                 296.0\n",
       "Sitting       0.113990                 193.0\n",
       "Standing      0.090909                 154.0\n",
       "Walking       0.088050                1431.0\n",
       "Jogging       0.035461                1128.0"
      ]
     },
     "execution_count": 215,
     "metadata": {},
     "output_type": "execute_result"
    }
   ],
   "source": [
    "analyze_errors(pred_category, true_category)"
   ]
  },
  {
   "cell_type": "markdown",
   "metadata": {},
   "source": [
    "### MLP Neural Network Model"
   ]
  },
  {
   "cell_type": "code",
   "execution_count": 3,
   "metadata": {
    "collapsed": false
   },
   "outputs": [],
   "source": [
    "from keras.models import Sequential\n",
    "from keras.layers import Dense, Dropout"
   ]
  },
  {
   "cell_type": "markdown",
   "metadata": {},
   "source": [
    "#### Compile model"
   ]
  },
  {
   "cell_type": "code",
   "execution_count": 33,
   "metadata": {
    "collapsed": false
   },
   "outputs": [],
   "source": [
    "model = Sequential()\n",
    "\n",
    "indim = X.shape[1]\n",
    "model.add(Dense(512*4, input_dim=indim, activation='relu'))\n",
    "model.add(Dropout(0.5))\n",
    "model.add(Dense(512*12, activation='relu'))\n",
    "model.add(Dropout(0.5))\n",
    "model.add(Dense(512*4, activation='relu'))\n",
    "model.add(Dropout(0.5))\n",
    "model.add(Dense(6, activation='softmax'))\n",
    "\n",
    "model.compile(loss='categorical_crossentropy',\n",
    "              optimizer='sgd',\n",
    "              metrics=['accuracy'])"
   ]
  },
  {
   "cell_type": "markdown",
   "metadata": {},
   "source": [
    "#### Execute model"
   ]
  },
  {
   "cell_type": "code",
   "execution_count": 34,
   "metadata": {
    "collapsed": false
   },
   "outputs": [
    {
     "name": "stdout",
     "output_type": "stream",
     "text": [
      "Epoch 1/20\n",
      "1495/1495 [==============================] - 15s - loss: 1.3570 - acc: 0.5692    \n",
      "Epoch 2/20\n",
      "1495/1495 [==============================] - 16s - loss: 0.9978 - acc: 0.6836    \n",
      "Epoch 3/20\n",
      "1495/1495 [==============================] - 16s - loss: 0.8675 - acc: 0.7151    \n",
      "Epoch 4/20\n",
      "1495/1495 [==============================] - 15s - loss: 0.7939 - acc: 0.7284    \n",
      "Epoch 5/20\n",
      "1495/1495 [==============================] - 15s - loss: 0.7430 - acc: 0.7452    \n",
      "Epoch 6/20\n",
      "1495/1495 [==============================] - 16s - loss: 0.7133 - acc: 0.7559    \n",
      "Epoch 7/20\n",
      "1495/1495 [==============================] - 15s - loss: 0.6769 - acc: 0.7592    \n",
      "Epoch 8/20\n",
      "1495/1495 [==============================] - 16s - loss: 0.6613 - acc: 0.7686    \n",
      "Epoch 9/20\n",
      "1495/1495 [==============================] - 16s - loss: 0.6308 - acc: 0.7786    \n",
      "Epoch 10/20\n",
      "1495/1495 [==============================] - 16s - loss: 0.6075 - acc: 0.7953    \n",
      "Epoch 11/20\n",
      "1495/1495 [==============================] - 16s - loss: 0.6037 - acc: 0.7967    \n",
      "Epoch 12/20\n",
      "1495/1495 [==============================] - 16s - loss: 0.5708 - acc: 0.8033    \n",
      "Epoch 13/20\n",
      "1495/1495 [==============================] - 15s - loss: 0.5533 - acc: 0.8067    \n",
      "Epoch 14/20\n",
      "1495/1495 [==============================] - 16s - loss: 0.5490 - acc: 0.8247    \n",
      "Epoch 15/20\n",
      "1495/1495 [==============================] - 15s - loss: 0.5357 - acc: 0.8201    \n",
      "Epoch 16/20\n",
      "1495/1495 [==============================] - 15s - loss: 0.5150 - acc: 0.8294    \n",
      "Epoch 17/20\n",
      "1495/1495 [==============================] - 15s - loss: 0.5201 - acc: 0.8214    \n",
      "Epoch 18/20\n",
      "1495/1495 [==============================] - 16s - loss: 0.5033 - acc: 0.8341    \n",
      "Epoch 19/20\n",
      "1495/1495 [==============================] - 16s - loss: 0.4839 - acc: 0.8448    \n",
      "Epoch 20/20\n",
      "1495/1495 [==============================] - 15s - loss: 0.4777 - acc: 0.8428    \n"
     ]
    },
    {
     "data": {
      "text/plain": [
       "<keras.callbacks.History at 0x11cfddd90>"
      ]
     },
     "execution_count": 34,
     "metadata": {},
     "output_type": "execute_result"
    }
   ],
   "source": [
    "model.fit(X_train, Y_train,\n",
    "          nb_epoch=20,\n",
    "          batch_size=20)"
   ]
  },
  {
   "cell_type": "code",
   "execution_count": 35,
   "metadata": {
    "collapsed": false
   },
   "outputs": [
    {
     "name": "stdout",
     "output_type": "stream",
     "text": [
      "Accuracy: 0.84803256445\n",
      "Log-loss: 0.534963186299\n"
     ]
    }
   ],
   "source": [
    "predictions = model.predict(X_test)\n",
    "print 'Accuracy: {}'.format(accuracy_score(np.argmax(Y_test, axis=1), np.argmax(predictions,axis=1)) )\n",
    "print 'Log-loss: {}'.format(log_loss(Y_test, predictions))"
   ]
  },
  {
   "cell_type": "markdown",
   "metadata": {
    "collapsed": true
   },
   "source": [
    "### RNN"
   ]
  },
  {
   "cell_type": "code",
   "execution_count": 8,
   "metadata": {
    "collapsed": false
   },
   "outputs": [
    {
     "name": "stderr",
     "output_type": "stream",
     "text": [
      "Using Theano backend.\n"
     ]
    }
   ],
   "source": [
    "from keras.layers.core import Flatten\n",
    "from keras.layers.recurrent import GRU"
   ]
  },
  {
   "cell_type": "code",
   "execution_count": 18,
   "metadata": {
    "collapsed": false
   },
   "outputs": [],
   "source": [
    "nnum = (actitracker.shape[0]//500)\n",
    "lim = nnum * 500\n",
    "X = actitracker.iloc[:lim,:][['x-accel','y-accel','z-accel']].as_matrix()\n",
    "Y = actitracker.iloc[:lim,:].groupby(['session'])['activity'].apply(lambda x: max(x))\n",
    "Y = ohe.fit_transform(le.fit_transform(Y.iloc[:lim]).reshape(-1,1))\n",
    "X = X[:lim].T.reshape((nnum, 500, 3))"
   ]
  },
  {
   "cell_type": "code",
   "execution_count": null,
   "metadata": {
    "collapsed": false
   },
   "outputs": [],
   "source": [
    "model = Sequential()\n",
    "model.add(GRU(32, return_sequences=True, input_dim=3, input_length=500, dropout_W=.5, dropout_U=.5))\n",
    "model.add(GRU(32, return_sequences=True, dropout_W=.5, dropout_U=.5))\n",
    "model.add(GRU(32, dropout_W=.5, dropout_U=.5))\n",
    "model.add(Dense(64, activation='relu'))\n",
    "model.add(Dense(6))\n",
    "model.compile(loss='categorical_crossentropy',\n",
    "              optimizer='adam',\n",
    "              metrics=['accuracy'])"
   ]
  },
  {
   "cell_type": "code",
   "execution_count": null,
   "metadata": {
    "collapsed": true
   },
   "outputs": [],
   "source": [
    "indices = np.random.permutation(nnum)\n",
    "train, test = indices[:(nnum//3)*2], indices[(nnum//3)*2:]"
   ]
  },
  {
   "cell_type": "code",
   "execution_count": null,
   "metadata": {
    "collapsed": true
   },
   "outputs": [],
   "source": [
    "model.fit(X[train], Y[train],\n",
    "          nb_epoch=20,\n",
    "          batch_size=20)"
   ]
  },
  {
   "cell_type": "code",
   "execution_count": null,
   "metadata": {
    "collapsed": true
   },
   "outputs": [],
   "source": [
    "training_scores = model.evaluate(training_data, training_result)\n",
    "test_scores = model.evaluate(test_data, test_result)\n",
    "print(\"training: %s: %.2f%%\" % (model.metrics_names[1], training_scores[1]*100))\n",
    "print(\"test: %s: %.2f%%\" % (model.metrics_names[1], test_scores[1]*100))"
   ]
  }
 ],
 "metadata": {
  "kernelspec": {
   "display_name": "Python 2",
   "language": "python",
   "name": "python2"
  },
  "language_info": {
   "codemirror_mode": {
    "name": "ipython",
    "version": 2
   },
   "file_extension": ".py",
   "mimetype": "text/x-python",
   "name": "python",
   "nbconvert_exporter": "python",
   "pygments_lexer": "ipython2",
   "version": "2.7.12"
  }
 },
 "nbformat": 4,
 "nbformat_minor": 0
}
