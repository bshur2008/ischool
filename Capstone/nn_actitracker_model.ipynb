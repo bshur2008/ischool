{
 "cells": [
  {
   "cell_type": "markdown",
   "metadata": {},
   "source": [
    "## Actitracker labeled dataset NN model\n",
    "This model will use keras to predict activity from sessionized accelerometer data, via the actitracker dataset (http://www.cis.fordham.edu/wisdm/dataset.php). "
   ]
  },
  {
   "cell_type": "markdown",
   "metadata": {},
   "source": [
    "### Data Processing"
   ]
  },
  {
   "cell_type": "code",
   "execution_count": 43,
   "metadata": {
    "collapsed": false
   },
   "outputs": [],
   "source": [
    "# Feature engineering \n",
    "import pandas as pd\n",
    "import numpy as np\n",
    "import scipy as sp\n",
    "\n",
    "# Machine learning\n",
    "from sklearn.preprocessing import OneHotEncoder, LabelEncoder\n",
    "from sklearn.preprocessing import MinMaxScaler, StandardScaler\n",
    "from sklearn.cross_validation import train_test_split\n",
    "from sklearn.metrics import accuracy_score\n",
    "from sklearn.metrics import log_loss\n",
    "from sklearn.linear_model import LogisticRegression\n",
    "from sklearn.metrics import confusion_matrix\n",
    "\n",
    "# Charts\n",
    "import matplotlib.pylab as plt\n",
    "import seaborn as sns\n",
    "%matplotlib inline\n",
    "\n",
    "# Static params\n",
    "DATA_FOLDER = 'Data/WISDM_ar_v1.1/'\n",
    "DATA_FILE = 'raw_data_fixed.txt'"
   ]
  },
  {
   "cell_type": "markdown",
   "metadata": {},
   "source": [
    "#### Data load"
   ]
  },
  {
   "cell_type": "code",
   "execution_count": 3,
   "metadata": {
    "collapsed": false
   },
   "outputs": [],
   "source": [
    "def load_data():\n",
    "    global actitracker\n",
    "    actitracker = pd.read_csv(\n",
    "        DATA_FOLDER+DATA_FILE ,\n",
    "        sep=',' ,\n",
    "        lineterminator=';' ,\n",
    "        header=None ,\n",
    "    )\n",
    "    actitracker.columns = [\n",
    "        'user' ,\n",
    "        'activity' ,\n",
    "        'timestamp' ,\n",
    "        'x-accel' ,\n",
    "        'y-accel' ,\n",
    "        'z-accel' ,\n",
    "        'NA' ,\n",
    "    ]\n",
    "    del actitracker['NA']"
   ]
  },
  {
   "cell_type": "markdown",
   "metadata": {},
   "source": [
    "#### Sessionize "
   ]
  },
  {
   "cell_type": "code",
   "execution_count": 5,
   "metadata": {
    "collapsed": false
   },
   "outputs": [],
   "source": [
    "def create_sessions():\n",
    "    global actitracker\n",
    "    # re-calculate time in seconds\n",
    "    actitracker['time_seconds'] = actitracker['timestamp']*10e-9\n",
    "\n",
    "    # sort by user and time \n",
    "    actitracker = actitracker.sort_values(by=['user','time_seconds'])\n",
    "\n",
    "    # create sessions\n",
    "    session_length = 100\n",
    "    actitracker['seq'] = xrange(actitracker.shape[0])\n",
    "    actitracker['session'] = actitracker.\\\n",
    "                               groupby(['user','activity'])['seq'].\\\n",
    "                               apply(lambda x: x%session_length == 0).\\\n",
    "                               fillna(0).cumsum()"
   ]
  },
  {
   "cell_type": "markdown",
   "metadata": {},
   "source": [
    "#### Gather labels"
   ]
  },
  {
   "cell_type": "code",
   "execution_count": 6,
   "metadata": {
    "collapsed": false
   },
   "outputs": [],
   "source": [
    "def gather_target_vars():\n",
    "    global label_lookup\n",
    "    # get session_labels \n",
    "    ohe = OneHotEncoder(sparse=False); le = LabelEncoder()\n",
    "    labels = actitracker.groupby(['user','session'])['activity'].apply(lambda x: max(x))\n",
    "    le_labels = le.fit_transform(labels)\n",
    "    ohe_labels = ohe.fit_transform(le_labels.reshape(-1,1))\n",
    "    label_lookup = { k: v for k,v in set((i, v) for i,v in np.vstack((le_labels,labels)).T) }\n",
    "    \n",
    "    # create target variables\n",
    "    Y = pd.DataFrame(ohe_labels,index=labels.index)\n",
    "    return Y"
   ]
  },
  {
   "cell_type": "markdown",
   "metadata": {},
   "source": [
    "#### Calculate features "
   ]
  },
  {
   "cell_type": "code",
   "execution_count": 7,
   "metadata": {
    "collapsed": false
   },
   "outputs": [],
   "source": [
    "def feature_engineering():\n",
    "    # group by user and session\n",
    "    accel_cols = ['x-accel','y-accel','z-accel']\n",
    "    g = actitracker.loc[:,accel_cols+['user','session']].groupby(['user','session'])\n",
    "\n",
    "    # IQR function\n",
    "    def iqr(x):\n",
    "        ''' calculate IQR from array\n",
    "        '''\n",
    "        q75, q25 = np.percentile(x, [75,25])\n",
    "        return q75-q25\n",
    "\n",
    "    # calculate model cols \n",
    "    means = g[accel_cols].apply(lambda x: np.mean(x))\n",
    "    sds = g[accel_cols].apply(lambda x: np.std(x))\n",
    "    median_1 = g[accel_cols[0]].apply(lambda x: np.median(x))\n",
    "    median_2 = g[accel_cols[1]].apply(lambda x: np.median(x))\n",
    "    median_3 = g[accel_cols[2]].apply(lambda x: np.median(x))\n",
    "    iqr_1 = g[accel_cols[0]].apply(lambda x: iqr(x))\n",
    "    iqr_2 = g[accel_cols[1]].apply(lambda x: iqr(x))\n",
    "    iqr_3 = g[accel_cols[2]].apply(lambda x: iqr(x))\n",
    "    mins = g[accel_cols].apply(lambda x: np.min(x))\n",
    "    maxs = g[accel_cols].apply(lambda x: np.max(x))\n",
    "    kurtosis_1 = g[accel_cols[0]].apply(lambda x: sp.stats.kurtosis(x))\n",
    "    kurtosis_2 = g[accel_cols[1]].apply(lambda x: sp.stats.kurtosis(x))\n",
    "    kurtosis_3 = g[accel_cols[2]].apply(lambda x: sp.stats.kurtosis(x))\n",
    "    skew_1 = g[accel_cols[0]].apply(lambda x: sp.stats.skew(x))\n",
    "    skew_2 = g[accel_cols[1]].apply(lambda x: sp.stats.skew(x))\n",
    "    skew_3 = g[accel_cols[2]].apply(lambda x: sp.stats.skew(x))\n",
    "    percentiles = []\n",
    "    for i in range(10,100,10):\n",
    "        for e in range(1,4):\n",
    "            percentiles.append(eval('g[accel_cols['+str(e-1)+']].apply(lambda x: sp.percentile(x,'+str(i)+'))'))\n",
    "\n",
    "    # concat columns\n",
    "    X = pd.concat([means,\n",
    "                   sds,\n",
    "                   median_1,\n",
    "                   median_2,\n",
    "                   median_3,\n",
    "                   iqr_1,\n",
    "                   iqr_2,\n",
    "                   iqr_3,\n",
    "                   mins,\n",
    "                   maxs,\n",
    "                   kurtosis_1,\n",
    "                   kurtosis_2,\n",
    "                   kurtosis_3,\n",
    "                   skew_1,\n",
    "                   skew_2,\n",
    "                   skew_3,\n",
    "                  ]+percentiles\n",
    "                  ,axis=1)\n",
    "\n",
    "    # Scale data\n",
    "    ss = StandardScaler()\n",
    "    X = ss.fit_transform(X)\n",
    "    return X"
   ]
  },
  {
   "cell_type": "markdown",
   "metadata": {},
   "source": [
    "#### Split test and train"
   ]
  },
  {
   "cell_type": "code",
   "execution_count": 102,
   "metadata": {
    "collapsed": false
   },
   "outputs": [],
   "source": [
    "load_data()\n",
    "create_sessions()\n",
    "Y = gather_target_vars()\n",
    "X = feature_engineering()\n",
    "X_train, X_test, Y_train, Y_test = train_test_split(X, Y.as_matrix(), test_size=0.33, random_state=22)"
   ]
  },
  {
   "cell_type": "markdown",
   "metadata": {},
   "source": [
    "### Baseline LR Model"
   ]
  },
  {
   "cell_type": "code",
   "execution_count": 103,
   "metadata": {
    "collapsed": false
   },
   "outputs": [],
   "source": [
    "class ActitrackerLR:\n",
    "    ''' Logistic Regression models\n",
    "        one for each class\n",
    "    '''\n",
    "    @staticmethod\n",
    "    def train_models(X_train, Y_train, model_params):\n",
    "        ''' Train models iteratively \n",
    "            for each class\n",
    "        '''\n",
    "        models = [] \n",
    "        for i in xrange(Y_train.shape[1]):\n",
    "            model = LogisticRegression(**model_params)\n",
    "            y = Y_train[:,i]\n",
    "            model.fit(X_train, y)\n",
    "            models.append(model)\n",
    "        return models\n",
    "    \n",
    "    @staticmethod\n",
    "    def make_predictions(X_test, models, num_classes=6):\n",
    "        ''' Make predictions \n",
    "            for each class \n",
    "        '''\n",
    "        predictions = np.zeros((X_test.shape[0], num_classes))\n",
    "        for i, model in enumerate(models):\n",
    "            p = model.predict_proba(X_test)\n",
    "            predictions[:,i] = p[:,1]\n",
    "        return predictions\n",
    "\n",
    "lrmodel = ActitrackerLR()"
   ]
  },
  {
   "cell_type": "markdown",
   "metadata": {},
   "source": [
    "#### Evaluate model params"
   ]
  },
  {
   "cell_type": "code",
   "execution_count": 105,
   "metadata": {
    "collapsed": false
   },
   "outputs": [
    {
     "name": "stdout",
     "output_type": "stream",
     "text": [
      "               C  accuracy  log_loss\n",
      "0        0.00001  0.683443  1.710534\n",
      "1        0.00100  0.732673  1.120656\n",
      "2        0.10000  0.823432  0.573227\n",
      "3        1.00000  0.838284  0.529065\n",
      "4       10.00000  0.841309  0.524394\n",
      "5      100.00000  0.841309  0.529344\n",
      "6    10000.00000  0.841309  0.540622\n",
      "7  1000000.00000  0.841309  0.541216\n"
     ]
    }
   ],
   "source": [
    "c_values = [ 1e-5, 1e-3, 1e-1, 1.0, 10.0, 1e2, 1e4, 1e6 ]\n",
    "def lr_evaluate_params(c_values):\n",
    "    accuracies = []\n",
    "    log_losses = []\n",
    "    for c in c_values:\n",
    "        params = {'C':c,'max_iter':1000,'tol':1e-8}\n",
    "        models = lrmodel.train_models(X_train, Y_train, params)\n",
    "        predictions = lrmodel.make_predictions(X_test, models, 6)\n",
    "        accuracy = accuracy_score(np.argmax(Y_test, axis=1), np.argmax(predictions,axis=1))\n",
    "        ll = log_loss(Y_test, predictions)\n",
    "        accuracies.append(accuracy)\n",
    "        log_losses.append(ll)\n",
    "    evaluation = pd.DataFrame({'C':c_values,'accuracy':accuracies,'log_loss':log_losses})\n",
    "    print evaluation\n",
    "    return evaluation\n",
    "\n",
    "evaluation = lr_evaluate_params(c_values)"
   ]
  },
  {
   "cell_type": "code",
   "execution_count": 106,
   "metadata": {
    "collapsed": false
   },
   "outputs": [
    {
     "data": {
      "image/png": "[encoded data removed]",
      "text/plain": [
       "<matplotlib.figure.Figure at 0x1125e39d0>"
      ]
     },
     "metadata": {},
     "output_type": "display_data"
    }
   ],
   "source": [
    "def lr_param_charts(c_values, accuracies, log_losses):\n",
    "    plt.figure(figsize=(14, 4))\n",
    "    plt.subplot(1,2,1)\n",
    "    plt.plot(np.log(c_values), accuracies, 'g')\n",
    "    plt.title(\"Change in Accuracy with Decreasing Regularization\")\n",
    "    plt.xlabel(\"Log of Inv. Regularization Strength (C)\")\n",
    "    plt.ylabel(\"Accuracy\")\n",
    "    plt.subplot(1,2,2)\n",
    "    plt.plot(np.log(c_values), log_losses, 'b')\n",
    "    plt.title(\"Change in Log-loss with Decreasing Regularization\")\n",
    "    plt.xlabel(\"Log of Inv. Regularization Strength (C)\")\n",
    "    plt.ylabel(\"Log-loss\")\n",
    "\n",
    "lr_param_charts(evaluation['C'],evaluation['accuracy'],evaluation['log_loss'])"
   ]
  },
  {
   "cell_type": "markdown",
   "metadata": {},
   "source": [
    "#### Train final model"
   ]
  },
  {
   "cell_type": "code",
   "execution_count": 107,
   "metadata": {
    "collapsed": false
   },
   "outputs": [],
   "source": [
    "params = {'C':10.0,'max_iter':1000,'tol':1e-8,'solver':'lbfgs'}\n",
    "models = lrmodel.train_models(X_train, Y_train, params)"
   ]
  },
  {
   "cell_type": "markdown",
   "metadata": {},
   "source": [
    "#### Test prediction accuracy"
   ]
  },
  {
   "cell_type": "code",
   "execution_count": 108,
   "metadata": {
    "collapsed": true
   },
   "outputs": [],
   "source": [
    "def print_accuracy(true_category, pred_category):\n",
    "    print 'Accuracy: {}'.format(accuracy_score(true_category, pred_category ))\n",
    "    print 'Log-loss: {}'.format(log_loss(Y_test, predictions))"
   ]
  },
  {
   "cell_type": "code",
   "execution_count": 109,
   "metadata": {
    "collapsed": false
   },
   "outputs": [],
   "source": [
    "predictions = lrmodel.make_predictions(X_test, models, 6)\n",
    "pred_category = np.argmax(predictions, axis=1)\n",
    "true_category = np.argmax(Y_test, axis=1)"
   ]
  },
  {
   "cell_type": "code",
   "execution_count": 110,
   "metadata": {
    "collapsed": false
   },
   "outputs": [
    {
     "name": "stdout",
     "output_type": "stream",
     "text": [
      "Accuracy: 0.841309130913\n",
      "Log-loss: 0.524565689825\n"
     ]
    }
   ],
   "source": [
    "print_accuracy(true_category, pred_category)"
   ]
  },
  {
   "cell_type": "markdown",
   "metadata": {},
   "source": [
    "#### Analyze errors"
   ]
  },
  {
   "cell_type": "code",
   "execution_count": 111,
   "metadata": {
    "collapsed": true
   },
   "outputs": [],
   "source": [
    "get_label = np.vectorize(lambda x: label_lookup[x])\n",
    "    \n",
    "def analyze_errors(true_category, pred_category, get_label=get_label):\n",
    "    errors = pred_category != true_category\n",
    "    true_labels = get_label(true_category)\n",
    "    base = np.ones(true_labels.shape)\n",
    "    error_base = pd.DataFrame({'errors':errors,\n",
    "                      'labels':true_labels,\n",
    "                      'base':base})\n",
    "    b = error_base.groupby('labels').sum()\n",
    "    error_rates = pd.DataFrame((b['errors']/b['base']).sort_values(ascending=False), columns=['Error Rate'])\n",
    "    error_rates['Total Session Counts'] = b['base']\n",
    "    return error_rates"
   ]
  },
  {
   "cell_type": "code",
   "execution_count": 112,
   "metadata": {
    "collapsed": false
   },
   "outputs": [
    {
     "data": {
      "text/html": [
       "<div>\n",
       "<table border=\"1\" class=\"dataframe\">\n",
       "  <thead>\n",
       "    <tr style=\"text-align: right;\">\n",
       "      <th></th>\n",
       "      <th>Error Rate</th>\n",
       "      <th>Total Session Counts</th>\n",
       "    </tr>\n",
       "    <tr>\n",
       "      <th>labels</th>\n",
       "      <th></th>\n",
       "      <th></th>\n",
       "    </tr>\n",
       "  </thead>\n",
       "  <tbody>\n",
       "    <tr>\n",
       "      <th>Upstairs</th>\n",
       "      <td>0.536866</td>\n",
       "      <td>434.0</td>\n",
       "    </tr>\n",
       "    <tr>\n",
       "      <th>Downstairs</th>\n",
       "      <td>0.479730</td>\n",
       "      <td>296.0</td>\n",
       "    </tr>\n",
       "    <tr>\n",
       "      <th>Sitting</th>\n",
       "      <td>0.113990</td>\n",
       "      <td>193.0</td>\n",
       "    </tr>\n",
       "    <tr>\n",
       "      <th>Standing</th>\n",
       "      <td>0.090909</td>\n",
       "      <td>154.0</td>\n",
       "    </tr>\n",
       "    <tr>\n",
       "      <th>Walking</th>\n",
       "      <td>0.088050</td>\n",
       "      <td>1431.0</td>\n",
       "    </tr>\n",
       "    <tr>\n",
       "      <th>Jogging</th>\n",
       "      <td>0.035461</td>\n",
       "      <td>1128.0</td>\n",
       "    </tr>\n",
       "  </tbody>\n",
       "</table>\n",
       "</div>"
      ],
      "text/plain": [
       "            Error Rate  Total Session Counts\n",
       "labels                                      \n",
       "Upstairs      0.536866                 434.0\n",
       "Downstairs    0.479730                 296.0\n",
       "Sitting       0.113990                 193.0\n",
       "Standing      0.090909                 154.0\n",
       "Walking       0.088050                1431.0\n",
       "Jogging       0.035461                1128.0"
      ]
     },
     "execution_count": 112,
     "metadata": {},
     "output_type": "execute_result"
    }
   ],
   "source": [
    "analyze_errors(true_category, pred_category)"
   ]
  },
  {
   "cell_type": "code",
   "execution_count": 113,
   "metadata": {
    "collapsed": false
   },
   "outputs": [
    {
     "data": {
      "image/png": "[encoded data removed]",
      "text/plain": [
       "<matplotlib.figure.Figure at 0x1154c3810>"
      ]
     },
     "metadata": {},
     "output_type": "display_data"
    }
   ],
   "source": [
    "def plot_confusion_matrix(cm, title='Confusion matrix', cmap=plt.cm.Blues):\n",
    "    classes = label_lookup.values()\n",
    "    plt.imshow(cm, interpolation='nearest', cmap=cmap)\n",
    "    plt.title(title)\n",
    "    plt.colorbar()\n",
    "    tick_marks = np.arange(len(classes))\n",
    "    plt.xticks(tick_marks, classes, rotation=45)\n",
    "    plt.yticks(tick_marks, classes)\n",
    "    plt.tight_layout()\n",
    "    plt.ylabel('True label')\n",
    "    plt.xlabel('Predicted label')\n",
    "\n",
    "cm = confusion_matrix(true_category, pred_category)\n",
    "cm_normalized = cm.astype('float') / cm.sum(axis=1)[:, np.newaxis]\n",
    "plot_confusion_matrix(cm_normalized, 'Logistic Regression')"
   ]
  },
  {
   "cell_type": "markdown",
   "metadata": {},
   "source": [
    "### MLP Neural Network Model"
   ]
  },
  {
   "cell_type": "code",
   "execution_count": null,
   "metadata": {
    "collapsed": false
   },
   "outputs": [
    {
     "name": "stderr",
     "output_type": "stream",
     "text": [
      "Using Theano backend.\n"
     ]
    }
   ],
   "source": [
    "from keras.models import Sequential\n",
    "from keras.layers import Dense, Dropout"
   ]
  },
  {
   "cell_type": "markdown",
   "metadata": {},
   "source": [
    "#### Compile model"
   ]
  },
  {
   "cell_type": "code",
   "execution_count": null,
   "metadata": {
    "collapsed": false
   },
   "outputs": [],
   "source": [
    "model = Sequential()\n",
    "\n",
    "indim = X.shape[1]\n",
    "model.add(Dense(512*4, input_dim=indim, activation='relu'))\n",
    "model.add(Dropout(0.5))\n",
    "model.add(Dense(512*12, activation='relu'))\n",
    "model.add(Dropout(0.5))\n",
    "model.add(Dense(512*4, activation='relu'))\n",
    "model.add(Dropout(0.5))\n",
    "model.add(Dense(6, activation='softmax'))\n",
    "\n",
    "model.compile(loss='categorical_crossentropy',\n",
    "              optimizer='sgd',\n",
    "              metrics=['accuracy'])"
   ]
  },
  {
   "cell_type": "markdown",
   "metadata": {},
   "source": [
    "#### Execute model"
   ]
  },
  {
   "cell_type": "code",
   "execution_count": null,
   "metadata": {
    "collapsed": false
   },
   "outputs": [],
   "source": [
    "model.fit(X_train, Y_train,\n",
    "          nb_epoch=20,\n",
    "          batch_size=20)"
   ]
  },
  {
   "cell_type": "code",
   "execution_count": 35,
   "metadata": {
    "collapsed": false
   },
   "outputs": [
    {
     "name": "stdout",
     "output_type": "stream",
     "text": [
      "Accuracy: 0.911716171617\n",
      "Log-loss: 0.282118099038\n"
     ]
    }
   ],
   "source": [
    "predictions = model.predict(X_test)\n",
    "pred_category = np.argmax(predictions, axis=1)\n",
    "true_category = np.argmax(Y_test, axis=1)\n",
    "print_accuracy(true_category, pred_category)"
   ]
  },
  {
   "cell_type": "code",
   "execution_count": null,
   "metadata": {
    "collapsed": true
   },
   "outputs": [],
   "source": [
    "analyze_errors(true_category, pred_category)"
   ]
  },
  {
   "cell_type": "markdown",
   "metadata": {},
   "source": [
    "<table border=1 class=\"dataframe\" align=\"left\">\n",
    "<thead>\n",
    " <tr style=text-align: left;>\n",
    "   <th></th>\n",
    "   <th>Error Rate</th>\n",
    "   <th>Total Session Counts</th>\n",
    " </tr>\n",
    " <tr>\n",
    "   <th>labels</th>\n",
    "   <th></th>\n",
    "   <th></th>\n",
    " </tr>\n",
    "</thead>\n",
    "<tbody>\n",
    " <tr>\n",
    "   <th>Upstairs</th>\n",
    "   <td>0.299539</td>\n",
    "   <td>434.0</td>\n",
    " </tr>\n",
    " <tr>\n",
    "   <th>Downstairs</th>\n",
    "   <td>0.277027</td>\n",
    "   <td>296.0</td>\n",
    " </tr>\n",
    " <tr>\n",
    "   <th>Sitting</th>\n",
    "   <td>0.067358</td>\n",
    "   <td>193.0</td>\n",
    " </tr>\n",
    " <tr>\n",
    "   <th>Standing</th>\n",
    "   <td>0.058442</td>\n",
    "   <td>154.0</td>\n",
    " </tr>\n",
    " <tr>\n",
    "   <th>Walking</th>\n",
    "   <td>0.046820</td>\n",
    "   <td>1431.0</td>\n",
    " </tr>\n",
    " <tr>\n",
    "   <th>Jogging</th>\n",
    "   <td>0.023936</td>\n",
    "   <td>1128.0</td>\n",
    " </tr>\n",
    "</tbody>\n",
    "</table>"
   ]
  },
  {
   "cell_type": "code",
   "execution_count": 100,
   "metadata": {
    "collapsed": false
   },
   "outputs": [
    {
     "data": {
      "image/png": "[encoded data removed]",
      "text/plain": [
       "<matplotlib.figure.Figure at 0x115543410>"
      ]
     },
     "metadata": {},
     "output_type": "display_data"
    }
   ],
   "source": [
    "cm = confusion_matrix(true_category, pred_category)\n",
    "cm_normalized = cm.astype('float') / cm.sum(axis=1)[:, np.newaxis]\n",
    "plot_confusion_matrix(cm_normalized, 'MLP')"
   ]
  },
  {
   "cell_type": "markdown",
   "metadata": {},
   "source": [
    "### XGA Boost "
   ]
  },
  {
   "cell_type": "code",
   "execution_count": 78,
   "metadata": {
    "collapsed": true
   },
   "outputs": [],
   "source": [
    "import xgboost as xgb"
   ]
  },
  {
   "cell_type": "markdown",
   "metadata": {},
   "source": [
    "#### Compile model"
   ]
  },
  {
   "cell_type": "code",
   "execution_count": 116,
   "metadata": {
    "collapsed": false
   },
   "outputs": [
    {
     "name": "stderr",
     "output_type": "stream",
     "text": [
      "[0]\teval-mlogloss:0.547641\ttrain-mlogloss:0.474673\n",
      "[1]\teval-mlogloss:0.409780\ttrain-mlogloss:0.306933\n",
      "[2]\teval-mlogloss:0.343584\ttrain-mlogloss:0.216535\n",
      "[3]\teval-mlogloss:0.312511\ttrain-mlogloss:0.168670\n",
      "[4]\teval-mlogloss:0.294299\ttrain-mlogloss:0.135714\n",
      "[5]\teval-mlogloss:0.286351\ttrain-mlogloss:0.114079\n",
      "[6]\teval-mlogloss:0.280350\ttrain-mlogloss:0.094556\n",
      "[7]\teval-mlogloss:0.271634\ttrain-mlogloss:0.078778\n",
      "[8]\teval-mlogloss:0.269003\ttrain-mlogloss:0.066800\n",
      "[9]\teval-mlogloss:0.272401\ttrain-mlogloss:0.054513\n",
      "[10]\teval-mlogloss:0.269207\ttrain-mlogloss:0.045854\n",
      "[11]\teval-mlogloss:0.270754\ttrain-mlogloss:0.041003\n",
      "[12]\teval-mlogloss:0.273620\ttrain-mlogloss:0.034774\n",
      "[13]\teval-mlogloss:0.273258\ttrain-mlogloss:0.030999\n",
      "[14]\teval-mlogloss:0.274456\ttrain-mlogloss:0.027258\n",
      "[15]\teval-mlogloss:0.274025\ttrain-mlogloss:0.024817\n",
      "[16]\teval-mlogloss:0.270175\ttrain-mlogloss:0.022589\n",
      "[17]\teval-mlogloss:0.270458\ttrain-mlogloss:0.021144\n",
      "[18]\teval-mlogloss:0.270128\ttrain-mlogloss:0.019682\n",
      "[19]\teval-mlogloss:0.269210\ttrain-mlogloss:0.018368\n",
      "[20]\teval-mlogloss:0.269437\ttrain-mlogloss:0.017145\n",
      "[21]\teval-mlogloss:0.268946\ttrain-mlogloss:0.016033\n",
      "[22]\teval-mlogloss:0.270514\ttrain-mlogloss:0.015046\n",
      "[23]\teval-mlogloss:0.269898\ttrain-mlogloss:0.014255\n",
      "[24]\teval-mlogloss:0.270630\ttrain-mlogloss:0.013621\n",
      "[25]\teval-mlogloss:0.269185\ttrain-mlogloss:0.013076\n",
      "[26]\teval-mlogloss:0.269001\ttrain-mlogloss:0.012579\n",
      "[27]\teval-mlogloss:0.268121\ttrain-mlogloss:0.012176\n",
      "[28]\teval-mlogloss:0.268983\ttrain-mlogloss:0.011858\n",
      "[29]\teval-mlogloss:0.269834\ttrain-mlogloss:0.011618\n",
      "[30]\teval-mlogloss:0.269344\ttrain-mlogloss:0.011315\n",
      "[31]\teval-mlogloss:0.269821\ttrain-mlogloss:0.010976\n",
      "[32]\teval-mlogloss:0.269740\ttrain-mlogloss:0.010763\n",
      "[33]\teval-mlogloss:0.272085\ttrain-mlogloss:0.010579\n",
      "[34]\teval-mlogloss:0.273203\ttrain-mlogloss:0.010437\n",
      "[35]\teval-mlogloss:0.271339\ttrain-mlogloss:0.010245\n",
      "[36]\teval-mlogloss:0.269504\ttrain-mlogloss:0.010077\n",
      "[37]\teval-mlogloss:0.268362\ttrain-mlogloss:0.009851\n",
      "[38]\teval-mlogloss:0.269628\ttrain-mlogloss:0.009733\n",
      "[39]\teval-mlogloss:0.270306\ttrain-mlogloss:0.009629\n",
      "[40]\teval-mlogloss:0.270539\ttrain-mlogloss:0.009503\n",
      "[41]\teval-mlogloss:0.270329\ttrain-mlogloss:0.009459\n",
      "[42]\teval-mlogloss:0.271140\ttrain-mlogloss:0.009291\n",
      "[43]\teval-mlogloss:0.271663\ttrain-mlogloss:0.009167\n",
      "[44]\teval-mlogloss:0.271666\ttrain-mlogloss:0.009147\n",
      "[45]\teval-mlogloss:0.270552\ttrain-mlogloss:0.009016\n",
      "[46]\teval-mlogloss:0.271559\ttrain-mlogloss:0.008917\n",
      "[47]\teval-mlogloss:0.272004\ttrain-mlogloss:0.008908\n",
      "[48]\teval-mlogloss:0.272464\ttrain-mlogloss:0.008771\n",
      "[49]\teval-mlogloss:0.272067\ttrain-mlogloss:0.008687\n",
      "[50]\teval-mlogloss:0.271939\ttrain-mlogloss:0.008788\n",
      "[51]\teval-mlogloss:0.271932\ttrain-mlogloss:0.008620\n",
      "[52]\teval-mlogloss:0.271489\ttrain-mlogloss:0.008569\n",
      "[53]\teval-mlogloss:0.271551\ttrain-mlogloss:0.008520\n",
      "[54]\teval-mlogloss:0.272266\ttrain-mlogloss:0.008403\n",
      "[55]\teval-mlogloss:0.272194\ttrain-mlogloss:0.008366\n",
      "[56]\teval-mlogloss:0.272635\ttrain-mlogloss:0.008323\n",
      "[57]\teval-mlogloss:0.274300\ttrain-mlogloss:0.008344\n",
      "[58]\teval-mlogloss:0.274471\ttrain-mlogloss:0.008235\n",
      "[59]\teval-mlogloss:0.275148\ttrain-mlogloss:0.008385\n",
      "[60]\teval-mlogloss:0.275699\ttrain-mlogloss:0.008236\n",
      "[61]\teval-mlogloss:0.275635\ttrain-mlogloss:0.008134\n",
      "[62]\teval-mlogloss:0.275320\ttrain-mlogloss:0.008098\n",
      "[63]\teval-mlogloss:0.275895\ttrain-mlogloss:0.008066\n",
      "[64]\teval-mlogloss:0.276123\ttrain-mlogloss:0.008026\n",
      "[65]\teval-mlogloss:0.276513\ttrain-mlogloss:0.007978\n",
      "[66]\teval-mlogloss:0.275613\ttrain-mlogloss:0.007933\n",
      "[67]\teval-mlogloss:0.277020\ttrain-mlogloss:0.007992\n",
      "[68]\teval-mlogloss:0.277099\ttrain-mlogloss:0.007855\n",
      "[69]\teval-mlogloss:0.276296\ttrain-mlogloss:0.007842\n",
      "[70]\teval-mlogloss:0.277828\ttrain-mlogloss:0.007826\n",
      "[71]\teval-mlogloss:0.276977\ttrain-mlogloss:0.007774\n",
      "[72]\teval-mlogloss:0.277983\ttrain-mlogloss:0.007748\n",
      "[73]\teval-mlogloss:0.277734\ttrain-mlogloss:0.007792\n",
      "[74]\teval-mlogloss:0.278264\ttrain-mlogloss:0.007697\n",
      "[75]\teval-mlogloss:0.278445\ttrain-mlogloss:0.007696\n",
      "[76]\teval-mlogloss:0.278071\ttrain-mlogloss:0.007652\n",
      "[77]\teval-mlogloss:0.277950\ttrain-mlogloss:0.007727\n",
      "[78]\teval-mlogloss:0.278337\ttrain-mlogloss:0.007676\n",
      "[79]\teval-mlogloss:0.278338\ttrain-mlogloss:0.007587\n",
      "[80]\teval-mlogloss:0.279320\ttrain-mlogloss:0.007586\n",
      "[81]\teval-mlogloss:0.278473\ttrain-mlogloss:0.007560\n",
      "[82]\teval-mlogloss:0.277672\ttrain-mlogloss:0.007607\n",
      "[83]\teval-mlogloss:0.278709\ttrain-mlogloss:0.007519\n",
      "[84]\teval-mlogloss:0.279021\ttrain-mlogloss:0.007525\n",
      "[85]\teval-mlogloss:0.277876\ttrain-mlogloss:0.007484\n",
      "[86]\teval-mlogloss:0.278385\ttrain-mlogloss:0.007483\n",
      "[87]\teval-mlogloss:0.277808\ttrain-mlogloss:0.007460\n",
      "[88]\teval-mlogloss:0.279314\ttrain-mlogloss:0.007463\n",
      "[89]\teval-mlogloss:0.278762\ttrain-mlogloss:0.007459\n",
      "[90]\teval-mlogloss:0.279410\ttrain-mlogloss:0.007468\n",
      "[91]\teval-mlogloss:0.279263\ttrain-mlogloss:0.007419\n",
      "[92]\teval-mlogloss:0.278952\ttrain-mlogloss:0.007512\n",
      "[93]\teval-mlogloss:0.278638\ttrain-mlogloss:0.007522\n",
      "[94]\teval-mlogloss:0.277834\ttrain-mlogloss:0.007474\n",
      "[95]\teval-mlogloss:0.277808\ttrain-mlogloss:0.007380\n",
      "[96]\teval-mlogloss:0.277559\ttrain-mlogloss:0.007389\n",
      "[97]\teval-mlogloss:0.279200\ttrain-mlogloss:0.007401\n",
      "[98]\teval-mlogloss:0.278721\ttrain-mlogloss:0.007396\n",
      "[99]\teval-mlogloss:0.278719\ttrain-mlogloss:0.007342\n"
     ]
    }
   ],
   "source": [
    "dtrain = xgb.DMatrix( X_train, label=np.argmax(Y_train,axis=1))\n",
    "dtest = xgb.DMatrix( X_test, label=np.argmax(Y_test,axis=1))\n",
    "evallist  = [(dtest,'eval'), (dtrain,'train')]\n",
    "param = {'bst:max_depth':6, \n",
    "         'bst:eta':1, \n",
    "         'subsample':0.5, \n",
    "         'silent':1, \n",
    "         'num_class':6,\n",
    "         'objective':'multi:softprob' }\n",
    "param['eval_metric'] = 'mlogloss'\n",
    "model = xgb.train(param.items(), dtrain, 100, evallist)"
   ]
  },
  {
   "cell_type": "markdown",
   "metadata": {},
   "source": [
    "#### Test accuracy"
   ]
  },
  {
   "cell_type": "code",
   "execution_count": 117,
   "metadata": {
    "collapsed": false
   },
   "outputs": [
    {
     "name": "stdout",
     "output_type": "stream",
     "text": [
      "Accuracy: 0.932068206821\n",
      "Log-loss: 0.278720681422\n"
     ]
    }
   ],
   "source": [
    "predictions = model.predict(dtest)\n",
    "pred_category = np.argmax(predictions, axis=1)\n",
    "true_category = np.argmax(Y_test, axis=1)\n",
    "print_accuracy(true_category, pred_category)"
   ]
  },
  {
   "cell_type": "markdown",
   "metadata": {},
   "source": [
    "#### Analyze errors"
   ]
  },
  {
   "cell_type": "code",
   "execution_count": 96,
   "metadata": {
    "collapsed": false
   },
   "outputs": [
    {
     "data": {
      "text/html": [
       "<div>\n",
       "<table border=\"1\" class=\"dataframe\">\n",
       "  <thead>\n",
       "    <tr style=\"text-align: right;\">\n",
       "      <th></th>\n",
       "      <th>Error Rate</th>\n",
       "      <th>Total Session Counts</th>\n",
       "    </tr>\n",
       "    <tr>\n",
       "      <th>labels</th>\n",
       "      <th></th>\n",
       "      <th></th>\n",
       "    </tr>\n",
       "  </thead>\n",
       "  <tbody>\n",
       "    <tr>\n",
       "      <th>Downstairs</th>\n",
       "      <td>0.277027</td>\n",
       "      <td>296.0</td>\n",
       "    </tr>\n",
       "    <tr>\n",
       "      <th>Upstairs</th>\n",
       "      <td>0.235023</td>\n",
       "      <td>434.0</td>\n",
       "    </tr>\n",
       "    <tr>\n",
       "      <th>Walking</th>\n",
       "      <td>0.044025</td>\n",
       "      <td>1431.0</td>\n",
       "    </tr>\n",
       "    <tr>\n",
       "      <th>Sitting</th>\n",
       "      <td>0.041451</td>\n",
       "      <td>193.0</td>\n",
       "    </tr>\n",
       "    <tr>\n",
       "      <th>Standing</th>\n",
       "      <td>0.032468</td>\n",
       "      <td>154.0</td>\n",
       "    </tr>\n",
       "    <tr>\n",
       "      <th>Jogging</th>\n",
       "      <td>0.019504</td>\n",
       "      <td>1128.0</td>\n",
       "    </tr>\n",
       "  </tbody>\n",
       "</table>\n",
       "</div>"
      ],
      "text/plain": [
       "            Error Rate  Total Session Counts\n",
       "labels                                      \n",
       "Downstairs    0.277027                 296.0\n",
       "Upstairs      0.235023                 434.0\n",
       "Walking       0.044025                1431.0\n",
       "Sitting       0.041451                 193.0\n",
       "Standing      0.032468                 154.0\n",
       "Jogging       0.019504                1128.0"
      ]
     },
     "execution_count": 96,
     "metadata": {},
     "output_type": "execute_result"
    }
   ],
   "source": [
    "analyze_errors(true_category, pred_category)"
   ]
  },
  {
   "cell_type": "code",
   "execution_count": 101,
   "metadata": {
    "collapsed": false
   },
   "outputs": [
    {
     "data": {
      "image/png": "[encoded data removed]",
      "text/plain": [
       "<matplotlib.figure.Figure at 0x1126ff790>"
      ]
     },
     "metadata": {},
     "output_type": "display_data"
    }
   ],
   "source": [
    "cm = confusion_matrix(true_category, pred_category)\n",
    "cm_normalized = cm.astype('float') / cm.sum(axis=1)[:, np.newaxis]\n",
    "plot_confusion_matrix(cm_normalized, 'XGA')"
   ]
  },
  {
   "cell_type": "markdown",
   "metadata": {
    "collapsed": true
   },
   "source": [
    "### RNN"
   ]
  },
  {
   "cell_type": "code",
   "execution_count": 8,
   "metadata": {
    "collapsed": false
   },
   "outputs": [
    {
     "name": "stderr",
     "output_type": "stream",
     "text": [
      "Using Theano backend.\n"
     ]
    }
   ],
   "source": [
    "from keras.layers.core import Flatten\n",
    "from keras.layers.recurrent import GRU"
   ]
  },
  {
   "cell_type": "code",
   "execution_count": 18,
   "metadata": {
    "collapsed": false
   },
   "outputs": [],
   "source": [
    "session_length = 100\n",
    "nnum = (actitracker.shape[0]//session_length)\n",
    "lim = nnum * session_length\n",
    "X = actitracker.iloc[:lim,:][['x-accel','y-accel','z-accel']].as_matrix()\n",
    "Y = actitracker.iloc[:lim,:].groupby(['session'])['activity'].apply(lambda x: max(x))\n",
    "ohe = OneHotEncoder(sparse=False); le = LabelEncoder()\n",
    "Y = ohe.fit_transform(le.fit_transform(Y.iloc[:lim]).reshape(-1,1))\n",
    "X = X[:lim].T.reshape((nnum, session_length, 3))"
   ]
  },
  {
   "cell_type": "code",
   "execution_count": null,
   "metadata": {
    "collapsed": false
   },
   "outputs": [],
   "source": [
    "model = Sequential()\n",
    "model.add(GRU(32, return_sequences=True, input_dim=3, input_length=session_length, dropout_W=.5, dropout_U=.5))\n",
    "model.add(GRU(32, return_sequences=True, dropout_W=.5, dropout_U=.5))\n",
    "model.add(GRU(32, dropout_W=.5, dropout_U=.5))\n",
    "model.add(Dense(64, activation='relu'))\n",
    "model.add(Dense(6))\n",
    "model.compile(loss='mean_squared_error',\n",
    "              optimizer='adam',\n",
    "              metrics=['accuracy'])"
   ]
  },
  {
   "cell_type": "code",
   "execution_count": null,
   "metadata": {
    "collapsed": true
   },
   "outputs": [],
   "source": [
    "indices = np.random.permutation(nnum)\n",
    "train, test = indices[:(nnum//3)*2], indices[(nnum//3)*2:]"
   ]
  },
  {
   "cell_type": "code",
   "execution_count": null,
   "metadata": {
    "collapsed": true
   },
   "outputs": [],
   "source": [
    "model.fit(X[train], Y[train],\n",
    "          nb_epoch=20,\n",
    "          batch_size=20)"
   ]
  },
  {
   "cell_type": "code",
   "execution_count": null,
   "metadata": {
    "collapsed": true
   },
   "outputs": [],
   "source": [
    "predictions = model.predict(X[test])\n",
    "print 'Accuracy: {}'.format(accuracy_score(np.argmax(Y[test], axis=1), np.argmax(predictions,axis=1)) )\n",
    "print 'Log-loss: {}'.format(log_loss(Y[test], predictions))"
   ]
  }
 ],
 "metadata": {
  "kernelspec": {
   "display_name": "Python 2",
   "language": "python",
   "name": "python2"
  },
  "language_info": {
   "codemirror_mode": {
    "name": "ipython",
    "version": 2
   },
   "file_extension": ".py",
   "mimetype": "text/x-python",
   "name": "python",
   "nbconvert_exporter": "python",
   "pygments_lexer": "ipython2",
   "version": "2.7.12"
  }
 },
 "nbformat": 4,
 "nbformat_minor": 0
}
