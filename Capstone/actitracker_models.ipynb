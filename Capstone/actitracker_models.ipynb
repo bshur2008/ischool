{
 "cells": [
  {
   "cell_type": "markdown",
   "metadata": {},
   "source": [
    "## Actitracker labeled dataset NN model\n",
    "This model will use keras to predict activity from sessionized accelerometer data, via the actitracker dataset (http://www.cis.fordham.edu/wisdm/dataset.php). "
   ]
  },
  {
   "cell_type": "markdown",
   "metadata": {},
   "source": [
    "### Data Processing"
   ]
  },
  {
   "cell_type": "code",
   "execution_count": 1,
   "metadata": {
    "collapsed": false
   },
   "outputs": [],
   "source": [
    "# Feature engineering \n",
    "import pandas as pd\n",
    "import numpy as np\n",
    "import scipy as sp\n",
    "\n",
    "# Machine learning\n",
    "from sklearn.preprocessing import OneHotEncoder, LabelEncoder\n",
    "from sklearn.preprocessing import MinMaxScaler, StandardScaler\n",
    "from sklearn.cross_validation import train_test_split\n",
    "from sklearn.metrics import accuracy_score\n",
    "from sklearn.metrics import log_loss\n",
    "from sklearn.linear_model import LogisticRegression\n",
    "from sklearn.metrics import confusion_matrix, precision_recall_fscore_support\n",
    "from sklearn.metrics import roc_auc_score\n",
    "\n",
    "# stats (for AR model)\n",
    "import statsmodels.api as sm\n",
    "\n",
    "# Static params\n",
    "DATA_FOLDER = '/Users/bshur/School/Capstone/Data/'\n",
    "DATA_FILE = 'WISDM_ar_v1.1/raw_data_fixed.txt'\n",
    "OUTPUTS = {\n",
    "            'LR':DATA_FOLDER+'lr_model.dat',\n",
    "            'MLP':DATA_FOLDER+'mlp_model.h5',\n",
    "            'XGB':DATA_FOLDER+'xgb.model',\n",
    "          }\n",
    "\n",
    "\n",
    "class ActitrackerLR:\n",
    "    ''' Logistic Regression models\n",
    "        one for each class\n",
    "    '''\n",
    "    @staticmethod\n",
    "    def train_models(X_train, Y_train, model_params):\n",
    "        ''' Train models iteratively \n",
    "            for each class\n",
    "        '''\n",
    "        models = [] \n",
    "        for i in xrange(Y_train.shape[1]):\n",
    "            model = LogisticRegression(**model_params)\n",
    "            y = Y_train[:,i]\n",
    "            model.fit(X_train, y)\n",
    "            models.append(model)\n",
    "        return models\n",
    "    \n",
    "    @staticmethod\n",
    "    def make_predictions(X_test, models, num_classes=6):\n",
    "        ''' Make predictions \n",
    "            for each class \n",
    "        '''\n",
    "        predictions = np.zeros((X_test.shape[0], num_classes))\n",
    "        for i, model in enumerate(models):\n",
    "            p = model.predict_proba(X_test)\n",
    "            predictions[:,i] = p[:,1]\n",
    "        return predictions\n",
    "    \n",
    "    @staticmethod\n",
    "    def save_model(models, filename):\n",
    "        ''' Output model coefficient \n",
    "            to file as text\n",
    "        '''\n",
    "        with open(filename, 'w') as w:\n",
    "            for model in models:\n",
    "                print >>w, list(model.intercept_)+list(model.coef_.ravel())\n",
    "    \n",
    "    @staticmethod\n",
    "    def load_model(filename):\n",
    "        ''' Read model coefficients \n",
    "            from file\n",
    "        '''\n",
    "        models = []\n",
    "        with open(filename, 'r') as r:\n",
    "            for line in r:\n",
    "                line = line.strip()\n",
    "                rawline = eval(line)\n",
    "                intercept, coef = rawline[0], rawline[1:]\n",
    "                models.append((np.array(intercept), np.array(coef)))\n",
    "        return models\n",
    "    \n",
    "    @staticmethod\n",
    "    def getP(X, w, intercept):\n",
    "        ''' Calculate the probability for \n",
    "            an observation given \n",
    "            a set of weights and intercept\n",
    "        '''\n",
    "        return 1.0/(1+np.exp(-(X.dot(w)+intercept)))\n",
    "\n",
    "\n",
    "def load_data():\n",
    "    ''' Load actitracker dataset\n",
    "        into global 'actitracker' \n",
    "        variable\n",
    "    '''\n",
    "    global actitracker\n",
    "    actitracker = pd.read_csv(\n",
    "        DATA_FOLDER+DATA_FILE ,\n",
    "        sep=',' ,\n",
    "        lineterminator=';' ,\n",
    "        header=None ,\n",
    "    )\n",
    "    actitracker.columns = [\n",
    "        'user' ,\n",
    "        'activity' ,\n",
    "        'timestamp' ,\n",
    "        'x-accel' ,\n",
    "        'y-accel' ,\n",
    "        'z-accel' ,\n",
    "        'NA' ,\n",
    "    ]\n",
    "    del actitracker['NA']\n",
    "\n",
    "\n",
    "def create_sessions():\n",
    "    ''' Group data by user-session\n",
    "        in preparation for feature\n",
    "        engineering\n",
    "    '''\n",
    "    global actitracker\n",
    "    # re-calculate time in seconds\n",
    "    actitracker['time_seconds'] = actitracker['timestamp']*10e-9\n",
    "\n",
    "    # sort by user and time \n",
    "    actitracker = actitracker.sort_values(by=['user','time_seconds'])\n",
    "\n",
    "    # create sessions\n",
    "    session_length = 100\n",
    "    actitracker['seq'] = xrange(actitracker.shape[0])\n",
    "    actitracker['session'] = actitracker.\\\n",
    "                               groupby(['user','activity'])['seq'].\\\n",
    "                               apply(lambda x: x%session_length == 0).\\\n",
    "                               fillna(0).cumsum()\n",
    "\n",
    "\n",
    "def gather_target_vars():\n",
    "    ''' Gather labels \n",
    "        and create Y variable\n",
    "        for model training\n",
    "    '''\n",
    "    global label_lookup\n",
    "    # get session_labels \n",
    "    ohe = OneHotEncoder(sparse=False); le = LabelEncoder()\n",
    "    labels = actitracker.groupby(['user','session'])['activity'].apply(lambda x: max(x))\n",
    "    le_labels = le.fit_transform(labels)\n",
    "    ohe_labels = ohe.fit_transform(le_labels.reshape(-1,1))\n",
    "    label_lookup = { k: v for k,v in set((i, v) for i,v in np.vstack((le_labels,labels)).T) }\n",
    "    \n",
    "    # create target variables\n",
    "    Y = pd.DataFrame(ohe_labels,index=labels.index)\n",
    "    return Y\n",
    "\n",
    "\n",
    "get_label = np.vectorize(lambda x: label_lookup[x])\n",
    "\n",
    "\n",
    "def fit_ar(x, order):\n",
    "        ''' Fit AR model at order \n",
    "            and return all coefficients\n",
    "        '''\n",
    "        try:\n",
    "            armodel = sm.tsa.AR(x.as_matrix(),missing='drop')\n",
    "            armodel_results = armodel.fit(maxlag=order,disp=-1)\n",
    "            return armodel_results.params\n",
    "        except ValueError:\n",
    "            return [0]*(order+1)\n",
    "\n",
    "\n",
    "def feature_engineering():\n",
    "    ''' Read actitracker pandas \n",
    "        object, grouped by user-session,\n",
    "        and calculate descriptive\n",
    "        statistics to use as features\n",
    "        for model training\n",
    "    '''\n",
    "    # group by user and session\n",
    "    accel_cols = ['x-accel','y-accel','z-accel']\n",
    "    g = actitracker.loc[:,accel_cols+['user','session']].groupby(['user','session'])\n",
    "\n",
    "    # IQR function\n",
    "    def iqr(x):\n",
    "        ''' calculate IQR from array\n",
    "        '''\n",
    "        q75, q25 = np.percentile(x, [75,25])\n",
    "        return q75-q25\n",
    "\n",
    "    ## calculate model cols \n",
    "    # descriptive statistics\n",
    "    means = g[accel_cols].apply(lambda x: np.mean(x))\n",
    "    sds = g[accel_cols].apply(lambda x: np.std(x))\n",
    "    median_1 = g[accel_cols[0]].apply(lambda x: np.median(x))\n",
    "    median_2 = g[accel_cols[1]].apply(lambda x: np.median(x))\n",
    "    median_3 = g[accel_cols[2]].apply(lambda x: np.median(x))\n",
    "    mins = g[accel_cols].apply(lambda x: np.min(x))\n",
    "    maxs = g[accel_cols].apply(lambda x: np.max(x))\n",
    "    iqr_1 = g[accel_cols[0]].apply(lambda x: iqr(x))\n",
    "    iqr_2 = g[accel_cols[1]].apply(lambda x: iqr(x))\n",
    "    iqr_3 = g[accel_cols[2]].apply(lambda x: iqr(x))\n",
    "    kurtosis_1 = g[accel_cols[0]].apply(lambda x: sp.stats.kurtosis(x))\n",
    "    kurtosis_2 = g[accel_cols[1]].apply(lambda x: sp.stats.kurtosis(x))\n",
    "    kurtosis_3 = g[accel_cols[2]].apply(lambda x: sp.stats.kurtosis(x))\n",
    "    skew_1 = g[accel_cols[0]].apply(lambda x: sp.stats.skew(x))\n",
    "    skew_2 = g[accel_cols[1]].apply(lambda x: sp.stats.skew(x))\n",
    "    skew_3 = g[accel_cols[2]].apply(lambda x: sp.stats.skew(x))\n",
    "    descriptive_stats = [ means, sds, median_1, median_2, median_3, \n",
    "                          mins, maxs, iqr_1, iqr_2, iqr_3, kurtosis_1, \n",
    "                          kurtosis_2, kurtosis_3, skew_1, skew_2, skew_3 ]\n",
    "    \n",
    "    # avg absolute difference\n",
    "    avg_absolute_diff_1 = g[accel_cols[0]].apply(lambda x: np.mean(np.absolute(x-np.mean(x))))\n",
    "    avg_absolute_diff_2 = g[accel_cols[1]].apply(lambda x: np.mean(np.absolute(x-np.mean(x))))\n",
    "    avg_absolute_diff_3 = g[accel_cols[2]].apply(lambda x: np.mean(np.absolute(x-np.mean(x))))\n",
    "    avg_absolute_diffs = [ avg_absolute_diff_1, avg_absolute_diff_2, avg_absolute_diff_3 ]\n",
    "    \n",
    "    # avg resultant accel\n",
    "    avg_resultant_accel = g[accel_cols].apply(lambda x: np.mean(np.sqrt(x.iloc[:,0]**2+\n",
    "                                                                        x.iloc[:,1]**2+\n",
    "                                                                        x.iloc[:,2]**2)))\n",
    "    \n",
    "    # time between peaks\n",
    "    between_peaks_1 = g[accel_cols[0]].apply(lambda x: np.abs(np.argmax(x)-np.argmin(x)))\n",
    "    between_peaks_2 = g[accel_cols[1]].apply(lambda x: np.abs(np.argmax(x)-np.argmin(x)))\n",
    "    between_peaks_3 = g[accel_cols[2]].apply(lambda x: np.abs(np.argmax(x)-np.argmin(x)))\n",
    "    between_peaks = [ between_peaks_1, between_peaks_2, between_peaks_3 ]\n",
    "    \n",
    "    # peak min and max\n",
    "    peak_1 = g[accel_cols[0]].apply(lambda x: np.argmax(x))\n",
    "    peak_2 = g[accel_cols[1]].apply(lambda x: np.argmax(x))\n",
    "    peak_3 = g[accel_cols[2]].apply(lambda x: np.argmax(x))\n",
    "    peaks = [ peak_1, peak_2, peak_3 ]\n",
    "    \n",
    "    # correlation between axis'\n",
    "    def corr_transform(x):\n",
    "        pearson_r = sp.stats.pearsonr(x.iloc[:,0],x.iloc[:,1])[0]\n",
    "        return np.nan_to_num(pearson_r)\n",
    "    corr_12 = g[accel_cols[:2]].apply(corr_transform)\n",
    "    corr_13 = g[[accel_cols[0]]+[accel_cols[2]]].apply(corr_transform)\n",
    "    corr_23 = g[accel_cols[1:]].apply(corr_transform)\n",
    "    corrs = [ corr_12, corr_13, corr_23 ]\n",
    "    \n",
    "    # autoregression\n",
    "    order = 13\n",
    "    z1 = g[accel_cols[0]].apply(lambda x: fit_ar(x, order))\n",
    "    z2 = g[accel_cols[1]].apply(lambda x: fit_ar(x, order))\n",
    "    z3 = g[accel_cols[2]].apply(lambda x: fit_ar(x, order))\n",
    "    ar_params = []\n",
    "    for i in xrange(order):\n",
    "        for zn in xrange(3):\n",
    "            eval_str = 'z'+str(zn+1)+'.apply(lambda x: x['+str(i)+'])'\n",
    "            ar_params.append(eval(eval_str))\n",
    "    \n",
    "    # percentiles\n",
    "    percentiles = []\n",
    "    for i in range(10,100,10):\n",
    "        for e in range(1,4):\n",
    "            eval_str = 'g[accel_cols['+str(e-1)+']].apply(lambda x: sp.percentile(x,'+str(i)+'))'\n",
    "            percentiles.append(eval(eval_str))\n",
    "\n",
    "    # concat columns\n",
    "    X = pd.concat(descriptive_stats+\n",
    "                  avg_absolute_diffs+\n",
    "                  [avg_resultant_accel]+\n",
    "                  between_peaks+\n",
    "                  peaks+\n",
    "                  corrs+\n",
    "                  ar_params+\n",
    "                  percentiles\n",
    "                  , axis=1)\n",
    "\n",
    "    # Scale data\n",
    "    ss = StandardScaler()\n",
    "    X = ss.fit_transform(X)\n",
    "    return X\n",
    "\n",
    "\n",
    "def lr_evaluate_params(lrmodel, c_values):\n",
    "    ''' For logistic regression model,\n",
    "        iterate through regularization\n",
    "        parameters and return \n",
    "        accuracy and log-loss\n",
    "        in a pandas dataframe object\n",
    "    '''\n",
    "    accuracies = []\n",
    "    log_losses = []\n",
    "    for c in c_values:\n",
    "        params = {'C':c,'max_iter':1000,'tol':1e-8}\n",
    "        models = lrmodel.train_models(X_train, Y_train, params)\n",
    "        predictions = lrmodel.make_predictions(X_test, models, 6)\n",
    "        accuracy = accuracy_score(np.argmax(Y_test, axis=1), np.argmax(predictions,axis=1))\n",
    "        ll = log_loss(Y_test, predictions)\n",
    "        accuracies.append(accuracy)\n",
    "        log_losses.append(ll)\n",
    "    evaluation = pd.DataFrame({'C':c_values,'accuracy':accuracies,'log_loss':log_losses})\n",
    "    print evaluation\n",
    "    return evaluation\n",
    "\n",
    "\n",
    "\n",
    "def pred_true(Y_test, predictions):\n",
    "    pred_category = np.argmax(predictions, axis=1)\n",
    "    true_category = np.argmax(Y_test, axis=1)\n",
    "    return pred_category, true_category\n",
    "\n",
    "\n",
    "def get_accuracy_logloss(Y_test, predictions):\n",
    "    ''' Take model predictions \n",
    "        and true categories and\n",
    "        return accuracy and log-loss\n",
    "        \n",
    "    '''\n",
    "    pred_category, true_category = pred_true(Y_test, predictions)\n",
    "    acc = accuracy_score(true_category, pred_category )\n",
    "    ll = log_loss(Y_test, predictions)\n",
    "    return acc, ll\n",
    "\n",
    "\n",
    "def print_accuracy(Y_test, predictions):\n",
    "    ''' Calculate accuracy and log-loss\n",
    "        and print out results\n",
    "    '''\n",
    "    acc, ll = get_accuracy_logloss(Y_test, predictions)\n",
    "    print 'Accuracy: {}'.format(acc)\n",
    "    print 'Log-loss: {}'.format(ll)\n",
    "\n",
    "\n",
    "def analyze_errors(Y_test, predictions, get_label=get_label):\n",
    "    ''' Take model predictions \n",
    "        and true categories and\n",
    "        return precision, recall, & F1 score\n",
    "    '''\n",
    "    pred_category, true_category = pred_true(Y_test, predictions)\n",
    "    errors = pred_category != true_category\n",
    "    true_labels = get_label(true_category)\n",
    "    base = np.ones(true_labels.shape)\n",
    "    error_base = pd.DataFrame({'errors':errors,\n",
    "                      'labels':true_labels,\n",
    "                      'base':base})\n",
    "    b = error_base.groupby('labels').sum()\n",
    "    d = pd.DataFrame((b['errors']/b['base']).sort_values(ascending=False), columns=['Error Rate'])\n",
    "    p, r, f, s = precision_recall_fscore_support(true_category, pred_category)\n",
    "    d2 = pd.DataFrame(np.vstack(( label_lookup.values(),p, r, f, s) ).T,\n",
    "             columns=['labels','Precision','Recall','F1 Score','Support'])\n",
    "    d2.index=d2['labels']; del d2['labels']\n",
    "    error_rates = pd.merge(d, d2, how='inner', left_index=True, right_index=True)\n",
    "    return error_rates.astype('float')\n",
    "\n",
    "\n",
    "def xgboost_gridsearch(xtrain, xtest, ytrain, ytest, etas, depths, evals, iters=300):\n",
    "    ''' Run XGBoost model \n",
    "        over multiple eta, depth, and\n",
    "        evaluation metric combinations\n",
    "    '''\n",
    "    results = []\n",
    "    dtrain = xgb.DMatrix( xtrain, label=np.argmax(ytrain, axis=1))\n",
    "    dtest = xgb.DMatrix( xtest, label=np.argmax(ytest, axis=1))\n",
    "    evallist  = [(dtest,'eval'), (dtrain,'train')]\n",
    "    for e in etas:\n",
    "        for d in depths:\n",
    "            for ev in evals:\n",
    "                param = {'bst:max_depth':d, \n",
    "                         'bst:eta':e, \n",
    "                         'subsample':0.5, \n",
    "                         'silent':1, \n",
    "                         'num_class':6,\n",
    "                         'objective':'multi:softprob' }\n",
    "                param['eval_metric'] = ev\n",
    "                model = xgb.train(param.items(), dtrain, iters, evallist, verbose_eval=False)\n",
    "                predictions = model.predict(dtest)\n",
    "                a, ll = get_accuracy_logloss(ytest, predictions)\n",
    "                results.append({'eta':e,\n",
    "                                'depth':d,\n",
    "                                'eval_metric':ev,\n",
    "                                'accuracy':a,\n",
    "                                'error_rate':(1-a),\n",
    "                                'logloss':ll})\n",
    "    results_df = pd.DataFrame(results).sort_values(by='error_rate')\n",
    "    return results_df"
   ]
  },
  {
   "cell_type": "code",
   "execution_count": 2,
   "metadata": {
    "collapsed": false
   },
   "outputs": [
    {
     "name": "stderr",
     "output_type": "stream",
     "text": [
      ":0: FutureWarning: IPython widgets are experimental and may change in the future.\n"
     ]
    }
   ],
   "source": [
    "# Charts \n",
    "import matplotlib.pylab as plt\n",
    "from matplotlib.colors import LinearSegmentedColormap\n",
    "import matplotlib.patches as patches\n",
    "import matplotlib as mpl\n",
    "import seaborn as sns\n",
    "%matplotlib inline\n",
    "\n",
    "\n",
    "def lr_param_charts(c_values, accuracies, log_losses):\n",
    "    ''' Create charts to show\n",
    "        regularization parameter\n",
    "        influence on log-loss and accuracy\n",
    "    '''\n",
    "    plt.figure(figsize=(14, 4))\n",
    "    plt.subplot(1,2,1)\n",
    "    plt.plot(np.log(c_values), accuracies, 'g')\n",
    "    plt.title(\"Change in Accuracy with Decreasing Regularization\")\n",
    "    plt.xlabel(\"Log of Inv. Regularization Strength (C)\")\n",
    "    plt.ylabel(\"Accuracy\")\n",
    "    plt.subplot(1,2,2)\n",
    "    plt.plot(np.log(c_values), log_losses, 'b')\n",
    "    plt.title(\"Change in Log-loss with Decreasing Regularization\")\n",
    "    plt.xlabel(\"Log of Inv. Regularization Strength (C)\")\n",
    "    plt.ylabel(\"Log-loss\")\n",
    "\n",
    "\n",
    "def plot_confusion_matrix(cm, title='Confusion matrix', cmap=plt.cm.Blues):\n",
    "    ''' Show confusion matrix plot\n",
    "    '''\n",
    "    classes = label_lookup.values()\n",
    "    plt.imshow(cm, interpolation='nearest', cmap=cmap)\n",
    "    plt.title(title)\n",
    "    plt.colorbar()\n",
    "    tick_marks = np.arange(len(classes))\n",
    "    plt.xticks(tick_marks, classes, rotation=45)\n",
    "    plt.yticks(tick_marks, classes)\n",
    "    plt.tight_layout()\n",
    "    plt.ylabel('True label')\n",
    "    plt.xlabel('Predicted label')\n",
    "    plt.grid(False)\n",
    "\n",
    "\n",
    "def preparePlot(xticks, yticks, figsize=(10.5, 6), hideLabels=False, gridColor='#999999',\n",
    "                gridWidth=1.0):\n",
    "    '''Template for generating the plot layout.'''\n",
    "    plt.close()\n",
    "    fig, ax = plt.subplots(figsize=figsize, facecolor='white', edgecolor='white')\n",
    "    ax.axes.tick_params(labelcolor='#999999', labelsize='10')\n",
    "    for axis, ticks in [(ax.get_xaxis(), xticks), (ax.get_yaxis(), yticks)]:\n",
    "        axis.set_ticks_position('none')\n",
    "        axis.set_ticks(ticks)\n",
    "        axis.label.set_color('#999999')\n",
    "        if hideLabels: axis.set_ticklabels([])\n",
    "    plt.grid(color=gridColor, linewidth=gridWidth, linestyle='-')\n",
    "    map(lambda position: ax.spines[position].set_visible(False), ['bottom', 'top', 'left', 'right'])\n",
    "    return fig, ax\n",
    "\n",
    "\n",
    "def cartesian(arrays, out=None):\n",
    "    ''' Generate a cartesian product of input arrays.\n",
    "        via http://stackoverflow.com/questions/1208118/\n",
    "    '''\n",
    "    arrays = [np.asarray(x) for x in arrays]\n",
    "    dtype = arrays[0].dtype\n",
    "\n",
    "    n = np.prod([x.size for x in arrays])\n",
    "    if out is None:\n",
    "        out = np.zeros([n, len(arrays)], dtype=dtype)\n",
    "\n",
    "    m = n / arrays[0].size\n",
    "    out[:,0] = np.repeat(arrays[0], m)\n",
    "    if arrays[1:]:\n",
    "        cartesian(arrays[1:], out=out[0:m,1:])\n",
    "        for j in xrange(1, arrays[0].size):\n",
    "            out[j*m:(j+1)*m,1:] = out[0:m,1:]\n",
    "    return out\n",
    "\n",
    "\n",
    "def xgboost_gridsearch_chart(results_df, \n",
    "                             rtype='error_rate',\n",
    "                             best_eval_metric='mlogloss', \n",
    "                             color_start='#172951', \n",
    "                             color_end='#3E6CD8',\n",
    "                             gamma=0.5):\n",
    "    ''' Create heatmap chart \n",
    "        of XGBoost gridsearch results\n",
    "    '''\n",
    "    best_eval = results_df['eval_metric'] == best_eval_metric\n",
    "    rbest = results_df.loc[best_eval,:]\n",
    "    etaTerms = sorted ( set( rbest.loc[:,'eta'] ))\n",
    "    depths = sorted ( set( rbest.loc[:,'depth'] ))\n",
    "    errors_list = []\n",
    "    for e in etaTerms:\n",
    "        for d in depths:\n",
    "            v = rbest.loc[(rbest['eta']==e) & (rbest['depth']==d)][rtype].iloc[0]\n",
    "            errors_list.append(v)\n",
    "    \n",
    "    errors = np.array( errors_list )\n",
    "    numRows, numCols = len(etaTerms), len(depths)\n",
    "    errors.shape = (numRows, numCols)\n",
    "    \n",
    "    a, b = np.arange(0, numCols, 1), np.arange(0, numRows, 1)\n",
    "    fig, ax = preparePlot(a, b, figsize=(8, 7),\n",
    "                          hideLabels=False, gridWidth=0.)\n",
    "    ax.set_yticklabels(etaTerms), ax.set_xticklabels(depths)\n",
    "    ax.set_ylabel('eta Parameter'), ax.set_xlabel('Tree Depth')\n",
    "\n",
    "    colors = LinearSegmentedColormap.from_list('blue', [color_end, color_start], gamma=gamma)\n",
    "    image = plt.imshow(errors, interpolation='nearest', aspect='auto',\n",
    "                        cmap = colors)\n",
    "    ax.set_title('XGBoost Heatmap {}'.format(rtype))\n",
    "    \n",
    "    for ab, e in zip(cartesian((a,b)), errors.T.ravel()):\n",
    "        a,b = ab\n",
    "        ax.annotate('{}%'.format(round(e*100,2)), xy=(a-0.1,b), textcoords='data', color='white') \n",
    "    return fig, ax\n",
    "\n",
    "\n",
    "def model_comparison_chart(x, y, m, c):\n",
    "    ''' Show final comparison of models\n",
    "        in an x-y scatterplot\n",
    "    '''\n",
    "    fig, ax = plt.subplots(figsize=(8,5))\n",
    "    ax.set_xlabel('Accuracy (%)')\n",
    "    ax.set_ylabel('Log-Loss')\n",
    "    # ax.set_title('Overall Model Performance Comparison')\n",
    "    plt.grid(color='black', linewidth=0.1, linestyle='-')\n",
    "    for x,y,m,c in zip(x,y,m,c):\n",
    "        plt.scatter(x*100, y, color=c)\n",
    "        ax.annotate('{} ( {}, {}% )'.format(m, y, round(x*100,2)), size=15, \n",
    "                    xy=(x*100+0.3,y+0.003), textcoords='data', color=c)\n",
    "\n",
    "\n",
    "def plot_roc_curves(Y_test, predictions, figsize=(6,6)):\n",
    "    ''' Make an ROC plot \n",
    "        for each class prediction\n",
    "    '''\n",
    "    colors = ['#2471A3','#1C2833','#17A589','#D68910','#884EA0','#A93226']\n",
    "    fig, ax = preparePlot(np.arange(0., 1.1, 0.1), np.arange(0., 1.1, 0.1), figsize=figsize)\n",
    "    ax.set_xlim(-.05, 1.05), ax.set_ylim(-.05, 1.05)\n",
    "    ax.set_ylabel('True Positive Rate (Sensitivity)')\n",
    "    ax.set_xlabel('False Positive Rate (1 - Specificity)')\n",
    "    ax.set_title('ROC Curves by Activity Classification')\n",
    "    plt.plot((0., 1.), (0., 1.), linestyle='--', color='#d6ebf2', linewidth=2.)  # Baseline model\n",
    "\n",
    "    for i,c in enumerate(colors):\n",
    "        labelsAndWeights = zip(Y_test[:,i], predictions[:,i])\n",
    "        labelsAndWeights.sort(key=lambda (x,y):y, reverse=True)\n",
    "        labelsByWeight = np.array([k for (k, v) in labelsAndWeights])\n",
    "        length = labelsByWeight.size\n",
    "        truePositives = labelsByWeight.cumsum()\n",
    "        numPositive = truePositives[-1]\n",
    "        falsePositives = np.arange(1.0, length + 1, 1.) - truePositives\n",
    "\n",
    "        truePositiveRate = truePositives / numPositive\n",
    "        falsePositiveRate = falsePositives / (length - numPositive)\n",
    "\n",
    "        # Generate layout and plot data\n",
    "        plt.plot(falsePositiveRate, truePositiveRate, \n",
    "                 color=c, linestyle='-', linewidth=3., \n",
    "                 label='{} (area: {})'.format(label_lookup[i],\n",
    "                                             round(roc_auc_score(Y_test[:,i],predictions[:,i]),3)))\n",
    "\n",
    "    handles, labels = ax.get_legend_handles_labels()\n",
    "    plt.legend(handles, labels, loc=4)"
   ]
  },
  {
   "cell_type": "markdown",
   "metadata": {},
   "source": [
    "#### Split test and train"
   ]
  },
  {
   "cell_type": "code",
   "execution_count": 3,
   "metadata": {
    "collapsed": false
   },
   "outputs": [],
   "source": [
    "load_data()\n",
    "create_sessions()"
   ]
  },
  {
   "cell_type": "code",
   "execution_count": 4,
   "metadata": {
    "collapsed": false
   },
   "outputs": [],
   "source": [
    "Y = gather_target_vars()\n",
    "X = feature_engineering()\n",
    "X_train, X_test, Y_train, Y_test = train_test_split(X, \n",
    "                                                    Y.as_matrix(), \n",
    "                                                    test_size=0.33, \n",
    "                                                    random_state=22)"
   ]
  },
  {
   "cell_type": "markdown",
   "metadata": {},
   "source": [
    "### Baseline Model"
   ]
  },
  {
   "cell_type": "code",
   "execution_count": 5,
   "metadata": {
    "collapsed": false
   },
   "outputs": [],
   "source": [
    "predictions = np.zeros(Y_test.shape)\n",
    "for i in xrange(predictions.shape[0]):\n",
    "    predictions[i,:] = np.sum(Y_test, axis=0) / np.sum(Y_test)"
   ]
  },
  {
   "cell_type": "code",
   "execution_count": 6,
   "metadata": {
    "collapsed": false
   },
   "outputs": [
    {
     "name": "stdout",
     "output_type": "stream",
     "text": [
      "Accuracy: 0.393839383938\n",
      "Log-loss: 1.47770495241\n"
     ]
    }
   ],
   "source": [
    "print_accuracy(Y_test, predictions)"
   ]
  },
  {
   "cell_type": "code",
   "execution_count": 7,
   "metadata": {
    "collapsed": false
   },
   "outputs": [
    {
     "name": "stderr",
     "output_type": "stream",
     "text": [
      "/Library/Python/2.7/site-packages/sklearn/metrics/classification.py:1074: UndefinedMetricWarning: Precision and F-score are ill-defined and being set to 0.0 in labels with no predicted samples.\n",
      "  'precision', 'predicted', average, warn_for)\n"
     ]
    },
    {
     "data": {
      "text/html": [
       "<div>\n",
       "<table border=\"1\" class=\"dataframe\">\n",
       "  <thead>\n",
       "    <tr style=\"text-align: right;\">\n",
       "      <th></th>\n",
       "      <th>Error Rate</th>\n",
       "      <th>Precision</th>\n",
       "      <th>Recall</th>\n",
       "      <th>F1 Score</th>\n",
       "      <th>Support</th>\n",
       "    </tr>\n",
       "    <tr>\n",
       "      <th>labels</th>\n",
       "      <th></th>\n",
       "      <th></th>\n",
       "      <th></th>\n",
       "      <th></th>\n",
       "      <th></th>\n",
       "    </tr>\n",
       "  </thead>\n",
       "  <tbody>\n",
       "    <tr>\n",
       "      <th>Downstairs</th>\n",
       "      <td>1</td>\n",
       "      <td>0.000000</td>\n",
       "      <td>0</td>\n",
       "      <td>0.000000</td>\n",
       "      <td>296</td>\n",
       "    </tr>\n",
       "    <tr>\n",
       "      <th>Jogging</th>\n",
       "      <td>1</td>\n",
       "      <td>0.000000</td>\n",
       "      <td>0</td>\n",
       "      <td>0.000000</td>\n",
       "      <td>1127</td>\n",
       "    </tr>\n",
       "    <tr>\n",
       "      <th>Sitting</th>\n",
       "      <td>1</td>\n",
       "      <td>0.000000</td>\n",
       "      <td>0</td>\n",
       "      <td>0.000000</td>\n",
       "      <td>193</td>\n",
       "    </tr>\n",
       "    <tr>\n",
       "      <th>Standing</th>\n",
       "      <td>1</td>\n",
       "      <td>0.000000</td>\n",
       "      <td>0</td>\n",
       "      <td>0.000000</td>\n",
       "      <td>154</td>\n",
       "    </tr>\n",
       "    <tr>\n",
       "      <th>Upstairs</th>\n",
       "      <td>1</td>\n",
       "      <td>0.000000</td>\n",
       "      <td>0</td>\n",
       "      <td>0.000000</td>\n",
       "      <td>434</td>\n",
       "    </tr>\n",
       "    <tr>\n",
       "      <th>Walking</th>\n",
       "      <td>0</td>\n",
       "      <td>0.393839</td>\n",
       "      <td>1</td>\n",
       "      <td>0.565114</td>\n",
       "      <td>1432</td>\n",
       "    </tr>\n",
       "  </tbody>\n",
       "</table>\n",
       "</div>"
      ],
      "text/plain": [
       "            Error Rate  Precision  Recall  F1 Score  Support\n",
       "labels                                                      \n",
       "Downstairs           1   0.000000       0  0.000000      296\n",
       "Jogging              1   0.000000       0  0.000000     1127\n",
       "Sitting              1   0.000000       0  0.000000      193\n",
       "Standing             1   0.000000       0  0.000000      154\n",
       "Upstairs             1   0.000000       0  0.000000      434\n",
       "Walking              0   0.393839       1  0.565114     1432"
      ]
     },
     "execution_count": 7,
     "metadata": {},
     "output_type": "execute_result"
    }
   ],
   "source": [
    "analyze_errors(Y_test, predictions)"
   ]
  },
  {
   "cell_type": "code",
   "execution_count": 8,
   "metadata": {
    "collapsed": false
   },
   "outputs": [
    {
     "name": "stderr",
     "output_type": "stream",
     "text": [
      "/Library/Python/2.7/site-packages/matplotlib/collections.py:590: FutureWarning: elementwise comparison failed; returning scalar instead, but in the future will perform elementwise comparison\n",
      "  if self._edgecolors == str('face'):\n"
     ]
    },
    {
     "data": {
      "image/png": "[encoded data removed]",
      "text/plain": [
       "<matplotlib.figure.Figure at 0x10b918050>"
      ]
     },
     "metadata": {},
     "output_type": "display_data"
    }
   ],
   "source": [
    "pred_category, true_category = pred_true(Y_test, predictions)\n",
    "cm = confusion_matrix(true_category, pred_category)\n",
    "cm_normalized = cm.astype('float') / cm.sum(axis=1)[:, np.newaxis]\n",
    "plot_confusion_matrix(cm_normalized, 'Baseline')"
   ]
  },
  {
   "cell_type": "markdown",
   "metadata": {},
   "source": [
    "### LR Model"
   ]
  },
  {
   "cell_type": "code",
   "execution_count": 9,
   "metadata": {
    "collapsed": false
   },
   "outputs": [],
   "source": [
    "lrmodel = ActitrackerLR()"
   ]
  },
  {
   "cell_type": "markdown",
   "metadata": {},
   "source": [
    "#### Evaluate model params"
   ]
  },
  {
   "cell_type": "code",
   "execution_count": 10,
   "metadata": {
    "collapsed": false
   },
   "outputs": [
    {
     "name": "stdout",
     "output_type": "stream",
     "text": [
      "               C  accuracy  log_loss\n",
      "0        0.00001  0.710121  1.688573\n",
      "1        0.00100  0.806381  1.004044\n",
      "2        0.10000  0.890539  0.416674\n",
      "3        1.00000  0.902090  0.374536\n",
      "4       10.00000  0.904565  0.373300\n",
      "5      100.00000  0.905941  0.391000\n",
      "6    10000.00000  0.900990  0.460588\n",
      "7  1000000.00000  0.900715  0.503286\n"
     ]
    }
   ],
   "source": [
    "c_values = [ 1e-5, 1e-3, 1e-1, 1.0, 10.0, 1e2, 1e4, 1e6 ]\n",
    "evaluation = lr_evaluate_params(lrmodel, c_values)"
   ]
  },
  {
   "cell_type": "code",
   "execution_count": 11,
   "metadata": {
    "collapsed": false
   },
   "outputs": [
    {
     "data": {
      "image/png": "[encoded data removed]",
      "text/plain": [
       "<matplotlib.figure.Figure at 0x10b900d90>"
      ]
     },
     "metadata": {},
     "output_type": "display_data"
    }
   ],
   "source": [
    "lr_param_charts(evaluation['C'],evaluation['accuracy'],evaluation['log_loss'])"
   ]
  },
  {
   "cell_type": "markdown",
   "metadata": {},
   "source": [
    "#### Train final model"
   ]
  },
  {
   "cell_type": "code",
   "execution_count": 12,
   "metadata": {
    "collapsed": false
   },
   "outputs": [],
   "source": [
    "params = {'C':10.0,'max_iter':1000,'tol':1e-8,'solver':'lbfgs'}\n",
    "models = lrmodel.train_models(X_train, Y_train, params)"
   ]
  },
  {
   "cell_type": "markdown",
   "metadata": {},
   "source": [
    "#### Test prediction accuracy"
   ]
  },
  {
   "cell_type": "code",
   "execution_count": 13,
   "metadata": {
    "collapsed": false
   },
   "outputs": [],
   "source": [
    "predictions = lrmodel.make_predictions(X_test, models, 6)"
   ]
  },
  {
   "cell_type": "code",
   "execution_count": 14,
   "metadata": {
    "collapsed": false
   },
   "outputs": [
    {
     "name": "stdout",
     "output_type": "stream",
     "text": [
      "Accuracy: 0.904840484048\n",
      "Log-loss: 0.376794502581\n"
     ]
    }
   ],
   "source": [
    "print_accuracy(Y_test, predictions)"
   ]
  },
  {
   "cell_type": "markdown",
   "metadata": {},
   "source": [
    "#### Analyze errors"
   ]
  },
  {
   "cell_type": "code",
   "execution_count": 15,
   "metadata": {
    "collapsed": false
   },
   "outputs": [
    {
     "data": {
      "text/html": [
       "<div>\n",
       "<table border=\"1\" class=\"dataframe\">\n",
       "  <thead>\n",
       "    <tr style=\"text-align: right;\">\n",
       "      <th></th>\n",
       "      <th>Error Rate</th>\n",
       "      <th>Precision</th>\n",
       "      <th>Recall</th>\n",
       "      <th>F1 Score</th>\n",
       "      <th>Support</th>\n",
       "    </tr>\n",
       "    <tr>\n",
       "      <th>labels</th>\n",
       "      <th></th>\n",
       "      <th></th>\n",
       "      <th></th>\n",
       "      <th></th>\n",
       "      <th></th>\n",
       "    </tr>\n",
       "  </thead>\n",
       "  <tbody>\n",
       "    <tr>\n",
       "      <th>Downstairs</th>\n",
       "      <td>0.398649</td>\n",
       "      <td>0.741667</td>\n",
       "      <td>0.601351</td>\n",
       "      <td>0.664179</td>\n",
       "      <td>296</td>\n",
       "    </tr>\n",
       "    <tr>\n",
       "      <th>Jogging</th>\n",
       "      <td>0.023070</td>\n",
       "      <td>0.964943</td>\n",
       "      <td>0.976930</td>\n",
       "      <td>0.970899</td>\n",
       "      <td>1127</td>\n",
       "    </tr>\n",
       "    <tr>\n",
       "      <th>Sitting</th>\n",
       "      <td>0.067358</td>\n",
       "      <td>0.967742</td>\n",
       "      <td>0.932642</td>\n",
       "      <td>0.949868</td>\n",
       "      <td>193</td>\n",
       "    </tr>\n",
       "    <tr>\n",
       "      <th>Standing</th>\n",
       "      <td>0.051948</td>\n",
       "      <td>0.929936</td>\n",
       "      <td>0.948052</td>\n",
       "      <td>0.938907</td>\n",
       "      <td>154</td>\n",
       "    </tr>\n",
       "    <tr>\n",
       "      <th>Upstairs</th>\n",
       "      <td>0.239631</td>\n",
       "      <td>0.791367</td>\n",
       "      <td>0.760369</td>\n",
       "      <td>0.775558</td>\n",
       "      <td>434</td>\n",
       "    </tr>\n",
       "    <tr>\n",
       "      <th>Walking</th>\n",
       "      <td>0.053771</td>\n",
       "      <td>0.906355</td>\n",
       "      <td>0.946229</td>\n",
       "      <td>0.925863</td>\n",
       "      <td>1432</td>\n",
       "    </tr>\n",
       "  </tbody>\n",
       "</table>\n",
       "</div>"
      ],
      "text/plain": [
       "            Error Rate  Precision    Recall  F1 Score  Support\n",
       "labels                                                        \n",
       "Downstairs    0.398649   0.741667  0.601351  0.664179      296\n",
       "Jogging       0.023070   0.964943  0.976930  0.970899     1127\n",
       "Sitting       0.067358   0.967742  0.932642  0.949868      193\n",
       "Standing      0.051948   0.929936  0.948052  0.938907      154\n",
       "Upstairs      0.239631   0.791367  0.760369  0.775558      434\n",
       "Walking       0.053771   0.906355  0.946229  0.925863     1432"
      ]
     },
     "execution_count": 15,
     "metadata": {},
     "output_type": "execute_result"
    }
   ],
   "source": [
    "analyze_errors(Y_test, predictions)"
   ]
  },
  {
   "cell_type": "code",
   "execution_count": 16,
   "metadata": {
    "collapsed": false
   },
   "outputs": [
    {
     "data": {
      "image/png": "[encoded data removed]",
      "text/plain": [
       "<matplotlib.figure.Figure at 0x114d8e3d0>"
      ]
     },
     "metadata": {},
     "output_type": "display_data"
    }
   ],
   "source": [
    "pred_category, true_category = pred_true(Y_test, predictions)\n",
    "cm = confusion_matrix(true_category, pred_category)\n",
    "cm_normalized = cm.astype('float') / cm.sum(axis=1)[:, np.newaxis]\n",
    "plot_confusion_matrix(cm_normalized, 'Logistic Regression')"
   ]
  },
  {
   "cell_type": "markdown",
   "metadata": {},
   "source": [
    "#### ROC "
   ]
  },
  {
   "cell_type": "code",
   "execution_count": 17,
   "metadata": {
    "collapsed": false
   },
   "outputs": [
    {
     "data": {
      "image/png": "[encoded data removed]",
      "text/plain": [
       "<matplotlib.figure.Figure at 0x1128ed790>"
      ]
     },
     "metadata": {},
     "output_type": "display_data"
    }
   ],
   "source": [
    "plot_roc_curves(Y_test, predictions)"
   ]
  },
  {
   "cell_type": "markdown",
   "metadata": {},
   "source": [
    "#### Output model to file"
   ]
  },
  {
   "cell_type": "code",
   "execution_count": 18,
   "metadata": {
    "collapsed": false
   },
   "outputs": [],
   "source": [
    "lrmodel.save_model(models, OUTPUTS['LR'])"
   ]
  },
  {
   "cell_type": "markdown",
   "metadata": {},
   "source": [
    "### MLP Neural Network Model"
   ]
  },
  {
   "cell_type": "code",
   "execution_count": 19,
   "metadata": {
    "collapsed": false
   },
   "outputs": [
    {
     "name": "stdout",
     "output_type": "stream",
     "text": [
      "Couldn't import dot_parser, loading of dot files will not be possible.\n"
     ]
    },
    {
     "name": "stderr",
     "output_type": "stream",
     "text": [
      "Using Theano backend.\n"
     ]
    }
   ],
   "source": [
    "from keras.models import Sequential\n",
    "from keras.layers import Dense, Dropout\n",
    "from keras.regularizers import l2, activity_l2\n",
    "# from keras.utils.visualize_util import plot"
   ]
  },
  {
   "cell_type": "markdown",
   "metadata": {},
   "source": [
    "#### Compile model"
   ]
  },
  {
   "cell_type": "code",
   "execution_count": 20,
   "metadata": {
    "collapsed": false
   },
   "outputs": [],
   "source": [
    "model = Sequential()\n",
    "\n",
    "indim = X.shape[1]\n",
    "model.add(Dense(512*6, input_dim=indim, activation='relu', \n",
    "                W_regularizer=l2(0.01)))\n",
    "model.add(Dropout(0.5))\n",
    "model.add(Dense(512*12, activation='relu'))\n",
    "model.add(Dropout(0.5))\n",
    "model.add(Dense(512*6, activation='relu'))\n",
    "model.add(Dropout(0.5))\n",
    "model.add(Dense(6, activation='softmax'))\n",
    "\n",
    "model.compile(loss='categorical_crossentropy',\n",
    "              optimizer='sgd',\n",
    "              metrics=['accuracy'])"
   ]
  },
  {
   "cell_type": "markdown",
   "metadata": {},
   "source": [
    "#### Execute model"
   ]
  },
  {
   "cell_type": "code",
   "execution_count": 21,
   "metadata": {
    "collapsed": false
   },
   "outputs": [
    {
     "name": "stdout",
     "output_type": "stream",
     "text": [
      "Epoch 1/20\n",
      "7382/7382 [==============================] - 120s - loss: 0.8142 - acc: 0.7330   \n",
      "Epoch 2/20\n",
      "7382/7382 [==============================] - 120s - loss: 0.4586 - acc: 0.8490   \n",
      "Epoch 3/20\n",
      "7382/7382 [==============================] - 120s - loss: 0.3625 - acc: 0.8819   \n",
      "Epoch 4/20\n",
      "7382/7382 [==============================] - 120s - loss: 0.3160 - acc: 0.8984   \n",
      "Epoch 5/20\n",
      "7382/7382 [==============================] - 120s - loss: 0.2818 - acc: 0.9111   \n",
      "Epoch 6/20\n",
      "7382/7382 [==============================] - 119s - loss: 0.2534 - acc: 0.9195   \n",
      "Epoch 7/20\n",
      "7382/7382 [==============================] - 118s - loss: 0.2267 - acc: 0.9236   \n",
      "Epoch 8/20\n",
      "7382/7382 [==============================] - 118s - loss: 0.2182 - acc: 0.9275   \n",
      "Epoch 9/20\n",
      "7382/7382 [==============================] - 118s - loss: 0.2051 - acc: 0.9334   \n",
      "Epoch 10/20\n",
      "7382/7382 [==============================] - 118s - loss: 0.1864 - acc: 0.9403   \n",
      "Epoch 11/20\n",
      "7382/7382 [==============================] - 118s - loss: 0.1900 - acc: 0.9376   \n",
      "Epoch 12/20\n",
      "7382/7382 [==============================] - 118s - loss: 0.1689 - acc: 0.9432   \n",
      "Epoch 13/20\n",
      "7382/7382 [==============================] - 118s - loss: 0.1625 - acc: 0.9453   \n",
      "Epoch 14/20\n",
      "7382/7382 [==============================] - 118s - loss: 0.1518 - acc: 0.9516   \n",
      "Epoch 15/20\n",
      "7382/7382 [==============================] - 118s - loss: 0.1433 - acc: 0.9533   \n",
      "Epoch 16/20\n",
      "7382/7382 [==============================] - 118s - loss: 0.1386 - acc: 0.9550   \n",
      "Epoch 17/20\n",
      "7382/7382 [==============================] - 118s - loss: 0.1363 - acc: 0.9546   \n",
      "Epoch 18/20\n",
      "7382/7382 [==============================] - 118s - loss: 0.1279 - acc: 0.9595   \n",
      "Epoch 19/20\n",
      "7382/7382 [==============================] - 118s - loss: 0.1209 - acc: 0.9596   \n",
      "Epoch 20/20\n",
      "7382/7382 [==============================] - 118s - loss: 0.1215 - acc: 0.9610   \n"
     ]
    },
    {
     "data": {
      "text/plain": [
       "<keras.callbacks.History at 0x11244b290>"
      ]
     },
     "execution_count": 21,
     "metadata": {},
     "output_type": "execute_result"
    }
   ],
   "source": [
    "model.fit(X_train, Y_train,\n",
    "          nb_epoch=20,\n",
    "          batch_size=20)"
   ]
  },
  {
   "cell_type": "code",
   "execution_count": 22,
   "metadata": {
    "collapsed": false
   },
   "outputs": [
    {
     "name": "stdout",
     "output_type": "stream",
     "text": [
      "Accuracy: 0.952145214521\n",
      "Log-loss: 0.213360291793\n"
     ]
    }
   ],
   "source": [
    "predictions = model.predict(X_test)\n",
    "print_accuracy(Y_test, predictions)"
   ]
  },
  {
   "cell_type": "code",
   "execution_count": 23,
   "metadata": {
    "collapsed": false
   },
   "outputs": [
    {
     "data": {
      "text/html": [
       "<div>\n",
       "<table border=\"1\" class=\"dataframe\">\n",
       "  <thead>\n",
       "    <tr style=\"text-align: right;\">\n",
       "      <th></th>\n",
       "      <th>Error Rate</th>\n",
       "      <th>Precision</th>\n",
       "      <th>Recall</th>\n",
       "      <th>F1 Score</th>\n",
       "      <th>Support</th>\n",
       "    </tr>\n",
       "    <tr>\n",
       "      <th>labels</th>\n",
       "      <th></th>\n",
       "      <th></th>\n",
       "      <th></th>\n",
       "      <th></th>\n",
       "      <th></th>\n",
       "    </tr>\n",
       "  </thead>\n",
       "  <tbody>\n",
       "    <tr>\n",
       "      <th>Downstairs</th>\n",
       "      <td>0.192568</td>\n",
       "      <td>0.865942</td>\n",
       "      <td>0.807432</td>\n",
       "      <td>0.835664</td>\n",
       "      <td>296</td>\n",
       "    </tr>\n",
       "    <tr>\n",
       "      <th>Jogging</th>\n",
       "      <td>0.012422</td>\n",
       "      <td>0.979754</td>\n",
       "      <td>0.987578</td>\n",
       "      <td>0.983650</td>\n",
       "      <td>1127</td>\n",
       "    </tr>\n",
       "    <tr>\n",
       "      <th>Sitting</th>\n",
       "      <td>0.046632</td>\n",
       "      <td>0.963351</td>\n",
       "      <td>0.953368</td>\n",
       "      <td>0.958333</td>\n",
       "      <td>193</td>\n",
       "    </tr>\n",
       "    <tr>\n",
       "      <th>Standing</th>\n",
       "      <td>0.045455</td>\n",
       "      <td>0.936306</td>\n",
       "      <td>0.954545</td>\n",
       "      <td>0.945338</td>\n",
       "      <td>154</td>\n",
       "    </tr>\n",
       "    <tr>\n",
       "      <th>Upstairs</th>\n",
       "      <td>0.078341</td>\n",
       "      <td>0.836820</td>\n",
       "      <td>0.921659</td>\n",
       "      <td>0.877193</td>\n",
       "      <td>434</td>\n",
       "    </tr>\n",
       "    <tr>\n",
       "      <th>Walking</th>\n",
       "      <td>0.037011</td>\n",
       "      <td>0.986409</td>\n",
       "      <td>0.962989</td>\n",
       "      <td>0.974558</td>\n",
       "      <td>1432</td>\n",
       "    </tr>\n",
       "  </tbody>\n",
       "</table>\n",
       "</div>"
      ],
      "text/plain": [
       "            Error Rate  Precision    Recall  F1 Score  Support\n",
       "labels                                                        \n",
       "Downstairs    0.192568   0.865942  0.807432  0.835664      296\n",
       "Jogging       0.012422   0.979754  0.987578  0.983650     1127\n",
       "Sitting       0.046632   0.963351  0.953368  0.958333      193\n",
       "Standing      0.045455   0.936306  0.954545  0.945338      154\n",
       "Upstairs      0.078341   0.836820  0.921659  0.877193      434\n",
       "Walking       0.037011   0.986409  0.962989  0.974558     1432"
      ]
     },
     "execution_count": 23,
     "metadata": {},
     "output_type": "execute_result"
    }
   ],
   "source": [
    "analyze_errors(Y_test, predictions)"
   ]
  },
  {
   "cell_type": "code",
   "execution_count": 24,
   "metadata": {
    "collapsed": false
   },
   "outputs": [
    {
     "data": {
      "image/png": "[encoded data removed]",
      "text/plain": [
       "<matplotlib.figure.Figure at 0x112696cd0>"
      ]
     },
     "metadata": {},
     "output_type": "display_data"
    }
   ],
   "source": [
    "pred_category, true_category = pred_true(Y_test, predictions)\n",
    "cm = confusion_matrix(true_category, pred_category)\n",
    "cm_normalized = cm.astype('float') / cm.sum(axis=1)[:, np.newaxis]\n",
    "plot_confusion_matrix(cm_normalized, 'MLP')"
   ]
  },
  {
   "cell_type": "markdown",
   "metadata": {
    "collapsed": false
   },
   "source": [
    "plot(model, to_file='mlp_model.png')"
   ]
  },
  {
   "cell_type": "markdown",
   "metadata": {},
   "source": [
    "#### ROC"
   ]
  },
  {
   "cell_type": "code",
   "execution_count": 25,
   "metadata": {
    "collapsed": false
   },
   "outputs": [
    {
     "data": {
      "image/png": "[encoded data removed]",
      "text/plain": [
       "<matplotlib.figure.Figure at 0x11268dc10>"
      ]
     },
     "metadata": {},
     "output_type": "display_data"
    }
   ],
   "source": [
    "plot_roc_curves(Y_test, predictions)"
   ]
  },
  {
   "cell_type": "markdown",
   "metadata": {},
   "source": [
    "#### Save Model"
   ]
  },
  {
   "cell_type": "markdown",
   "metadata": {
    "collapsed": true
   },
   "source": [
    "model.save(OUTPUTS['MLP']) "
   ]
  },
  {
   "cell_type": "markdown",
   "metadata": {},
   "source": [
    "### XGBoost "
   ]
  },
  {
   "cell_type": "code",
   "execution_count": 26,
   "metadata": {
    "collapsed": true
   },
   "outputs": [],
   "source": [
    "import xgboost as xgb"
   ]
  },
  {
   "cell_type": "markdown",
   "metadata": {},
   "source": [
    "#### Evaluate Model Params"
   ]
  },
  {
   "cell_type": "code",
   "execution_count": 27,
   "metadata": {
    "collapsed": false
   },
   "outputs": [],
   "source": [
    "etas = [ 0.05, 0.1, 0.25, 0.4 ]\n",
    "depths = [ 10, 15, 18, 20, 22 ]\n",
    "evals = ['mlogloss'] #merror\n",
    "results_df = xgboost_gridsearch(X_train, \n",
    "                                X_test, \n",
    "                                Y_train, \n",
    "                                Y_test, \n",
    "                                etas, \n",
    "                                depths, \n",
    "                                evals, \n",
    "                                iters=500)"
   ]
  },
  {
   "cell_type": "code",
   "execution_count": 28,
   "metadata": {
    "collapsed": false
   },
   "outputs": [
    {
     "data": {
      "text/plain": [
       "<matplotlib.text.Annotation at 0x1134de910>"
      ]
     },
     "execution_count": 28,
     "metadata": {},
     "output_type": "execute_result"
    },
    {
     "data": {
      "image/png": "[encoded data removed]",
      "text/plain": [
       "<matplotlib.figure.Figure at 0x1134dea90>"
      ]
     },
     "metadata": {},
     "output_type": "display_data"
    }
   ],
   "source": [
    "fig, ax = xgboost_gridsearch_chart(results_df, rtype='error_rate', gamma=0.5, \n",
    "                                   color_start='#9F2FD0', color_end='#2F60D0')\n",
    "ax.add_patch(patches.Rectangle((0.5,.495), 1, 1, fill=False, color='white'))\n",
    "ax.annotate('Error minimum', xy=(0.5,1), xytext=(0.6, 1.45), color='white')"
   ]
  },
  {
   "cell_type": "code",
   "execution_count": 29,
   "metadata": {
    "collapsed": false
   },
   "outputs": [
    {
     "data": {
      "text/plain": [
       "<matplotlib.text.Annotation at 0x1134781d0>"
      ]
     },
     "execution_count": 29,
     "metadata": {},
     "output_type": "execute_result"
    },
    {
     "data": {
      "image/png": "[encoded data removed]",
      "text/plain": [
       "<matplotlib.figure.Figure at 0x113478050>"
      ]
     },
     "metadata": {},
     "output_type": "display_data"
    }
   ],
   "source": [
    "fig, ax = xgboost_gridsearch_chart(results_df, rtype='logloss', gamma=0.5, \n",
    "                                   color_start='#9F2FD0', color_end='#2F60D0')\n",
    "ax.add_patch(patches.Rectangle((-0.5,-.495), 1, 1, fill=False, color='white'))\n",
    "ax.annotate('Log-loss minimum', xy=(0.5,1), xytext=(-0.45, 0.45), color='white')"
   ]
  },
  {
   "cell_type": "markdown",
   "metadata": {},
   "source": [
    "#### Compile model"
   ]
  },
  {
   "cell_type": "code",
   "execution_count": 30,
   "metadata": {
    "collapsed": true
   },
   "outputs": [],
   "source": [
    "dtrain = xgb.DMatrix( X_train, label=np.argmax(Y_train, axis=1))\n",
    "dtest = xgb.DMatrix( X_test, label=np.argmax(Y_test, axis=1))\n",
    "evallist  = [(dtest,'eval'), (dtrain,'train')]\n",
    "param = {'bst:max_depth':15, \n",
    "         'bst:eta':0.1, \n",
    "         'subsample':0.5, \n",
    "         'silent':1, \n",
    "         'num_class':6,\n",
    "         'objective':'multi:softprob' }\n",
    "param['eval_metric'] = 'mlogloss'\n",
    "model = xgb.train(param.items(), dtrain, 500, evallist, verbose_eval=False)"
   ]
  },
  {
   "cell_type": "markdown",
   "metadata": {},
   "source": [
    "#### Test accuracy"
   ]
  },
  {
   "cell_type": "code",
   "execution_count": 31,
   "metadata": {
    "collapsed": false
   },
   "outputs": [
    {
     "name": "stdout",
     "output_type": "stream",
     "text": [
      "Accuracy: 0.962871287129\n",
      "Log-loss: 0.140804911293\n"
     ]
    }
   ],
   "source": [
    "predictions = model.predict(dtest)\n",
    "pred_category = np.argmax(predictions, axis=1)\n",
    "true_category = np.argmax(Y_test, axis=1)\n",
    "print_accuracy(Y_test, predictions)"
   ]
  },
  {
   "cell_type": "markdown",
   "metadata": {},
   "source": [
    "#### Analyze errors"
   ]
  },
  {
   "cell_type": "code",
   "execution_count": 32,
   "metadata": {
    "collapsed": false
   },
   "outputs": [
    {
     "data": {
      "text/html": [
       "<div>\n",
       "<table border=\"1\" class=\"dataframe\">\n",
       "  <thead>\n",
       "    <tr style=\"text-align: right;\">\n",
       "      <th></th>\n",
       "      <th>Error Rate</th>\n",
       "      <th>Precision</th>\n",
       "      <th>Recall</th>\n",
       "      <th>F1 Score</th>\n",
       "      <th>Support</th>\n",
       "    </tr>\n",
       "    <tr>\n",
       "      <th>labels</th>\n",
       "      <th></th>\n",
       "      <th></th>\n",
       "      <th></th>\n",
       "      <th></th>\n",
       "      <th></th>\n",
       "    </tr>\n",
       "  </thead>\n",
       "  <tbody>\n",
       "    <tr>\n",
       "      <th>Downstairs</th>\n",
       "      <td>0.141892</td>\n",
       "      <td>0.927007</td>\n",
       "      <td>0.858108</td>\n",
       "      <td>0.891228</td>\n",
       "      <td>296</td>\n",
       "    </tr>\n",
       "    <tr>\n",
       "      <th>Jogging</th>\n",
       "      <td>0.013310</td>\n",
       "      <td>0.982332</td>\n",
       "      <td>0.986690</td>\n",
       "      <td>0.984506</td>\n",
       "      <td>1127</td>\n",
       "    </tr>\n",
       "    <tr>\n",
       "      <th>Sitting</th>\n",
       "      <td>0.046632</td>\n",
       "      <td>0.989247</td>\n",
       "      <td>0.953368</td>\n",
       "      <td>0.970976</td>\n",
       "      <td>193</td>\n",
       "    </tr>\n",
       "    <tr>\n",
       "      <th>Standing</th>\n",
       "      <td>0.038961</td>\n",
       "      <td>0.961039</td>\n",
       "      <td>0.961039</td>\n",
       "      <td>0.961039</td>\n",
       "      <td>154</td>\n",
       "    </tr>\n",
       "    <tr>\n",
       "      <th>Upstairs</th>\n",
       "      <td>0.062212</td>\n",
       "      <td>0.879050</td>\n",
       "      <td>0.937788</td>\n",
       "      <td>0.907469</td>\n",
       "      <td>434</td>\n",
       "    </tr>\n",
       "    <tr>\n",
       "      <th>Walking</th>\n",
       "      <td>0.025140</td>\n",
       "      <td>0.978276</td>\n",
       "      <td>0.974860</td>\n",
       "      <td>0.976565</td>\n",
       "      <td>1432</td>\n",
       "    </tr>\n",
       "  </tbody>\n",
       "</table>\n",
       "</div>"
      ],
      "text/plain": [
       "            Error Rate  Precision    Recall  F1 Score  Support\n",
       "labels                                                        \n",
       "Downstairs    0.141892   0.927007  0.858108  0.891228      296\n",
       "Jogging       0.013310   0.982332  0.986690  0.984506     1127\n",
       "Sitting       0.046632   0.989247  0.953368  0.970976      193\n",
       "Standing      0.038961   0.961039  0.961039  0.961039      154\n",
       "Upstairs      0.062212   0.879050  0.937788  0.907469      434\n",
       "Walking       0.025140   0.978276  0.974860  0.976565     1432"
      ]
     },
     "execution_count": 32,
     "metadata": {},
     "output_type": "execute_result"
    }
   ],
   "source": [
    "analyze_errors(Y_test, predictions)"
   ]
  },
  {
   "cell_type": "code",
   "execution_count": 33,
   "metadata": {
    "collapsed": false
   },
   "outputs": [
    {
     "data": {
      "image/png": "[encoded data removed]",
      "text/plain": [
       "<matplotlib.figure.Figure at 0x113416a50>"
      ]
     },
     "metadata": {},
     "output_type": "display_data"
    }
   ],
   "source": [
    "pred_category, true_category = pred_true(Y_test, predictions)\n",
    "cm = confusion_matrix(true_category, pred_category)\n",
    "cm_normalized = cm.astype('float') / cm.sum(axis=1)[:, np.newaxis]\n",
    "plot_confusion_matrix(cm_normalized, 'XGBoost')"
   ]
  },
  {
   "cell_type": "markdown",
   "metadata": {},
   "source": [
    "#### ROC "
   ]
  },
  {
   "cell_type": "code",
   "execution_count": 34,
   "metadata": {
    "collapsed": false
   },
   "outputs": [
    {
     "data": {
      "image/png": "[encoded data removed]",
      "text/plain": [
       "<matplotlib.figure.Figure at 0x11403eed0>"
      ]
     },
     "metadata": {},
     "output_type": "display_data"
    }
   ],
   "source": [
    "plot_roc_curves(Y_test, predictions)"
   ]
  },
  {
   "cell_type": "markdown",
   "metadata": {},
   "source": [
    "#### Save Model"
   ]
  },
  {
   "cell_type": "code",
   "execution_count": 35,
   "metadata": {
    "collapsed": true
   },
   "outputs": [],
   "source": [
    "model.save_model(OUTPUTS['XGB'])"
   ]
  },
  {
   "cell_type": "markdown",
   "metadata": {},
   "source": [
    "### Summary of  Models"
   ]
  },
  {
   "cell_type": "markdown",
   "metadata": {},
   "source": [
    "#### Overall Performance"
   ]
  },
  {
   "cell_type": "markdown",
   "metadata": {},
   "source": [
    "<table border=\"1\" class=\"dataframe\" align=\"left\">\n",
    "         <thead>\n",
    "           <tr style=\"text-align: right;\">\n",
    "             <th></th>\n",
    "             <th>Accuracy</th>\n",
    "             <th>Log-Loss</th>\n",
    "           </tr>\n",
    "         </thead>\n",
    "         <tbody>\n",
    "           <tr>\n",
    "             <th>XGBoost</th>\n",
    "             <td>96.3%</td>\n",
    "             <td>0.141</td>\n",
    "           </tr>\n",
    "           <tr>\n",
    "             <th>MLP Neural Net</th>\n",
    "             <td>95.2%</td>\n",
    "             <td>0.213</td>\n",
    "           </tr>\n",
    "           <tr>\n",
    "             <th>Logistic Regression</th>\n",
    "             <td>90.5%</td>\n",
    "             <td>0.377</td>\n",
    "           </tr>\n",
    "         </tbody>\n",
    "       </table>"
   ]
  },
  {
   "cell_type": "code",
   "execution_count": 37,
   "metadata": {
    "collapsed": false
   },
   "outputs": [
    {
     "data": {
      "image/png": "[encoded data removed]",
      "text/plain": [
       "<matplotlib.figure.Figure at 0x10baf0e90>"
      ]
     },
     "metadata": {},
     "output_type": "display_data"
    }
   ],
   "source": [
    "accuracies,loglosses,models,colors = [0.963,0.952,0.905],[0.141,0.213,0.377],\\\n",
    "            ['XGBoost','MLP','LR'],['g','b','r']\n",
    "model_comparison_chart(accuracies, loglosses, models, colors)"
   ]
  },
  {
   "cell_type": "markdown",
   "metadata": {},
   "source": [
    "#### Error Rates"
   ]
  },
  {
   "cell_type": "markdown",
   "metadata": {},
   "source": [
    "<table border=\"1\" class=\"dataframe\" align=\"left\">\n",
    "         <thead>\n",
    "           <tr style=\"text-align: right;\">\n",
    "             <th></th>\n",
    "             <th>XGBoost</th>\n",
    "             <th>MLP</th>\n",
    "             <th>LR</th>\n",
    "           </tr>\n",
    "         </thead>\n",
    "         <tbody>\n",
    "           <tr>\n",
    "             <th>Downstairs</th>\n",
    "             <td>14.2%</td>\n",
    "             <td>19.3%</td>\n",
    "             <td>40.0%</td>\n",
    "           </tr>\n",
    "           <tr>\n",
    "             <th>Upstairs</th>\n",
    "             <td>6.2%</td>\n",
    "             <td>7.8%</td>\n",
    "             <td>24.0%</td>\n",
    "           </tr>\n",
    "           <tr>\n",
    "             <th>Sitting</th>\n",
    "             <td>4.7%</td>\n",
    "             <td>4.7%</td>\n",
    "             <td>6.7%</td>\n",
    "           </tr>\n",
    "           <tr>\n",
    "             <th>Standing</th>\n",
    "             <td>3.9%</td>\n",
    "             <td>4.5%</td>\n",
    "             <td>5.2%</td>\n",
    "           </tr>\n",
    "           <tr>\n",
    "             <th>Walking</th>\n",
    "             <td>2.5%</td>\n",
    "             <td>3.7%</td>\n",
    "             <td>5.4%</td>\n",
    "           </tr>\n",
    "           <tr>\n",
    "             <th>Jogging</th>\n",
    "             <td>1.3%</td>\n",
    "             <td>1.2%</td>\n",
    "             <td>2.3%</td>\n",
    "           </tr>\n",
    "         </tbody>\n",
    "       </table>"
   ]
  }
 ],
 "metadata": {
  "kernelspec": {
   "display_name": "Python 2",
   "language": "python",
   "name": "python2"
  },
  "language_info": {
   "codemirror_mode": {
    "name": "ipython",
    "version": 2
   },
   "file_extension": ".py",
   "mimetype": "text/x-python",
   "name": "python",
   "nbconvert_exporter": "python",
   "pygments_lexer": "ipython2",
   "version": "2.7.12"
  }
 },
 "nbformat": 4,
 "nbformat_minor": 0
}
