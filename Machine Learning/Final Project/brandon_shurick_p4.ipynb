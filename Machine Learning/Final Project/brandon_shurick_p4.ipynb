{
 "cells": [
  {
   "cell_type": "markdown",
   "metadata": {},
   "source": [
    "Final Project \n",
    "======\n",
    "\n",
    "Kaggle Competition \n",
    "-----\n",
    "\n",
    "For this project I chose to do the active competition [San Francisco Crime Classification](https://www.kaggle.com/c/sf-crime/). I'll test out a number of different algorithms with test data, but this seems like probably RandomForest a Neural Network 2 levels deep will have the best results. I am interested in this type of analysis as it is data science that contributes to the common good."
   ]
  },
  {
   "cell_type": "markdown",
   "metadata": {},
   "source": [
    "#### Part 1 - Submit first (bad) try"
   ]
  },
  {
   "cell_type": "code",
   "execution_count": 3,
   "metadata": {
    "collapsed": true
   },
   "outputs": [],
   "source": [
    "import pandas as pd\n",
    "import numpy as np\n",
    "from sklearn.ensemble import RandomForestClassifier \n",
    "from sklearn.preprocessing import LabelEncoder"
   ]
  },
  {
   "cell_type": "code",
   "execution_count": 6,
   "metadata": {
    "collapsed": false
   },
   "outputs": [
    {
     "name": "stdout",
     "output_type": "stream",
     "text": [
      "(878049, 9)\n"
     ]
    }
   ],
   "source": [
    "train_raw = pd.read_csv('Data/train.csv')\n",
    "test_raw = pd.read_csv('Data/test.csv')\n",
    "sample_submission = pd.read_csv('Data/sampleSubmission.csv')\n",
    "print train_raw.shape"
   ]
  },
  {
   "cell_type": "code",
   "execution_count": 8,
   "metadata": {
    "collapsed": false
   },
   "outputs": [
    {
     "data": {
      "text/html": [
       "<div style=\"max-height:1000px;max-width:1500px;overflow:auto;\">\n",
       "<table border=\"1\" class=\"dataframe\">\n",
       "  <thead>\n",
       "    <tr style=\"text-align: right;\">\n",
       "      <th></th>\n",
       "      <th>Dates</th>\n",
       "      <th>Category</th>\n",
       "      <th>Descript</th>\n",
       "      <th>DayOfWeek</th>\n",
       "      <th>PdDistrict</th>\n",
       "      <th>Resolution</th>\n",
       "      <th>Address</th>\n",
       "      <th>X</th>\n",
       "      <th>Y</th>\n",
       "    </tr>\n",
       "  </thead>\n",
       "  <tbody>\n",
       "    <tr>\n",
       "      <th>0</th>\n",
       "      <td> 2015-05-13 23:53:00</td>\n",
       "      <td>       WARRANTS</td>\n",
       "      <td>               WARRANT ARREST</td>\n",
       "      <td> Wednesday</td>\n",
       "      <td> NORTHERN</td>\n",
       "      <td> ARREST, BOOKED</td>\n",
       "      <td>        OAK ST / LAGUNA ST</td>\n",
       "      <td>-122.425892</td>\n",
       "      <td> 37.774599</td>\n",
       "    </tr>\n",
       "    <tr>\n",
       "      <th>1</th>\n",
       "      <td> 2015-05-13 23:53:00</td>\n",
       "      <td> OTHER OFFENSES</td>\n",
       "      <td>     TRAFFIC VIOLATION ARREST</td>\n",
       "      <td> Wednesday</td>\n",
       "      <td> NORTHERN</td>\n",
       "      <td> ARREST, BOOKED</td>\n",
       "      <td>        OAK ST / LAGUNA ST</td>\n",
       "      <td>-122.425892</td>\n",
       "      <td> 37.774599</td>\n",
       "    </tr>\n",
       "    <tr>\n",
       "      <th>2</th>\n",
       "      <td> 2015-05-13 23:33:00</td>\n",
       "      <td> OTHER OFFENSES</td>\n",
       "      <td>     TRAFFIC VIOLATION ARREST</td>\n",
       "      <td> Wednesday</td>\n",
       "      <td> NORTHERN</td>\n",
       "      <td> ARREST, BOOKED</td>\n",
       "      <td> VANNESS AV / GREENWICH ST</td>\n",
       "      <td>-122.424363</td>\n",
       "      <td> 37.800414</td>\n",
       "    </tr>\n",
       "    <tr>\n",
       "      <th>3</th>\n",
       "      <td> 2015-05-13 23:30:00</td>\n",
       "      <td>  LARCENY/THEFT</td>\n",
       "      <td> GRAND THEFT FROM LOCKED AUTO</td>\n",
       "      <td> Wednesday</td>\n",
       "      <td> NORTHERN</td>\n",
       "      <td>           NONE</td>\n",
       "      <td>  1500 Block of LOMBARD ST</td>\n",
       "      <td>-122.426995</td>\n",
       "      <td> 37.800873</td>\n",
       "    </tr>\n",
       "    <tr>\n",
       "      <th>4</th>\n",
       "      <td> 2015-05-13 23:30:00</td>\n",
       "      <td>  LARCENY/THEFT</td>\n",
       "      <td> GRAND THEFT FROM LOCKED AUTO</td>\n",
       "      <td> Wednesday</td>\n",
       "      <td>     PARK</td>\n",
       "      <td>           NONE</td>\n",
       "      <td> 100 Block of BRODERICK ST</td>\n",
       "      <td>-122.438738</td>\n",
       "      <td> 37.771541</td>\n",
       "    </tr>\n",
       "  </tbody>\n",
       "</table>\n",
       "</div>"
      ],
      "text/plain": [
       "                 Dates        Category                      Descript  \\\n",
       "0  2015-05-13 23:53:00        WARRANTS                WARRANT ARREST   \n",
       "1  2015-05-13 23:53:00  OTHER OFFENSES      TRAFFIC VIOLATION ARREST   \n",
       "2  2015-05-13 23:33:00  OTHER OFFENSES      TRAFFIC VIOLATION ARREST   \n",
       "3  2015-05-13 23:30:00   LARCENY/THEFT  GRAND THEFT FROM LOCKED AUTO   \n",
       "4  2015-05-13 23:30:00   LARCENY/THEFT  GRAND THEFT FROM LOCKED AUTO   \n",
       "\n",
       "   DayOfWeek PdDistrict      Resolution                    Address  \\\n",
       "0  Wednesday   NORTHERN  ARREST, BOOKED         OAK ST / LAGUNA ST   \n",
       "1  Wednesday   NORTHERN  ARREST, BOOKED         OAK ST / LAGUNA ST   \n",
       "2  Wednesday   NORTHERN  ARREST, BOOKED  VANNESS AV / GREENWICH ST   \n",
       "3  Wednesday   NORTHERN            NONE   1500 Block of LOMBARD ST   \n",
       "4  Wednesday       PARK            NONE  100 Block of BRODERICK ST   \n",
       "\n",
       "            X          Y  \n",
       "0 -122.425892  37.774599  \n",
       "1 -122.425892  37.774599  \n",
       "2 -122.424363  37.800414  \n",
       "3 -122.426995  37.800873  \n",
       "4 -122.438738  37.771541  "
      ]
     },
     "execution_count": 8,
     "metadata": {},
     "output_type": "execute_result"
    }
   ],
   "source": [
    "train_raw.head()"
   ]
  },
  {
   "cell_type": "code",
   "execution_count": 9,
   "metadata": {
    "collapsed": false
   },
   "outputs": [
    {
     "data": {
      "text/html": [
       "<div style=\"max-height:1000px;max-width:1500px;overflow:auto;\">\n",
       "<table border=\"1\" class=\"dataframe\">\n",
       "  <thead>\n",
       "    <tr style=\"text-align: right;\">\n",
       "      <th></th>\n",
       "      <th>Id</th>\n",
       "      <th>Dates</th>\n",
       "      <th>DayOfWeek</th>\n",
       "      <th>PdDistrict</th>\n",
       "      <th>Address</th>\n",
       "      <th>X</th>\n",
       "      <th>Y</th>\n",
       "    </tr>\n",
       "  </thead>\n",
       "  <tbody>\n",
       "    <tr>\n",
       "      <th>0</th>\n",
       "      <td> 0</td>\n",
       "      <td> 2015-05-10 23:59:00</td>\n",
       "      <td> Sunday</td>\n",
       "      <td>   BAYVIEW</td>\n",
       "      <td>  2000 Block of THOMAS AV</td>\n",
       "      <td>-122.399588</td>\n",
       "      <td> 37.735051</td>\n",
       "    </tr>\n",
       "    <tr>\n",
       "      <th>1</th>\n",
       "      <td> 1</td>\n",
       "      <td> 2015-05-10 23:51:00</td>\n",
       "      <td> Sunday</td>\n",
       "      <td>   BAYVIEW</td>\n",
       "      <td>       3RD ST / REVERE AV</td>\n",
       "      <td>-122.391523</td>\n",
       "      <td> 37.732432</td>\n",
       "    </tr>\n",
       "    <tr>\n",
       "      <th>2</th>\n",
       "      <td> 2</td>\n",
       "      <td> 2015-05-10 23:50:00</td>\n",
       "      <td> Sunday</td>\n",
       "      <td>  NORTHERN</td>\n",
       "      <td>   2000 Block of GOUGH ST</td>\n",
       "      <td>-122.426002</td>\n",
       "      <td> 37.792212</td>\n",
       "    </tr>\n",
       "    <tr>\n",
       "      <th>3</th>\n",
       "      <td> 3</td>\n",
       "      <td> 2015-05-10 23:45:00</td>\n",
       "      <td> Sunday</td>\n",
       "      <td> INGLESIDE</td>\n",
       "      <td> 4700 Block of MISSION ST</td>\n",
       "      <td>-122.437394</td>\n",
       "      <td> 37.721412</td>\n",
       "    </tr>\n",
       "    <tr>\n",
       "      <th>4</th>\n",
       "      <td> 4</td>\n",
       "      <td> 2015-05-10 23:45:00</td>\n",
       "      <td> Sunday</td>\n",
       "      <td> INGLESIDE</td>\n",
       "      <td> 4700 Block of MISSION ST</td>\n",
       "      <td>-122.437394</td>\n",
       "      <td> 37.721412</td>\n",
       "    </tr>\n",
       "  </tbody>\n",
       "</table>\n",
       "</div>"
      ],
      "text/plain": [
       "   Id                Dates DayOfWeek PdDistrict                   Address  \\\n",
       "0   0  2015-05-10 23:59:00    Sunday    BAYVIEW   2000 Block of THOMAS AV   \n",
       "1   1  2015-05-10 23:51:00    Sunday    BAYVIEW        3RD ST / REVERE AV   \n",
       "2   2  2015-05-10 23:50:00    Sunday   NORTHERN    2000 Block of GOUGH ST   \n",
       "3   3  2015-05-10 23:45:00    Sunday  INGLESIDE  4700 Block of MISSION ST   \n",
       "4   4  2015-05-10 23:45:00    Sunday  INGLESIDE  4700 Block of MISSION ST   \n",
       "\n",
       "            X          Y  \n",
       "0 -122.399588  37.735051  \n",
       "1 -122.391523  37.732432  \n",
       "2 -122.426002  37.792212  \n",
       "3 -122.437394  37.721412  \n",
       "4 -122.437394  37.721412  "
      ]
     },
     "execution_count": 9,
     "metadata": {},
     "output_type": "execute_result"
    }
   ],
   "source": [
    "test_raw.head()"
   ]
  },
  {
   "cell_type": "code",
   "execution_count": 10,
   "metadata": {
    "collapsed": false
   },
   "outputs": [
    {
     "data": {
      "text/html": [
       "<div style=\"max-height:1000px;max-width:1500px;overflow:auto;\">\n",
       "<table border=\"1\" class=\"dataframe\">\n",
       "  <thead>\n",
       "    <tr style=\"text-align: right;\">\n",
       "      <th></th>\n",
       "      <th>Id</th>\n",
       "      <th>ARSON</th>\n",
       "      <th>ASSAULT</th>\n",
       "      <th>BAD CHECKS</th>\n",
       "      <th>BRIBERY</th>\n",
       "      <th>BURGLARY</th>\n",
       "      <th>DISORDERLY CONDUCT</th>\n",
       "      <th>DRIVING UNDER THE INFLUENCE</th>\n",
       "      <th>DRUG/NARCOTIC</th>\n",
       "      <th>DRUNKENNESS</th>\n",
       "      <th>...</th>\n",
       "      <th>SEX OFFENSES NON FORCIBLE</th>\n",
       "      <th>STOLEN PROPERTY</th>\n",
       "      <th>SUICIDE</th>\n",
       "      <th>SUSPICIOUS OCC</th>\n",
       "      <th>TREA</th>\n",
       "      <th>TRESPASS</th>\n",
       "      <th>VANDALISM</th>\n",
       "      <th>VEHICLE THEFT</th>\n",
       "      <th>WARRANTS</th>\n",
       "      <th>WEAPON LAWS</th>\n",
       "    </tr>\n",
       "  </thead>\n",
       "  <tbody>\n",
       "    <tr>\n",
       "      <th>0</th>\n",
       "      <td> 0</td>\n",
       "      <td> 0</td>\n",
       "      <td> 0</td>\n",
       "      <td> 0</td>\n",
       "      <td> 0</td>\n",
       "      <td> 0</td>\n",
       "      <td> 0</td>\n",
       "      <td> 0</td>\n",
       "      <td> 0</td>\n",
       "      <td> 0</td>\n",
       "      <td>...</td>\n",
       "      <td> 0</td>\n",
       "      <td> 0</td>\n",
       "      <td> 0</td>\n",
       "      <td> 0</td>\n",
       "      <td> 0</td>\n",
       "      <td> 0</td>\n",
       "      <td> 0</td>\n",
       "      <td> 0</td>\n",
       "      <td> 1</td>\n",
       "      <td> 0</td>\n",
       "    </tr>\n",
       "    <tr>\n",
       "      <th>1</th>\n",
       "      <td> 1</td>\n",
       "      <td> 0</td>\n",
       "      <td> 0</td>\n",
       "      <td> 0</td>\n",
       "      <td> 0</td>\n",
       "      <td> 0</td>\n",
       "      <td> 0</td>\n",
       "      <td> 0</td>\n",
       "      <td> 0</td>\n",
       "      <td> 0</td>\n",
       "      <td>...</td>\n",
       "      <td> 0</td>\n",
       "      <td> 0</td>\n",
       "      <td> 0</td>\n",
       "      <td> 0</td>\n",
       "      <td> 0</td>\n",
       "      <td> 0</td>\n",
       "      <td> 0</td>\n",
       "      <td> 0</td>\n",
       "      <td> 1</td>\n",
       "      <td> 0</td>\n",
       "    </tr>\n",
       "    <tr>\n",
       "      <th>2</th>\n",
       "      <td> 2</td>\n",
       "      <td> 0</td>\n",
       "      <td> 0</td>\n",
       "      <td> 0</td>\n",
       "      <td> 0</td>\n",
       "      <td> 0</td>\n",
       "      <td> 0</td>\n",
       "      <td> 0</td>\n",
       "      <td> 0</td>\n",
       "      <td> 0</td>\n",
       "      <td>...</td>\n",
       "      <td> 0</td>\n",
       "      <td> 0</td>\n",
       "      <td> 0</td>\n",
       "      <td> 0</td>\n",
       "      <td> 0</td>\n",
       "      <td> 0</td>\n",
       "      <td> 0</td>\n",
       "      <td> 0</td>\n",
       "      <td> 1</td>\n",
       "      <td> 0</td>\n",
       "    </tr>\n",
       "    <tr>\n",
       "      <th>3</th>\n",
       "      <td> 3</td>\n",
       "      <td> 0</td>\n",
       "      <td> 0</td>\n",
       "      <td> 0</td>\n",
       "      <td> 0</td>\n",
       "      <td> 0</td>\n",
       "      <td> 0</td>\n",
       "      <td> 0</td>\n",
       "      <td> 0</td>\n",
       "      <td> 0</td>\n",
       "      <td>...</td>\n",
       "      <td> 0</td>\n",
       "      <td> 0</td>\n",
       "      <td> 0</td>\n",
       "      <td> 0</td>\n",
       "      <td> 0</td>\n",
       "      <td> 0</td>\n",
       "      <td> 0</td>\n",
       "      <td> 0</td>\n",
       "      <td> 1</td>\n",
       "      <td> 0</td>\n",
       "    </tr>\n",
       "    <tr>\n",
       "      <th>4</th>\n",
       "      <td> 4</td>\n",
       "      <td> 0</td>\n",
       "      <td> 0</td>\n",
       "      <td> 0</td>\n",
       "      <td> 0</td>\n",
       "      <td> 0</td>\n",
       "      <td> 0</td>\n",
       "      <td> 0</td>\n",
       "      <td> 0</td>\n",
       "      <td> 0</td>\n",
       "      <td>...</td>\n",
       "      <td> 0</td>\n",
       "      <td> 0</td>\n",
       "      <td> 0</td>\n",
       "      <td> 0</td>\n",
       "      <td> 0</td>\n",
       "      <td> 0</td>\n",
       "      <td> 0</td>\n",
       "      <td> 0</td>\n",
       "      <td> 1</td>\n",
       "      <td> 0</td>\n",
       "    </tr>\n",
       "  </tbody>\n",
       "</table>\n",
       "<p>5 rows × 40 columns</p>\n",
       "</div>"
      ],
      "text/plain": [
       "   Id  ARSON  ASSAULT  BAD CHECKS  BRIBERY  BURGLARY  DISORDERLY CONDUCT  \\\n",
       "0   0      0        0           0        0         0                   0   \n",
       "1   1      0        0           0        0         0                   0   \n",
       "2   2      0        0           0        0         0                   0   \n",
       "3   3      0        0           0        0         0                   0   \n",
       "4   4      0        0           0        0         0                   0   \n",
       "\n",
       "   DRIVING UNDER THE INFLUENCE  DRUG/NARCOTIC  DRUNKENNESS     ...       \\\n",
       "0                            0              0            0     ...        \n",
       "1                            0              0            0     ...        \n",
       "2                            0              0            0     ...        \n",
       "3                            0              0            0     ...        \n",
       "4                            0              0            0     ...        \n",
       "\n",
       "   SEX OFFENSES NON FORCIBLE  STOLEN PROPERTY  SUICIDE  SUSPICIOUS OCC  TREA  \\\n",
       "0                          0                0        0               0     0   \n",
       "1                          0                0        0               0     0   \n",
       "2                          0                0        0               0     0   \n",
       "3                          0                0        0               0     0   \n",
       "4                          0                0        0               0     0   \n",
       "\n",
       "   TRESPASS  VANDALISM  VEHICLE THEFT  WARRANTS  WEAPON LAWS  \n",
       "0         0          0              0         1            0  \n",
       "1         0          0              0         1            0  \n",
       "2         0          0              0         1            0  \n",
       "3         0          0              0         1            0  \n",
       "4         0          0              0         1            0  \n",
       "\n",
       "[5 rows x 40 columns]"
      ]
     },
     "execution_count": 10,
     "metadata": {},
     "output_type": "execute_result"
    }
   ],
   "source": [
    "sample_submission.head()"
   ]
  },
  {
   "cell_type": "code",
   "execution_count": 82,
   "metadata": {
    "collapsed": false
   },
   "outputs": [],
   "source": [
    "train_data\\\n",
    ",train_labels = np.array(train_raw[['DayOfWeek'\\\n",
    "                                     ,'PdDistrict'\\\n",
    "                                     ,'Address'\\\n",
    "                                     ,'X'\\\n",
    "                                     ,'Y']][2001:])\\\n",
    "                            ,np.array(train_raw['Category'][2001:])\n",
    "dev_data\\\n",
    ",dev_labels = np.array(train_raw[['DayOfWeek'\\\n",
    "                                 ,'PdDistrict'\\\n",
    "                                 ,'Address'\\\n",
    "                                 ,'X'\\\n",
    "                                 ,'Y']][:1000])\\\n",
    "                            ,np.array(train_raw['Category'][:1000])\n",
    "dev_test_data\\\n",
    ",dev_test_labels = np.array(train_raw[['DayOfWeek'\\\n",
    "                                 ,'PdDistrict'\\\n",
    "                                 ,'Address'\\\n",
    "                                 ,'X'\\\n",
    "                                 ,'Y']][1001:2000])\\\n",
    "                            ,np.array(train_raw['Category'][1001:2000])\n",
    "test_data = np.array(test_raw[['DayOfWeek'\\\n",
    "                     ,'PdDistrict'\\\n",
    "                     ,'Address'\\\n",
    "                     ,'X'\\\n",
    "                     ,'Y']])"
   ]
  },
  {
   "cell_type": "code",
   "execution_count": 64,
   "metadata": {
    "collapsed": false
   },
   "outputs": [],
   "source": [
    "rf = RandomForestClassifier() #leaving with default settings for now"
   ]
  },
  {
   "cell_type": "markdown",
   "metadata": {},
   "source": [
    "Data needs to be preprocessed for RF in sklearn"
   ]
  },
  {
   "cell_type": "code",
   "execution_count": 73,
   "metadata": {
    "collapsed": false
   },
   "outputs": [],
   "source": [
    "def recode(df):\n",
    "    for i in range(df.shape[1]):\n",
    "        le = LabelEncoder()\n",
    "        le.fit(df[:,i])\n",
    "        df[:,i] = le.transform(df[:,i])\n",
    "    return df\n",
    "\n",
    "def recode_labels(df):\n",
    "    le = LabelEncoder()\n",
    "    le.fit(df)\n",
    "    return le\n",
    "\n",
    "dev_data = recode(dev_data)\n",
    "dev_label_le = recode_labels(np.concatenate((dev_labels,dev_test_labels),axis=1))\n",
    "dev_labels = dev_label_le.transform(dev_labels)\n",
    "dev_test_data = recode(dev_test_data)\n",
    "dev_test_labels = dev_label_le.transform(dev_test_labels)"
   ]
  },
  {
   "cell_type": "code",
   "execution_count": 74,
   "metadata": {
    "collapsed": false
   },
   "outputs": [
    {
     "name": "stdout",
     "output_type": "stream",
     "text": [
      "[[2 4 648 268 370]\n",
      " [2 4 648 268 370]\n",
      " [2 4 691 275 670]\n",
      " [2 4 168 259 673]\n",
      " [2 5 67 184 337]] \n",
      "[27 16 16 12 12]\n"
     ]
    }
   ],
   "source": [
    "print dev_data[:5,],'\\n',dev_labels[:5,]"
   ]
  },
  {
   "cell_type": "markdown",
   "metadata": {},
   "source": [
    "Run model"
   ]
  },
  {
   "cell_type": "code",
   "execution_count": 76,
   "metadata": {
    "collapsed": false
   },
   "outputs": [
    {
     "data": {
      "text/plain": [
       "RandomForestClassifier(bootstrap=True, compute_importances=None,\n",
       "            criterion='gini', max_depth=None, max_features='auto',\n",
       "            max_leaf_nodes=None, min_density=None, min_samples_leaf=1,\n",
       "            min_samples_split=2, n_estimators=10, n_jobs=1,\n",
       "            oob_score=False, random_state=None, verbose=0)"
      ]
     },
     "execution_count": 76,
     "metadata": {},
     "output_type": "execute_result"
    }
   ],
   "source": [
    "rf.fit(dev_data,dev_labels)"
   ]
  },
  {
   "cell_type": "code",
   "execution_count": 77,
   "metadata": {
    "collapsed": false
   },
   "outputs": [],
   "source": [
    "predictions = rf.predict(dev_test_data)"
   ]
  },
  {
   "cell_type": "code",
   "execution_count": 78,
   "metadata": {
    "collapsed": false
   },
   "outputs": [
    {
     "name": "stdout",
     "output_type": "stream",
     "text": [
      "['VEHICLE THEFT' 'LARCENY/THEFT' 'SUSPICIOUS OCC' 'OTHER OFFENSES'\n",
      " 'OTHER OFFENSES'] \n",
      "['OTHER OFFENSES' 'LARCENY/THEFT' 'LARCENY/THEFT' 'WARRANTS' 'WARRANTS']\n"
     ]
    }
   ],
   "source": [
    "actual_predictions = dev_label_le.inverse_transform(predictions)\n",
    "actual_labels = dev_label_le.inverse_transform(dev_test_labels)\n",
    "print actual_predictions[:5],'\\n',actual_labels[:5]"
   ]
  },
  {
   "cell_type": "code",
   "execution_count": 79,
   "metadata": {
    "collapsed": false
   },
   "outputs": [
    {
     "name": "stdout",
     "output_type": "stream",
     "text": [
      "Dev Accuracy (overfit): 21.9%\n"
     ]
    }
   ],
   "source": [
    "accuracy = np.sum((actual_predictions == actual_labels)*1.0)/len(dev_labels)\n",
    "print 'Dev Accuracy: {0}%'.format(accuracy*100)"
   ]
  },
  {
   "cell_type": "markdown",
   "metadata": {},
   "source": [
    "Train with real data"
   ]
  },
  {
   "cell_type": "code",
   "execution_count": 83,
   "metadata": {
    "collapsed": false
   },
   "outputs": [],
   "source": [
    "train_data, test_data = recode(train_data), recode(test_data)\n",
    "train_le = recode_labels(train_labels)\n",
    "train_labels = train_le.transform(train_labels)"
   ]
  },
  {
   "cell_type": "code",
   "execution_count": 84,
   "metadata": {
    "collapsed": false
   },
   "outputs": [
    {
     "data": {
      "text/plain": [
       "RandomForestClassifier(bootstrap=True, compute_importances=None,\n",
       "            criterion='gini', max_depth=None, max_features='auto',\n",
       "            max_leaf_nodes=None, min_density=None, min_samples_leaf=1,\n",
       "            min_samples_split=2, n_estimators=10, n_jobs=1,\n",
       "            oob_score=False, random_state=None, verbose=0)"
      ]
     },
     "execution_count": 84,
     "metadata": {},
     "output_type": "execute_result"
    }
   ],
   "source": [
    "rf = RandomForestClassifier()\n",
    "rf.fit(train_data, train_labels)"
   ]
  },
  {
   "cell_type": "markdown",
   "metadata": {},
   "source": [
    "Make predictions and reformat for submission"
   ]
  },
  {
   "cell_type": "code",
   "execution_count": 85,
   "metadata": {
    "collapsed": true
   },
   "outputs": [],
   "source": [
    "predictions = rf.predict(test_data)\n",
    "actual_predictions = train_le.inverse_transform(predictions)"
   ]
  },
  {
   "cell_type": "code",
   "execution_count": 86,
   "metadata": {
    "collapsed": false
   },
   "outputs": [],
   "source": [
    "l = len(test_data)\n",
    "submission = np.zeros((l,40),dtype=np.int32)\n",
    "submission[:,0] = range(l)\n",
    "cols = train_le.classes_ \n",
    "for i,c in enumerate(cols):\n",
    "    submission[:,i+1] = actual_predictions == c"
   ]
  },
  {
   "cell_type": "code",
   "execution_count": 87,
   "metadata": {
    "collapsed": false
   },
   "outputs": [
    {
     "data": {
      "text/html": [
       "<div style=\"max-height:1000px;max-width:1500px;overflow:auto;\">\n",
       "<table border=\"1\" class=\"dataframe\">\n",
       "  <thead>\n",
       "    <tr style=\"text-align: right;\">\n",
       "      <th></th>\n",
       "      <th>Id</th>\n",
       "      <th>ARSON</th>\n",
       "      <th>ASSAULT</th>\n",
       "      <th>BAD CHECKS</th>\n",
       "      <th>BRIBERY</th>\n",
       "      <th>BURGLARY</th>\n",
       "      <th>DISORDERLY CONDUCT</th>\n",
       "      <th>DRIVING UNDER THE INFLUENCE</th>\n",
       "      <th>DRUG/NARCOTIC</th>\n",
       "      <th>DRUNKENNESS</th>\n",
       "      <th>...</th>\n",
       "      <th>SEX OFFENSES NON FORCIBLE</th>\n",
       "      <th>STOLEN PROPERTY</th>\n",
       "      <th>SUICIDE</th>\n",
       "      <th>SUSPICIOUS OCC</th>\n",
       "      <th>TREA</th>\n",
       "      <th>TRESPASS</th>\n",
       "      <th>VANDALISM</th>\n",
       "      <th>VEHICLE THEFT</th>\n",
       "      <th>WARRANTS</th>\n",
       "      <th>WEAPON LAWS</th>\n",
       "    </tr>\n",
       "  </thead>\n",
       "  <tbody>\n",
       "    <tr>\n",
       "      <th>0</th>\n",
       "      <td> 0</td>\n",
       "      <td> 0</td>\n",
       "      <td> 0</td>\n",
       "      <td> 0</td>\n",
       "      <td> 0</td>\n",
       "      <td> 0</td>\n",
       "      <td> 0</td>\n",
       "      <td> 0</td>\n",
       "      <td> 0</td>\n",
       "      <td> 0</td>\n",
       "      <td>...</td>\n",
       "      <td> 0</td>\n",
       "      <td> 0</td>\n",
       "      <td> 0</td>\n",
       "      <td> 0</td>\n",
       "      <td> 0</td>\n",
       "      <td> 0</td>\n",
       "      <td> 0</td>\n",
       "      <td> 0</td>\n",
       "      <td> 0</td>\n",
       "      <td> 0</td>\n",
       "    </tr>\n",
       "    <tr>\n",
       "      <th>1</th>\n",
       "      <td> 1</td>\n",
       "      <td> 0</td>\n",
       "      <td> 0</td>\n",
       "      <td> 0</td>\n",
       "      <td> 0</td>\n",
       "      <td> 0</td>\n",
       "      <td> 0</td>\n",
       "      <td> 0</td>\n",
       "      <td> 0</td>\n",
       "      <td> 0</td>\n",
       "      <td>...</td>\n",
       "      <td> 0</td>\n",
       "      <td> 0</td>\n",
       "      <td> 0</td>\n",
       "      <td> 0</td>\n",
       "      <td> 0</td>\n",
       "      <td> 0</td>\n",
       "      <td> 0</td>\n",
       "      <td> 0</td>\n",
       "      <td> 0</td>\n",
       "      <td> 0</td>\n",
       "    </tr>\n",
       "    <tr>\n",
       "      <th>2</th>\n",
       "      <td> 2</td>\n",
       "      <td> 0</td>\n",
       "      <td> 0</td>\n",
       "      <td> 0</td>\n",
       "      <td> 0</td>\n",
       "      <td> 0</td>\n",
       "      <td> 0</td>\n",
       "      <td> 0</td>\n",
       "      <td> 0</td>\n",
       "      <td> 0</td>\n",
       "      <td>...</td>\n",
       "      <td> 0</td>\n",
       "      <td> 0</td>\n",
       "      <td> 0</td>\n",
       "      <td> 1</td>\n",
       "      <td> 0</td>\n",
       "      <td> 0</td>\n",
       "      <td> 0</td>\n",
       "      <td> 0</td>\n",
       "      <td> 0</td>\n",
       "      <td> 0</td>\n",
       "    </tr>\n",
       "    <tr>\n",
       "      <th>3</th>\n",
       "      <td> 3</td>\n",
       "      <td> 0</td>\n",
       "      <td> 1</td>\n",
       "      <td> 0</td>\n",
       "      <td> 0</td>\n",
       "      <td> 0</td>\n",
       "      <td> 0</td>\n",
       "      <td> 0</td>\n",
       "      <td> 0</td>\n",
       "      <td> 0</td>\n",
       "      <td>...</td>\n",
       "      <td> 0</td>\n",
       "      <td> 0</td>\n",
       "      <td> 0</td>\n",
       "      <td> 0</td>\n",
       "      <td> 0</td>\n",
       "      <td> 0</td>\n",
       "      <td> 0</td>\n",
       "      <td> 0</td>\n",
       "      <td> 0</td>\n",
       "      <td> 0</td>\n",
       "    </tr>\n",
       "    <tr>\n",
       "      <th>4</th>\n",
       "      <td> 4</td>\n",
       "      <td> 0</td>\n",
       "      <td> 1</td>\n",
       "      <td> 0</td>\n",
       "      <td> 0</td>\n",
       "      <td> 0</td>\n",
       "      <td> 0</td>\n",
       "      <td> 0</td>\n",
       "      <td> 0</td>\n",
       "      <td> 0</td>\n",
       "      <td>...</td>\n",
       "      <td> 0</td>\n",
       "      <td> 0</td>\n",
       "      <td> 0</td>\n",
       "      <td> 0</td>\n",
       "      <td> 0</td>\n",
       "      <td> 0</td>\n",
       "      <td> 0</td>\n",
       "      <td> 0</td>\n",
       "      <td> 0</td>\n",
       "      <td> 0</td>\n",
       "    </tr>\n",
       "  </tbody>\n",
       "</table>\n",
       "<p>5 rows × 40 columns</p>\n",
       "</div>"
      ],
      "text/plain": [
       "   Id  ARSON  ASSAULT  BAD CHECKS  BRIBERY  BURGLARY  DISORDERLY CONDUCT  \\\n",
       "0   0      0        0           0        0         0                   0   \n",
       "1   1      0        0           0        0         0                   0   \n",
       "2   2      0        0           0        0         0                   0   \n",
       "3   3      0        1           0        0         0                   0   \n",
       "4   4      0        1           0        0         0                   0   \n",
       "\n",
       "   DRIVING UNDER THE INFLUENCE  DRUG/NARCOTIC  DRUNKENNESS     ...       \\\n",
       "0                            0              0            0     ...        \n",
       "1                            0              0            0     ...        \n",
       "2                            0              0            0     ...        \n",
       "3                            0              0            0     ...        \n",
       "4                            0              0            0     ...        \n",
       "\n",
       "   SEX OFFENSES NON FORCIBLE  STOLEN PROPERTY  SUICIDE  SUSPICIOUS OCC  TREA  \\\n",
       "0                          0                0        0               0     0   \n",
       "1                          0                0        0               0     0   \n",
       "2                          0                0        0               1     0   \n",
       "3                          0                0        0               0     0   \n",
       "4                          0                0        0               0     0   \n",
       "\n",
       "   TRESPASS  VANDALISM  VEHICLE THEFT  WARRANTS  WEAPON LAWS  \n",
       "0         0          0              0         0            0  \n",
       "1         0          0              0         0            0  \n",
       "2         0          0              0         0            0  \n",
       "3         0          0              0         0            0  \n",
       "4         0          0              0         0            0  \n",
       "\n",
       "[5 rows x 40 columns]"
      ]
     },
     "execution_count": 87,
     "metadata": {},
     "output_type": "execute_result"
    }
   ],
   "source": [
    "submission_cols = ['Id']\n",
    "submission_cols.extend(cols)\n",
    "submission_df = pd.DataFrame(submission,columns=submission_cols)\n",
    "submission_df.head()"
   ]
  },
  {
   "cell_type": "markdown",
   "metadata": {},
   "source": [
    "Save data to csv file for submission"
   ]
  },
  {
   "cell_type": "code",
   "execution_count": 88,
   "metadata": {
    "collapsed": false
   },
   "outputs": [],
   "source": [
    "submission_df.to_csv('Data/submission_file1.csv',index=False)"
   ]
  },
  {
   "cell_type": "markdown",
   "metadata": {},
   "source": [
    "#### Part 2 - Tests to increase accuracy"
   ]
  },
  {
   "cell_type": "markdown",
   "metadata": {},
   "source": [
    "First attempt: Rank 208, score 26.95890, tested accuracy of ~22%."
   ]
  },
  {
   "cell_type": "markdown",
   "metadata": {},
   "source": [
    "##### Add time of day "
   ]
  },
  {
   "cell_type": "code",
   "execution_count": 89,
   "metadata": {
    "collapsed": true
   },
   "outputs": [],
   "source": [
    "# Reload data \n",
    "train_raw = pd.read_csv('Data/train.csv')\n",
    "test_raw = pd.read_csv('Data/test.csv')"
   ]
  },
  {
   "cell_type": "code",
   "execution_count": 90,
   "metadata": {
    "collapsed": false
   },
   "outputs": [],
   "source": [
    "def segment_time1(ts):\n",
    "    ''' Segment time of day '''\n",
    "    if ts.hour<=4: return 1\n",
    "    elif ts.hour<=8: return 2\n",
    "    elif ts.hour<=12: return 3\n",
    "    elif ts.hour<=16: return 4\n",
    "    elif ts.hour<=20: return 5\n",
    "    elif ts.hour<=24: return 6\n",
    "def segment_time2(ts):\n",
    "    ''' Return only hour '''\n",
    "    return ts.hour\n",
    "def dayofmonth(ts):\n",
    "    ''' Return day of month '''\n",
    "    return ts.day\n",
    "def yearofcrime(ts):\n",
    "    ''' Return the year '''\n",
    "    return ts.year\n",
    "\n",
    "segment_time1 = np.vectorize(segment_time1,otypes=[np.int64])\n",
    "segment_time2 = np.vectorize(segment_time2,otypes=[np.int64])\n",
    "dayofmonth = np.vectorize(dayofmonth,otypes=[np.int64])\n",
    "yearofcrime = np.vectorize(yearofcrime,otypes=[np.int64])\n",
    "\n",
    "train_raw['Dates'] = pd.to_datetime(train_raw['Dates'])\n",
    "test_raw['Dates'] = pd.to_datetime(test_raw['Dates'])\n",
    "\n",
    "train_raw['DaySegment'] = train_raw['Dates'].apply(segment_time1)\n",
    "test_raw['DaySegment'] = test_raw['Dates'].apply(segment_time1)\n",
    "\n",
    "train_raw['TimeOfDay'] = train_raw['Dates'].apply(segment_time2)\n",
    "test_raw['TimeOfDay'] = test_raw['Dates'].apply(segment_time2)\n",
    "\n",
    "train_raw['DayOfMonth'] = train_raw['Dates'].apply(dayofmonth)\n",
    "test_raw['DayOfMonth'] = test_raw['Dates'].apply(dayofmonth)\n",
    "\n",
    "train_raw['Year'] = train_raw['Dates'].apply(yearofcrime)\n",
    "test_raw['Year'] = test_raw['Dates'].apply(yearofcrime)"
   ]
  },
  {
   "cell_type": "code",
   "execution_count": 91,
   "metadata": {
    "collapsed": false
   },
   "outputs": [
    {
     "data": {
      "text/plain": [
       "PdDistrict\n",
       "BAYVIEW        89431\n",
       "CENTRAL        85460\n",
       "INGLESIDE      78845\n",
       "MISSION       119908\n",
       "NORTHERN      105296\n",
       "PARK           49313\n",
       "RICHMOND       45209\n",
       "SOUTHERN      157182\n",
       "TARAVAL        65596\n",
       "TENDERLOIN     81809\n",
       "Name: PdDistrict, dtype: int64"
      ]
     },
     "execution_count": 91,
     "metadata": {},
     "output_type": "execute_result"
    }
   ],
   "source": [
    "g = train_raw.groupby('PdDistrict')\n",
    "g['PdDistrict'].agg(len)"
   ]
  },
  {
   "cell_type": "markdown",
   "metadata": {},
   "source": [
    "Creating a function here that can be reused across other tests when adding / removing features"
   ]
  },
  {
   "cell_type": "code",
   "execution_count": 94,
   "metadata": {
    "collapsed": false
   },
   "outputs": [],
   "source": [
    "# Run test on dev data\n",
    "def analyze_impact(raw_data, old_fields, new_fields,\\\n",
    "                   label_field, s=10000, n=100):\n",
    "    ''' Iterate over many RF tries to \n",
    "        see how change impacts results \n",
    "    '''\n",
    "    raw_data = raw_data.iloc[\\\n",
    "                    np.random.permutation(len(raw_data))]\n",
    "    dev_data_old\\\n",
    "    ,dev_data_new\\\n",
    "    ,dev_labels = np.array(raw_data[old_fields][:s])\\\n",
    "                    ,np.array(raw_data[new_fields][:s])\\\n",
    "                    ,np.array(raw_data[label_field][:s])\n",
    "    test_data_old\\\n",
    "    ,test_data_new\\\n",
    "    ,test_labels = np.array(raw_data[old_fields][s+1:s+5000])\\\n",
    "                    ,np.array(raw_data[new_fields][s+1:s+5000])\\\n",
    "                    ,np.array(raw_data[label_field][s+1:s+5000])\n",
    "    \n",
    "    old_accuracies = []\n",
    "    new_accuracies = []\n",
    "    def measure(d, t, n, out):\n",
    "        for i in range(n):\n",
    "            # Initialize empty model \n",
    "            rf = RandomForestClassifier() \n",
    "\n",
    "            # Recode \n",
    "            d = recode(d)\n",
    "            t = recode(t)\n",
    "            d_le = recode_labels(np.concatenate((\\\n",
    "                                                dev_labels\\\n",
    "                                                ,test_labels)\\\n",
    "                                                   ,axis=1))\n",
    "            d_l = d_le.transform(dev_labels)\n",
    "            t_l = d_le.transform(test_labels)\n",
    "\n",
    "            # Fit model \n",
    "            rf.fit(d, d_l)\n",
    "\n",
    "            # Predict \n",
    "            predictions = rf.predict(t)\n",
    "\n",
    "            # Measure accuracy\n",
    "            accuracy = np.sum((predictions == \\\n",
    "                               t_l)*1.0)/len(t_l)\n",
    "\n",
    "            # add result \n",
    "            out.append(accuracy)\n",
    "    \n",
    "    measure(dev_data_old.copy(), test_data_old.copy(), n, old_accuracies)\n",
    "    measure(dev_data_new.copy(), test_data_new.copy(), n, new_accuracies)\n",
    "    m_old = np.mean(old_accuracies)\n",
    "    s_old = np.std(old_accuracies)*1.0/np.sqrt(n)\n",
    "    m_new = np.mean(new_accuracies)\n",
    "    s_new = np.std(new_accuracies)*1.0/np.sqrt(n)\n",
    "    print 'Old Accuracy: {0}% +/- {1}%\\nNew Accuracy: {2}% +/- {3}%'\\\n",
    "        .format(round(m_old*100,2)\n",
    "                ,round(1.96*s_old*100,2)\n",
    "                ,round(m_new*100,2)\n",
    "                ,round(1.96*s_new*100,2)\n",
    "        )"
   ]
  },
  {
   "cell_type": "code",
   "execution_count": 95,
   "metadata": {
    "collapsed": false
   },
   "outputs": [
    {
     "name": "stdout",
     "output_type": "stream",
     "text": [
      "Old Accuracy: 22.4% +/- 0.0%\n",
      "New Accuracy: 22.56% +/- 0.02%\n"
     ]
    }
   ],
   "source": [
    "s = 100000 \n",
    "old_fields = ['PdDistrict'\\\n",
    "              ]\n",
    "new_fields = ['PdDistrict'\\\n",
    "              ,'DaySegment'\\\n",
    "             ]\n",
    "nt = train_raw.copy()\n",
    "analyze_impact(nt, old_fields, new_fields, \\\n",
    "               'Category', s, 30)"
   ]
  },
  {
   "cell_type": "markdown",
   "metadata": {},
   "source": [
    "Test Notes:\n",
    "* Adding time of day increased accuracy by ~2 percentage points, until I implemented random shuffling prior to testing - then the impact of adding time of day was negligable or only slightly positive in most trials. \n",
    "* Time of Day as an hour originally performed better than 4-hour blocks; however, after implementing random shuffling the day segment field performed better across multiple tries.\n",
    "* Adding day of month reduced model performance due to overfitting. \n",
    "* Adding year reduced model performance due to overfitting. \n",
    "* Adding Address significantly reduces model accuracy due to overfitting\n",
    "* Day of week significantly reduces model accuracy due to overfitting\n",
    "* Lat/Lon significantly reduces model accuracy due to overfitting\n",
    "* The actual expected accuracy is still very bad (<30%)"
   ]
  },
  {
   "cell_type": "markdown",
   "metadata": {},
   "source": [
    "Other notes:\n",
    "* This is a funny dataset because the only raw feature that works for prediction is Police District \n",
    "* It's a good example of how a model can easily be overfit with useless features\n",
    "* The features provided are probably not enough to accurately predict category of crime; however, lat/lon is probably quite useful with some feature engineering so that it will generalize better"
   ]
  },
  {
   "cell_type": "markdown",
   "metadata": {},
   "source": [
    "##### Add area of crime in place of lat/lon"
   ]
  },
  {
   "cell_type": "markdown",
   "metadata": {},
   "source": [
    "Looking to test out a couple options for this feature. Currently, by using the exact location of the crime, the model does not generalize very well. A couple options are available: 1) utilize publicly available datasets on city neighborhoods to classify each event into a more generalized city segment, perhaps based on income levels, 2) use a clustering algorithm like K-means to segment the training data into clusters where there are crime \"hotspots\" and add one of these as a feature (replacing lat/lon and potentially address - will test the removal of features separately). \n",
    "\n",
    "I will first attempt #2 while looking for a good option for #1."
   ]
  },
  {
   "cell_type": "code",
   "execution_count": null,
   "metadata": {
    "collapsed": true
   },
   "outputs": [],
   "source": []
  },
  {
   "cell_type": "markdown",
   "metadata": {},
   "source": [
    "##### Get data from other sources\n",
    "\n",
    "SF OpenData has a ton of supplemental data sources that will be great to try out for this effort.  "
   ]
  },
  {
   "cell_type": "code",
   "execution_count": 7,
   "metadata": {
    "collapsed": false
   },
   "outputs": [],
   "source": [
    "%matplotlib inline\n",
    "from mpl_toolkits.basemap import Basemap, cm\n",
    "import cartopy.io.shapereader as shpreader\n",
    "import fiona\n",
    "import numpy as np\n",
    "import matplotlib.pyplot as plt\n",
    "import pysal \n",
    "from pyproj import Proj\n",
    "from pysal.cg.shapes import Point\n",
    "from pysal.cg.locators import PolygonLocator, PointLocator"
   ]
  },
  {
   "cell_type": "code",
   "execution_count": 8,
   "metadata": {
    "collapsed": true
   },
   "outputs": [],
   "source": [
    "# http://spatialreference.org/ref/epsg/2227/\n",
    "p = Proj('+proj=lcc +init=EPSG:2227 +datum=NAD83 +units=us-ft +no_defs',preserve_units=True)\n",
    "convert_vals = np.vectorize(lambda x,y: p(x,y))\n",
    "convert_vals_inv = np.vectorize(lambda x,y: p(x,y,inverse=True))"
   ]
  },
  {
   "cell_type": "code",
   "execution_count": 9,
   "metadata": {
    "collapsed": true
   },
   "outputs": [],
   "source": [
    "shpfilename = 'Data/SanFranciscoElectricityUse/SanFranciscoElectricityUse.shp'\n",
    "shxfilename = 'Data/SanFranciscoElectricityUse/SanFranciscoElectricityUse.shx'"
   ]
  },
  {
   "cell_type": "code",
   "execution_count": 112,
   "metadata": {
    "collapsed": false
   },
   "outputs": [
    {
     "name": "stdout",
     "output_type": "stream",
     "text": [
      "<class 'pysal.cg.shapes.Polygon'>\n"
     ]
    }
   ],
   "source": [
    "# test reading with pysal (for analysis)\n",
    "shp = pysal.open(shpfilename,'r')\n",
    "# arcgis_dbf = pysal.open('Data/SanFranciscoElectricityUse/SanFranciscoElectricityUse.dbf','r','arcgis_dbf')\n",
    "print type(shp[0])\n",
    "shp.close()"
   ]
  },
  {
   "cell_type": "code",
   "execution_count": 97,
   "metadata": {
    "collapsed": false
   },
   "outputs": [
    {
     "name": "stdout",
     "output_type": "stream",
     "text": [
      "{'crs': {u'lon_0': -120.5, u'datum': u'NAD83', u'y_0': 500000.0000000001, u'no_defs': True, u'proj': u'lcc', u'x_0': 2000000, u'units': u'us-ft', u'lat_2': 38.43333333333333, u'lat_1': 37.06666666666667, u'lat_0': 36.5}, 'driver': u'ESRI Shapefile', 'schema': {'geometry': 'Polygon', 'properties': OrderedDict([(u'kWh_pC', 'int:9'), (u'kWh', 'int:9'), (u'Zip', 'int:9'), (u'Pop2010_zc', 'int:9')])}} \n",
      "\n",
      "OrderedDict([(u'kWh_pC', 1435), (u'kWh', 44750852), (u'Zip', 94102), (u'Pop2010_zc', 31176)])\n"
     ]
    }
   ],
   "source": [
    "# test reading with fiona\n",
    "shp = fiona.open(shpfilename)\n",
    "print shp.meta,'\\n'\n",
    "print next(shp)['properties']\n",
    "shp.close()"
   ]
  },
  {
   "cell_type": "code",
   "execution_count": 98,
   "metadata": {
    "collapsed": false
   },
   "outputs": [
    {
     "name": "stdout",
     "output_type": "stream",
     "text": [
      "{'Pop2010_zc': 31176, 'kWh': 44750852, 'kWh_pC': 1435, 'Zip': 94102} (array(-122.42974011242651), array(37.769516792469275)) (array(-122.40597462798799), array(37.789287353962244))\n"
     ]
    }
   ],
   "source": [
    "# test reading with catropy\n",
    "shp = shpreader.Reader(shpfilename)\n",
    "countries = shp.records()\n",
    "country = next(countries)\n",
    "print country.attributes,\\\n",
    "    convert_vals_inv(country.bounds[0],country.bounds[1]),\\\n",
    "    convert_vals_inv(country.bounds[2],country.bounds[3])"
   ]
  },
  {
   "cell_type": "markdown",
   "metadata": {},
   "source": [
    "Convert X,Y values into same scale as shapefile"
   ]
  },
  {
   "cell_type": "code",
   "execution_count": 137,
   "metadata": {
    "collapsed": false
   },
   "outputs": [
    {
     "name": "stdout",
     "output_type": "stream",
     "text": [
      "                 Dates        Category                      Descript  \\\n",
      "0  2015-05-13 23:53:00        WARRANTS                WARRANT ARREST   \n",
      "1  2015-05-13 23:53:00  OTHER OFFENSES      TRAFFIC VIOLATION ARREST   \n",
      "2  2015-05-13 23:33:00  OTHER OFFENSES      TRAFFIC VIOLATION ARREST   \n",
      "3  2015-05-13 23:30:00   LARCENY/THEFT  GRAND THEFT FROM LOCKED AUTO   \n",
      "4  2015-05-13 23:30:00   LARCENY/THEFT  GRAND THEFT FROM LOCKED AUTO   \n",
      "\n",
      "   DayOfWeek PdDistrict      Resolution                    Address  \\\n",
      "0  Wednesday   NORTHERN  ARREST, BOOKED         OAK ST / LAGUNA ST   \n",
      "1  Wednesday   NORTHERN  ARREST, BOOKED         OAK ST / LAGUNA ST   \n",
      "2  Wednesday   NORTHERN  ARREST, BOOKED  VANNESS AV / GREENWICH ST   \n",
      "3  Wednesday   NORTHERN            NONE   1500 Block of LOMBARD ST   \n",
      "4  Wednesday       PARK            NONE  100 Block of BRODERICK ST   \n",
      "\n",
      "            X          Y           New_X           New_Y  \n",
      "0 -122.425892  37.774599  6005079.000336  2110238.000352  \n",
      "1 -122.425892  37.774599  6005079.000336  2110238.000352  \n",
      "2 -122.424363  37.800414  6005714.000336  2119627.000352  \n",
      "3 -122.426995  37.800873  6004957.064992  2119809.494638  \n",
      "4 -122.438738  37.771541  6001343.956404  2109201.621496  \n"
     ]
    },
    {
     "name": "stderr",
     "output_type": "stream",
     "text": [
      "/Library/Python/2.7/site-packages/IPython/kernel/__main__.py:3: SettingWithCopyWarning: \n",
      "A value is trying to be set on a copy of a slice from a DataFrame.\n",
      "Try using .loc[row_indexer,col_indexer] = value instead\n",
      "\n",
      "See the the caveats in the documentation: http://pandas.pydata.org/pandas-docs/stable/indexing.html#indexing-view-versus-copy\n",
      "  app.launch_new_instance()\n"
     ]
    }
   ],
   "source": [
    "# Test converting X,Y into lat/lon coords\n",
    "t = train_raw[:5]\n",
    "t['New_X'], t['New_Y'] = \\\n",
    "    convert_vals(t['X'],t['Y'])\n",
    "print t"
   ]
  },
  {
   "cell_type": "code",
   "execution_count": 10,
   "metadata": {
    "collapsed": true
   },
   "outputs": [],
   "source": [
    "train_raw['New_X'], train_raw['New_Y'] = \\\n",
    "    convert_vals(train_raw['X'],train_raw['Y'])"
   ]
  },
  {
   "cell_type": "code",
   "execution_count": 11,
   "metadata": {
    "collapsed": false
   },
   "outputs": [
    {
     "data": {
      "text/html": [
       "<div style=\"max-height:1000px;max-width:1500px;overflow:auto;\">\n",
       "<table border=\"1\" class=\"dataframe\">\n",
       "  <thead>\n",
       "    <tr style=\"text-align: right;\">\n",
       "      <th></th>\n",
       "      <th>X</th>\n",
       "      <th>New_X</th>\n",
       "      <th>Y</th>\n",
       "      <th>New_Y</th>\n",
       "    </tr>\n",
       "  </thead>\n",
       "  <tbody>\n",
       "    <tr>\n",
       "      <th>0</th>\n",
       "      <td>-122.425892</td>\n",
       "      <td> 6005079.000336</td>\n",
       "      <td> 37.774599</td>\n",
       "      <td> 2110238.000352</td>\n",
       "    </tr>\n",
       "    <tr>\n",
       "      <th>1</th>\n",
       "      <td>-122.425892</td>\n",
       "      <td> 6005079.000336</td>\n",
       "      <td> 37.774599</td>\n",
       "      <td> 2110238.000352</td>\n",
       "    </tr>\n",
       "    <tr>\n",
       "      <th>2</th>\n",
       "      <td>-122.424363</td>\n",
       "      <td> 6005714.000336</td>\n",
       "      <td> 37.800414</td>\n",
       "      <td> 2119627.000352</td>\n",
       "    </tr>\n",
       "    <tr>\n",
       "      <th>3</th>\n",
       "      <td>-122.426995</td>\n",
       "      <td> 6004957.064992</td>\n",
       "      <td> 37.800873</td>\n",
       "      <td> 2119809.494638</td>\n",
       "    </tr>\n",
       "    <tr>\n",
       "      <th>4</th>\n",
       "      <td>-122.438738</td>\n",
       "      <td> 6001343.956404</td>\n",
       "      <td> 37.771541</td>\n",
       "      <td> 2109201.621496</td>\n",
       "    </tr>\n",
       "  </tbody>\n",
       "</table>\n",
       "</div>"
      ],
      "text/plain": [
       "            X           New_X          Y           New_Y\n",
       "0 -122.425892  6005079.000336  37.774599  2110238.000352\n",
       "1 -122.425892  6005079.000336  37.774599  2110238.000352\n",
       "2 -122.424363  6005714.000336  37.800414  2119627.000352\n",
       "3 -122.426995  6004957.064992  37.800873  2119809.494638\n",
       "4 -122.438738  6001343.956404  37.771541  2109201.621496"
      ]
     },
     "execution_count": 11,
     "metadata": {},
     "output_type": "execute_result"
    }
   ],
   "source": [
    "train_raw[['X','New_X','Y','New_Y']].head()"
   ]
  },
  {
   "cell_type": "markdown",
   "metadata": {},
   "source": [
    "Create array with shapefile properties"
   ]
  },
  {
   "cell_type": "code",
   "execution_count": 12,
   "metadata": {
    "collapsed": false
   },
   "outputs": [],
   "source": [
    "shp = fiona.open(shpfilename)\n",
    "l = np.zeros(len(shp))\n",
    "Pop2010_zc,kWh,kWh_pC,Zip = \\\n",
    "    np.zeros(len(shp)),np.zeros(len(shp)),\\\n",
    "    np.zeros(len(shp)),np.zeros(len(shp))\n",
    "for i,s in enumerate(shp):\n",
    "    Pop2010_zc[i] = s['properties']['Pop2010_zc']\n",
    "    kWh[i] = s['properties']['kWh']\n",
    "    kWh_pC[i] = s['properties']['kWh_pC']\n",
    "    Zip[i] = s['properties']['Zip']\n",
    "shp.close()"
   ]
  },
  {
   "cell_type": "markdown",
   "metadata": {},
   "source": [
    "Find appropriate electricity values to assign to each observation in training data"
   ]
  },
  {
   "cell_type": "code",
   "execution_count": 40,
   "metadata": {
    "collapsed": false
   },
   "outputs": [],
   "source": [
    "def make_points(x):\n",
    "    ''' Create list of Points objects\n",
    "    '''\n",
    "    out = []\n",
    "    n = x.shape[0]\n",
    "    for i in range(n):\n",
    "        out.append(Point((x['New_X'][i],x['New_Y'][i])))\n",
    "    return out\n",
    "points = make_points(train_raw[['New_X','New_Y']])"
   ]
  },
  {
   "cell_type": "code",
   "execution_count": null,
   "metadata": {
    "collapsed": false
   },
   "outputs": [],
   "source": [
    "shp = pysal.open(shpfilename,'r')\n",
    "pl = PolygonLocator([p for p in shp])\n",
    "shp.close()\n",
    "def return_poly_id(x):\n",
    "    ''' Find the polygon that \n",
    "        contains each point\n",
    "    '''\n",
    "    try:\n",
    "        return pl.contains_point(x)[0].id\n",
    "    except IndexError:\n",
    "        return -1\n",
    "poly_ids = np.zeros(len(points),dtype=np.int8)\n",
    "for i,p in enumerate(points):\n",
    "    if i%100000==0: print 'running {0} row'.format(i)\n",
    "    poly_ids[i] = return_poly_id(p)\n",
    "\n",
    "# Save data because this step takes >1hr to finish\n",
    "poly_ids_df = pd.DataFrame({'elect_poly_id':poly_ids})\n",
    "poly_ids_df.to_csv('Data/poly_ids.csv',index=False)"
   ]
  },
  {
   "cell_type": "markdown",
   "metadata": {},
   "source": [
    "#### Part 3 - Error Diagnosis"
   ]
  }
 ],
 "metadata": {
  "kernelspec": {
   "display_name": "Python 2",
   "language": "python",
   "name": "python2"
  },
  "language_info": {
   "codemirror_mode": {
    "name": "ipython",
    "version": 2
   },
   "file_extension": ".py",
   "mimetype": "text/x-python",
   "name": "python",
   "nbconvert_exporter": "python",
   "pygments_lexer": "ipython2",
   "version": "2.7.6"
  }
 },
 "nbformat": 4,
 "nbformat_minor": 0
}
