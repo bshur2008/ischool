{
 "cells": [
  {
   "cell_type": "markdown",
   "metadata": {},
   "source": [
    "Final Project \n",
    "======\n",
    "\n",
    "Kaggle Competition \n",
    "-----\n",
    "\n",
    "For this project I chose to do the active competition [San Francisco Crime Classification](https://www.kaggle.com/c/sf-crime/). I'll test out a number of different algorithms with test data. I am interested in this type of analysis as it is data science that contributes to the common good."
   ]
  },
  {
   "cell_type": "markdown",
   "metadata": {},
   "source": [
    "#### Import libraries"
   ]
  },
  {
   "cell_type": "code",
   "execution_count": 1,
   "metadata": {
    "collapsed": false
   },
   "outputs": [],
   "source": [
    "# Pandas and numpy\n",
    "import pandas as pd\n",
    "import numpy as np\n",
    "\n",
    "# Python functions\n",
    "from dateutil.relativedelta import *\n",
    "from datetime import datetime\n",
    "\n",
    "# Patsy \n",
    "from patsy import dmatrices\n",
    "\n",
    "# sklearn functions\n",
    "from sklearn.ensemble import RandomForestClassifier, BaggingClassifier\n",
    "from sklearn.neighbors import KNeighborsClassifier \n",
    "from sklearn.preprocessing import OneHotEncoder, Imputer\n",
    "from sklearn.preprocessing import LabelEncoder, scale\n",
    "from sklearn.pipeline import Pipeline\n",
    "from sklearn.metrics import confusion_matrix, classification_report\n",
    "from sklearn.feature_selection import SelectKBest,\\\n",
    "                        SelectPercentile, f_classif\n",
    "from sklearn.linear_model import LogisticRegression\n",
    "from sklearn.naive_bayes import MultinomialNB, BernoulliNB, GaussianNB\n",
    "from sklearn.decomposition import PCA\n",
    "from sklearn.cluster import KMeans\n",
    "from sklearn.grid_search import GridSearchCV \n",
    "from sklearn.multiclass import OneVsRestClassifier\n",
    "from sklearn.ensemble import AdaBoostClassifier\n",
    "\n",
    "# matplotlib \n",
    "import matplotlib.pyplot as plt\n",
    "%matplotlib inline\n",
    "\n",
    "# Make plots BIG\n",
    "import matplotlib.pylab as pylab\n",
    "pylab.rcParams['figure.figsize'] = 12, 8\n",
    "\n",
    "# GIS functionality\n",
    "from mpl_toolkits.basemap import Basemap, cm\n",
    "import cartopy.io.shapereader as shpreader\n",
    "import fiona\n",
    "import pysal \n",
    "from pyproj import Proj\n",
    "from pysal.cg.shapes import Point\n",
    "from pysal.cg.locators import PolygonLocator, PointLocator, BruteForcePointLocator \n",
    "from pysal.cg.sphere import arcdist"
   ]
  },
  {
   "cell_type": "code",
   "execution_count": 2,
   "metadata": {
    "collapsed": false
   },
   "outputs": [],
   "source": [
    "class MultiColumnLabelEncoder:\n",
    "    ''' Create a class that encodes\n",
    "        labels for a matrix of data\n",
    "    '''\n",
    "    def __init__(self, columns = None):\n",
    "        self.columns = columns # array of column names to encode\n",
    "\n",
    "    def fit(self,X,y=None):\n",
    "        return self # not relevant here\n",
    "    \n",
    "    def get_params(self, deep=True):\n",
    "        out = dict()\n",
    "        if self.columns: out['columns'] = columns\n",
    "        return out\n",
    "\n",
    "    def transform(self,X):\n",
    "        '''\n",
    "        Transforms columns of X specified in self.columns using\n",
    "        LabelEncoder(). \n",
    "        '''\n",
    "        numerics = [np.float16, np.float32, np.float64]\n",
    "        ints = [np.int16, np.int32, np.int64]\n",
    "        output = X.copy()\n",
    "        '''\n",
    "        if self.columns is not None:\n",
    "            for col in self.columns:\n",
    "                if col.dtype not in numerics+ints:\n",
    "                    output[col] = LabelEncoder().fit_transform(output[col])\n",
    "                elif col.dtype not in ints:\n",
    "                    output[col] = scale(output[col])\n",
    "        else:\n",
    "        '''\n",
    "        try:\n",
    "            for colname,col in output.iteritems():\n",
    "                if col.dtype not in numerics+ints:\n",
    "                    output[colname] = LabelEncoder().fit_transform(output[colname])\n",
    "                elif col.dtype not in ints:\n",
    "                    output[colname] = scale(output[colname])\n",
    "        except:\n",
    "            output = LabelEncoder().fit_transform(output)\n",
    "        return output\n",
    "\n",
    "    def fit_transform(self,X,y=None):\n",
    "        return self.fit(X,y).transform(X)"
   ]
  },
  {
   "cell_type": "markdown",
   "metadata": {},
   "source": [
    "#### Part 1 - Submit first (bad) try"
   ]
  },
  {
   "cell_type": "code",
   "execution_count": 3,
   "metadata": {
    "collapsed": false
   },
   "outputs": [
    {
     "name": "stdout",
     "output_type": "stream",
     "text": [
      "(878049, 9)\n"
     ]
    }
   ],
   "source": [
    "train_raw = pd.read_csv('Data/train.csv')\n",
    "test_raw = pd.read_csv('Data/test.csv')\n",
    "sample_submission = pd.read_csv('Data/sampleSubmission.csv')\n",
    "print train_raw.shape"
   ]
  },
  {
   "cell_type": "code",
   "execution_count": 4,
   "metadata": {
    "collapsed": false
   },
   "outputs": [
    {
     "data": {
      "text/html": [
       "<div>\n",
       "<table border=\"1\" class=\"dataframe\">\n",
       "  <thead>\n",
       "    <tr style=\"text-align: right;\">\n",
       "      <th></th>\n",
       "      <th>Dates</th>\n",
       "      <th>Category</th>\n",
       "      <th>Descript</th>\n",
       "      <th>DayOfWeek</th>\n",
       "      <th>PdDistrict</th>\n",
       "      <th>Resolution</th>\n",
       "      <th>Address</th>\n",
       "      <th>X</th>\n",
       "      <th>Y</th>\n",
       "    </tr>\n",
       "  </thead>\n",
       "  <tbody>\n",
       "    <tr>\n",
       "      <th>0</th>\n",
       "      <td>2015-05-13 23:53:00</td>\n",
       "      <td>WARRANTS</td>\n",
       "      <td>WARRANT ARREST</td>\n",
       "      <td>Wednesday</td>\n",
       "      <td>NORTHERN</td>\n",
       "      <td>ARREST, BOOKED</td>\n",
       "      <td>OAK ST / LAGUNA ST</td>\n",
       "      <td>-122.425892</td>\n",
       "      <td>37.774599</td>\n",
       "    </tr>\n",
       "    <tr>\n",
       "      <th>1</th>\n",
       "      <td>2015-05-13 23:53:00</td>\n",
       "      <td>OTHER OFFENSES</td>\n",
       "      <td>TRAFFIC VIOLATION ARREST</td>\n",
       "      <td>Wednesday</td>\n",
       "      <td>NORTHERN</td>\n",
       "      <td>ARREST, BOOKED</td>\n",
       "      <td>OAK ST / LAGUNA ST</td>\n",
       "      <td>-122.425892</td>\n",
       "      <td>37.774599</td>\n",
       "    </tr>\n",
       "    <tr>\n",
       "      <th>2</th>\n",
       "      <td>2015-05-13 23:33:00</td>\n",
       "      <td>OTHER OFFENSES</td>\n",
       "      <td>TRAFFIC VIOLATION ARREST</td>\n",
       "      <td>Wednesday</td>\n",
       "      <td>NORTHERN</td>\n",
       "      <td>ARREST, BOOKED</td>\n",
       "      <td>VANNESS AV / GREENWICH ST</td>\n",
       "      <td>-122.424363</td>\n",
       "      <td>37.800414</td>\n",
       "    </tr>\n",
       "    <tr>\n",
       "      <th>3</th>\n",
       "      <td>2015-05-13 23:30:00</td>\n",
       "      <td>LARCENY/THEFT</td>\n",
       "      <td>GRAND THEFT FROM LOCKED AUTO</td>\n",
       "      <td>Wednesday</td>\n",
       "      <td>NORTHERN</td>\n",
       "      <td>NONE</td>\n",
       "      <td>1500 Block of LOMBARD ST</td>\n",
       "      <td>-122.426995</td>\n",
       "      <td>37.800873</td>\n",
       "    </tr>\n",
       "    <tr>\n",
       "      <th>4</th>\n",
       "      <td>2015-05-13 23:30:00</td>\n",
       "      <td>LARCENY/THEFT</td>\n",
       "      <td>GRAND THEFT FROM LOCKED AUTO</td>\n",
       "      <td>Wednesday</td>\n",
       "      <td>PARK</td>\n",
       "      <td>NONE</td>\n",
       "      <td>100 Block of BRODERICK ST</td>\n",
       "      <td>-122.438738</td>\n",
       "      <td>37.771541</td>\n",
       "    </tr>\n",
       "  </tbody>\n",
       "</table>\n",
       "</div>"
      ],
      "text/plain": [
       "                 Dates        Category                      Descript  \\\n",
       "0  2015-05-13 23:53:00        WARRANTS                WARRANT ARREST   \n",
       "1  2015-05-13 23:53:00  OTHER OFFENSES      TRAFFIC VIOLATION ARREST   \n",
       "2  2015-05-13 23:33:00  OTHER OFFENSES      TRAFFIC VIOLATION ARREST   \n",
       "3  2015-05-13 23:30:00   LARCENY/THEFT  GRAND THEFT FROM LOCKED AUTO   \n",
       "4  2015-05-13 23:30:00   LARCENY/THEFT  GRAND THEFT FROM LOCKED AUTO   \n",
       "\n",
       "   DayOfWeek PdDistrict      Resolution                    Address  \\\n",
       "0  Wednesday   NORTHERN  ARREST, BOOKED         OAK ST / LAGUNA ST   \n",
       "1  Wednesday   NORTHERN  ARREST, BOOKED         OAK ST / LAGUNA ST   \n",
       "2  Wednesday   NORTHERN  ARREST, BOOKED  VANNESS AV / GREENWICH ST   \n",
       "3  Wednesday   NORTHERN            NONE   1500 Block of LOMBARD ST   \n",
       "4  Wednesday       PARK            NONE  100 Block of BRODERICK ST   \n",
       "\n",
       "            X          Y  \n",
       "0 -122.425892  37.774599  \n",
       "1 -122.425892  37.774599  \n",
       "2 -122.424363  37.800414  \n",
       "3 -122.426995  37.800873  \n",
       "4 -122.438738  37.771541  "
      ]
     },
     "execution_count": 4,
     "metadata": {},
     "output_type": "execute_result"
    }
   ],
   "source": [
    "train_raw.head()"
   ]
  },
  {
   "cell_type": "code",
   "execution_count": 5,
   "metadata": {
    "collapsed": false
   },
   "outputs": [
    {
     "data": {
      "text/html": [
       "<div>\n",
       "<table border=\"1\" class=\"dataframe\">\n",
       "  <thead>\n",
       "    <tr style=\"text-align: right;\">\n",
       "      <th></th>\n",
       "      <th>Id</th>\n",
       "      <th>Dates</th>\n",
       "      <th>DayOfWeek</th>\n",
       "      <th>PdDistrict</th>\n",
       "      <th>Address</th>\n",
       "      <th>X</th>\n",
       "      <th>Y</th>\n",
       "    </tr>\n",
       "  </thead>\n",
       "  <tbody>\n",
       "    <tr>\n",
       "      <th>0</th>\n",
       "      <td>0</td>\n",
       "      <td>2015-05-10 23:59:00</td>\n",
       "      <td>Sunday</td>\n",
       "      <td>BAYVIEW</td>\n",
       "      <td>2000 Block of THOMAS AV</td>\n",
       "      <td>-122.399588</td>\n",
       "      <td>37.735051</td>\n",
       "    </tr>\n",
       "    <tr>\n",
       "      <th>1</th>\n",
       "      <td>1</td>\n",
       "      <td>2015-05-10 23:51:00</td>\n",
       "      <td>Sunday</td>\n",
       "      <td>BAYVIEW</td>\n",
       "      <td>3RD ST / REVERE AV</td>\n",
       "      <td>-122.391523</td>\n",
       "      <td>37.732432</td>\n",
       "    </tr>\n",
       "    <tr>\n",
       "      <th>2</th>\n",
       "      <td>2</td>\n",
       "      <td>2015-05-10 23:50:00</td>\n",
       "      <td>Sunday</td>\n",
       "      <td>NORTHERN</td>\n",
       "      <td>2000 Block of GOUGH ST</td>\n",
       "      <td>-122.426002</td>\n",
       "      <td>37.792212</td>\n",
       "    </tr>\n",
       "    <tr>\n",
       "      <th>3</th>\n",
       "      <td>3</td>\n",
       "      <td>2015-05-10 23:45:00</td>\n",
       "      <td>Sunday</td>\n",
       "      <td>INGLESIDE</td>\n",
       "      <td>4700 Block of MISSION ST</td>\n",
       "      <td>-122.437394</td>\n",
       "      <td>37.721412</td>\n",
       "    </tr>\n",
       "    <tr>\n",
       "      <th>4</th>\n",
       "      <td>4</td>\n",
       "      <td>2015-05-10 23:45:00</td>\n",
       "      <td>Sunday</td>\n",
       "      <td>INGLESIDE</td>\n",
       "      <td>4700 Block of MISSION ST</td>\n",
       "      <td>-122.437394</td>\n",
       "      <td>37.721412</td>\n",
       "    </tr>\n",
       "  </tbody>\n",
       "</table>\n",
       "</div>"
      ],
      "text/plain": [
       "   Id                Dates DayOfWeek PdDistrict                   Address  \\\n",
       "0   0  2015-05-10 23:59:00    Sunday    BAYVIEW   2000 Block of THOMAS AV   \n",
       "1   1  2015-05-10 23:51:00    Sunday    BAYVIEW        3RD ST / REVERE AV   \n",
       "2   2  2015-05-10 23:50:00    Sunday   NORTHERN    2000 Block of GOUGH ST   \n",
       "3   3  2015-05-10 23:45:00    Sunday  INGLESIDE  4700 Block of MISSION ST   \n",
       "4   4  2015-05-10 23:45:00    Sunday  INGLESIDE  4700 Block of MISSION ST   \n",
       "\n",
       "            X          Y  \n",
       "0 -122.399588  37.735051  \n",
       "1 -122.391523  37.732432  \n",
       "2 -122.426002  37.792212  \n",
       "3 -122.437394  37.721412  \n",
       "4 -122.437394  37.721412  "
      ]
     },
     "execution_count": 5,
     "metadata": {},
     "output_type": "execute_result"
    }
   ],
   "source": [
    "test_raw.head()"
   ]
  },
  {
   "cell_type": "code",
   "execution_count": 6,
   "metadata": {
    "collapsed": false
   },
   "outputs": [
    {
     "data": {
      "text/html": [
       "<div>\n",
       "<table border=\"1\" class=\"dataframe\">\n",
       "  <thead>\n",
       "    <tr style=\"text-align: right;\">\n",
       "      <th></th>\n",
       "      <th>Id</th>\n",
       "      <th>ARSON</th>\n",
       "      <th>ASSAULT</th>\n",
       "      <th>BAD CHECKS</th>\n",
       "      <th>BRIBERY</th>\n",
       "      <th>BURGLARY</th>\n",
       "      <th>DISORDERLY CONDUCT</th>\n",
       "      <th>DRIVING UNDER THE INFLUENCE</th>\n",
       "      <th>DRUG/NARCOTIC</th>\n",
       "      <th>DRUNKENNESS</th>\n",
       "      <th>...</th>\n",
       "      <th>SEX OFFENSES NON FORCIBLE</th>\n",
       "      <th>STOLEN PROPERTY</th>\n",
       "      <th>SUICIDE</th>\n",
       "      <th>SUSPICIOUS OCC</th>\n",
       "      <th>TREA</th>\n",
       "      <th>TRESPASS</th>\n",
       "      <th>VANDALISM</th>\n",
       "      <th>VEHICLE THEFT</th>\n",
       "      <th>WARRANTS</th>\n",
       "      <th>WEAPON LAWS</th>\n",
       "    </tr>\n",
       "  </thead>\n",
       "  <tbody>\n",
       "    <tr>\n",
       "      <th>0</th>\n",
       "      <td>0</td>\n",
       "      <td>0</td>\n",
       "      <td>0</td>\n",
       "      <td>0</td>\n",
       "      <td>0</td>\n",
       "      <td>0</td>\n",
       "      <td>0</td>\n",
       "      <td>0</td>\n",
       "      <td>0</td>\n",
       "      <td>0</td>\n",
       "      <td>...</td>\n",
       "      <td>0</td>\n",
       "      <td>0</td>\n",
       "      <td>0</td>\n",
       "      <td>0</td>\n",
       "      <td>0</td>\n",
       "      <td>0</td>\n",
       "      <td>0</td>\n",
       "      <td>0</td>\n",
       "      <td>1</td>\n",
       "      <td>0</td>\n",
       "    </tr>\n",
       "    <tr>\n",
       "      <th>1</th>\n",
       "      <td>1</td>\n",
       "      <td>0</td>\n",
       "      <td>0</td>\n",
       "      <td>0</td>\n",
       "      <td>0</td>\n",
       "      <td>0</td>\n",
       "      <td>0</td>\n",
       "      <td>0</td>\n",
       "      <td>0</td>\n",
       "      <td>0</td>\n",
       "      <td>...</td>\n",
       "      <td>0</td>\n",
       "      <td>0</td>\n",
       "      <td>0</td>\n",
       "      <td>0</td>\n",
       "      <td>0</td>\n",
       "      <td>0</td>\n",
       "      <td>0</td>\n",
       "      <td>0</td>\n",
       "      <td>1</td>\n",
       "      <td>0</td>\n",
       "    </tr>\n",
       "    <tr>\n",
       "      <th>2</th>\n",
       "      <td>2</td>\n",
       "      <td>0</td>\n",
       "      <td>0</td>\n",
       "      <td>0</td>\n",
       "      <td>0</td>\n",
       "      <td>0</td>\n",
       "      <td>0</td>\n",
       "      <td>0</td>\n",
       "      <td>0</td>\n",
       "      <td>0</td>\n",
       "      <td>...</td>\n",
       "      <td>0</td>\n",
       "      <td>0</td>\n",
       "      <td>0</td>\n",
       "      <td>0</td>\n",
       "      <td>0</td>\n",
       "      <td>0</td>\n",
       "      <td>0</td>\n",
       "      <td>0</td>\n",
       "      <td>1</td>\n",
       "      <td>0</td>\n",
       "    </tr>\n",
       "    <tr>\n",
       "      <th>3</th>\n",
       "      <td>3</td>\n",
       "      <td>0</td>\n",
       "      <td>0</td>\n",
       "      <td>0</td>\n",
       "      <td>0</td>\n",
       "      <td>0</td>\n",
       "      <td>0</td>\n",
       "      <td>0</td>\n",
       "      <td>0</td>\n",
       "      <td>0</td>\n",
       "      <td>...</td>\n",
       "      <td>0</td>\n",
       "      <td>0</td>\n",
       "      <td>0</td>\n",
       "      <td>0</td>\n",
       "      <td>0</td>\n",
       "      <td>0</td>\n",
       "      <td>0</td>\n",
       "      <td>0</td>\n",
       "      <td>1</td>\n",
       "      <td>0</td>\n",
       "    </tr>\n",
       "    <tr>\n",
       "      <th>4</th>\n",
       "      <td>4</td>\n",
       "      <td>0</td>\n",
       "      <td>0</td>\n",
       "      <td>0</td>\n",
       "      <td>0</td>\n",
       "      <td>0</td>\n",
       "      <td>0</td>\n",
       "      <td>0</td>\n",
       "      <td>0</td>\n",
       "      <td>0</td>\n",
       "      <td>...</td>\n",
       "      <td>0</td>\n",
       "      <td>0</td>\n",
       "      <td>0</td>\n",
       "      <td>0</td>\n",
       "      <td>0</td>\n",
       "      <td>0</td>\n",
       "      <td>0</td>\n",
       "      <td>0</td>\n",
       "      <td>1</td>\n",
       "      <td>0</td>\n",
       "    </tr>\n",
       "  </tbody>\n",
       "</table>\n",
       "<p>5 rows × 40 columns</p>\n",
       "</div>"
      ],
      "text/plain": [
       "   Id  ARSON  ASSAULT  BAD CHECKS  BRIBERY  BURGLARY  DISORDERLY CONDUCT  \\\n",
       "0   0      0        0           0        0         0                   0   \n",
       "1   1      0        0           0        0         0                   0   \n",
       "2   2      0        0           0        0         0                   0   \n",
       "3   3      0        0           0        0         0                   0   \n",
       "4   4      0        0           0        0         0                   0   \n",
       "\n",
       "   DRIVING UNDER THE INFLUENCE  DRUG/NARCOTIC  DRUNKENNESS     ...       \\\n",
       "0                            0              0            0     ...        \n",
       "1                            0              0            0     ...        \n",
       "2                            0              0            0     ...        \n",
       "3                            0              0            0     ...        \n",
       "4                            0              0            0     ...        \n",
       "\n",
       "   SEX OFFENSES NON FORCIBLE  STOLEN PROPERTY  SUICIDE  SUSPICIOUS OCC  TREA  \\\n",
       "0                          0                0        0               0     0   \n",
       "1                          0                0        0               0     0   \n",
       "2                          0                0        0               0     0   \n",
       "3                          0                0        0               0     0   \n",
       "4                          0                0        0               0     0   \n",
       "\n",
       "   TRESPASS  VANDALISM  VEHICLE THEFT  WARRANTS  WEAPON LAWS  \n",
       "0         0          0              0         1            0  \n",
       "1         0          0              0         1            0  \n",
       "2         0          0              0         1            0  \n",
       "3         0          0              0         1            0  \n",
       "4         0          0              0         1            0  \n",
       "\n",
       "[5 rows x 40 columns]"
      ]
     },
     "execution_count": 6,
     "metadata": {},
     "output_type": "execute_result"
    }
   ],
   "source": [
    "sample_submission.head()"
   ]
  },
  {
   "cell_type": "code",
   "execution_count": 7,
   "metadata": {
    "collapsed": false
   },
   "outputs": [],
   "source": [
    "train_data\\\n",
    ",train_labels = train_raw[['DayOfWeek'\\\n",
    "                                     ,'PdDistrict'\\\n",
    "                                     ,'Address'\\\n",
    "                                     ,'X'\\\n",
    "                                     ,'Y']][2001:]\\\n",
    "                            ,train_raw['Category'][2001:]\n",
    "dev_data\\\n",
    ",dev_labels = train_raw[['DayOfWeek'\\\n",
    "                                 ,'PdDistrict'\\\n",
    "                                 ,'Address'\\\n",
    "                                 ,'X'\\\n",
    "                                 ,'Y']][:1000]\\\n",
    "                            ,train_raw['Category'][:1000]\n",
    "dev_test_data\\\n",
    ",dev_test_labels = train_raw[['DayOfWeek'\\\n",
    "                                 ,'PdDistrict'\\\n",
    "                                 ,'Address'\\\n",
    "                                 ,'X'\\\n",
    "                                 ,'Y']][1001:2000]\\\n",
    "                            ,train_raw['Category'][1001:2000]\n",
    "test_data = test_raw[['DayOfWeek'\\\n",
    "                     ,'PdDistrict'\\\n",
    "                     ,'Address'\\\n",
    "                     ,'X'\\\n",
    "                     ,'Y']]"
   ]
  },
  {
   "cell_type": "code",
   "execution_count": 8,
   "metadata": {
    "collapsed": false
   },
   "outputs": [],
   "source": [
    "rf = RandomForestClassifier() #leaving with default settings for now"
   ]
  },
  {
   "cell_type": "markdown",
   "metadata": {},
   "source": [
    "Data needs to be preprocessed for RF in sklearn"
   ]
  },
  {
   "cell_type": "code",
   "execution_count": 9,
   "metadata": {
    "collapsed": false
   },
   "outputs": [],
   "source": [
    "def recode(df):\n",
    "    numerics = ['float16', 'float32', 'float64']\n",
    "    ints = ['int16', 'int32', 'int64']\n",
    "    for i in range(df.shape[1]):\n",
    "        t = df.iloc[:,i].dtype\n",
    "        if t not in numerics or ints:\n",
    "            le = LabelEncoder()\n",
    "            le.fit(df.iloc[:,i])\n",
    "            df.iloc[:,i] = le.transform(df.iloc[:,i])\n",
    "        elif t not in ints:\n",
    "            df.iloc[:,i] = scale(df.iloc[:,i])\n",
    "    return df\n",
    "\n",
    "def recode_labels(df):\n",
    "    le = LabelEncoder()\n",
    "    le.fit(df)\n",
    "    return le"
   ]
  },
  {
   "cell_type": "code",
   "execution_count": 10,
   "metadata": {
    "collapsed": true
   },
   "outputs": [],
   "source": [
    "dev_data = recode(dev_data)\n",
    "dev_label_le = recode_labels(np.concatenate((dev_labels,dev_test_labels),axis=1))\n",
    "dev_labels = dev_label_le.transform(dev_labels)\n",
    "dev_test_data = recode(dev_test_data)\n",
    "dev_test_labels = dev_label_le.transform(dev_test_labels)"
   ]
  },
  {
   "cell_type": "markdown",
   "metadata": {},
   "source": [
    "Run model"
   ]
  },
  {
   "cell_type": "code",
   "execution_count": 11,
   "metadata": {
    "collapsed": false
   },
   "outputs": [
    {
     "data": {
      "text/plain": [
       "RandomForestClassifier(bootstrap=True, class_weight=None, criterion='gini',\n",
       "            max_depth=None, max_features='auto', max_leaf_nodes=None,\n",
       "            min_samples_leaf=1, min_samples_split=2,\n",
       "            min_weight_fraction_leaf=0.0, n_estimators=10, n_jobs=1,\n",
       "            oob_score=False, random_state=None, verbose=0,\n",
       "            warm_start=False)"
      ]
     },
     "execution_count": 11,
     "metadata": {},
     "output_type": "execute_result"
    }
   ],
   "source": [
    "rf.fit(dev_data,dev_labels)"
   ]
  },
  {
   "cell_type": "code",
   "execution_count": 12,
   "metadata": {
    "collapsed": false
   },
   "outputs": [],
   "source": [
    "predictions = rf.predict(dev_test_data)"
   ]
  },
  {
   "cell_type": "code",
   "execution_count": 13,
   "metadata": {
    "collapsed": false
   },
   "outputs": [
    {
     "name": "stdout",
     "output_type": "stream",
     "text": [
      "['LARCENY/THEFT' 'LARCENY/THEFT' 'ASSAULT' 'VEHICLE THEFT' 'VEHICLE THEFT'] \n",
      "['OTHER OFFENSES' 'LARCENY/THEFT' 'LARCENY/THEFT' 'WARRANTS' 'WARRANTS']\n"
     ]
    }
   ],
   "source": [
    "actual_predictions = dev_label_le.inverse_transform(predictions)\n",
    "actual_labels = dev_label_le.inverse_transform(dev_test_labels)\n",
    "print actual_predictions[:5],'\\n',actual_labels[:5]"
   ]
  },
  {
   "cell_type": "code",
   "execution_count": 14,
   "metadata": {
    "collapsed": false
   },
   "outputs": [
    {
     "name": "stdout",
     "output_type": "stream",
     "text": [
      "Dev Accuracy: 22.9%\n"
     ]
    }
   ],
   "source": [
    "accuracy = np.sum((actual_predictions == actual_labels)*1.0)/len(dev_labels)\n",
    "print 'Dev Accuracy: {0}%'.format(accuracy*100)"
   ]
  },
  {
   "cell_type": "markdown",
   "metadata": {},
   "source": [
    "Train with real data"
   ]
  },
  {
   "cell_type": "code",
   "execution_count": 15,
   "metadata": {
    "collapsed": false
   },
   "outputs": [
    {
     "name": "stderr",
     "output_type": "stream",
     "text": [
      "/Library/Python/2.7/site-packages/pandas/core/indexing.py:415: SettingWithCopyWarning: \n",
      "A value is trying to be set on a copy of a slice from a DataFrame.\n",
      "Try using .loc[row_indexer,col_indexer] = value instead\n",
      "\n",
      "See the the caveats in the documentation: http://pandas.pydata.org/pandas-docs/stable/indexing.html#indexing-view-versus-copy\n",
      "  self.obj[item] = s\n"
     ]
    }
   ],
   "source": [
    "train_data, test_data = recode(train_data), recode(test_data)\n",
    "train_le = recode_labels(train_labels)\n",
    "train_labels = train_le.transform(train_labels)"
   ]
  },
  {
   "cell_type": "code",
   "execution_count": 16,
   "metadata": {
    "collapsed": false
   },
   "outputs": [
    {
     "data": {
      "text/plain": [
       "RandomForestClassifier(bootstrap=True, class_weight=None, criterion='gini',\n",
       "            max_depth=None, max_features='auto', max_leaf_nodes=None,\n",
       "            min_samples_leaf=1, min_samples_split=2,\n",
       "            min_weight_fraction_leaf=0.0, n_estimators=10, n_jobs=1,\n",
       "            oob_score=False, random_state=None, verbose=0,\n",
       "            warm_start=False)"
      ]
     },
     "execution_count": 16,
     "metadata": {},
     "output_type": "execute_result"
    }
   ],
   "source": [
    "rf = RandomForestClassifier()\n",
    "rf.fit(train_data, train_labels)"
   ]
  },
  {
   "cell_type": "markdown",
   "metadata": {},
   "source": [
    "Make predictions and reformat for submission"
   ]
  },
  {
   "cell_type": "code",
   "execution_count": 17,
   "metadata": {
    "collapsed": false
   },
   "outputs": [],
   "source": [
    "predictions = rf.predict(test_data)\n",
    "actual_predictions = train_le.inverse_transform(predictions)"
   ]
  },
  {
   "cell_type": "code",
   "execution_count": 18,
   "metadata": {
    "collapsed": false
   },
   "outputs": [],
   "source": [
    "l = len(test_data)\n",
    "submission = np.zeros((l,40),dtype=np.int32)\n",
    "submission[:,0] = range(l)\n",
    "cols = train_le.classes_ \n",
    "for i,c in enumerate(cols):\n",
    "    submission[:,i+1] = actual_predictions == c"
   ]
  },
  {
   "cell_type": "code",
   "execution_count": 19,
   "metadata": {
    "collapsed": false
   },
   "outputs": [
    {
     "data": {
      "text/html": [
       "<div>\n",
       "<table border=\"1\" class=\"dataframe\">\n",
       "  <thead>\n",
       "    <tr style=\"text-align: right;\">\n",
       "      <th></th>\n",
       "      <th>Id</th>\n",
       "      <th>ARSON</th>\n",
       "      <th>ASSAULT</th>\n",
       "      <th>BAD CHECKS</th>\n",
       "      <th>BRIBERY</th>\n",
       "      <th>BURGLARY</th>\n",
       "      <th>DISORDERLY CONDUCT</th>\n",
       "      <th>DRIVING UNDER THE INFLUENCE</th>\n",
       "      <th>DRUG/NARCOTIC</th>\n",
       "      <th>DRUNKENNESS</th>\n",
       "      <th>...</th>\n",
       "      <th>SEX OFFENSES NON FORCIBLE</th>\n",
       "      <th>STOLEN PROPERTY</th>\n",
       "      <th>SUICIDE</th>\n",
       "      <th>SUSPICIOUS OCC</th>\n",
       "      <th>TREA</th>\n",
       "      <th>TRESPASS</th>\n",
       "      <th>VANDALISM</th>\n",
       "      <th>VEHICLE THEFT</th>\n",
       "      <th>WARRANTS</th>\n",
       "      <th>WEAPON LAWS</th>\n",
       "    </tr>\n",
       "  </thead>\n",
       "  <tbody>\n",
       "    <tr>\n",
       "      <th>0</th>\n",
       "      <td>0</td>\n",
       "      <td>0</td>\n",
       "      <td>0</td>\n",
       "      <td>0</td>\n",
       "      <td>0</td>\n",
       "      <td>0</td>\n",
       "      <td>0</td>\n",
       "      <td>0</td>\n",
       "      <td>0</td>\n",
       "      <td>0</td>\n",
       "      <td>...</td>\n",
       "      <td>0</td>\n",
       "      <td>0</td>\n",
       "      <td>0</td>\n",
       "      <td>0</td>\n",
       "      <td>0</td>\n",
       "      <td>0</td>\n",
       "      <td>0</td>\n",
       "      <td>0</td>\n",
       "      <td>0</td>\n",
       "      <td>0</td>\n",
       "    </tr>\n",
       "    <tr>\n",
       "      <th>1</th>\n",
       "      <td>1</td>\n",
       "      <td>0</td>\n",
       "      <td>1</td>\n",
       "      <td>0</td>\n",
       "      <td>0</td>\n",
       "      <td>0</td>\n",
       "      <td>0</td>\n",
       "      <td>0</td>\n",
       "      <td>0</td>\n",
       "      <td>0</td>\n",
       "      <td>...</td>\n",
       "      <td>0</td>\n",
       "      <td>0</td>\n",
       "      <td>0</td>\n",
       "      <td>0</td>\n",
       "      <td>0</td>\n",
       "      <td>0</td>\n",
       "      <td>0</td>\n",
       "      <td>0</td>\n",
       "      <td>0</td>\n",
       "      <td>0</td>\n",
       "    </tr>\n",
       "    <tr>\n",
       "      <th>2</th>\n",
       "      <td>2</td>\n",
       "      <td>0</td>\n",
       "      <td>0</td>\n",
       "      <td>0</td>\n",
       "      <td>0</td>\n",
       "      <td>1</td>\n",
       "      <td>0</td>\n",
       "      <td>0</td>\n",
       "      <td>0</td>\n",
       "      <td>0</td>\n",
       "      <td>...</td>\n",
       "      <td>0</td>\n",
       "      <td>0</td>\n",
       "      <td>0</td>\n",
       "      <td>0</td>\n",
       "      <td>0</td>\n",
       "      <td>0</td>\n",
       "      <td>0</td>\n",
       "      <td>0</td>\n",
       "      <td>0</td>\n",
       "      <td>0</td>\n",
       "    </tr>\n",
       "    <tr>\n",
       "      <th>3</th>\n",
       "      <td>3</td>\n",
       "      <td>0</td>\n",
       "      <td>1</td>\n",
       "      <td>0</td>\n",
       "      <td>0</td>\n",
       "      <td>0</td>\n",
       "      <td>0</td>\n",
       "      <td>0</td>\n",
       "      <td>0</td>\n",
       "      <td>0</td>\n",
       "      <td>...</td>\n",
       "      <td>0</td>\n",
       "      <td>0</td>\n",
       "      <td>0</td>\n",
       "      <td>0</td>\n",
       "      <td>0</td>\n",
       "      <td>0</td>\n",
       "      <td>0</td>\n",
       "      <td>0</td>\n",
       "      <td>0</td>\n",
       "      <td>0</td>\n",
       "    </tr>\n",
       "    <tr>\n",
       "      <th>4</th>\n",
       "      <td>4</td>\n",
       "      <td>0</td>\n",
       "      <td>1</td>\n",
       "      <td>0</td>\n",
       "      <td>0</td>\n",
       "      <td>0</td>\n",
       "      <td>0</td>\n",
       "      <td>0</td>\n",
       "      <td>0</td>\n",
       "      <td>0</td>\n",
       "      <td>...</td>\n",
       "      <td>0</td>\n",
       "      <td>0</td>\n",
       "      <td>0</td>\n",
       "      <td>0</td>\n",
       "      <td>0</td>\n",
       "      <td>0</td>\n",
       "      <td>0</td>\n",
       "      <td>0</td>\n",
       "      <td>0</td>\n",
       "      <td>0</td>\n",
       "    </tr>\n",
       "  </tbody>\n",
       "</table>\n",
       "<p>5 rows × 40 columns</p>\n",
       "</div>"
      ],
      "text/plain": [
       "   Id  ARSON  ASSAULT  BAD CHECKS  BRIBERY  BURGLARY  DISORDERLY CONDUCT  \\\n",
       "0   0      0        0           0        0         0                   0   \n",
       "1   1      0        1           0        0         0                   0   \n",
       "2   2      0        0           0        0         1                   0   \n",
       "3   3      0        1           0        0         0                   0   \n",
       "4   4      0        1           0        0         0                   0   \n",
       "\n",
       "   DRIVING UNDER THE INFLUENCE  DRUG/NARCOTIC  DRUNKENNESS     ...       \\\n",
       "0                            0              0            0     ...        \n",
       "1                            0              0            0     ...        \n",
       "2                            0              0            0     ...        \n",
       "3                            0              0            0     ...        \n",
       "4                            0              0            0     ...        \n",
       "\n",
       "   SEX OFFENSES NON FORCIBLE  STOLEN PROPERTY  SUICIDE  SUSPICIOUS OCC  TREA  \\\n",
       "0                          0                0        0               0     0   \n",
       "1                          0                0        0               0     0   \n",
       "2                          0                0        0               0     0   \n",
       "3                          0                0        0               0     0   \n",
       "4                          0                0        0               0     0   \n",
       "\n",
       "   TRESPASS  VANDALISM  VEHICLE THEFT  WARRANTS  WEAPON LAWS  \n",
       "0         0          0              0         0            0  \n",
       "1         0          0              0         0            0  \n",
       "2         0          0              0         0            0  \n",
       "3         0          0              0         0            0  \n",
       "4         0          0              0         0            0  \n",
       "\n",
       "[5 rows x 40 columns]"
      ]
     },
     "execution_count": 19,
     "metadata": {},
     "output_type": "execute_result"
    }
   ],
   "source": [
    "submission_cols = ['Id']\n",
    "submission_cols.extend(cols)\n",
    "submission_df = pd.DataFrame(submission,columns=submission_cols)\n",
    "submission_df.head()"
   ]
  },
  {
   "cell_type": "markdown",
   "metadata": {},
   "source": [
    "Save data to csv file for submission"
   ]
  },
  {
   "cell_type": "code",
   "execution_count": 20,
   "metadata": {
    "collapsed": false
   },
   "outputs": [],
   "source": [
    "# submission_df.to_csv('Data/submission_file1.csv',index=False)"
   ]
  },
  {
   "cell_type": "markdown",
   "metadata": {},
   "source": [
    "First attempt: Rank 208, score 26.95890, tested accuracy of ~20-23%."
   ]
  },
  {
   "cell_type": "markdown",
   "metadata": {},
   "source": [
    "##### See where model breaks down"
   ]
  },
  {
   "cell_type": "code",
   "execution_count": 21,
   "metadata": {
    "collapsed": true
   },
   "outputs": [],
   "source": [
    "dev_test_data\\\n",
    ",dev_test_labels = train_raw[['DayOfWeek'\\\n",
    "                                 ,'PdDistrict'\\\n",
    "                                 ,'Address'\\\n",
    "                                 ,'X'\\\n",
    "                                 ,'Y']][1001:2000]\\\n",
    "                            ,train_raw['Category'][1001:2000]\n",
    "dev_test_data = recode(dev_test_data)\n",
    "predictions = rf.predict(dev_test_data)\n",
    "actual_predictions = train_le.inverse_transform(predictions)"
   ]
  },
  {
   "cell_type": "code",
   "execution_count": 22,
   "metadata": {
    "collapsed": false
   },
   "outputs": [
    {
     "data": {
      "text/plain": [
       "<matplotlib.image.AxesImage at 0x115e93b50>"
      ]
     },
     "execution_count": 22,
     "metadata": {},
     "output_type": "execute_result"
    },
    {
     "data": {
      "image/png": "[encoded data removed]",
      "text/plain": [
       "<matplotlib.figure.Figure at 0x10e38fed0>"
      ]
     },
     "metadata": {},
     "output_type": "display_data"
    }
   ],
   "source": [
    "conf = confusion_matrix(dev_test_labels,actual_predictions)\n",
    "plt.imshow(conf, cmap='binary')"
   ]
  },
  {
   "cell_type": "code",
   "execution_count": 23,
   "metadata": {
    "collapsed": false
   },
   "outputs": [
    {
     "data": {
      "text/html": [
       "<div>\n",
       "<table border=\"1\" class=\"dataframe\">\n",
       "  <thead>\n",
       "    <tr style=\"text-align: right;\">\n",
       "      <th>Predicted</th>\n",
       "      <th>BURGLARY</th>\n",
       "      <th>LARCENY/THEFT</th>\n",
       "      <th>MISSING PERSON</th>\n",
       "      <th>NON-CRIMINAL</th>\n",
       "      <th>OTHER OFFENSES</th>\n",
       "      <th>RECOVERED VEHICLE</th>\n",
       "      <th>ROBBERY</th>\n",
       "      <th>SUSPICIOUS OCC</th>\n",
       "      <th>VANDALISM</th>\n",
       "      <th>VEHICLE THEFT</th>\n",
       "      <th>All</th>\n",
       "    </tr>\n",
       "    <tr>\n",
       "      <th>True</th>\n",
       "      <th></th>\n",
       "      <th></th>\n",
       "      <th></th>\n",
       "      <th></th>\n",
       "      <th></th>\n",
       "      <th></th>\n",
       "      <th></th>\n",
       "      <th></th>\n",
       "      <th></th>\n",
       "      <th></th>\n",
       "      <th></th>\n",
       "    </tr>\n",
       "  </thead>\n",
       "  <tbody>\n",
       "    <tr>\n",
       "      <th>ARSON</th>\n",
       "      <td>0</td>\n",
       "      <td>4</td>\n",
       "      <td>0</td>\n",
       "      <td>0</td>\n",
       "      <td>0</td>\n",
       "      <td>0</td>\n",
       "      <td>0</td>\n",
       "      <td>0</td>\n",
       "      <td>0</td>\n",
       "      <td>0</td>\n",
       "      <td>4</td>\n",
       "    </tr>\n",
       "    <tr>\n",
       "      <th>ASSAULT</th>\n",
       "      <td>6</td>\n",
       "      <td>49</td>\n",
       "      <td>0</td>\n",
       "      <td>13</td>\n",
       "      <td>2</td>\n",
       "      <td>3</td>\n",
       "      <td>0</td>\n",
       "      <td>0</td>\n",
       "      <td>0</td>\n",
       "      <td>6</td>\n",
       "      <td>79</td>\n",
       "    </tr>\n",
       "    <tr>\n",
       "      <th>BRIBERY</th>\n",
       "      <td>0</td>\n",
       "      <td>0</td>\n",
       "      <td>0</td>\n",
       "      <td>1</td>\n",
       "      <td>0</td>\n",
       "      <td>0</td>\n",
       "      <td>0</td>\n",
       "      <td>0</td>\n",
       "      <td>0</td>\n",
       "      <td>0</td>\n",
       "      <td>1</td>\n",
       "    </tr>\n",
       "    <tr>\n",
       "      <th>BURGLARY</th>\n",
       "      <td>1</td>\n",
       "      <td>26</td>\n",
       "      <td>0</td>\n",
       "      <td>7</td>\n",
       "      <td>0</td>\n",
       "      <td>2</td>\n",
       "      <td>0</td>\n",
       "      <td>0</td>\n",
       "      <td>1</td>\n",
       "      <td>2</td>\n",
       "      <td>39</td>\n",
       "    </tr>\n",
       "    <tr>\n",
       "      <th>DISORDERLY CONDUCT</th>\n",
       "      <td>0</td>\n",
       "      <td>1</td>\n",
       "      <td>0</td>\n",
       "      <td>0</td>\n",
       "      <td>1</td>\n",
       "      <td>0</td>\n",
       "      <td>0</td>\n",
       "      <td>0</td>\n",
       "      <td>0</td>\n",
       "      <td>0</td>\n",
       "      <td>2</td>\n",
       "    </tr>\n",
       "    <tr>\n",
       "      <th>DRIVING UNDER THE INFLUENCE</th>\n",
       "      <td>0</td>\n",
       "      <td>6</td>\n",
       "      <td>0</td>\n",
       "      <td>0</td>\n",
       "      <td>0</td>\n",
       "      <td>0</td>\n",
       "      <td>0</td>\n",
       "      <td>0</td>\n",
       "      <td>0</td>\n",
       "      <td>0</td>\n",
       "      <td>6</td>\n",
       "    </tr>\n",
       "    <tr>\n",
       "      <th>DRUG/NARCOTIC</th>\n",
       "      <td>0</td>\n",
       "      <td>13</td>\n",
       "      <td>0</td>\n",
       "      <td>1</td>\n",
       "      <td>1</td>\n",
       "      <td>0</td>\n",
       "      <td>0</td>\n",
       "      <td>0</td>\n",
       "      <td>0</td>\n",
       "      <td>2</td>\n",
       "      <td>17</td>\n",
       "    </tr>\n",
       "    <tr>\n",
       "      <th>DRUNKENNESS</th>\n",
       "      <td>1</td>\n",
       "      <td>4</td>\n",
       "      <td>0</td>\n",
       "      <td>0</td>\n",
       "      <td>0</td>\n",
       "      <td>0</td>\n",
       "      <td>0</td>\n",
       "      <td>0</td>\n",
       "      <td>0</td>\n",
       "      <td>0</td>\n",
       "      <td>5</td>\n",
       "    </tr>\n",
       "    <tr>\n",
       "      <th>FRAUD</th>\n",
       "      <td>1</td>\n",
       "      <td>12</td>\n",
       "      <td>0</td>\n",
       "      <td>3</td>\n",
       "      <td>0</td>\n",
       "      <td>1</td>\n",
       "      <td>0</td>\n",
       "      <td>0</td>\n",
       "      <td>1</td>\n",
       "      <td>3</td>\n",
       "      <td>21</td>\n",
       "    </tr>\n",
       "    <tr>\n",
       "      <th>KIDNAPPING</th>\n",
       "      <td>0</td>\n",
       "      <td>4</td>\n",
       "      <td>0</td>\n",
       "      <td>1</td>\n",
       "      <td>0</td>\n",
       "      <td>1</td>\n",
       "      <td>0</td>\n",
       "      <td>0</td>\n",
       "      <td>0</td>\n",
       "      <td>0</td>\n",
       "      <td>6</td>\n",
       "    </tr>\n",
       "    <tr>\n",
       "      <th>LARCENY/THEFT</th>\n",
       "      <td>12</td>\n",
       "      <td>174</td>\n",
       "      <td>0</td>\n",
       "      <td>24</td>\n",
       "      <td>12</td>\n",
       "      <td>12</td>\n",
       "      <td>1</td>\n",
       "      <td>0</td>\n",
       "      <td>13</td>\n",
       "      <td>32</td>\n",
       "      <td>280</td>\n",
       "    </tr>\n",
       "    <tr>\n",
       "      <th>LIQUOR LAWS</th>\n",
       "      <td>1</td>\n",
       "      <td>1</td>\n",
       "      <td>0</td>\n",
       "      <td>0</td>\n",
       "      <td>0</td>\n",
       "      <td>0</td>\n",
       "      <td>0</td>\n",
       "      <td>0</td>\n",
       "      <td>0</td>\n",
       "      <td>0</td>\n",
       "      <td>2</td>\n",
       "    </tr>\n",
       "    <tr>\n",
       "      <th>MISSING PERSON</th>\n",
       "      <td>0</td>\n",
       "      <td>18</td>\n",
       "      <td>0</td>\n",
       "      <td>1</td>\n",
       "      <td>0</td>\n",
       "      <td>0</td>\n",
       "      <td>0</td>\n",
       "      <td>0</td>\n",
       "      <td>0</td>\n",
       "      <td>2</td>\n",
       "      <td>21</td>\n",
       "    </tr>\n",
       "    <tr>\n",
       "      <th>NON-CRIMINAL</th>\n",
       "      <td>7</td>\n",
       "      <td>92</td>\n",
       "      <td>0</td>\n",
       "      <td>11</td>\n",
       "      <td>6</td>\n",
       "      <td>1</td>\n",
       "      <td>0</td>\n",
       "      <td>1</td>\n",
       "      <td>3</td>\n",
       "      <td>9</td>\n",
       "      <td>130</td>\n",
       "    </tr>\n",
       "    <tr>\n",
       "      <th>OTHER OFFENSES</th>\n",
       "      <td>3</td>\n",
       "      <td>80</td>\n",
       "      <td>0</td>\n",
       "      <td>8</td>\n",
       "      <td>1</td>\n",
       "      <td>0</td>\n",
       "      <td>0</td>\n",
       "      <td>0</td>\n",
       "      <td>6</td>\n",
       "      <td>7</td>\n",
       "      <td>105</td>\n",
       "    </tr>\n",
       "    <tr>\n",
       "      <th>ROBBERY</th>\n",
       "      <td>0</td>\n",
       "      <td>20</td>\n",
       "      <td>0</td>\n",
       "      <td>0</td>\n",
       "      <td>1</td>\n",
       "      <td>0</td>\n",
       "      <td>0</td>\n",
       "      <td>0</td>\n",
       "      <td>2</td>\n",
       "      <td>0</td>\n",
       "      <td>23</td>\n",
       "    </tr>\n",
       "    <tr>\n",
       "      <th>SECONDARY CODES</th>\n",
       "      <td>0</td>\n",
       "      <td>6</td>\n",
       "      <td>0</td>\n",
       "      <td>2</td>\n",
       "      <td>0</td>\n",
       "      <td>1</td>\n",
       "      <td>0</td>\n",
       "      <td>0</td>\n",
       "      <td>0</td>\n",
       "      <td>1</td>\n",
       "      <td>10</td>\n",
       "    </tr>\n",
       "    <tr>\n",
       "      <th>SEX OFFENSES FORCIBLE</th>\n",
       "      <td>2</td>\n",
       "      <td>9</td>\n",
       "      <td>0</td>\n",
       "      <td>2</td>\n",
       "      <td>0</td>\n",
       "      <td>1</td>\n",
       "      <td>0</td>\n",
       "      <td>0</td>\n",
       "      <td>0</td>\n",
       "      <td>0</td>\n",
       "      <td>14</td>\n",
       "    </tr>\n",
       "    <tr>\n",
       "      <th>STOLEN PROPERTY</th>\n",
       "      <td>0</td>\n",
       "      <td>4</td>\n",
       "      <td>0</td>\n",
       "      <td>0</td>\n",
       "      <td>0</td>\n",
       "      <td>0</td>\n",
       "      <td>0</td>\n",
       "      <td>0</td>\n",
       "      <td>1</td>\n",
       "      <td>0</td>\n",
       "      <td>5</td>\n",
       "    </tr>\n",
       "    <tr>\n",
       "      <th>SUSPICIOUS OCC</th>\n",
       "      <td>1</td>\n",
       "      <td>26</td>\n",
       "      <td>0</td>\n",
       "      <td>2</td>\n",
       "      <td>0</td>\n",
       "      <td>0</td>\n",
       "      <td>0</td>\n",
       "      <td>0</td>\n",
       "      <td>1</td>\n",
       "      <td>4</td>\n",
       "      <td>34</td>\n",
       "    </tr>\n",
       "    <tr>\n",
       "      <th>TRESPASS</th>\n",
       "      <td>0</td>\n",
       "      <td>2</td>\n",
       "      <td>0</td>\n",
       "      <td>3</td>\n",
       "      <td>1</td>\n",
       "      <td>0</td>\n",
       "      <td>0</td>\n",
       "      <td>0</td>\n",
       "      <td>3</td>\n",
       "      <td>1</td>\n",
       "      <td>10</td>\n",
       "    </tr>\n",
       "    <tr>\n",
       "      <th>VANDALISM</th>\n",
       "      <td>4</td>\n",
       "      <td>40</td>\n",
       "      <td>0</td>\n",
       "      <td>2</td>\n",
       "      <td>1</td>\n",
       "      <td>2</td>\n",
       "      <td>2</td>\n",
       "      <td>0</td>\n",
       "      <td>3</td>\n",
       "      <td>5</td>\n",
       "      <td>59</td>\n",
       "    </tr>\n",
       "    <tr>\n",
       "      <th>VEHICLE THEFT</th>\n",
       "      <td>1</td>\n",
       "      <td>67</td>\n",
       "      <td>2</td>\n",
       "      <td>5</td>\n",
       "      <td>2</td>\n",
       "      <td>1</td>\n",
       "      <td>0</td>\n",
       "      <td>0</td>\n",
       "      <td>1</td>\n",
       "      <td>1</td>\n",
       "      <td>80</td>\n",
       "    </tr>\n",
       "    <tr>\n",
       "      <th>WARRANTS</th>\n",
       "      <td>0</td>\n",
       "      <td>24</td>\n",
       "      <td>0</td>\n",
       "      <td>2</td>\n",
       "      <td>1</td>\n",
       "      <td>0</td>\n",
       "      <td>1</td>\n",
       "      <td>0</td>\n",
       "      <td>1</td>\n",
       "      <td>4</td>\n",
       "      <td>33</td>\n",
       "    </tr>\n",
       "    <tr>\n",
       "      <th>WEAPON LAWS</th>\n",
       "      <td>0</td>\n",
       "      <td>12</td>\n",
       "      <td>0</td>\n",
       "      <td>1</td>\n",
       "      <td>0</td>\n",
       "      <td>0</td>\n",
       "      <td>0</td>\n",
       "      <td>0</td>\n",
       "      <td>0</td>\n",
       "      <td>0</td>\n",
       "      <td>13</td>\n",
       "    </tr>\n",
       "    <tr>\n",
       "      <th>All</th>\n",
       "      <td>40</td>\n",
       "      <td>694</td>\n",
       "      <td>2</td>\n",
       "      <td>89</td>\n",
       "      <td>29</td>\n",
       "      <td>25</td>\n",
       "      <td>4</td>\n",
       "      <td>1</td>\n",
       "      <td>36</td>\n",
       "      <td>79</td>\n",
       "      <td>999</td>\n",
       "    </tr>\n",
       "  </tbody>\n",
       "</table>\n",
       "</div>"
      ],
      "text/plain": [
       "Predicted                    BURGLARY  LARCENY/THEFT  MISSING PERSON  \\\n",
       "True                                                                   \n",
       "ARSON                               0              4               0   \n",
       "ASSAULT                             6             49               0   \n",
       "BRIBERY                             0              0               0   \n",
       "BURGLARY                            1             26               0   \n",
       "DISORDERLY CONDUCT                  0              1               0   \n",
       "DRIVING UNDER THE INFLUENCE         0              6               0   \n",
       "DRUG/NARCOTIC                       0             13               0   \n",
       "DRUNKENNESS                         1              4               0   \n",
       "FRAUD                               1             12               0   \n",
       "KIDNAPPING                          0              4               0   \n",
       "LARCENY/THEFT                      12            174               0   \n",
       "LIQUOR LAWS                         1              1               0   \n",
       "MISSING PERSON                      0             18               0   \n",
       "NON-CRIMINAL                        7             92               0   \n",
       "OTHER OFFENSES                      3             80               0   \n",
       "ROBBERY                             0             20               0   \n",
       "SECONDARY CODES                     0              6               0   \n",
       "SEX OFFENSES FORCIBLE               2              9               0   \n",
       "STOLEN PROPERTY                     0              4               0   \n",
       "SUSPICIOUS OCC                      1             26               0   \n",
       "TRESPASS                            0              2               0   \n",
       "VANDALISM                           4             40               0   \n",
       "VEHICLE THEFT                       1             67               2   \n",
       "WARRANTS                            0             24               0   \n",
       "WEAPON LAWS                         0             12               0   \n",
       "All                                40            694               2   \n",
       "\n",
       "Predicted                    NON-CRIMINAL  OTHER OFFENSES  RECOVERED VEHICLE  \\\n",
       "True                                                                           \n",
       "ARSON                                   0               0                  0   \n",
       "ASSAULT                                13               2                  3   \n",
       "BRIBERY                                 1               0                  0   \n",
       "BURGLARY                                7               0                  2   \n",
       "DISORDERLY CONDUCT                      0               1                  0   \n",
       "DRIVING UNDER THE INFLUENCE             0               0                  0   \n",
       "DRUG/NARCOTIC                           1               1                  0   \n",
       "DRUNKENNESS                             0               0                  0   \n",
       "FRAUD                                   3               0                  1   \n",
       "KIDNAPPING                              1               0                  1   \n",
       "LARCENY/THEFT                          24              12                 12   \n",
       "LIQUOR LAWS                             0               0                  0   \n",
       "MISSING PERSON                          1               0                  0   \n",
       "NON-CRIMINAL                           11               6                  1   \n",
       "OTHER OFFENSES                          8               1                  0   \n",
       "ROBBERY                                 0               1                  0   \n",
       "SECONDARY CODES                         2               0                  1   \n",
       "SEX OFFENSES FORCIBLE                   2               0                  1   \n",
       "STOLEN PROPERTY                         0               0                  0   \n",
       "SUSPICIOUS OCC                          2               0                  0   \n",
       "TRESPASS                                3               1                  0   \n",
       "VANDALISM                               2               1                  2   \n",
       "VEHICLE THEFT                           5               2                  1   \n",
       "WARRANTS                                2               1                  0   \n",
       "WEAPON LAWS                             1               0                  0   \n",
       "All                                    89              29                 25   \n",
       "\n",
       "Predicted                    ROBBERY  SUSPICIOUS OCC  VANDALISM  \\\n",
       "True                                                              \n",
       "ARSON                              0               0          0   \n",
       "ASSAULT                            0               0          0   \n",
       "BRIBERY                            0               0          0   \n",
       "BURGLARY                           0               0          1   \n",
       "DISORDERLY CONDUCT                 0               0          0   \n",
       "DRIVING UNDER THE INFLUENCE        0               0          0   \n",
       "DRUG/NARCOTIC                      0               0          0   \n",
       "DRUNKENNESS                        0               0          0   \n",
       "FRAUD                              0               0          1   \n",
       "KIDNAPPING                         0               0          0   \n",
       "LARCENY/THEFT                      1               0         13   \n",
       "LIQUOR LAWS                        0               0          0   \n",
       "MISSING PERSON                     0               0          0   \n",
       "NON-CRIMINAL                       0               1          3   \n",
       "OTHER OFFENSES                     0               0          6   \n",
       "ROBBERY                            0               0          2   \n",
       "SECONDARY CODES                    0               0          0   \n",
       "SEX OFFENSES FORCIBLE              0               0          0   \n",
       "STOLEN PROPERTY                    0               0          1   \n",
       "SUSPICIOUS OCC                     0               0          1   \n",
       "TRESPASS                           0               0          3   \n",
       "VANDALISM                          2               0          3   \n",
       "VEHICLE THEFT                      0               0          1   \n",
       "WARRANTS                           1               0          1   \n",
       "WEAPON LAWS                        0               0          0   \n",
       "All                                4               1         36   \n",
       "\n",
       "Predicted                    VEHICLE THEFT  All  \n",
       "True                                             \n",
       "ARSON                                    0    4  \n",
       "ASSAULT                                  6   79  \n",
       "BRIBERY                                  0    1  \n",
       "BURGLARY                                 2   39  \n",
       "DISORDERLY CONDUCT                       0    2  \n",
       "DRIVING UNDER THE INFLUENCE              0    6  \n",
       "DRUG/NARCOTIC                            2   17  \n",
       "DRUNKENNESS                              0    5  \n",
       "FRAUD                                    3   21  \n",
       "KIDNAPPING                               0    6  \n",
       "LARCENY/THEFT                           32  280  \n",
       "LIQUOR LAWS                              0    2  \n",
       "MISSING PERSON                           2   21  \n",
       "NON-CRIMINAL                             9  130  \n",
       "OTHER OFFENSES                           7  105  \n",
       "ROBBERY                                  0   23  \n",
       "SECONDARY CODES                          1   10  \n",
       "SEX OFFENSES FORCIBLE                    0   14  \n",
       "STOLEN PROPERTY                          0    5  \n",
       "SUSPICIOUS OCC                           4   34  \n",
       "TRESPASS                                 1   10  \n",
       "VANDALISM                                5   59  \n",
       "VEHICLE THEFT                            1   80  \n",
       "WARRANTS                                 4   33  \n",
       "WEAPON LAWS                              0   13  \n",
       "All                                     79  999  "
      ]
     },
     "execution_count": 23,
     "metadata": {},
     "output_type": "execute_result"
    }
   ],
   "source": [
    "pd.crosstab(dev_test_labels, actual_predictions, rownames=['True'], colnames=['Predicted'], margins=True)"
   ]
  },
  {
   "cell_type": "markdown",
   "metadata": {},
   "source": [
    "Since samples are not weighted well in terms of categories, the model seems to be having difficulties with categories that have a larger amount of observations - likely because all of the conditions used to predict crimes are seen more frequently for the samples with more observations. To make the model generalize better, it will be necessary to resample the dataset so that possible outcomes are represented more evenly. "
   ]
  },
  {
   "cell_type": "markdown",
   "metadata": {},
   "source": [
    "#### Part 2 - Tests to increase accuracy"
   ]
  },
  {
   "cell_type": "code",
   "execution_count": 24,
   "metadata": {
    "collapsed": false
   },
   "outputs": [
    {
     "name": "stdout",
     "output_type": "stream",
     "text": [
      "(878049, 9)\n"
     ]
    }
   ],
   "source": [
    "# Reload data - start from here \n",
    "train_raw = pd.read_csv('Data/train.csv')\n",
    "test_raw = pd.read_csv('Data/test.csv')\n",
    "sample_submission = pd.read_csv('Data/sampleSubmission.csv')\n",
    "print train_raw.shape"
   ]
  },
  {
   "cell_type": "markdown",
   "metadata": {},
   "source": [
    "##### Gather together cases that seem to be at same time/location or otherwise related\n",
    "This did not have a positive effect on model - will probably remove"
   ]
  },
  {
   "cell_type": "code",
   "execution_count": 25,
   "metadata": {
    "collapsed": false
   },
   "outputs": [],
   "source": [
    "def gather_crimes(df):\n",
    "    ''' Some crimes seem to be linked\n",
    "        to each other \n",
    "        Group crimes in the same address\n",
    "        within an hour of each other\n",
    "    '''\n",
    "    n = df.shape[0]\n",
    "    out = np.zeros(n,dtype=np.int64)\n",
    "    d_last = datetime(1970,1,1)\n",
    "    addr_last = 'Unknown'\n",
    "    x = 0\n",
    "    for i in range(n):\n",
    "        if i%100000==0: print 'Working row {0}'.format(i)\n",
    "        d = df.iloc[i]['Dates']\n",
    "        if d < d_last: raise Exception('Dates not sorted')\n",
    "        addr = df.iloc[i]['Address']\n",
    "        r = d+relativedelta(hours=-1)\n",
    "        if r > d_last or addr_last!=addr: x+=1\n",
    "        d_last = d\n",
    "        addr_last = addr\n",
    "        out[i] = x\n",
    "    return out\n",
    "\n",
    "def run_crimegrouping():\n",
    "    train_raw['Dates'] = pd.to_datetime(train_raw['Dates'])\n",
    "    test_raw['Dates'] = pd.to_datetime(test_raw['Dates'])\n",
    "    train_raw = train_raw.sort(['Dates'],kind='mergesort')\n",
    "    test_raw = test_raw.sort(['Dates'],kind='mergesort')\n",
    "    train_raw['crime_groupid'] = gather_crimes(train_raw)\n",
    "    test_raw['crime_groupid'] = gather_crimes(test_raw)\n",
    "    train_raw.to_csv('Data/train_raw_wcrimegroup.csv',index=False)\n",
    "    test_raw.to_csv('Data/test_raw_wcrimegroup.csv',index=False)"
   ]
  },
  {
   "cell_type": "code",
   "execution_count": 36,
   "metadata": {
    "collapsed": false
   },
   "outputs": [],
   "source": [
    "def collar_crimes(x):\n",
    "    ''' Add a meta category for \n",
    "        crimes based on the skills\n",
    "        required\n",
    "    '''\n",
    "    white_collar = [ \"FRAUD\"\n",
    "                   , \"FORGERY/COUNTERFEITING\"\n",
    "                   , \"BAD CHECKS\" \n",
    "                   , \"EXTORTION\"\n",
    "                   , \"EMBEZZLEMENT\"\n",
    "                   , \"BRIBERY\"\n",
    "                   , 'NON-CRIMINAL'\n",
    "                   , 'SUSPICIOUS OCC'\n",
    "                   , 'LOITERING'\n",
    "                   ]\n",
    "    blue_collar_violent = [ \n",
    "                   \"ASSAULT\"\n",
    "                   , \"KIDNAPPING\"\n",
    "                   , \"ARSON\"\n",
    "                   , 'FAMILY OFFENSES'\n",
    "                   , 'SECONDARY CODES'\n",
    "                  ]\n",
    "    blue_collar_other = [\n",
    "                \"VANDALISM\"\n",
    "                ,\"DISORDERLY CONDUCT\"\n",
    "                , \"TRESPASS\"\n",
    "                , 'TREA'\n",
    "    ]\n",
    "    sex_crimes = [\n",
    "            'SEX OFFENSES FORCIBLE',\n",
    "            'PORNOGRAPHY/OBSCENE MAT',\n",
    "            'SEX OFFENSES NON FORCIBLE',\n",
    "            'PROSTITUTION'\n",
    "        ]\n",
    "    drug_alcohol = [\n",
    "        'DRIVING UNDER THE INFLUENCE',\n",
    "        'DRUNKENNESS',\n",
    "        'DRUG/NARCOTIC',\n",
    "        'LIQUOR LAWS'\n",
    "    ]\n",
    "    theft = [\n",
    "        'LARCENY/THEFT',\n",
    "         'STOLEN PROPERTY',\n",
    "         \"ROBBERY\"\n",
    "    ]\n",
    "    vehicle = [\n",
    "        'RECOVERED VEHICLE',\n",
    "        \"RECOVERED VEHICLE\",\n",
    "        'VEHICLE THEFT',\n",
    "    ]\n",
    "    missing = [\n",
    "        'MISSING PERSON',\n",
    "        'RUNAWAY',\n",
    "        'SUICIDE'\n",
    "    ]\n",
    "    if x in white_collar: return 1\n",
    "    elif x in blue_collar_violent: return 2\n",
    "    elif x in blue_collar_other: return 3\n",
    "    elif x in sex_crimes: return 4\n",
    "    elif x in drug_alcohol: return 5\n",
    "    elif x in theft: return 6\n",
    "    elif x in vehicle: return 7 \n",
    "    elif x in missing: return 8\n",
    "    else: return 9\n",
    "collar_crimes = np.vectorize(collar_crimes,otypes=[np.int64])\n",
    "train_raw['collar_id'] = collar_crimes(train_raw['Category'])"
   ]
  },
  {
   "cell_type": "markdown",
   "metadata": {},
   "source": [
    "Since we don't have crime category in the final set of data, test out prediction of metaclass within training set"
   ]
  },
  {
   "cell_type": "code",
   "execution_count": 27,
   "metadata": {
    "collapsed": false
   },
   "outputs": [
    {
     "name": "stdout",
     "output_type": "stream",
     "text": [
      "Category\n",
      "ARSON                           3.857515\n",
      "ASSAULT                         0.541167\n",
      "BAD CHECKS                      7.446703\n",
      "BRIBERY                         8.826289\n",
      "BURGLARY                        0.782652\n",
      "DISORDERLY CONDUCT              2.282891\n",
      "DRIVING UNDER THE INFLUENCE     3.150689\n",
      "DRUG/NARCOTIC                   0.645873\n",
      "DRUNKENNESS                     2.293534\n",
      "EMBEZZLEMENT                    4.394180\n",
      "EXTORTION                       9.377932\n",
      "FAMILY OFFENSES                 6.771523\n",
      "FORGERY/COUNTERFEITING          1.456766\n",
      "FRAUD                           1.161829\n",
      "GAMBLING                       12.417971\n",
      "KIDNAPPING                      3.101176\n",
      "LARCENY/THEFT                   0.358783\n",
      "LIQUOR LAWS                     3.439598\n",
      "LOITERING                       4.287055\n",
      "MISSING PERSON                  0.930748\n",
      "NON-CRIMINAL                    0.493875\n",
      "OTHER OFFENSES                  0.422404\n",
      "PORNOGRAPHY/OBSCENE MAT        31.990110\n",
      "PROSTITUTION                    1.734444\n",
      "RECOVERED VEHICLE               2.678555\n",
      "ROBBERY                         0.989380\n",
      "RUNAWAY                         3.401384\n",
      "SECONDARY CODES                 1.501596\n",
      "SEX OFFENSES FORCIBLE           2.265133\n",
      "SEX OFFENSES NON FORCIBLE      12.333780\n",
      "STOLEN PROPERTY                 2.226892\n",
      "SUICIDE                         6.657255\n",
      "SUSPICIOUS OCC                  0.846575\n",
      "TREA                           61.256397\n",
      "TRESPASS                        1.753047\n",
      "VANDALISM                       0.709499\n",
      "VEHICLE THEFT                   0.647012\n",
      "WARRANTS                        0.730296\n",
      "WEAPON LAWS                     1.622247\n",
      "Name: Category, dtype: float64\n"
     ]
    }
   ],
   "source": [
    "def make_classweights():\n",
    "    g = train_raw.groupby('Category')\n",
    "    class_weights = np.sqrt(np.mean(g['Category'].agg(len))/g['Category'].agg(len))\n",
    "    class_weights_df = pd.DataFrame({'Category':class_weights.index.values,'Weight':class_weights.values})\n",
    "    train_raw['sample_weight'] = pd.merge(train_raw,class_weights_df,on=['Category'])['Weight']\n",
    "    print class_weights\n",
    "    return class_weights\n",
    "\n",
    "class_weights = make_classweights()"
   ]
  },
  {
   "cell_type": "code",
   "execution_count": 28,
   "metadata": {
    "collapsed": false
   },
   "outputs": [
    {
     "name": "stdout",
     "output_type": "stream",
     "text": [
      "Category\n",
      "ARSON                          1004\n",
      "ASSAULT                        1008\n",
      "BAD CHECKS                      970\n",
      "BRIBERY                         996\n",
      "BURGLARY                       1003\n",
      "DISORDERLY CONDUCT             1029\n",
      "DRIVING UNDER THE INFLUENCE     972\n",
      "DRUG/NARCOTIC                   993\n",
      "DRUNKENNESS                    1007\n",
      "EMBEZZLEMENT                   1001\n",
      "EXTORTION                       965\n",
      "FAMILY OFFENSES                1002\n",
      "FORGERY/COUNTERFEITING         1000\n",
      "FRAUD                          1008\n",
      "GAMBLING                       1007\n",
      "KIDNAPPING                      981\n",
      "LARCENY/THEFT                  1025\n",
      "LIQUOR LAWS                    1063\n",
      "LOITERING                      1027\n",
      "MISSING PERSON                  966\n",
      "NON-CRIMINAL                    983\n",
      "OTHER OFFENSES                  948\n",
      "PORNOGRAPHY/OBSCENE MAT        1016\n",
      "PROSTITUTION                    980\n",
      "RECOVERED VEHICLE               996\n",
      "ROBBERY                        1033\n",
      "RUNAWAY                         997\n",
      "SECONDARY CODES                1030\n",
      "SEX OFFENSES FORCIBLE          1014\n",
      "SEX OFFENSES NON FORCIBLE      1069\n",
      "STOLEN PROPERTY                 977\n",
      "SUICIDE                        1030\n",
      "SUSPICIOUS OCC                  973\n",
      "TREA                           1003\n",
      "TRESPASS                        981\n",
      "VANDALISM                      1014\n",
      "VEHICLE THEFT                   965\n",
      "WARRANTS                        978\n",
      "WEAPON LAWS                     986\n",
      "Name: Category, dtype: int64\n"
     ]
    }
   ],
   "source": [
    "def sample_df(df,group_name,groups,group_n):\n",
    "    ''' Since sample weighting \n",
    "        doesn't seem to work properly,\n",
    "        instead do sampling manually with \n",
    "        even group size \n",
    "    '''\n",
    "    x = df.copy()\n",
    "    out = []\n",
    "    for g in groups:\n",
    "        try:\n",
    "            # Replace only when necessary\n",
    "            out.append(x[x[group_name]==g].\\\n",
    "                   sample(group_n,replace=False))\n",
    "        except:\n",
    "            n = len(x[x[group_name]==g])\n",
    "            out.append(x[x[group_name]==g])\n",
    "            out.append(x[x[group_name]==g]\\\n",
    "                   .sample(group_n-n,replace=True))\n",
    "    out_df = pd.concat(out)\n",
    "    s = out_df.sample(group_n*len(groups)\\\n",
    "                      ,replace=True)\n",
    "    return s\n",
    "        \n",
    "z = sample_df(train_raw,'Category',set(train_raw['Category']),\\\n",
    "                                      group_n=1000)\n",
    "g = z.groupby(['Category'])['Category'].agg(len)\n",
    "print g"
   ]
  },
  {
   "cell_type": "markdown",
   "metadata": {},
   "source": [
    "##### Add time of day "
   ]
  },
  {
   "cell_type": "code",
   "execution_count": 29,
   "metadata": {
    "collapsed": false
   },
   "outputs": [],
   "source": [
    "def segment_time1(ts):\n",
    "    ''' Segment time of day '''\n",
    "    if ts.hour<=4: return 1\n",
    "    elif ts.hour<=8: return 2\n",
    "    elif ts.hour<=12: return 3\n",
    "    elif ts.hour<=16: return 4\n",
    "    elif ts.hour<=20: return 5\n",
    "    elif ts.hour<=24: return 6\n",
    "def segment_time2(ts):\n",
    "    ''' Return only hour '''\n",
    "    return ts.hour\n",
    "def dayofmonth(ts):\n",
    "    ''' Return day of month '''\n",
    "    return ts.day\n",
    "def yearofcrime(ts):\n",
    "    ''' Return the year '''\n",
    "    return ts.year\n",
    "\n",
    "train_raw['Dates'] = pd.to_datetime(train_raw['Dates'])\n",
    "test_raw['Dates'] = pd.to_datetime(test_raw['Dates'])\n",
    "\n",
    "train_raw['DaySegment'] = train_raw['Dates'].apply(segment_time1)\n",
    "test_raw['DaySegment'] = test_raw['Dates'].apply(segment_time1)\n",
    "\n",
    "train_raw['TimeOfDay'] = train_raw['Dates'].apply(segment_time2)\n",
    "test_raw['TimeOfDay'] = test_raw['Dates'].apply(segment_time2)\n",
    "\n",
    "train_raw['DayOfMonth'] = train_raw['Dates'].apply(dayofmonth)\n",
    "test_raw['DayOfMonth'] = test_raw['Dates'].apply(dayofmonth)\n",
    "\n",
    "train_raw['Year'] = train_raw['Dates'].apply(yearofcrime)\n",
    "test_raw['Year'] = test_raw['Dates'].apply(yearofcrime)"
   ]
  },
  {
   "cell_type": "markdown",
   "metadata": {},
   "source": [
    "##### Add clustering based on lat/lon"
   ]
  },
  {
   "cell_type": "markdown",
   "metadata": {},
   "source": [
    "Currently, by using the exact location of the crime, the model does not generalize very well. A couple options are available: 1) utilize publicly available datasets on city neighborhoods to classify each event into a more generalized city segment, perhaps based on income levels, 2) use a clustering algorithm like K-means to segment the training data into clusters where there are crime \"hotspots\" and add one of these as a feature (replacing lat/lon and potentially address - will test the removal of features separately). \n",
    "\n",
    "I will first attempt #2 while looking for good options for #1. "
   ]
  },
  {
   "cell_type": "code",
   "execution_count": 30,
   "metadata": {
    "collapsed": false
   },
   "outputs": [],
   "source": [
    "def test_clusters(range_n_clusters,fields=['X','Y','TimeOfDay','Year']):\n",
    "    km_models = []\n",
    "    i_scores = []\n",
    "    tr = train_raw[fields].copy()\n",
    "    tr = le.fit_transform(tr)\n",
    "    for n_clusters in range(range_n_clusters):\n",
    "        if n_clusters>1:\n",
    "            km = KMeans(n_clusters=n_clusters, random_state=5)\n",
    "            km.fit(tr)\n",
    "            km_models.append(km)\n",
    "            inertia = km.inertia_ \n",
    "            print 'For {0}, inertia = {1}'.format(\n",
    "                n_clusters, inertia\n",
    "            )\n",
    "            i_scores.append(inertia)\n",
    "       \n",
    "    # plot results\n",
    "    fig = plt.figure()\n",
    "    ax = fig.add_subplot(111)\n",
    "    ax.set_title('KMeans inertia values')\n",
    "    ax.set_xlabel('Clusters')\n",
    "    ax.set_ylabel('Inertia')\n",
    "    ax.plot([i for i in range(range_n_clusters) \\\n",
    "             if i>1],i_scores,'-', linewidth=2)\n",
    "    plt.show()\n",
    "    \n",
    "#test_clusters(25)"
   ]
  },
  {
   "cell_type": "code",
   "execution_count": 31,
   "metadata": {
    "collapsed": false
   },
   "outputs": [],
   "source": [
    "# Reload data in case of changes\n",
    "le = MultiColumnLabelEncoder()\n",
    "tr = train_raw[['X','Y','TimeOfDay','Year']].copy()\n",
    "tr = le.fit_transform(tr)\n",
    "\n",
    "# Set k\n",
    "k = 20\n",
    "\n",
    "# Initialize Kmeans model\n",
    "km = KMeans(n_clusters=k)\n",
    "train_raw['KMcluster'] = km.fit_predict(tr)\n",
    "\n",
    "# Calculate distances\n",
    "distances = km.transform(tr)\n",
    "train_raw['KMdistance'] = np.argmin(distances,axis=1)\n",
    "\n",
    "# Predict for test dataset\n",
    "tr = test_raw[['X','Y','TimeOfDay','Year']].copy()\n",
    "tr = le.transform(tr)\n",
    "test_raw['KMcluster'] = km.predict(tr)\n",
    "distances = km.transform(tr)\n",
    "test_raw['KMdistance'] = np.argmin(distances,axis=1)"
   ]
  },
  {
   "cell_type": "code",
   "execution_count": 32,
   "metadata": {
    "collapsed": false
   },
   "outputs": [
    {
     "data": {
      "text/plain": [
       "KMcluster\n",
       "0     52233\n",
       "1     37774\n",
       "2     50495\n",
       "3     51436\n",
       "4     41403\n",
       "5     41457\n",
       "6     52478\n",
       "7     55529\n",
       "8     44737\n",
       "9     60547\n",
       "10       67\n",
       "11    28593\n",
       "12    59219\n",
       "13    41150\n",
       "14    47244\n",
       "15    47079\n",
       "16    50793\n",
       "17    31075\n",
       "18    51397\n",
       "19    33343\n",
       "Name: KMcluster, dtype: int32"
      ]
     },
     "execution_count": 32,
     "metadata": {},
     "output_type": "execute_result"
    }
   ],
   "source": [
    "g = train_raw.groupby('KMcluster')\n",
    "g['KMcluster'].agg(len)"
   ]
  },
  {
   "cell_type": "code",
   "execution_count": 33,
   "metadata": {
    "collapsed": false
   },
   "outputs": [
    {
     "data": {
      "image/png": "[encoded data removed]",
      "text/plain": [
       "<matplotlib.figure.Figure at 0x115e872d0>"
      ]
     },
     "metadata": {},
     "output_type": "display_data"
    }
   ],
   "source": [
    "def plot_clusters():\n",
    "    f, axarr = plt.subplots(4, 5, sharex=True, sharey=True)\n",
    "    le = MultiColumnLabelEncoder()\n",
    "    tr = train_raw[['X','Y','TimeOfDay','Year']].copy()\n",
    "    tr = le.fit_transform(tr)\n",
    "    pca = PCA(n_components=2)\n",
    "    X = pca.fit_transform(tr)\n",
    "    K = np.array(train_raw['KMcluster'])\n",
    "    for i in range(20):\n",
    "        if i<5: e=0\n",
    "        elif i<10: e=1\n",
    "        elif i<15: e=2\n",
    "        else: e=3\n",
    "        z = i - 5*e\n",
    "        axarr[e, z].scatter(X[K==i,0]\\\n",
    "                            ,X[K==i,1]\\\n",
    "                            )\n",
    "        axarr[e, z].set_title('K:{}'.format(i))\n",
    "        plt.setp([a.get_xticklabels() for a in axarr[0, :]], visible=False)\n",
    "        plt.setp([a.get_yticklabels() for a in axarr[:, 1]], visible=False)\n",
    "\n",
    "plot_clusters()"
   ]
  },
  {
   "cell_type": "code",
   "execution_count": null,
   "metadata": {
    "collapsed": false
   },
   "outputs": [],
   "source": [
    "def predict_metaclass():\n",
    "    '''Predict the metaclass of crime\n",
    "       Use the outputted algorithm to \n",
    "       predict metaclass in the training data\n",
    "    '''\n",
    "    tr = sample_df(train_raw,'Category',set(train_raw['Category']),\\\n",
    "                                      group_n=200000)\n",
    "    \n",
    "    new_fields = [\n",
    "        'PdDistrict','DaySegment','DayOfWeek',\\\n",
    "        'DayOfMonth','Year','KMcluster','KMdistance'\n",
    "    ]\n",
    "    cat_fields = [\n",
    "        'PdDistrict','DayOfWeek','DaySegment','TimeOfDay',\\\n",
    "        'DayOfMonth','Year','KMcluster','collar_id'\n",
    "    ]\n",
    "    dev_train, dev_train_labels = tr[new_fields][10001:],\\\n",
    "                           tr['collar_id'][10001:]\n",
    "    dev_test, dev_test_labels = tr[new_fields][:10000],\\\n",
    "                            tr['collar_id'][:10000]\n",
    "    \n",
    "    # Create pipeline\n",
    "    le = MultiColumnLabelEncoder()\n",
    "    cf = [i for i,x in enumerate(new_fields) if x in cat_fields]\n",
    "    ohe = OneHotEncoder(categorical_features=cf,sparse=True)\n",
    "    #md = MultinomialNB(alpha=0.01)\n",
    "    md = LogisticRegression(C=1,solver='lbfgs',multi_class='multinomial')\n",
    "    pl = Pipeline([('le',le),('ohe',ohe),('md',md)])\n",
    "    \n",
    "    '''\n",
    "    param_grid = dict(md__C=[0.1,1,1000])\n",
    "    gs = GridSearchCV(pl, param_grid=param_grid, verbose=10)\n",
    "    gs.fit(dev_train, dev_train_labels)\n",
    "    print gs.best_estimator_ \n",
    "    '''\n",
    "    \n",
    "    # Fit training data \n",
    "    pl.fit(dev_train, dev_train_labels)\n",
    "    \n",
    "    # Show results\n",
    "    print 'Accuracy: {}%'.format(round(pl.score(dev_test, \\\n",
    "                                                 dev_test_labels),4)*100)\n",
    "    predictions = pl.predict(dev_test)\n",
    "    conf = confusion_matrix(dev_test_labels,predictions)\n",
    "    plt.imshow(conf, cmap='binary')\n",
    "    print pd.crosstab(dev_test_labels, predictions, \\\n",
    "                      rownames=['True'], colnames=['Predicted'], \\\n",
    "                      margins=True)\n",
    "    \n",
    "    # Return model for later use\n",
    "    return pl  \n",
    "\n",
    "pl_metaclass = predict_metaclass()"
   ]
  },
  {
   "cell_type": "code",
   "execution_count": 35,
   "metadata": {
    "collapsed": false
   },
   "outputs": [],
   "source": [
    "new_fields = [\n",
    "        'PdDistrict','DaySegment','DayOfWeek',\\\n",
    "        'DayOfMonth','Year','KMcluster','KMdistance'\n",
    "    ]\n",
    "le,ohe,md = [ x[1] for x in pl_metaclass.steps[:3] ]\n",
    "tr = le.transform(train_raw[new_fields])\n",
    "tr = ohe.transform(tr)\n",
    "train_raw['prediction_score'] = \\\n",
    "    np.max(md.decision_function(tr),axis=1)\n",
    "\n",
    "tr = le.transform(test_raw[new_fields])\n",
    "tr = ohe.transform(tr)\n",
    "test_raw['prediction_score'] = \\\n",
    "    np.max(md.decision_function(tr),axis=1)"
   ]
  },
  {
   "cell_type": "markdown",
   "metadata": {},
   "source": [
    "##### Get data from other sources\n",
    "\n",
    "SF OpenData has a ton of supplemental data sources that will be great to try out for this effort.  "
   ]
  },
  {
   "cell_type": "code",
   "execution_count": null,
   "metadata": {
    "collapsed": false
   },
   "outputs": [],
   "source": [
    "# http://spatialreference.org/ref/epsg/2227/\n",
    "p = Proj('+proj=lcc +init=EPSG:2227 +datum=NAD83 +units=us-ft +no_defs',preserve_units=True)\n",
    "convert_vals = np.vectorize(lambda x,y: p(x,y))\n",
    "convert_vals_inv = np.vectorize(lambda x,y: p(x,y,inverse=True))"
   ]
  },
  {
   "cell_type": "code",
   "execution_count": 53,
   "metadata": {
    "collapsed": true
   },
   "outputs": [],
   "source": [
    "shpfilename_elect = 'Data/SanFranciscoElectricityUse/SanFranciscoElectricityUse.shp'\n",
    "shpfilename_school = 'Data/schools_public_pt/schools_public_pt.shp'\n",
    "shpfilename_zoning = 'Data/Zoning/Zoning_Districts.shp'\n",
    "shpfilename_neighborhoods = 'Data/planning_neighborhoods/planning_neighborhoods.shp'\n",
    "shpfilename_sv_districts = 'Dat/Supervisorial_Districts_as_of_April_2012/Elect_Supervisor_Dists.shp'\n",
    "street_tree_locations = 'Data/Street_Tree_List.csv'\n",
    "report311_locations = 'Data/All_cases_map_view.csv'\n",
    "business_locations = 'Data/Registered_Business_Map.csv'\n",
    "park_locations = 'Data/Park_and_Open_Space_Map.csv'\n",
    "offstreet_parking_locations = 'Data/Off-street_parking_lots_and_parking_garages_map.csv'\n",
    "private_garage_locations = 'Data/PrivateGarages_Lots.csv'"
   ]
  },
  {
   "cell_type": "markdown",
   "metadata": {},
   "source": [
    "##### Process shapefiles"
   ]
  },
  {
   "cell_type": "code",
   "execution_count": null,
   "metadata": {
    "collapsed": false
   },
   "outputs": [],
   "source": [
    "# Convert lat/lon to coordinates that match shp\n",
    "train_raw['New_X'], train_raw['New_Y'] = \\\n",
    "    convert_vals(train_raw['X'],train_raw['Y'])\n",
    "\n",
    "test_raw['New_X'], test_raw['New_Y'] = \\\n",
    "    convert_vals(test_raw['X'],test_raw['Y'])"
   ]
  },
  {
   "cell_type": "code",
   "execution_count": null,
   "metadata": {
    "collapsed": false
   },
   "outputs": [],
   "source": [
    "def make_points(x):\n",
    "    ''' Create list of Points objects\n",
    "    '''\n",
    "    out = []\n",
    "    n = x.shape[0]\n",
    "    for i in range(n):\n",
    "        out.append(Point((x['New_X'][i],x['New_Y'][i])))\n",
    "    return out\n",
    "points = make_points(train_raw[['New_X','New_Y']])\n",
    "test_points = make_points(test_raw[['New_X','New_Y']])"
   ]
  },
  {
   "cell_type": "code",
   "execution_count": null,
   "metadata": {
    "collapsed": false
   },
   "outputs": [],
   "source": [
    "shp = fiona.open(shpfilename_school)\n",
    "n = len(shp)\n",
    "SCHOOL_TYP,\\\n",
    "DEPT,\\\n",
    "FACILITY_N,\\\n",
    "DEPTNAME,\\\n",
    "FACILITY_I = \\\n",
    "    np.empty(n,dtype='|S25'),\\\n",
    "    np.empty(n,dtype='|S25'),\\\n",
    "    np.empty(n,dtype='|S25'),\\\n",
    "    np.empty(n,dtype='|S25'),\\\n",
    "    np.empty(n,dtype='|S25')\n",
    "for i,s in enumerate(shp):\n",
    "    SCHOOL_TYP[i] = s['properties']['SCHOOL_TYP']\n",
    "    DEPT [i] = s['properties']['DEPT']\n",
    "    FACILITY_N [i] = s['properties']['FACILITY_N']\n",
    "    DEPTNAME [i] = s['properties']['DEPTNAME']\n",
    "    FACILITY_I [i] = s['properties']['FACILITY_I']\n",
    "shp.close()\n",
    "\n",
    "props_df = pd.DataFrame({\n",
    "        'Id':[i+1 for i in range(n)],\n",
    "        'SCHOOL_TYP':SCHOOL_TYP\n",
    "    })"
   ]
  },
  {
   "cell_type": "code",
   "execution_count": null,
   "metadata": {
    "collapsed": false
   },
   "outputs": [],
   "source": [
    "set(props_df['SCHOOL_TYP'])"
   ]
  },
  {
   "cell_type": "code",
   "execution_count": null,
   "metadata": {
    "collapsed": false
   },
   "outputs": [],
   "source": [
    "hs = props_df[props_df['SCHOOL_TYP']=='High School']['Id']\n",
    "cs = props_df[props_df['SCHOOL_TYP']=='County School']['Id']\n",
    "chs = props_df[props_df['SCHOOL_TYP']=='Charter School']['Id']\n",
    "ms = props_df[props_df['SCHOOL_TYP']=='Middle School']['Id']"
   ]
  },
  {
   "cell_type": "code",
   "execution_count": null,
   "metadata": {
    "collapsed": true
   },
   "outputs": [],
   "source": [
    "def coord_search_schools(pts):\n",
    "    ''' Find nearest point and measure distance\n",
    "        for every datapoint \n",
    "    '''\n",
    "    shp = pysal.open(shpfilename_school,'r')\n",
    "    pl_hs = BruteForcePointLocator([p for p in shp if p.id in hs])\n",
    "    pl_cs = BruteForcePointLocator([p for p in shp if p.id in cs])\n",
    "    pl_chs = BruteForcePointLocator([p for p in shp if p.id in chs])\n",
    "    pl_ms = BruteForcePointLocator([p for p in shp if p.id in ms])\n",
    "    shp.close()\n",
    "\n",
    "    return_point_hs = lambda x: pl_hs.nearest(x)\n",
    "    return_point_cs = lambda x: pl_cs.nearest(x)\n",
    "    return_point_chs = lambda x: pl_chs.nearest(x)\n",
    "    return_point_ms = lambda x: pl_ms.nearest(x)\n",
    "    \n",
    "    # point_ids = np.zeros(len(points),dtype=np.int8)\n",
    "    point_distances_hs = np.zeros(len(pts),dtype=np.float64)\n",
    "    point_distances_cs = np.zeros(len(pts),dtype=np.float64)\n",
    "    point_distances_chs = np.zeros(len(pts),dtype=np.float64)\n",
    "    point_distances_ms = np.zeros(len(pts),dtype=np.float64)\n",
    "    \n",
    "    def run_iters():\n",
    "        for i,p in enumerate(points):\n",
    "            if i%100000==0: print 'running {0} row'.format(i)\n",
    "            pt_hs = return_point_hs(p)\n",
    "            pt_cs = return_point_cs(p)\n",
    "            pt_chs = return_point_chs(p)\n",
    "            pt_ms = return_point_ms(p)\n",
    "            \n",
    "            point_distances_hs[i] = arcdist(p,pt_hs)\n",
    "            point_distances_cs[i] = arcdist(p,pt_cs)\n",
    "            point_distances_chs[i] = arcdist(p,pt_chs)\n",
    "            point_distances_ms[i] = arcdist(p,pt_ms)\n",
    "\n",
    "    run_iters()\n",
    "    \n",
    "    return point_distances_hs,\\\n",
    "            point_distances_cs,\\\n",
    "            point_distances_chs,\\\n",
    "            point_distances_ms"
   ]
  },
  {
   "cell_type": "code",
   "execution_count": null,
   "metadata": {
    "collapsed": false
   },
   "outputs": [],
   "source": [
    "# This runs relatively quickly \n",
    "#point_distances_hs,\\\n",
    "#            point_distances_cs,\\\n",
    "#            point_distances_chs,\\\n",
    "#            point_distances_ms = coord_search_schools(points)"
   ]
  },
  {
   "cell_type": "code",
   "execution_count": null,
   "metadata": {
    "collapsed": false
   },
   "outputs": [],
   "source": [
    "# test_point_distances_hs,\\\n",
    "#            test_point_distances_cs,\\\n",
    "#            test_point_distances_chs,\\\n",
    "#            test_point_distances_ms = coord_search_schools(test_points)"
   ]
  },
  {
   "cell_type": "code",
   "execution_count": null,
   "metadata": {
    "collapsed": false
   },
   "outputs": [],
   "source": [
    "def run_iters_elect(plocator,return_poly_id,pts,test):\n",
    "    poly_ids = np.zeros(len(pts),dtype=np.int8)\n",
    "    for i,p in enumerate(pts):\n",
    "        if i%100000==0: print 'running {0} row'.format(i)\n",
    "        poly_ids[i] = return_poly_id(plocator,p)\n",
    "    # Save data because this step takes >5hrs to finish\n",
    "    if test: outname = 'Data/test_poly_ids2.csv'\n",
    "    else: outname = 'Data/poly_ids2.csv'\n",
    "    poly_ids_df = pd.DataFrame({'elect_poly_id':poly_ids})\n",
    "    poly_ids_df.to_csv(outname,index=False)\n",
    "\n",
    "def run_iters_zoning(plocator,return_poly_id,pts,test):\n",
    "    poly_ids = np.zeros(len(pts),dtype=np.int8)\n",
    "    for i,p in enumerate(pts):\n",
    "        if i%1==100000: print 'running {0} row'.format(i)\n",
    "        poly_ids[i] = return_poly_id(plocator,p)\n",
    "    # Save data because this step takes >5hrs to finish\n",
    "    if test: outname = 'Data/test_zoning_ids2.csv'\n",
    "    else: outname = 'Data/zoning_ids2.csv'\n",
    "    poly_ids_df = pd.DataFrame({'zoning_id':poly_ids})\n",
    "    poly_ids_df.to_csv(outname,index=False)\n",
    "\n",
    "def return_poly_id(pl,x):\n",
    "        ''' Find the polygon that \n",
    "            contains each point\n",
    "        '''\n",
    "        try:\n",
    "            return pl.contains_point(x)[0].id\n",
    "        except IndexError:\n",
    "            return -1\n",
    "\n",
    "def polygon_search(shpfilename,run_iters,\\\n",
    "                   pts,test=False,\\\n",
    "                   return_poly_id=return_poly_id):\n",
    "    ''' Iterate through shapefile polygons\n",
    "        and find id of polgy for each datapoint\n",
    "    '''\n",
    "    shp = pysal.open(shpfilename,'r')\n",
    "    pl = PolygonLocator([p for p in shp])\n",
    "    shp.close()\n",
    "    run_iters(pl,return_poly_id,pts,test)\n",
    "\n",
    "#polygon_search(shpfilename_elect,run_iters_elect,test_points,test=True)"
   ]
  },
  {
   "cell_type": "code",
   "execution_count": null,
   "metadata": {
    "collapsed": false
   },
   "outputs": [],
   "source": [
    "# only run this after ids are compiled\n",
    "poly_ids_df_elect = pd.read_csv('Data/poly_ids.csv')\n",
    "test_poly_ids_df_elect = pd.read_csv('Data/test_poly_ids.csv')"
   ]
  },
  {
   "cell_type": "code",
   "execution_count": null,
   "metadata": {
    "collapsed": false
   },
   "outputs": [],
   "source": [
    "def run_iters(points, point_locator, centroids, \\\n",
    "              log_at=100000):\n",
    "    ''' Iterate through points to find \n",
    "        the nearest centroid from shapefile\n",
    "    '''\n",
    "    point_fun = lambda x,pl: pl.nearest(x)\n",
    "    id_fun = lambda p, centroids: [i for i,c in enumerate(centroids)\\\n",
    "                                  if c==p][0]\n",
    "    nearest_ids = np.zeros(len(points),dtype=np.int64)\n",
    "    for i,p in enumerate(points):\n",
    "        if i%log_at==0: print 'running {0} row'.format(i)\n",
    "        pt = point_fun(p,point_locator)\n",
    "        pt_id = id_fun(pt, centroids)\n",
    "        nearest_ids[i] = pt_id\n",
    "    return nearest_ids\n",
    "\n",
    "def save_file(array_to_save, colname, filename):\n",
    "    ''' Write column to CSV '''\n",
    "    array_to_save_df = pd.DataFrame({colname:array_to_save})\n",
    "    array_to_save_df.to_csv(filename,index=False)\n",
    "\n",
    "def coord_search(shpfile, points, \\\n",
    "                 run_iters_fun, \\\n",
    "                 locator_fun=BruteForcePointLocator):\n",
    "    ''' Since polygon search is not efficient\n",
    "        do a comparison to each centroid instead\n",
    "    '''\n",
    "    gather_centroids = lambda shp: [p.centroid for p in shp]\n",
    "\n",
    "    # Read file\n",
    "    shp = pysal.open(shpfile,'r')\n",
    "    centroids = gather_centroids(shp)\n",
    "    pl = locator_fun(centroids)\n",
    "    shp.close()\n",
    "    \n",
    "    # Return the nearest points\n",
    "    nearest_ids = run_iters_fun(points,pl,centroids)\n",
    "    \n",
    "    return nearest_ids\n",
    "\n",
    "#zone_ids = coord_search(shpfilename_zoning,points,\\\n",
    "                        run_iters)\n",
    "#save_file(zone_ids, 'zoning_id', 'Data/zoning_ids2.csv')\n",
    "#test_zone_ids = coord_search(shpfilename_zoning,test_points,\\\n",
    "                         run_iters)\n",
    "#save_file(test_zone_ids, 'zoning_id', 'Data/test_zoning_ids2.csv')"
   ]
  },
  {
   "cell_type": "code",
   "execution_count": null,
   "metadata": {
    "collapsed": false
   },
   "outputs": [],
   "source": [
    "# only run this after zone ids are compiled\n",
    "zone_ids = pd.read_csv('Data/zoning_ids.csv')\n",
    "test_zone_ids = pd.read_csv('Data/test_zoning_ids.csv')"
   ]
  },
  {
   "cell_type": "code",
   "execution_count": null,
   "metadata": {
    "collapsed": false
   },
   "outputs": [],
   "source": [
    "shp = fiona.open(shpfilename_zoning)\n",
    "n = len(shp)\n",
    "ZONING_SIM,\\\n",
    "DISTRICTNA = \\\n",
    "    np.empty(n,dtype='|S25'),\\\n",
    "    np.empty(n,dtype='|S25')\n",
    "for i,s in enumerate(shp):\n",
    "    ZONING_SIM[i] = s['properties']['ZONING_SIM']\n",
    "    DISTRICTNA[i] = s['properties']['DISTRICTNA']\n",
    "shp.close()\n",
    "\n",
    "props_df_zoning = pd.DataFrame({\n",
    "        'Id':[i+1 for i in range(n)],\n",
    "        'ZONING_SIM':ZONING_SIM,\n",
    "        'DISTRICTNA':DISTRICTNA\n",
    "    })\n",
    "all_zones = pd.merge(zone_ids,props_df_zoning,'left',\\\n",
    "                    left_on=['zoning_id'], right_on=['Id'])\n",
    "test_all_zones = pd.merge(test_zone_ids,props_df_zoning,'left',\\\n",
    "                    left_on=['zoning_id'], right_on=['Id'])"
   ]
  },
  {
   "cell_type": "code",
   "execution_count": null,
   "metadata": {
    "collapsed": false
   },
   "outputs": [],
   "source": [
    "shp = fiona.open(shpfilename_elect)\n",
    "n = len(shp)\n",
    "kWh_pC,\\\n",
    "kWh,\\\n",
    "Zip,\\\n",
    "Pop2010_zc = \\\n",
    "    np.empty(n,dtype=np.float64),\\\n",
    "    np.empty(n,dtype=np.float64),\\\n",
    "    np.empty(n,dtype='|S10'),\\\n",
    "    np.empty(n,dtype=np.int64)\n",
    "for i,s in enumerate(shp):\n",
    "    kWh_pC[i] = s['properties']['kWh_pC']\n",
    "    kWh [i] = s['properties']['kWh']\n",
    "    Zip [i] = s['properties']['Zip']\n",
    "    Pop2010_zc [i] = s['properties']['Pop2010_zc']\n",
    "shp.close()\n",
    "\n",
    "props_df_elect = pd.DataFrame({\n",
    "        'Id':[i+1 for i in range(n)],\\\n",
    "        'kWh_pC':kWh_pC,\\\n",
    "        'kWh':kWh,\\\n",
    "        'Zip':Zip,\\\n",
    "        'Pop2010_zc':Pop2010_zc\\\n",
    "    })\n",
    "all_elects = pd.merge(poly_ids_df_elect, props_df_elect, 'left',\\\n",
    "                     left_on=['elect_poly_id'], right_on=['Id'])\n",
    "test_elects = pd.merge(test_poly_ids_df_elect, props_df_elect, 'left',\\\n",
    "                     left_on=['elect_poly_id'], right_on=['Id'])"
   ]
  },
  {
   "cell_type": "markdown",
   "metadata": {},
   "source": [
    "##### Add new columns"
   ]
  },
  {
   "cell_type": "code",
   "execution_count": null,
   "metadata": {
    "collapsed": false
   },
   "outputs": [],
   "source": [
    "elect_cols = ['kWh_pC','kWh','Zip','Pop2010_zc']\n",
    "train_raw[elect_cols] = all_elects[elect_cols] \n",
    "test_raw[elect_cols] = test_elects[elect_cols] "
   ]
  },
  {
   "cell_type": "code",
   "execution_count": null,
   "metadata": {
    "collapsed": false
   },
   "outputs": [],
   "source": [
    "# School features had little/no effect on the model\n",
    "# school_nearby = np.vectorize(lambda x: True if x<=1000 else False)\n",
    "# train_raw['HS_DISTANCE'] = point_distances_hs.astype(np.float64)\n",
    "# train_raw['CS_DISTANCE'] = point_distances_cs.astype(np.float64)\n",
    "# train_raw['CHS_DISTANCE'] = point_distances_chs.astype(np.float64)\n",
    "# train_raw['MS_DISTANCE'] = point_distances_ms.astype(np.float64)\n",
    "# train_raw['HS_NEARBY'] = school_nearby(train_raw['HS_DISTANCE'])\n",
    "# train_raw['CS_NEARBY'] = school_nearby(train_raw['CS_DISTANCE'])\n",
    "# train_raw['CHS_NEARBY'] = school_nearby(train_raw['CHS_DISTANCE'])\n",
    "# train_raw['MS_NEARBY'] = school_nearby(train_raw['MS_DISTANCE'])\n",
    "\n",
    "# test_raw['HS_DISTANCE'] = test_point_distances_hs.astype(np.float64)\n",
    "# test_raw['CS_DISTANCE'] = test_point_distances_cs.astype(np.float64)\n",
    "# test_raw['CHS_DISTANCE'] = test_point_distances_chs.astype(np.float64)\n",
    "# test_raw['MS_DISTANCE'] = test_point_distances_ms.astype(np.float64)\n",
    "# test_raw['HS_NEARBY'] = school_nearby(test_raw['HS_DISTANCE'])\n",
    "# test_raw['CS_NEARBY'] = school_nearby(test_raw['CS_DISTANCE'])\n",
    "# test_raw['CHS_NEARBY'] = school_nearby(test_raw['CHS_DISTANCE'])\n",
    "# test_raw['MS_NEARBY'] = school_nearby(test_raw['MS_DISTANCE'])"
   ]
  },
  {
   "cell_type": "code",
   "execution_count": null,
   "metadata": {
    "collapsed": false
   },
   "outputs": [],
   "source": [
    "train_raw['ZONING_SIM'] = all_zones['ZONING_SIM']\n",
    "train_raw['DISTRICT_NAME'] = all_zones['DISTRICTNA']\n",
    "train_raw['ZONE_ID'] = all_zones['Id']\n",
    "\n",
    "test_raw['ZONING_SIM'] = test_all_zones['ZONING_SIM']\n",
    "test_raw['DISTRICT_NAME'] = test_all_zones['DISTRICTNA']\n",
    "test_raw['ZONE_ID'] = test_all_zones['Id']"
   ]
  },
  {
   "cell_type": "markdown",
   "metadata": {},
   "source": [
    "##### Test performance"
   ]
  },
  {
   "cell_type": "code",
   "execution_count": null,
   "metadata": {
    "collapsed": false
   },
   "outputs": [],
   "source": [
    "new_fields = [\n",
    "    'PdDistrict','DaySegment',\\\n",
    "    'kWh','Zip','Pop2010_zc','Year','KMcluster'\n",
    "]\n",
    "cat_fields = [\n",
    "    'PdDistrict','DayOfWeek','DaySegment','TimeOfDay','DayOfMonth','Year',\\\n",
    "    'Zip','KMcluster',\\\n",
    "    'ZONING_SIM','DISTRICT_NAME','ZONE_ID'\n",
    "]\n",
    "train_raw = train_raw.iloc[\\\n",
    "                    np.random.permutation(len(train_raw))]\n",
    "dev_train, dev_train_labels = train_raw[new_fields][10001:],\\\n",
    "                        train_raw['Category'][10001:]\n",
    "dev_train_weights = np.array(train_raw['sample_weight'][10001:])\n",
    "dev_test, dev_test_labels = train_raw[new_fields][:10000],\\\n",
    "                        train_raw['Category'][:10000]"
   ]
  },
  {
   "cell_type": "code",
   "execution_count": null,
   "metadata": {
    "collapsed": false
   },
   "outputs": [],
   "source": [
    "def add_knnguess():\n",
    "    knn = KNeighborsClassifier(n_neighbors=20)\n",
    "    le = MultiColumnLabelEncoder()\n",
    "    imp = Imputer(strategy='mean')\n",
    "    cf = [i for i,x in enumerate(new_fields) if x in cat_fields]\n",
    "    ohe = OneHotEncoder(categorical_features=cf,sparse=False)\n",
    "    pca = PCA(n_components = 20)\n",
    "\n",
    "    pl = Pipeline([('le',le), ('imp',imp), ('ohe', ohe), ('pca',pca), ('knn', knn)])\n",
    "    pl.fit(dev_train, dev_train_labels)\n",
    "    train_raw['KNNguess'] = pl.predict(train_raw[new_fields])\n",
    "    test_raw['KNNguess'] = pl.predict(test_raw[new_fields])\n",
    "\n",
    "add_knnguess()"
   ]
  },
  {
   "cell_type": "code",
   "execution_count": null,
   "metadata": {
    "collapsed": false
   },
   "outputs": [],
   "source": [
    "def runmodel(n=100):\n",
    "    new_fields = [\n",
    "        'PdDistrict','DaySegment',\\\n",
    "        'kWh','Zip','Pop2010_zc','Year','KMcluster'\n",
    "    ]\n",
    "    cat_fields = [\n",
    "        'PdDistrict','DayOfWeek','DaySegment','TimeOfDay','DayOfMonth','Year',\\\n",
    "        'Zip','KMcluster',\\\n",
    "        'ZONING_SIM','DISTRICT_NAME','ZONE_ID','KNNguess'\n",
    "    ]\n",
    "\n",
    "    le = MultiColumnLabelEncoder()\n",
    "    imp = Imputer(strategy='mean')\n",
    "    cf = [i for i,x in enumerate(new_fields) if x in cat_fields]\n",
    "    ohe = OneHotEncoder(categorical_features=cf,sparse=False)\n",
    "    rf = RandomForestClassifier(n_jobs=2, n_estimators=n) \n",
    "    pca = PCA(n_components = 20)\n",
    "\n",
    "    pl = Pipeline([('le',le), ('imp',imp), ('ohe', ohe), ('pca',pca), ('rf', rf)])\n",
    "    pl.fit(dev_train, dev_train_labels,rf__sample_weight=dev_train_weights)\n",
    "    print 'Accuracy: {0}%'.format(round(pl.score(dev_test, dev_test_labels),4)*100)\n",
    "    return pl \n",
    "\n",
    "# pl = runmodel(300)"
   ]
  },
  {
   "cell_type": "code",
   "execution_count": null,
   "metadata": {
    "collapsed": false
   },
   "outputs": [],
   "source": [
    "def show_pca():\n",
    "    exp_var = np.cumsum(pl.named_steps['pca'].explained_variance_ratio_)\n",
    "    n = len(exp_var)\n",
    "\n",
    "    fig = plt.figure()\n",
    "    ax = fig.add_subplot(111)\n",
    "    ax.set_title('PCA explained variance')\n",
    "    ax.set_xlabel('Feature number')\n",
    "    ax.set_ylabel('Explained Variance')\n",
    "    ax.plot(range(n),exp_var,'-', linewidth=2)\n",
    "\n",
    "    plt.show()\n",
    "\n",
    "# show_pca()"
   ]
  },
  {
   "cell_type": "markdown",
   "metadata": {},
   "source": [
    "##### Make another submission"
   ]
  },
  {
   "cell_type": "code",
   "execution_count": null,
   "metadata": {
    "collapsed": true
   },
   "outputs": [],
   "source": [
    "def save_testdata():\n",
    "    test_raw.to_csv('Data/test_raw_nf.csv',index=False)\n",
    "\n",
    "# save_testdata()"
   ]
  },
  {
   "cell_type": "code",
   "execution_count": null,
   "metadata": {
    "collapsed": true
   },
   "outputs": [],
   "source": [
    "# predictions = pl.predict(test_raw[new_fields])"
   ]
  },
  {
   "cell_type": "code",
   "execution_count": null,
   "metadata": {
    "collapsed": false
   },
   "outputs": [],
   "source": [
    "def write_to_submissionfile():\n",
    "    l = len(test_raw)\n",
    "    submission = np.zeros((l,40),dtype=np.int32)\n",
    "    submission[:,0] = range(l)\n",
    "    cols = sorted(set(train_raw['Category']))\n",
    "    for i,c in enumerate(cols):\n",
    "        submission[:,i+1] = predictions == c\n",
    "\n",
    "    submission_cols = ['Id']\n",
    "    submission_cols.extend(cols)\n",
    "    submission_df = pd.DataFrame(submission,columns=submission_cols)\n",
    "    submission_df.head()\n",
    "\n",
    "    submission_df.to_csv('Data/submission_file2.csv',index=False)\n",
    "    \n",
    "# write_to_submissionfile()"
   ]
  },
  {
   "cell_type": "markdown",
   "metadata": {
    "collapsed": true
   },
   "source": [
    "#### Part 3 - Error Diagnosis"
   ]
  },
  {
   "cell_type": "code",
   "execution_count": null,
   "metadata": {
    "collapsed": false
   },
   "outputs": [],
   "source": [
    "predictions = pl.predict(dev_test)\n",
    "conf = confusion_matrix(dev_test_labels,predictions)\n",
    "plt.imshow(conf, cmap='binary')\n",
    "pd.crosstab(dev_test_labels, predictions, rownames=['True'], colnames=['Predicted'], margins=True)"
   ]
  }
 ],
 "metadata": {
  "kernelspec": {
   "display_name": "Python 2",
   "language": "python",
   "name": "python2"
  },
  "language_info": {
   "codemirror_mode": {
    "name": "ipython",
    "version": 2
   },
   "file_extension": ".py",
   "mimetype": "text/x-python",
   "name": "python",
   "nbconvert_exporter": "python",
   "pygments_lexer": "ipython2",
   "version": "2.7.6"
  }
 },
 "nbformat": 4,
 "nbformat_minor": 0
}
