{
 "cells": [
  {
   "cell_type": "markdown",
   "metadata": {},
   "source": [
    "Final Project \n",
    "======\n",
    "\n",
    "Kaggle Competition \n",
    "-----\n",
    "\n",
    "For this project I chose to do the active competition [San Francisco Crime Classification](https://www.kaggle.com/c/sf-crime/). I'll test out a number of different algorithms with test data, but this seems like probably RandomForest a Neural Network 2 levels deep will have the best results. I am interested in this type of analysis as it is data science that contributes to the common good."
   ]
  },
  {
   "cell_type": "markdown",
   "metadata": {},
   "source": [
    "#### Import libraries"
   ]
  },
  {
   "cell_type": "code",
   "execution_count": 86,
   "metadata": {
    "collapsed": true
   },
   "outputs": [],
   "source": [
    "# Pandas and numpy\n",
    "import pandas as pd\n",
    "import numpy as np\n",
    "\n",
    "# sklearn functions\n",
    "from sklearn.ensemble import RandomForestClassifier\n",
    "from sklearn.preprocessing import OneHotEncoder, Imputer\n",
    "from sklearn.preprocessing import LabelEncoder, scale\n",
    "from sklearn.pipeline import Pipeline\n",
    "from sklearn.metrics import confusion_matrix\n",
    "from sklearn.feature_selection import SelectKBest,\\\n",
    "                        SelectPercentile, f_classif\n",
    "\n",
    "# matplotlib \n",
    "import matplotlib.pyplot as plt\n",
    "%matplotlib inline\n",
    "\n",
    "# GIS functionality\n",
    "from mpl_toolkits.basemap import Basemap, cm\n",
    "import cartopy.io.shapereader as shpreader\n",
    "import fiona\n",
    "import pysal \n",
    "from pyproj import Proj\n",
    "from pysal.cg.shapes import Point\n",
    "from pysal.cg.locators import PolygonLocator, PointLocator, BruteForcePointLocator \n",
    "from pysal.cg.sphere import arcdist"
   ]
  },
  {
   "cell_type": "markdown",
   "metadata": {},
   "source": [
    "#### Part 1 - Submit first (bad) try"
   ]
  },
  {
   "cell_type": "code",
   "execution_count": 87,
   "metadata": {
    "collapsed": false
   },
   "outputs": [
    {
     "name": "stdout",
     "output_type": "stream",
     "text": [
      "(878049, 9)\n"
     ]
    }
   ],
   "source": [
    "train_raw = pd.read_csv('Data/train.csv')\n",
    "test_raw = pd.read_csv('Data/test.csv')\n",
    "sample_submission = pd.read_csv('Data/sampleSubmission.csv')\n",
    "print train_raw.shape"
   ]
  },
  {
   "cell_type": "code",
   "execution_count": 88,
   "metadata": {
    "collapsed": false
   },
   "outputs": [
    {
     "data": {
      "text/html": [
       "<div style=\"max-height:1000px;max-width:1500px;overflow:auto;\">\n",
       "<table border=\"1\" class=\"dataframe\">\n",
       "  <thead>\n",
       "    <tr style=\"text-align: right;\">\n",
       "      <th></th>\n",
       "      <th>Dates</th>\n",
       "      <th>Category</th>\n",
       "      <th>Descript</th>\n",
       "      <th>DayOfWeek</th>\n",
       "      <th>PdDistrict</th>\n",
       "      <th>Resolution</th>\n",
       "      <th>Address</th>\n",
       "      <th>X</th>\n",
       "      <th>Y</th>\n",
       "    </tr>\n",
       "  </thead>\n",
       "  <tbody>\n",
       "    <tr>\n",
       "      <th>0</th>\n",
       "      <td> 2015-05-13 23:53:00</td>\n",
       "      <td>       WARRANTS</td>\n",
       "      <td>               WARRANT ARREST</td>\n",
       "      <td> Wednesday</td>\n",
       "      <td> NORTHERN</td>\n",
       "      <td> ARREST, BOOKED</td>\n",
       "      <td>        OAK ST / LAGUNA ST</td>\n",
       "      <td>-122.425892</td>\n",
       "      <td> 37.774599</td>\n",
       "    </tr>\n",
       "    <tr>\n",
       "      <th>1</th>\n",
       "      <td> 2015-05-13 23:53:00</td>\n",
       "      <td> OTHER OFFENSES</td>\n",
       "      <td>     TRAFFIC VIOLATION ARREST</td>\n",
       "      <td> Wednesday</td>\n",
       "      <td> NORTHERN</td>\n",
       "      <td> ARREST, BOOKED</td>\n",
       "      <td>        OAK ST / LAGUNA ST</td>\n",
       "      <td>-122.425892</td>\n",
       "      <td> 37.774599</td>\n",
       "    </tr>\n",
       "    <tr>\n",
       "      <th>2</th>\n",
       "      <td> 2015-05-13 23:33:00</td>\n",
       "      <td> OTHER OFFENSES</td>\n",
       "      <td>     TRAFFIC VIOLATION ARREST</td>\n",
       "      <td> Wednesday</td>\n",
       "      <td> NORTHERN</td>\n",
       "      <td> ARREST, BOOKED</td>\n",
       "      <td> VANNESS AV / GREENWICH ST</td>\n",
       "      <td>-122.424363</td>\n",
       "      <td> 37.800414</td>\n",
       "    </tr>\n",
       "    <tr>\n",
       "      <th>3</th>\n",
       "      <td> 2015-05-13 23:30:00</td>\n",
       "      <td>  LARCENY/THEFT</td>\n",
       "      <td> GRAND THEFT FROM LOCKED AUTO</td>\n",
       "      <td> Wednesday</td>\n",
       "      <td> NORTHERN</td>\n",
       "      <td>           NONE</td>\n",
       "      <td>  1500 Block of LOMBARD ST</td>\n",
       "      <td>-122.426995</td>\n",
       "      <td> 37.800873</td>\n",
       "    </tr>\n",
       "    <tr>\n",
       "      <th>4</th>\n",
       "      <td> 2015-05-13 23:30:00</td>\n",
       "      <td>  LARCENY/THEFT</td>\n",
       "      <td> GRAND THEFT FROM LOCKED AUTO</td>\n",
       "      <td> Wednesday</td>\n",
       "      <td>     PARK</td>\n",
       "      <td>           NONE</td>\n",
       "      <td> 100 Block of BRODERICK ST</td>\n",
       "      <td>-122.438738</td>\n",
       "      <td> 37.771541</td>\n",
       "    </tr>\n",
       "  </tbody>\n",
       "</table>\n",
       "</div>"
      ],
      "text/plain": [
       "                 Dates        Category                      Descript  \\\n",
       "0  2015-05-13 23:53:00        WARRANTS                WARRANT ARREST   \n",
       "1  2015-05-13 23:53:00  OTHER OFFENSES      TRAFFIC VIOLATION ARREST   \n",
       "2  2015-05-13 23:33:00  OTHER OFFENSES      TRAFFIC VIOLATION ARREST   \n",
       "3  2015-05-13 23:30:00   LARCENY/THEFT  GRAND THEFT FROM LOCKED AUTO   \n",
       "4  2015-05-13 23:30:00   LARCENY/THEFT  GRAND THEFT FROM LOCKED AUTO   \n",
       "\n",
       "   DayOfWeek PdDistrict      Resolution                    Address  \\\n",
       "0  Wednesday   NORTHERN  ARREST, BOOKED         OAK ST / LAGUNA ST   \n",
       "1  Wednesday   NORTHERN  ARREST, BOOKED         OAK ST / LAGUNA ST   \n",
       "2  Wednesday   NORTHERN  ARREST, BOOKED  VANNESS AV / GREENWICH ST   \n",
       "3  Wednesday   NORTHERN            NONE   1500 Block of LOMBARD ST   \n",
       "4  Wednesday       PARK            NONE  100 Block of BRODERICK ST   \n",
       "\n",
       "            X          Y  \n",
       "0 -122.425892  37.774599  \n",
       "1 -122.425892  37.774599  \n",
       "2 -122.424363  37.800414  \n",
       "3 -122.426995  37.800873  \n",
       "4 -122.438738  37.771541  "
      ]
     },
     "execution_count": 88,
     "metadata": {},
     "output_type": "execute_result"
    }
   ],
   "source": [
    "train_raw.head()"
   ]
  },
  {
   "cell_type": "code",
   "execution_count": 89,
   "metadata": {
    "collapsed": false
   },
   "outputs": [
    {
     "data": {
      "text/html": [
       "<div style=\"max-height:1000px;max-width:1500px;overflow:auto;\">\n",
       "<table border=\"1\" class=\"dataframe\">\n",
       "  <thead>\n",
       "    <tr style=\"text-align: right;\">\n",
       "      <th></th>\n",
       "      <th>Id</th>\n",
       "      <th>Dates</th>\n",
       "      <th>DayOfWeek</th>\n",
       "      <th>PdDistrict</th>\n",
       "      <th>Address</th>\n",
       "      <th>X</th>\n",
       "      <th>Y</th>\n",
       "    </tr>\n",
       "  </thead>\n",
       "  <tbody>\n",
       "    <tr>\n",
       "      <th>0</th>\n",
       "      <td> 0</td>\n",
       "      <td> 2015-05-10 23:59:00</td>\n",
       "      <td> Sunday</td>\n",
       "      <td>   BAYVIEW</td>\n",
       "      <td>  2000 Block of THOMAS AV</td>\n",
       "      <td>-122.399588</td>\n",
       "      <td> 37.735051</td>\n",
       "    </tr>\n",
       "    <tr>\n",
       "      <th>1</th>\n",
       "      <td> 1</td>\n",
       "      <td> 2015-05-10 23:51:00</td>\n",
       "      <td> Sunday</td>\n",
       "      <td>   BAYVIEW</td>\n",
       "      <td>       3RD ST / REVERE AV</td>\n",
       "      <td>-122.391523</td>\n",
       "      <td> 37.732432</td>\n",
       "    </tr>\n",
       "    <tr>\n",
       "      <th>2</th>\n",
       "      <td> 2</td>\n",
       "      <td> 2015-05-10 23:50:00</td>\n",
       "      <td> Sunday</td>\n",
       "      <td>  NORTHERN</td>\n",
       "      <td>   2000 Block of GOUGH ST</td>\n",
       "      <td>-122.426002</td>\n",
       "      <td> 37.792212</td>\n",
       "    </tr>\n",
       "    <tr>\n",
       "      <th>3</th>\n",
       "      <td> 3</td>\n",
       "      <td> 2015-05-10 23:45:00</td>\n",
       "      <td> Sunday</td>\n",
       "      <td> INGLESIDE</td>\n",
       "      <td> 4700 Block of MISSION ST</td>\n",
       "      <td>-122.437394</td>\n",
       "      <td> 37.721412</td>\n",
       "    </tr>\n",
       "    <tr>\n",
       "      <th>4</th>\n",
       "      <td> 4</td>\n",
       "      <td> 2015-05-10 23:45:00</td>\n",
       "      <td> Sunday</td>\n",
       "      <td> INGLESIDE</td>\n",
       "      <td> 4700 Block of MISSION ST</td>\n",
       "      <td>-122.437394</td>\n",
       "      <td> 37.721412</td>\n",
       "    </tr>\n",
       "  </tbody>\n",
       "</table>\n",
       "</div>"
      ],
      "text/plain": [
       "   Id                Dates DayOfWeek PdDistrict                   Address  \\\n",
       "0   0  2015-05-10 23:59:00    Sunday    BAYVIEW   2000 Block of THOMAS AV   \n",
       "1   1  2015-05-10 23:51:00    Sunday    BAYVIEW        3RD ST / REVERE AV   \n",
       "2   2  2015-05-10 23:50:00    Sunday   NORTHERN    2000 Block of GOUGH ST   \n",
       "3   3  2015-05-10 23:45:00    Sunday  INGLESIDE  4700 Block of MISSION ST   \n",
       "4   4  2015-05-10 23:45:00    Sunday  INGLESIDE  4700 Block of MISSION ST   \n",
       "\n",
       "            X          Y  \n",
       "0 -122.399588  37.735051  \n",
       "1 -122.391523  37.732432  \n",
       "2 -122.426002  37.792212  \n",
       "3 -122.437394  37.721412  \n",
       "4 -122.437394  37.721412  "
      ]
     },
     "execution_count": 89,
     "metadata": {},
     "output_type": "execute_result"
    }
   ],
   "source": [
    "test_raw.head()"
   ]
  },
  {
   "cell_type": "code",
   "execution_count": 90,
   "metadata": {
    "collapsed": false
   },
   "outputs": [
    {
     "data": {
      "text/html": [
       "<div style=\"max-height:1000px;max-width:1500px;overflow:auto;\">\n",
       "<table border=\"1\" class=\"dataframe\">\n",
       "  <thead>\n",
       "    <tr style=\"text-align: right;\">\n",
       "      <th></th>\n",
       "      <th>Id</th>\n",
       "      <th>ARSON</th>\n",
       "      <th>ASSAULT</th>\n",
       "      <th>BAD CHECKS</th>\n",
       "      <th>BRIBERY</th>\n",
       "      <th>BURGLARY</th>\n",
       "      <th>DISORDERLY CONDUCT</th>\n",
       "      <th>DRIVING UNDER THE INFLUENCE</th>\n",
       "      <th>DRUG/NARCOTIC</th>\n",
       "      <th>DRUNKENNESS</th>\n",
       "      <th>...</th>\n",
       "      <th>SEX OFFENSES NON FORCIBLE</th>\n",
       "      <th>STOLEN PROPERTY</th>\n",
       "      <th>SUICIDE</th>\n",
       "      <th>SUSPICIOUS OCC</th>\n",
       "      <th>TREA</th>\n",
       "      <th>TRESPASS</th>\n",
       "      <th>VANDALISM</th>\n",
       "      <th>VEHICLE THEFT</th>\n",
       "      <th>WARRANTS</th>\n",
       "      <th>WEAPON LAWS</th>\n",
       "    </tr>\n",
       "  </thead>\n",
       "  <tbody>\n",
       "    <tr>\n",
       "      <th>0</th>\n",
       "      <td> 0</td>\n",
       "      <td> 0</td>\n",
       "      <td> 0</td>\n",
       "      <td> 0</td>\n",
       "      <td> 0</td>\n",
       "      <td> 0</td>\n",
       "      <td> 0</td>\n",
       "      <td> 0</td>\n",
       "      <td> 0</td>\n",
       "      <td> 0</td>\n",
       "      <td>...</td>\n",
       "      <td> 0</td>\n",
       "      <td> 0</td>\n",
       "      <td> 0</td>\n",
       "      <td> 0</td>\n",
       "      <td> 0</td>\n",
       "      <td> 0</td>\n",
       "      <td> 0</td>\n",
       "      <td> 0</td>\n",
       "      <td> 1</td>\n",
       "      <td> 0</td>\n",
       "    </tr>\n",
       "    <tr>\n",
       "      <th>1</th>\n",
       "      <td> 1</td>\n",
       "      <td> 0</td>\n",
       "      <td> 0</td>\n",
       "      <td> 0</td>\n",
       "      <td> 0</td>\n",
       "      <td> 0</td>\n",
       "      <td> 0</td>\n",
       "      <td> 0</td>\n",
       "      <td> 0</td>\n",
       "      <td> 0</td>\n",
       "      <td>...</td>\n",
       "      <td> 0</td>\n",
       "      <td> 0</td>\n",
       "      <td> 0</td>\n",
       "      <td> 0</td>\n",
       "      <td> 0</td>\n",
       "      <td> 0</td>\n",
       "      <td> 0</td>\n",
       "      <td> 0</td>\n",
       "      <td> 1</td>\n",
       "      <td> 0</td>\n",
       "    </tr>\n",
       "    <tr>\n",
       "      <th>2</th>\n",
       "      <td> 2</td>\n",
       "      <td> 0</td>\n",
       "      <td> 0</td>\n",
       "      <td> 0</td>\n",
       "      <td> 0</td>\n",
       "      <td> 0</td>\n",
       "      <td> 0</td>\n",
       "      <td> 0</td>\n",
       "      <td> 0</td>\n",
       "      <td> 0</td>\n",
       "      <td>...</td>\n",
       "      <td> 0</td>\n",
       "      <td> 0</td>\n",
       "      <td> 0</td>\n",
       "      <td> 0</td>\n",
       "      <td> 0</td>\n",
       "      <td> 0</td>\n",
       "      <td> 0</td>\n",
       "      <td> 0</td>\n",
       "      <td> 1</td>\n",
       "      <td> 0</td>\n",
       "    </tr>\n",
       "    <tr>\n",
       "      <th>3</th>\n",
       "      <td> 3</td>\n",
       "      <td> 0</td>\n",
       "      <td> 0</td>\n",
       "      <td> 0</td>\n",
       "      <td> 0</td>\n",
       "      <td> 0</td>\n",
       "      <td> 0</td>\n",
       "      <td> 0</td>\n",
       "      <td> 0</td>\n",
       "      <td> 0</td>\n",
       "      <td>...</td>\n",
       "      <td> 0</td>\n",
       "      <td> 0</td>\n",
       "      <td> 0</td>\n",
       "      <td> 0</td>\n",
       "      <td> 0</td>\n",
       "      <td> 0</td>\n",
       "      <td> 0</td>\n",
       "      <td> 0</td>\n",
       "      <td> 1</td>\n",
       "      <td> 0</td>\n",
       "    </tr>\n",
       "    <tr>\n",
       "      <th>4</th>\n",
       "      <td> 4</td>\n",
       "      <td> 0</td>\n",
       "      <td> 0</td>\n",
       "      <td> 0</td>\n",
       "      <td> 0</td>\n",
       "      <td> 0</td>\n",
       "      <td> 0</td>\n",
       "      <td> 0</td>\n",
       "      <td> 0</td>\n",
       "      <td> 0</td>\n",
       "      <td>...</td>\n",
       "      <td> 0</td>\n",
       "      <td> 0</td>\n",
       "      <td> 0</td>\n",
       "      <td> 0</td>\n",
       "      <td> 0</td>\n",
       "      <td> 0</td>\n",
       "      <td> 0</td>\n",
       "      <td> 0</td>\n",
       "      <td> 1</td>\n",
       "      <td> 0</td>\n",
       "    </tr>\n",
       "  </tbody>\n",
       "</table>\n",
       "<p>5 rows × 40 columns</p>\n",
       "</div>"
      ],
      "text/plain": [
       "   Id  ARSON  ASSAULT  BAD CHECKS  BRIBERY  BURGLARY  DISORDERLY CONDUCT  \\\n",
       "0   0      0        0           0        0         0                   0   \n",
       "1   1      0        0           0        0         0                   0   \n",
       "2   2      0        0           0        0         0                   0   \n",
       "3   3      0        0           0        0         0                   0   \n",
       "4   4      0        0           0        0         0                   0   \n",
       "\n",
       "   DRIVING UNDER THE INFLUENCE  DRUG/NARCOTIC  DRUNKENNESS     ...       \\\n",
       "0                            0              0            0     ...        \n",
       "1                            0              0            0     ...        \n",
       "2                            0              0            0     ...        \n",
       "3                            0              0            0     ...        \n",
       "4                            0              0            0     ...        \n",
       "\n",
       "   SEX OFFENSES NON FORCIBLE  STOLEN PROPERTY  SUICIDE  SUSPICIOUS OCC  TREA  \\\n",
       "0                          0                0        0               0     0   \n",
       "1                          0                0        0               0     0   \n",
       "2                          0                0        0               0     0   \n",
       "3                          0                0        0               0     0   \n",
       "4                          0                0        0               0     0   \n",
       "\n",
       "   TRESPASS  VANDALISM  VEHICLE THEFT  WARRANTS  WEAPON LAWS  \n",
       "0         0          0              0         1            0  \n",
       "1         0          0              0         1            0  \n",
       "2         0          0              0         1            0  \n",
       "3         0          0              0         1            0  \n",
       "4         0          0              0         1            0  \n",
       "\n",
       "[5 rows x 40 columns]"
      ]
     },
     "execution_count": 90,
     "metadata": {},
     "output_type": "execute_result"
    }
   ],
   "source": [
    "sample_submission.head()"
   ]
  },
  {
   "cell_type": "code",
   "execution_count": 91,
   "metadata": {
    "collapsed": false
   },
   "outputs": [],
   "source": [
    "train_data\\\n",
    ",train_labels = train_raw[['DayOfWeek'\\\n",
    "                                     ,'PdDistrict'\\\n",
    "                                     ,'Address'\\\n",
    "                                     ,'X'\\\n",
    "                                     ,'Y']][2001:]\\\n",
    "                            ,train_raw['Category'][2001:]\n",
    "dev_data\\\n",
    ",dev_labels = train_raw[['DayOfWeek'\\\n",
    "                                 ,'PdDistrict'\\\n",
    "                                 ,'Address'\\\n",
    "                                 ,'X'\\\n",
    "                                 ,'Y']][:1000]\\\n",
    "                            ,train_raw['Category'][:1000]\n",
    "dev_test_data\\\n",
    ",dev_test_labels = train_raw[['DayOfWeek'\\\n",
    "                                 ,'PdDistrict'\\\n",
    "                                 ,'Address'\\\n",
    "                                 ,'X'\\\n",
    "                                 ,'Y']][1001:2000]\\\n",
    "                            ,train_raw['Category'][1001:2000]\n",
    "test_data = test_raw[['DayOfWeek'\\\n",
    "                     ,'PdDistrict'\\\n",
    "                     ,'Address'\\\n",
    "                     ,'X'\\\n",
    "                     ,'Y']]"
   ]
  },
  {
   "cell_type": "code",
   "execution_count": 92,
   "metadata": {
    "collapsed": false
   },
   "outputs": [],
   "source": [
    "rf = RandomForestClassifier() #leaving with default settings for now"
   ]
  },
  {
   "cell_type": "markdown",
   "metadata": {},
   "source": [
    "Data needs to be preprocessed for RF in sklearn"
   ]
  },
  {
   "cell_type": "code",
   "execution_count": 93,
   "metadata": {
    "collapsed": false
   },
   "outputs": [],
   "source": [
    "def recode(df):\n",
    "    numerics = ['float16', 'float32', 'float64']\n",
    "    ints = ['int16', 'int32', 'int64']\n",
    "    for i in range(df.shape[1]):\n",
    "        t = df.iloc[:,i].dtype\n",
    "        if t not in numerics or ints:\n",
    "            le = LabelEncoder()\n",
    "            le.fit(df.iloc[:,i])\n",
    "            df.iloc[:,i] = le.transform(df.iloc[:,i])\n",
    "        elif t not in ints:\n",
    "            df.iloc[:,i] = scale(df.iloc[:,i])\n",
    "    return df\n",
    "\n",
    "def recode_labels(df):\n",
    "    le = LabelEncoder()\n",
    "    le.fit(df)\n",
    "    return le\n",
    "\n",
    "class MultiColumnLabelEncoder:\n",
    "    ''' Create a class that encodes\n",
    "        labels for a matrix of data\n",
    "    '''\n",
    "    def __init__(self, columns = None):\n",
    "        self.columns = columns # array of column names to encode\n",
    "\n",
    "    def fit(self,X,y=None):\n",
    "        return self # not relevant here\n",
    "    \n",
    "    def get_params(self, deep=True):\n",
    "        out = dict()\n",
    "        if self.columns: out['columns'] = columns\n",
    "        return out\n",
    "\n",
    "    def transform(self,X):\n",
    "        '''\n",
    "        Transforms columns of X specified in self.columns using\n",
    "        LabelEncoder(). If no columns specified, transforms all\n",
    "        columns in X.\n",
    "        '''\n",
    "        numerics = ['float16', 'float32', 'float64']\n",
    "        ints = ['int16', 'int32', 'int64']\n",
    "        output = X.copy()\n",
    "        if self.columns is not None:\n",
    "            for col in self.columns:\n",
    "                if col.dtype in numerics or ints:\n",
    "                    output[col] = LabelEncoder().fit_transform(output[col])\n",
    "                elif col.dtype not in ints:\n",
    "                    output[col] = scale(output[col])\n",
    "        else:\n",
    "            for colname,col in output.iteritems():\n",
    "                if col.dtype in numerics or ints:\n",
    "                    output[colname] = LabelEncoder().fit_transform(output[colname])\n",
    "                elif col.dtype not in ints:\n",
    "                    output[colname] = scale(output[colname])\n",
    "        return output\n",
    "\n",
    "    def fit_transform(self,X,y=None):\n",
    "        return self.fit(X,y).transform(X)"
   ]
  },
  {
   "cell_type": "code",
   "execution_count": 94,
   "metadata": {
    "collapsed": true
   },
   "outputs": [],
   "source": [
    "dev_data = recode(dev_data)\n",
    "dev_label_le = recode_labels(np.concatenate((dev_labels,dev_test_labels),axis=1))\n",
    "dev_labels = dev_label_le.transform(dev_labels)\n",
    "dev_test_data = recode(dev_test_data)\n",
    "dev_test_labels = dev_label_le.transform(dev_test_labels)"
   ]
  },
  {
   "cell_type": "markdown",
   "metadata": {},
   "source": [
    "Run model"
   ]
  },
  {
   "cell_type": "code",
   "execution_count": 95,
   "metadata": {
    "collapsed": false
   },
   "outputs": [
    {
     "data": {
      "text/plain": [
       "RandomForestClassifier(bootstrap=True, class_weight=None, criterion='gini',\n",
       "            max_depth=None, max_features='auto', max_leaf_nodes=None,\n",
       "            min_samples_leaf=1, min_samples_split=2,\n",
       "            min_weight_fraction_leaf=0.0, n_estimators=10, n_jobs=1,\n",
       "            oob_score=False, random_state=None, verbose=0,\n",
       "            warm_start=False)"
      ]
     },
     "execution_count": 95,
     "metadata": {},
     "output_type": "execute_result"
    }
   ],
   "source": [
    "rf.fit(dev_data,dev_labels)"
   ]
  },
  {
   "cell_type": "code",
   "execution_count": 96,
   "metadata": {
    "collapsed": false
   },
   "outputs": [],
   "source": [
    "predictions = rf.predict(dev_test_data)"
   ]
  },
  {
   "cell_type": "code",
   "execution_count": 97,
   "metadata": {
    "collapsed": false
   },
   "outputs": [
    {
     "name": "stdout",
     "output_type": "stream",
     "text": [
      "['ASSAULT' 'LARCENY/THEFT' 'SUSPICIOUS OCC' 'VEHICLE THEFT' 'VEHICLE THEFT'] \n",
      "['OTHER OFFENSES' 'LARCENY/THEFT' 'LARCENY/THEFT' 'WARRANTS' 'WARRANTS']\n"
     ]
    }
   ],
   "source": [
    "actual_predictions = dev_label_le.inverse_transform(predictions)\n",
    "actual_labels = dev_label_le.inverse_transform(dev_test_labels)\n",
    "print actual_predictions[:5],'\\n',actual_labels[:5]"
   ]
  },
  {
   "cell_type": "code",
   "execution_count": 98,
   "metadata": {
    "collapsed": false
   },
   "outputs": [
    {
     "name": "stdout",
     "output_type": "stream",
     "text": [
      "Dev Accuracy: 19.9%\n"
     ]
    }
   ],
   "source": [
    "accuracy = np.sum((actual_predictions == actual_labels)*1.0)/len(dev_labels)\n",
    "print 'Dev Accuracy: {0}%'.format(accuracy*100)"
   ]
  },
  {
   "cell_type": "markdown",
   "metadata": {},
   "source": [
    "Train with real data"
   ]
  },
  {
   "cell_type": "code",
   "execution_count": 99,
   "metadata": {
    "collapsed": false
   },
   "outputs": [],
   "source": [
    "train_data, test_data = recode(train_data), recode(test_data)\n",
    "train_le = recode_labels(train_labels)\n",
    "train_labels = train_le.transform(train_labels)"
   ]
  },
  {
   "cell_type": "code",
   "execution_count": 100,
   "metadata": {
    "collapsed": false
   },
   "outputs": [
    {
     "data": {
      "text/plain": [
       "RandomForestClassifier(bootstrap=True, class_weight=None, criterion='gini',\n",
       "            max_depth=None, max_features='auto', max_leaf_nodes=None,\n",
       "            min_samples_leaf=1, min_samples_split=2,\n",
       "            min_weight_fraction_leaf=0.0, n_estimators=10, n_jobs=1,\n",
       "            oob_score=False, random_state=None, verbose=0,\n",
       "            warm_start=False)"
      ]
     },
     "execution_count": 100,
     "metadata": {},
     "output_type": "execute_result"
    }
   ],
   "source": [
    "rf = RandomForestClassifier()\n",
    "rf.fit(train_data, train_labels)"
   ]
  },
  {
   "cell_type": "markdown",
   "metadata": {},
   "source": [
    "Make predictions and reformat for submission"
   ]
  },
  {
   "cell_type": "code",
   "execution_count": 101,
   "metadata": {
    "collapsed": false
   },
   "outputs": [],
   "source": [
    "predictions = rf.predict(test_data)\n",
    "actual_predictions = train_le.inverse_transform(predictions)"
   ]
  },
  {
   "cell_type": "code",
   "execution_count": 102,
   "metadata": {
    "collapsed": false
   },
   "outputs": [],
   "source": [
    "l = len(test_data)\n",
    "submission = np.zeros((l,40),dtype=np.int32)\n",
    "submission[:,0] = range(l)\n",
    "cols = train_le.classes_ \n",
    "for i,c in enumerate(cols):\n",
    "    submission[:,i+1] = actual_predictions == c"
   ]
  },
  {
   "cell_type": "code",
   "execution_count": 103,
   "metadata": {
    "collapsed": false
   },
   "outputs": [
    {
     "data": {
      "text/html": [
       "<div style=\"max-height:1000px;max-width:1500px;overflow:auto;\">\n",
       "<table border=\"1\" class=\"dataframe\">\n",
       "  <thead>\n",
       "    <tr style=\"text-align: right;\">\n",
       "      <th></th>\n",
       "      <th>Id</th>\n",
       "      <th>ARSON</th>\n",
       "      <th>ASSAULT</th>\n",
       "      <th>BAD CHECKS</th>\n",
       "      <th>BRIBERY</th>\n",
       "      <th>BURGLARY</th>\n",
       "      <th>DISORDERLY CONDUCT</th>\n",
       "      <th>DRIVING UNDER THE INFLUENCE</th>\n",
       "      <th>DRUG/NARCOTIC</th>\n",
       "      <th>DRUNKENNESS</th>\n",
       "      <th>...</th>\n",
       "      <th>SEX OFFENSES NON FORCIBLE</th>\n",
       "      <th>STOLEN PROPERTY</th>\n",
       "      <th>SUICIDE</th>\n",
       "      <th>SUSPICIOUS OCC</th>\n",
       "      <th>TREA</th>\n",
       "      <th>TRESPASS</th>\n",
       "      <th>VANDALISM</th>\n",
       "      <th>VEHICLE THEFT</th>\n",
       "      <th>WARRANTS</th>\n",
       "      <th>WEAPON LAWS</th>\n",
       "    </tr>\n",
       "  </thead>\n",
       "  <tbody>\n",
       "    <tr>\n",
       "      <th>0</th>\n",
       "      <td> 0</td>\n",
       "      <td> 0</td>\n",
       "      <td> 0</td>\n",
       "      <td> 0</td>\n",
       "      <td> 0</td>\n",
       "      <td> 0</td>\n",
       "      <td> 0</td>\n",
       "      <td> 0</td>\n",
       "      <td> 0</td>\n",
       "      <td> 0</td>\n",
       "      <td>...</td>\n",
       "      <td> 0</td>\n",
       "      <td> 0</td>\n",
       "      <td> 0</td>\n",
       "      <td> 0</td>\n",
       "      <td> 0</td>\n",
       "      <td> 0</td>\n",
       "      <td> 0</td>\n",
       "      <td> 0</td>\n",
       "      <td> 0</td>\n",
       "      <td> 0</td>\n",
       "    </tr>\n",
       "    <tr>\n",
       "      <th>1</th>\n",
       "      <td> 1</td>\n",
       "      <td> 0</td>\n",
       "      <td> 0</td>\n",
       "      <td> 0</td>\n",
       "      <td> 0</td>\n",
       "      <td> 0</td>\n",
       "      <td> 0</td>\n",
       "      <td> 0</td>\n",
       "      <td> 0</td>\n",
       "      <td> 0</td>\n",
       "      <td>...</td>\n",
       "      <td> 0</td>\n",
       "      <td> 0</td>\n",
       "      <td> 0</td>\n",
       "      <td> 0</td>\n",
       "      <td> 0</td>\n",
       "      <td> 0</td>\n",
       "      <td> 0</td>\n",
       "      <td> 0</td>\n",
       "      <td> 0</td>\n",
       "      <td> 0</td>\n",
       "    </tr>\n",
       "    <tr>\n",
       "      <th>2</th>\n",
       "      <td> 2</td>\n",
       "      <td> 0</td>\n",
       "      <td> 0</td>\n",
       "      <td> 0</td>\n",
       "      <td> 0</td>\n",
       "      <td> 0</td>\n",
       "      <td> 0</td>\n",
       "      <td> 0</td>\n",
       "      <td> 0</td>\n",
       "      <td> 0</td>\n",
       "      <td>...</td>\n",
       "      <td> 0</td>\n",
       "      <td> 0</td>\n",
       "      <td> 0</td>\n",
       "      <td> 1</td>\n",
       "      <td> 0</td>\n",
       "      <td> 0</td>\n",
       "      <td> 0</td>\n",
       "      <td> 0</td>\n",
       "      <td> 0</td>\n",
       "      <td> 0</td>\n",
       "    </tr>\n",
       "    <tr>\n",
       "      <th>3</th>\n",
       "      <td> 3</td>\n",
       "      <td> 0</td>\n",
       "      <td> 1</td>\n",
       "      <td> 0</td>\n",
       "      <td> 0</td>\n",
       "      <td> 0</td>\n",
       "      <td> 0</td>\n",
       "      <td> 0</td>\n",
       "      <td> 0</td>\n",
       "      <td> 0</td>\n",
       "      <td>...</td>\n",
       "      <td> 0</td>\n",
       "      <td> 0</td>\n",
       "      <td> 0</td>\n",
       "      <td> 0</td>\n",
       "      <td> 0</td>\n",
       "      <td> 0</td>\n",
       "      <td> 0</td>\n",
       "      <td> 0</td>\n",
       "      <td> 0</td>\n",
       "      <td> 0</td>\n",
       "    </tr>\n",
       "    <tr>\n",
       "      <th>4</th>\n",
       "      <td> 4</td>\n",
       "      <td> 0</td>\n",
       "      <td> 1</td>\n",
       "      <td> 0</td>\n",
       "      <td> 0</td>\n",
       "      <td> 0</td>\n",
       "      <td> 0</td>\n",
       "      <td> 0</td>\n",
       "      <td> 0</td>\n",
       "      <td> 0</td>\n",
       "      <td>...</td>\n",
       "      <td> 0</td>\n",
       "      <td> 0</td>\n",
       "      <td> 0</td>\n",
       "      <td> 0</td>\n",
       "      <td> 0</td>\n",
       "      <td> 0</td>\n",
       "      <td> 0</td>\n",
       "      <td> 0</td>\n",
       "      <td> 0</td>\n",
       "      <td> 0</td>\n",
       "    </tr>\n",
       "  </tbody>\n",
       "</table>\n",
       "<p>5 rows × 40 columns</p>\n",
       "</div>"
      ],
      "text/plain": [
       "   Id  ARSON  ASSAULT  BAD CHECKS  BRIBERY  BURGLARY  DISORDERLY CONDUCT  \\\n",
       "0   0      0        0           0        0         0                   0   \n",
       "1   1      0        0           0        0         0                   0   \n",
       "2   2      0        0           0        0         0                   0   \n",
       "3   3      0        1           0        0         0                   0   \n",
       "4   4      0        1           0        0         0                   0   \n",
       "\n",
       "   DRIVING UNDER THE INFLUENCE  DRUG/NARCOTIC  DRUNKENNESS     ...       \\\n",
       "0                            0              0            0     ...        \n",
       "1                            0              0            0     ...        \n",
       "2                            0              0            0     ...        \n",
       "3                            0              0            0     ...        \n",
       "4                            0              0            0     ...        \n",
       "\n",
       "   SEX OFFENSES NON FORCIBLE  STOLEN PROPERTY  SUICIDE  SUSPICIOUS OCC  TREA  \\\n",
       "0                          0                0        0               0     0   \n",
       "1                          0                0        0               0     0   \n",
       "2                          0                0        0               1     0   \n",
       "3                          0                0        0               0     0   \n",
       "4                          0                0        0               0     0   \n",
       "\n",
       "   TRESPASS  VANDALISM  VEHICLE THEFT  WARRANTS  WEAPON LAWS  \n",
       "0         0          0              0         0            0  \n",
       "1         0          0              0         0            0  \n",
       "2         0          0              0         0            0  \n",
       "3         0          0              0         0            0  \n",
       "4         0          0              0         0            0  \n",
       "\n",
       "[5 rows x 40 columns]"
      ]
     },
     "execution_count": 103,
     "metadata": {},
     "output_type": "execute_result"
    }
   ],
   "source": [
    "submission_cols = ['Id']\n",
    "submission_cols.extend(cols)\n",
    "submission_df = pd.DataFrame(submission,columns=submission_cols)\n",
    "submission_df.head()"
   ]
  },
  {
   "cell_type": "markdown",
   "metadata": {},
   "source": [
    "Save data to csv file for submission"
   ]
  },
  {
   "cell_type": "code",
   "execution_count": 104,
   "metadata": {
    "collapsed": false
   },
   "outputs": [],
   "source": [
    "submission_df.to_csv('Data/submission_file1.csv',index=False)"
   ]
  },
  {
   "cell_type": "markdown",
   "metadata": {},
   "source": [
    "#### Part 2 - Tests to increase accuracy"
   ]
  },
  {
   "cell_type": "markdown",
   "metadata": {},
   "source": [
    "First attempt: Rank 208, score 26.95890, tested accuracy of ~20-23%."
   ]
  },
  {
   "cell_type": "markdown",
   "metadata": {},
   "source": [
    "##### See where model breaks down"
   ]
  },
  {
   "cell_type": "code",
   "execution_count": 105,
   "metadata": {
    "collapsed": true
   },
   "outputs": [],
   "source": [
    "dev_test_data\\\n",
    ",dev_test_labels = train_raw[['DayOfWeek'\\\n",
    "                                 ,'PdDistrict'\\\n",
    "                                 ,'Address'\\\n",
    "                                 ,'X'\\\n",
    "                                 ,'Y']][1001:2000]\\\n",
    "                            ,train_raw['Category'][1001:2000]\n",
    "dev_test_data = recode(dev_test_data)\n",
    "predictions = rf.predict(dev_test_data)\n",
    "actual_predictions = train_le.inverse_transform(predictions)"
   ]
  },
  {
   "cell_type": "code",
   "execution_count": 106,
   "metadata": {
    "collapsed": false
   },
   "outputs": [
    {
     "data": {
      "text/plain": [
       "<matplotlib.image.AxesImage at 0x1df7d8d10>"
      ]
     },
     "execution_count": 106,
     "metadata": {},
     "output_type": "execute_result"
    },
    {
     "data": {
      "image/png": "[encoded data removed]",
      "text/plain": [
       "<matplotlib.figure.Figure at 0x120191fd0>"
      ]
     },
     "metadata": {},
     "output_type": "display_data"
    }
   ],
   "source": [
    "conf = confusion_matrix(dev_test_labels,actual_predictions)\n",
    "plt.imshow(conf, cmap='binary')"
   ]
  },
  {
   "cell_type": "code",
   "execution_count": 107,
   "metadata": {
    "collapsed": false
   },
   "outputs": [
    {
     "data": {
      "text/html": [
       "<div style=\"max-height:1000px;max-width:1500px;overflow:auto;\">\n",
       "<table border=\"1\" class=\"dataframe\">\n",
       "  <thead>\n",
       "    <tr style=\"text-align: right;\">\n",
       "      <th>Predicted</th>\n",
       "      <th>ASSAULT</th>\n",
       "      <th>BURGLARY</th>\n",
       "      <th>LARCENY/THEFT</th>\n",
       "      <th>MISSING PERSON</th>\n",
       "      <th>NON-CRIMINAL</th>\n",
       "      <th>OTHER OFFENSES</th>\n",
       "      <th>RECOVERED VEHICLE</th>\n",
       "      <th>SECONDARY CODES</th>\n",
       "      <th>SUSPICIOUS OCC</th>\n",
       "      <th>VANDALISM</th>\n",
       "      <th>VEHICLE THEFT</th>\n",
       "      <th>All</th>\n",
       "    </tr>\n",
       "    <tr>\n",
       "      <th>True</th>\n",
       "      <th></th>\n",
       "      <th></th>\n",
       "      <th></th>\n",
       "      <th></th>\n",
       "      <th></th>\n",
       "      <th></th>\n",
       "      <th></th>\n",
       "      <th></th>\n",
       "      <th></th>\n",
       "      <th></th>\n",
       "      <th></th>\n",
       "      <th></th>\n",
       "    </tr>\n",
       "  </thead>\n",
       "  <tbody>\n",
       "    <tr>\n",
       "      <th>ARSON</th>\n",
       "      <td>  0</td>\n",
       "      <td>  1</td>\n",
       "      <td>   1</td>\n",
       "      <td>  0</td>\n",
       "      <td>  0</td>\n",
       "      <td>   0</td>\n",
       "      <td> 0</td>\n",
       "      <td> 0</td>\n",
       "      <td>   0</td>\n",
       "      <td>  2</td>\n",
       "      <td>  0</td>\n",
       "      <td>   4</td>\n",
       "    </tr>\n",
       "    <tr>\n",
       "      <th>ASSAULT</th>\n",
       "      <td>  0</td>\n",
       "      <td>  2</td>\n",
       "      <td>  56</td>\n",
       "      <td>  1</td>\n",
       "      <td>  3</td>\n",
       "      <td>  12</td>\n",
       "      <td> 0</td>\n",
       "      <td> 0</td>\n",
       "      <td>   3</td>\n",
       "      <td>  1</td>\n",
       "      <td>  1</td>\n",
       "      <td>  79</td>\n",
       "    </tr>\n",
       "    <tr>\n",
       "      <th>BRIBERY</th>\n",
       "      <td>  0</td>\n",
       "      <td>  0</td>\n",
       "      <td>   0</td>\n",
       "      <td>  0</td>\n",
       "      <td>  0</td>\n",
       "      <td>   0</td>\n",
       "      <td> 0</td>\n",
       "      <td> 0</td>\n",
       "      <td>   1</td>\n",
       "      <td>  0</td>\n",
       "      <td>  0</td>\n",
       "      <td>   1</td>\n",
       "    </tr>\n",
       "    <tr>\n",
       "      <th>BURGLARY</th>\n",
       "      <td>  2</td>\n",
       "      <td>  1</td>\n",
       "      <td>  17</td>\n",
       "      <td>  0</td>\n",
       "      <td>  4</td>\n",
       "      <td>   6</td>\n",
       "      <td> 1</td>\n",
       "      <td> 0</td>\n",
       "      <td>   0</td>\n",
       "      <td>  6</td>\n",
       "      <td>  2</td>\n",
       "      <td>  39</td>\n",
       "    </tr>\n",
       "    <tr>\n",
       "      <th>DISORDERLY CONDUCT</th>\n",
       "      <td>  0</td>\n",
       "      <td>  0</td>\n",
       "      <td>   1</td>\n",
       "      <td>  0</td>\n",
       "      <td>  0</td>\n",
       "      <td>   1</td>\n",
       "      <td> 0</td>\n",
       "      <td> 0</td>\n",
       "      <td>   0</td>\n",
       "      <td>  0</td>\n",
       "      <td>  0</td>\n",
       "      <td>   2</td>\n",
       "    </tr>\n",
       "    <tr>\n",
       "      <th>DRIVING UNDER THE INFLUENCE</th>\n",
       "      <td>  0</td>\n",
       "      <td>  0</td>\n",
       "      <td>   2</td>\n",
       "      <td>  1</td>\n",
       "      <td>  0</td>\n",
       "      <td>   0</td>\n",
       "      <td> 0</td>\n",
       "      <td> 0</td>\n",
       "      <td>   1</td>\n",
       "      <td>  1</td>\n",
       "      <td>  1</td>\n",
       "      <td>   6</td>\n",
       "    </tr>\n",
       "    <tr>\n",
       "      <th>DRUG/NARCOTIC</th>\n",
       "      <td>  3</td>\n",
       "      <td>  1</td>\n",
       "      <td>   5</td>\n",
       "      <td>  0</td>\n",
       "      <td>  0</td>\n",
       "      <td>   2</td>\n",
       "      <td> 0</td>\n",
       "      <td> 0</td>\n",
       "      <td>   3</td>\n",
       "      <td>  2</td>\n",
       "      <td>  1</td>\n",
       "      <td>  17</td>\n",
       "    </tr>\n",
       "    <tr>\n",
       "      <th>DRUNKENNESS</th>\n",
       "      <td>  0</td>\n",
       "      <td>  0</td>\n",
       "      <td>   4</td>\n",
       "      <td>  0</td>\n",
       "      <td>  0</td>\n",
       "      <td>   1</td>\n",
       "      <td> 0</td>\n",
       "      <td> 0</td>\n",
       "      <td>   0</td>\n",
       "      <td>  0</td>\n",
       "      <td>  0</td>\n",
       "      <td>   5</td>\n",
       "    </tr>\n",
       "    <tr>\n",
       "      <th>FRAUD</th>\n",
       "      <td>  0</td>\n",
       "      <td>  1</td>\n",
       "      <td>   8</td>\n",
       "      <td>  0</td>\n",
       "      <td>  2</td>\n",
       "      <td>   1</td>\n",
       "      <td> 1</td>\n",
       "      <td> 0</td>\n",
       "      <td>   6</td>\n",
       "      <td>  1</td>\n",
       "      <td>  1</td>\n",
       "      <td>  21</td>\n",
       "    </tr>\n",
       "    <tr>\n",
       "      <th>KIDNAPPING</th>\n",
       "      <td>  0</td>\n",
       "      <td>  0</td>\n",
       "      <td>   4</td>\n",
       "      <td>  0</td>\n",
       "      <td>  1</td>\n",
       "      <td>   0</td>\n",
       "      <td> 0</td>\n",
       "      <td> 0</td>\n",
       "      <td>   1</td>\n",
       "      <td>  0</td>\n",
       "      <td>  0</td>\n",
       "      <td>   6</td>\n",
       "    </tr>\n",
       "    <tr>\n",
       "      <th>LARCENY/THEFT</th>\n",
       "      <td>  2</td>\n",
       "      <td> 12</td>\n",
       "      <td> 143</td>\n",
       "      <td>  4</td>\n",
       "      <td>  6</td>\n",
       "      <td>  39</td>\n",
       "      <td> 4</td>\n",
       "      <td> 1</td>\n",
       "      <td>  34</td>\n",
       "      <td> 22</td>\n",
       "      <td> 13</td>\n",
       "      <td> 280</td>\n",
       "    </tr>\n",
       "    <tr>\n",
       "      <th>LIQUOR LAWS</th>\n",
       "      <td>  0</td>\n",
       "      <td>  0</td>\n",
       "      <td>   1</td>\n",
       "      <td>  0</td>\n",
       "      <td>  0</td>\n",
       "      <td>   1</td>\n",
       "      <td> 0</td>\n",
       "      <td> 0</td>\n",
       "      <td>   0</td>\n",
       "      <td>  0</td>\n",
       "      <td>  0</td>\n",
       "      <td>   2</td>\n",
       "    </tr>\n",
       "    <tr>\n",
       "      <th>MISSING PERSON</th>\n",
       "      <td>  0</td>\n",
       "      <td>  0</td>\n",
       "      <td>   6</td>\n",
       "      <td>  0</td>\n",
       "      <td>  0</td>\n",
       "      <td>   2</td>\n",
       "      <td> 0</td>\n",
       "      <td> 0</td>\n",
       "      <td>   3</td>\n",
       "      <td>  6</td>\n",
       "      <td>  4</td>\n",
       "      <td>  21</td>\n",
       "    </tr>\n",
       "    <tr>\n",
       "      <th>NON-CRIMINAL</th>\n",
       "      <td>  0</td>\n",
       "      <td>  7</td>\n",
       "      <td>  55</td>\n",
       "      <td>  5</td>\n",
       "      <td>  7</td>\n",
       "      <td>  22</td>\n",
       "      <td> 1</td>\n",
       "      <td> 0</td>\n",
       "      <td>  17</td>\n",
       "      <td>  9</td>\n",
       "      <td>  7</td>\n",
       "      <td> 130</td>\n",
       "    </tr>\n",
       "    <tr>\n",
       "      <th>OTHER OFFENSES</th>\n",
       "      <td>  2</td>\n",
       "      <td>  4</td>\n",
       "      <td>  64</td>\n",
       "      <td>  1</td>\n",
       "      <td>  2</td>\n",
       "      <td>   7</td>\n",
       "      <td> 0</td>\n",
       "      <td> 0</td>\n",
       "      <td>  12</td>\n",
       "      <td>  9</td>\n",
       "      <td>  4</td>\n",
       "      <td> 105</td>\n",
       "    </tr>\n",
       "    <tr>\n",
       "      <th>ROBBERY</th>\n",
       "      <td>  1</td>\n",
       "      <td>  1</td>\n",
       "      <td>  14</td>\n",
       "      <td>  0</td>\n",
       "      <td>  3</td>\n",
       "      <td>   1</td>\n",
       "      <td> 0</td>\n",
       "      <td> 0</td>\n",
       "      <td>   0</td>\n",
       "      <td>  2</td>\n",
       "      <td>  1</td>\n",
       "      <td>  23</td>\n",
       "    </tr>\n",
       "    <tr>\n",
       "      <th>SECONDARY CODES</th>\n",
       "      <td>  1</td>\n",
       "      <td>  0</td>\n",
       "      <td>   6</td>\n",
       "      <td>  0</td>\n",
       "      <td>  0</td>\n",
       "      <td>   1</td>\n",
       "      <td> 0</td>\n",
       "      <td> 0</td>\n",
       "      <td>   1</td>\n",
       "      <td>  0</td>\n",
       "      <td>  1</td>\n",
       "      <td>  10</td>\n",
       "    </tr>\n",
       "    <tr>\n",
       "      <th>SEX OFFENSES FORCIBLE</th>\n",
       "      <td>  0</td>\n",
       "      <td>  0</td>\n",
       "      <td>   6</td>\n",
       "      <td>  0</td>\n",
       "      <td>  1</td>\n",
       "      <td>   3</td>\n",
       "      <td> 0</td>\n",
       "      <td> 0</td>\n",
       "      <td>   2</td>\n",
       "      <td>  0</td>\n",
       "      <td>  2</td>\n",
       "      <td>  14</td>\n",
       "    </tr>\n",
       "    <tr>\n",
       "      <th>STOLEN PROPERTY</th>\n",
       "      <td>  0</td>\n",
       "      <td>  0</td>\n",
       "      <td>   2</td>\n",
       "      <td>  0</td>\n",
       "      <td>  0</td>\n",
       "      <td>   0</td>\n",
       "      <td> 0</td>\n",
       "      <td> 0</td>\n",
       "      <td>   2</td>\n",
       "      <td>  1</td>\n",
       "      <td>  0</td>\n",
       "      <td>   5</td>\n",
       "    </tr>\n",
       "    <tr>\n",
       "      <th>SUSPICIOUS OCC</th>\n",
       "      <td>  1</td>\n",
       "      <td>  1</td>\n",
       "      <td>  16</td>\n",
       "      <td>  0</td>\n",
       "      <td>  1</td>\n",
       "      <td>   6</td>\n",
       "      <td> 0</td>\n",
       "      <td> 0</td>\n",
       "      <td>   5</td>\n",
       "      <td>  1</td>\n",
       "      <td>  3</td>\n",
       "      <td>  34</td>\n",
       "    </tr>\n",
       "    <tr>\n",
       "      <th>TRESPASS</th>\n",
       "      <td>  0</td>\n",
       "      <td>  0</td>\n",
       "      <td>   3</td>\n",
       "      <td>  0</td>\n",
       "      <td>  3</td>\n",
       "      <td>   2</td>\n",
       "      <td> 0</td>\n",
       "      <td> 0</td>\n",
       "      <td>   1</td>\n",
       "      <td>  1</td>\n",
       "      <td>  0</td>\n",
       "      <td>  10</td>\n",
       "    </tr>\n",
       "    <tr>\n",
       "      <th>VANDALISM</th>\n",
       "      <td>  1</td>\n",
       "      <td>  1</td>\n",
       "      <td>  28</td>\n",
       "      <td>  1</td>\n",
       "      <td>  3</td>\n",
       "      <td>   9</td>\n",
       "      <td> 0</td>\n",
       "      <td> 0</td>\n",
       "      <td>   6</td>\n",
       "      <td>  9</td>\n",
       "      <td>  1</td>\n",
       "      <td>  59</td>\n",
       "    </tr>\n",
       "    <tr>\n",
       "      <th>VEHICLE THEFT</th>\n",
       "      <td>  2</td>\n",
       "      <td>  6</td>\n",
       "      <td>  35</td>\n",
       "      <td>  1</td>\n",
       "      <td>  0</td>\n",
       "      <td>  20</td>\n",
       "      <td> 0</td>\n",
       "      <td> 0</td>\n",
       "      <td>   4</td>\n",
       "      <td> 11</td>\n",
       "      <td>  1</td>\n",
       "      <td>  80</td>\n",
       "    </tr>\n",
       "    <tr>\n",
       "      <th>WARRANTS</th>\n",
       "      <td>  1</td>\n",
       "      <td>  1</td>\n",
       "      <td>  21</td>\n",
       "      <td>  1</td>\n",
       "      <td>  0</td>\n",
       "      <td>   2</td>\n",
       "      <td> 0</td>\n",
       "      <td> 0</td>\n",
       "      <td>   5</td>\n",
       "      <td>  1</td>\n",
       "      <td>  1</td>\n",
       "      <td>  33</td>\n",
       "    </tr>\n",
       "    <tr>\n",
       "      <th>WEAPON LAWS</th>\n",
       "      <td>  0</td>\n",
       "      <td>  0</td>\n",
       "      <td>   9</td>\n",
       "      <td>  0</td>\n",
       "      <td>  1</td>\n",
       "      <td>   2</td>\n",
       "      <td> 0</td>\n",
       "      <td> 0</td>\n",
       "      <td>   0</td>\n",
       "      <td>  0</td>\n",
       "      <td>  1</td>\n",
       "      <td>  13</td>\n",
       "    </tr>\n",
       "    <tr>\n",
       "      <th>All</th>\n",
       "      <td> 16</td>\n",
       "      <td> 39</td>\n",
       "      <td> 507</td>\n",
       "      <td> 15</td>\n",
       "      <td> 37</td>\n",
       "      <td> 140</td>\n",
       "      <td> 7</td>\n",
       "      <td> 1</td>\n",
       "      <td> 107</td>\n",
       "      <td> 85</td>\n",
       "      <td> 45</td>\n",
       "      <td> 999</td>\n",
       "    </tr>\n",
       "  </tbody>\n",
       "</table>\n",
       "</div>"
      ],
      "text/plain": [
       "Predicted                    ASSAULT  BURGLARY  LARCENY/THEFT  MISSING PERSON  \\\n",
       "True                                                                            \n",
       "ARSON                              0         1              1               0   \n",
       "ASSAULT                            0         2             56               1   \n",
       "BRIBERY                            0         0              0               0   \n",
       "BURGLARY                           2         1             17               0   \n",
       "DISORDERLY CONDUCT                 0         0              1               0   \n",
       "DRIVING UNDER THE INFLUENCE        0         0              2               1   \n",
       "DRUG/NARCOTIC                      3         1              5               0   \n",
       "DRUNKENNESS                        0         0              4               0   \n",
       "FRAUD                              0         1              8               0   \n",
       "KIDNAPPING                         0         0              4               0   \n",
       "LARCENY/THEFT                      2        12            143               4   \n",
       "LIQUOR LAWS                        0         0              1               0   \n",
       "MISSING PERSON                     0         0              6               0   \n",
       "NON-CRIMINAL                       0         7             55               5   \n",
       "OTHER OFFENSES                     2         4             64               1   \n",
       "ROBBERY                            1         1             14               0   \n",
       "SECONDARY CODES                    1         0              6               0   \n",
       "SEX OFFENSES FORCIBLE              0         0              6               0   \n",
       "STOLEN PROPERTY                    0         0              2               0   \n",
       "SUSPICIOUS OCC                     1         1             16               0   \n",
       "TRESPASS                           0         0              3               0   \n",
       "VANDALISM                          1         1             28               1   \n",
       "VEHICLE THEFT                      2         6             35               1   \n",
       "WARRANTS                           1         1             21               1   \n",
       "WEAPON LAWS                        0         0              9               0   \n",
       "All                               16        39            507              15   \n",
       "\n",
       "Predicted                    NON-CRIMINAL  OTHER OFFENSES  RECOVERED VEHICLE  \\\n",
       "True                                                                           \n",
       "ARSON                                   0               0                  0   \n",
       "ASSAULT                                 3              12                  0   \n",
       "BRIBERY                                 0               0                  0   \n",
       "BURGLARY                                4               6                  1   \n",
       "DISORDERLY CONDUCT                      0               1                  0   \n",
       "DRIVING UNDER THE INFLUENCE             0               0                  0   \n",
       "DRUG/NARCOTIC                           0               2                  0   \n",
       "DRUNKENNESS                             0               1                  0   \n",
       "FRAUD                                   2               1                  1   \n",
       "KIDNAPPING                              1               0                  0   \n",
       "LARCENY/THEFT                           6              39                  4   \n",
       "LIQUOR LAWS                             0               1                  0   \n",
       "MISSING PERSON                          0               2                  0   \n",
       "NON-CRIMINAL                            7              22                  1   \n",
       "OTHER OFFENSES                          2               7                  0   \n",
       "ROBBERY                                 3               1                  0   \n",
       "SECONDARY CODES                         0               1                  0   \n",
       "SEX OFFENSES FORCIBLE                   1               3                  0   \n",
       "STOLEN PROPERTY                         0               0                  0   \n",
       "SUSPICIOUS OCC                          1               6                  0   \n",
       "TRESPASS                                3               2                  0   \n",
       "VANDALISM                               3               9                  0   \n",
       "VEHICLE THEFT                           0              20                  0   \n",
       "WARRANTS                                0               2                  0   \n",
       "WEAPON LAWS                             1               2                  0   \n",
       "All                                    37             140                  7   \n",
       "\n",
       "Predicted                    SECONDARY CODES  SUSPICIOUS OCC  VANDALISM  \\\n",
       "True                                                                      \n",
       "ARSON                                      0               0          2   \n",
       "ASSAULT                                    0               3          1   \n",
       "BRIBERY                                    0               1          0   \n",
       "BURGLARY                                   0               0          6   \n",
       "DISORDERLY CONDUCT                         0               0          0   \n",
       "DRIVING UNDER THE INFLUENCE                0               1          1   \n",
       "DRUG/NARCOTIC                              0               3          2   \n",
       "DRUNKENNESS                                0               0          0   \n",
       "FRAUD                                      0               6          1   \n",
       "KIDNAPPING                                 0               1          0   \n",
       "LARCENY/THEFT                              1              34         22   \n",
       "LIQUOR LAWS                                0               0          0   \n",
       "MISSING PERSON                             0               3          6   \n",
       "NON-CRIMINAL                               0              17          9   \n",
       "OTHER OFFENSES                             0              12          9   \n",
       "ROBBERY                                    0               0          2   \n",
       "SECONDARY CODES                            0               1          0   \n",
       "SEX OFFENSES FORCIBLE                      0               2          0   \n",
       "STOLEN PROPERTY                            0               2          1   \n",
       "SUSPICIOUS OCC                             0               5          1   \n",
       "TRESPASS                                   0               1          1   \n",
       "VANDALISM                                  0               6          9   \n",
       "VEHICLE THEFT                              0               4         11   \n",
       "WARRANTS                                   0               5          1   \n",
       "WEAPON LAWS                                0               0          0   \n",
       "All                                        1             107         85   \n",
       "\n",
       "Predicted                    VEHICLE THEFT  All  \n",
       "True                                             \n",
       "ARSON                                    0    4  \n",
       "ASSAULT                                  1   79  \n",
       "BRIBERY                                  0    1  \n",
       "BURGLARY                                 2   39  \n",
       "DISORDERLY CONDUCT                       0    2  \n",
       "DRIVING UNDER THE INFLUENCE              1    6  \n",
       "DRUG/NARCOTIC                            1   17  \n",
       "DRUNKENNESS                              0    5  \n",
       "FRAUD                                    1   21  \n",
       "KIDNAPPING                               0    6  \n",
       "LARCENY/THEFT                           13  280  \n",
       "LIQUOR LAWS                              0    2  \n",
       "MISSING PERSON                           4   21  \n",
       "NON-CRIMINAL                             7  130  \n",
       "OTHER OFFENSES                           4  105  \n",
       "ROBBERY                                  1   23  \n",
       "SECONDARY CODES                          1   10  \n",
       "SEX OFFENSES FORCIBLE                    2   14  \n",
       "STOLEN PROPERTY                          0    5  \n",
       "SUSPICIOUS OCC                           3   34  \n",
       "TRESPASS                                 0   10  \n",
       "VANDALISM                                1   59  \n",
       "VEHICLE THEFT                            1   80  \n",
       "WARRANTS                                 1   33  \n",
       "WEAPON LAWS                              1   13  \n",
       "All                                     45  999  "
      ]
     },
     "execution_count": 107,
     "metadata": {},
     "output_type": "execute_result"
    }
   ],
   "source": [
    "pd.crosstab(dev_test_labels, actual_predictions, rownames=['True'], colnames=['Predicted'], margins=True)"
   ]
  },
  {
   "cell_type": "markdown",
   "metadata": {},
   "source": [
    "Since samples are not weighted well in terms of categories, the model seems to be having difficulties with categories that have a larger amount of observations - likely because all of the conditions used to predict crimes are seen more frequently for the samples with more observations. To make the model generalize better, it will be necessary to resample the dataset so that possible outcomes are represented more evenly. "
   ]
  },
  {
   "cell_type": "markdown",
   "metadata": {},
   "source": [
    "#### Resample training data"
   ]
  },
  {
   "cell_type": "code",
   "execution_count": 108,
   "metadata": {
    "collapsed": false
   },
   "outputs": [],
   "source": [
    "g = train_raw.groupby('Category')\n",
    "class_weights = np.mean(g['Category'].agg(len))/g['Category'].agg(len)\n",
    "class_weights_df = pd.DataFrame({'Category':class_weights.index.values,'Weight':class_weights.values})\n",
    "train_raw['sample_weight'] = pd.merge(train_raw,class_weights_df,on=['Category'])['Weight']"
   ]
  },
  {
   "cell_type": "markdown",
   "metadata": {},
   "source": [
    "##### Add time of day "
   ]
  },
  {
   "cell_type": "code",
   "execution_count": 109,
   "metadata": {
    "collapsed": false
   },
   "outputs": [],
   "source": [
    "def segment_time1(ts):\n",
    "    ''' Segment time of day '''\n",
    "    if ts.hour<=4: return 1\n",
    "    elif ts.hour<=8: return 2\n",
    "    elif ts.hour<=12: return 3\n",
    "    elif ts.hour<=16: return 4\n",
    "    elif ts.hour<=20: return 5\n",
    "    elif ts.hour<=24: return 6\n",
    "def segment_time2(ts):\n",
    "    ''' Return only hour '''\n",
    "    return ts.hour\n",
    "def dayofmonth(ts):\n",
    "    ''' Return day of month '''\n",
    "    return ts.day\n",
    "def yearofcrime(ts):\n",
    "    ''' Return the year '''\n",
    "    return ts.year\n",
    "\n",
    "segment_time1 = np.vectorize(segment_time1,otypes=[np.int64])\n",
    "segment_time2 = np.vectorize(segment_time2,otypes=[np.int64])\n",
    "dayofmonth = np.vectorize(dayofmonth,otypes=[np.int64])\n",
    "yearofcrime = np.vectorize(yearofcrime,otypes=[np.int64])\n",
    "\n",
    "train_raw['Dates'] = pd.to_datetime(train_raw['Dates'])\n",
    "test_raw['Dates'] = pd.to_datetime(test_raw['Dates'])\n",
    "\n",
    "train_raw['DaySegment'] = train_raw['Dates'].apply(segment_time1)\n",
    "test_raw['DaySegment'] = test_raw['Dates'].apply(segment_time1)\n",
    "\n",
    "train_raw['TimeOfDay'] = train_raw['Dates'].apply(segment_time2)\n",
    "test_raw['TimeOfDay'] = test_raw['Dates'].apply(segment_time2)\n",
    "\n",
    "train_raw['DayOfMonth'] = train_raw['Dates'].apply(dayofmonth)\n",
    "test_raw['DayOfMonth'] = test_raw['Dates'].apply(dayofmonth)\n",
    "\n",
    "train_raw['Year'] = train_raw['Dates'].apply(yearofcrime)\n",
    "test_raw['Year'] = test_raw['Dates'].apply(yearofcrime)"
   ]
  },
  {
   "cell_type": "markdown",
   "metadata": {},
   "source": [
    "Creating a function here that can be reused across other tests when adding / removing features"
   ]
  },
  {
   "cell_type": "code",
   "execution_count": 110,
   "metadata": {
    "collapsed": false
   },
   "outputs": [],
   "source": [
    "# Run test on dev data\n",
    "def analyze_impact(raw_data, old_fields, new_fields,\\\n",
    "                   label_field, s=10000, n=1, trees=10):\n",
    "    ''' Iterate over many RF tries to \n",
    "        see how change impacts results \n",
    "    '''\n",
    "    raw_data = raw_data.iloc[\\\n",
    "                    np.random.permutation(len(raw_data))]\n",
    "    dev_data_old\\\n",
    "    ,dev_data_new\\\n",
    "    ,dev_labels = raw_data[old_fields][:s]\\\n",
    "                    ,raw_data[new_fields][:s]\\\n",
    "                    ,raw_data[label_field][:s]\n",
    "    test_data_old\\\n",
    "    ,test_data_new\\\n",
    "    ,test_labels = raw_data[old_fields][s+1:s+5000]\\\n",
    "                    ,raw_data[new_fields][s+1:s+5000]\\\n",
    "                    ,raw_data[label_field][s+1:s+5000]\n",
    "    \n",
    "    old_accuracies = []\n",
    "    new_accuracies = []\n",
    "    def measure(d, t, n, out):\n",
    "        for i in range(n):\n",
    "            # Initialize empty model \n",
    "            rf = RandomForestClassifier(n_jobs=-1, n_estimators=trees) \n",
    "\n",
    "            # Recode \n",
    "            d = recode(d)\n",
    "            t = recode(t)\n",
    "            d_le = recode_labels(np.concatenate((\\\n",
    "                                                dev_labels\\\n",
    "                                                ,test_labels)\\\n",
    "                                                   ,axis=1))\n",
    "            d_l = d_le.transform(dev_labels)\n",
    "            t_l = d_le.transform(test_labels)\n",
    "\n",
    "            # Fit model \n",
    "            rf.fit(d, d_l)\n",
    "\n",
    "            # Predict \n",
    "            predictions = rf.predict(t)\n",
    "\n",
    "            # Measure accuracy\n",
    "            accuracy = np.sum((predictions == \\\n",
    "                               t_l)*1.0)/len(t_l)\n",
    "\n",
    "            # add result \n",
    "            out.append(accuracy)\n",
    "    \n",
    "    measure(dev_data_old.copy(), test_data_old.copy(), n, old_accuracies)\n",
    "    measure(dev_data_new.copy(), test_data_new.copy(), n, new_accuracies)\n",
    "    m_old = np.mean(old_accuracies)\n",
    "    s_old = np.std(old_accuracies)*1.0/np.sqrt(n)\n",
    "    m_new = np.mean(new_accuracies)\n",
    "    s_new = np.std(new_accuracies)*1.0/np.sqrt(n)\n",
    "    print 'Old Accuracy: {0}% +/- {1}%\\nNew Accuracy: {2}% +/- {3}%'\\\n",
    "        .format(round(m_old*100,2)\n",
    "                ,round(1.96*s_old*100,2)\n",
    "                ,round(m_new*100,2)\n",
    "                ,round(1.96*s_new*100,2)\n",
    "        )"
   ]
  },
  {
   "cell_type": "code",
   "execution_count": 111,
   "metadata": {
    "collapsed": false
   },
   "outputs": [
    {
     "name": "stdout",
     "output_type": "stream",
     "text": [
      "Old Accuracy: 22.42% +/- 0.0%\n",
      "New Accuracy: 23.06% +/- 0.0%\n"
     ]
    }
   ],
   "source": [
    "import warnings\n",
    "warnings.filterwarnings('ignore')\n",
    "\n",
    "s = 100000 \n",
    "old_fields = ['PdDistrict'\\\n",
    "              ]\n",
    "new_fields = ['PdDistrict'\\\n",
    "              ,'TimeOfDay'\\\n",
    "             ]\n",
    "nt = train_raw.copy()\n",
    "analyze_impact(nt, old_fields, new_fields, \\\n",
    "               'Category', s, 1, 300)"
   ]
  },
  {
   "cell_type": "markdown",
   "metadata": {},
   "source": [
    "Test Notes:\n",
    "* Adding time of day increased accuracy by ~2 percentage points, until I implemented random shuffling prior to testing - then the impact of adding time of day was negligable or only slightly positive in most trials. \n",
    "* Time of Day as an hour originally performed better than 4-hour blocks; however, after implementing random shuffling the day segment field performed better across multiple tries.\n",
    "* Adding day of month reduced model performance due to overfitting. \n",
    "* Adding year reduced model performance due to overfitting. \n",
    "* Adding Address significantly reduces model accuracy due to overfitting\n",
    "* Day of week significantly reduces model accuracy due to overfitting\n",
    "* Lat/Lon significantly reduces model accuracy due to overfitting\n",
    "* The actual expected accuracy is still very bad (<30%)"
   ]
  },
  {
   "cell_type": "markdown",
   "metadata": {},
   "source": [
    "Other notes:\n",
    "* This is a funny dataset because the only raw feature that works for prediction is Police District \n",
    "* It's a good example of how a model can easily be overfit with useless features\n",
    "* The features provided are probably not enough to accurately predict category of crime; however, lat/lon is probably quite useful with some feature engineering so that it will generalize better"
   ]
  },
  {
   "cell_type": "markdown",
   "metadata": {},
   "source": [
    "##### Add area of crime in place of lat/lon"
   ]
  },
  {
   "cell_type": "markdown",
   "metadata": {},
   "source": [
    "Looking to test out a couple options for this feature. Currently, by using the exact location of the crime, the model does not generalize very well. A couple options are available: 1) utilize publicly available datasets on city neighborhoods to classify each event into a more generalized city segment, perhaps based on income levels, 2) use a clustering algorithm like K-means to segment the training data into clusters where there are crime \"hotspots\" and add one of these as a feature (replacing lat/lon and potentially address - will test the removal of features separately). \n",
    "\n",
    "I will first attempt #2 while looking for a good option for #1."
   ]
  },
  {
   "cell_type": "code",
   "execution_count": null,
   "metadata": {
    "collapsed": true
   },
   "outputs": [],
   "source": []
  },
  {
   "cell_type": "markdown",
   "metadata": {},
   "source": [
    "##### Get data from other sources\n",
    "\n",
    "SF OpenData has a ton of supplemental data sources that will be great to try out for this effort.  "
   ]
  },
  {
   "cell_type": "code",
   "execution_count": 112,
   "metadata": {
    "collapsed": false
   },
   "outputs": [],
   "source": [
    "# http://spatialreference.org/ref/epsg/2227/\n",
    "p = Proj('+proj=lcc +init=EPSG:2227 +datum=NAD83 +units=us-ft +no_defs',preserve_units=True)\n",
    "convert_vals = np.vectorize(lambda x,y: p(x,y))\n",
    "convert_vals_inv = np.vectorize(lambda x,y: p(x,y,inverse=True))"
   ]
  },
  {
   "cell_type": "code",
   "execution_count": 113,
   "metadata": {
    "collapsed": true
   },
   "outputs": [],
   "source": [
    "shpfilename_elect = 'Data/SanFranciscoElectricityUse/SanFranciscoElectricityUse.shp'\n",
    "shpfilename_school = 'Data/schools_public_pt/schools_public_pt.shp'\n",
    "shpfilename_zoning = 'Data/Zoning/Zoning_Districts.shp'"
   ]
  },
  {
   "cell_type": "markdown",
   "metadata": {},
   "source": [
    "##### Process shapefiles"
   ]
  },
  {
   "cell_type": "code",
   "execution_count": 114,
   "metadata": {
    "collapsed": false
   },
   "outputs": [],
   "source": [
    "# Convert lat/lon to coordinates that match shp\n",
    "train_raw['New_X'], train_raw['New_Y'] = \\\n",
    "    convert_vals(train_raw['X'],train_raw['Y'])"
   ]
  },
  {
   "cell_type": "code",
   "execution_count": 115,
   "metadata": {
    "collapsed": false
   },
   "outputs": [],
   "source": [
    "def make_points(x):\n",
    "    ''' Create list of Points objects\n",
    "    '''\n",
    "    out = []\n",
    "    n = x.shape[0]\n",
    "    for i in range(n):\n",
    "        out.append(Point((x['New_X'][i],x['New_Y'][i])))\n",
    "    return out\n",
    "points = make_points(train_raw[['New_X','New_Y']])"
   ]
  },
  {
   "cell_type": "code",
   "execution_count": 116,
   "metadata": {
    "collapsed": false
   },
   "outputs": [],
   "source": [
    "shp = fiona.open(shpfilename_school)\n",
    "n = len(shp)\n",
    "SCHOOL_TYP,\\\n",
    "DEPT,\\\n",
    "FACILITY_N,\\\n",
    "DEPTNAME,\\\n",
    "FACILITY_I = \\\n",
    "    np.empty(n,dtype='|S25'),\\\n",
    "    np.empty(n,dtype='|S25'),\\\n",
    "    np.empty(n,dtype='|S25'),\\\n",
    "    np.empty(n,dtype='|S25'),\\\n",
    "    np.empty(n,dtype='|S25')\n",
    "for i,s in enumerate(shp):\n",
    "    SCHOOL_TYP[i] = s['properties']['SCHOOL_TYP']\n",
    "    DEPT [i] = s['properties']['DEPT']\n",
    "    FACILITY_N [i] = s['properties']['FACILITY_N']\n",
    "    DEPTNAME [i] = s['properties']['DEPTNAME']\n",
    "    FACILITY_I [i] = s['properties']['FACILITY_I']\n",
    "shp.close()\n",
    "\n",
    "props_df = pd.DataFrame({\n",
    "        'Id':[i+1 for i in range(n)],\n",
    "        'SCHOOL_TYP':SCHOOL_TYP\n",
    "    })"
   ]
  },
  {
   "cell_type": "code",
   "execution_count": 117,
   "metadata": {
    "collapsed": false
   },
   "outputs": [
    {
     "data": {
      "text/plain": [
       "{'Charter School',\n",
       " 'County School',\n",
       " 'Early Education',\n",
       " 'Elementary',\n",
       " 'High School',\n",
       " 'Middle School'}"
      ]
     },
     "execution_count": 117,
     "metadata": {},
     "output_type": "execute_result"
    }
   ],
   "source": [
    "set(props_df['SCHOOL_TYP'])"
   ]
  },
  {
   "cell_type": "code",
   "execution_count": 118,
   "metadata": {
    "collapsed": false
   },
   "outputs": [],
   "source": [
    "hs = props_df[props_df['SCHOOL_TYP']=='High School']['Id']\n",
    "cs = props_df[props_df['SCHOOL_TYP']=='County School']['Id']\n",
    "chs = props_df[props_df['SCHOOL_TYP']=='Charter School']['Id']\n",
    "ms = props_df[props_df['SCHOOL_TYP']=='Middle School']['Id']"
   ]
  },
  {
   "cell_type": "code",
   "execution_count": 119,
   "metadata": {
    "collapsed": true
   },
   "outputs": [],
   "source": [
    "def coord_search_schools():\n",
    "    ''' Find nearest point and measure distance\n",
    "        for every datapoint \n",
    "    '''\n",
    "    shp = pysal.open(shpfilename_school,'r')\n",
    "    pl_hs = BruteForcePointLocator([p for p in shp if p.id in hs])\n",
    "    pl_cs = BruteForcePointLocator([p for p in shp if p.id in cs])\n",
    "    pl_chs = BruteForcePointLocator([p for p in shp if p.id in chs])\n",
    "    pl_ms = BruteForcePointLocator([p for p in shp if p.id in ms])\n",
    "    shp.close()\n",
    "\n",
    "    return_point_hs = lambda x: pl_hs.nearest(x)\n",
    "    return_point_cs = lambda x: pl_cs.nearest(x)\n",
    "    return_point_chs = lambda x: pl_chs.nearest(x)\n",
    "    return_point_ms = lambda x: pl_ms.nearest(x)\n",
    "    \n",
    "    # point_ids = np.zeros(len(points),dtype=np.int8)\n",
    "    point_distances_hs = np.zeros(len(points),dtype=np.float64)\n",
    "    point_distances_cs = np.zeros(len(points),dtype=np.float64)\n",
    "    point_distances_chs = np.zeros(len(points),dtype=np.float64)\n",
    "    point_distances_ms = np.zeros(len(points),dtype=np.float64)\n",
    "    \n",
    "    def run_iters():\n",
    "        for i,p in enumerate(points):\n",
    "            if i%100000==0: print 'running {0} row'.format(i)\n",
    "            pt_hs = return_point_hs(p)\n",
    "            pt_cs = return_point_cs(p)\n",
    "            pt_chs = return_point_chs(p)\n",
    "            pt_ms = return_point_ms(p)\n",
    "            \n",
    "            point_distances_hs[i] = arcdist(p,pt_hs)\n",
    "            point_distances_cs[i] = arcdist(p,pt_cs)\n",
    "            point_distances_chs[i] = arcdist(p,pt_chs)\n",
    "            point_distances_ms[i] = arcdist(p,pt_ms)\n",
    "\n",
    "    run_iters()\n",
    "    \n",
    "    return point_distances_hs,\\\n",
    "            point_distances_cs,\\\n",
    "            point_distances_chs,\\\n",
    "            point_distances_ms"
   ]
  },
  {
   "cell_type": "code",
   "execution_count": 120,
   "metadata": {
    "collapsed": false
   },
   "outputs": [
    {
     "name": "stdout",
     "output_type": "stream",
     "text": [
      "running 0 row\n",
      "running 100000 row\n",
      "running 200000 row\n",
      "running 300000 row\n",
      "running 400000 row\n",
      "running 500000 row\n",
      "running 600000 row\n",
      "running 700000 row\n",
      "running 800000 row\n"
     ]
    }
   ],
   "source": [
    "# This runs relatively quickly \n",
    "point_distances_hs,\\\n",
    "            point_distances_cs,\\\n",
    "            point_distances_chs,\\\n",
    "            point_distances_ms = coord_search_schools()"
   ]
  },
  {
   "cell_type": "code",
   "execution_count": 121,
   "metadata": {
    "collapsed": false
   },
   "outputs": [],
   "source": [
    "def run_iters_elect(plocator,return_poly_id):\n",
    "    poly_ids = np.zeros(len(points),dtype=np.int8)\n",
    "    for i,p in enumerate(points):\n",
    "        if i%100000==0: print 'running {0} row'.format(i)\n",
    "        poly_ids[i] = return_poly_id(plocator,p)\n",
    "    # Save data because this step takes >5hrs to finish\n",
    "    poly_ids_df = pd.DataFrame({'elect_poly_id':poly_ids})\n",
    "    poly_ids_df.to_csv('Data/poly_ids.csv',index=False)\n",
    "\n",
    "def run_iters_zoning(plocator,return_poly_id):\n",
    "    poly_ids = np.zeros(len(points),dtype=np.int8)\n",
    "    for i,p in enumerate(points):\n",
    "        if i%1==100000: print 'running {0} row'.format(i)\n",
    "        poly_ids[i] = return_poly_id(plocator,p)\n",
    "    # Save data because this step takes >5hrs to finish\n",
    "    poly_ids_df = pd.DataFrame({'zoning_id':poly_ids})\n",
    "    poly_ids_df.to_csv('Data/zoning_ids.csv',index=False)\n",
    "\n",
    "def return_poly_id(pl,x):\n",
    "        ''' Find the polygon that \n",
    "            contains each point\n",
    "        '''\n",
    "        try:\n",
    "            return pl.contains_point(x)[0].id\n",
    "        except IndexError:\n",
    "            return -1\n",
    "\n",
    "def polygon_search(shpfilename,run_iters,\\\n",
    "                   return_poly_id=return_poly_id):\n",
    "    ''' Iterate through shapefile polygons\n",
    "        and find id of polgy for each datapoint\n",
    "    '''\n",
    "    shp = pysal.open(shpfilename,'r')\n",
    "    pl = PolygonLocator([p for p in shp])\n",
    "    shp.close()\n",
    "    run_iters(pl,return_poly_id)\n",
    "\n",
    "# polygon_search(shpfilename_elect,run_iters_elect)\n",
    "# polygon_search(shpfilename_zoning,run_iters_zoning)"
   ]
  },
  {
   "cell_type": "code",
   "execution_count": 122,
   "metadata": {
    "collapsed": false
   },
   "outputs": [],
   "source": [
    "# only run this after ids are compiled\n",
    "poly_ids_df_elect = pd.read_csv('Data/poly_ids.csv')"
   ]
  },
  {
   "cell_type": "code",
   "execution_count": 123,
   "metadata": {
    "collapsed": false
   },
   "outputs": [],
   "source": [
    "def run_iters(points, point_locator, centroids, \\\n",
    "              log_at=100000):\n",
    "    ''' Iterate through points to find \n",
    "        the nearest centroid from shapefile\n",
    "    '''\n",
    "    point_fun = lambda x,pl: pl.nearest(x)\n",
    "    id_fun = lambda p, centroids: [i for i,c in enumerate(centroids)\\\n",
    "                                  if c==p][0]\n",
    "    nearest_ids = np.zeros(len(points),dtype=np.int64)\n",
    "    for i,p in enumerate(points):\n",
    "        if i%log_at==0: print 'running {0} row'.format(i)\n",
    "        pt = point_fun(p,point_locator)\n",
    "        pt_id = id_fun(pt, centroids)\n",
    "        nearest_ids[i] = pt_id\n",
    "    return nearest_ids\n",
    "\n",
    "def save_file(array_to_save, colname, filename):\n",
    "    ''' Write column to CSV '''\n",
    "    array_to_save_df = pd.DataFrame({colname:array_to_save})\n",
    "    array_to_save_df.to_csv(filename,index=False)\n",
    "\n",
    "def coord_search(shpfile, points, \\\n",
    "                 run_iters_fun, \\\n",
    "                 locator_fun=BruteForcePointLocator):\n",
    "    ''' Since polygon search is not efficient\n",
    "        do a comparison to each centroid instead\n",
    "    '''\n",
    "    gather_centroids = lambda shp: [p.centroid for p in shp]\n",
    "\n",
    "    # Read file\n",
    "    shp = pysal.open(shpfile,'r')\n",
    "    centroids = gather_centroids(shp)\n",
    "    pl = locator_fun(centroids)\n",
    "    shp.close()\n",
    "    \n",
    "    # Return the nearest points\n",
    "    nearest_ids = run_iters_fun(points,pl,centroids)\n",
    "    \n",
    "    return nearest_ids\n",
    "\n",
    "# zone_ids = coord_search(shpfilename_zoning,points,\\\n",
    "#                        run_iters)\n",
    "# save_file(zone_ids, 'zoning_id', 'Data/zoning_ids.csv')"
   ]
  },
  {
   "cell_type": "code",
   "execution_count": 124,
   "metadata": {
    "collapsed": false
   },
   "outputs": [],
   "source": [
    "# only run this after zone ids are compiled\n",
    "zone_ids = pd.read_csv('Data/zoning_ids.csv')"
   ]
  },
  {
   "cell_type": "code",
   "execution_count": 125,
   "metadata": {
    "collapsed": false
   },
   "outputs": [],
   "source": [
    "shp = fiona.open(shpfilename_zoning)\n",
    "n = len(shp)\n",
    "ZONING_SIM,\\\n",
    "DISTRICTNA = \\\n",
    "    np.empty(n,dtype='|S25'),\\\n",
    "    np.empty(n,dtype='|S25')\n",
    "for i,s in enumerate(shp):\n",
    "    ZONING_SIM[i] = s['properties']['ZONING_SIM']\n",
    "    DISTRICTNA[i] = s['properties']['DISTRICTNA']\n",
    "shp.close()\n",
    "\n",
    "props_df_zoning = pd.DataFrame({\n",
    "        'Id':[i+1 for i in range(n)],\n",
    "        'ZONING_SIM':ZONING_SIM,\n",
    "        'DISTRICTNA':DISTRICTNA\n",
    "    })\n",
    "all_zones = pd.merge(zone_ids,props_df_zoning,'left',\\\n",
    "                    left_on=['zoning_id'], right_on=['Id'])"
   ]
  },
  {
   "cell_type": "code",
   "execution_count": 126,
   "metadata": {
    "collapsed": false
   },
   "outputs": [],
   "source": [
    "shp = fiona.open(shpfilename_elect)\n",
    "n = len(shp)\n",
    "kWh_pC,\\\n",
    "kWh,\\\n",
    "Zip,\\\n",
    "Pop2010_zc = \\\n",
    "    np.empty(n,dtype=np.float64),\\\n",
    "    np.empty(n,dtype=np.float64),\\\n",
    "    np.empty(n,dtype='|S10'),\\\n",
    "    np.empty(n,dtype=np.int64)\n",
    "for i,s in enumerate(shp):\n",
    "    kWh_pC[i] = s['properties']['kWh_pC']\n",
    "    kWh [i] = s['properties']['kWh']\n",
    "    Zip [i] = s['properties']['Zip']\n",
    "    Pop2010_zc [i] = s['properties']['Pop2010_zc']\n",
    "shp.close()\n",
    "\n",
    "props_df_elect = pd.DataFrame({\n",
    "        'Id':[i+1 for i in range(n)],\\\n",
    "        'kWh_pC':kWh_pC,\\\n",
    "        'kWh':kWh,\\\n",
    "        'Zip':Zip,\\\n",
    "        'Pop2010_zc':Pop2010_zc\\\n",
    "    })\n",
    "all_elects = pd.merge(poly_ids_df_elect, props_df_elect, 'left',\\\n",
    "                     left_on=['elect_poly_id'], right_on=['Id'])"
   ]
  },
  {
   "cell_type": "markdown",
   "metadata": {},
   "source": [
    "##### Add new columns"
   ]
  },
  {
   "cell_type": "code",
   "execution_count": 127,
   "metadata": {
    "collapsed": false
   },
   "outputs": [],
   "source": [
    "elect_cols = ['kWh_pC','kWh','Zip','Pop2010_zc']\n",
    "train_raw[elect_cols] = all_elects[elect_cols] "
   ]
  },
  {
   "cell_type": "code",
   "execution_count": 128,
   "metadata": {
    "collapsed": false
   },
   "outputs": [],
   "source": [
    "school_nearby = np.vectorize(lambda x: True if x<=1000 else False)\n",
    "train_raw['HS_DISTANCE'] = point_distances_hs.astype(np.float64)\n",
    "train_raw['CS_DISTANCE'] = point_distances_cs.astype(np.float64)\n",
    "train_raw['CHS_DISTANCE'] = point_distances_chs.astype(np.float64)\n",
    "train_raw['MS_DISTANCE'] = point_distances_ms.astype(np.float64)\n",
    "train_raw['HS_NEARBY'] = school_nearby(train_raw['HS_DISTANCE'])\n",
    "train_raw['CS_NEARBY'] = school_nearby(train_raw['CS_DISTANCE'])\n",
    "train_raw['CHS_NEARBY'] = school_nearby(train_raw['CHS_DISTANCE'])\n",
    "train_raw['MS_NEARBY'] = school_nearby(train_raw['MS_DISTANCE'])"
   ]
  },
  {
   "cell_type": "code",
   "execution_count": 129,
   "metadata": {
    "collapsed": false
   },
   "outputs": [],
   "source": [
    "train_raw['ZONING_SIM'] = all_zones['ZONING_SIM']\n",
    "train_raw['DISTRICT_NAME'] = all_zones['DISTRICTNA']\n",
    "train_raw['ZONE_ID'] = all_zones['Id']"
   ]
  },
  {
   "cell_type": "markdown",
   "metadata": {},
   "source": [
    "##### Analyse features"
   ]
  },
  {
   "cell_type": "code",
   "execution_count": 48,
   "metadata": {
    "collapsed": false
   },
   "outputs": [],
   "source": [
    "from sklearn.feature_selection import SelectKBest \n",
    "new_fields = [\n",
    "    'PdDistrict','DayOfWeek','DaySegment','TimeOfDay','DayOfMonth','Year',\\\n",
    "    'kWh_pC','kWh','Zip','Pop2010_zc',\\\n",
    "    'HS_DISTANCE','CS_DISTANCE','CHS_DISTANCE','MS_DISTANCE',\\\n",
    "    'HS_NEARBY','CS_NEARBY','CHS_NEARBY','MS_NEARBY',\\\n",
    "    'ZONING_SIM','DISTRICT_NAME','ZONE_ID'\n",
    "]\n",
    "cat_fields = [\n",
    "    'PdDistrict','DayOfWeek','DaySegment','TimeOfDay','DayOfMonth','Year',\\\n",
    "    'Zip',\\\n",
    "    'HS_NEARBY','CS_NEARBY','CHS_NEARBY','MS_NEARBY',\\\n",
    "    'ZONING_SIM','DISTRICT_NAME','ZONE_ID'\n",
    "]\n",
    "train_cp = train_raw.copy()\n",
    "train_cp.dropna()\n",
    "dev_data, dev_labels = train_cp[new_fields], train_cp['Category']"
   ]
  },
  {
   "cell_type": "code",
   "execution_count": 1,
   "metadata": {
    "collapsed": false
   },
   "outputs": [
    {
     "ename": "NameError",
     "evalue": "name 'SelectKBest' is not defined",
     "output_type": "error",
     "traceback": [
      "\u001b[0;31m---------------------------------------------------------------------------\u001b[0m",
      "\u001b[0;31mNameError\u001b[0m                                 Traceback (most recent call last)",
      "\u001b[0;32m<ipython-input-1-a07077f3ae7c>\u001b[0m in \u001b[0;36m<module>\u001b[0;34m()\u001b[0m\n\u001b[1;32m      1\u001b[0m \u001b[0;32mfrom\u001b[0m \u001b[0msklearn\u001b[0m\u001b[0;34m.\u001b[0m\u001b[0mfeature_selection\u001b[0m \u001b[0;32mimport\u001b[0m \u001b[0mf_classif\u001b[0m\u001b[0;34m\u001b[0m\u001b[0m\n\u001b[0;32m----> 2\u001b[0;31m \u001b[0mk\u001b[0m \u001b[0;34m=\u001b[0m \u001b[0mSelectKBest\u001b[0m\u001b[0;34m(\u001b[0m\u001b[0mscore_func\u001b[0m\u001b[0;34m=\u001b[0m\u001b[0mf_classif\u001b[0m \u001b[0;34m)\u001b[0m\u001b[0;34m\u001b[0m\u001b[0m\n\u001b[0m\u001b[1;32m      3\u001b[0m \u001b[0mle\u001b[0m \u001b[0;34m=\u001b[0m \u001b[0mMultiColumnLabelEncoder\u001b[0m\u001b[0;34m(\u001b[0m\u001b[0;34m)\u001b[0m\u001b[0;34m\u001b[0m\u001b[0m\n\u001b[1;32m      4\u001b[0m \u001b[0mcf\u001b[0m \u001b[0;34m=\u001b[0m \u001b[0;34m[\u001b[0m\u001b[0mi\u001b[0m \u001b[0;32mfor\u001b[0m \u001b[0mi\u001b[0m\u001b[0;34m,\u001b[0m\u001b[0mx\u001b[0m \u001b[0;32min\u001b[0m \u001b[0menumerate\u001b[0m\u001b[0;34m(\u001b[0m\u001b[0mnew_fields\u001b[0m\u001b[0;34m)\u001b[0m \u001b[0;32mif\u001b[0m \u001b[0mx\u001b[0m \u001b[0;32min\u001b[0m \u001b[0mcat_fields\u001b[0m\u001b[0;34m]\u001b[0m\u001b[0;34m\u001b[0m\u001b[0m\n\u001b[1;32m      5\u001b[0m \u001b[0mohe\u001b[0m \u001b[0;34m=\u001b[0m \u001b[0mOneHotEncoder\u001b[0m\u001b[0;34m(\u001b[0m\u001b[0mcategorical_features\u001b[0m\u001b[0;34m=\u001b[0m\u001b[0mcf\u001b[0m\u001b[0;34m,\u001b[0m\u001b[0msparse\u001b[0m\u001b[0;34m=\u001b[0m\u001b[0mFalse\u001b[0m\u001b[0;34m)\u001b[0m\u001b[0;34m\u001b[0m\u001b[0m\n",
      "\u001b[0;31mNameError\u001b[0m: name 'SelectKBest' is not defined"
     ]
    }
   ],
   "source": [
    "k = SelectKBest(score_func=f_classif )\n",
    "le = MultiColumnLabelEncoder()\n",
    "cf = [i for i,x in enumerate(new_fields) if x in cat_fields]\n",
    "ohe = OneHotEncoder(categorical_features=cf,sparse=False)\n",
    "\n",
    "pl = Pipeline([('le',le), ('ohe',ohe), ('k',k)])\n",
    "pl.fit(dev_data,dev_labels)\n",
    "scores = pl.named_steps['k'].scores_ \n",
    "pvals = pl.named_steps['k'].pvalues_ \n",
    "indices = pl.named_steps['ohe'].feature_indices_  \n",
    "scores = pd.DataFrame({'scores':scores,'pvals':pvals})\n",
    "print indices\n",
    "scores.sort(['scores'],ascending=0)"
   ]
  },
  {
   "cell_type": "markdown",
   "metadata": {},
   "source": [
    "##### Test performance"
   ]
  },
  {
   "cell_type": "code",
   "execution_count": 136,
   "metadata": {
    "collapsed": false
   },
   "outputs": [
    {
     "name": "stdout",
     "output_type": "stream",
     "text": [
      "Accuracy: 22.69%\n"
     ]
    }
   ],
   "source": [
    "new_fields = [\n",
    "    'PdDistrict','DaySegment',\\\n",
    "    'kWh','Zip','Pop2010_zc'\n",
    "]\n",
    "cat_fields = [\n",
    "    'PdDistrict','DaySegment',\\\n",
    "    'Zip'\n",
    "]\n",
    "\n",
    "le = MultiColumnLabelEncoder()\n",
    "imp = Imputer(strategy='most_frequent')\n",
    "cf = [i for i,x in enumerate(new_fields) if x in cat_fields]\n",
    "ohe = OneHotEncoder(categorical_features=cf,sparse=False)\n",
    "rf = RandomForestClassifier(n_jobs=1, n_estimators=100) \n",
    "\n",
    "train_raw = train_raw.iloc[\\\n",
    "                    np.random.permutation(len(train_raw))]\n",
    "dev_train, dev_train_labels = train_raw[new_fields][10001:],\\\n",
    "                        train_raw['Category'][10001:]\n",
    "dev_train_weights = np.array(train_raw['sample_weight'][10001:])\n",
    "dev_test, dev_test_labels = train_raw[new_fields][:10000],\\\n",
    "                        train_raw['Category'][:10000]\n",
    "\n",
    "\n",
    "pl = Pipeline([('le',le), ('imp',imp), ('ohe', ohe), ('rf', rf)])\n",
    "pl.fit(dev_train, dev_train_labels, rf__sample_weight=dev_train_weights)\n",
    "print 'Accuracy: {0}%'.format(round(pl.score(dev_test, dev_test_labels),4)*100)"
   ]
  },
  {
   "cell_type": "markdown",
   "metadata": {
    "collapsed": true
   },
   "source": [
    "#### Part 3 - Error Diagnosis"
   ]
  }
 ],
 "metadata": {
  "kernelspec": {
   "display_name": "Python 2",
   "language": "python",
   "name": "python2"
  },
  "language_info": {
   "codemirror_mode": {
    "name": "ipython",
    "version": 2
   },
   "file_extension": ".py",
   "mimetype": "text/x-python",
   "name": "python",
   "nbconvert_exporter": "python",
   "pygments_lexer": "ipython2",
   "version": "2.7.6"
  }
 },
 "nbformat": 4,
 "nbformat_minor": 0
}
