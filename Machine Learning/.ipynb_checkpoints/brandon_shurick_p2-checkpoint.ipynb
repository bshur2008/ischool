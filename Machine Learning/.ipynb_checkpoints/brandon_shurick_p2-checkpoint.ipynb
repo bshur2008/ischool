{
 "cells": [
  {
   "cell_type": "markdown",
   "metadata": {},
   "source": [
    "# Project 2: Topic Classification"
   ]
  },
  {
   "cell_type": "markdown",
   "metadata": {},
   "source": [
    "In this project, you'll work with text data from newsgroup postings on a variety of topics. You'll train classifiers to distinguish between the topics based on the text of the posts. Whereas with digit classification, the input is relatively dense: a 28x28 matrix of pixels, many of which are non-zero, here we'll represent each document with a \"bag-of-words\" model. As you'll see, this makes the feature representation quite sparse -- only a few words of the total vocabulary are active in any given document. The bag-of-words assumption here is that the label depends only on the words; their order is not important.\n",
    "\n",
    "The SK-learn documentation on feature extraction will prove useful:\n",
    "http://scikit-learn.org/stable/modules/feature_extraction.html\n",
    "\n",
    "Each problem can be addressed succinctly with the included packages -- please don't add any more. Grading will be based on writing clean, commented code, along with a few short answers.\n",
    "\n",
    "As always, you're welcome to work on the project in groups and discuss ideas on the course wall, but please prepare your own write-up and write your own code."
   ]
  },
  {
   "cell_type": "code",
   "execution_count": 1,
   "metadata": {
    "collapsed": false
   },
   "outputs": [],
   "source": [
    "# This tells matplotlib not to try opening a new window for each plot.\n",
    "%matplotlib inline\n",
    "\n",
    "# General libraries.\n",
    "import re\n",
    "import numpy as np\n",
    "import matplotlib.pyplot as plt\n",
    "\n",
    "# SK-learn libraries for learning.\n",
    "from sklearn.pipeline import Pipeline\n",
    "from sklearn.neighbors import KNeighborsClassifier\n",
    "from sklearn.linear_model import LogisticRegression\n",
    "from sklearn.naive_bayes import BernoulliNB\n",
    "from sklearn.naive_bayes import MultinomialNB\n",
    "from sklearn.grid_search import GridSearchCV\n",
    "\n",
    "# SK-learn libraries for evaluation.\n",
    "\n",
    "from sklearn.metrics import confusion_matrix\n",
    "from sklearn import metrics\n",
    "from sklearn.metrics import classification_report\n",
    "\n",
    "# SK-learn library for importing the newsgroup data.\n",
    "from sklearn.datasets import fetch_20newsgroups\n",
    "\n",
    "# SK-learn libraries for feature extraction from text.\n",
    "from sklearn.feature_extraction.text import *"
   ]
  },
  {
   "cell_type": "markdown",
   "metadata": {},
   "source": [
    "Load the data, stripping out metadata so that we learn classifiers that only use textual features. By default, newsgroups data is split into train and test sets. We further split the test so we have a dev set. Note that we specify 4 categories to use for this project. If you remove the categories argument from the fetch function, you'll get all 20 categories."
   ]
  },
  {
   "cell_type": "code",
   "execution_count": 2,
   "metadata": {
    "collapsed": false
   },
   "outputs": [
    {
     "name": "stdout",
     "output_type": "stream",
     "text": [
      "training label shape: (2034,)\n",
      "test label shape: (677,)\n",
      "dev label shape: (676,)\n",
      "labels names: ['alt.atheism', 'comp.graphics', 'sci.space', 'talk.religion.misc']\n"
     ]
    }
   ],
   "source": [
    "categories = ['alt.atheism', 'talk.religion.misc', 'comp.graphics', 'sci.space']\n",
    "newsgroups_train = fetch_20newsgroups(subset='train',\n",
    "                                      remove=('headers', 'footers', 'quotes'),\n",
    "                                      categories=categories)\n",
    "newsgroups_test = fetch_20newsgroups(subset='test',\n",
    "                                     remove=('headers', 'footers', 'quotes'),\n",
    "                                     categories=categories)\n",
    "\n",
    "num_test = len(newsgroups_test.target)\n",
    "test_data, test_labels = newsgroups_test.data[num_test/2:], newsgroups_test.target[num_test/2:]\n",
    "dev_data, dev_labels = newsgroups_test.data[:num_test/2], newsgroups_test.target[:num_test/2]\n",
    "train_data, train_labels = newsgroups_train.data, newsgroups_train.target\n",
    "\n",
    "print 'training label shape:', train_labels.shape\n",
    "print 'test label shape:', test_labels.shape\n",
    "print 'dev label shape:', dev_labels.shape\n",
    "print 'labels names:', newsgroups_train.target_names"
   ]
  },
  {
   "cell_type": "markdown",
   "metadata": {},
   "source": [
    "(1) For each of the first 5 training examples, print the text of the message along with the label."
   ]
  },
  {
   "cell_type": "code",
   "execution_count": 3,
   "metadata": {
    "collapsed": false
   },
   "outputs": [
    {
     "name": "stdout",
     "output_type": "stream",
     "text": [
      "LABEL: 1 \n",
      "MESSAGE: Hi,\n",
      "\n",
      "I've noticed that if you only save a model (with all your mapping planes\n",
      "positioned carefully) to a .3DS file that when you reload it after restarting\n",
      "3DS, they are given a default position and orientation.  But if you save\n",
      "to a .PRJ file their positions/orientation are preserved.  Does anyone\n",
      "know why this information is not stored in the .3DS file?  Nothing is\n",
      "explicitly said in the manual about saving texture rules in the .PRJ file. \n",
      "I'd like to be able to read the texture rule information, does anyone have \n",
      "the format for the .PRJ file?\n",
      "\n",
      "Is the .CEL file format available from somewhere?\n",
      "\n",
      "Rych \n",
      "\n",
      "LABEL: 3 \n",
      "MESSAGE: \n",
      "\n",
      "Seems to be, barring evidence to the contrary, that Koresh was simply\n",
      "another deranged fanatic who thought it neccessary to take a whole bunch of\n",
      "folks with him, children and all, to satisfy his delusional mania. Jim\n",
      "Jones, circa 1993.\n",
      "\n",
      "\n",
      "Nope - fruitcakes like Koresh have been demonstrating such evil corruption\n",
      "for centuries. \n",
      "\n",
      "LABEL: 2 \n",
      "MESSAGE: \n",
      " >In article <1993Apr19.020359.26996@sq.sq.com>, msb@sq.sq.com (Mark Brader) \n",
      "\n",
      "MB>                                                             So the\n",
      "MB> 1970 figure seems unlikely to actually be anything but a perijove.\n",
      "\n",
      "JG>Sorry, _perijoves_...I'm not used to talking this language.\n",
      "\n",
      "Couldn't we just say periapsis or apoapsis?\n",
      "\n",
      "  \n",
      "\n",
      "LABEL: 0 \n",
      "MESSAGE: I have a request for those who would like to see Charley Wingate\n",
      "respond to the \"Charley Challenges\" (and judging from my e-mail, there\n",
      "appear to be quite a few of you.)  \n",
      "\n",
      "It is clear that Mr. Wingate intends to continue to post tangential or\n",
      "unrelated articles while ingoring the Challenges themselves.  Between\n",
      "the last two re-postings of the Challenges, I noted perhaps a dozen or\n",
      "more posts by Mr. Wingate, none of which answered a single Challenge.  \n",
      "\n",
      "It seems unmistakable to me that Mr. Wingate hopes that the questions\n",
      "will just go away, and he is doing his level best to change the\n",
      "subject.  Given that this seems a rather common net.theist tactic, I\n",
      "would like to suggest that we impress upon him our desire for answers,\n",
      "in the following manner:\n",
      "\n",
      "1. Ignore any future articles by Mr. Wingate that do not address the\n",
      "Challenges, until he answers them or explictly announces that he\n",
      "refuses to do so.\n",
      "\n",
      "--or--\n",
      "\n",
      "2. If you must respond to one of his articles, include within it\n",
      "something similar to the following:\n",
      "\n",
      "    \"Please answer the questions posed to you in the Charley Challenges.\"\n",
      "\n",
      "Really, I'm not looking to humiliate anyone here, I just want some\n",
      "honest answers.  You wouldn't think that honesty would be too much to\n",
      "ask from a devout Christian, would you?  \n",
      "\n",
      "Nevermind, that was a rhetorical question. \n",
      "\n",
      "LABEL: 2 \n",
      "MESSAGE: AW&ST  had a brief blurb on a Manned Lunar Exploration confernce\n",
      "May 7th  at Crystal City Virginia, under the auspices of AIAA.\n",
      "\n",
      "Does anyone know more about this?  How much, to attend????\n",
      "\n",
      "Anyone want to go? \n",
      "\n"
     ]
    }
   ],
   "source": [
    "def P1(num_examples=5):\n",
    "### STUDENT START ###\n",
    "\n",
    "    for i in range(num_examples):\n",
    "        print \"LABEL:\",train_labels[i],\"\\nMESSAGE:\",train_data[i],'\\n' \n",
    "    \n",
    "### STUDENT END ###\n",
    "\n",
    "P1()"
   ]
  },
  {
   "cell_type": "code",
   "execution_count": 49,
   "metadata": {
    "collapsed": true
   },
   "outputs": [],
   "source": [
    "class ProblemAnswer:\n",
    "    ''' Create an over-ambitious answer object '''\n",
    "    def __init__(self, num_solutions):\n",
    "        ''' Initalize answer object'''\n",
    "        _alphabet = list('abcdefghijklmnopqrstuvwxyz')\n",
    "        self.answers = {a:'' for a in _alphabet[:num_solutions]}\n",
    "    \n",
    "    def __str__(self):\n",
    "        ''' Print all answers \n",
    "            to finish question \n",
    "        '''\n",
    "        drop_ns = lambda x: (x.replace('\\n','')).replace('  ','')\n",
    "        answers = sorted([ \n",
    "            drop_ns(z+') '\n",
    "            +self.answers[z]) for z in self.answers \n",
    "        ])\n",
    "        return '\\n\\n'.join(answers)\n",
    "    \n",
    "    def add(self, answer_val, answer):\n",
    "        ''' Add an answer'''\n",
    "        self.answers[answer_val] = answer"
   ]
  },
  {
   "cell_type": "markdown",
   "metadata": {},
   "source": [
    "(2) Use CountVectorizer to turn the raw training text into feature vectors. You should use the fit_transform function, which makes 2 passes through the data: first it computes the vocabulary (\"fit\"), second it converts the raw text into feature vectors using the vocabulary (\"transform\").\n",
    "\n",
    "The vectorizer has a lot of options. To get familiar with some of them, write code to answer these questions:\n",
    "\n",
    "a. The output of the transform (also of fit_transform) is a sparse matrix: http://docs.scipy.org/doc/scipy-0.14.0/reference/generated/scipy.sparse.csr_matrix.html. What is the size of the vocabulary? What is the average number of non-zero features per example? What fraction of the entries in the matrix are non-zero? Hint: use \"nnz\" and \"shape\" attributes.\n",
    "\n",
    "b. What are the 0th and last feature strings (in alphabetical order)? Hint: use the vectorizer's get_feature_names function.\n",
    "\n",
    "c. Specify your own vocabulary with 4 words: [\"atheism\", \"graphics\", \"space\", \"religion\"]. Confirm the training vectors are appropriately shaped. Now what's the average number of non-zero features per example?\n",
    "\n",
    "d. Instead of extracting unigram word features, use \"analyzer\" and \"ngram_range\" to extract bigram and trigram character features. What size vocabulary does this yield?\n",
    "\n",
    "e. Use the \"min_df\" argument to prune words that appear in fewer than 10 documents. What size vocabulary does this yield?\n",
    "\n",
    "f. Using the standard CountVectorizer, what fraction of the words in the dev data are missing from the vocabulary? Hint: build a vocabulary for both train and dev and look at the size of the difference."
   ]
  },
  {
   "cell_type": "code",
   "execution_count": 75,
   "metadata": {
    "collapsed": false
   },
   "outputs": [
    {
     "name": "stdout",
     "output_type": "stream",
     "text": [
      "a) The vocabulary size is 26879, meaning there are 26879 distinct words in the dataset. The number of non-zero features is 196700, given by the 'nnz' attribute of scipy's sparse coo_matrix. The percent of entries that are nonzero is 0.36% (or 196700/54671886).\n",
      "\n",
      "b) The first feature string is '00', and the last feature string is 'zyxel'.\n",
      "\n",
      "c) The vocabulary size is 4, meaning there are 4 distinct words in the dataset. The number of non-zero features is 4, given by the 'nnz' attribute of scipy's sparse coo_matrix. The percent of entries that are nonzero is 25.0% (or 4/16).\n",
      "\n",
      "d) The vocabulary size with bigram and trigram extraction is 28954, meaning there are 28954 distinct words in the dataset. The number of non-zero features is 1164634. The percent of entries that are nonzero is 1.98% (or 1164634/58892436).\n",
      "\n",
      "e) The vocabulary size with min_df set to exclude values that show up in fewer than 10 documents is 3064.\n",
      "\n",
      "f) The vocabulary for the training set is 26879, while the vocabulary for the dev set is 16246, which means that the dev data set has 60.44% of the distinct words that the training dataset contains.\n"
     ]
    }
   ],
   "source": [
    "def P2():\n",
    "    \n",
    "### STUDENT START ###\n",
    "\n",
    "    ''' Initialize over-ambitious answer object \n",
    "    '''\n",
    "    p2 = ProblemAnswer(6)\n",
    "    \n",
    "    ''' Create vectorizer and fit data into \n",
    "        feature vectors\n",
    "    '''\n",
    "    cv = CountVectorizer()\n",
    "    X = cv.fit_transform(train_data)\n",
    "    \n",
    "    ''' Gather size and shape \n",
    "    '''\n",
    "    _nonzero_values = X.nnz\n",
    "    _vocab_size, _entries = X.shape[1], X.shape[0]*X.shape[1]\n",
    "    a = '''\n",
    "        The vocabulary size is {1}, meaning there are \n",
    "        {1} distinct words in the dataset. The number of \n",
    "        non-zero features is {0}, given by the 'nnz' \n",
    "        attribute of scipy's sparse coo_matrix. The percent \n",
    "        of entries that are nonzero is {2}% (or {0}/{3}).\n",
    "    '''.format(\n",
    "        _nonzero_values\n",
    "        ,_vocab_size\n",
    "        ,round(_nonzero_values*100.0 / _entries,2)\n",
    "        ,_entries\n",
    "    )\n",
    "    p2.add('a',a)\n",
    "    \n",
    "    ''' Get first and last feature strings \n",
    "    '''\n",
    "    _feature_names = cv.get_feature_names()\n",
    "    _first,_last = _feature_names[:1], _feature_names[-1:]\n",
    "    b = '''\n",
    "        The first feature string is '{0}', and the last \n",
    "        feature string is '{1}'.\n",
    "    '''.format(_first[0],_last[0])\n",
    "    p2.add('b',b)\n",
    "    \n",
    "    ''' Specify vocabulary with only 4 distinct words '''\n",
    "    Y = cv.fit_transform([\"atheism\", \"graphics\", \"space\", \"religion\"])\n",
    "    _nonzero_values = Y.nnz\n",
    "    _vocab_size, _entries = Y.shape[1], Y.shape[0]*Y.shape[1]\n",
    "    c = '''\n",
    "        The vocabulary size is {1}, meaning there are \n",
    "        {1} distinct words in the dataset. The number of \n",
    "        non-zero features is {0}, given by the 'nnz' \n",
    "        attribute of scipy's sparse coo_matrix. The percent \n",
    "        of entries that are nonzero is {2}% (or {0}/{3}).\n",
    "    '''.format(\n",
    "        _nonzero_values\n",
    "        ,_vocab_size\n",
    "        ,round(_nonzero_values*100.0 / _entries,2)\n",
    "        ,_entries\n",
    "    )\n",
    "    p2.add('c',c)\n",
    "    \n",
    "    ''' Fit CV with bigram and trigram feature extraction '''\n",
    "    cv = CountVectorizer(analyzer='char_wb',ngram_range = (2,3))\n",
    "    Z = cv.fit_transform(train_data)\n",
    "    _nonzero_values = Z.nnz\n",
    "    _vocab_size, _entries = Z.shape[1], Z.shape[0]*Z.shape[1]\n",
    "    d = '''\n",
    "        The vocabulary size with bigram and trigram \n",
    "        extraction is {1}, meaning there are \n",
    "        {1} distinct words in the dataset. The number of \n",
    "        non-zero features is {0}. The percent \n",
    "        of entries that are nonzero is {2}% (or {0}/{3}).\n",
    "    '''.format(\n",
    "        _nonzero_values\n",
    "        ,_vocab_size\n",
    "        ,round(_nonzero_values*100.0 / _entries,2)\n",
    "        ,_entries\n",
    "    )\n",
    "    p2.add('d',d)\n",
    "    \n",
    "    ''' Fit with specified min_df value of 10 '''\n",
    "    cv = CountVectorizer(min_df=10)\n",
    "    X10 = cv.fit_transform(train_data)\n",
    "    _vocab_size = X10.shape[1]\n",
    "    e = '''\n",
    "        The vocabulary size with min_df set to exclude \n",
    "        values that show up in fewer than 10 documents \n",
    "        is {0}.\n",
    "    '''.format(\n",
    "        _vocab_size\n",
    "    )\n",
    "    p2.add('e',e)\n",
    "    \n",
    "    ''' Compare dev and train matrices '''\n",
    "    cv_train, cv_dev = CountVectorizer(), CountVectorizer()\n",
    "    X_train, X_dev = cv_train.fit_transform(train_data), cv_dev.fit_transform(dev_data)\n",
    "    vocab_train, vocab_dev = X_train.shape[1], X_dev.shape[1]\n",
    "    f = '''\n",
    "        The vocabulary for the training set is {0}, while \n",
    "        the vocabulary for the dev set is {1}, which means \n",
    "        that the dev data set has {2}% of the distinct words \n",
    "        that the training dataset contains.\n",
    "    '''.format(\n",
    "        vocab_train\n",
    "        ,vocab_dev\n",
    "        ,round(vocab_dev*100.0 / vocab_train,2)\n",
    "    )\n",
    "    p2.add('f',f)\n",
    "\n",
    "    print p2\n",
    "\n",
    "### STUDENT END ###\n",
    "P2()"
   ]
  },
  {
   "cell_type": "markdown",
   "metadata": {},
   "source": [
    "(3) Use the default CountVectorizer options and report the f1 score (use metrics.f1_score) for a k nearest neighbors classifier; find the optimal value for k. Also fit a Multinomial Naive Bayes model and find the optimal value for alpha. Finally, fit a logistic regression model and find the optimal value for the regularization strength C using l2 regularization. A few questions:\n",
    "\n",
    "a. Why doesn't nearest neighbors work well for this problem?\n",
    "\n",
    "b. Any ideas why logistic regression doesn't work as well as Naive Bayes?\n",
    "\n",
    "c. Logistic regression estimates a weight vector for each class, which you can access with the coef\\_ attribute. Output the sum of the squared weight values for each class for each setting of the C parameter. Briefly explain the relationship between the sum and the value of C."
   ]
  },
  {
   "cell_type": "code",
   "execution_count": 92,
   "metadata": {
    "collapsed": false
   },
   "outputs": [
    {
     "name": "stdout",
     "output_type": "stream",
     "text": [
      "For KNN,\n",
      "Best K value: 1\n",
      "F1 Score: 0.385769187496\n",
      "\n",
      "\n",
      "For Multinomial NB,\n",
      "Best Alpha value: 0.01\n",
      "F1 Score: 0.784005275779\n",
      "\n",
      "\n",
      "For Logistic Regression,\n",
      "Best C value: 0.2\n",
      "F1 Score: 0.72016213356\n",
      "\n",
      "\n",
      "a) \n",
      "\n",
      "b) \n",
      "\n",
      "c) \n"
     ]
    }
   ],
   "source": [
    "def P3():\n",
    "### STUDENT START ###\n",
    "    ''' Initialize over-ambitious answer object \n",
    "    '''\n",
    "    p3 = ProblemAnswer(3)\n",
    "    \n",
    "    ''' Run KNN using CV and report f1 score \n",
    "        find optimal K value \n",
    "    '''\n",
    "    # Create KNN and CV object\n",
    "    knn, cv = KNeighborsClassifier(), CountVectorizer()\n",
    "    # Fit CountVectorizer with training and dev datasets\n",
    "    X = cv.fit_transform(train_data)\n",
    "    X_dev = cv.transform(dev_data)\n",
    "    # Fit KNN with train data \n",
    "    knn.fit(X, train_labels)\n",
    "    # Attempt GridSearchCV to find optimal k\n",
    "    gs = GridSearchCV(knn, {'n_neighbors':[1,2,3,4,5,6,7,8]})\n",
    "    gs.fit(X, train_labels)\n",
    "    best_k = gs.best_params_['n_neighbors']  \n",
    "    # Run KNN with optimal k value \n",
    "    knn = KNeighborsClassifier(n_neighbors = best_k)\n",
    "    knn.fit(X, train_labels)\n",
    "    # Predict with dev data\n",
    "    predictions = knn.predict(X_dev)\n",
    "    # Generate F1 report\n",
    "    f1_score_knn = metrics.f1_score(predictions, dev_labels)\n",
    "    print 'For KNN,\\nBest K value: {0}\\nF1 Score: {1}\\n'.format(\n",
    "        best_k, f1_score_knn\n",
    "    )\n",
    "    \n",
    "    ''' Create a multinomial NB model\n",
    "        find optimal value for alpha\n",
    "    '''\n",
    "    # Create NB object\n",
    "    mnb = MultinomialNB()\n",
    "    # Attempt GridSearchCV to find optimal alpha\n",
    "    gs = GridSearchCV(mnb, {'alpha':[0.0001,0.001,0.01,0.1,1,10,100,1000,10000]})\n",
    "    gs.fit(X, train_labels)\n",
    "    best_alpha = gs.best_params_['alpha']\n",
    "    # Run NB model with optimal alpha value\n",
    "    mnb = MultinomialNB(alpha=best_alpha)\n",
    "    mnb.fit(X, train_labels)\n",
    "    # Predict with dev data\n",
    "    predictions = mnb.predict(X_dev)\n",
    "    # Generate F1 report\n",
    "    f1_score_mnb = metrics.f1_score(predictions, dev_labels)\n",
    "    print 'For Multinomial NB,\\nBest Alpha value: {0}\\nF1 Score: {1}\\n'.format(\n",
    "        best_alpha, f1_score_mnb\n",
    "    )\n",
    "    \n",
    "    ''' Create a logistic regression model\n",
    "        find optimal regularization strength    \n",
    "    '''\n",
    "    # Create LR model\n",
    "    lr = LogisticRegression(penalty='l2')\n",
    "    # Attempt GridSearchCV to find optimal C value\n",
    "    gs = GridSearchCV(lr, {'C':[0.01,0.05,0.1,0.2,0.3,0.4,0.5,0.6,0.7,0.8,0.9,0.99]})\n",
    "    gs.fit(X, train_labels)\n",
    "    best_c = gs.best_params_['C']\n",
    "    # Run LR model with optimal C value\n",
    "    lr = LogisticRegression(penalty='l2',C=best_c)\n",
    "    lr.fit(X, train_labels)\n",
    "    # Predict with dev data\n",
    "    predictions = lr.predict(X_dev)\n",
    "    # Generate F1 report\n",
    "    f1_score_lr = metrics.f1_score(predictions, dev_labels)\n",
    "    print 'For Logistic Regression,\\nBest C value: {0}\\nF1 Score: {1}\\n'.format(\n",
    "        best_c, f1_score_lr\n",
    "    )\n",
    "    \n",
    "    print p3\n",
    "\n",
    "### STUDENT END ###\n",
    "P3()"
   ]
  },
  {
   "cell_type": "markdown",
   "metadata": {},
   "source": [
    "ANSWER:"
   ]
  },
  {
   "cell_type": "markdown",
   "metadata": {},
   "source": [
    "(4) Train a logistic regression model. Find the 5 features with the largest weights for each label -- 20 features in total. Create a table with 20 rows and 4 columns that shows the weight for each of these features for each of the labels. Create the table again with bigram features. Any surprising features in this table?"
   ]
  },
  {
   "cell_type": "code",
   "execution_count": 5,
   "metadata": {
    "collapsed": false
   },
   "outputs": [],
   "source": [
    "#def P4():\n",
    "### STUDENT START ###\n",
    "\n",
    "### STUDENT END ###\n",
    "#P4()"
   ]
  },
  {
   "cell_type": "markdown",
   "metadata": {},
   "source": [
    "ANSWER:"
   ]
  },
  {
   "cell_type": "markdown",
   "metadata": {},
   "source": [
    "(5) Try to improve the logistic regression classifier by passing a custom preprocessor to CountVectorizer. The preprocessing function runs on the raw text, before it is split into words by the tokenizer. Your preprocessor should try to normalize the input in various ways to improve generalization. For example, try lowercasing everything, replacing sequences of numbers with a single token, removing various other non-letter characters, and shortening long words. If you're not already familiar with regular expressions for manipulating strings, see https://docs.python.org/2/library/re.html, and re.sub() in particular. With your new preprocessor, how much did you reduce the size of the dictionary?\n",
    "\n",
    "For reference, I was able to improve dev F1 by 2 points."
   ]
  },
  {
   "cell_type": "code",
   "execution_count": 6,
   "metadata": {
    "collapsed": false
   },
   "outputs": [],
   "source": [
    "#def empty_preprocessor(s):\n",
    "#    return s\n",
    "\n",
    "#def better_preprocessor(s):\n",
    "### STUDENT START ###\n",
    "\n",
    "### STUDENT END ###\n",
    "\n",
    "#def P5():\n",
    "### STUDENT START ###\n",
    "\n",
    "### STUDENT END ###\n",
    "#P5()"
   ]
  },
  {
   "cell_type": "markdown",
   "metadata": {},
   "source": [
    "(6) The idea of regularization is to avoid learning very large weights (which are likely to fit the training data, but not generalize well) by adding a penalty to the total size of the learned weights. That is, logistic regression seeks the set of weights that minimizes errors in the training data AND has a small size. The default regularization, L2, computes this size as the sum of the squared weights (see P3, above). L1 regularization computes this size as the sum of the absolute values of the weights. The result is that whereas L2 regularization makes all the weights relatively small, L1 regularization drives lots of the weights to 0, effectively removing unimportant features.\n",
    "\n",
    "Train a logistic regression model using a \"l1\" penalty. Output the number of learned weights that are not equal to zero. How does this compare to the number of non-zero weights you get with \"l2\"? Now, reduce the size of the vocabulary by keeping only those features that have at least one non-zero weight and retrain a model using \"l2\".\n",
    "\n",
    "Make a plot showing accuracy of the re-trained model vs. the vocabulary size you get when pruning unused features by adjusting the C parameter.\n",
    "\n",
    "Note: The gradient descent code that trains the logistic regression model sometimes has trouble converging with extreme settings of the C parameter. Relax the convergence criteria by setting tol=.01 (the default is .0001)."
   ]
  },
  {
   "cell_type": "code",
   "execution_count": 15,
   "metadata": {
    "collapsed": false
   },
   "outputs": [],
   "source": [
    "#def P6():\n",
    "    # Keep this random seed here to make comparison easier.\n",
    "    #np.random.seed(0)\n",
    "\n",
    "    ### STUDENT START ###\n",
    "    \n",
    "    ### STUDENT END ###\n",
    "#P6()"
   ]
  },
  {
   "cell_type": "markdown",
   "metadata": {},
   "source": [
    "(7) Use the TfidfVectorizer -- how is this different from the CountVectorizer? Train a logistic regression model with C=100.\n",
    "\n",
    "Make predictions on the dev data and show the top 3 documents where the ratio R is largest, where R is:\n",
    "\n",
    "maximum predicted probability / predicted probability of the correct label\n",
    "\n",
    "What kinds of mistakes is the model making? Suggest a way to address one particular issue that you see."
   ]
  },
  {
   "cell_type": "code",
   "execution_count": 16,
   "metadata": {
    "collapsed": false
   },
   "outputs": [],
   "source": [
    "#def P7():\n",
    "### STUDENT START ###\n",
    "\n",
    "## STUDENT END ###\n",
    "#P7()"
   ]
  },
  {
   "cell_type": "markdown",
   "metadata": {},
   "source": [
    "ANSWER:"
   ]
  },
  {
   "cell_type": "markdown",
   "metadata": {},
   "source": [
    "(8) EXTRA CREDIT\n",
    "\n",
    "Try implementing one of your ideas based on your error analysis. Use logistic regression as your underlying model."
   ]
  },
  {
   "cell_type": "code",
   "execution_count": null,
   "metadata": {
    "collapsed": true
   },
   "outputs": [],
   "source": []
  }
 ],
 "metadata": {
  "kernelspec": {
   "display_name": "Python 2",
   "language": "python",
   "name": "python2"
  },
  "language_info": {
   "codemirror_mode": {
    "name": "ipython",
    "version": 2
   },
   "file_extension": ".py",
   "mimetype": "text/x-python",
   "name": "python",
   "nbconvert_exporter": "python",
   "pygments_lexer": "ipython2",
   "version": "2.7.6"
  }
 },
 "nbformat": 4,
 "nbformat_minor": 0
}
