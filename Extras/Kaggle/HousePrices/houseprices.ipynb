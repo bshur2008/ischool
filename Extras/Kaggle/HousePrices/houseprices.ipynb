{
 "cells": [
  {
   "cell_type": "code",
   "execution_count": 55,
   "metadata": {
    "collapsed": true
   },
   "outputs": [],
   "source": [
    "import pandas as pd\n",
    "import numpy as np\n",
    "import scipy as sp\n",
    "import xgboost as xgb\n",
    "\n",
    "from sklearn.preprocessing import LabelEncoder, OneHotEncoder\n",
    "from sklearn.cross_validation import train_test_split"
   ]
  },
  {
   "cell_type": "code",
   "execution_count": 56,
   "metadata": {
    "collapsed": true
   },
   "outputs": [],
   "source": [
    "DATADIR = './Data/'\n",
    "TRAIN_FILE = 'train.csv'\n",
    "TEST_FILE = 'test.csv'"
   ]
  },
  {
   "cell_type": "code",
   "execution_count": 80,
   "metadata": {
    "collapsed": false
   },
   "outputs": [],
   "source": [
    "train_raw = pd.read_csv(DATADIR+TRAIN_FILE)\n",
    "test_raw = pd.read_csv(DATADIR+TEST_FILE)"
   ]
  },
  {
   "cell_type": "code",
   "execution_count": 58,
   "metadata": {
    "collapsed": false
   },
   "outputs": [],
   "source": [
    "IDS = test_raw['Id']\n",
    "del test_raw['Id']\n",
    "del train_raw['Id']"
   ]
  },
  {
   "cell_type": "code",
   "execution_count": 59,
   "metadata": {
    "collapsed": true
   },
   "outputs": [],
   "source": [
    "Y = train_raw['SalePrice'].as_matrix()\n",
    "del train_raw['SalePrice']"
   ]
  },
  {
   "cell_type": "code",
   "execution_count": 60,
   "metadata": {
    "collapsed": true
   },
   "outputs": [],
   "source": [
    "def data_transformation(df):\n",
    "    dtypes = df.dtypes\n",
    "    categoricals = []\n",
    "    for i, f in enumerate(df.columns):\n",
    "        if dtypes[f] == np.dtype('O'):\n",
    "            le = LabelEncoder()\n",
    "            df[f] = le.fit_transform(df[f])\n",
    "            categoricals.append(i)\n",
    "    df = df.fillna(0)\n",
    "    ohe = OneHotEncoder(categorical_features=categoricals)\n",
    "    df = ohe.fit_transform(df)\n",
    "    return df"
   ]
  },
  {
   "cell_type": "code",
   "execution_count": 61,
   "metadata": {
    "collapsed": false
   },
   "outputs": [],
   "source": [
    "X = data_transformation(train_raw).A\n",
    "X_test = data_transformation(test_raw).A"
   ]
  },
  {
   "cell_type": "code",
   "execution_count": 62,
   "metadata": {
    "collapsed": true
   },
   "outputs": [],
   "source": [
    "X_train, X_val, y_train, y_val = train_test_split( X, Y, test_size=0.25)"
   ]
  },
  {
   "cell_type": "code",
   "execution_count": 135,
   "metadata": {
    "collapsed": true
   },
   "outputs": [],
   "source": [
    "X_train, X_val, y_train, y_val = X[:1000], X[1000:], Y[:1000], Y[1000:]"
   ]
  },
  {
   "cell_type": "code",
   "execution_count": 136,
   "metadata": {
    "collapsed": true
   },
   "outputs": [],
   "source": [
    "dtrain = xgb.DMatrix( X_train, label=y_train )\n",
    "dval = xgb.DMatrix( X_val, label=y_val )\n",
    "dtest = xgb.DMatrix( X_test )"
   ]
  },
  {
   "cell_type": "code",
   "execution_count": 141,
   "metadata": {
    "collapsed": false
   },
   "outputs": [
    {
     "name": "stderr",
     "output_type": "stream",
     "text": [
      "[0]\teval-rmse:192232.093750\ttrain-rmse:197281.609375\n",
      "[450]\teval-rmse:28533.083984\ttrain-rmse:17766.572266\n",
      "[900]\teval-rmse:25990.046875\ttrain-rmse:12877.082031\n",
      "[1350]\teval-rmse:25271.902344\ttrain-rmse:10402.408203\n",
      "[1800]\teval-rmse:24983.246094\ttrain-rmse:8548.245117\n",
      "[2250]\teval-rmse:24902.556641\ttrain-rmse:7192.436523\n",
      "[2700]\teval-rmse:24907.824219\ttrain-rmse:6045.517578\n",
      "[3150]\teval-rmse:24846.640625\ttrain-rmse:5139.490723\n",
      "[3600]\teval-rmse:24811.265625\ttrain-rmse:4426.179688\n",
      "[4050]\teval-rmse:24783.376953\ttrain-rmse:3831.485840\n",
      "[4500]\teval-rmse:24772.322266\ttrain-rmse:3327.049561\n"
     ]
    }
   ],
   "source": [
    "d = 4\n",
    "e = 0.01\n",
    "t = 4500\n",
    "param = {'max_depth':d, \n",
    "         'eta':e, \n",
    "         'subsample':0.5, \n",
    "         'colsample_bytree':0.5,\n",
    "         'colsample_bylevel':0.5,\n",
    "         'silent':1, \n",
    "         'objective':'reg:linear' }\n",
    "param['eval_metric'] = 'rmse'\n",
    "param['nthread'] = 2\n",
    "evallist  = [(dval,'eval'), (dtrain,'train')]\n",
    "xgb_model = xgb.train(param.items(), dtrain, t+1, evallist, verbose_eval=t//10)"
   ]
  },
  {
   "cell_type": "code",
   "execution_count": 142,
   "metadata": {
    "collapsed": false
   },
   "outputs": [
    {
     "name": "stdout",
     "output_type": "stream",
     "text": [
      "Predicted RMSE (of log-values): 0.1186\n"
     ]
    }
   ],
   "source": [
    "predictions = xgb_model.predict(dval)\n",
    "score = np.sqrt(np.mean((np.log(predictions)-np.log(y_val))**2))\n",
    "print 'Predicted RMSE (of log-values): {}'.format(round(score,4))"
   ]
  },
  {
   "cell_type": "code",
   "execution_count": 143,
   "metadata": {
    "collapsed": true
   },
   "outputs": [],
   "source": [
    "dtrain = xgb.DMatrix( X, label=Y )\n",
    "xgb_model = xgb.train(param.items(), dtrain, t+1)\n",
    "predictions = xgb_model.predict(dtest)"
   ]
  },
  {
   "cell_type": "code",
   "execution_count": 146,
   "metadata": {
    "collapsed": false
   },
   "outputs": [],
   "source": [
    "submission = pd.DataFrame(np.vstack((IDS, \n",
    "                                     predictions)).T,\n",
    "                          columns=['Id','SalePrice'])\n",
    "submission.to_csv('submission.csv', index=False)"
   ]
  }
 ],
 "metadata": {
  "kernelspec": {
   "display_name": "Python 2",
   "language": "python",
   "name": "python2"
  },
  "language_info": {
   "codemirror_mode": {
    "name": "ipython",
    "version": 2
   },
   "file_extension": ".py",
   "mimetype": "text/x-python",
   "name": "python",
   "nbconvert_exporter": "python",
   "pygments_lexer": "ipython2",
   "version": "2.7.12"
  }
 },
 "nbformat": 4,
 "nbformat_minor": 0
}
