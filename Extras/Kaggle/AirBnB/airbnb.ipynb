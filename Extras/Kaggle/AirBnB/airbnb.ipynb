{
 "cells": [
  {
   "cell_type": "markdown",
   "metadata": {},
   "source": [
    "AirBnB recruiting kaggle\n",
    "------\n",
    "\n",
    "https://www.kaggle.com/c/airbnb-recruiting-new-user-bookings"
   ]
  },
  {
   "cell_type": "markdown",
   "metadata": {},
   "source": [
    "## Load libraries"
   ]
  },
  {
   "cell_type": "code",
   "execution_count": 1,
   "metadata": {
    "collapsed": false
   },
   "outputs": [],
   "source": [
    "from __future__ import print_function\n",
    "import datetime as DT\n",
    "import pandas as pd\n",
    "import numpy as np\n",
    "import re\n",
    "from sklearn.preprocessing import OneHotEncoder, LabelEncoder\n",
    "from sklearn.discriminant_analysis import LinearDiscriminantAnalysis as LDA\n",
    "from sklearn.pipeline import Pipeline\n",
    "from sklearn.preprocessing import StandardScaler\n",
    "from sklearn.preprocessing import Imputer"
   ]
  },
  {
   "cell_type": "code",
   "execution_count": 2,
   "metadata": {
    "collapsed": true
   },
   "outputs": [],
   "source": [
    "class MultiColumnLabelEncoder:\n",
    "    ''' Create a class that encodes\n",
    "        labels for a matrix of data\n",
    "    '''\n",
    "    def __init__(self, columns = None):\n",
    "        self.columns = columns # array of column names to encode\n",
    "\n",
    "    def fit(self,X,y=None):\n",
    "        return self # not relevant here\n",
    "    \n",
    "    def get_params(self, deep=True):\n",
    "        out = dict()\n",
    "        if self.columns: out['columns'] = columns\n",
    "        return out\n",
    "\n",
    "    def transform(self,X):\n",
    "        '''\n",
    "        Transforms columns of X specified in self.columns using\n",
    "        LabelEncoder(). \n",
    "        '''\n",
    "        numerics = [np.float16, np.float32, np.float64]\n",
    "        ints = [np.int16, np.int32, np.int64]\n",
    "        output = X.copy()\n",
    "        '''\n",
    "        if self.columns is not None:\n",
    "            for col in self.columns:\n",
    "                if col.dtype not in numerics+ints:\n",
    "                    output[col] = LabelEncoder().fit_transform(output[col])\n",
    "                elif col.dtype not in ints:\n",
    "                    output[col] = scale(output[col])\n",
    "        else:\n",
    "        '''\n",
    "        try:\n",
    "            for colname,col in output.iteritems():\n",
    "                if col.dtype not in numerics+ints:\n",
    "                    # Turn text columns into ints\n",
    "                    output[colname] = LabelEncoder().fit_transform(output[colname])\n",
    "                elif col.dtype in numerics:\n",
    "                    # handle floats with scaling\n",
    "                    # output[colname] = scale(output[colname])\n",
    "                    pass \n",
    "                elif col.dtype in ints:\n",
    "                    pass # leave integers alone\n",
    "        except:\n",
    "            output = LabelEncoder().fit_transform(output)\n",
    "        return output\n",
    "\n",
    "    def fit_transform(self,X,y=None):\n",
    "        return self.fit(X,y).transform(X)"
   ]
  },
  {
   "cell_type": "markdown",
   "metadata": {},
   "source": [
    "## Declare Args"
   ]
  },
  {
   "cell_type": "code",
   "execution_count": 3,
   "metadata": {
    "collapsed": true
   },
   "outputs": [],
   "source": [
    "## Files ## \n",
    "AGE_GENDER_BUCKETS_FILE = 'Data/age_gender_bkts.csv'\n",
    "COUNTRIES_FILE = 'Data/countries.csv'\n",
    "SAMPLE_SUBMISSION_FILE = 'Data/sample_submission.csv'\n",
    "SESSIONS_FILE = 'Data/sessions.csv'\n",
    "TEST_DATA_FINAL_FILE = 'Data/test_users.csv'\n",
    "TRAIN_DATA_FILE = 'Data/train_users.csv'\n",
    "\n",
    "## Model args ##\n",
    "TEST_N = 20000\n",
    "\n",
    "## Fields ## \n",
    "USER_COLUMNS = ['id',\n",
    " 'date_account_created',\n",
    " 'timestamp_first_active',\n",
    " 'date_first_booking',\n",
    " 'gender',\n",
    " 'age',\n",
    " 'signup_method',\n",
    " 'signup_flow',\n",
    " 'language',\n",
    " 'affiliate_channel',\n",
    " 'affiliate_provider',\n",
    " 'first_affiliate_tracked',\n",
    " 'signup_app',\n",
    " 'first_device_type',\n",
    " 'first_browser']\n",
    "TARGET_COLUMN = ['country_destination']\n",
    "\n",
    "SESSION_COLUMNS = ['user_id',\n",
    " 'action',\n",
    " 'action_type',\n",
    " 'action_detail',\n",
    " 'device_type',\n",
    " 'secs_elapsed']\n",
    "\n",
    "AGE_BUCKET_COLUMNS = ['age_bucket',\n",
    " 'country_destination',\n",
    " 'gender',\n",
    " 'population_in_thousands',\n",
    " 'year']"
   ]
  },
  {
   "cell_type": "markdown",
   "metadata": {},
   "source": [
    "## Read data\n"
   ]
  },
  {
   "cell_type": "code",
   "execution_count": 394,
   "metadata": {
    "collapsed": false
   },
   "outputs": [],
   "source": [
    "## Read user data ## \n",
    "train_full = pd.read_csv(TRAIN_DATA_FILE)\n",
    "train_set, train_target = train_full[TEST_N:][USER_COLUMNS+TARGET_COLUMN],\\\n",
    "    train_full[TEST_N:][TARGET_COLUMN]\n",
    "test_set, test_target = train_full[:TEST_N][USER_COLUMNS+TARGET_COLUMN],\\\n",
    "    train_full[:TEST_N][TARGET_COLUMN]"
   ]
  },
  {
   "cell_type": "code",
   "execution_count": 395,
   "metadata": {
    "collapsed": true
   },
   "outputs": [],
   "source": [
    "## Read supplemental datasets ## \n",
    "countries = pd.read_csv(COUNTRIES_FILE)\n",
    "age_buckets = pd.read_csv(AGE_GENDER_BUCKETS_FILE)"
   ]
  },
  {
   "cell_type": "code",
   "execution_count": null,
   "metadata": {
    "collapsed": true
   },
   "outputs": [],
   "source": [
    "## Read session data ##\n",
    "sessions = pd.read_csv(SESSIONS_FILE)"
   ]
  },
  {
   "cell_type": "markdown",
   "metadata": {},
   "source": [
    "## Explore data"
   ]
  },
  {
   "cell_type": "markdown",
   "metadata": {},
   "source": [
    "#### Sessions"
   ]
  },
  {
   "cell_type": "code",
   "execution_count": 5,
   "metadata": {
    "collapsed": false
   },
   "outputs": [
    {
     "data": {
      "text/plain": [
       "(5600850, 6)"
      ]
     },
     "execution_count": 5,
     "metadata": {},
     "output_type": "execute_result"
    }
   ],
   "source": [
    "sessions.shape"
   ]
  },
  {
   "cell_type": "code",
   "execution_count": 6,
   "metadata": {
    "collapsed": false
   },
   "outputs": [
    {
     "data": {
      "text/html": [
       "<div>\n",
       "<table border=\"1\" class=\"dataframe\">\n",
       "  <thead>\n",
       "    <tr style=\"text-align: right;\">\n",
       "      <th></th>\n",
       "      <th>user_id</th>\n",
       "      <th>action</th>\n",
       "      <th>action_type</th>\n",
       "      <th>action_detail</th>\n",
       "      <th>device_type</th>\n",
       "      <th>secs_elapsed</th>\n",
       "    </tr>\n",
       "  </thead>\n",
       "  <tbody>\n",
       "    <tr>\n",
       "      <th>0</th>\n",
       "      <td>ailzdefy6o</td>\n",
       "      <td>similar_listings</td>\n",
       "      <td>data</td>\n",
       "      <td>similar_listings</td>\n",
       "      <td>Windows Desktop</td>\n",
       "      <td>255</td>\n",
       "    </tr>\n",
       "    <tr>\n",
       "      <th>1</th>\n",
       "      <td>ailzdefy6o</td>\n",
       "      <td>similar_listings</td>\n",
       "      <td>data</td>\n",
       "      <td>similar_listings</td>\n",
       "      <td>Windows Desktop</td>\n",
       "      <td>183</td>\n",
       "    </tr>\n",
       "    <tr>\n",
       "      <th>2</th>\n",
       "      <td>ailzdefy6o</td>\n",
       "      <td>ajax_refresh_subtotal</td>\n",
       "      <td>click</td>\n",
       "      <td>change_trip_characteristics</td>\n",
       "      <td>Windows Desktop</td>\n",
       "      <td>175570</td>\n",
       "    </tr>\n",
       "    <tr>\n",
       "      <th>3</th>\n",
       "      <td>ailzdefy6o</td>\n",
       "      <td>show</td>\n",
       "      <td>NaN</td>\n",
       "      <td>NaN</td>\n",
       "      <td>Windows Desktop</td>\n",
       "      <td>86</td>\n",
       "    </tr>\n",
       "    <tr>\n",
       "      <th>4</th>\n",
       "      <td>ailzdefy6o</td>\n",
       "      <td>personalize</td>\n",
       "      <td>data</td>\n",
       "      <td>wishlist_content_update</td>\n",
       "      <td>Windows Desktop</td>\n",
       "      <td>1535</td>\n",
       "    </tr>\n",
       "  </tbody>\n",
       "</table>\n",
       "</div>"
      ],
      "text/plain": [
       "      user_id                 action action_type                action_detail  \\\n",
       "0  ailzdefy6o       similar_listings        data             similar_listings   \n",
       "1  ailzdefy6o       similar_listings        data             similar_listings   \n",
       "2  ailzdefy6o  ajax_refresh_subtotal       click  change_trip_characteristics   \n",
       "3  ailzdefy6o                   show         NaN                          NaN   \n",
       "4  ailzdefy6o            personalize        data      wishlist_content_update   \n",
       "\n",
       "       device_type  secs_elapsed  \n",
       "0  Windows Desktop           255  \n",
       "1  Windows Desktop           183  \n",
       "2  Windows Desktop        175570  \n",
       "3  Windows Desktop            86  \n",
       "4  Windows Desktop          1535  "
      ]
     },
     "execution_count": 6,
     "metadata": {},
     "output_type": "execute_result"
    }
   ],
   "source": [
    "sessions.head()"
   ]
  },
  {
   "cell_type": "code",
   "execution_count": 7,
   "metadata": {
    "collapsed": false
   },
   "outputs": [],
   "source": [
    "cf = ['action','action_type','action_detail','device_type']\n",
    "s = sessions[cf].copy().fillna('missing')\n",
    "mcl = MultiColumnLabelEncoder()\n",
    "ohe = OneHotEncoder()\n",
    "x = ohe.fit_transform(\n",
    "    mcl.fit_transform(s)\n",
    ").todense()"
   ]
  },
  {
   "cell_type": "code",
   "execution_count": 8,
   "metadata": {
    "collapsed": false
   },
   "outputs": [
    {
     "name": "stdout",
     "output_type": "stream",
     "text": [
      "finished 1.0%, 86.6674403657 mins est. total time\n",
      "finished 11.0%, 96.6675296386 mins est. total time\n",
      "finished 21.0%, 102.699329518 mins est. total time\n",
      "finished 31.0%, 105.753632258 mins est. total time\n",
      "finished 41.0%, 105.976555832 mins est. total time\n",
      "finished 51.0%, 103.399615881 mins est. total time\n",
      "finished 61.0%, 101.339702496 mins est. total time\n",
      "finished 71.0%, 100.165213445 mins est. total time\n",
      "finished 81.0%, 99.5893664221 mins est. total time\n",
      "finished 91.0%, 98.8287210932 mins est. total time\n"
     ]
    }
   ],
   "source": [
    "n = 100\n",
    "loops = sessions.shape[0]//n*np.arange(n)\n",
    "\n",
    "o = []\n",
    "start_time = DT.datetime.now()\n",
    "for i,l in enumerate(loops):\n",
    "    try:\n",
    "        a,b = loops[i],loops[i+1]\n",
    "    except:\n",
    "        a,b = loops[i],sessions.shape[0]\n",
    "    \n",
    "    sessions_new = pd.DataFrame(np.concatenate(\\\n",
    "        (\n",
    "            sessions[['user_id']][a:b]\\\n",
    "            , x[a:b]\\\n",
    "            , sessions[['secs_elapsed']][a:b]\n",
    "        )\n",
    "        , axis=1\n",
    "    ))\n",
    "    sessions_grouped = sessions_new.groupby([0]).sum()\n",
    "    o.append(sessions_grouped)\n",
    "    \n",
    "    if i%10==0:\n",
    "        this_time = DT.datetime.now()\n",
    "        time_change = (this_time - start_time).seconds\n",
    "        per_second = b*1.0 / (time_change)\n",
    "        total_time = sessions.shape[0] / per_second / 60\n",
    "        print('finished {}%, {} mins est. total time'\\\n",
    "                .format(round(b*100.0/sessions.shape[0],2)\\\n",
    "                        ,total_time))"
   ]
  },
  {
   "cell_type": "code",
   "execution_count": 9,
   "metadata": {
    "collapsed": false
   },
   "outputs": [],
   "source": [
    "sessions_new = pd.concat(o,ignore_index=True)\n",
    "sessions_new['user_id'] = pd.concat(o).index\n",
    "sessions_new = sessions_new.groupby('user_id').sum()"
   ]
  },
  {
   "cell_type": "markdown",
   "metadata": {},
   "source": [
    "#### User data"
   ]
  },
  {
   "cell_type": "code",
   "execution_count": 400,
   "metadata": {
    "collapsed": false
   },
   "outputs": [
    {
     "data": {
      "text/plain": [
       "(151239, 16)"
      ]
     },
     "execution_count": 400,
     "metadata": {},
     "output_type": "execute_result"
    }
   ],
   "source": [
    "train_set.shape"
   ]
  },
  {
   "cell_type": "code",
   "execution_count": 401,
   "metadata": {
    "collapsed": false
   },
   "outputs": [
    {
     "data": {
      "text/html": [
       "<div>\n",
       "<table border=\"1\" class=\"dataframe\">\n",
       "  <thead>\n",
       "    <tr style=\"text-align: right;\">\n",
       "      <th></th>\n",
       "      <th>id</th>\n",
       "      <th>date_account_created</th>\n",
       "      <th>timestamp_first_active</th>\n",
       "      <th>date_first_booking</th>\n",
       "      <th>gender</th>\n",
       "      <th>age</th>\n",
       "      <th>signup_method</th>\n",
       "      <th>signup_flow</th>\n",
       "      <th>language</th>\n",
       "      <th>affiliate_channel</th>\n",
       "      <th>affiliate_provider</th>\n",
       "      <th>first_affiliate_tracked</th>\n",
       "      <th>signup_app</th>\n",
       "      <th>first_device_type</th>\n",
       "      <th>first_browser</th>\n",
       "      <th>country_destination</th>\n",
       "    </tr>\n",
       "  </thead>\n",
       "  <tbody>\n",
       "    <tr>\n",
       "      <th>20000</th>\n",
       "      <td>t9e8wr7dsl</td>\n",
       "      <td>2012-03-28</td>\n",
       "      <td>20120328191328</td>\n",
       "      <td>NaN</td>\n",
       "      <td>-unknown-</td>\n",
       "      <td>NaN</td>\n",
       "      <td>basic</td>\n",
       "      <td>1</td>\n",
       "      <td>en</td>\n",
       "      <td>direct</td>\n",
       "      <td>direct</td>\n",
       "      <td>NaN</td>\n",
       "      <td>Web</td>\n",
       "      <td>Other/Unknown</td>\n",
       "      <td>-unknown-</td>\n",
       "      <td>NDF</td>\n",
       "    </tr>\n",
       "    <tr>\n",
       "      <th>20001</th>\n",
       "      <td>dekuxqk9lk</td>\n",
       "      <td>2012-03-28</td>\n",
       "      <td>20120328194449</td>\n",
       "      <td>2012-04-02</td>\n",
       "      <td>FEMALE</td>\n",
       "      <td>30</td>\n",
       "      <td>facebook</td>\n",
       "      <td>0</td>\n",
       "      <td>en</td>\n",
       "      <td>direct</td>\n",
       "      <td>direct</td>\n",
       "      <td>untracked</td>\n",
       "      <td>iOS</td>\n",
       "      <td>iPad</td>\n",
       "      <td>Mobile Safari</td>\n",
       "      <td>US</td>\n",
       "    </tr>\n",
       "    <tr>\n",
       "      <th>20002</th>\n",
       "      <td>dvsvhyf3od</td>\n",
       "      <td>2012-03-28</td>\n",
       "      <td>20120328195154</td>\n",
       "      <td>2012-04-10</td>\n",
       "      <td>FEMALE</td>\n",
       "      <td>27</td>\n",
       "      <td>basic</td>\n",
       "      <td>0</td>\n",
       "      <td>en</td>\n",
       "      <td>sem-brand</td>\n",
       "      <td>google</td>\n",
       "      <td>tracked-other</td>\n",
       "      <td>Web</td>\n",
       "      <td>Mac Desktop</td>\n",
       "      <td>Safari</td>\n",
       "      <td>US</td>\n",
       "    </tr>\n",
       "    <tr>\n",
       "      <th>20003</th>\n",
       "      <td>zusk44ltvs</td>\n",
       "      <td>2012-03-28</td>\n",
       "      <td>20120328195655</td>\n",
       "      <td>2012-03-31</td>\n",
       "      <td>-unknown-</td>\n",
       "      <td>67</td>\n",
       "      <td>basic</td>\n",
       "      <td>0</td>\n",
       "      <td>en</td>\n",
       "      <td>sem-non-brand</td>\n",
       "      <td>google</td>\n",
       "      <td>omg</td>\n",
       "      <td>Web</td>\n",
       "      <td>Mac Desktop</td>\n",
       "      <td>Firefox</td>\n",
       "      <td>FR</td>\n",
       "    </tr>\n",
       "    <tr>\n",
       "      <th>20004</th>\n",
       "      <td>4ci9oqtl8q</td>\n",
       "      <td>2012-03-28</td>\n",
       "      <td>20120328200645</td>\n",
       "      <td>2012-04-02</td>\n",
       "      <td>MALE</td>\n",
       "      <td>34</td>\n",
       "      <td>facebook</td>\n",
       "      <td>0</td>\n",
       "      <td>en</td>\n",
       "      <td>sem-non-brand</td>\n",
       "      <td>google</td>\n",
       "      <td>untracked</td>\n",
       "      <td>Web</td>\n",
       "      <td>iPhone</td>\n",
       "      <td>Mobile Safari</td>\n",
       "      <td>US</td>\n",
       "    </tr>\n",
       "  </tbody>\n",
       "</table>\n",
       "</div>"
      ],
      "text/plain": [
       "               id date_account_created  timestamp_first_active  \\\n",
       "20000  t9e8wr7dsl           2012-03-28          20120328191328   \n",
       "20001  dekuxqk9lk           2012-03-28          20120328194449   \n",
       "20002  dvsvhyf3od           2012-03-28          20120328195154   \n",
       "20003  zusk44ltvs           2012-03-28          20120328195655   \n",
       "20004  4ci9oqtl8q           2012-03-28          20120328200645   \n",
       "\n",
       "      date_first_booking     gender  age signup_method  signup_flow language  \\\n",
       "20000                NaN  -unknown-  NaN         basic            1       en   \n",
       "20001         2012-04-02     FEMALE   30      facebook            0       en   \n",
       "20002         2012-04-10     FEMALE   27         basic            0       en   \n",
       "20003         2012-03-31  -unknown-   67         basic            0       en   \n",
       "20004         2012-04-02       MALE   34      facebook            0       en   \n",
       "\n",
       "      affiliate_channel affiliate_provider first_affiliate_tracked signup_app  \\\n",
       "20000            direct             direct                     NaN        Web   \n",
       "20001            direct             direct               untracked        iOS   \n",
       "20002         sem-brand             google           tracked-other        Web   \n",
       "20003     sem-non-brand             google                     omg        Web   \n",
       "20004     sem-non-brand             google               untracked        Web   \n",
       "\n",
       "      first_device_type  first_browser country_destination  \n",
       "20000     Other/Unknown      -unknown-                 NDF  \n",
       "20001              iPad  Mobile Safari                  US  \n",
       "20002       Mac Desktop         Safari                  US  \n",
       "20003       Mac Desktop        Firefox                  FR  \n",
       "20004            iPhone  Mobile Safari                  US  "
      ]
     },
     "execution_count": 401,
     "metadata": {},
     "output_type": "execute_result"
    }
   ],
   "source": [
    "train_set.head()"
   ]
  },
  {
   "cell_type": "code",
   "execution_count": 402,
   "metadata": {
    "collapsed": false
   },
   "outputs": [],
   "source": [
    "train_set.index = train_set['id']"
   ]
  },
  {
   "cell_type": "code",
   "execution_count": 403,
   "metadata": {
    "collapsed": false
   },
   "outputs": [
    {
     "data": {
      "text/plain": [
       "-unknown-    66422\n",
       "FEMALE       45658\n",
       "MALE         38954\n",
       "OTHER          205\n",
       "Name: gender, dtype: int64"
      ]
     },
     "execution_count": 403,
     "metadata": {},
     "output_type": "execute_result"
    }
   ],
   "source": [
    "train_set['gender'].value_counts()"
   ]
  },
  {
   "cell_type": "code",
   "execution_count": 404,
   "metadata": {
    "collapsed": false
   },
   "outputs": [],
   "source": [
    "train_set.loc[train_set['gender']=='-unknown-',['gender']] = np.nan"
   ]
  },
  {
   "cell_type": "code",
   "execution_count": 405,
   "metadata": {
    "collapsed": false
   },
   "outputs": [
    {
     "data": {
      "text/html": [
       "<div>\n",
       "<table border=\"1\" class=\"dataframe\">\n",
       "  <thead>\n",
       "    <tr style=\"text-align: right;\">\n",
       "      <th></th>\n",
       "      <th>id</th>\n",
       "      <th>date_account_created</th>\n",
       "      <th>timestamp_first_active</th>\n",
       "      <th>date_first_booking</th>\n",
       "      <th>gender</th>\n",
       "      <th>age</th>\n",
       "      <th>signup_method</th>\n",
       "      <th>signup_flow</th>\n",
       "      <th>language</th>\n",
       "      <th>affiliate_channel</th>\n",
       "      <th>affiliate_provider</th>\n",
       "      <th>first_affiliate_tracked</th>\n",
       "      <th>signup_app</th>\n",
       "      <th>first_device_type</th>\n",
       "      <th>first_browser</th>\n",
       "      <th>country_destination</th>\n",
       "    </tr>\n",
       "    <tr>\n",
       "      <th>id</th>\n",
       "      <th></th>\n",
       "      <th></th>\n",
       "      <th></th>\n",
       "      <th></th>\n",
       "      <th></th>\n",
       "      <th></th>\n",
       "      <th></th>\n",
       "      <th></th>\n",
       "      <th></th>\n",
       "      <th></th>\n",
       "      <th></th>\n",
       "      <th></th>\n",
       "      <th></th>\n",
       "      <th></th>\n",
       "      <th></th>\n",
       "      <th></th>\n",
       "    </tr>\n",
       "  </thead>\n",
       "  <tbody>\n",
       "    <tr>\n",
       "      <th>t9e8wr7dsl</th>\n",
       "      <td>t9e8wr7dsl</td>\n",
       "      <td>2012-03-28</td>\n",
       "      <td>20120328191328</td>\n",
       "      <td>NaN</td>\n",
       "      <td>NaN</td>\n",
       "      <td>NaN</td>\n",
       "      <td>basic</td>\n",
       "      <td>1</td>\n",
       "      <td>en</td>\n",
       "      <td>direct</td>\n",
       "      <td>direct</td>\n",
       "      <td>NaN</td>\n",
       "      <td>Web</td>\n",
       "      <td>Other/Unknown</td>\n",
       "      <td>-unknown-</td>\n",
       "      <td>NDF</td>\n",
       "    </tr>\n",
       "    <tr>\n",
       "      <th>dekuxqk9lk</th>\n",
       "      <td>dekuxqk9lk</td>\n",
       "      <td>2012-03-28</td>\n",
       "      <td>20120328194449</td>\n",
       "      <td>2012-04-02</td>\n",
       "      <td>FEMALE</td>\n",
       "      <td>30</td>\n",
       "      <td>facebook</td>\n",
       "      <td>0</td>\n",
       "      <td>en</td>\n",
       "      <td>direct</td>\n",
       "      <td>direct</td>\n",
       "      <td>untracked</td>\n",
       "      <td>iOS</td>\n",
       "      <td>iPad</td>\n",
       "      <td>Mobile Safari</td>\n",
       "      <td>US</td>\n",
       "    </tr>\n",
       "    <tr>\n",
       "      <th>dvsvhyf3od</th>\n",
       "      <td>dvsvhyf3od</td>\n",
       "      <td>2012-03-28</td>\n",
       "      <td>20120328195154</td>\n",
       "      <td>2012-04-10</td>\n",
       "      <td>FEMALE</td>\n",
       "      <td>27</td>\n",
       "      <td>basic</td>\n",
       "      <td>0</td>\n",
       "      <td>en</td>\n",
       "      <td>sem-brand</td>\n",
       "      <td>google</td>\n",
       "      <td>tracked-other</td>\n",
       "      <td>Web</td>\n",
       "      <td>Mac Desktop</td>\n",
       "      <td>Safari</td>\n",
       "      <td>US</td>\n",
       "    </tr>\n",
       "    <tr>\n",
       "      <th>zusk44ltvs</th>\n",
       "      <td>zusk44ltvs</td>\n",
       "      <td>2012-03-28</td>\n",
       "      <td>20120328195655</td>\n",
       "      <td>2012-03-31</td>\n",
       "      <td>NaN</td>\n",
       "      <td>67</td>\n",
       "      <td>basic</td>\n",
       "      <td>0</td>\n",
       "      <td>en</td>\n",
       "      <td>sem-non-brand</td>\n",
       "      <td>google</td>\n",
       "      <td>omg</td>\n",
       "      <td>Web</td>\n",
       "      <td>Mac Desktop</td>\n",
       "      <td>Firefox</td>\n",
       "      <td>FR</td>\n",
       "    </tr>\n",
       "    <tr>\n",
       "      <th>4ci9oqtl8q</th>\n",
       "      <td>4ci9oqtl8q</td>\n",
       "      <td>2012-03-28</td>\n",
       "      <td>20120328200645</td>\n",
       "      <td>2012-04-02</td>\n",
       "      <td>MALE</td>\n",
       "      <td>34</td>\n",
       "      <td>facebook</td>\n",
       "      <td>0</td>\n",
       "      <td>en</td>\n",
       "      <td>sem-non-brand</td>\n",
       "      <td>google</td>\n",
       "      <td>untracked</td>\n",
       "      <td>Web</td>\n",
       "      <td>iPhone</td>\n",
       "      <td>Mobile Safari</td>\n",
       "      <td>US</td>\n",
       "    </tr>\n",
       "  </tbody>\n",
       "</table>\n",
       "</div>"
      ],
      "text/plain": [
       "                    id date_account_created  timestamp_first_active  \\\n",
       "id                                                                    \n",
       "t9e8wr7dsl  t9e8wr7dsl           2012-03-28          20120328191328   \n",
       "dekuxqk9lk  dekuxqk9lk           2012-03-28          20120328194449   \n",
       "dvsvhyf3od  dvsvhyf3od           2012-03-28          20120328195154   \n",
       "zusk44ltvs  zusk44ltvs           2012-03-28          20120328195655   \n",
       "4ci9oqtl8q  4ci9oqtl8q           2012-03-28          20120328200645   \n",
       "\n",
       "           date_first_booking  gender  age signup_method  signup_flow  \\\n",
       "id                                                                      \n",
       "t9e8wr7dsl                NaN     NaN  NaN         basic            1   \n",
       "dekuxqk9lk         2012-04-02  FEMALE   30      facebook            0   \n",
       "dvsvhyf3od         2012-04-10  FEMALE   27         basic            0   \n",
       "zusk44ltvs         2012-03-31     NaN   67         basic            0   \n",
       "4ci9oqtl8q         2012-04-02    MALE   34      facebook            0   \n",
       "\n",
       "           language affiliate_channel affiliate_provider  \\\n",
       "id                                                         \n",
       "t9e8wr7dsl       en            direct             direct   \n",
       "dekuxqk9lk       en            direct             direct   \n",
       "dvsvhyf3od       en         sem-brand             google   \n",
       "zusk44ltvs       en     sem-non-brand             google   \n",
       "4ci9oqtl8q       en     sem-non-brand             google   \n",
       "\n",
       "           first_affiliate_tracked signup_app first_device_type  \\\n",
       "id                                                                \n",
       "t9e8wr7dsl                     NaN        Web     Other/Unknown   \n",
       "dekuxqk9lk               untracked        iOS              iPad   \n",
       "dvsvhyf3od           tracked-other        Web       Mac Desktop   \n",
       "zusk44ltvs                     omg        Web       Mac Desktop   \n",
       "4ci9oqtl8q               untracked        Web            iPhone   \n",
       "\n",
       "            first_browser country_destination  \n",
       "id                                             \n",
       "t9e8wr7dsl      -unknown-                 NDF  \n",
       "dekuxqk9lk  Mobile Safari                  US  \n",
       "dvsvhyf3od         Safari                  US  \n",
       "zusk44ltvs        Firefox                  FR  \n",
       "4ci9oqtl8q  Mobile Safari                  US  "
      ]
     },
     "execution_count": 405,
     "metadata": {},
     "output_type": "execute_result"
    }
   ],
   "source": [
    "train_set.head()"
   ]
  },
  {
   "cell_type": "code",
   "execution_count": 406,
   "metadata": {
    "collapsed": false
   },
   "outputs": [
    {
     "data": {
      "text/plain": [
       "30      4367\n",
       "28      4251\n",
       "31      4215\n",
       "29      4212\n",
       "27      4104\n",
       "32      4101\n",
       "33      3822\n",
       "26      3582\n",
       "34      3546\n",
       "35      3316\n",
       "25      3112\n",
       "36      2858\n",
       "37      2486\n",
       "38      2347\n",
       "24      2321\n",
       "39      2055\n",
       "40      1905\n",
       "41      1783\n",
       "23      1696\n",
       "42      1531\n",
       "44      1513\n",
       "45      1505\n",
       "43      1438\n",
       "46      1307\n",
       "22      1227\n",
       "47      1147\n",
       "48      1054\n",
       "50       982\n",
       "51       931\n",
       "49       913\n",
       "        ... \n",
       "108       11\n",
       "97        10\n",
       "92        10\n",
       "107       10\n",
       "89         9\n",
       "115        7\n",
       "88         6\n",
       "2          5\n",
       "15         5\n",
       "91         4\n",
       "1932       3\n",
       "14         2\n",
       "1931       2\n",
       "113        2\n",
       "1925       2\n",
       "112        2\n",
       "111        2\n",
       "1928       1\n",
       "1927       1\n",
       "1933       1\n",
       "1934       1\n",
       "1935       1\n",
       "1936       1\n",
       "1942       1\n",
       "1953       1\n",
       "1995       1\n",
       "1919       1\n",
       "150        1\n",
       "132        1\n",
       "1          1\n",
       "Name: age, dtype: int64"
      ]
     },
     "execution_count": 406,
     "metadata": {},
     "output_type": "execute_result"
    }
   ],
   "source": [
    "train_set['age'].value_counts()"
   ]
  },
  {
   "cell_type": "code",
   "execution_count": 407,
   "metadata": {
    "collapsed": false
   },
   "outputs": [],
   "source": [
    "train_set.loc[train_set['age']>110,['age']] = np.nan"
   ]
  },
  {
   "cell_type": "code",
   "execution_count": 408,
   "metadata": {
    "collapsed": false
   },
   "outputs": [],
   "source": [
    "train_set['date_created'] = pd.to_datetime(train_set['date_account_created'])\n",
    "train_set['date_first_booking'] = pd.to_datetime(train_set['date_first_booking'])\n",
    "train_set['year_created'] = train_set['date_created'].dt.year\n",
    "train_set['month_created'] = train_set['date_created'].dt.month\n",
    "train_set['year_first_booking'] = train_set['date_first_booking'].dt.year\n",
    "train_set['month_first_booking'] = train_set['date_first_booking'].dt.month\n",
    "train_set['days_to_first_booking'] = train_set['date_first_booking']-train_set['date_created']"
   ]
  },
  {
   "cell_type": "code",
   "execution_count": 409,
   "metadata": {
    "collapsed": false
   },
   "outputs": [
    {
     "data": {
      "text/html": [
       "<div>\n",
       "<table border=\"1\" class=\"dataframe\">\n",
       "  <thead>\n",
       "    <tr style=\"text-align: right;\">\n",
       "      <th></th>\n",
       "      <th>id</th>\n",
       "      <th>date_account_created</th>\n",
       "      <th>timestamp_first_active</th>\n",
       "      <th>date_first_booking</th>\n",
       "      <th>gender</th>\n",
       "      <th>age</th>\n",
       "      <th>signup_method</th>\n",
       "      <th>signup_flow</th>\n",
       "      <th>language</th>\n",
       "      <th>affiliate_channel</th>\n",
       "      <th>...</th>\n",
       "      <th>signup_app</th>\n",
       "      <th>first_device_type</th>\n",
       "      <th>first_browser</th>\n",
       "      <th>country_destination</th>\n",
       "      <th>date_created</th>\n",
       "      <th>year_created</th>\n",
       "      <th>month_created</th>\n",
       "      <th>year_first_booking</th>\n",
       "      <th>month_first_booking</th>\n",
       "      <th>days_to_first_booking</th>\n",
       "    </tr>\n",
       "    <tr>\n",
       "      <th>id</th>\n",
       "      <th></th>\n",
       "      <th></th>\n",
       "      <th></th>\n",
       "      <th></th>\n",
       "      <th></th>\n",
       "      <th></th>\n",
       "      <th></th>\n",
       "      <th></th>\n",
       "      <th></th>\n",
       "      <th></th>\n",
       "      <th></th>\n",
       "      <th></th>\n",
       "      <th></th>\n",
       "      <th></th>\n",
       "      <th></th>\n",
       "      <th></th>\n",
       "      <th></th>\n",
       "      <th></th>\n",
       "      <th></th>\n",
       "      <th></th>\n",
       "      <th></th>\n",
       "    </tr>\n",
       "  </thead>\n",
       "  <tbody>\n",
       "    <tr>\n",
       "      <th>t9e8wr7dsl</th>\n",
       "      <td>t9e8wr7dsl</td>\n",
       "      <td>2012-03-28</td>\n",
       "      <td>20120328191328</td>\n",
       "      <td>NaT</td>\n",
       "      <td>NaN</td>\n",
       "      <td>NaN</td>\n",
       "      <td>basic</td>\n",
       "      <td>1</td>\n",
       "      <td>en</td>\n",
       "      <td>direct</td>\n",
       "      <td>...</td>\n",
       "      <td>Web</td>\n",
       "      <td>Other/Unknown</td>\n",
       "      <td>-unknown-</td>\n",
       "      <td>NDF</td>\n",
       "      <td>2012-03-28</td>\n",
       "      <td>2012</td>\n",
       "      <td>3</td>\n",
       "      <td>NaN</td>\n",
       "      <td>NaN</td>\n",
       "      <td>NaT</td>\n",
       "    </tr>\n",
       "    <tr>\n",
       "      <th>dekuxqk9lk</th>\n",
       "      <td>dekuxqk9lk</td>\n",
       "      <td>2012-03-28</td>\n",
       "      <td>20120328194449</td>\n",
       "      <td>2012-04-02</td>\n",
       "      <td>FEMALE</td>\n",
       "      <td>30</td>\n",
       "      <td>facebook</td>\n",
       "      <td>0</td>\n",
       "      <td>en</td>\n",
       "      <td>direct</td>\n",
       "      <td>...</td>\n",
       "      <td>iOS</td>\n",
       "      <td>iPad</td>\n",
       "      <td>Mobile Safari</td>\n",
       "      <td>US</td>\n",
       "      <td>2012-03-28</td>\n",
       "      <td>2012</td>\n",
       "      <td>3</td>\n",
       "      <td>2012</td>\n",
       "      <td>4</td>\n",
       "      <td>5 days</td>\n",
       "    </tr>\n",
       "    <tr>\n",
       "      <th>dvsvhyf3od</th>\n",
       "      <td>dvsvhyf3od</td>\n",
       "      <td>2012-03-28</td>\n",
       "      <td>20120328195154</td>\n",
       "      <td>2012-04-10</td>\n",
       "      <td>FEMALE</td>\n",
       "      <td>27</td>\n",
       "      <td>basic</td>\n",
       "      <td>0</td>\n",
       "      <td>en</td>\n",
       "      <td>sem-brand</td>\n",
       "      <td>...</td>\n",
       "      <td>Web</td>\n",
       "      <td>Mac Desktop</td>\n",
       "      <td>Safari</td>\n",
       "      <td>US</td>\n",
       "      <td>2012-03-28</td>\n",
       "      <td>2012</td>\n",
       "      <td>3</td>\n",
       "      <td>2012</td>\n",
       "      <td>4</td>\n",
       "      <td>13 days</td>\n",
       "    </tr>\n",
       "    <tr>\n",
       "      <th>zusk44ltvs</th>\n",
       "      <td>zusk44ltvs</td>\n",
       "      <td>2012-03-28</td>\n",
       "      <td>20120328195655</td>\n",
       "      <td>2012-03-31</td>\n",
       "      <td>NaN</td>\n",
       "      <td>67</td>\n",
       "      <td>basic</td>\n",
       "      <td>0</td>\n",
       "      <td>en</td>\n",
       "      <td>sem-non-brand</td>\n",
       "      <td>...</td>\n",
       "      <td>Web</td>\n",
       "      <td>Mac Desktop</td>\n",
       "      <td>Firefox</td>\n",
       "      <td>FR</td>\n",
       "      <td>2012-03-28</td>\n",
       "      <td>2012</td>\n",
       "      <td>3</td>\n",
       "      <td>2012</td>\n",
       "      <td>3</td>\n",
       "      <td>3 days</td>\n",
       "    </tr>\n",
       "    <tr>\n",
       "      <th>4ci9oqtl8q</th>\n",
       "      <td>4ci9oqtl8q</td>\n",
       "      <td>2012-03-28</td>\n",
       "      <td>20120328200645</td>\n",
       "      <td>2012-04-02</td>\n",
       "      <td>MALE</td>\n",
       "      <td>34</td>\n",
       "      <td>facebook</td>\n",
       "      <td>0</td>\n",
       "      <td>en</td>\n",
       "      <td>sem-non-brand</td>\n",
       "      <td>...</td>\n",
       "      <td>Web</td>\n",
       "      <td>iPhone</td>\n",
       "      <td>Mobile Safari</td>\n",
       "      <td>US</td>\n",
       "      <td>2012-03-28</td>\n",
       "      <td>2012</td>\n",
       "      <td>3</td>\n",
       "      <td>2012</td>\n",
       "      <td>4</td>\n",
       "      <td>5 days</td>\n",
       "    </tr>\n",
       "  </tbody>\n",
       "</table>\n",
       "<p>5 rows × 22 columns</p>\n",
       "</div>"
      ],
      "text/plain": [
       "                    id date_account_created  timestamp_first_active  \\\n",
       "id                                                                    \n",
       "t9e8wr7dsl  t9e8wr7dsl           2012-03-28          20120328191328   \n",
       "dekuxqk9lk  dekuxqk9lk           2012-03-28          20120328194449   \n",
       "dvsvhyf3od  dvsvhyf3od           2012-03-28          20120328195154   \n",
       "zusk44ltvs  zusk44ltvs           2012-03-28          20120328195655   \n",
       "4ci9oqtl8q  4ci9oqtl8q           2012-03-28          20120328200645   \n",
       "\n",
       "           date_first_booking  gender  age signup_method  signup_flow  \\\n",
       "id                                                                      \n",
       "t9e8wr7dsl                NaT     NaN  NaN         basic            1   \n",
       "dekuxqk9lk         2012-04-02  FEMALE   30      facebook            0   \n",
       "dvsvhyf3od         2012-04-10  FEMALE   27         basic            0   \n",
       "zusk44ltvs         2012-03-31     NaN   67         basic            0   \n",
       "4ci9oqtl8q         2012-04-02    MALE   34      facebook            0   \n",
       "\n",
       "           language affiliate_channel          ...           signup_app  \\\n",
       "id                                             ...                        \n",
       "t9e8wr7dsl       en            direct          ...                  Web   \n",
       "dekuxqk9lk       en            direct          ...                  iOS   \n",
       "dvsvhyf3od       en         sem-brand          ...                  Web   \n",
       "zusk44ltvs       en     sem-non-brand          ...                  Web   \n",
       "4ci9oqtl8q       en     sem-non-brand          ...                  Web   \n",
       "\n",
       "           first_device_type  first_browser country_destination date_created  \\\n",
       "id                                                                             \n",
       "t9e8wr7dsl     Other/Unknown      -unknown-                 NDF   2012-03-28   \n",
       "dekuxqk9lk              iPad  Mobile Safari                  US   2012-03-28   \n",
       "dvsvhyf3od       Mac Desktop         Safari                  US   2012-03-28   \n",
       "zusk44ltvs       Mac Desktop        Firefox                  FR   2012-03-28   \n",
       "4ci9oqtl8q            iPhone  Mobile Safari                  US   2012-03-28   \n",
       "\n",
       "           year_created month_created  year_first_booking  \\\n",
       "id                                                          \n",
       "t9e8wr7dsl         2012             3                 NaN   \n",
       "dekuxqk9lk         2012             3                2012   \n",
       "dvsvhyf3od         2012             3                2012   \n",
       "zusk44ltvs         2012             3                2012   \n",
       "4ci9oqtl8q         2012             3                2012   \n",
       "\n",
       "            month_first_booking  days_to_first_booking  \n",
       "id                                                      \n",
       "t9e8wr7dsl                  NaN                    NaT  \n",
       "dekuxqk9lk                    4                 5 days  \n",
       "dvsvhyf3od                    4                13 days  \n",
       "zusk44ltvs                    3                 3 days  \n",
       "4ci9oqtl8q                    4                 5 days  \n",
       "\n",
       "[5 rows x 22 columns]"
      ]
     },
     "execution_count": 409,
     "metadata": {},
     "output_type": "execute_result"
    }
   ],
   "source": [
    "train_set.head()"
   ]
  },
  {
   "cell_type": "code",
   "execution_count": 410,
   "metadata": {
    "collapsed": false
   },
   "outputs": [
    {
     "data": {
      "text/plain": [
       "0 days      14385\n",
       "1 days      10027\n",
       "2 days       4416\n",
       "3 days       2729\n",
       "4 days       1984\n",
       "5 days       1540\n",
       "6 days       1235\n",
       "7 days       1154\n",
       "8 days        912\n",
       "9 days        734\n",
       "10 days       623\n",
       "11 days       557\n",
       "12 days       488\n",
       "13 days       474\n",
       "14 days       456\n",
       "15 days       404\n",
       "16 days       374\n",
       "17 days       308\n",
       "21 days       279\n",
       "19 days       277\n",
       "18 days       266\n",
       "20 days       262\n",
       "23 days       210\n",
       "29 days       205\n",
       "24 days       204\n",
       "28 days       204\n",
       "25 days       201\n",
       "22 days       198\n",
       "27 days       190\n",
       "30 days       167\n",
       "            ...  \n",
       "305 days       30\n",
       "201 days       30\n",
       "193 days       29\n",
       "275 days       29\n",
       "266 days       29\n",
       "311 days       28\n",
       "246 days       28\n",
       "180 days       27\n",
       "143 days       27\n",
       "288 days       27\n",
       "207 days       27\n",
       "321 days       26\n",
       "298 days       26\n",
       "319 days       26\n",
       "219 days       25\n",
       "251 days       25\n",
       "255 days       25\n",
       "242 days       25\n",
       "227 days       25\n",
       "363 days       24\n",
       "264 days       23\n",
       "252 days       23\n",
       "341 days       22\n",
       "300 days       19\n",
       "-85 days        1\n",
       "-11 days        1\n",
       "-3 days         1\n",
       "-18 days        1\n",
       "-39 days        1\n",
       "-95 days        1\n",
       "Name: days_to_first_booking, dtype: int64"
      ]
     },
     "execution_count": 410,
     "metadata": {},
     "output_type": "execute_result"
    }
   ],
   "source": [
    "train_set['days_to_first_booking'].value_counts()"
   ]
  },
  {
   "cell_type": "code",
   "execution_count": 411,
   "metadata": {
    "collapsed": false
   },
   "outputs": [],
   "source": [
    "train_set.loc[train_set['days_to_first_booking']<pd.Timedelta(0)\\\n",
    "              ,['days_to_first_booking']] = np.nan"
   ]
  },
  {
   "cell_type": "markdown",
   "metadata": {},
   "source": [
    "#### merge age buckets"
   ]
  },
  {
   "cell_type": "code",
   "execution_count": 412,
   "metadata": {
    "collapsed": false
   },
   "outputs": [
    {
     "data": {
      "text/html": [
       "<div>\n",
       "<table border=\"1\" class=\"dataframe\">\n",
       "  <thead>\n",
       "    <tr style=\"text-align: right;\">\n",
       "      <th></th>\n",
       "      <th>age_bucket</th>\n",
       "      <th>country_destination</th>\n",
       "      <th>gender</th>\n",
       "      <th>population_in_thousands</th>\n",
       "      <th>year</th>\n",
       "    </tr>\n",
       "  </thead>\n",
       "  <tbody>\n",
       "    <tr>\n",
       "      <th>0</th>\n",
       "      <td>100+</td>\n",
       "      <td>AU</td>\n",
       "      <td>male</td>\n",
       "      <td>1</td>\n",
       "      <td>2015</td>\n",
       "    </tr>\n",
       "    <tr>\n",
       "      <th>1</th>\n",
       "      <td>95-99</td>\n",
       "      <td>AU</td>\n",
       "      <td>male</td>\n",
       "      <td>9</td>\n",
       "      <td>2015</td>\n",
       "    </tr>\n",
       "    <tr>\n",
       "      <th>2</th>\n",
       "      <td>90-94</td>\n",
       "      <td>AU</td>\n",
       "      <td>male</td>\n",
       "      <td>47</td>\n",
       "      <td>2015</td>\n",
       "    </tr>\n",
       "    <tr>\n",
       "      <th>3</th>\n",
       "      <td>85-89</td>\n",
       "      <td>AU</td>\n",
       "      <td>male</td>\n",
       "      <td>118</td>\n",
       "      <td>2015</td>\n",
       "    </tr>\n",
       "    <tr>\n",
       "      <th>4</th>\n",
       "      <td>80-84</td>\n",
       "      <td>AU</td>\n",
       "      <td>male</td>\n",
       "      <td>199</td>\n",
       "      <td>2015</td>\n",
       "    </tr>\n",
       "  </tbody>\n",
       "</table>\n",
       "</div>"
      ],
      "text/plain": [
       "  age_bucket country_destination gender  population_in_thousands  year\n",
       "0       100+                  AU   male                        1  2015\n",
       "1      95-99                  AU   male                        9  2015\n",
       "2      90-94                  AU   male                       47  2015\n",
       "3      85-89                  AU   male                      118  2015\n",
       "4      80-84                  AU   male                      199  2015"
      ]
     },
     "execution_count": 412,
     "metadata": {},
     "output_type": "execute_result"
    }
   ],
   "source": [
    "age_buckets.head()"
   ]
  },
  {
   "cell_type": "code",
   "execution_count": 413,
   "metadata": {
    "collapsed": false
   },
   "outputs": [],
   "source": [
    "age_buckets['age_merge'] = (np.floor(\\\n",
    "                  np.array([int(re.split(r'[-+]',str(x))[0]) \\\n",
    "                  for x in age_buckets['age_bucket']]\\\n",
    "            )/10)*10).astype('int')"
   ]
  },
  {
   "cell_type": "code",
   "execution_count": 414,
   "metadata": {
    "collapsed": true
   },
   "outputs": [],
   "source": [
    "age_buckets.index = age_buckets['age_merge'].astype('string') \\\n",
    "            +'-'+age_buckets['country_destination'] \\\n",
    "            +'-'+age_buckets['gender'].str.lower()"
   ]
  },
  {
   "cell_type": "code",
   "execution_count": 415,
   "metadata": {
    "collapsed": false
   },
   "outputs": [],
   "source": [
    "for c in set(countries['country_destination']):\n",
    "    train_set['age_merge'+'-'+c] = (\n",
    "                        np.floor(\\\n",
    "                            train_set['age']/10)*10\\\n",
    "                        )\\\n",
    "                            .fillna(0)\\\n",
    "                            .astype('int')\\\n",
    "                            .astype('string') \\\n",
    "                        +'-'+c \\\n",
    "                        +'-'+train_set['gender'].str.lower()"
   ]
  },
  {
   "cell_type": "code",
   "execution_count": 416,
   "metadata": {
    "collapsed": false
   },
   "outputs": [],
   "source": [
    "age_buckets = age_buckets[[\n",
    "        'age_merge' \\\n",
    "        ,'country_destination' \\\n",
    "        ,'gender' \\\n",
    "        ,'population_in_thousands']] \\\n",
    "    .groupby(['age_merge','country_destination','gender']).sum()"
   ]
  },
  {
   "cell_type": "code",
   "execution_count": 417,
   "metadata": {
    "collapsed": false
   },
   "outputs": [],
   "source": [
    "age_buckets.index = pd.Series([ str(i[0])+'-'+i[1]+'-'+i[2] for i in age_buckets.index])"
   ]
  },
  {
   "cell_type": "code",
   "execution_count": 418,
   "metadata": {
    "collapsed": false
   },
   "outputs": [
    {
     "name": "stdout",
     "output_type": "stream",
     "text": [
      "(153219, 42)\n"
     ]
    }
   ],
   "source": [
    "for c in set(countries['country_destination']):\n",
    "    train_set = pd.merge(\n",
    "        train_set \\\n",
    "         , age_buckets \\\n",
    "         , left_on=['age_merge'+'-'+c] \\\n",
    "         , right_index=True \\\n",
    "         , how='outer' \\\n",
    "         , suffixes=(c,c)\n",
    "    )\n",
    "print(train_set.shape)"
   ]
  },
  {
   "cell_type": "code",
   "execution_count": 421,
   "metadata": {
    "collapsed": false
   },
   "outputs": [],
   "source": [
    "train_set = train_set.drop_duplicates(['id'])"
   ]
  },
  {
   "cell_type": "code",
   "execution_count": 422,
   "metadata": {
    "collapsed": false
   },
   "outputs": [],
   "source": [
    "train_set['population_estimate'] = 0\n",
    "for c in set(countries['country_destination']):\n",
    "    try:\n",
    "        train_set.loc[:,'population_estimate'] = \\\n",
    "            train_set.loc[:,'population_estimate']\\\n",
    "            +np.nansum(train_set.loc[:,'population_in_thousands'+c]\\\n",
    "                       ,axis=1)\n",
    "    except KeyError:\n",
    "        pass"
   ]
  },
  {
   "cell_type": "code",
   "execution_count": 427,
   "metadata": {
    "collapsed": false
   },
   "outputs": [
    {
     "name": "stdout",
     "output_type": "stream",
     "text": [
      "(151240, 17)\n"
     ]
    }
   ],
   "source": [
    "cols = [\n",
    " 'gender',\n",
    " 'age',\n",
    " 'signup_method',\n",
    " 'signup_flow',\n",
    " 'language',\n",
    " 'affiliate_channel',\n",
    " 'affiliate_provider',\n",
    " 'first_affiliate_tracked',\n",
    " 'signup_app',\n",
    " 'first_device_type',\n",
    " 'first_browser',\n",
    " 'year_created' ,\n",
    " 'month_created' ,\n",
    " 'year_first_booking' ,\n",
    " 'month_first_booking' ,\n",
    " 'days_to_first_booking',\n",
    " 'population_estimate'\n",
    "]\n",
    "print(train_set[cols].shape)"
   ]
  },
  {
   "cell_type": "markdown",
   "metadata": {},
   "source": [
    "#### Encode training set "
   ]
  },
  {
   "cell_type": "code",
   "execution_count": 428,
   "metadata": {
    "collapsed": false
   },
   "outputs": [
    {
     "data": {
      "text/html": [
       "<div>\n",
       "<table border=\"1\" class=\"dataframe\">\n",
       "  <thead>\n",
       "    <tr style=\"text-align: right;\">\n",
       "      <th></th>\n",
       "      <th>gender</th>\n",
       "      <th>age</th>\n",
       "      <th>signup_method</th>\n",
       "      <th>signup_flow</th>\n",
       "      <th>language</th>\n",
       "      <th>affiliate_channel</th>\n",
       "      <th>affiliate_provider</th>\n",
       "      <th>first_affiliate_tracked</th>\n",
       "      <th>signup_app</th>\n",
       "      <th>first_device_type</th>\n",
       "      <th>first_browser</th>\n",
       "      <th>year_created</th>\n",
       "      <th>month_created</th>\n",
       "      <th>year_first_booking</th>\n",
       "      <th>month_first_booking</th>\n",
       "      <th>days_to_first_booking</th>\n",
       "      <th>population_estimate</th>\n",
       "    </tr>\n",
       "    <tr>\n",
       "      <th>id</th>\n",
       "      <th></th>\n",
       "      <th></th>\n",
       "      <th></th>\n",
       "      <th></th>\n",
       "      <th></th>\n",
       "      <th></th>\n",
       "      <th></th>\n",
       "      <th></th>\n",
       "      <th></th>\n",
       "      <th></th>\n",
       "      <th></th>\n",
       "      <th></th>\n",
       "      <th></th>\n",
       "      <th></th>\n",
       "      <th></th>\n",
       "      <th></th>\n",
       "      <th></th>\n",
       "    </tr>\n",
       "  </thead>\n",
       "  <tbody>\n",
       "    <tr>\n",
       "      <th>t9e8wr7dsl</th>\n",
       "      <td>NaN</td>\n",
       "      <td>NaN</td>\n",
       "      <td>basic</td>\n",
       "      <td>1</td>\n",
       "      <td>en</td>\n",
       "      <td>direct</td>\n",
       "      <td>direct</td>\n",
       "      <td>NaN</td>\n",
       "      <td>Web</td>\n",
       "      <td>Other/Unknown</td>\n",
       "      <td>-unknown-</td>\n",
       "      <td>2012</td>\n",
       "      <td>3</td>\n",
       "      <td>NaN</td>\n",
       "      <td>NaN</td>\n",
       "      <td>NaT</td>\n",
       "      <td>0</td>\n",
       "    </tr>\n",
       "    <tr>\n",
       "      <th>zusk44ltvs</th>\n",
       "      <td>NaN</td>\n",
       "      <td>67</td>\n",
       "      <td>basic</td>\n",
       "      <td>0</td>\n",
       "      <td>en</td>\n",
       "      <td>sem-non-brand</td>\n",
       "      <td>google</td>\n",
       "      <td>omg</td>\n",
       "      <td>Web</td>\n",
       "      <td>Mac Desktop</td>\n",
       "      <td>Firefox</td>\n",
       "      <td>2012</td>\n",
       "      <td>3</td>\n",
       "      <td>2012</td>\n",
       "      <td>3</td>\n",
       "      <td>3 days</td>\n",
       "      <td>0</td>\n",
       "    </tr>\n",
       "    <tr>\n",
       "      <th>0n455wucwl</th>\n",
       "      <td>NaN</td>\n",
       "      <td>34</td>\n",
       "      <td>basic</td>\n",
       "      <td>0</td>\n",
       "      <td>en</td>\n",
       "      <td>direct</td>\n",
       "      <td>direct</td>\n",
       "      <td>untracked</td>\n",
       "      <td>Web</td>\n",
       "      <td>Mac Desktop</td>\n",
       "      <td>Firefox</td>\n",
       "      <td>2012</td>\n",
       "      <td>3</td>\n",
       "      <td>2012</td>\n",
       "      <td>3</td>\n",
       "      <td>3 days</td>\n",
       "      <td>0</td>\n",
       "    </tr>\n",
       "    <tr>\n",
       "      <th>8e07eppnbv</th>\n",
       "      <td>NaN</td>\n",
       "      <td>NaN</td>\n",
       "      <td>basic</td>\n",
       "      <td>0</td>\n",
       "      <td>en</td>\n",
       "      <td>direct</td>\n",
       "      <td>direct</td>\n",
       "      <td>untracked</td>\n",
       "      <td>Web</td>\n",
       "      <td>Windows Desktop</td>\n",
       "      <td>Chrome</td>\n",
       "      <td>2012</td>\n",
       "      <td>3</td>\n",
       "      <td>2012</td>\n",
       "      <td>4</td>\n",
       "      <td>10 days</td>\n",
       "      <td>0</td>\n",
       "    </tr>\n",
       "    <tr>\n",
       "      <th>qu1b3jfqm6</th>\n",
       "      <td>NaN</td>\n",
       "      <td>NaN</td>\n",
       "      <td>basic</td>\n",
       "      <td>0</td>\n",
       "      <td>en</td>\n",
       "      <td>other</td>\n",
       "      <td>craigslist</td>\n",
       "      <td>untracked</td>\n",
       "      <td>Web</td>\n",
       "      <td>Windows Desktop</td>\n",
       "      <td>Firefox</td>\n",
       "      <td>2012</td>\n",
       "      <td>3</td>\n",
       "      <td>2012</td>\n",
       "      <td>4</td>\n",
       "      <td>5 days</td>\n",
       "      <td>0</td>\n",
       "    </tr>\n",
       "  </tbody>\n",
       "</table>\n",
       "</div>"
      ],
      "text/plain": [
       "           gender  age signup_method  signup_flow language affiliate_channel  \\\n",
       "id                                                                             \n",
       "t9e8wr7dsl    NaN  NaN         basic            1       en            direct   \n",
       "zusk44ltvs    NaN   67         basic            0       en     sem-non-brand   \n",
       "0n455wucwl    NaN   34         basic            0       en            direct   \n",
       "8e07eppnbv    NaN  NaN         basic            0       en            direct   \n",
       "qu1b3jfqm6    NaN  NaN         basic            0       en             other   \n",
       "\n",
       "           affiliate_provider first_affiliate_tracked signup_app  \\\n",
       "id                                                                 \n",
       "t9e8wr7dsl             direct                     NaN        Web   \n",
       "zusk44ltvs             google                     omg        Web   \n",
       "0n455wucwl             direct               untracked        Web   \n",
       "8e07eppnbv             direct               untracked        Web   \n",
       "qu1b3jfqm6         craigslist               untracked        Web   \n",
       "\n",
       "           first_device_type first_browser  year_created  month_created  \\\n",
       "id                                                                        \n",
       "t9e8wr7dsl     Other/Unknown     -unknown-          2012              3   \n",
       "zusk44ltvs       Mac Desktop       Firefox          2012              3   \n",
       "0n455wucwl       Mac Desktop       Firefox          2012              3   \n",
       "8e07eppnbv   Windows Desktop        Chrome          2012              3   \n",
       "qu1b3jfqm6   Windows Desktop       Firefox          2012              3   \n",
       "\n",
       "            year_first_booking  month_first_booking  days_to_first_booking  \\\n",
       "id                                                                           \n",
       "t9e8wr7dsl                 NaN                  NaN                    NaT   \n",
       "zusk44ltvs                2012                    3                 3 days   \n",
       "0n455wucwl                2012                    3                 3 days   \n",
       "8e07eppnbv                2012                    4                10 days   \n",
       "qu1b3jfqm6                2012                    4                 5 days   \n",
       "\n",
       "            population_estimate  \n",
       "id                               \n",
       "t9e8wr7dsl                    0  \n",
       "zusk44ltvs                    0  \n",
       "0n455wucwl                    0  \n",
       "8e07eppnbv                    0  \n",
       "qu1b3jfqm6                    0  "
      ]
     },
     "execution_count": 428,
     "metadata": {},
     "output_type": "execute_result"
    }
   ],
   "source": [
    "train_set[cols].head()"
   ]
  },
  {
   "cell_type": "code",
   "execution_count": 429,
   "metadata": {
    "collapsed": false
   },
   "outputs": [],
   "source": [
    "mcl2 = MultiColumnLabelEncoder()\n",
    "ohe2 = OneHotEncoder()\n",
    "ss = StandardScaler(with_mean=False)\n",
    "ii = Imputer(strategy='most_frequent')\n",
    "p = Pipeline([('mcl',mcl2),('ii',ii), ('ohe',ohe2),('ss', ss)])\n",
    "train_set_new = p.fit_transform(train_set[cols])"
   ]
  },
  {
   "cell_type": "code",
   "execution_count": 430,
   "metadata": {
    "collapsed": false
   },
   "outputs": [
    {
     "name": "stdout",
     "output_type": "stream",
     "text": [
      "(151240, 665)\n"
     ]
    }
   ],
   "source": [
    "print(train_set_new[:,:].shape)"
   ]
  },
  {
   "cell_type": "code",
   "execution_count": 439,
   "metadata": {
    "collapsed": false
   },
   "outputs": [
    {
     "name": "stdout",
     "output_type": "stream",
     "text": [
      "(151240,)\n"
     ]
    }
   ],
   "source": [
    "train_target = train_set['country_destination'].fillna('unknown')\n",
    "print(train_target.shape)"
   ]
  },
  {
   "cell_type": "code",
   "execution_count": 441,
   "metadata": {
    "collapsed": false
   },
   "outputs": [
    {
     "name": "stderr",
     "output_type": "stream",
     "text": [
      "/Library/Python/2.7/site-packages/sklearn/discriminant_analysis.py:387: UserWarning: Variables are collinear.\n",
      "  warnings.warn(\"Variables are collinear.\")\n"
     ]
    }
   ],
   "source": [
    "lda = LDA()\n",
    "l = lda.fit_transform(train_set_new.toarray(), np.array(train_target))"
   ]
  },
  {
   "cell_type": "code",
   "execution_count": 443,
   "metadata": {
    "collapsed": false
   },
   "outputs": [
    {
     "data": {
      "text/plain": [
       "(151240, 12)"
      ]
     },
     "execution_count": 443,
     "metadata": {},
     "output_type": "execute_result"
    }
   ],
   "source": [
    "l.shape"
   ]
  },
  {
   "cell_type": "markdown",
   "metadata": {},
   "source": [
    "### Test prediction model "
   ]
  }
 ],
 "metadata": {
  "kernelspec": {
   "display_name": "Python 2",
   "language": "python",
   "name": "python2"
  },
  "language_info": {
   "codemirror_mode": {
    "name": "ipython",
    "version": 2
   },
   "file_extension": ".py",
   "mimetype": "text/x-python",
   "name": "python",
   "nbconvert_exporter": "python",
   "pygments_lexer": "ipython2",
   "version": "2.7.10"
  }
 },
 "nbformat": 4,
 "nbformat_minor": 0
}
