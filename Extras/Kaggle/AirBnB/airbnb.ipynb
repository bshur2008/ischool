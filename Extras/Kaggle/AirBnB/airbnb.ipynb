{
 "cells": [
  {
   "cell_type": "markdown",
   "metadata": {},
   "source": [
    "AirBnB recruiting kaggle\n",
    "------\n",
    "\n",
    "https://www.kaggle.com/c/airbnb-recruiting-new-user-bookings"
   ]
  },
  {
   "cell_type": "markdown",
   "metadata": {},
   "source": [
    "## Load libraries"
   ]
  },
  {
   "cell_type": "code",
   "execution_count": 79,
   "metadata": {
    "collapsed": false
   },
   "outputs": [],
   "source": [
    "import pandas as pd\n",
    "import numpy as np\n",
    "from sklearn.preprocessing import OneHotEncoder, LabelEncoder\n",
    "from sklearn.discriminant_analysis import LinearDiscriminantAnalysis as LDA"
   ]
  },
  {
   "cell_type": "code",
   "execution_count": 16,
   "metadata": {
    "collapsed": true
   },
   "outputs": [],
   "source": [
    "class MultiColumnLabelEncoder:\n",
    "    ''' Create a class that encodes\n",
    "        labels for a matrix of data\n",
    "    '''\n",
    "    def __init__(self, columns = None):\n",
    "        self.columns = columns # array of column names to encode\n",
    "\n",
    "    def fit(self,X,y=None):\n",
    "        return self # not relevant here\n",
    "    \n",
    "    def get_params(self, deep=True):\n",
    "        out = dict()\n",
    "        if self.columns: out['columns'] = columns\n",
    "        return out\n",
    "\n",
    "    def transform(self,X):\n",
    "        '''\n",
    "        Transforms columns of X specified in self.columns using\n",
    "        LabelEncoder(). \n",
    "        '''\n",
    "        numerics = [np.float16, np.float32, np.float64]\n",
    "        ints = [np.int16, np.int32, np.int64]\n",
    "        output = X.copy()\n",
    "        '''\n",
    "        if self.columns is not None:\n",
    "            for col in self.columns:\n",
    "                if col.dtype not in numerics+ints:\n",
    "                    output[col] = LabelEncoder().fit_transform(output[col])\n",
    "                elif col.dtype not in ints:\n",
    "                    output[col] = scale(output[col])\n",
    "        else:\n",
    "        '''\n",
    "        try:\n",
    "            for colname,col in output.iteritems():\n",
    "                if col.dtype not in numerics+ints:\n",
    "                    # Turn text columns into ints\n",
    "                    output[colname] = LabelEncoder().fit_transform(output[colname])\n",
    "                elif col.dtype in numerics:\n",
    "                    # handle floats with scaling\n",
    "                    # output[colname] = scale(output[colname])\n",
    "                    pass \n",
    "                elif col.dtype in ints:\n",
    "                    pass # leave integers alone\n",
    "        except:\n",
    "            output = LabelEncoder().fit_transform(output)\n",
    "        return output\n",
    "\n",
    "    def fit_transform(self,X,y=None):\n",
    "        return self.fit(X,y).transform(X)"
   ]
  },
  {
   "cell_type": "markdown",
   "metadata": {},
   "source": [
    "## Declare Args"
   ]
  },
  {
   "cell_type": "code",
   "execution_count": 17,
   "metadata": {
    "collapsed": true
   },
   "outputs": [],
   "source": [
    "## Files ## \n",
    "AGE_GENDER_BUCKETS_FILE = 'Data/age_gender_bkts.csv'\n",
    "COUNTRIES_FILE = 'Data/countries.csv'\n",
    "SAMPLE_SUBMISSION_FILE = 'Data/sample_submission.csv'\n",
    "SESSIONS_FILE = 'Data/sessions.csv'\n",
    "TEST_DATA_FINAL_FILE = 'Data/test_users.csv'\n",
    "TRAIN_DATA_FILE = 'Data/train_users.csv'\n",
    "\n",
    "## Model args ##\n",
    "TEST_N = 20000\n",
    "\n",
    "## Fields ## \n",
    "USER_COLUMNS = ['id',\n",
    " 'date_account_created',\n",
    " 'timestamp_first_active',\n",
    " 'date_first_booking',\n",
    " 'gender',\n",
    " 'age',\n",
    " 'signup_method',\n",
    " 'signup_flow',\n",
    " 'language',\n",
    " 'affiliate_channel',\n",
    " 'affiliate_provider',\n",
    " 'first_affiliate_tracked',\n",
    " 'signup_app',\n",
    " 'first_device_type',\n",
    " 'first_browser']\n",
    "TARGET_COLUMN = ['country_destination']\n",
    "\n",
    "SESSION_COLUMNS = ['user_id',\n",
    " 'action',\n",
    " 'action_type',\n",
    " 'action_detail',\n",
    " 'device_type',\n",
    " 'secs_elapsed']\n",
    "\n",
    "AGE_BUCKET_COLUMNS = ['age_bucket',\n",
    " 'country_destination',\n",
    " 'gender',\n",
    " 'population_in_thousands',\n",
    " 'year']"
   ]
  },
  {
   "cell_type": "markdown",
   "metadata": {},
   "source": [
    "## Read data\n"
   ]
  },
  {
   "cell_type": "code",
   "execution_count": 180,
   "metadata": {
    "collapsed": false
   },
   "outputs": [],
   "source": [
    "## Read user data ## \n",
    "train_full = pd.read_csv(TRAIN_DATA_FILE)\n",
    "train_set, train_target = train_full[TEST_N:][USER_COLUMNS],\\\n",
    "    train_full[TEST_N:][TARGET_COLUMN]\n",
    "test_set, test_target = train_full[:TEST_N][USER_COLUMNS],\\\n",
    "    train_full[:TEST_N][TARGET_COLUMN]\n",
    "\n",
    "## Read session data ##\n",
    "sessions = pd.read_csv(SESSIONS_FILE)\n",
    "\n",
    "## Read supplemental datasets ## \n",
    "countries = pd.read_csv(COUNTRIES_FILE)\n",
    "age_buckets = pd.read_csv(AGE_GENDER_BUCKETS_FILE)"
   ]
  },
  {
   "cell_type": "markdown",
   "metadata": {},
   "source": [
    "## Explore data"
   ]
  },
  {
   "cell_type": "markdown",
   "metadata": {},
   "source": [
    "#### Sessions"
   ]
  },
  {
   "cell_type": "code",
   "execution_count": 19,
   "metadata": {
    "collapsed": false
   },
   "outputs": [
    {
     "data": {
      "text/plain": [
       "(5600850, 6)"
      ]
     },
     "execution_count": 19,
     "metadata": {},
     "output_type": "execute_result"
    }
   ],
   "source": [
    "sessions.shape"
   ]
  },
  {
   "cell_type": "code",
   "execution_count": 20,
   "metadata": {
    "collapsed": false
   },
   "outputs": [
    {
     "data": {
      "text/html": [
       "<div>\n",
       "<table border=\"1\" class=\"dataframe\">\n",
       "  <thead>\n",
       "    <tr style=\"text-align: right;\">\n",
       "      <th></th>\n",
       "      <th>user_id</th>\n",
       "      <th>action</th>\n",
       "      <th>action_type</th>\n",
       "      <th>action_detail</th>\n",
       "      <th>device_type</th>\n",
       "      <th>secs_elapsed</th>\n",
       "    </tr>\n",
       "  </thead>\n",
       "  <tbody>\n",
       "    <tr>\n",
       "      <th>0</th>\n",
       "      <td>ailzdefy6o</td>\n",
       "      <td>similar_listings</td>\n",
       "      <td>data</td>\n",
       "      <td>similar_listings</td>\n",
       "      <td>Windows Desktop</td>\n",
       "      <td>255</td>\n",
       "    </tr>\n",
       "    <tr>\n",
       "      <th>1</th>\n",
       "      <td>ailzdefy6o</td>\n",
       "      <td>similar_listings</td>\n",
       "      <td>data</td>\n",
       "      <td>similar_listings</td>\n",
       "      <td>Windows Desktop</td>\n",
       "      <td>183</td>\n",
       "    </tr>\n",
       "    <tr>\n",
       "      <th>2</th>\n",
       "      <td>ailzdefy6o</td>\n",
       "      <td>ajax_refresh_subtotal</td>\n",
       "      <td>click</td>\n",
       "      <td>change_trip_characteristics</td>\n",
       "      <td>Windows Desktop</td>\n",
       "      <td>175570</td>\n",
       "    </tr>\n",
       "    <tr>\n",
       "      <th>3</th>\n",
       "      <td>ailzdefy6o</td>\n",
       "      <td>show</td>\n",
       "      <td>NaN</td>\n",
       "      <td>NaN</td>\n",
       "      <td>Windows Desktop</td>\n",
       "      <td>86</td>\n",
       "    </tr>\n",
       "    <tr>\n",
       "      <th>4</th>\n",
       "      <td>ailzdefy6o</td>\n",
       "      <td>personalize</td>\n",
       "      <td>data</td>\n",
       "      <td>wishlist_content_update</td>\n",
       "      <td>Windows Desktop</td>\n",
       "      <td>1535</td>\n",
       "    </tr>\n",
       "  </tbody>\n",
       "</table>\n",
       "</div>"
      ],
      "text/plain": [
       "      user_id                 action action_type                action_detail  \\\n",
       "0  ailzdefy6o       similar_listings        data             similar_listings   \n",
       "1  ailzdefy6o       similar_listings        data             similar_listings   \n",
       "2  ailzdefy6o  ajax_refresh_subtotal       click  change_trip_characteristics   \n",
       "3  ailzdefy6o                   show         NaN                          NaN   \n",
       "4  ailzdefy6o            personalize        data      wishlist_content_update   \n",
       "\n",
       "       device_type  secs_elapsed  \n",
       "0  Windows Desktop           255  \n",
       "1  Windows Desktop           183  \n",
       "2  Windows Desktop        175570  \n",
       "3  Windows Desktop            86  \n",
       "4  Windows Desktop          1535  "
      ]
     },
     "execution_count": 20,
     "metadata": {},
     "output_type": "execute_result"
    }
   ],
   "source": [
    "sessions.head()"
   ]
  },
  {
   "cell_type": "code",
   "execution_count": 21,
   "metadata": {
    "collapsed": false
   },
   "outputs": [],
   "source": [
    "cf = ['action','action_type','action_detail','device_type']\n",
    "s = sessions[cf].copy().fillna('missing')\n",
    "mcl = MultiColumnLabelEncoder()\n",
    "ohe = OneHotEncoder()\n",
    "x = ohe.fit_transform(\n",
    "    mcl.fit_transform(s)\n",
    ").todense()"
   ]
  },
  {
   "cell_type": "code",
   "execution_count": 22,
   "metadata": {
    "collapsed": false
   },
   "outputs": [
    {
     "ename": "KeyError",
     "evalue": "0",
     "output_type": "error",
     "traceback": [
      "\u001b[0;31m---------------------------------------------------------------------------\u001b[0m",
      "\u001b[0;31mKeyError\u001b[0m                                  Traceback (most recent call last)",
      "\u001b[0;32m<ipython-input-22-ac8ca68d844c>\u001b[0m in \u001b[0;36m<module>\u001b[0;34m()\u001b[0m\n\u001b[1;32m     18\u001b[0m     \u001b[0mo\u001b[0m\u001b[0;34m.\u001b[0m\u001b[0mappend\u001b[0m\u001b[0;34m(\u001b[0m\u001b[0msessions_grouped\u001b[0m\u001b[0;34m)\u001b[0m\u001b[0;34m\u001b[0m\u001b[0m\n\u001b[1;32m     19\u001b[0m \u001b[0;34m\u001b[0m\u001b[0m\n\u001b[0;32m---> 20\u001b[0;31m \u001b[0msessions_new\u001b[0m \u001b[0;34m=\u001b[0m \u001b[0mpd\u001b[0m\u001b[0;34m.\u001b[0m\u001b[0mconcat\u001b[0m\u001b[0;34m(\u001b[0m\u001b[0mo\u001b[0m\u001b[0;34m)\u001b[0m\u001b[0;34m.\u001b[0m\u001b[0mgroupby\u001b[0m\u001b[0;34m(\u001b[0m\u001b[0;34m[\u001b[0m\u001b[0;36m0\u001b[0m\u001b[0;34m]\u001b[0m\u001b[0;34m)\u001b[0m\u001b[0;34m.\u001b[0m\u001b[0msum\u001b[0m\u001b[0;34m(\u001b[0m\u001b[0;34m)\u001b[0m\u001b[0;34m\u001b[0m\u001b[0m\n\u001b[0m",
      "\u001b[0;32m/Library/Python/2.7/site-packages/pandas/core/generic.pyc\u001b[0m in \u001b[0;36mgroupby\u001b[0;34m(self, by, axis, level, as_index, sort, group_keys, squeeze)\u001b[0m\n\u001b[1;32m   3434\u001b[0m         \u001b[0maxis\u001b[0m \u001b[0;34m=\u001b[0m \u001b[0mself\u001b[0m\u001b[0;34m.\u001b[0m\u001b[0m_get_axis_number\u001b[0m\u001b[0;34m(\u001b[0m\u001b[0maxis\u001b[0m\u001b[0;34m)\u001b[0m\u001b[0;34m\u001b[0m\u001b[0m\n\u001b[1;32m   3435\u001b[0m         return groupby(self, by=by, axis=axis, level=level, as_index=as_index,\n\u001b[0;32m-> 3436\u001b[0;31m                        sort=sort, group_keys=group_keys, squeeze=squeeze)\n\u001b[0m\u001b[1;32m   3437\u001b[0m \u001b[0;34m\u001b[0m\u001b[0m\n\u001b[1;32m   3438\u001b[0m     \u001b[0;32mdef\u001b[0m \u001b[0masfreq\u001b[0m\u001b[0;34m(\u001b[0m\u001b[0mself\u001b[0m\u001b[0;34m,\u001b[0m \u001b[0mfreq\u001b[0m\u001b[0;34m,\u001b[0m \u001b[0mmethod\u001b[0m\u001b[0;34m=\u001b[0m\u001b[0mNone\u001b[0m\u001b[0;34m,\u001b[0m \u001b[0mhow\u001b[0m\u001b[0;34m=\u001b[0m\u001b[0mNone\u001b[0m\u001b[0;34m,\u001b[0m \u001b[0mnormalize\u001b[0m\u001b[0;34m=\u001b[0m\u001b[0mFalse\u001b[0m\u001b[0;34m)\u001b[0m\u001b[0;34m:\u001b[0m\u001b[0;34m\u001b[0m\u001b[0m\n",
      "\u001b[0;32m/Library/Python/2.7/site-packages/pandas/core/groupby.pyc\u001b[0m in \u001b[0;36mgroupby\u001b[0;34m(obj, by, **kwds)\u001b[0m\n\u001b[1;32m   1309\u001b[0m         \u001b[0;32mraise\u001b[0m \u001b[0mTypeError\u001b[0m\u001b[0;34m(\u001b[0m\u001b[0;34m'invalid type: %s'\u001b[0m \u001b[0;34m%\u001b[0m \u001b[0mtype\u001b[0m\u001b[0;34m(\u001b[0m\u001b[0mobj\u001b[0m\u001b[0;34m)\u001b[0m\u001b[0;34m)\u001b[0m\u001b[0;34m\u001b[0m\u001b[0m\n\u001b[1;32m   1310\u001b[0m \u001b[0;34m\u001b[0m\u001b[0m\n\u001b[0;32m-> 1311\u001b[0;31m     \u001b[0;32mreturn\u001b[0m \u001b[0mklass\u001b[0m\u001b[0;34m(\u001b[0m\u001b[0mobj\u001b[0m\u001b[0;34m,\u001b[0m \u001b[0mby\u001b[0m\u001b[0;34m,\u001b[0m \u001b[0;34m**\u001b[0m\u001b[0mkwds\u001b[0m\u001b[0;34m)\u001b[0m\u001b[0;34m\u001b[0m\u001b[0m\n\u001b[0m\u001b[1;32m   1312\u001b[0m \u001b[0;34m\u001b[0m\u001b[0m\n\u001b[1;32m   1313\u001b[0m \u001b[0;34m\u001b[0m\u001b[0m\n",
      "\u001b[0;32m/Library/Python/2.7/site-packages/pandas/core/groupby.pyc\u001b[0m in \u001b[0;36m__init__\u001b[0;34m(self, obj, keys, axis, level, grouper, exclusions, selection, as_index, sort, group_keys, squeeze)\u001b[0m\n\u001b[1;32m    416\u001b[0m         \u001b[0;32mif\u001b[0m \u001b[0mgrouper\u001b[0m \u001b[0;32mis\u001b[0m \u001b[0mNone\u001b[0m\u001b[0;34m:\u001b[0m\u001b[0;34m\u001b[0m\u001b[0m\n\u001b[1;32m    417\u001b[0m             grouper, exclusions, obj = _get_grouper(obj, keys, axis=axis,\n\u001b[0;32m--> 418\u001b[0;31m                                                     level=level, sort=sort)\n\u001b[0m\u001b[1;32m    419\u001b[0m \u001b[0;34m\u001b[0m\u001b[0m\n\u001b[1;32m    420\u001b[0m         \u001b[0mself\u001b[0m\u001b[0;34m.\u001b[0m\u001b[0mobj\u001b[0m \u001b[0;34m=\u001b[0m \u001b[0mobj\u001b[0m\u001b[0;34m\u001b[0m\u001b[0m\n",
      "\u001b[0;32m/Library/Python/2.7/site-packages/pandas/core/groupby.pyc\u001b[0m in \u001b[0;36m_get_grouper\u001b[0;34m(obj, key, axis, level, sort)\u001b[0m\n\u001b[1;32m   2262\u001b[0m \u001b[0;34m\u001b[0m\u001b[0m\n\u001b[1;32m   2263\u001b[0m         \u001b[0;32melif\u001b[0m \u001b[0mis_in_axis\u001b[0m\u001b[0;34m(\u001b[0m\u001b[0mgpr\u001b[0m\u001b[0;34m)\u001b[0m\u001b[0;34m:\u001b[0m  \u001b[0;31m# df.groupby('name')\u001b[0m\u001b[0;34m\u001b[0m\u001b[0m\n\u001b[0;32m-> 2264\u001b[0;31m             \u001b[0min_axis\u001b[0m\u001b[0;34m,\u001b[0m \u001b[0mname\u001b[0m\u001b[0;34m,\u001b[0m \u001b[0mgpr\u001b[0m \u001b[0;34m=\u001b[0m \u001b[0mTrue\u001b[0m\u001b[0;34m,\u001b[0m \u001b[0mgpr\u001b[0m\u001b[0;34m,\u001b[0m \u001b[0mobj\u001b[0m\u001b[0;34m[\u001b[0m\u001b[0mgpr\u001b[0m\u001b[0;34m]\u001b[0m\u001b[0;34m\u001b[0m\u001b[0m\n\u001b[0m\u001b[1;32m   2265\u001b[0m             \u001b[0mexclusions\u001b[0m\u001b[0;34m.\u001b[0m\u001b[0mappend\u001b[0m\u001b[0;34m(\u001b[0m\u001b[0mname\u001b[0m\u001b[0;34m)\u001b[0m\u001b[0;34m\u001b[0m\u001b[0m\n\u001b[1;32m   2266\u001b[0m \u001b[0;34m\u001b[0m\u001b[0m\n",
      "\u001b[0;32m/Library/Python/2.7/site-packages/pandas/core/frame.pyc\u001b[0m in \u001b[0;36m__getitem__\u001b[0;34m(self, key)\u001b[0m\n\u001b[1;32m   1967\u001b[0m             \u001b[0;32mreturn\u001b[0m \u001b[0mself\u001b[0m\u001b[0;34m.\u001b[0m\u001b[0m_getitem_multilevel\u001b[0m\u001b[0;34m(\u001b[0m\u001b[0mkey\u001b[0m\u001b[0;34m)\u001b[0m\u001b[0;34m\u001b[0m\u001b[0m\n\u001b[1;32m   1968\u001b[0m         \u001b[0;32melse\u001b[0m\u001b[0;34m:\u001b[0m\u001b[0;34m\u001b[0m\u001b[0m\n\u001b[0;32m-> 1969\u001b[0;31m             \u001b[0;32mreturn\u001b[0m \u001b[0mself\u001b[0m\u001b[0;34m.\u001b[0m\u001b[0m_getitem_column\u001b[0m\u001b[0;34m(\u001b[0m\u001b[0mkey\u001b[0m\u001b[0;34m)\u001b[0m\u001b[0;34m\u001b[0m\u001b[0m\n\u001b[0m\u001b[1;32m   1970\u001b[0m \u001b[0;34m\u001b[0m\u001b[0m\n\u001b[1;32m   1971\u001b[0m     \u001b[0;32mdef\u001b[0m \u001b[0m_getitem_column\u001b[0m\u001b[0;34m(\u001b[0m\u001b[0mself\u001b[0m\u001b[0;34m,\u001b[0m \u001b[0mkey\u001b[0m\u001b[0;34m)\u001b[0m\u001b[0;34m:\u001b[0m\u001b[0;34m\u001b[0m\u001b[0m\n",
      "\u001b[0;32m/Library/Python/2.7/site-packages/pandas/core/frame.pyc\u001b[0m in \u001b[0;36m_getitem_column\u001b[0;34m(self, key)\u001b[0m\n\u001b[1;32m   1974\u001b[0m         \u001b[0;31m# get column\u001b[0m\u001b[0;34m\u001b[0m\u001b[0;34m\u001b[0m\u001b[0m\n\u001b[1;32m   1975\u001b[0m         \u001b[0;32mif\u001b[0m \u001b[0mself\u001b[0m\u001b[0;34m.\u001b[0m\u001b[0mcolumns\u001b[0m\u001b[0;34m.\u001b[0m\u001b[0mis_unique\u001b[0m\u001b[0;34m:\u001b[0m\u001b[0;34m\u001b[0m\u001b[0m\n\u001b[0;32m-> 1976\u001b[0;31m             \u001b[0;32mreturn\u001b[0m \u001b[0mself\u001b[0m\u001b[0;34m.\u001b[0m\u001b[0m_get_item_cache\u001b[0m\u001b[0;34m(\u001b[0m\u001b[0mkey\u001b[0m\u001b[0;34m)\u001b[0m\u001b[0;34m\u001b[0m\u001b[0m\n\u001b[0m\u001b[1;32m   1977\u001b[0m \u001b[0;34m\u001b[0m\u001b[0m\n\u001b[1;32m   1978\u001b[0m         \u001b[0;31m# duplicate columns & possible reduce dimensionality\u001b[0m\u001b[0;34m\u001b[0m\u001b[0;34m\u001b[0m\u001b[0m\n",
      "\u001b[0;32m/Library/Python/2.7/site-packages/pandas/core/generic.pyc\u001b[0m in \u001b[0;36m_get_item_cache\u001b[0;34m(self, item)\u001b[0m\n\u001b[1;32m   1089\u001b[0m         \u001b[0mres\u001b[0m \u001b[0;34m=\u001b[0m \u001b[0mcache\u001b[0m\u001b[0;34m.\u001b[0m\u001b[0mget\u001b[0m\u001b[0;34m(\u001b[0m\u001b[0mitem\u001b[0m\u001b[0;34m)\u001b[0m\u001b[0;34m\u001b[0m\u001b[0m\n\u001b[1;32m   1090\u001b[0m         \u001b[0;32mif\u001b[0m \u001b[0mres\u001b[0m \u001b[0;32mis\u001b[0m \u001b[0mNone\u001b[0m\u001b[0;34m:\u001b[0m\u001b[0;34m\u001b[0m\u001b[0m\n\u001b[0;32m-> 1091\u001b[0;31m             \u001b[0mvalues\u001b[0m \u001b[0;34m=\u001b[0m \u001b[0mself\u001b[0m\u001b[0;34m.\u001b[0m\u001b[0m_data\u001b[0m\u001b[0;34m.\u001b[0m\u001b[0mget\u001b[0m\u001b[0;34m(\u001b[0m\u001b[0mitem\u001b[0m\u001b[0;34m)\u001b[0m\u001b[0;34m\u001b[0m\u001b[0m\n\u001b[0m\u001b[1;32m   1092\u001b[0m             \u001b[0mres\u001b[0m \u001b[0;34m=\u001b[0m \u001b[0mself\u001b[0m\u001b[0;34m.\u001b[0m\u001b[0m_box_item_values\u001b[0m\u001b[0;34m(\u001b[0m\u001b[0mitem\u001b[0m\u001b[0;34m,\u001b[0m \u001b[0mvalues\u001b[0m\u001b[0;34m)\u001b[0m\u001b[0;34m\u001b[0m\u001b[0m\n\u001b[1;32m   1093\u001b[0m             \u001b[0mcache\u001b[0m\u001b[0;34m[\u001b[0m\u001b[0mitem\u001b[0m\u001b[0;34m]\u001b[0m \u001b[0;34m=\u001b[0m \u001b[0mres\u001b[0m\u001b[0;34m\u001b[0m\u001b[0m\n",
      "\u001b[0;32m/Library/Python/2.7/site-packages/pandas/core/internals.pyc\u001b[0m in \u001b[0;36mget\u001b[0;34m(self, item, fastpath)\u001b[0m\n\u001b[1;32m   3209\u001b[0m \u001b[0;34m\u001b[0m\u001b[0m\n\u001b[1;32m   3210\u001b[0m             \u001b[0;32mif\u001b[0m \u001b[0;32mnot\u001b[0m \u001b[0misnull\u001b[0m\u001b[0;34m(\u001b[0m\u001b[0mitem\u001b[0m\u001b[0;34m)\u001b[0m\u001b[0;34m:\u001b[0m\u001b[0;34m\u001b[0m\u001b[0m\n\u001b[0;32m-> 3211\u001b[0;31m                 \u001b[0mloc\u001b[0m \u001b[0;34m=\u001b[0m \u001b[0mself\u001b[0m\u001b[0;34m.\u001b[0m\u001b[0mitems\u001b[0m\u001b[0;34m.\u001b[0m\u001b[0mget_loc\u001b[0m\u001b[0;34m(\u001b[0m\u001b[0mitem\u001b[0m\u001b[0;34m)\u001b[0m\u001b[0;34m\u001b[0m\u001b[0m\n\u001b[0m\u001b[1;32m   3212\u001b[0m             \u001b[0;32melse\u001b[0m\u001b[0;34m:\u001b[0m\u001b[0;34m\u001b[0m\u001b[0m\n\u001b[1;32m   3213\u001b[0m                 \u001b[0mindexer\u001b[0m \u001b[0;34m=\u001b[0m \u001b[0mnp\u001b[0m\u001b[0;34m.\u001b[0m\u001b[0marange\u001b[0m\u001b[0;34m(\u001b[0m\u001b[0mlen\u001b[0m\u001b[0;34m(\u001b[0m\u001b[0mself\u001b[0m\u001b[0;34m.\u001b[0m\u001b[0mitems\u001b[0m\u001b[0;34m)\u001b[0m\u001b[0;34m)\u001b[0m\u001b[0;34m[\u001b[0m\u001b[0misnull\u001b[0m\u001b[0;34m(\u001b[0m\u001b[0mself\u001b[0m\u001b[0;34m.\u001b[0m\u001b[0mitems\u001b[0m\u001b[0;34m)\u001b[0m\u001b[0;34m]\u001b[0m\u001b[0;34m\u001b[0m\u001b[0m\n",
      "\u001b[0;32m/Library/Python/2.7/site-packages/pandas/core/index.pyc\u001b[0m in \u001b[0;36mget_loc\u001b[0;34m(self, key, method, tolerance)\u001b[0m\n\u001b[1;32m   1757\u001b[0m                                  'backfill or nearest lookups')\n\u001b[1;32m   1758\u001b[0m             \u001b[0mkey\u001b[0m \u001b[0;34m=\u001b[0m \u001b[0m_values_from_object\u001b[0m\u001b[0;34m(\u001b[0m\u001b[0mkey\u001b[0m\u001b[0;34m)\u001b[0m\u001b[0;34m\u001b[0m\u001b[0m\n\u001b[0;32m-> 1759\u001b[0;31m             \u001b[0;32mreturn\u001b[0m \u001b[0mself\u001b[0m\u001b[0;34m.\u001b[0m\u001b[0m_engine\u001b[0m\u001b[0;34m.\u001b[0m\u001b[0mget_loc\u001b[0m\u001b[0;34m(\u001b[0m\u001b[0mkey\u001b[0m\u001b[0;34m)\u001b[0m\u001b[0;34m\u001b[0m\u001b[0m\n\u001b[0m\u001b[1;32m   1760\u001b[0m \u001b[0;34m\u001b[0m\u001b[0m\n\u001b[1;32m   1761\u001b[0m         indexer = self.get_indexer([key], method=method,\n",
      "\u001b[0;32mpandas/index.pyx\u001b[0m in \u001b[0;36mpandas.index.IndexEngine.get_loc (pandas/index.c:3979)\u001b[0;34m()\u001b[0m\n",
      "\u001b[0;32mpandas/index.pyx\u001b[0m in \u001b[0;36mpandas.index.IndexEngine.get_loc (pandas/index.c:3843)\u001b[0;34m()\u001b[0m\n",
      "\u001b[0;32mpandas/hashtable.pyx\u001b[0m in \u001b[0;36mpandas.hashtable.Int64HashTable.get_item (pandas/hashtable.c:6525)\u001b[0;34m()\u001b[0m\n",
      "\u001b[0;32mpandas/hashtable.pyx\u001b[0m in \u001b[0;36mpandas.hashtable.Int64HashTable.get_item (pandas/hashtable.c:6463)\u001b[0;34m()\u001b[0m\n",
      "\u001b[0;31mKeyError\u001b[0m: 0"
     ]
    }
   ],
   "source": [
    "loops = sessions.shape[0]//100*np.arange(100)\n",
    "\n",
    "o = []\n",
    "for i,l in enumerate(loops):\n",
    "    try:\n",
    "        a,b = loops[i],loops[i+1]\n",
    "    except:\n",
    "        a,b = loops[i],sessions.shape[0]\n",
    "    sessions_new = pd.DataFrame(np.concatenate(\n",
    "        (\n",
    "            sessions[['user_id']][a:b]\\\n",
    "            , x[a:b]\\\n",
    "            , sessions[['secs_elapsed']][a:b]\n",
    "        )\n",
    "        , axis=1\n",
    "    ))\n",
    "    sessions_grouped = sessions_new.groupby([0]).sum()\n",
    "    o.append(sessions_grouped)"
   ]
  },
  {
   "cell_type": "code",
   "execution_count": 47,
   "metadata": {
    "collapsed": false
   },
   "outputs": [],
   "source": [
    "sessions_new = pd.concat(o,ignore_index=True)\n",
    "sessions_new['user_id'] = pd.concat(o).index\n",
    "sessions_new = sessions_new.groupby('user_id').sum()"
   ]
  },
  {
   "cell_type": "markdown",
   "metadata": {},
   "source": [
    "#### User data"
   ]
  },
  {
   "cell_type": "code",
   "execution_count": 77,
   "metadata": {
    "collapsed": false
   },
   "outputs": [
    {
     "data": {
      "text/plain": [
       "(151239, 15)"
      ]
     },
     "execution_count": 77,
     "metadata": {},
     "output_type": "execute_result"
    }
   ],
   "source": [
    "train_set.shape"
   ]
  },
  {
   "cell_type": "code",
   "execution_count": 78,
   "metadata": {
    "collapsed": false
   },
   "outputs": [
    {
     "data": {
      "text/html": [
       "<div>\n",
       "<table border=\"1\" class=\"dataframe\">\n",
       "  <thead>\n",
       "    <tr style=\"text-align: right;\">\n",
       "      <th></th>\n",
       "      <th>id</th>\n",
       "      <th>date_account_created</th>\n",
       "      <th>timestamp_first_active</th>\n",
       "      <th>date_first_booking</th>\n",
       "      <th>gender</th>\n",
       "      <th>age</th>\n",
       "      <th>signup_method</th>\n",
       "      <th>signup_flow</th>\n",
       "      <th>language</th>\n",
       "      <th>affiliate_channel</th>\n",
       "      <th>affiliate_provider</th>\n",
       "      <th>first_affiliate_tracked</th>\n",
       "      <th>signup_app</th>\n",
       "      <th>first_device_type</th>\n",
       "      <th>first_browser</th>\n",
       "    </tr>\n",
       "  </thead>\n",
       "  <tbody>\n",
       "    <tr>\n",
       "      <th>20000</th>\n",
       "      <td>t9e8wr7dsl</td>\n",
       "      <td>2012-03-28</td>\n",
       "      <td>20120328191328</td>\n",
       "      <td>NaN</td>\n",
       "      <td>-unknown-</td>\n",
       "      <td>NaN</td>\n",
       "      <td>basic</td>\n",
       "      <td>1</td>\n",
       "      <td>en</td>\n",
       "      <td>direct</td>\n",
       "      <td>direct</td>\n",
       "      <td>NaN</td>\n",
       "      <td>Web</td>\n",
       "      <td>Other/Unknown</td>\n",
       "      <td>-unknown-</td>\n",
       "    </tr>\n",
       "    <tr>\n",
       "      <th>20001</th>\n",
       "      <td>dekuxqk9lk</td>\n",
       "      <td>2012-03-28</td>\n",
       "      <td>20120328194449</td>\n",
       "      <td>2012-04-02</td>\n",
       "      <td>FEMALE</td>\n",
       "      <td>30</td>\n",
       "      <td>facebook</td>\n",
       "      <td>0</td>\n",
       "      <td>en</td>\n",
       "      <td>direct</td>\n",
       "      <td>direct</td>\n",
       "      <td>untracked</td>\n",
       "      <td>iOS</td>\n",
       "      <td>iPad</td>\n",
       "      <td>Mobile Safari</td>\n",
       "    </tr>\n",
       "    <tr>\n",
       "      <th>20002</th>\n",
       "      <td>dvsvhyf3od</td>\n",
       "      <td>2012-03-28</td>\n",
       "      <td>20120328195154</td>\n",
       "      <td>2012-04-10</td>\n",
       "      <td>FEMALE</td>\n",
       "      <td>27</td>\n",
       "      <td>basic</td>\n",
       "      <td>0</td>\n",
       "      <td>en</td>\n",
       "      <td>sem-brand</td>\n",
       "      <td>google</td>\n",
       "      <td>tracked-other</td>\n",
       "      <td>Web</td>\n",
       "      <td>Mac Desktop</td>\n",
       "      <td>Safari</td>\n",
       "    </tr>\n",
       "    <tr>\n",
       "      <th>20003</th>\n",
       "      <td>zusk44ltvs</td>\n",
       "      <td>2012-03-28</td>\n",
       "      <td>20120328195655</td>\n",
       "      <td>2012-03-31</td>\n",
       "      <td>-unknown-</td>\n",
       "      <td>67</td>\n",
       "      <td>basic</td>\n",
       "      <td>0</td>\n",
       "      <td>en</td>\n",
       "      <td>sem-non-brand</td>\n",
       "      <td>google</td>\n",
       "      <td>omg</td>\n",
       "      <td>Web</td>\n",
       "      <td>Mac Desktop</td>\n",
       "      <td>Firefox</td>\n",
       "    </tr>\n",
       "    <tr>\n",
       "      <th>20004</th>\n",
       "      <td>4ci9oqtl8q</td>\n",
       "      <td>2012-03-28</td>\n",
       "      <td>20120328200645</td>\n",
       "      <td>2012-04-02</td>\n",
       "      <td>MALE</td>\n",
       "      <td>34</td>\n",
       "      <td>facebook</td>\n",
       "      <td>0</td>\n",
       "      <td>en</td>\n",
       "      <td>sem-non-brand</td>\n",
       "      <td>google</td>\n",
       "      <td>untracked</td>\n",
       "      <td>Web</td>\n",
       "      <td>iPhone</td>\n",
       "      <td>Mobile Safari</td>\n",
       "    </tr>\n",
       "  </tbody>\n",
       "</table>\n",
       "</div>"
      ],
      "text/plain": [
       "               id date_account_created  timestamp_first_active  \\\n",
       "20000  t9e8wr7dsl           2012-03-28          20120328191328   \n",
       "20001  dekuxqk9lk           2012-03-28          20120328194449   \n",
       "20002  dvsvhyf3od           2012-03-28          20120328195154   \n",
       "20003  zusk44ltvs           2012-03-28          20120328195655   \n",
       "20004  4ci9oqtl8q           2012-03-28          20120328200645   \n",
       "\n",
       "      date_first_booking     gender  age signup_method  signup_flow language  \\\n",
       "20000                NaN  -unknown-  NaN         basic            1       en   \n",
       "20001         2012-04-02     FEMALE   30      facebook            0       en   \n",
       "20002         2012-04-10     FEMALE   27         basic            0       en   \n",
       "20003         2012-03-31  -unknown-   67         basic            0       en   \n",
       "20004         2012-04-02       MALE   34      facebook            0       en   \n",
       "\n",
       "      affiliate_channel affiliate_provider first_affiliate_tracked signup_app  \\\n",
       "20000            direct             direct                     NaN        Web   \n",
       "20001            direct             direct               untracked        iOS   \n",
       "20002         sem-brand             google           tracked-other        Web   \n",
       "20003     sem-non-brand             google                     omg        Web   \n",
       "20004     sem-non-brand             google               untracked        Web   \n",
       "\n",
       "      first_device_type  first_browser  \n",
       "20000     Other/Unknown      -unknown-  \n",
       "20001              iPad  Mobile Safari  \n",
       "20002       Mac Desktop         Safari  \n",
       "20003       Mac Desktop        Firefox  \n",
       "20004            iPhone  Mobile Safari  "
      ]
     },
     "execution_count": 78,
     "metadata": {},
     "output_type": "execute_result"
    }
   ],
   "source": [
    "train_set.head()"
   ]
  },
  {
   "cell_type": "code",
   "execution_count": 158,
   "metadata": {
    "collapsed": false
   },
   "outputs": [],
   "source": [
    "train_set.index = train_set['id']"
   ]
  },
  {
   "cell_type": "code",
   "execution_count": 119,
   "metadata": {
    "collapsed": false
   },
   "outputs": [
    {
     "data": {
      "text/plain": [
       "FEMALE    45658\n",
       "MALE      38954\n",
       "OTHER       205\n",
       "Name: gender, dtype: int64"
      ]
     },
     "execution_count": 119,
     "metadata": {},
     "output_type": "execute_result"
    }
   ],
   "source": [
    "train_set['gender'].value_counts()"
   ]
  },
  {
   "cell_type": "code",
   "execution_count": 159,
   "metadata": {
    "collapsed": false
   },
   "outputs": [],
   "source": [
    "train_set.loc[train_set['gender']=='-unknown-',['gender']] = np.nan"
   ]
  },
  {
   "cell_type": "code",
   "execution_count": 120,
   "metadata": {
    "collapsed": false
   },
   "outputs": [
    {
     "data": {
      "text/html": [
       "<div>\n",
       "<table border=\"1\" class=\"dataframe\">\n",
       "  <thead>\n",
       "    <tr style=\"text-align: right;\">\n",
       "      <th></th>\n",
       "      <th>id</th>\n",
       "      <th>date_account_created</th>\n",
       "      <th>timestamp_first_active</th>\n",
       "      <th>date_first_booking</th>\n",
       "      <th>gender</th>\n",
       "      <th>age</th>\n",
       "      <th>signup_method</th>\n",
       "      <th>signup_flow</th>\n",
       "      <th>language</th>\n",
       "      <th>affiliate_channel</th>\n",
       "      <th>affiliate_provider</th>\n",
       "      <th>first_affiliate_tracked</th>\n",
       "      <th>signup_app</th>\n",
       "      <th>first_device_type</th>\n",
       "      <th>first_browser</th>\n",
       "    </tr>\n",
       "    <tr>\n",
       "      <th>id</th>\n",
       "      <th></th>\n",
       "      <th></th>\n",
       "      <th></th>\n",
       "      <th></th>\n",
       "      <th></th>\n",
       "      <th></th>\n",
       "      <th></th>\n",
       "      <th></th>\n",
       "      <th></th>\n",
       "      <th></th>\n",
       "      <th></th>\n",
       "      <th></th>\n",
       "      <th></th>\n",
       "      <th></th>\n",
       "      <th></th>\n",
       "    </tr>\n",
       "  </thead>\n",
       "  <tbody>\n",
       "    <tr>\n",
       "      <th>t9e8wr7dsl</th>\n",
       "      <td>t9e8wr7dsl</td>\n",
       "      <td>2012-03-28</td>\n",
       "      <td>20120328191328</td>\n",
       "      <td>NaN</td>\n",
       "      <td>NaN</td>\n",
       "      <td>NaN</td>\n",
       "      <td>basic</td>\n",
       "      <td>1</td>\n",
       "      <td>en</td>\n",
       "      <td>direct</td>\n",
       "      <td>direct</td>\n",
       "      <td>NaN</td>\n",
       "      <td>Web</td>\n",
       "      <td>Other/Unknown</td>\n",
       "      <td>-unknown-</td>\n",
       "    </tr>\n",
       "    <tr>\n",
       "      <th>dekuxqk9lk</th>\n",
       "      <td>dekuxqk9lk</td>\n",
       "      <td>2012-03-28</td>\n",
       "      <td>20120328194449</td>\n",
       "      <td>2012-04-02</td>\n",
       "      <td>FEMALE</td>\n",
       "      <td>30</td>\n",
       "      <td>facebook</td>\n",
       "      <td>0</td>\n",
       "      <td>en</td>\n",
       "      <td>direct</td>\n",
       "      <td>direct</td>\n",
       "      <td>untracked</td>\n",
       "      <td>iOS</td>\n",
       "      <td>iPad</td>\n",
       "      <td>Mobile Safari</td>\n",
       "    </tr>\n",
       "    <tr>\n",
       "      <th>dvsvhyf3od</th>\n",
       "      <td>dvsvhyf3od</td>\n",
       "      <td>2012-03-28</td>\n",
       "      <td>20120328195154</td>\n",
       "      <td>2012-04-10</td>\n",
       "      <td>FEMALE</td>\n",
       "      <td>27</td>\n",
       "      <td>basic</td>\n",
       "      <td>0</td>\n",
       "      <td>en</td>\n",
       "      <td>sem-brand</td>\n",
       "      <td>google</td>\n",
       "      <td>tracked-other</td>\n",
       "      <td>Web</td>\n",
       "      <td>Mac Desktop</td>\n",
       "      <td>Safari</td>\n",
       "    </tr>\n",
       "    <tr>\n",
       "      <th>zusk44ltvs</th>\n",
       "      <td>zusk44ltvs</td>\n",
       "      <td>2012-03-28</td>\n",
       "      <td>20120328195655</td>\n",
       "      <td>2012-03-31</td>\n",
       "      <td>NaN</td>\n",
       "      <td>67</td>\n",
       "      <td>basic</td>\n",
       "      <td>0</td>\n",
       "      <td>en</td>\n",
       "      <td>sem-non-brand</td>\n",
       "      <td>google</td>\n",
       "      <td>omg</td>\n",
       "      <td>Web</td>\n",
       "      <td>Mac Desktop</td>\n",
       "      <td>Firefox</td>\n",
       "    </tr>\n",
       "    <tr>\n",
       "      <th>4ci9oqtl8q</th>\n",
       "      <td>4ci9oqtl8q</td>\n",
       "      <td>2012-03-28</td>\n",
       "      <td>20120328200645</td>\n",
       "      <td>2012-04-02</td>\n",
       "      <td>MALE</td>\n",
       "      <td>34</td>\n",
       "      <td>facebook</td>\n",
       "      <td>0</td>\n",
       "      <td>en</td>\n",
       "      <td>sem-non-brand</td>\n",
       "      <td>google</td>\n",
       "      <td>untracked</td>\n",
       "      <td>Web</td>\n",
       "      <td>iPhone</td>\n",
       "      <td>Mobile Safari</td>\n",
       "    </tr>\n",
       "  </tbody>\n",
       "</table>\n",
       "</div>"
      ],
      "text/plain": [
       "                    id date_account_created  timestamp_first_active  \\\n",
       "id                                                                    \n",
       "t9e8wr7dsl  t9e8wr7dsl           2012-03-28          20120328191328   \n",
       "dekuxqk9lk  dekuxqk9lk           2012-03-28          20120328194449   \n",
       "dvsvhyf3od  dvsvhyf3od           2012-03-28          20120328195154   \n",
       "zusk44ltvs  zusk44ltvs           2012-03-28          20120328195655   \n",
       "4ci9oqtl8q  4ci9oqtl8q           2012-03-28          20120328200645   \n",
       "\n",
       "           date_first_booking  gender  age signup_method  signup_flow  \\\n",
       "id                                                                      \n",
       "t9e8wr7dsl                NaN     NaN  NaN         basic            1   \n",
       "dekuxqk9lk         2012-04-02  FEMALE   30      facebook            0   \n",
       "dvsvhyf3od         2012-04-10  FEMALE   27         basic            0   \n",
       "zusk44ltvs         2012-03-31     NaN   67         basic            0   \n",
       "4ci9oqtl8q         2012-04-02    MALE   34      facebook            0   \n",
       "\n",
       "           language affiliate_channel affiliate_provider  \\\n",
       "id                                                         \n",
       "t9e8wr7dsl       en            direct             direct   \n",
       "dekuxqk9lk       en            direct             direct   \n",
       "dvsvhyf3od       en         sem-brand             google   \n",
       "zusk44ltvs       en     sem-non-brand             google   \n",
       "4ci9oqtl8q       en     sem-non-brand             google   \n",
       "\n",
       "           first_affiliate_tracked signup_app first_device_type  first_browser  \n",
       "id                                                                              \n",
       "t9e8wr7dsl                     NaN        Web     Other/Unknown      -unknown-  \n",
       "dekuxqk9lk               untracked        iOS              iPad  Mobile Safari  \n",
       "dvsvhyf3od           tracked-other        Web       Mac Desktop         Safari  \n",
       "zusk44ltvs                     omg        Web       Mac Desktop        Firefox  \n",
       "4ci9oqtl8q               untracked        Web            iPhone  Mobile Safari  "
      ]
     },
     "execution_count": 120,
     "metadata": {},
     "output_type": "execute_result"
    }
   ],
   "source": [
    "train_set.head()"
   ]
  },
  {
   "cell_type": "code",
   "execution_count": 124,
   "metadata": {
    "collapsed": false
   },
   "outputs": [
    {
     "data": {
      "text/plain": [
       "30     4367\n",
       "28     4251\n",
       "31     4215\n",
       "29     4212\n",
       "27     4104\n",
       "32     4101\n",
       "33     3822\n",
       "26     3582\n",
       "34     3546\n",
       "35     3316\n",
       "25     3112\n",
       "36     2858\n",
       "37     2486\n",
       "38     2347\n",
       "24     2321\n",
       "39     2055\n",
       "40     1905\n",
       "41     1783\n",
       "23     1696\n",
       "42     1531\n",
       "44     1513\n",
       "45     1505\n",
       "43     1438\n",
       "46     1307\n",
       "22     1227\n",
       "47     1147\n",
       "48     1054\n",
       "50      982\n",
       "51      931\n",
       "49      913\n",
       "       ... \n",
       "102      29\n",
       "85       24\n",
       "103      21\n",
       "16       20\n",
       "86       19\n",
       "87       19\n",
       "81       19\n",
       "100      19\n",
       "96       18\n",
       "101      18\n",
       "84       17\n",
       "99       16\n",
       "90       16\n",
       "82       15\n",
       "106      14\n",
       "93       13\n",
       "98       12\n",
       "83       12\n",
       "94       11\n",
       "108      11\n",
       "97       10\n",
       "92       10\n",
       "107      10\n",
       "89        9\n",
       "88        6\n",
       "15        5\n",
       "2         5\n",
       "91        4\n",
       "14        2\n",
       "1         1\n",
       "Name: age, dtype: int64"
      ]
     },
     "execution_count": 124,
     "metadata": {},
     "output_type": "execute_result"
    }
   ],
   "source": [
    "train_set['age'].value_counts()"
   ]
  },
  {
   "cell_type": "code",
   "execution_count": 160,
   "metadata": {
    "collapsed": false
   },
   "outputs": [],
   "source": [
    "train_set.loc[train_set['age']>110,['age']] = np.nan"
   ]
  },
  {
   "cell_type": "code",
   "execution_count": 164,
   "metadata": {
    "collapsed": false
   },
   "outputs": [],
   "source": [
    "train_set['date_created'] = pd.to_datetime(train_set['date_account_created'])\n",
    "train_set['date_first_booking'] = pd.to_datetime(train_set['date_first_booking'])\n",
    "train_set['year_created'] = train_set['date_created'].dt.year\n",
    "train_set['month_created'] = train_set['date_created'].dt.month\n",
    "train_set['year_first_booking'] = train_set['date_first_booking'].dt.year\n",
    "train_set['month_first_booking'] = train_set['date_first_booking'].dt.month\n",
    "train_set['days_before_booking'] = train_set['date_first_booking']-train_set['date_created']"
   ]
  },
  {
   "cell_type": "code",
   "execution_count": 179,
   "metadata": {
    "collapsed": false
   },
   "outputs": [
    {
     "data": {
      "text/html": [
       "<div>\n",
       "<table border=\"1\" class=\"dataframe\">\n",
       "  <thead>\n",
       "    <tr style=\"text-align: right;\">\n",
       "      <th></th>\n",
       "      <th>id</th>\n",
       "      <th>date_account_created</th>\n",
       "      <th>timestamp_first_active</th>\n",
       "      <th>date_first_booking</th>\n",
       "      <th>gender</th>\n",
       "      <th>age</th>\n",
       "      <th>signup_method</th>\n",
       "      <th>signup_flow</th>\n",
       "      <th>language</th>\n",
       "      <th>affiliate_channel</th>\n",
       "      <th>...</th>\n",
       "      <th>first_affiliate_tracked</th>\n",
       "      <th>signup_app</th>\n",
       "      <th>first_device_type</th>\n",
       "      <th>first_browser</th>\n",
       "      <th>date_created</th>\n",
       "      <th>year_created</th>\n",
       "      <th>month_created</th>\n",
       "      <th>year_first_booking</th>\n",
       "      <th>month_first_booking</th>\n",
       "      <th>days_before_booking</th>\n",
       "    </tr>\n",
       "    <tr>\n",
       "      <th>id</th>\n",
       "      <th></th>\n",
       "      <th></th>\n",
       "      <th></th>\n",
       "      <th></th>\n",
       "      <th></th>\n",
       "      <th></th>\n",
       "      <th></th>\n",
       "      <th></th>\n",
       "      <th></th>\n",
       "      <th></th>\n",
       "      <th></th>\n",
       "      <th></th>\n",
       "      <th></th>\n",
       "      <th></th>\n",
       "      <th></th>\n",
       "      <th></th>\n",
       "      <th></th>\n",
       "      <th></th>\n",
       "      <th></th>\n",
       "      <th></th>\n",
       "      <th></th>\n",
       "    </tr>\n",
       "  </thead>\n",
       "  <tbody>\n",
       "    <tr>\n",
       "      <th>t9e8wr7dsl</th>\n",
       "      <td>t9e8wr7dsl</td>\n",
       "      <td>2012-03-28</td>\n",
       "      <td>20120328191328</td>\n",
       "      <td>missing</td>\n",
       "      <td>missing</td>\n",
       "      <td>missing</td>\n",
       "      <td>basic</td>\n",
       "      <td>1</td>\n",
       "      <td>en</td>\n",
       "      <td>direct</td>\n",
       "      <td>...</td>\n",
       "      <td>missing</td>\n",
       "      <td>Web</td>\n",
       "      <td>Other/Unknown</td>\n",
       "      <td>-unknown-</td>\n",
       "      <td>2012-03-28 00:00:00</td>\n",
       "      <td>2012</td>\n",
       "      <td>3</td>\n",
       "      <td>missing</td>\n",
       "      <td>missing</td>\n",
       "      <td>missing</td>\n",
       "    </tr>\n",
       "    <tr>\n",
       "      <th>dekuxqk9lk</th>\n",
       "      <td>dekuxqk9lk</td>\n",
       "      <td>2012-03-28</td>\n",
       "      <td>20120328194449</td>\n",
       "      <td>2012-04-02 00:00:00</td>\n",
       "      <td>FEMALE</td>\n",
       "      <td>30</td>\n",
       "      <td>facebook</td>\n",
       "      <td>0</td>\n",
       "      <td>en</td>\n",
       "      <td>direct</td>\n",
       "      <td>...</td>\n",
       "      <td>untracked</td>\n",
       "      <td>iOS</td>\n",
       "      <td>iPad</td>\n",
       "      <td>Mobile Safari</td>\n",
       "      <td>2012-03-28 00:00:00</td>\n",
       "      <td>2012</td>\n",
       "      <td>3</td>\n",
       "      <td>2012</td>\n",
       "      <td>4</td>\n",
       "      <td>5 days 00:00:00</td>\n",
       "    </tr>\n",
       "    <tr>\n",
       "      <th>dvsvhyf3od</th>\n",
       "      <td>dvsvhyf3od</td>\n",
       "      <td>2012-03-28</td>\n",
       "      <td>20120328195154</td>\n",
       "      <td>2012-04-10 00:00:00</td>\n",
       "      <td>FEMALE</td>\n",
       "      <td>27</td>\n",
       "      <td>basic</td>\n",
       "      <td>0</td>\n",
       "      <td>en</td>\n",
       "      <td>sem-brand</td>\n",
       "      <td>...</td>\n",
       "      <td>tracked-other</td>\n",
       "      <td>Web</td>\n",
       "      <td>Mac Desktop</td>\n",
       "      <td>Safari</td>\n",
       "      <td>2012-03-28 00:00:00</td>\n",
       "      <td>2012</td>\n",
       "      <td>3</td>\n",
       "      <td>2012</td>\n",
       "      <td>4</td>\n",
       "      <td>13 days 00:00:00</td>\n",
       "    </tr>\n",
       "    <tr>\n",
       "      <th>zusk44ltvs</th>\n",
       "      <td>zusk44ltvs</td>\n",
       "      <td>2012-03-28</td>\n",
       "      <td>20120328195655</td>\n",
       "      <td>2012-03-31 00:00:00</td>\n",
       "      <td>missing</td>\n",
       "      <td>67</td>\n",
       "      <td>basic</td>\n",
       "      <td>0</td>\n",
       "      <td>en</td>\n",
       "      <td>sem-non-brand</td>\n",
       "      <td>...</td>\n",
       "      <td>omg</td>\n",
       "      <td>Web</td>\n",
       "      <td>Mac Desktop</td>\n",
       "      <td>Firefox</td>\n",
       "      <td>2012-03-28 00:00:00</td>\n",
       "      <td>2012</td>\n",
       "      <td>3</td>\n",
       "      <td>2012</td>\n",
       "      <td>3</td>\n",
       "      <td>3 days 00:00:00</td>\n",
       "    </tr>\n",
       "    <tr>\n",
       "      <th>4ci9oqtl8q</th>\n",
       "      <td>4ci9oqtl8q</td>\n",
       "      <td>2012-03-28</td>\n",
       "      <td>20120328200645</td>\n",
       "      <td>2012-04-02 00:00:00</td>\n",
       "      <td>MALE</td>\n",
       "      <td>34</td>\n",
       "      <td>facebook</td>\n",
       "      <td>0</td>\n",
       "      <td>en</td>\n",
       "      <td>sem-non-brand</td>\n",
       "      <td>...</td>\n",
       "      <td>untracked</td>\n",
       "      <td>Web</td>\n",
       "      <td>iPhone</td>\n",
       "      <td>Mobile Safari</td>\n",
       "      <td>2012-03-28 00:00:00</td>\n",
       "      <td>2012</td>\n",
       "      <td>3</td>\n",
       "      <td>2012</td>\n",
       "      <td>4</td>\n",
       "      <td>5 days 00:00:00</td>\n",
       "    </tr>\n",
       "  </tbody>\n",
       "</table>\n",
       "<p>5 rows × 21 columns</p>\n",
       "</div>"
      ],
      "text/plain": [
       "                    id date_account_created  timestamp_first_active  \\\n",
       "id                                                                    \n",
       "t9e8wr7dsl  t9e8wr7dsl           2012-03-28          20120328191328   \n",
       "dekuxqk9lk  dekuxqk9lk           2012-03-28          20120328194449   \n",
       "dvsvhyf3od  dvsvhyf3od           2012-03-28          20120328195154   \n",
       "zusk44ltvs  zusk44ltvs           2012-03-28          20120328195655   \n",
       "4ci9oqtl8q  4ci9oqtl8q           2012-03-28          20120328200645   \n",
       "\n",
       "             date_first_booking   gender      age signup_method  signup_flow  \\\n",
       "id                                                                             \n",
       "t9e8wr7dsl              missing  missing  missing         basic            1   \n",
       "dekuxqk9lk  2012-04-02 00:00:00   FEMALE       30      facebook            0   \n",
       "dvsvhyf3od  2012-04-10 00:00:00   FEMALE       27         basic            0   \n",
       "zusk44ltvs  2012-03-31 00:00:00  missing       67         basic            0   \n",
       "4ci9oqtl8q  2012-04-02 00:00:00     MALE       34      facebook            0   \n",
       "\n",
       "           language affiliate_channel         ...          \\\n",
       "id                                            ...           \n",
       "t9e8wr7dsl       en            direct         ...           \n",
       "dekuxqk9lk       en            direct         ...           \n",
       "dvsvhyf3od       en         sem-brand         ...           \n",
       "zusk44ltvs       en     sem-non-brand         ...           \n",
       "4ci9oqtl8q       en     sem-non-brand         ...           \n",
       "\n",
       "           first_affiliate_tracked signup_app first_device_type  \\\n",
       "id                                                                \n",
       "t9e8wr7dsl                 missing        Web     Other/Unknown   \n",
       "dekuxqk9lk               untracked        iOS              iPad   \n",
       "dvsvhyf3od           tracked-other        Web       Mac Desktop   \n",
       "zusk44ltvs                     omg        Web       Mac Desktop   \n",
       "4ci9oqtl8q               untracked        Web            iPhone   \n",
       "\n",
       "            first_browser         date_created year_created  month_created  \\\n",
       "id                                                                           \n",
       "t9e8wr7dsl      -unknown-  2012-03-28 00:00:00         2012              3   \n",
       "dekuxqk9lk  Mobile Safari  2012-03-28 00:00:00         2012              3   \n",
       "dvsvhyf3od         Safari  2012-03-28 00:00:00         2012              3   \n",
       "zusk44ltvs        Firefox  2012-03-28 00:00:00         2012              3   \n",
       "4ci9oqtl8q  Mobile Safari  2012-03-28 00:00:00         2012              3   \n",
       "\n",
       "            year_first_booking month_first_booking days_before_booking  \n",
       "id                                                                      \n",
       "t9e8wr7dsl             missing             missing             missing  \n",
       "dekuxqk9lk                2012                   4     5 days 00:00:00  \n",
       "dvsvhyf3od                2012                   4    13 days 00:00:00  \n",
       "zusk44ltvs                2012                   3     3 days 00:00:00  \n",
       "4ci9oqtl8q                2012                   4     5 days 00:00:00  \n",
       "\n",
       "[5 rows x 21 columns]"
      ]
     },
     "execution_count": 179,
     "metadata": {},
     "output_type": "execute_result"
    }
   ],
   "source": [
    "train_set.head()"
   ]
  },
  {
   "cell_type": "code",
   "execution_count": 168,
   "metadata": {
    "collapsed": false
   },
   "outputs": [
    {
     "data": {
      "text/plain": [
       "0 days      14385\n",
       "1 days      10027\n",
       "2 days       4416\n",
       "3 days       2729\n",
       "4 days       1984\n",
       "5 days       1540\n",
       "6 days       1235\n",
       "7 days       1154\n",
       "8 days        912\n",
       "9 days        734\n",
       "10 days       623\n",
       "11 days       557\n",
       "12 days       488\n",
       "13 days       474\n",
       "14 days       456\n",
       "15 days       404\n",
       "16 days       374\n",
       "17 days       308\n",
       "21 days       279\n",
       "19 days       277\n",
       "18 days       266\n",
       "20 days       262\n",
       "23 days       210\n",
       "29 days       205\n",
       "24 days       204\n",
       "28 days       204\n",
       "25 days       201\n",
       "22 days       198\n",
       "27 days       190\n",
       "30 days       167\n",
       "            ...  \n",
       "305 days       30\n",
       "201 days       30\n",
       "193 days       29\n",
       "275 days       29\n",
       "266 days       29\n",
       "311 days       28\n",
       "246 days       28\n",
       "180 days       27\n",
       "143 days       27\n",
       "288 days       27\n",
       "207 days       27\n",
       "321 days       26\n",
       "298 days       26\n",
       "319 days       26\n",
       "219 days       25\n",
       "251 days       25\n",
       "255 days       25\n",
       "242 days       25\n",
       "227 days       25\n",
       "363 days       24\n",
       "264 days       23\n",
       "252 days       23\n",
       "341 days       22\n",
       "300 days       19\n",
       "-85 days        1\n",
       "-11 days        1\n",
       "-3 days         1\n",
       "-18 days        1\n",
       "-39 days        1\n",
       "-95 days        1\n",
       "Name: days_before_booking, dtype: int64"
      ]
     },
     "execution_count": 168,
     "metadata": {},
     "output_type": "execute_result"
    }
   ],
   "source": [
    "train_set['days_before_booking'].value_counts()"
   ]
  },
  {
   "cell_type": "code",
   "execution_count": 176,
   "metadata": {
    "collapsed": false
   },
   "outputs": [],
   "source": [
    "train_set.loc[train_set['days_before_booking']<pd.Timedelta(0)\\\n",
    "              ,['days_before_booking']] = np.nan"
   ]
  },
  {
   "cell_type": "code",
   "execution_count": 178,
   "metadata": {
    "collapsed": true
   },
   "outputs": [],
   "source": [
    "train_set = train_set.fillna('missing')"
   ]
  },
  {
   "cell_type": "code",
   "execution_count": 143,
   "metadata": {
    "collapsed": false
   },
   "outputs": [],
   "source": [
    "mcl2 = MultiColumnLabelEncoder()\n",
    "ohe2 = OneHotEncoder()\n",
    "t = mcl2.fit_transform(train_set)"
   ]
  }
 ],
 "metadata": {
  "kernelspec": {
   "display_name": "Python 2",
   "language": "python",
   "name": "python2"
  },
  "language_info": {
   "codemirror_mode": {
    "name": "ipython",
    "version": 2
   },
   "file_extension": ".py",
   "mimetype": "text/x-python",
   "name": "python",
   "nbconvert_exporter": "python",
   "pygments_lexer": "ipython2",
   "version": "2.7.10"
  }
 },
 "nbformat": 4,
 "nbformat_minor": 0
}
