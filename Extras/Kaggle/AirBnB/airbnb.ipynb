{
 "cells": [
  {
   "cell_type": "markdown",
   "metadata": {},
   "source": [
    "AirBnB recruiting kaggle\n",
    "------\n",
    "\n",
    "https://www.kaggle.com/c/airbnb-recruiting-new-user-bookings"
   ]
  },
  {
   "cell_type": "markdown",
   "metadata": {},
   "source": [
    "## Load libraries"
   ]
  },
  {
   "cell_type": "code",
   "execution_count": 1,
   "metadata": {
    "collapsed": false
   },
   "outputs": [
    {
     "name": "stdout",
     "output_type": "stream",
     "text": [
      "Couldn't import dot_parser, loading of dot files will not be possible.\n"
     ]
    }
   ],
   "source": [
    "# Core\n",
    "from __future__ import print_function\n",
    "import datetime as DT\n",
    "import pandas as pd\n",
    "import numpy as np\n",
    "import re\n",
    "\n",
    "# Sklearn\n",
    "from sklearn.preprocessing import OneHotEncoder, LabelEncoder\n",
    "from sklearn.discriminant_analysis \\\n",
    "    import LinearDiscriminantAnalysis as LDA\\\n",
    "            , QuadraticDiscriminantAnalysis as QDA\n",
    "from sklearn.pipeline import Pipeline\n",
    "from sklearn.decomposition import PCA\n",
    "from sklearn.preprocessing import StandardScaler,Imputer\n",
    "from sklearn.preprocessing import LabelBinarizer, MinMaxScaler\n",
    "from sklearn.linear_model import LinearRegression\n",
    "\n",
    "# Metrics\n",
    "from sklearn.metrics import log_loss, classification_report\n",
    "\n",
    "# Neural Nets\n",
    "from keras.models import Sequential\n",
    "from keras.layers.core import Dense, Dropout, Activation\n",
    "from keras.layers.normalization import BatchNormalization\n",
    "from keras.layers.noise import GaussianDropout\n",
    "from keras.regularizers import l2\n",
    "from keras.layers.advanced_activations import PReLU\n",
    "\n",
    "# matplotlib \n",
    "import matplotlib.pyplot as plt\n",
    "%matplotlib inline  "
   ]
  },
  {
   "cell_type": "code",
   "execution_count": 2,
   "metadata": {
    "collapsed": true
   },
   "outputs": [],
   "source": [
    "class MultiColumnLabelEncoder:\n",
    "    ''' Create a class that encodes\n",
    "        labels for a matrix of data\n",
    "    '''\n",
    "    def __init__(self, columns = None):\n",
    "        self.columns = columns # array of column names to encode\n",
    "\n",
    "    def fit(self,X,y=None):\n",
    "        return self # not relevant here\n",
    "    \n",
    "    def get_params(self, deep=True):\n",
    "        out = dict()\n",
    "        if self.columns: out['columns'] = columns\n",
    "        return out\n",
    "\n",
    "    def transform(self,X):\n",
    "        '''\n",
    "        Transforms columns of X specified in self.columns using\n",
    "        LabelEncoder(). \n",
    "        '''\n",
    "        numerics = [np.float16, np.float32, np.float64]\n",
    "        ints = [np.int16, np.int32, np.int64]\n",
    "        output = X.copy()\n",
    "        \n",
    "        for colname,col in output.iteritems():\n",
    "            if col.dtype not in numerics+ints:\n",
    "                # Turn text columns into ints\n",
    "                output[colname] = LabelEncoder().fit_transform(output[colname])\n",
    "            elif col.dtype in numerics:\n",
    "                # handle floats with scaling\n",
    "                # output[colname] = scale(output[colname])\n",
    "                pass \n",
    "            elif col.dtype in ints:\n",
    "                pass # leave integers alone\n",
    "        return output\n",
    "\n",
    "    def fit_transform(self,X,y=None):\n",
    "        return self.fit(X,y).transform(X)"
   ]
  },
  {
   "cell_type": "markdown",
   "metadata": {},
   "source": [
    "## Declare Args"
   ]
  },
  {
   "cell_type": "code",
   "execution_count": 3,
   "metadata": {
    "collapsed": true
   },
   "outputs": [],
   "source": [
    "## Files ## \n",
    "AGE_GENDER_BUCKETS_FILE = 'Data/age_gender_bkts.csv'\n",
    "COUNTRIES_FILE = 'Data/countries.csv'\n",
    "SAMPLE_SUBMISSION_FILE = 'Data/sample_submission.csv'\n",
    "SESSIONS_FILE = 'Data/sessions.csv'\n",
    "TEST_DATA_FINAL_FILE = 'Data/test_users.csv'\n",
    "TRAIN_DATA_FILE = 'Data/train_users.csv'\n",
    "\n",
    "## Model args ##\n",
    "TEST_N = 20000\n",
    "\n",
    "## Fields ## \n",
    "USER_COLUMNS = ['id',\n",
    " 'date_account_created',\n",
    " 'timestamp_first_active',\n",
    " 'date_first_booking',\n",
    " 'gender',\n",
    " 'age',\n",
    " 'signup_method',\n",
    " 'signup_flow',\n",
    " 'language',\n",
    " 'affiliate_channel',\n",
    " 'affiliate_provider',\n",
    " 'first_affiliate_tracked',\n",
    " 'signup_app',\n",
    " 'first_device_type',\n",
    " 'first_browser']\n",
    "TARGET_COLUMN = ['country_destination']\n",
    "\n",
    "SESSION_COLUMNS = ['user_id',\n",
    " 'action',\n",
    " 'action_type',\n",
    " 'action_detail',\n",
    " 'device_type',\n",
    " 'secs_elapsed']\n",
    "\n",
    "AGE_BUCKET_COLUMNS = ['age_bucket',\n",
    " 'country_destination',\n",
    " 'gender',\n",
    " 'population_in_thousands',\n",
    " 'year']"
   ]
  },
  {
   "cell_type": "markdown",
   "metadata": {},
   "source": [
    "## Read data\n"
   ]
  },
  {
   "cell_type": "code",
   "execution_count": 4,
   "metadata": {
    "collapsed": false
   },
   "outputs": [],
   "source": [
    "## Read user data ## \n",
    "train_full = pd.read_csv(TRAIN_DATA_FILE).sort_values('id')\n",
    "train_set, train_target = train_full[TEST_N:][USER_COLUMNS+TARGET_COLUMN],\\\n",
    "    train_full[TEST_N:][TARGET_COLUMN]\n",
    "test_set, test_target = train_full[:TEST_N][USER_COLUMNS+TARGET_COLUMN],\\\n",
    "    train_full[:TEST_N][TARGET_COLUMN]"
   ]
  },
  {
   "cell_type": "code",
   "execution_count": 5,
   "metadata": {
    "collapsed": true
   },
   "outputs": [],
   "source": [
    "## Read in data to predict for submission ##\n",
    "final_test_set = pd.read_csv(TEST_DATA_FINAL_FILE)"
   ]
  },
  {
   "cell_type": "code",
   "execution_count": 6,
   "metadata": {
    "collapsed": true
   },
   "outputs": [],
   "source": [
    "## Read supplemental datasets ## \n",
    "countries = pd.read_csv(COUNTRIES_FILE)\n",
    "age_buckets = pd.read_csv(AGE_GENDER_BUCKETS_FILE)"
   ]
  },
  {
   "cell_type": "code",
   "execution_count": 7,
   "metadata": {
    "collapsed": true
   },
   "outputs": [],
   "source": [
    "## Read session data ##\n",
    "sessions = pd.read_csv(SESSIONS_FILE)"
   ]
  },
  {
   "cell_type": "markdown",
   "metadata": {},
   "source": [
    "#### Sessions"
   ]
  },
  {
   "cell_type": "markdown",
   "metadata": {},
   "source": [
    "#### User data"
   ]
  },
  {
   "cell_type": "code",
   "execution_count": 8,
   "metadata": {
    "collapsed": false
   },
   "outputs": [
    {
     "data": {
      "text/plain": [
       "(151239, 16)"
      ]
     },
     "execution_count": 8,
     "metadata": {},
     "output_type": "execute_result"
    }
   ],
   "source": [
    "train_set.shape"
   ]
  },
  {
   "cell_type": "code",
   "execution_count": 9,
   "metadata": {
    "collapsed": false
   },
   "outputs": [
    {
     "data": {
      "text/html": [
       "<div>\n",
       "<table border=\"1\" class=\"dataframe\">\n",
       "  <thead>\n",
       "    <tr style=\"text-align: right;\">\n",
       "      <th></th>\n",
       "      <th>id</th>\n",
       "      <th>date_account_created</th>\n",
       "      <th>timestamp_first_active</th>\n",
       "      <th>date_first_booking</th>\n",
       "      <th>gender</th>\n",
       "      <th>age</th>\n",
       "      <th>signup_method</th>\n",
       "      <th>signup_flow</th>\n",
       "      <th>language</th>\n",
       "      <th>affiliate_channel</th>\n",
       "      <th>affiliate_provider</th>\n",
       "      <th>first_affiliate_tracked</th>\n",
       "      <th>signup_app</th>\n",
       "      <th>first_device_type</th>\n",
       "      <th>first_browser</th>\n",
       "      <th>country_destination</th>\n",
       "    </tr>\n",
       "  </thead>\n",
       "  <tbody>\n",
       "    <tr>\n",
       "      <th>83959</th>\n",
       "      <td>49e9ggnrzw</td>\n",
       "      <td>2013-06-13</td>\n",
       "      <td>20130613014311</td>\n",
       "      <td>NaN</td>\n",
       "      <td>-unknown-</td>\n",
       "      <td>NaN</td>\n",
       "      <td>basic</td>\n",
       "      <td>0</td>\n",
       "      <td>en</td>\n",
       "      <td>direct</td>\n",
       "      <td>direct</td>\n",
       "      <td>product</td>\n",
       "      <td>Web</td>\n",
       "      <td>Mac Desktop</td>\n",
       "      <td>Safari</td>\n",
       "      <td>NDF</td>\n",
       "    </tr>\n",
       "    <tr>\n",
       "      <th>58859</th>\n",
       "      <td>49ecjdmxki</td>\n",
       "      <td>2013-02-02</td>\n",
       "      <td>20130202085835</td>\n",
       "      <td>NaN</td>\n",
       "      <td>-unknown-</td>\n",
       "      <td>NaN</td>\n",
       "      <td>basic</td>\n",
       "      <td>0</td>\n",
       "      <td>zh</td>\n",
       "      <td>direct</td>\n",
       "      <td>direct</td>\n",
       "      <td>untracked</td>\n",
       "      <td>Web</td>\n",
       "      <td>iPad</td>\n",
       "      <td>Mobile Safari</td>\n",
       "      <td>NDF</td>\n",
       "    </tr>\n",
       "    <tr>\n",
       "      <th>26389</th>\n",
       "      <td>49eeh6iy30</td>\n",
       "      <td>2012-06-03</td>\n",
       "      <td>20120603144001</td>\n",
       "      <td>NaN</td>\n",
       "      <td>FEMALE</td>\n",
       "      <td>24</td>\n",
       "      <td>basic</td>\n",
       "      <td>0</td>\n",
       "      <td>en</td>\n",
       "      <td>direct</td>\n",
       "      <td>direct</td>\n",
       "      <td>untracked</td>\n",
       "      <td>Web</td>\n",
       "      <td>Windows Desktop</td>\n",
       "      <td>IE</td>\n",
       "      <td>NDF</td>\n",
       "    </tr>\n",
       "    <tr>\n",
       "      <th>9729</th>\n",
       "      <td>49ej7td7yw</td>\n",
       "      <td>2011-09-18</td>\n",
       "      <td>20110918181455</td>\n",
       "      <td>NaN</td>\n",
       "      <td>MALE</td>\n",
       "      <td>26</td>\n",
       "      <td>facebook</td>\n",
       "      <td>2</td>\n",
       "      <td>en</td>\n",
       "      <td>direct</td>\n",
       "      <td>direct</td>\n",
       "      <td>NaN</td>\n",
       "      <td>Web</td>\n",
       "      <td>Other/Unknown</td>\n",
       "      <td>-unknown-</td>\n",
       "      <td>NDF</td>\n",
       "    </tr>\n",
       "    <tr>\n",
       "      <th>49576</th>\n",
       "      <td>49f1u9p752</td>\n",
       "      <td>2012-11-21</td>\n",
       "      <td>20121121211308</td>\n",
       "      <td>2012-11-22</td>\n",
       "      <td>-unknown-</td>\n",
       "      <td>NaN</td>\n",
       "      <td>basic</td>\n",
       "      <td>0</td>\n",
       "      <td>en</td>\n",
       "      <td>direct</td>\n",
       "      <td>direct</td>\n",
       "      <td>untracked</td>\n",
       "      <td>Web</td>\n",
       "      <td>Mac Desktop</td>\n",
       "      <td>Chrome</td>\n",
       "      <td>US</td>\n",
       "    </tr>\n",
       "  </tbody>\n",
       "</table>\n",
       "</div>"
      ],
      "text/plain": [
       "               id date_account_created  timestamp_first_active  \\\n",
       "83959  49e9ggnrzw           2013-06-13          20130613014311   \n",
       "58859  49ecjdmxki           2013-02-02          20130202085835   \n",
       "26389  49eeh6iy30           2012-06-03          20120603144001   \n",
       "9729   49ej7td7yw           2011-09-18          20110918181455   \n",
       "49576  49f1u9p752           2012-11-21          20121121211308   \n",
       "\n",
       "      date_first_booking     gender  age signup_method  signup_flow language  \\\n",
       "83959                NaN  -unknown-  NaN         basic            0       en   \n",
       "58859                NaN  -unknown-  NaN         basic            0       zh   \n",
       "26389                NaN     FEMALE   24         basic            0       en   \n",
       "9729                 NaN       MALE   26      facebook            2       en   \n",
       "49576         2012-11-22  -unknown-  NaN         basic            0       en   \n",
       "\n",
       "      affiliate_channel affiliate_provider first_affiliate_tracked signup_app  \\\n",
       "83959            direct             direct                 product        Web   \n",
       "58859            direct             direct               untracked        Web   \n",
       "26389            direct             direct               untracked        Web   \n",
       "9729             direct             direct                     NaN        Web   \n",
       "49576            direct             direct               untracked        Web   \n",
       "\n",
       "      first_device_type  first_browser country_destination  \n",
       "83959       Mac Desktop         Safari                 NDF  \n",
       "58859              iPad  Mobile Safari                 NDF  \n",
       "26389   Windows Desktop             IE                 NDF  \n",
       "9729      Other/Unknown      -unknown-                 NDF  \n",
       "49576       Mac Desktop         Chrome                  US  "
      ]
     },
     "execution_count": 9,
     "metadata": {},
     "output_type": "execute_result"
    }
   ],
   "source": [
    "train_set.head()"
   ]
  },
  {
   "cell_type": "code",
   "execution_count": 10,
   "metadata": {
    "collapsed": false
   },
   "outputs": [],
   "source": [
    "train_set.index = train_set['id']\n",
    "test_set.index = test_set['id']\n",
    "final_test_set.index = final_test_set['id']"
   ]
  },
  {
   "cell_type": "code",
   "execution_count": 11,
   "metadata": {
    "collapsed": false
   },
   "outputs": [
    {
     "data": {
      "text/plain": [
       "-unknown-    65345\n",
       "FEMALE       46188\n",
       "MALE         39494\n",
       "OTHER          212\n",
       "Name: gender, dtype: int64"
      ]
     },
     "execution_count": 11,
     "metadata": {},
     "output_type": "execute_result"
    }
   ],
   "source": [
    "train_set['gender'].value_counts()"
   ]
  },
  {
   "cell_type": "code",
   "execution_count": 12,
   "metadata": {
    "collapsed": false
   },
   "outputs": [
    {
     "data": {
      "text/html": [
       "<div>\n",
       "<table border=\"1\" class=\"dataframe\">\n",
       "  <thead>\n",
       "    <tr style=\"text-align: right;\">\n",
       "      <th></th>\n",
       "      <th>id</th>\n",
       "      <th>date_account_created</th>\n",
       "      <th>timestamp_first_active</th>\n",
       "      <th>date_first_booking</th>\n",
       "      <th>gender</th>\n",
       "      <th>age</th>\n",
       "      <th>signup_method</th>\n",
       "      <th>signup_flow</th>\n",
       "      <th>language</th>\n",
       "      <th>affiliate_channel</th>\n",
       "      <th>affiliate_provider</th>\n",
       "      <th>first_affiliate_tracked</th>\n",
       "      <th>signup_app</th>\n",
       "      <th>first_device_type</th>\n",
       "      <th>first_browser</th>\n",
       "      <th>country_destination</th>\n",
       "    </tr>\n",
       "    <tr>\n",
       "      <th>id</th>\n",
       "      <th></th>\n",
       "      <th></th>\n",
       "      <th></th>\n",
       "      <th></th>\n",
       "      <th></th>\n",
       "      <th></th>\n",
       "      <th></th>\n",
       "      <th></th>\n",
       "      <th></th>\n",
       "      <th></th>\n",
       "      <th></th>\n",
       "      <th></th>\n",
       "      <th></th>\n",
       "      <th></th>\n",
       "      <th></th>\n",
       "      <th></th>\n",
       "    </tr>\n",
       "  </thead>\n",
       "  <tbody>\n",
       "    <tr>\n",
       "      <th>49e9ggnrzw</th>\n",
       "      <td>49e9ggnrzw</td>\n",
       "      <td>2013-06-13</td>\n",
       "      <td>20130613014311</td>\n",
       "      <td>NaN</td>\n",
       "      <td>-unknown-</td>\n",
       "      <td>NaN</td>\n",
       "      <td>basic</td>\n",
       "      <td>0</td>\n",
       "      <td>en</td>\n",
       "      <td>direct</td>\n",
       "      <td>direct</td>\n",
       "      <td>product</td>\n",
       "      <td>Web</td>\n",
       "      <td>Mac Desktop</td>\n",
       "      <td>Safari</td>\n",
       "      <td>NDF</td>\n",
       "    </tr>\n",
       "    <tr>\n",
       "      <th>49ecjdmxki</th>\n",
       "      <td>49ecjdmxki</td>\n",
       "      <td>2013-02-02</td>\n",
       "      <td>20130202085835</td>\n",
       "      <td>NaN</td>\n",
       "      <td>-unknown-</td>\n",
       "      <td>NaN</td>\n",
       "      <td>basic</td>\n",
       "      <td>0</td>\n",
       "      <td>zh</td>\n",
       "      <td>direct</td>\n",
       "      <td>direct</td>\n",
       "      <td>untracked</td>\n",
       "      <td>Web</td>\n",
       "      <td>iPad</td>\n",
       "      <td>Mobile Safari</td>\n",
       "      <td>NDF</td>\n",
       "    </tr>\n",
       "    <tr>\n",
       "      <th>49eeh6iy30</th>\n",
       "      <td>49eeh6iy30</td>\n",
       "      <td>2012-06-03</td>\n",
       "      <td>20120603144001</td>\n",
       "      <td>NaN</td>\n",
       "      <td>FEMALE</td>\n",
       "      <td>24</td>\n",
       "      <td>basic</td>\n",
       "      <td>0</td>\n",
       "      <td>en</td>\n",
       "      <td>direct</td>\n",
       "      <td>direct</td>\n",
       "      <td>untracked</td>\n",
       "      <td>Web</td>\n",
       "      <td>Windows Desktop</td>\n",
       "      <td>IE</td>\n",
       "      <td>NDF</td>\n",
       "    </tr>\n",
       "    <tr>\n",
       "      <th>49ej7td7yw</th>\n",
       "      <td>49ej7td7yw</td>\n",
       "      <td>2011-09-18</td>\n",
       "      <td>20110918181455</td>\n",
       "      <td>NaN</td>\n",
       "      <td>MALE</td>\n",
       "      <td>26</td>\n",
       "      <td>facebook</td>\n",
       "      <td>2</td>\n",
       "      <td>en</td>\n",
       "      <td>direct</td>\n",
       "      <td>direct</td>\n",
       "      <td>NaN</td>\n",
       "      <td>Web</td>\n",
       "      <td>Other/Unknown</td>\n",
       "      <td>-unknown-</td>\n",
       "      <td>NDF</td>\n",
       "    </tr>\n",
       "    <tr>\n",
       "      <th>49f1u9p752</th>\n",
       "      <td>49f1u9p752</td>\n",
       "      <td>2012-11-21</td>\n",
       "      <td>20121121211308</td>\n",
       "      <td>2012-11-22</td>\n",
       "      <td>-unknown-</td>\n",
       "      <td>NaN</td>\n",
       "      <td>basic</td>\n",
       "      <td>0</td>\n",
       "      <td>en</td>\n",
       "      <td>direct</td>\n",
       "      <td>direct</td>\n",
       "      <td>untracked</td>\n",
       "      <td>Web</td>\n",
       "      <td>Mac Desktop</td>\n",
       "      <td>Chrome</td>\n",
       "      <td>US</td>\n",
       "    </tr>\n",
       "  </tbody>\n",
       "</table>\n",
       "</div>"
      ],
      "text/plain": [
       "                    id date_account_created  timestamp_first_active  \\\n",
       "id                                                                    \n",
       "49e9ggnrzw  49e9ggnrzw           2013-06-13          20130613014311   \n",
       "49ecjdmxki  49ecjdmxki           2013-02-02          20130202085835   \n",
       "49eeh6iy30  49eeh6iy30           2012-06-03          20120603144001   \n",
       "49ej7td7yw  49ej7td7yw           2011-09-18          20110918181455   \n",
       "49f1u9p752  49f1u9p752           2012-11-21          20121121211308   \n",
       "\n",
       "           date_first_booking     gender  age signup_method  signup_flow  \\\n",
       "id                                                                         \n",
       "49e9ggnrzw                NaN  -unknown-  NaN         basic            0   \n",
       "49ecjdmxki                NaN  -unknown-  NaN         basic            0   \n",
       "49eeh6iy30                NaN     FEMALE   24         basic            0   \n",
       "49ej7td7yw                NaN       MALE   26      facebook            2   \n",
       "49f1u9p752         2012-11-22  -unknown-  NaN         basic            0   \n",
       "\n",
       "           language affiliate_channel affiliate_provider  \\\n",
       "id                                                         \n",
       "49e9ggnrzw       en            direct             direct   \n",
       "49ecjdmxki       zh            direct             direct   \n",
       "49eeh6iy30       en            direct             direct   \n",
       "49ej7td7yw       en            direct             direct   \n",
       "49f1u9p752       en            direct             direct   \n",
       "\n",
       "           first_affiliate_tracked signup_app first_device_type  \\\n",
       "id                                                                \n",
       "49e9ggnrzw                 product        Web       Mac Desktop   \n",
       "49ecjdmxki               untracked        Web              iPad   \n",
       "49eeh6iy30               untracked        Web   Windows Desktop   \n",
       "49ej7td7yw                     NaN        Web     Other/Unknown   \n",
       "49f1u9p752               untracked        Web       Mac Desktop   \n",
       "\n",
       "            first_browser country_destination  \n",
       "id                                             \n",
       "49e9ggnrzw         Safari                 NDF  \n",
       "49ecjdmxki  Mobile Safari                 NDF  \n",
       "49eeh6iy30             IE                 NDF  \n",
       "49ej7td7yw      -unknown-                 NDF  \n",
       "49f1u9p752         Chrome                  US  "
      ]
     },
     "execution_count": 12,
     "metadata": {},
     "output_type": "execute_result"
    }
   ],
   "source": [
    "train_set.head()"
   ]
  },
  {
   "cell_type": "code",
   "execution_count": 13,
   "metadata": {
    "collapsed": false
   },
   "outputs": [],
   "source": [
    "train_set.loc[train_set['age']>115,['age']] = np.nan\n",
    "test_set.loc[test_set['age']>115,['age']] = np.nan\n",
    "final_test_set.loc[final_test_set['age']>115,['age']] = np.nan"
   ]
  },
  {
   "cell_type": "code",
   "execution_count": 14,
   "metadata": {
    "collapsed": false
   },
   "outputs": [],
   "source": [
    "train_set['date_created'] = pd.to_datetime(train_set['date_account_created'])\n",
    "train_set['date_first_booking'] = pd.to_datetime(train_set['date_first_booking'])\n",
    "train_set['year_created'] = train_set['date_created'].dt.year\n",
    "train_set['month_created'] = train_set['date_created'].dt.month\n",
    "train_set['year_first_booking'] = train_set['date_first_booking'].dt.year\n",
    "train_set['month_first_booking'] = train_set['date_first_booking'].dt.month\n",
    "train_set['days_to_first_booking'] = train_set['date_first_booking']-train_set['date_created']\n",
    "\n",
    "# repeat with test \n",
    "test_set['date_created'] = pd.to_datetime(test_set['date_account_created'])\n",
    "test_set['date_first_booking'] = pd.to_datetime(test_set['date_first_booking'])\n",
    "test_set['year_created'] = test_set['date_created'].dt.year\n",
    "test_set['month_created'] = test_set['date_created'].dt.month\n",
    "test_set['year_first_booking'] = test_set['date_first_booking'].dt.year\n",
    "test_set['month_first_booking'] = test_set['date_first_booking'].dt.month\n",
    "test_set['days_to_first_booking'] = test_set['date_first_booking']-test_set['date_created']\n",
    "\n",
    "# repeat with final test\n",
    "final_test_set['date_created'] = pd.to_datetime(final_test_set['date_account_created'])\n",
    "final_test_set['date_first_booking'] = pd.to_datetime(final_test_set['date_first_booking'])\n",
    "final_test_set['year_created'] = final_test_set['date_created'].dt.year\n",
    "final_test_set['month_created'] = final_test_set['date_created'].dt.month\n",
    "final_test_set['year_first_booking'] = final_test_set['date_first_booking'].dt.year\n",
    "final_test_set['month_first_booking'] = final_test_set['date_first_booking'].dt.month\n",
    "final_test_set['days_to_first_booking'] = final_test_set['date_first_booking']-test_set['date_created']"
   ]
  },
  {
   "cell_type": "code",
   "execution_count": 15,
   "metadata": {
    "collapsed": false
   },
   "outputs": [
    {
     "data": {
      "text/html": [
       "<div>\n",
       "<table border=\"1\" class=\"dataframe\">\n",
       "  <thead>\n",
       "    <tr style=\"text-align: right;\">\n",
       "      <th></th>\n",
       "      <th>id</th>\n",
       "      <th>date_account_created</th>\n",
       "      <th>timestamp_first_active</th>\n",
       "      <th>date_first_booking</th>\n",
       "      <th>gender</th>\n",
       "      <th>age</th>\n",
       "      <th>signup_method</th>\n",
       "      <th>signup_flow</th>\n",
       "      <th>language</th>\n",
       "      <th>affiliate_channel</th>\n",
       "      <th>...</th>\n",
       "      <th>signup_app</th>\n",
       "      <th>first_device_type</th>\n",
       "      <th>first_browser</th>\n",
       "      <th>country_destination</th>\n",
       "      <th>date_created</th>\n",
       "      <th>year_created</th>\n",
       "      <th>month_created</th>\n",
       "      <th>year_first_booking</th>\n",
       "      <th>month_first_booking</th>\n",
       "      <th>days_to_first_booking</th>\n",
       "    </tr>\n",
       "    <tr>\n",
       "      <th>id</th>\n",
       "      <th></th>\n",
       "      <th></th>\n",
       "      <th></th>\n",
       "      <th></th>\n",
       "      <th></th>\n",
       "      <th></th>\n",
       "      <th></th>\n",
       "      <th></th>\n",
       "      <th></th>\n",
       "      <th></th>\n",
       "      <th></th>\n",
       "      <th></th>\n",
       "      <th></th>\n",
       "      <th></th>\n",
       "      <th></th>\n",
       "      <th></th>\n",
       "      <th></th>\n",
       "      <th></th>\n",
       "      <th></th>\n",
       "      <th></th>\n",
       "      <th></th>\n",
       "    </tr>\n",
       "  </thead>\n",
       "  <tbody>\n",
       "    <tr>\n",
       "      <th>49e9ggnrzw</th>\n",
       "      <td>49e9ggnrzw</td>\n",
       "      <td>2013-06-13</td>\n",
       "      <td>20130613014311</td>\n",
       "      <td>NaT</td>\n",
       "      <td>-unknown-</td>\n",
       "      <td>NaN</td>\n",
       "      <td>basic</td>\n",
       "      <td>0</td>\n",
       "      <td>en</td>\n",
       "      <td>direct</td>\n",
       "      <td>...</td>\n",
       "      <td>Web</td>\n",
       "      <td>Mac Desktop</td>\n",
       "      <td>Safari</td>\n",
       "      <td>NDF</td>\n",
       "      <td>2013-06-13</td>\n",
       "      <td>2013</td>\n",
       "      <td>6</td>\n",
       "      <td>NaN</td>\n",
       "      <td>NaN</td>\n",
       "      <td>NaT</td>\n",
       "    </tr>\n",
       "    <tr>\n",
       "      <th>49ecjdmxki</th>\n",
       "      <td>49ecjdmxki</td>\n",
       "      <td>2013-02-02</td>\n",
       "      <td>20130202085835</td>\n",
       "      <td>NaT</td>\n",
       "      <td>-unknown-</td>\n",
       "      <td>NaN</td>\n",
       "      <td>basic</td>\n",
       "      <td>0</td>\n",
       "      <td>zh</td>\n",
       "      <td>direct</td>\n",
       "      <td>...</td>\n",
       "      <td>Web</td>\n",
       "      <td>iPad</td>\n",
       "      <td>Mobile Safari</td>\n",
       "      <td>NDF</td>\n",
       "      <td>2013-02-02</td>\n",
       "      <td>2013</td>\n",
       "      <td>2</td>\n",
       "      <td>NaN</td>\n",
       "      <td>NaN</td>\n",
       "      <td>NaT</td>\n",
       "    </tr>\n",
       "    <tr>\n",
       "      <th>49eeh6iy30</th>\n",
       "      <td>49eeh6iy30</td>\n",
       "      <td>2012-06-03</td>\n",
       "      <td>20120603144001</td>\n",
       "      <td>NaT</td>\n",
       "      <td>FEMALE</td>\n",
       "      <td>24</td>\n",
       "      <td>basic</td>\n",
       "      <td>0</td>\n",
       "      <td>en</td>\n",
       "      <td>direct</td>\n",
       "      <td>...</td>\n",
       "      <td>Web</td>\n",
       "      <td>Windows Desktop</td>\n",
       "      <td>IE</td>\n",
       "      <td>NDF</td>\n",
       "      <td>2012-06-03</td>\n",
       "      <td>2012</td>\n",
       "      <td>6</td>\n",
       "      <td>NaN</td>\n",
       "      <td>NaN</td>\n",
       "      <td>NaT</td>\n",
       "    </tr>\n",
       "    <tr>\n",
       "      <th>49ej7td7yw</th>\n",
       "      <td>49ej7td7yw</td>\n",
       "      <td>2011-09-18</td>\n",
       "      <td>20110918181455</td>\n",
       "      <td>NaT</td>\n",
       "      <td>MALE</td>\n",
       "      <td>26</td>\n",
       "      <td>facebook</td>\n",
       "      <td>2</td>\n",
       "      <td>en</td>\n",
       "      <td>direct</td>\n",
       "      <td>...</td>\n",
       "      <td>Web</td>\n",
       "      <td>Other/Unknown</td>\n",
       "      <td>-unknown-</td>\n",
       "      <td>NDF</td>\n",
       "      <td>2011-09-18</td>\n",
       "      <td>2011</td>\n",
       "      <td>9</td>\n",
       "      <td>NaN</td>\n",
       "      <td>NaN</td>\n",
       "      <td>NaT</td>\n",
       "    </tr>\n",
       "    <tr>\n",
       "      <th>49f1u9p752</th>\n",
       "      <td>49f1u9p752</td>\n",
       "      <td>2012-11-21</td>\n",
       "      <td>20121121211308</td>\n",
       "      <td>2012-11-22</td>\n",
       "      <td>-unknown-</td>\n",
       "      <td>NaN</td>\n",
       "      <td>basic</td>\n",
       "      <td>0</td>\n",
       "      <td>en</td>\n",
       "      <td>direct</td>\n",
       "      <td>...</td>\n",
       "      <td>Web</td>\n",
       "      <td>Mac Desktop</td>\n",
       "      <td>Chrome</td>\n",
       "      <td>US</td>\n",
       "      <td>2012-11-21</td>\n",
       "      <td>2012</td>\n",
       "      <td>11</td>\n",
       "      <td>2012</td>\n",
       "      <td>11</td>\n",
       "      <td>1 days</td>\n",
       "    </tr>\n",
       "  </tbody>\n",
       "</table>\n",
       "<p>5 rows × 22 columns</p>\n",
       "</div>"
      ],
      "text/plain": [
       "                    id date_account_created  timestamp_first_active  \\\n",
       "id                                                                    \n",
       "49e9ggnrzw  49e9ggnrzw           2013-06-13          20130613014311   \n",
       "49ecjdmxki  49ecjdmxki           2013-02-02          20130202085835   \n",
       "49eeh6iy30  49eeh6iy30           2012-06-03          20120603144001   \n",
       "49ej7td7yw  49ej7td7yw           2011-09-18          20110918181455   \n",
       "49f1u9p752  49f1u9p752           2012-11-21          20121121211308   \n",
       "\n",
       "           date_first_booking     gender  age signup_method  signup_flow  \\\n",
       "id                                                                         \n",
       "49e9ggnrzw                NaT  -unknown-  NaN         basic            0   \n",
       "49ecjdmxki                NaT  -unknown-  NaN         basic            0   \n",
       "49eeh6iy30                NaT     FEMALE   24         basic            0   \n",
       "49ej7td7yw                NaT       MALE   26      facebook            2   \n",
       "49f1u9p752         2012-11-22  -unknown-  NaN         basic            0   \n",
       "\n",
       "           language affiliate_channel          ...           signup_app  \\\n",
       "id                                             ...                        \n",
       "49e9ggnrzw       en            direct          ...                  Web   \n",
       "49ecjdmxki       zh            direct          ...                  Web   \n",
       "49eeh6iy30       en            direct          ...                  Web   \n",
       "49ej7td7yw       en            direct          ...                  Web   \n",
       "49f1u9p752       en            direct          ...                  Web   \n",
       "\n",
       "           first_device_type  first_browser country_destination date_created  \\\n",
       "id                                                                             \n",
       "49e9ggnrzw       Mac Desktop         Safari                 NDF   2013-06-13   \n",
       "49ecjdmxki              iPad  Mobile Safari                 NDF   2013-02-02   \n",
       "49eeh6iy30   Windows Desktop             IE                 NDF   2012-06-03   \n",
       "49ej7td7yw     Other/Unknown      -unknown-                 NDF   2011-09-18   \n",
       "49f1u9p752       Mac Desktop         Chrome                  US   2012-11-21   \n",
       "\n",
       "           year_created month_created  year_first_booking  \\\n",
       "id                                                          \n",
       "49e9ggnrzw         2013             6                 NaN   \n",
       "49ecjdmxki         2013             2                 NaN   \n",
       "49eeh6iy30         2012             6                 NaN   \n",
       "49ej7td7yw         2011             9                 NaN   \n",
       "49f1u9p752         2012            11                2012   \n",
       "\n",
       "            month_first_booking  days_to_first_booking  \n",
       "id                                                      \n",
       "49e9ggnrzw                  NaN                    NaT  \n",
       "49ecjdmxki                  NaN                    NaT  \n",
       "49eeh6iy30                  NaN                    NaT  \n",
       "49ej7td7yw                  NaN                    NaT  \n",
       "49f1u9p752                   11                 1 days  \n",
       "\n",
       "[5 rows x 22 columns]"
      ]
     },
     "execution_count": 15,
     "metadata": {},
     "output_type": "execute_result"
    }
   ],
   "source": [
    "train_set.head()"
   ]
  },
  {
   "cell_type": "code",
   "execution_count": 16,
   "metadata": {
    "collapsed": false
   },
   "outputs": [
    {
     "data": {
      "text/plain": [
       "0 days       14937\n",
       "1 days       10585\n",
       "2 days        4708\n",
       "3 days        2923\n",
       "4 days        2165\n",
       "5 days        1676\n",
       "6 days        1308\n",
       "7 days        1219\n",
       "8 days         957\n",
       "9 days         748\n",
       "10 days        663\n",
       "11 days        574\n",
       "12 days        495\n",
       "13 days        492\n",
       "14 days        484\n",
       "15 days        398\n",
       "16 days        374\n",
       "17 days        321\n",
       "19 days        288\n",
       "21 days        285\n",
       "18 days        270\n",
       "20 days        260\n",
       "28 days        213\n",
       "24 days        208\n",
       "22 days        207\n",
       "29 days        206\n",
       "23 days        205\n",
       "25 days        200\n",
       "27 days        199\n",
       "26 days        170\n",
       "             ...  \n",
       "227 days        25\n",
       "264 days        25\n",
       "363 days        25\n",
       "252 days        25\n",
       "219 days        25\n",
       "300 days        22\n",
       "341 days        22\n",
       "255 days        22\n",
       "-4 days          3\n",
       "-3 days          2\n",
       "-109 days        1\n",
       "-308 days        1\n",
       "-261 days        1\n",
       "-77 days         1\n",
       "-85 days         1\n",
       "-338 days        1\n",
       "-208 days        1\n",
       "-74 days         1\n",
       "-18 days         1\n",
       "-11 days         1\n",
       "-95 days         1\n",
       "-37 days         1\n",
       "-347 days        1\n",
       "-57 days         1\n",
       "-39 days         1\n",
       "-349 days        1\n",
       "-295 days        1\n",
       "-269 days        1\n",
       "-69 days         1\n",
       "-1 days          1\n",
       "Name: days_to_first_booking, dtype: int64"
      ]
     },
     "execution_count": 16,
     "metadata": {},
     "output_type": "execute_result"
    }
   ],
   "source": [
    "train_set['days_to_first_booking'].value_counts()"
   ]
  },
  {
   "cell_type": "code",
   "execution_count": 17,
   "metadata": {
    "collapsed": false
   },
   "outputs": [],
   "source": [
    "train_set.loc[train_set['days_to_first_booking']<pd.Timedelta(0)\\\n",
    "              ,['days_to_first_booking']] = np.nan\n",
    "train_set['days_to_first_booking'] = \\\n",
    "                train_set['days_to_first_booking'].astype('timedelta64[D]')\n",
    "\n",
    "test_set.loc[test_set['days_to_first_booking']<pd.Timedelta(0)\\\n",
    "              ,['days_to_first_booking']] = np.nan\n",
    "test_set['days_to_first_booking'] = \\\n",
    "                test_set['days_to_first_booking'].astype('timedelta64[D]')\n",
    "\n",
    "final_test_set.loc[final_test_set['days_to_first_booking']<pd.Timedelta(0)\\\n",
    "              ,['days_to_first_booking']] = np.nan\n",
    "final_test_set['days_to_first_booking'] = \\\n",
    "                final_test_set['days_to_first_booking'].astype('timedelta64[D]')"
   ]
  },
  {
   "cell_type": "markdown",
   "metadata": {},
   "source": [
    "#### age buckets"
   ]
  },
  {
   "cell_type": "code",
   "execution_count": 18,
   "metadata": {
    "collapsed": false
   },
   "outputs": [
    {
     "data": {
      "text/html": [
       "<div>\n",
       "<table border=\"1\" class=\"dataframe\">\n",
       "  <thead>\n",
       "    <tr style=\"text-align: right;\">\n",
       "      <th></th>\n",
       "      <th>age_bucket</th>\n",
       "      <th>country_destination</th>\n",
       "      <th>gender</th>\n",
       "      <th>population_in_thousands</th>\n",
       "      <th>year</th>\n",
       "    </tr>\n",
       "  </thead>\n",
       "  <tbody>\n",
       "    <tr>\n",
       "      <th>0</th>\n",
       "      <td>100+</td>\n",
       "      <td>AU</td>\n",
       "      <td>male</td>\n",
       "      <td>1</td>\n",
       "      <td>2015</td>\n",
       "    </tr>\n",
       "    <tr>\n",
       "      <th>1</th>\n",
       "      <td>95-99</td>\n",
       "      <td>AU</td>\n",
       "      <td>male</td>\n",
       "      <td>9</td>\n",
       "      <td>2015</td>\n",
       "    </tr>\n",
       "    <tr>\n",
       "      <th>2</th>\n",
       "      <td>90-94</td>\n",
       "      <td>AU</td>\n",
       "      <td>male</td>\n",
       "      <td>47</td>\n",
       "      <td>2015</td>\n",
       "    </tr>\n",
       "    <tr>\n",
       "      <th>3</th>\n",
       "      <td>85-89</td>\n",
       "      <td>AU</td>\n",
       "      <td>male</td>\n",
       "      <td>118</td>\n",
       "      <td>2015</td>\n",
       "    </tr>\n",
       "    <tr>\n",
       "      <th>4</th>\n",
       "      <td>80-84</td>\n",
       "      <td>AU</td>\n",
       "      <td>male</td>\n",
       "      <td>199</td>\n",
       "      <td>2015</td>\n",
       "    </tr>\n",
       "  </tbody>\n",
       "</table>\n",
       "</div>"
      ],
      "text/plain": [
       "  age_bucket country_destination gender  population_in_thousands  year\n",
       "0       100+                  AU   male                        1  2015\n",
       "1      95-99                  AU   male                        9  2015\n",
       "2      90-94                  AU   male                       47  2015\n",
       "3      85-89                  AU   male                      118  2015\n",
       "4      80-84                  AU   male                      199  2015"
      ]
     },
     "execution_count": 18,
     "metadata": {},
     "output_type": "execute_result"
    }
   ],
   "source": [
    "age_buckets.head()"
   ]
  },
  {
   "cell_type": "code",
   "execution_count": 19,
   "metadata": {
    "collapsed": false
   },
   "outputs": [],
   "source": [
    "age_buckets['age_merge'] = (np.floor(\\\n",
    "                  np.array([int(re.split(r'[-+]',str(x))[0]) \\\n",
    "                  for x in age_buckets['age_bucket']]\\\n",
    "            )/10)*10).astype('int')"
   ]
  },
  {
   "cell_type": "code",
   "execution_count": 20,
   "metadata": {
    "collapsed": true
   },
   "outputs": [],
   "source": [
    "age_buckets.index = age_buckets['age_merge'].astype('string') \\\n",
    "            +'-'+age_buckets['country_destination'] \\\n",
    "            +'-'+age_buckets['gender'].str.lower()"
   ]
  },
  {
   "cell_type": "code",
   "execution_count": 21,
   "metadata": {
    "collapsed": false
   },
   "outputs": [],
   "source": [
    "for c in set(countries['country_destination']):\n",
    "    train_set['age_merge'+'-'+c] = (\n",
    "                        np.floor(\\\n",
    "                            train_set['age']/10)*10\\\n",
    "                        )\\\n",
    "                            .fillna(0)\\\n",
    "                            .astype('int')\\\n",
    "                            .astype('string') \\\n",
    "                        +'-'+c \\\n",
    "                        +'-'+train_set['gender'].str.lower()\n",
    "    test_set['age_merge'+'-'+c] = (\n",
    "                        np.floor(\\\n",
    "                            test_set['age']/10)*10\\\n",
    "                        )\\\n",
    "                            .fillna(0)\\\n",
    "                            .astype('int')\\\n",
    "                            .astype('string') \\\n",
    "                        +'-'+c \\\n",
    "                        +'-'+test_set['gender'].str.lower()\n",
    "    final_test_set['age_merge'+'-'+c] = (\n",
    "                        np.floor(\\\n",
    "                            final_test_set['age']/10)*10\\\n",
    "                        )\\\n",
    "                            .fillna(0)\\\n",
    "                            .astype('int')\\\n",
    "                            .astype('string') \\\n",
    "                        +'-'+c \\\n",
    "                        +'-'+test_set['gender'].str.lower()"
   ]
  },
  {
   "cell_type": "code",
   "execution_count": 22,
   "metadata": {
    "collapsed": false
   },
   "outputs": [],
   "source": [
    "age_buckets = age_buckets[[\n",
    "        'age_merge' \\\n",
    "        ,'country_destination' \\\n",
    "        ,'gender' \\\n",
    "        ,'population_in_thousands']] \\\n",
    "    .groupby(['age_merge','country_destination','gender']).sum()"
   ]
  },
  {
   "cell_type": "code",
   "execution_count": 23,
   "metadata": {
    "collapsed": false
   },
   "outputs": [],
   "source": [
    "age_buckets.index = pd.Series([ str(i[0])+'-'+i[1]+'-'+i[2] for i in age_buckets.index])"
   ]
  },
  {
   "cell_type": "code",
   "execution_count": 24,
   "metadata": {
    "collapsed": false
   },
   "outputs": [
    {
     "name": "stdout",
     "output_type": "stream",
     "text": [
      "(153219, 42)\n"
     ]
    }
   ],
   "source": [
    "for c in set(countries['country_destination']):\n",
    "    train_set = pd.merge(\n",
    "        train_set \\\n",
    "         , age_buckets \\\n",
    "         , left_on=['age_merge'+'-'+c] \\\n",
    "         , right_index=True \\\n",
    "         , how='outer' \\\n",
    "         , suffixes=(c,c)\n",
    "    )\n",
    "    test_set = pd.merge(\n",
    "        test_set \\\n",
    "         , age_buckets \\\n",
    "         , left_on=['age_merge'+'-'+c] \\\n",
    "         , right_index=True \\\n",
    "         , how='outer' \\\n",
    "         , suffixes=(c,c)\n",
    "    )\n",
    "    final_test_set = pd.merge(\n",
    "        final_test_set \\\n",
    "         , age_buckets \\\n",
    "         , left_on=['age_merge'+'-'+c] \\\n",
    "         , right_index=True \\\n",
    "         , how='left' \\\n",
    "         , suffixes=(c,c)\n",
    "    )\n",
    "print(train_set.shape)"
   ]
  },
  {
   "cell_type": "code",
   "execution_count": 25,
   "metadata": {
    "collapsed": false
   },
   "outputs": [],
   "source": [
    "train_set = train_set.drop_duplicates(['id'])\n",
    "test_set = test_set.drop_duplicates(['id'])"
   ]
  },
  {
   "cell_type": "code",
   "execution_count": 26,
   "metadata": {
    "collapsed": false
   },
   "outputs": [],
   "source": [
    "train_set['population_estimate'] = 0\n",
    "test_set['population_estimate'] = 0\n",
    "final_test_set['population_estimate'] = 0\n",
    "for c in set(countries['country_destination']):\n",
    "    try:\n",
    "        train_set.loc[:,'population_estimate'] = \\\n",
    "            train_set.loc[:,'population_estimate']\\\n",
    "            +np.nansum(train_set.loc[:,'population_in_thousands'+c]\\\n",
    "                       ,axis=1)\n",
    "        test_set.loc[:,'population_estimate'] = \\\n",
    "            test_set.loc[:,'population_estimate']\\\n",
    "            +np.nansum(test_set.loc[:,'population_in_thousands'+c]\\\n",
    "                       ,axis=1)\n",
    "        final_test_set.loc[:,'population_estimate'] = \\\n",
    "            final_test_set.loc[:,'population_estimate']\\\n",
    "            +np.nansum(final_test_set.loc[:,'population_in_thousands'+c]\\\n",
    "                       ,axis=1)\n",
    "    except KeyError:\n",
    "        pass"
   ]
  },
  {
   "cell_type": "markdown",
   "metadata": {},
   "source": [
    "#### Add country features"
   ]
  },
  {
   "cell_type": "code",
   "execution_count": 27,
   "metadata": {
    "collapsed": false
   },
   "outputs": [
    {
     "data": {
      "text/html": [
       "<div>\n",
       "<table border=\"1\" class=\"dataframe\">\n",
       "  <thead>\n",
       "    <tr style=\"text-align: right;\">\n",
       "      <th></th>\n",
       "      <th>country_destination</th>\n",
       "      <th>lat_destination</th>\n",
       "      <th>lng_destination</th>\n",
       "      <th>distance_km</th>\n",
       "      <th>destination_km2</th>\n",
       "      <th>destination_language</th>\n",
       "      <th>language_levenshtein_distance</th>\n",
       "    </tr>\n",
       "  </thead>\n",
       "  <tbody>\n",
       "    <tr>\n",
       "      <th>0</th>\n",
       "      <td>AU</td>\n",
       "      <td>-26.853388</td>\n",
       "      <td>133.275160</td>\n",
       "      <td>15297.7440</td>\n",
       "      <td>7741220</td>\n",
       "      <td>eng</td>\n",
       "      <td>0.00</td>\n",
       "    </tr>\n",
       "    <tr>\n",
       "      <th>1</th>\n",
       "      <td>CA</td>\n",
       "      <td>62.393303</td>\n",
       "      <td>-96.818146</td>\n",
       "      <td>2828.1333</td>\n",
       "      <td>9984670</td>\n",
       "      <td>eng</td>\n",
       "      <td>0.00</td>\n",
       "    </tr>\n",
       "    <tr>\n",
       "      <th>2</th>\n",
       "      <td>DE</td>\n",
       "      <td>51.165707</td>\n",
       "      <td>10.452764</td>\n",
       "      <td>7879.5680</td>\n",
       "      <td>357022</td>\n",
       "      <td>deu</td>\n",
       "      <td>72.61</td>\n",
       "    </tr>\n",
       "    <tr>\n",
       "      <th>3</th>\n",
       "      <td>ES</td>\n",
       "      <td>39.896027</td>\n",
       "      <td>-2.487694</td>\n",
       "      <td>7730.7240</td>\n",
       "      <td>505370</td>\n",
       "      <td>spa</td>\n",
       "      <td>92.25</td>\n",
       "    </tr>\n",
       "    <tr>\n",
       "      <th>4</th>\n",
       "      <td>FR</td>\n",
       "      <td>46.232193</td>\n",
       "      <td>2.209667</td>\n",
       "      <td>7682.9450</td>\n",
       "      <td>643801</td>\n",
       "      <td>fra</td>\n",
       "      <td>92.06</td>\n",
       "    </tr>\n",
       "    <tr>\n",
       "      <th>5</th>\n",
       "      <td>GB</td>\n",
       "      <td>54.633220</td>\n",
       "      <td>-3.432277</td>\n",
       "      <td>6883.6590</td>\n",
       "      <td>243610</td>\n",
       "      <td>eng</td>\n",
       "      <td>0.00</td>\n",
       "    </tr>\n",
       "    <tr>\n",
       "      <th>6</th>\n",
       "      <td>IT</td>\n",
       "      <td>41.873990</td>\n",
       "      <td>12.564167</td>\n",
       "      <td>8636.6310</td>\n",
       "      <td>301340</td>\n",
       "      <td>ita</td>\n",
       "      <td>89.40</td>\n",
       "    </tr>\n",
       "    <tr>\n",
       "      <th>7</th>\n",
       "      <td>NL</td>\n",
       "      <td>52.133057</td>\n",
       "      <td>5.295250</td>\n",
       "      <td>7524.3203</td>\n",
       "      <td>41543</td>\n",
       "      <td>nld</td>\n",
       "      <td>63.22</td>\n",
       "    </tr>\n",
       "    <tr>\n",
       "      <th>8</th>\n",
       "      <td>PT</td>\n",
       "      <td>39.553444</td>\n",
       "      <td>-7.839319</td>\n",
       "      <td>7355.2534</td>\n",
       "      <td>92090</td>\n",
       "      <td>por</td>\n",
       "      <td>95.45</td>\n",
       "    </tr>\n",
       "    <tr>\n",
       "      <th>9</th>\n",
       "      <td>US</td>\n",
       "      <td>36.966427</td>\n",
       "      <td>-95.844030</td>\n",
       "      <td>0.0000</td>\n",
       "      <td>9826675</td>\n",
       "      <td>eng</td>\n",
       "      <td>0.00</td>\n",
       "    </tr>\n",
       "  </tbody>\n",
       "</table>\n",
       "</div>"
      ],
      "text/plain": [
       "  country_destination  lat_destination  lng_destination  distance_km  \\\n",
       "0                  AU       -26.853388       133.275160   15297.7440   \n",
       "1                  CA        62.393303       -96.818146    2828.1333   \n",
       "2                  DE        51.165707        10.452764    7879.5680   \n",
       "3                  ES        39.896027        -2.487694    7730.7240   \n",
       "4                  FR        46.232193         2.209667    7682.9450   \n",
       "5                  GB        54.633220        -3.432277    6883.6590   \n",
       "6                  IT        41.873990        12.564167    8636.6310   \n",
       "7                  NL        52.133057         5.295250    7524.3203   \n",
       "8                  PT        39.553444        -7.839319    7355.2534   \n",
       "9                  US        36.966427       -95.844030       0.0000   \n",
       "\n",
       "   destination_km2 destination_language   language_levenshtein_distance  \n",
       "0          7741220                   eng                           0.00  \n",
       "1          9984670                   eng                           0.00  \n",
       "2           357022                   deu                          72.61  \n",
       "3           505370                   spa                          92.25  \n",
       "4           643801                   fra                          92.06  \n",
       "5           243610                   eng                           0.00  \n",
       "6           301340                   ita                          89.40  \n",
       "7            41543                   nld                          63.22  \n",
       "8            92090                   por                          95.45  \n",
       "9          9826675                   eng                           0.00  "
      ]
     },
     "execution_count": 27,
     "metadata": {},
     "output_type": "execute_result"
    }
   ],
   "source": [
    "countries"
   ]
  },
  {
   "cell_type": "code",
   "execution_count": 28,
   "metadata": {
    "collapsed": false
   },
   "outputs": [
    {
     "data": {
      "text/plain": [
       "{nan,\n",
       " 'ca',\n",
       " 'cs',\n",
       " 'da',\n",
       " 'de',\n",
       " 'el',\n",
       " 'en',\n",
       " 'es',\n",
       " 'fi',\n",
       " 'fr',\n",
       " 'hu',\n",
       " 'id',\n",
       " 'is',\n",
       " 'it',\n",
       " 'ja',\n",
       " 'ko',\n",
       " 'nl',\n",
       " 'no',\n",
       " 'pl',\n",
       " 'pt',\n",
       " 'ru',\n",
       " 'sv',\n",
       " 'th',\n",
       " 'tr',\n",
       " 'zh'}"
      ]
     },
     "execution_count": 28,
     "metadata": {},
     "output_type": "execute_result"
    }
   ],
   "source": [
    "set(train_set['language'])"
   ]
  },
  {
   "cell_type": "markdown",
   "metadata": {},
   "source": [
    "#### Add session data"
   ]
  },
  {
   "cell_type": "code",
   "execution_count": 29,
   "metadata": {
    "collapsed": false
   },
   "outputs": [
    {
     "data": {
      "text/plain": [
       "(5600850, 6)"
      ]
     },
     "execution_count": 29,
     "metadata": {},
     "output_type": "execute_result"
    }
   ],
   "source": [
    "sessions.shape"
   ]
  },
  {
   "cell_type": "code",
   "execution_count": 30,
   "metadata": {
    "collapsed": false
   },
   "outputs": [
    {
     "data": {
      "text/html": [
       "<div>\n",
       "<table border=\"1\" class=\"dataframe\">\n",
       "  <thead>\n",
       "    <tr style=\"text-align: right;\">\n",
       "      <th></th>\n",
       "      <th>user_id</th>\n",
       "      <th>action</th>\n",
       "      <th>action_type</th>\n",
       "      <th>action_detail</th>\n",
       "      <th>device_type</th>\n",
       "      <th>secs_elapsed</th>\n",
       "    </tr>\n",
       "  </thead>\n",
       "  <tbody>\n",
       "    <tr>\n",
       "      <th>0</th>\n",
       "      <td>ailzdefy6o</td>\n",
       "      <td>similar_listings</td>\n",
       "      <td>data</td>\n",
       "      <td>similar_listings</td>\n",
       "      <td>Windows Desktop</td>\n",
       "      <td>255</td>\n",
       "    </tr>\n",
       "    <tr>\n",
       "      <th>1</th>\n",
       "      <td>ailzdefy6o</td>\n",
       "      <td>similar_listings</td>\n",
       "      <td>data</td>\n",
       "      <td>similar_listings</td>\n",
       "      <td>Windows Desktop</td>\n",
       "      <td>183</td>\n",
       "    </tr>\n",
       "    <tr>\n",
       "      <th>2</th>\n",
       "      <td>ailzdefy6o</td>\n",
       "      <td>ajax_refresh_subtotal</td>\n",
       "      <td>click</td>\n",
       "      <td>change_trip_characteristics</td>\n",
       "      <td>Windows Desktop</td>\n",
       "      <td>175570</td>\n",
       "    </tr>\n",
       "    <tr>\n",
       "      <th>3</th>\n",
       "      <td>ailzdefy6o</td>\n",
       "      <td>show</td>\n",
       "      <td>NaN</td>\n",
       "      <td>NaN</td>\n",
       "      <td>Windows Desktop</td>\n",
       "      <td>86</td>\n",
       "    </tr>\n",
       "    <tr>\n",
       "      <th>4</th>\n",
       "      <td>ailzdefy6o</td>\n",
       "      <td>personalize</td>\n",
       "      <td>data</td>\n",
       "      <td>wishlist_content_update</td>\n",
       "      <td>Windows Desktop</td>\n",
       "      <td>1535</td>\n",
       "    </tr>\n",
       "  </tbody>\n",
       "</table>\n",
       "</div>"
      ],
      "text/plain": [
       "      user_id                 action action_type                action_detail  \\\n",
       "0  ailzdefy6o       similar_listings        data             similar_listings   \n",
       "1  ailzdefy6o       similar_listings        data             similar_listings   \n",
       "2  ailzdefy6o  ajax_refresh_subtotal       click  change_trip_characteristics   \n",
       "3  ailzdefy6o                   show         NaN                          NaN   \n",
       "4  ailzdefy6o            personalize        data      wishlist_content_update   \n",
       "\n",
       "       device_type  secs_elapsed  \n",
       "0  Windows Desktop           255  \n",
       "1  Windows Desktop           183  \n",
       "2  Windows Desktop        175570  \n",
       "3  Windows Desktop            86  \n",
       "4  Windows Desktop          1535  "
      ]
     },
     "execution_count": 30,
     "metadata": {},
     "output_type": "execute_result"
    }
   ],
   "source": [
    "sessions.head()"
   ]
  },
  {
   "cell_type": "code",
   "execution_count": 31,
   "metadata": {
    "collapsed": false
   },
   "outputs": [],
   "source": [
    "cf = ['action','action_type','action_detail','device_type']\n",
    "s = sessions[cf].copy().fillna('missing')\n",
    "mcl = MultiColumnLabelEncoder()\n",
    "ohe = OneHotEncoder()\n",
    "x = ohe.fit_transform(\n",
    "    mcl.fit_transform(s)\n",
    ").todense()"
   ]
  },
  {
   "cell_type": "code",
   "execution_count": 32,
   "metadata": {
    "collapsed": true
   },
   "outputs": [],
   "source": [
    "try:\n",
    "    sessions_new = pd.read_csv('Data/sessions_new.csv',index_col=0)\n",
    "except IOError:\n",
    "    sessions_new = []"
   ]
  },
  {
   "cell_type": "code",
   "execution_count": 33,
   "metadata": {
    "collapsed": false
   },
   "outputs": [],
   "source": [
    "run = True if len(sessions_new)==0 else False"
   ]
  },
  {
   "cell_type": "code",
   "execution_count": 34,
   "metadata": {
    "collapsed": false
   },
   "outputs": [],
   "source": [
    "if run:\n",
    "    n = 100\n",
    "    loops = sessions.shape[0]//n*np.arange(n)\n",
    "\n",
    "    o = []\n",
    "    start_time = DT.datetime.now()\n",
    "    for i,l in enumerate(loops):\n",
    "        try:\n",
    "            a,b = loops[i],loops[i+1]\n",
    "        except:\n",
    "            a,b = loops[i],sessions.shape[0]\n",
    "\n",
    "        sessions_new = pd.DataFrame(np.concatenate(\\\n",
    "            (\n",
    "                sessions[['user_id']][a:b]\\\n",
    "                , x[a:b]\\\n",
    "                , sessions[['secs_elapsed']][a:b]\n",
    "            )\n",
    "            , axis=1\n",
    "        ))\n",
    "        sessions_grouped = sessions_new.groupby([0]).sum()\n",
    "        o.append(sessions_grouped)\n",
    "\n",
    "        if i%10==0:\n",
    "            this_time = DT.datetime.now()\n",
    "            time_change = (this_time - start_time).seconds\n",
    "            per_second = b*1.0 / (time_change)\n",
    "            total_time = sessions.shape[0] / per_second / 60\n",
    "            pct = b*1.0 / sessions.shape[0]\n",
    "            print('finished {}%, {} mins est. time remaining'\\\n",
    "                    .format(round(pct*100,2)\\\n",
    "                            ,(1-pct)*total_time))\n",
    "    sessions_new = pd.concat(o,ignore_index=True)\n",
    "    sessions_new['user_id'] = pd.concat(o).index\n",
    "    sessions_new = sessions_new.groupby('user_id').sum()\n",
    "    sessions_new.to_csv('Data/sessions_new.csv',index=True,header=True)"
   ]
  },
  {
   "cell_type": "code",
   "execution_count": 35,
   "metadata": {
    "collapsed": false
   },
   "outputs": [
    {
     "data": {
      "text/html": [
       "<div>\n",
       "<table border=\"1\" class=\"dataframe\">\n",
       "  <thead>\n",
       "    <tr style=\"text-align: right;\">\n",
       "      <th></th>\n",
       "      <th>1</th>\n",
       "      <th>2</th>\n",
       "      <th>3</th>\n",
       "      <th>4</th>\n",
       "      <th>5</th>\n",
       "      <th>6</th>\n",
       "      <th>7</th>\n",
       "      <th>8</th>\n",
       "      <th>9</th>\n",
       "      <th>10</th>\n",
       "      <th>...</th>\n",
       "      <th>478</th>\n",
       "      <th>479</th>\n",
       "      <th>480</th>\n",
       "      <th>481</th>\n",
       "      <th>482</th>\n",
       "      <th>483</th>\n",
       "      <th>484</th>\n",
       "      <th>485</th>\n",
       "      <th>486</th>\n",
       "      <th>country_destination</th>\n",
       "    </tr>\n",
       "  </thead>\n",
       "  <tbody>\n",
       "    <tr>\n",
       "      <th>49gzikhjfp</th>\n",
       "      <td>0</td>\n",
       "      <td>0</td>\n",
       "      <td>0</td>\n",
       "      <td>0</td>\n",
       "      <td>0</td>\n",
       "      <td>0</td>\n",
       "      <td>0</td>\n",
       "      <td>0</td>\n",
       "      <td>0</td>\n",
       "      <td>0</td>\n",
       "      <td>...</td>\n",
       "      <td>19</td>\n",
       "      <td>0</td>\n",
       "      <td>0</td>\n",
       "      <td>0</td>\n",
       "      <td>0</td>\n",
       "      <td>0</td>\n",
       "      <td>0</td>\n",
       "      <td>0</td>\n",
       "      <td>570756</td>\n",
       "      <td>US</td>\n",
       "    </tr>\n",
       "    <tr>\n",
       "      <th>49ixadwceh</th>\n",
       "      <td>0</td>\n",
       "      <td>0</td>\n",
       "      <td>0</td>\n",
       "      <td>0</td>\n",
       "      <td>0</td>\n",
       "      <td>0</td>\n",
       "      <td>0</td>\n",
       "      <td>0</td>\n",
       "      <td>0</td>\n",
       "      <td>0</td>\n",
       "      <td>...</td>\n",
       "      <td>0</td>\n",
       "      <td>0</td>\n",
       "      <td>0</td>\n",
       "      <td>0</td>\n",
       "      <td>0</td>\n",
       "      <td>0</td>\n",
       "      <td>0</td>\n",
       "      <td>0</td>\n",
       "      <td>2622468</td>\n",
       "      <td>NDF</td>\n",
       "    </tr>\n",
       "    <tr>\n",
       "      <th>49laq7wdzs</th>\n",
       "      <td>0</td>\n",
       "      <td>0</td>\n",
       "      <td>0</td>\n",
       "      <td>0</td>\n",
       "      <td>0</td>\n",
       "      <td>1</td>\n",
       "      <td>0</td>\n",
       "      <td>0</td>\n",
       "      <td>0</td>\n",
       "      <td>0</td>\n",
       "      <td>...</td>\n",
       "      <td>0</td>\n",
       "      <td>0</td>\n",
       "      <td>0</td>\n",
       "      <td>0</td>\n",
       "      <td>0</td>\n",
       "      <td>110</td>\n",
       "      <td>0</td>\n",
       "      <td>0</td>\n",
       "      <td>2060159</td>\n",
       "      <td>NDF</td>\n",
       "    </tr>\n",
       "    <tr>\n",
       "      <th>49r4cggdc9</th>\n",
       "      <td>0</td>\n",
       "      <td>0</td>\n",
       "      <td>0</td>\n",
       "      <td>0</td>\n",
       "      <td>0</td>\n",
       "      <td>0</td>\n",
       "      <td>0</td>\n",
       "      <td>0</td>\n",
       "      <td>0</td>\n",
       "      <td>0</td>\n",
       "      <td>...</td>\n",
       "      <td>0</td>\n",
       "      <td>0</td>\n",
       "      <td>0</td>\n",
       "      <td>0</td>\n",
       "      <td>0</td>\n",
       "      <td>0</td>\n",
       "      <td>10</td>\n",
       "      <td>0</td>\n",
       "      <td>73213</td>\n",
       "      <td>NDF</td>\n",
       "    </tr>\n",
       "    <tr>\n",
       "      <th>49sxqimts6</th>\n",
       "      <td>0</td>\n",
       "      <td>0</td>\n",
       "      <td>0</td>\n",
       "      <td>0</td>\n",
       "      <td>0</td>\n",
       "      <td>0</td>\n",
       "      <td>0</td>\n",
       "      <td>0</td>\n",
       "      <td>0</td>\n",
       "      <td>0</td>\n",
       "      <td>...</td>\n",
       "      <td>15</td>\n",
       "      <td>0</td>\n",
       "      <td>0</td>\n",
       "      <td>0</td>\n",
       "      <td>0</td>\n",
       "      <td>0</td>\n",
       "      <td>0</td>\n",
       "      <td>0</td>\n",
       "      <td>121461</td>\n",
       "      <td>NDF</td>\n",
       "    </tr>\n",
       "  </tbody>\n",
       "</table>\n",
       "<p>5 rows × 487 columns</p>\n",
       "</div>"
      ],
      "text/plain": [
       "            1  2  3  4  5  6  7  8  9  10         ...           478  479  480  \\\n",
       "49gzikhjfp  0  0  0  0  0  0  0  0  0   0         ...            19    0    0   \n",
       "49ixadwceh  0  0  0  0  0  0  0  0  0   0         ...             0    0    0   \n",
       "49laq7wdzs  0  0  0  0  0  1  0  0  0   0         ...             0    0    0   \n",
       "49r4cggdc9  0  0  0  0  0  0  0  0  0   0         ...             0    0    0   \n",
       "49sxqimts6  0  0  0  0  0  0  0  0  0   0         ...            15    0    0   \n",
       "\n",
       "            481  482  483  484  485      486  country_destination  \n",
       "49gzikhjfp    0    0    0    0    0   570756                   US  \n",
       "49ixadwceh    0    0    0    0    0  2622468                  NDF  \n",
       "49laq7wdzs    0    0  110    0    0  2060159                  NDF  \n",
       "49r4cggdc9    0    0    0   10    0    73213                  NDF  \n",
       "49sxqimts6    0    0    0    0    0   121461                  NDF  \n",
       "\n",
       "[5 rows x 487 columns]"
      ]
     },
     "execution_count": 35,
     "metadata": {},
     "output_type": "execute_result"
    }
   ],
   "source": [
    "target = pd.DataFrame({'country_destination':train_set['country_destination']})\n",
    "target.index = train_set['id']\n",
    "merged = pd.merge(\\\n",
    "            sessions_new\\\n",
    "            , target\\\n",
    "            , how='inner'\\\n",
    "            , left_index=True\n",
    "            , right_index=True\n",
    "         )\n",
    "merged.head()"
   ]
  },
  {
   "cell_type": "code",
   "execution_count": 36,
   "metadata": {
    "collapsed": false
   },
   "outputs": [
    {
     "data": {
      "text/html": [
       "<div>\n",
       "<table border=\"1\" class=\"dataframe\">\n",
       "  <thead>\n",
       "    <tr style=\"text-align: right;\">\n",
       "      <th></th>\n",
       "      <th>1</th>\n",
       "      <th>2</th>\n",
       "      <th>3</th>\n",
       "      <th>4</th>\n",
       "      <th>5</th>\n",
       "      <th>6</th>\n",
       "      <th>7</th>\n",
       "      <th>8</th>\n",
       "      <th>9</th>\n",
       "      <th>10</th>\n",
       "      <th>...</th>\n",
       "      <th>477</th>\n",
       "      <th>478</th>\n",
       "      <th>479</th>\n",
       "      <th>480</th>\n",
       "      <th>481</th>\n",
       "      <th>482</th>\n",
       "      <th>483</th>\n",
       "      <th>484</th>\n",
       "      <th>485</th>\n",
       "      <th>486</th>\n",
       "    </tr>\n",
       "  </thead>\n",
       "  <tbody>\n",
       "    <tr>\n",
       "      <th>count</th>\n",
       "      <td>27568.000000</td>\n",
       "      <td>27568.000000</td>\n",
       "      <td>27568.000000</td>\n",
       "      <td>27568.000000</td>\n",
       "      <td>27568.000000</td>\n",
       "      <td>27568.000000</td>\n",
       "      <td>27568</td>\n",
       "      <td>27568</td>\n",
       "      <td>27568</td>\n",
       "      <td>27568</td>\n",
       "      <td>...</td>\n",
       "      <td>27568.000000</td>\n",
       "      <td>27568.000000</td>\n",
       "      <td>27568</td>\n",
       "      <td>27568.000000</td>\n",
       "      <td>27568.000000</td>\n",
       "      <td>27568.000000</td>\n",
       "      <td>27568.000000</td>\n",
       "      <td>27568.000000</td>\n",
       "      <td>27568.000000</td>\n",
       "      <td>26910.000000</td>\n",
       "    </tr>\n",
       "    <tr>\n",
       "      <th>mean</th>\n",
       "      <td>0.015997</td>\n",
       "      <td>0.003700</td>\n",
       "      <td>0.017665</td>\n",
       "      <td>0.006457</td>\n",
       "      <td>0.000544</td>\n",
       "      <td>0.070662</td>\n",
       "      <td>0</td>\n",
       "      <td>0</td>\n",
       "      <td>0</td>\n",
       "      <td>0</td>\n",
       "      <td>...</td>\n",
       "      <td>0.223121</td>\n",
       "      <td>28.651480</td>\n",
       "      <td>0</td>\n",
       "      <td>0.315946</td>\n",
       "      <td>19.315656</td>\n",
       "      <td>0.001596</td>\n",
       "      <td>4.614227</td>\n",
       "      <td>3.039575</td>\n",
       "      <td>0.031087</td>\n",
       "      <td>1449033.382869</td>\n",
       "    </tr>\n",
       "    <tr>\n",
       "      <th>std</th>\n",
       "      <td>0.356011</td>\n",
       "      <td>0.101432</td>\n",
       "      <td>0.270051</td>\n",
       "      <td>0.160581</td>\n",
       "      <td>0.023320</td>\n",
       "      <td>0.354295</td>\n",
       "      <td>0</td>\n",
       "      <td>0</td>\n",
       "      <td>0</td>\n",
       "      <td>0</td>\n",
       "      <td>...</td>\n",
       "      <td>6.194284</td>\n",
       "      <td>73.825563</td>\n",
       "      <td>0</td>\n",
       "      <td>5.732309</td>\n",
       "      <td>56.886660</td>\n",
       "      <td>0.078049</td>\n",
       "      <td>30.433976</td>\n",
       "      <td>30.206527</td>\n",
       "      <td>2.152512</td>\n",
       "      <td>1810286.867621</td>\n",
       "    </tr>\n",
       "    <tr>\n",
       "      <th>min</th>\n",
       "      <td>0.000000</td>\n",
       "      <td>0.000000</td>\n",
       "      <td>0.000000</td>\n",
       "      <td>0.000000</td>\n",
       "      <td>0.000000</td>\n",
       "      <td>0.000000</td>\n",
       "      <td>0</td>\n",
       "      <td>0</td>\n",
       "      <td>0</td>\n",
       "      <td>0</td>\n",
       "      <td>...</td>\n",
       "      <td>0.000000</td>\n",
       "      <td>0.000000</td>\n",
       "      <td>0</td>\n",
       "      <td>0.000000</td>\n",
       "      <td>0.000000</td>\n",
       "      <td>0.000000</td>\n",
       "      <td>0.000000</td>\n",
       "      <td>0.000000</td>\n",
       "      <td>0.000000</td>\n",
       "      <td>0.000000</td>\n",
       "    </tr>\n",
       "    <tr>\n",
       "      <th>25%</th>\n",
       "      <td>0.000000</td>\n",
       "      <td>0.000000</td>\n",
       "      <td>0.000000</td>\n",
       "      <td>0.000000</td>\n",
       "      <td>0.000000</td>\n",
       "      <td>0.000000</td>\n",
       "      <td>0</td>\n",
       "      <td>0</td>\n",
       "      <td>0</td>\n",
       "      <td>0</td>\n",
       "      <td>...</td>\n",
       "      <td>0.000000</td>\n",
       "      <td>0.000000</td>\n",
       "      <td>0</td>\n",
       "      <td>0.000000</td>\n",
       "      <td>0.000000</td>\n",
       "      <td>0.000000</td>\n",
       "      <td>0.000000</td>\n",
       "      <td>0.000000</td>\n",
       "      <td>0.000000</td>\n",
       "      <td>241873.750000</td>\n",
       "    </tr>\n",
       "    <tr>\n",
       "      <th>50%</th>\n",
       "      <td>0.000000</td>\n",
       "      <td>0.000000</td>\n",
       "      <td>0.000000</td>\n",
       "      <td>0.000000</td>\n",
       "      <td>0.000000</td>\n",
       "      <td>0.000000</td>\n",
       "      <td>0</td>\n",
       "      <td>0</td>\n",
       "      <td>0</td>\n",
       "      <td>0</td>\n",
       "      <td>...</td>\n",
       "      <td>0.000000</td>\n",
       "      <td>0.000000</td>\n",
       "      <td>0</td>\n",
       "      <td>0.000000</td>\n",
       "      <td>0.000000</td>\n",
       "      <td>0.000000</td>\n",
       "      <td>0.000000</td>\n",
       "      <td>0.000000</td>\n",
       "      <td>0.000000</td>\n",
       "      <td>856595.000000</td>\n",
       "    </tr>\n",
       "    <tr>\n",
       "      <th>75%</th>\n",
       "      <td>0.000000</td>\n",
       "      <td>0.000000</td>\n",
       "      <td>0.000000</td>\n",
       "      <td>0.000000</td>\n",
       "      <td>0.000000</td>\n",
       "      <td>0.000000</td>\n",
       "      <td>0</td>\n",
       "      <td>0</td>\n",
       "      <td>0</td>\n",
       "      <td>0</td>\n",
       "      <td>...</td>\n",
       "      <td>0.000000</td>\n",
       "      <td>24.000000</td>\n",
       "      <td>0</td>\n",
       "      <td>0.000000</td>\n",
       "      <td>11.000000</td>\n",
       "      <td>0.000000</td>\n",
       "      <td>0.000000</td>\n",
       "      <td>0.000000</td>\n",
       "      <td>0.000000</td>\n",
       "      <td>1981334.000000</td>\n",
       "    </tr>\n",
       "    <tr>\n",
       "      <th>max</th>\n",
       "      <td>47.000000</td>\n",
       "      <td>7.000000</td>\n",
       "      <td>19.000000</td>\n",
       "      <td>12.000000</td>\n",
       "      <td>1.000000</td>\n",
       "      <td>12.000000</td>\n",
       "      <td>0</td>\n",
       "      <td>0</td>\n",
       "      <td>0</td>\n",
       "      <td>0</td>\n",
       "      <td>...</td>\n",
       "      <td>504.000000</td>\n",
       "      <td>2085.000000</td>\n",
       "      <td>0</td>\n",
       "      <td>258.000000</td>\n",
       "      <td>1600.000000</td>\n",
       "      <td>6.000000</td>\n",
       "      <td>1382.000000</td>\n",
       "      <td>1366.000000</td>\n",
       "      <td>224.000000</td>\n",
       "      <td>31393292.000000</td>\n",
       "    </tr>\n",
       "  </tbody>\n",
       "</table>\n",
       "<p>8 rows × 486 columns</p>\n",
       "</div>"
      ],
      "text/plain": [
       "                  1             2             3             4             5  \\\n",
       "count  27568.000000  27568.000000  27568.000000  27568.000000  27568.000000   \n",
       "mean       0.015997      0.003700      0.017665      0.006457      0.000544   \n",
       "std        0.356011      0.101432      0.270051      0.160581      0.023320   \n",
       "min        0.000000      0.000000      0.000000      0.000000      0.000000   \n",
       "25%        0.000000      0.000000      0.000000      0.000000      0.000000   \n",
       "50%        0.000000      0.000000      0.000000      0.000000      0.000000   \n",
       "75%        0.000000      0.000000      0.000000      0.000000      0.000000   \n",
       "max       47.000000      7.000000     19.000000     12.000000      1.000000   \n",
       "\n",
       "                  6      7      8      9     10       ...         \\\n",
       "count  27568.000000  27568  27568  27568  27568       ...          \n",
       "mean       0.070662      0      0      0      0       ...          \n",
       "std        0.354295      0      0      0      0       ...          \n",
       "min        0.000000      0      0      0      0       ...          \n",
       "25%        0.000000      0      0      0      0       ...          \n",
       "50%        0.000000      0      0      0      0       ...          \n",
       "75%        0.000000      0      0      0      0       ...          \n",
       "max       12.000000      0      0      0      0       ...          \n",
       "\n",
       "                477           478    479           480           481  \\\n",
       "count  27568.000000  27568.000000  27568  27568.000000  27568.000000   \n",
       "mean       0.223121     28.651480      0      0.315946     19.315656   \n",
       "std        6.194284     73.825563      0      5.732309     56.886660   \n",
       "min        0.000000      0.000000      0      0.000000      0.000000   \n",
       "25%        0.000000      0.000000      0      0.000000      0.000000   \n",
       "50%        0.000000      0.000000      0      0.000000      0.000000   \n",
       "75%        0.000000     24.000000      0      0.000000     11.000000   \n",
       "max      504.000000   2085.000000      0    258.000000   1600.000000   \n",
       "\n",
       "                482           483           484           485              486  \n",
       "count  27568.000000  27568.000000  27568.000000  27568.000000     26910.000000  \n",
       "mean       0.001596      4.614227      3.039575      0.031087   1449033.382869  \n",
       "std        0.078049     30.433976     30.206527      2.152512   1810286.867621  \n",
       "min        0.000000      0.000000      0.000000      0.000000         0.000000  \n",
       "25%        0.000000      0.000000      0.000000      0.000000    241873.750000  \n",
       "50%        0.000000      0.000000      0.000000      0.000000    856595.000000  \n",
       "75%        0.000000      0.000000      0.000000      0.000000   1981334.000000  \n",
       "max        6.000000   1382.000000   1366.000000    224.000000  31393292.000000  \n",
       "\n",
       "[8 rows x 486 columns]"
      ]
     },
     "execution_count": 36,
     "metadata": {},
     "output_type": "execute_result"
    }
   ],
   "source": [
    "merged.describe()"
   ]
  },
  {
   "cell_type": "code",
   "execution_count": 37,
   "metadata": {
    "collapsed": false
   },
   "outputs": [
    {
     "data": {
      "text/plain": [
       "8100419.0"
      ]
     },
     "execution_count": 37,
     "metadata": {},
     "output_type": "execute_result"
    }
   ],
   "source": [
    "np.max(np.array(merged)[:,:-1])"
   ]
  },
  {
   "cell_type": "code",
   "execution_count": 38,
   "metadata": {
    "collapsed": false
   },
   "outputs": [
    {
     "name": "stderr",
     "output_type": "stream",
     "text": [
      "/Library/Python/2.7/site-packages/sklearn/utils/validation.py:515: DataConversionWarning: A column-vector y was passed when a 1d array was expected. Please change the shape of y to (n_samples, ), for example using ravel().\n",
      "  y = column_or_1d(y, warn=True)\n",
      "/Library/Python/2.7/site-packages/sklearn/discriminant_analysis.py:453: UserWarning: The priors do not sum to 1. Renormalizing\n",
      "  UserWarning)\n",
      "/Library/Python/2.7/site-packages/sklearn/discriminant_analysis.py:387: UserWarning: Variables are collinear.\n",
      "  warnings.warn(\"Variables are collinear.\")\n"
     ]
    }
   ],
   "source": [
    "ss = StandardScaler(with_mean=False)\n",
    "ii = Imputer(strategy='most_frequent')\n",
    "lda = LDA()\n",
    "p = Pipeline([('ii',ii),('ss', ss)])\n",
    "merged_new = p.fit_transform(np.array(merged)[:,:-1])\n",
    "l = lda.fit_transform(merged_new, np.array(merged)[:,-1:])"
   ]
  },
  {
   "cell_type": "code",
   "execution_count": 39,
   "metadata": {
    "collapsed": false
   },
   "outputs": [],
   "source": [
    "sessions_lda = pd.DataFrame(l\\\n",
    "                            ,index=merged.index\\\n",
    "                            ,columns=[ 'lda_'+str(i) \\\n",
    "                                      for i in range(l.shape[1]) ])"
   ]
  },
  {
   "cell_type": "code",
   "execution_count": 40,
   "metadata": {
    "collapsed": false
   },
   "outputs": [
    {
     "data": {
      "text/html": [
       "<div>\n",
       "<table border=\"1\" class=\"dataframe\">\n",
       "  <thead>\n",
       "    <tr style=\"text-align: right;\">\n",
       "      <th></th>\n",
       "      <th>lda_0</th>\n",
       "      <th>lda_1</th>\n",
       "      <th>lda_2</th>\n",
       "      <th>lda_3</th>\n",
       "      <th>lda_4</th>\n",
       "      <th>lda_5</th>\n",
       "      <th>lda_6</th>\n",
       "      <th>lda_7</th>\n",
       "      <th>lda_8</th>\n",
       "      <th>lda_9</th>\n",
       "      <th>lda_10</th>\n",
       "    </tr>\n",
       "  </thead>\n",
       "  <tbody>\n",
       "    <tr>\n",
       "      <th>49gzikhjfp</th>\n",
       "      <td>-1.511577</td>\n",
       "      <td>-0.014276</td>\n",
       "      <td>-0.618227</td>\n",
       "      <td>-0.180042</td>\n",
       "      <td>-0.821586</td>\n",
       "      <td>-0.008823</td>\n",
       "      <td>-0.260880</td>\n",
       "      <td>0.498179</td>\n",
       "      <td>0.371482</td>\n",
       "      <td>-2.182412</td>\n",
       "      <td>1.263511</td>\n",
       "    </tr>\n",
       "    <tr>\n",
       "      <th>49ixadwceh</th>\n",
       "      <td>1.168552</td>\n",
       "      <td>-0.449284</td>\n",
       "      <td>-0.309742</td>\n",
       "      <td>0.267128</td>\n",
       "      <td>-0.002766</td>\n",
       "      <td>0.135722</td>\n",
       "      <td>0.253867</td>\n",
       "      <td>-0.099542</td>\n",
       "      <td>0.010095</td>\n",
       "      <td>0.548047</td>\n",
       "      <td>0.021563</td>\n",
       "    </tr>\n",
       "    <tr>\n",
       "      <th>49laq7wdzs</th>\n",
       "      <td>0.019478</td>\n",
       "      <td>0.482780</td>\n",
       "      <td>1.105103</td>\n",
       "      <td>-0.074633</td>\n",
       "      <td>0.923707</td>\n",
       "      <td>0.123424</td>\n",
       "      <td>-1.808378</td>\n",
       "      <td>-0.335312</td>\n",
       "      <td>0.058834</td>\n",
       "      <td>-0.323411</td>\n",
       "      <td>1.148811</td>\n",
       "    </tr>\n",
       "    <tr>\n",
       "      <th>49r4cggdc9</th>\n",
       "      <td>0.936202</td>\n",
       "      <td>-0.229380</td>\n",
       "      <td>-0.044153</td>\n",
       "      <td>0.051209</td>\n",
       "      <td>-0.037806</td>\n",
       "      <td>-0.027711</td>\n",
       "      <td>0.410309</td>\n",
       "      <td>0.026468</td>\n",
       "      <td>0.091323</td>\n",
       "      <td>-0.546221</td>\n",
       "      <td>-0.593118</td>\n",
       "    </tr>\n",
       "    <tr>\n",
       "      <th>49sxqimts6</th>\n",
       "      <td>0.674172</td>\n",
       "      <td>0.059456</td>\n",
       "      <td>0.116421</td>\n",
       "      <td>-0.092604</td>\n",
       "      <td>0.009533</td>\n",
       "      <td>-0.186448</td>\n",
       "      <td>-0.045982</td>\n",
       "      <td>0.068524</td>\n",
       "      <td>0.228748</td>\n",
       "      <td>-0.203300</td>\n",
       "      <td>0.054418</td>\n",
       "    </tr>\n",
       "  </tbody>\n",
       "</table>\n",
       "</div>"
      ],
      "text/plain": [
       "               lda_0     lda_1     lda_2     lda_3     lda_4     lda_5  \\\n",
       "49gzikhjfp -1.511577 -0.014276 -0.618227 -0.180042 -0.821586 -0.008823   \n",
       "49ixadwceh  1.168552 -0.449284 -0.309742  0.267128 -0.002766  0.135722   \n",
       "49laq7wdzs  0.019478  0.482780  1.105103 -0.074633  0.923707  0.123424   \n",
       "49r4cggdc9  0.936202 -0.229380 -0.044153  0.051209 -0.037806 -0.027711   \n",
       "49sxqimts6  0.674172  0.059456  0.116421 -0.092604  0.009533 -0.186448   \n",
       "\n",
       "               lda_6     lda_7     lda_8     lda_9    lda_10  \n",
       "49gzikhjfp -0.260880  0.498179  0.371482 -2.182412  1.263511  \n",
       "49ixadwceh  0.253867 -0.099542  0.010095  0.548047  0.021563  \n",
       "49laq7wdzs -1.808378 -0.335312  0.058834 -0.323411  1.148811  \n",
       "49r4cggdc9  0.410309  0.026468  0.091323 -0.546221 -0.593118  \n",
       "49sxqimts6 -0.045982  0.068524  0.228748 -0.203300  0.054418  "
      ]
     },
     "execution_count": 40,
     "metadata": {},
     "output_type": "execute_result"
    }
   ],
   "source": [
    "sessions_lda.head()"
   ]
  },
  {
   "cell_type": "code",
   "execution_count": 41,
   "metadata": {
    "collapsed": false
   },
   "outputs": [],
   "source": [
    "pca = PCA(n_components=1)\n",
    "p = pca.fit_transform(sessions_lda)"
   ]
  },
  {
   "cell_type": "code",
   "execution_count": 42,
   "metadata": {
    "collapsed": false
   },
   "outputs": [],
   "source": [
    "t = pd.merge(\\\n",
    "            train_set\\\n",
    "            , pd.DataFrame({'lda':p[:,0]},index=sessions_lda.index)\\\n",
    "            , how='inner'\\\n",
    "            , left_index=True\n",
    "            , right_index=True\n",
    "    )"
   ]
  },
  {
   "cell_type": "code",
   "execution_count": 48,
   "metadata": {
    "collapsed": false
   },
   "outputs": [
    {
     "data": {
      "text/html": [
       "<div>\n",
       "<table border=\"1\" class=\"dataframe\">\n",
       "  <thead>\n",
       "    <tr style=\"text-align: right;\">\n",
       "      <th></th>\n",
       "      <th>gender</th>\n",
       "      <th>age</th>\n",
       "      <th>signup_flow</th>\n",
       "      <th>language</th>\n",
       "      <th>affiliate_channel</th>\n",
       "      <th>affiliate_provider</th>\n",
       "      <th>first_affiliate_tracked</th>\n",
       "      <th>signup_app</th>\n",
       "      <th>first_device_type</th>\n",
       "      <th>first_browser</th>\n",
       "      <th>year_created</th>\n",
       "      <th>month_created</th>\n",
       "      <th>year_first_booking</th>\n",
       "      <th>month_first_booking</th>\n",
       "      <th>days_to_first_booking</th>\n",
       "      <th>population_estimate</th>\n",
       "      <th>lda</th>\n",
       "    </tr>\n",
       "  </thead>\n",
       "  <tbody>\n",
       "    <tr>\n",
       "      <th>49fhm2fb0y</th>\n",
       "      <td>-unknown-</td>\n",
       "      <td>19</td>\n",
       "      <td>0</td>\n",
       "      <td>en</td>\n",
       "      <td>direct</td>\n",
       "      <td>direct</td>\n",
       "      <td>untracked</td>\n",
       "      <td>Web</td>\n",
       "      <td>Windows Desktop</td>\n",
       "      <td>Firefox</td>\n",
       "      <td>2014</td>\n",
       "      <td>2</td>\n",
       "      <td>2014</td>\n",
       "      <td>2</td>\n",
       "      <td>0</td>\n",
       "      <td>0</td>\n",
       "      <td>-2.057951</td>\n",
       "    </tr>\n",
       "    <tr>\n",
       "      <th>49gzikhjfp</th>\n",
       "      <td>-unknown-</td>\n",
       "      <td>NaN</td>\n",
       "      <td>0</td>\n",
       "      <td>en</td>\n",
       "      <td>direct</td>\n",
       "      <td>direct</td>\n",
       "      <td>untracked</td>\n",
       "      <td>Web</td>\n",
       "      <td>Mac Desktop</td>\n",
       "      <td>Safari</td>\n",
       "      <td>2014</td>\n",
       "      <td>2</td>\n",
       "      <td>2014</td>\n",
       "      <td>2</td>\n",
       "      <td>0</td>\n",
       "      <td>0</td>\n",
       "      <td>-1.511577</td>\n",
       "    </tr>\n",
       "    <tr>\n",
       "      <th>49ixadwceh</th>\n",
       "      <td>-unknown-</td>\n",
       "      <td>NaN</td>\n",
       "      <td>23</td>\n",
       "      <td>en</td>\n",
       "      <td>direct</td>\n",
       "      <td>direct</td>\n",
       "      <td>untracked</td>\n",
       "      <td>Android</td>\n",
       "      <td>Other/Unknown</td>\n",
       "      <td>-unknown-</td>\n",
       "      <td>2014</td>\n",
       "      <td>2</td>\n",
       "      <td>NaN</td>\n",
       "      <td>NaN</td>\n",
       "      <td>NaN</td>\n",
       "      <td>0</td>\n",
       "      <td>1.168552</td>\n",
       "    </tr>\n",
       "    <tr>\n",
       "      <th>49k9gpxjva</th>\n",
       "      <td>-unknown-</td>\n",
       "      <td>35</td>\n",
       "      <td>0</td>\n",
       "      <td>en</td>\n",
       "      <td>direct</td>\n",
       "      <td>direct</td>\n",
       "      <td>untracked</td>\n",
       "      <td>Web</td>\n",
       "      <td>Mac Desktop</td>\n",
       "      <td>Chrome</td>\n",
       "      <td>2014</td>\n",
       "      <td>2</td>\n",
       "      <td>2014</td>\n",
       "      <td>2</td>\n",
       "      <td>0</td>\n",
       "      <td>0</td>\n",
       "      <td>-1.969753</td>\n",
       "    </tr>\n",
       "    <tr>\n",
       "      <th>49laq7wdzs</th>\n",
       "      <td>-unknown-</td>\n",
       "      <td>NaN</td>\n",
       "      <td>0</td>\n",
       "      <td>en</td>\n",
       "      <td>sem-brand</td>\n",
       "      <td>google</td>\n",
       "      <td>linked</td>\n",
       "      <td>Web</td>\n",
       "      <td>iPhone</td>\n",
       "      <td>Mobile Safari</td>\n",
       "      <td>2014</td>\n",
       "      <td>3</td>\n",
       "      <td>NaN</td>\n",
       "      <td>NaN</td>\n",
       "      <td>NaN</td>\n",
       "      <td>0</td>\n",
       "      <td>0.019478</td>\n",
       "    </tr>\n",
       "  </tbody>\n",
       "</table>\n",
       "</div>"
      ],
      "text/plain": [
       "               gender  age  signup_flow language affiliate_channel  \\\n",
       "49fhm2fb0y  -unknown-   19            0       en            direct   \n",
       "49gzikhjfp  -unknown-  NaN            0       en            direct   \n",
       "49ixadwceh  -unknown-  NaN           23       en            direct   \n",
       "49k9gpxjva  -unknown-   35            0       en            direct   \n",
       "49laq7wdzs  -unknown-  NaN            0       en         sem-brand   \n",
       "\n",
       "           affiliate_provider first_affiliate_tracked signup_app  \\\n",
       "49fhm2fb0y             direct               untracked        Web   \n",
       "49gzikhjfp             direct               untracked        Web   \n",
       "49ixadwceh             direct               untracked    Android   \n",
       "49k9gpxjva             direct               untracked        Web   \n",
       "49laq7wdzs             google                  linked        Web   \n",
       "\n",
       "           first_device_type  first_browser  year_created  month_created  \\\n",
       "49fhm2fb0y   Windows Desktop        Firefox          2014              2   \n",
       "49gzikhjfp       Mac Desktop         Safari          2014              2   \n",
       "49ixadwceh     Other/Unknown      -unknown-          2014              2   \n",
       "49k9gpxjva       Mac Desktop         Chrome          2014              2   \n",
       "49laq7wdzs            iPhone  Mobile Safari          2014              3   \n",
       "\n",
       "            year_first_booking  month_first_booking  days_to_first_booking  \\\n",
       "49fhm2fb0y                2014                    2                      0   \n",
       "49gzikhjfp                2014                    2                      0   \n",
       "49ixadwceh                 NaN                  NaN                    NaN   \n",
       "49k9gpxjva                2014                    2                      0   \n",
       "49laq7wdzs                 NaN                  NaN                    NaN   \n",
       "\n",
       "            population_estimate       lda  \n",
       "49fhm2fb0y                    0 -2.057951  \n",
       "49gzikhjfp                    0 -1.511577  \n",
       "49ixadwceh                    0  1.168552  \n",
       "49k9gpxjva                    0 -1.969753  \n",
       "49laq7wdzs                    0  0.019478  "
      ]
     },
     "execution_count": 48,
     "metadata": {},
     "output_type": "execute_result"
    }
   ],
   "source": [
    "cols = [\n",
    " 'gender',\n",
    " 'age',\n",
    " #'signup_method',\n",
    " 'signup_flow',\n",
    " 'language',\n",
    " 'affiliate_channel',\n",
    " 'affiliate_provider',\n",
    " 'first_affiliate_tracked',\n",
    " 'signup_app',\n",
    " 'first_device_type',\n",
    " 'first_browser',\n",
    " 'year_created' ,\n",
    " 'month_created' ,\n",
    " 'year_first_booking' ,\n",
    " 'month_first_booking' ,\n",
    " 'days_to_first_booking',\n",
    " 'population_estimate'\n",
    "]\n",
    "t[cols+['lda']].head()"
   ]
  },
  {
   "cell_type": "code",
   "execution_count": 49,
   "metadata": {
    "collapsed": false
   },
   "outputs": [],
   "source": [
    "lm = LinearRegression()\n",
    "mcl = MultiColumnLabelEncoder()\n",
    "mm = MinMaxScaler()\n",
    "ohe = OneHotEncoder()\n",
    "ss = StandardScaler(with_mean=False)\n",
    "ii = Imputer(strategy='most_frequent')\n",
    "p = Pipeline([('mcl',mcl)\\\n",
    "              ,('ii',ii)\\\n",
    "              ,('mm',mm)\\\n",
    "              ,('ss', ss)\\\n",
    "              ])\n",
    "lda = p.fit_transform(t[cols])\n",
    "lda_lm = lm.fit(lda,t['lda'])"
   ]
  },
  {
   "cell_type": "markdown",
   "metadata": {},
   "source": [
    "#### Compile dataset"
   ]
  },
  {
   "cell_type": "code",
   "execution_count": 45,
   "metadata": {
    "collapsed": false
   },
   "outputs": [
    {
     "name": "stdout",
     "output_type": "stream",
     "text": [
      "(151240, 16)\n"
     ]
    }
   ],
   "source": [
    "cat_cols = [\n",
    "    'gender',\n",
    "    #'signup_method',\n",
    "    'signup_flow',\n",
    "    'language',\n",
    "    'affiliate_channel',\n",
    "    'affiliate_provider',\n",
    "    'first_affiliate_tracked',\n",
    "    'signup_app',\n",
    "    'first_device_type',\n",
    "    'first_browser',\n",
    "    'year_created',\n",
    "    'month_created',\n",
    "    'year_first_booking' ,\n",
    "    'month_first_booking' ,\n",
    "]\n",
    "num_cols = [\n",
    "    'age',\n",
    "    'days_to_first_booking',\n",
    "    'population_estimate' \n",
    "]\n",
    "print(train_set[cat_cols + num_cols].shape)"
   ]
  },
  {
   "cell_type": "code",
   "execution_count": 46,
   "metadata": {
    "collapsed": false
   },
   "outputs": [
    {
     "data": {
      "text/html": [
       "<div>\n",
       "<table border=\"1\" class=\"dataframe\">\n",
       "  <thead>\n",
       "    <tr style=\"text-align: right;\">\n",
       "      <th></th>\n",
       "      <th>gender</th>\n",
       "      <th>signup_flow</th>\n",
       "      <th>language</th>\n",
       "      <th>affiliate_channel</th>\n",
       "      <th>affiliate_provider</th>\n",
       "      <th>first_affiliate_tracked</th>\n",
       "      <th>signup_app</th>\n",
       "      <th>first_device_type</th>\n",
       "      <th>first_browser</th>\n",
       "      <th>year_created</th>\n",
       "      <th>month_created</th>\n",
       "      <th>year_first_booking</th>\n",
       "      <th>month_first_booking</th>\n",
       "      <th>age</th>\n",
       "      <th>days_to_first_booking</th>\n",
       "      <th>population_estimate</th>\n",
       "    </tr>\n",
       "    <tr>\n",
       "      <th>id</th>\n",
       "      <th></th>\n",
       "      <th></th>\n",
       "      <th></th>\n",
       "      <th></th>\n",
       "      <th></th>\n",
       "      <th></th>\n",
       "      <th></th>\n",
       "      <th></th>\n",
       "      <th></th>\n",
       "      <th></th>\n",
       "      <th></th>\n",
       "      <th></th>\n",
       "      <th></th>\n",
       "      <th></th>\n",
       "      <th></th>\n",
       "      <th></th>\n",
       "    </tr>\n",
       "  </thead>\n",
       "  <tbody>\n",
       "    <tr>\n",
       "      <th>49e9ggnrzw</th>\n",
       "      <td>-unknown-</td>\n",
       "      <td>0</td>\n",
       "      <td>en</td>\n",
       "      <td>direct</td>\n",
       "      <td>direct</td>\n",
       "      <td>product</td>\n",
       "      <td>Web</td>\n",
       "      <td>Mac Desktop</td>\n",
       "      <td>Safari</td>\n",
       "      <td>2013</td>\n",
       "      <td>6</td>\n",
       "      <td>NaN</td>\n",
       "      <td>NaN</td>\n",
       "      <td>NaN</td>\n",
       "      <td>NaN</td>\n",
       "      <td>0</td>\n",
       "    </tr>\n",
       "    <tr>\n",
       "      <th>49ecjdmxki</th>\n",
       "      <td>-unknown-</td>\n",
       "      <td>0</td>\n",
       "      <td>zh</td>\n",
       "      <td>direct</td>\n",
       "      <td>direct</td>\n",
       "      <td>untracked</td>\n",
       "      <td>Web</td>\n",
       "      <td>iPad</td>\n",
       "      <td>Mobile Safari</td>\n",
       "      <td>2013</td>\n",
       "      <td>2</td>\n",
       "      <td>NaN</td>\n",
       "      <td>NaN</td>\n",
       "      <td>NaN</td>\n",
       "      <td>NaN</td>\n",
       "      <td>0</td>\n",
       "    </tr>\n",
       "    <tr>\n",
       "      <th>49f1u9p752</th>\n",
       "      <td>-unknown-</td>\n",
       "      <td>0</td>\n",
       "      <td>en</td>\n",
       "      <td>direct</td>\n",
       "      <td>direct</td>\n",
       "      <td>untracked</td>\n",
       "      <td>Web</td>\n",
       "      <td>Mac Desktop</td>\n",
       "      <td>Chrome</td>\n",
       "      <td>2012</td>\n",
       "      <td>11</td>\n",
       "      <td>2012</td>\n",
       "      <td>11</td>\n",
       "      <td>NaN</td>\n",
       "      <td>1</td>\n",
       "      <td>0</td>\n",
       "    </tr>\n",
       "    <tr>\n",
       "      <th>49f3z9m1rn</th>\n",
       "      <td>-unknown-</td>\n",
       "      <td>0</td>\n",
       "      <td>en</td>\n",
       "      <td>direct</td>\n",
       "      <td>direct</td>\n",
       "      <td>untracked</td>\n",
       "      <td>Web</td>\n",
       "      <td>Mac Desktop</td>\n",
       "      <td>Safari</td>\n",
       "      <td>2013</td>\n",
       "      <td>7</td>\n",
       "      <td>NaN</td>\n",
       "      <td>NaN</td>\n",
       "      <td>NaN</td>\n",
       "      <td>NaN</td>\n",
       "      <td>0</td>\n",
       "    </tr>\n",
       "    <tr>\n",
       "      <th>49fm4jyyoq</th>\n",
       "      <td>-unknown-</td>\n",
       "      <td>0</td>\n",
       "      <td>en</td>\n",
       "      <td>direct</td>\n",
       "      <td>direct</td>\n",
       "      <td>untracked</td>\n",
       "      <td>Web</td>\n",
       "      <td>Windows Desktop</td>\n",
       "      <td>Firefox</td>\n",
       "      <td>2013</td>\n",
       "      <td>4</td>\n",
       "      <td>NaN</td>\n",
       "      <td>NaN</td>\n",
       "      <td>NaN</td>\n",
       "      <td>NaN</td>\n",
       "      <td>0</td>\n",
       "    </tr>\n",
       "  </tbody>\n",
       "</table>\n",
       "</div>"
      ],
      "text/plain": [
       "               gender  signup_flow language affiliate_channel  \\\n",
       "id                                                              \n",
       "49e9ggnrzw  -unknown-            0       en            direct   \n",
       "49ecjdmxki  -unknown-            0       zh            direct   \n",
       "49f1u9p752  -unknown-            0       en            direct   \n",
       "49f3z9m1rn  -unknown-            0       en            direct   \n",
       "49fm4jyyoq  -unknown-            0       en            direct   \n",
       "\n",
       "           affiliate_provider first_affiliate_tracked signup_app  \\\n",
       "id                                                                 \n",
       "49e9ggnrzw             direct                 product        Web   \n",
       "49ecjdmxki             direct               untracked        Web   \n",
       "49f1u9p752             direct               untracked        Web   \n",
       "49f3z9m1rn             direct               untracked        Web   \n",
       "49fm4jyyoq             direct               untracked        Web   \n",
       "\n",
       "           first_device_type  first_browser  year_created  month_created  \\\n",
       "id                                                                         \n",
       "49e9ggnrzw       Mac Desktop         Safari          2013              6   \n",
       "49ecjdmxki              iPad  Mobile Safari          2013              2   \n",
       "49f1u9p752       Mac Desktop         Chrome          2012             11   \n",
       "49f3z9m1rn       Mac Desktop         Safari          2013              7   \n",
       "49fm4jyyoq   Windows Desktop        Firefox          2013              4   \n",
       "\n",
       "            year_first_booking  month_first_booking  age  \\\n",
       "id                                                         \n",
       "49e9ggnrzw                 NaN                  NaN  NaN   \n",
       "49ecjdmxki                 NaN                  NaN  NaN   \n",
       "49f1u9p752                2012                   11  NaN   \n",
       "49f3z9m1rn                 NaN                  NaN  NaN   \n",
       "49fm4jyyoq                 NaN                  NaN  NaN   \n",
       "\n",
       "            days_to_first_booking  population_estimate  \n",
       "id                                                      \n",
       "49e9ggnrzw                    NaN                    0  \n",
       "49ecjdmxki                    NaN                    0  \n",
       "49f1u9p752                      1                    0  \n",
       "49f3z9m1rn                    NaN                    0  \n",
       "49fm4jyyoq                    NaN                    0  "
      ]
     },
     "execution_count": 46,
     "metadata": {},
     "output_type": "execute_result"
    }
   ],
   "source": [
    "train_set[cat_cols+num_cols].head()"
   ]
  },
  {
   "cell_type": "code",
   "execution_count": 50,
   "metadata": {
    "collapsed": false
   },
   "outputs": [],
   "source": [
    "tr_lda = p.fit_transform(train_set[cat_cols+num_cols])\n",
    "tst_lda = p.transform(test_set[cat_cols+num_cols])\n",
    "final_tst_lda = p.transform(final_test_set[cat_cols+num_cols])\n",
    "lda = lda_lm.predict(tr_lda)\n",
    "tst_lda = lda_lm.predict(tst_lda)\n",
    "final_tst_lda = lda_lm.predict(final_tst_lda)\n",
    "train_set['session_lda'] = lda\n",
    "test_set['session_lda'] = tst_lda\n",
    "final_test_set['session_lda'] = final_tst_lda"
   ]
  },
  {
   "cell_type": "code",
   "execution_count": 51,
   "metadata": {
    "collapsed": false
   },
   "outputs": [],
   "source": [
    "mcl = MultiColumnLabelEncoder()\n",
    "mm = MinMaxScaler()\n",
    "ohe = OneHotEncoder()\n",
    "ss = StandardScaler(with_mean=False)\n",
    "ii = Imputer(strategy='most_frequent')\n",
    "ii2 = Imputer(strategy='mean')\n",
    "p = Pipeline([('mcl',mcl),('ii',ii),('ohe',ohe)])\n",
    "p2 = Pipeline([('ii',ii2),('ss',ss),('mm',mm)])"
   ]
  },
  {
   "cell_type": "code",
   "execution_count": 52,
   "metadata": {
    "collapsed": false
   },
   "outputs": [],
   "source": [
    "z = p.fit_transform(train_set[cat_cols])\n",
    "zB = p2.fit_transform(train_set[num_cols+['session_lda']])\n",
    "z2 = p.transform(test_set[cat_cols])\n",
    "z2B = p2.transform(test_set[num_cols+['session_lda']])\n",
    "z3 = p.transform(final_test_set[cat_cols])\n",
    "z3B = p2.transform(final_test_set[num_cols+['session_lda']])\n",
    "\n",
    "train_set_new = np.concatenate((z.todense(),zB),axis=1)\n",
    "test_set_new = np.concatenate((z2.todense(),z2B),axis=1)\n",
    "final_test_set_new = np.concatenate((z3.todense(),z3B),axis=1)"
   ]
  },
  {
   "cell_type": "code",
   "execution_count": 53,
   "metadata": {
    "collapsed": false
   },
   "outputs": [
    {
     "name": "stdout",
     "output_type": "stream",
     "text": [
      "(151240, 187)\n"
     ]
    }
   ],
   "source": [
    "print(train_set_new[:,:].shape)"
   ]
  },
  {
   "cell_type": "code",
   "execution_count": 54,
   "metadata": {
    "collapsed": false
   },
   "outputs": [
    {
     "name": "stdout",
     "output_type": "stream",
     "text": [
      "(151240,)\n"
     ]
    }
   ],
   "source": [
    "train_target = train_set['country_destination'].fillna('unknown')\n",
    "test_target = test_set['country_destination'].fillna('unknown')\n",
    "print(train_target.shape)"
   ]
  },
  {
   "cell_type": "code",
   "execution_count": 55,
   "metadata": {
    "collapsed": false
   },
   "outputs": [],
   "source": [
    "lda = LDA()\n",
    "l = lda.fit_transform(train_set_new, np.array(train_target))"
   ]
  },
  {
   "cell_type": "code",
   "execution_count": 56,
   "metadata": {
    "collapsed": false
   },
   "outputs": [
    {
     "data": {
      "text/plain": [
       "[(186, 306788.34257762949),\n",
       " (183, 99217.957006919532),\n",
       " (184, 41296.221354054127),\n",
       " (74, 39764.659526925781),\n",
       " (83, 38053.060707085497),\n",
       " (95, 20511.838796352662),\n",
       " (96, 20195.429848776268),\n",
       " (98, 19539.23631739982),\n",
       " (126, 18784.293429632969),\n",
       " (107, 15655.857957247472),\n",
       " (88, 10809.276260304199),\n",
       " (125, 9264.1601201831745),\n",
       " (185, 8713.3132179981094),\n",
       " (100, 8501.6987928302333),\n",
       " (173, 6401.0442651488556),\n",
       " (21, 5285.94738711024),\n",
       " (19, 5157.0250739765097),\n",
       " (85, 4151.7358482208929),\n",
       " (20, 3927.6572955708511),\n",
       " (145, 3609.1873963957541),\n",
       " (182, 3143.9144601352855),\n",
       " (143, 2885.807178817252),\n",
       " (135, 2881.9757959698322),\n",
       " (136, 2837.2628319914838),\n",
       " (1, 2822.5409593612953)]"
      ]
     },
     "execution_count": 56,
     "metadata": {},
     "output_type": "execute_result"
    }
   ],
   "source": [
    "s = np.sum(lda.coef_**2,axis=0)\n",
    "s_sort = sorted(enumerate(s),key=lambda x: x[1],reverse=True)\n",
    "s_sort[:25]"
   ]
  },
  {
   "cell_type": "code",
   "execution_count": 57,
   "metadata": {
    "collapsed": false
   },
   "outputs": [
    {
     "data": {
      "text/plain": [
       "[<matplotlib.lines.Line2D at 0x1127786d0>]"
      ]
     },
     "execution_count": 57,
     "metadata": {},
     "output_type": "execute_result"
    },
    {
     "data": {
      "image/png": "[encoded data removed]",
      "text/plain": [
       "<matplotlib.figure.Figure at 0x1123e0e10>"
      ]
     },
     "metadata": {},
     "output_type": "display_data"
    }
   ],
   "source": [
    "plt.plot(sorted(s,reverse=True)[:50])"
   ]
  },
  {
   "cell_type": "code",
   "execution_count": 58,
   "metadata": {
    "collapsed": false
   },
   "outputs": [
    {
     "data": {
      "text/plain": [
       "(151240, 25)"
      ]
     },
     "execution_count": 58,
     "metadata": {},
     "output_type": "execute_result"
    }
   ],
   "source": [
    "features = [i[0] for i in s_sort if i[1]>=min(sorted(s,reverse=True)[:20])]\n",
    "train_set_new[:,features].shape"
   ]
  },
  {
   "cell_type": "code",
   "execution_count": 59,
   "metadata": {
    "collapsed": true
   },
   "outputs": [],
   "source": [
    "pca = PCA(n_components=20)\n",
    "p = pca.fit_transform(train_set_new[:,features])\n",
    "p_tst = pca.transform(test_set_new[:,features])\n",
    "p_final_tst = pca.transform(final_test_set_new[:,features])"
   ]
  },
  {
   "cell_type": "code",
   "execution_count": 60,
   "metadata": {
    "collapsed": false
   },
   "outputs": [
    {
     "data": {
      "text/plain": [
       "array([ 0.25860685,  0.45541854,  0.53615337,  0.58804007,  0.63691991,\n",
       "        0.68364295,  0.72831342,  0.77226859,  0.81557294,  0.85747756])"
      ]
     },
     "execution_count": 60,
     "metadata": {},
     "output_type": "execute_result"
    }
   ],
   "source": [
    "print(np.cumsum(pca.explained_variance_ratio_))"
   ]
  },
  {
   "cell_type": "markdown",
   "metadata": {},
   "source": [
    "### Test prediction model "
   ]
  },
  {
   "cell_type": "code",
   "execution_count": 61,
   "metadata": {
    "collapsed": false
   },
   "outputs": [],
   "source": [
    "lb = LabelBinarizer()\n",
    "cat = lb.fit_transform(np.array(train_target))\n",
    "cat_tst = lb.transform(np.array(test_target))"
   ]
  },
  {
   "cell_type": "code",
   "execution_count": null,
   "metadata": {
    "collapsed": false
   },
   "outputs": [
    {
     "name": "stdout",
     "output_type": "stream",
     "text": [
      "Epoch 0\n",
      "151240/151240 [==============================] - 2s - loss: 1.4552     \n",
      "Epoch 1\n",
      "151240/151240 [==============================] - 2s - loss: 1.1930     \n",
      "Epoch 2\n",
      "151240/151240 [==============================] - 2s - loss: 1.1814     \n",
      "Epoch 3\n",
      "151240/151240 [==============================] - 2s - loss: 1.1757     \n",
      "Epoch 4\n",
      "151240/151240 [==============================] - 2s - loss: 1.1710     \n",
      "Epoch 5\n",
      "151240/151240 [==============================] - 2s - loss: 1.1674     \n",
      "Epoch 6\n",
      "151240/151240 [==============================] - 2s - loss: 1.1659     \n",
      "Epoch 7\n",
      "151240/151240 [==============================] - 2s - loss: 1.1636     \n",
      "Epoch 8\n",
      "151240/151240 [==============================] - 2s - loss: 1.1610     \n",
      "Epoch 9\n",
      "121600/151240 [=======================>......] - ETA: 0s - loss: 1.1589"
     ]
    }
   ],
   "source": [
    "n = p.shape[1]\n",
    "nn = Sequential()\n",
    "nn.add(GaussianDropout(0.5))\n",
    "nn.add(Dense(input_dim=n, output_dim=32, init=\"uniform\"))\n",
    "nn.add(Activation(\"tanh\"))\n",
    "nn.add(PReLU((32,)))\n",
    "nn.add(Dropout(0.3))\n",
    "nn.add(Dense(input_dim=32, output_dim=13, init=\"glorot_uniform\"))\n",
    "nn.add(Activation(\"softmax\"))\n",
    "nn.compile(loss='categorical_crossentropy', optimizer='sgd')\n",
    "nn.fit(p, cat, nb_epoch=10)"
   ]
  },
  {
   "cell_type": "code",
   "execution_count": null,
   "metadata": {
    "collapsed": false
   },
   "outputs": [],
   "source": [
    "p_pred = nn.predict(p_tst)\n",
    "p_pred_i = lb.inverse_transform(p_pred)"
   ]
  },
  {
   "cell_type": "code",
   "execution_count": null,
   "metadata": {
    "collapsed": false
   },
   "outputs": [],
   "source": [
    "print(log_loss(p_pred_i, np.array(test_target)))\n",
    "print(np.mean(p_pred_i == np.array(test_target)))\n",
    "print(classification_report(p_pred_i,np.array(test_target)))"
   ]
  },
  {
   "cell_type": "code",
   "execution_count": null,
   "metadata": {
    "collapsed": true
   },
   "outputs": [],
   "source": [
    "f_pred = nn.predict(p_final_tst)\n",
    "f_pred_i = lb.inverse_transform(f_pred)"
   ]
  },
  {
   "cell_type": "code",
   "execution_count": null,
   "metadata": {
    "collapsed": false
   },
   "outputs": [],
   "source": [
    "f_pred_df = pd.DataFrame(f_pred,columns=sorted(set(train_target)))\n",
    "f_pred_df.index = np.array(final_test_set['id'])"
   ]
  },
  {
   "cell_type": "code",
   "execution_count": null,
   "metadata": {
    "collapsed": false
   },
   "outputs": [],
   "source": [
    "s = f_pred_df.stack()"
   ]
  },
  {
   "cell_type": "code",
   "execution_count": null,
   "metadata": {
    "collapsed": false
   },
   "outputs": [],
   "source": [
    "s.to_csv('Data/submission.csv',index=True)"
   ]
  }
 ],
 "metadata": {
  "kernelspec": {
   "display_name": "Python 2",
   "language": "python",
   "name": "python2"
  },
  "language_info": {
   "codemirror_mode": {
    "name": "ipython",
    "version": 2
   },
   "file_extension": ".py",
   "mimetype": "text/x-python",
   "name": "python",
   "nbconvert_exporter": "python",
   "pygments_lexer": "ipython2",
   "version": "2.7.10"
  }
 },
 "nbformat": 4,
 "nbformat_minor": 0
}
