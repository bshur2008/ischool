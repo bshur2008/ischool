{
 "cells": [
  {
   "cell_type": "markdown",
   "metadata": {},
   "source": [
    "### Test with an example"
   ]
  },
  {
   "cell_type": "markdown",
   "metadata": {},
   "source": [
    "!cat Data/train.csv.gz | gzip -d | awk -F',' '$6==7440663949' > Data/example.txt"
   ]
  },
  {
   "cell_type": "code",
   "execution_count": 102,
   "metadata": {
    "collapsed": true
   },
   "outputs": [],
   "source": [
    "import pandas as pd\n",
    "import numpy as np\n",
    "\n",
    "import matplotlib.pyplot as plt\n",
    "%matplotlib inline"
   ]
  },
  {
   "cell_type": "code",
   "execution_count": 103,
   "metadata": {
    "collapsed": false
   },
   "outputs": [],
   "source": [
    "example = pd.read_csv('Data/example.txt'\n",
    "                      , sep=','\n",
    "                      , header=None\n",
    "                      , index_col=0)"
   ]
  },
  {
   "cell_type": "code",
   "execution_count": 104,
   "metadata": {
    "collapsed": false
   },
   "outputs": [],
   "source": [
    "example.columns = ['X','Y','accuracy','timestamp','place_id']"
   ]
  },
  {
   "cell_type": "markdown",
   "metadata": {},
   "source": [
    "#### test with means"
   ]
  },
  {
   "cell_type": "code",
   "execution_count": 105,
   "metadata": {
    "collapsed": true
   },
   "outputs": [],
   "source": [
    "mean_x, mean_y = np.mean(example['X']), np.mean(example['Y'])"
   ]
  },
  {
   "cell_type": "markdown",
   "metadata": {},
   "source": [
    "#### test with weighted calculation"
   ]
  },
  {
   "cell_type": "code",
   "execution_count": 106,
   "metadata": {
    "collapsed": true
   },
   "outputs": [],
   "source": [
    "example['weighted_accuracy'] = 1/(example['accuracy']*np.sum(1/example['accuracy']))"
   ]
  },
  {
   "cell_type": "code",
   "execution_count": 107,
   "metadata": {
    "collapsed": true
   },
   "outputs": [],
   "source": [
    "weighted_x = np.sum(example['X']*example['weighted_accuracy'])\n",
    "weighted_y = np.sum(example['Y']*example['weighted_accuracy'])"
   ]
  },
  {
   "cell_type": "markdown",
   "metadata": {},
   "source": [
    "#### median "
   ]
  },
  {
   "cell_type": "code",
   "execution_count": 108,
   "metadata": {
    "collapsed": true
   },
   "outputs": [],
   "source": [
    "median_x = np.median(example['X'])\n",
    "median_y = np.median(example['Y'])"
   ]
  },
  {
   "cell_type": "markdown",
   "metadata": {},
   "source": [
    "#### gather range stats"
   ]
  },
  {
   "cell_type": "code",
   "execution_count": 109,
   "metadata": {
    "collapsed": true
   },
   "outputs": [],
   "source": [
    "min_x, max_x = np.min(example['X']), np.max(example['X'])\n",
    "min_y, max_y = np.min(example['Y']), np.max(example['Y'])"
   ]
  },
  {
   "cell_type": "markdown",
   "metadata": {},
   "source": [
    "#### plot examples"
   ]
  },
  {
   "cell_type": "code",
   "execution_count": 116,
   "metadata": {
    "collapsed": false
   },
   "outputs": [
    {
     "data": {
      "text/plain": [
       "<matplotlib.text.Text at 0x11b526090>"
      ]
     },
     "execution_count": 116,
     "metadata": {},
     "output_type": "execute_result"
    },
    {
     "data": {
      "image/png": "[encoded data removed]",
      "text/plain": [
       "<matplotlib.figure.Figure at 0x11b452110>"
      ]
     },
     "metadata": {},
     "output_type": "display_data"
    }
   ],
   "source": [
    "plt.plot(example['X'],example['Y'],'+')\n",
    "plt.plot(mean_x, mean_y,'ro')\n",
    "plt.plot(weighted_x, weighted_y,'yo')\n",
    "plt.plot(median_x, median_y,'go')\n",
    "plt.plot([min_x]*3, [weighted_y*.99,weighted_y,weighted_y*1.01],'g-')\n",
    "plt.plot([max_x]*3, [weighted_y*.99,weighted_y,weighted_y*1.01],'g-')\n",
    "plt.plot([weighted_x*.8,weighted_x,weighted_x*1.2], [min_y]*3,'g-')\n",
    "plt.plot([weighted_x*.8,weighted_x,weighted_x*1.2],[max_y]*3,'g-')\n",
    "plt.title('Points generally fit a gaussian distribution, with few extreme values')"
   ]
  },
  {
   "cell_type": "markdown",
   "metadata": {},
   "source": [
    "#### times"
   ]
  },
  {
   "cell_type": "code",
   "execution_count": 111,
   "metadata": {
    "collapsed": false
   },
   "outputs": [
    {
     "data": {
      "text/plain": [
       "<matplotlib.text.Text at 0x11b00a9d0>"
      ]
     },
     "execution_count": 111,
     "metadata": {},
     "output_type": "execute_result"
    },
    {
     "data": {
      "image/png": "[encoded data removed]",
      "text/plain": [
       "<matplotlib.figure.Figure at 0x11abd3c50>"
      ]
     },
     "metadata": {},
     "output_type": "display_data"
    }
   ],
   "source": [
    "plt.plot(xrange(example.shape[0]),example['timestamp'].sort_values(),'-')\n",
    "plt.title('Constantly growing time')"
   ]
  },
  {
   "cell_type": "code",
   "execution_count": 112,
   "metadata": {
    "collapsed": false
   },
   "outputs": [
    {
     "name": "stdout",
     "output_type": "stream",
     "text": [
      "Example min: 95814, max: 782788\n"
     ]
    }
   ],
   "source": [
    "mn, mx = np.min(example['timestamp']),np.max(example['timestamp'])\n",
    "print 'Example min: {}, max: {}'.format(mn,mx)"
   ]
  },
  {
   "cell_type": "code",
   "execution_count": 113,
   "metadata": {
    "collapsed": false
   },
   "outputs": [
    {
     "data": {
      "text/plain": [
       "<matplotlib.text.Text at 0x11b0b95d0>"
      ]
     },
     "execution_count": 113,
     "metadata": {},
     "output_type": "execute_result"
    },
    {
     "data": {
      "image/png": "[encoded data removed]",
      "text/plain": [
       "<matplotlib.figure.Figure at 0x11ad8c910>"
      ]
     },
     "metadata": {},
     "output_type": "display_data"
    }
   ],
   "source": [
    "example['time_mod'] = example['timestamp'] % (60*24)\n",
    "_ = plt.hist(example['time_mod'].ravel(), 24)\n",
    "plt.title('Assuming that time is minutes elapsed \\\n",
    "\\n(Data represents a single day)')"
   ]
  },
  {
   "cell_type": "code",
   "execution_count": 114,
   "metadata": {
    "collapsed": false
   },
   "outputs": [
    {
     "data": {
      "text/plain": [
       "<matplotlib.text.Text at 0x11b21eed0>"
      ]
     },
     "execution_count": 114,
     "metadata": {},
     "output_type": "execute_result"
    },
    {
     "data": {
      "image/png": "[encoded data removed]",
      "text/plain": [
       "<matplotlib.figure.Figure at 0x11ad8cf90>"
      ]
     },
     "metadata": {},
     "output_type": "display_data"
    }
   ],
   "source": [
    "example['time_mod'] = example['timestamp'] % (3600*24)\n",
    "_ = plt.hist(example['time_mod'].ravel(), 24)\n",
    "plt.title('Assuming that time is seconds elapsed \\\n",
    "\\n(Doesn\\'t appear to correctly represent 1 day)')"
   ]
  },
  {
   "cell_type": "markdown",
   "metadata": {},
   "source": [
    "#### time for all training data"
   ]
  },
  {
   "cell_type": "code",
   "execution_count": 15,
   "metadata": {
    "collapsed": false
   },
   "outputs": [
    {
     "name": "stdout",
     "output_type": "stream",
     "text": [
      "1 786239 29118021\r\n"
     ]
    }
   ],
   "source": [
    "!cat Data/train.csv.gz | gzip -d | awk '\\\n",
    "BEGIN { min=1000000; max=0; rowcnt=0;} \\\n",
    "{ \\\n",
    "  if (NR>1) { \\\n",
    "      split($0,a,\",\"); \\\n",
    "      if (a[5]<min) { \\\n",
    "        min=a[5]; \\\n",
    "      } \\\n",
    "      if (a[5]>max) { \\\n",
    "        max=a[5]; \\\n",
    "      } \\\n",
    "      rowcnt+=1; \\\n",
    "   } \\\n",
    "} \\\n",
    "END { print min, max, rowcnt; }'"
   ]
  },
  {
   "cell_type": "code",
   "execution_count": 72,
   "metadata": {
    "collapsed": false
   },
   "outputs": [
    {
     "name": "stdout",
     "output_type": "stream",
     "text": [
      "\n",
      "If the dataset is elapsed seconds from the \n",
      "first record, the total elapsed time \n",
      "in the dataset is 9.1 days \n",
      "for 29.12 million records.\n",
      "\n",
      "If the time were minutes elapsed, \n",
      "the total elapsed time would be 545 days.\n",
      "\n",
      "If the time were miliseconds elapsed,\n",
      "the total elapsed time would be 0.2184 hours.\n",
      "\n"
     ]
    }
   ],
   "source": [
    "mx = 786239\n",
    "mn = 1\n",
    "print '''\n",
    "If the dataset is elapsed seconds from the \n",
    "first record, the total elapsed time \n",
    "in the dataset is {} days \n",
    "for {} million records.\n",
    "\n",
    "If the time were minutes elapsed, \n",
    "the total elapsed time would be {} days.\n",
    "\n",
    "If the time were miliseconds elapsed,\n",
    "the total elapsed time would be {} hours.\n",
    "'''.format(\n",
    "    round((mx-mn)*1.0/3600/24,1)\n",
    "    , round(29118021*1.0 / 1000000,2)\n",
    "    , (mx-mn)/60/24\n",
    "    , round((mx-mn)*1.0/(3600*1000),4)\n",
    ")"
   ]
  },
  {
   "cell_type": "code",
   "execution_count": 283,
   "metadata": {
    "collapsed": false
   },
   "outputs": [],
   "source": [
    "!cat Data/train.csv.gz | gzip -d | awk -F, '{print int($5%(24*60));}' \\\n",
    "| sort | uniq -c| sort -k2,2n > time.txt"
   ]
  },
  {
   "cell_type": "code",
   "execution_count": 286,
   "metadata": {
    "collapsed": false
   },
   "outputs": [
    {
     "name": "stderr",
     "output_type": "stream",
     "text": [
      "/Library/Python/2.7/site-packages/IPython/kernel/__main__.py:1: ParserWarning: Falling back to the 'python' engine because the 'c' engine does not support regex separators; you can avoid this warning by specifying engine='python'.\n",
      "  if __name__ == '__main__':\n"
     ]
    }
   ],
   "source": [
    "tm = pd.read_csv('time.txt',sep='\\s',header=None)"
   ]
  },
  {
   "cell_type": "code",
   "execution_count": 293,
   "metadata": {
    "collapsed": false
   },
   "outputs": [
    {
     "data": {
      "text/plain": [
       "[<matplotlib.lines.Line2D at 0x1b4c804d0>]"
      ]
     },
     "execution_count": 293,
     "metadata": {},
     "output_type": "execute_result"
    },
    {
     "data": {
      "image/png": "[encoded data removed]",
      "text/plain": [
       "<matplotlib.figure.Figure at 0x1b529de50>"
      ]
     },
     "metadata": {},
     "output_type": "display_data"
    }
   ],
   "source": [
    "plt.plot(tm.iloc[:,1],tm.iloc[:,0])"
   ]
  },
  {
   "cell_type": "markdown",
   "metadata": {},
   "source": [
    "### MR job"
   ]
  },
  {
   "cell_type": "code",
   "execution_count": 117,
   "metadata": {
    "collapsed": false
   },
   "outputs": [
    {
     "name": "stdout",
     "output_type": "stream",
     "text": [
      "Overwriting process_places.py\n"
     ]
    }
   ],
   "source": [
    "%%writefile process_places.py\n",
    "from mrjob.job import MRJob\n",
    "from mrjob.step import MRStep\n",
    "from math import sqrt\n",
    "\n",
    "class ProcessPlaces(MRJob):\n",
    "    ''' Map-reduce job will read through \n",
    "        training data and create a file \n",
    "        with relevant metrics for each unique place_id\n",
    "        \n",
    "        The metrics are then used later in the \n",
    "        single-core python code \n",
    "    '''\n",
    "    def mapper(self, _, line):\n",
    "        ''' send data with place id '''\n",
    "        fields = line.split(',')\n",
    "        place_id = fields[-1]\n",
    "        row_id = fields[0]\n",
    "        x = fields[1]\n",
    "        y = fields[2]\n",
    "        accuracy = fields[3]\n",
    "        time = fields[4]\n",
    "        if row_id!='row_id':\n",
    "            yield place_id, {'row_id':row_id\n",
    "                             , 'x':float(x)\n",
    "                             , 'y':float(y)\n",
    "                             , 'accuracy':float(accuracy)\n",
    "                             , 'time':int(time)\n",
    "                             , 'time_hr':int(time)%(24*60)//60\n",
    "                            }\n",
    "    \n",
    "    def reducer(self, place_id, data_list):\n",
    "        ''' aggregate place data '''\n",
    "        def median(lst):\n",
    "            ''' Calculate the median\n",
    "                of a list of numbers\n",
    "            '''\n",
    "            lst = sorted(lst)\n",
    "            n = len(lst)\n",
    "            if n%2!=0:\n",
    "                i = n/2\n",
    "                return lst[i]*1.0\n",
    "            else:\n",
    "                i1 = n/2-1\n",
    "                i2 = i1+1\n",
    "                return (lst[i1]+lst[i2])*1.0/2\n",
    "        \n",
    "        # save generator as list object\n",
    "        # need to loop twice\n",
    "        dl = list(data_list)\n",
    "        \n",
    "        # calculate base metrics\n",
    "        n = 0\n",
    "        acc_sum = 0\n",
    "        inv_sum = 0\n",
    "        x_sum = 0\n",
    "        y_sum = 0\n",
    "        time_sum = 0\n",
    "        time_hours = {}\n",
    "        for d in dl:\n",
    "            n += 1\n",
    "            \n",
    "            # average accuracy \n",
    "            acc_sum += d['accuracy']\n",
    "            \n",
    "            # average inverse of accuracy\n",
    "            inv_sum += 1.0/d['accuracy']\n",
    "            \n",
    "            # average of x \n",
    "            x_sum += d['x']\n",
    "            \n",
    "            # average of y\n",
    "            y_sum += d['y']\n",
    "            \n",
    "            # average hour\n",
    "            time_sum += d['time_hr']\n",
    "            \n",
    "            # distribution of hours\n",
    "            if d['time_hr'] not in time_hours:\n",
    "                time_hours[d['time_hr']]=0\n",
    "            time_hours[d['time_hr']]+=1\n",
    "        \n",
    "        # calculate centers and standard deviations\n",
    "        mean_x = x_sum/n\n",
    "        mean_y = y_sum/n\n",
    "        mean_time = time_sum/n\n",
    "        mean_acc = acc_sum/n\n",
    "        center_x, center_y = 0, 0\n",
    "        weighted_x, weighted_y = 0, 0\n",
    "        sd_x, sd_y = 0, 0\n",
    "        sd_time = 0\n",
    "        sd_acc = 0\n",
    "        xs = []\n",
    "        ys = []\n",
    "        for d in dl:\n",
    "            xs.append(d['x'])\n",
    "            ys.append(d['y'])\n",
    "            inv_a = (1.0/d['accuracy'])/inv_sum\n",
    "            weighted_x += d['x']*inv_a\n",
    "            weighted_y += d['y']*inv_a\n",
    "            sd_x += (d['x']-mean_x)**2\n",
    "            sd_y += (d['y']-mean_y)**2\n",
    "            sd_time += (d['time_hr']-mean_time)**2\n",
    "            sd_acc += (d['accuracy']-mean_acc)**2\n",
    "            n += 1\n",
    "        sd_x /= n\n",
    "        sd_y /= n\n",
    "        sd_time /= n\n",
    "        sd_acc /= n\n",
    "        sd_x = sqrt(sd_x)\n",
    "        sd_y = sqrt(sd_y)\n",
    "        sd_time = sqrt(sd_time)\n",
    "        sd_acc = sqrt(sd_acc)\n",
    "        \n",
    "        # calculate medians\n",
    "        center_x = median(xs)\n",
    "        center_y = median(ys)\n",
    "        \n",
    "        # calculate unit value of accuracy\n",
    "        unit_acc = [0,0]\n",
    "        for d in dl:\n",
    "            unit_acc[0] += abs(d['x']-center_x)/d['accuracy']/n\n",
    "            unit_acc[1] += abs(d['y']-center_y)/d['accuracy']/n\n",
    "        unit_acc[0] = round(unit_acc[0],6)\n",
    "        unit_acc[1] = round(unit_acc[1],6)\n",
    "        \n",
    "        yield None, '|'.join(map(str,[\n",
    "                    place_id\n",
    "                    , round(center_x,4) \n",
    "                    , round(center_y,4)\n",
    "                    , round(sd_x,4)\n",
    "                    , round(sd_y,4)\n",
    "                    , int(mean_time)\n",
    "                    , round(sd_time,2)\n",
    "                    , round(sd_acc,4)\n",
    "                    , int(n)\n",
    "                    , unit_acc\n",
    "                    , time_hours\n",
    "                ]))\n",
    "    \n",
    "if __name__ == '__main__':\n",
    "    ProcessPlaces.run()"
   ]
  },
  {
   "cell_type": "code",
   "execution_count": 70,
   "metadata": {
    "collapsed": false
   },
   "outputs": [
    {
     "name": "stdout",
     "output_type": "stream",
     "text": [
      "no configs found; falling back on auto-configuration\n",
      "no configs found; falling back on auto-configuration\n",
      "creating tmp directory /var/folders/f8/70g84lyd3n387wjwhbfq4dp80000gn/T/process_places.bshur.20160618.075007.434889\n",
      "writing to /var/folders/f8/70g84lyd3n387wjwhbfq4dp80000gn/T/process_places.bshur.20160618.075007.434889/step-0-mapper_part-00000\n",
      "Counters from step 1:\n",
      "  (no counters found)\n",
      "writing to /var/folders/f8/70g84lyd3n387wjwhbfq4dp80000gn/T/process_places.bshur.20160618.075007.434889/step-0-mapper-sorted\n",
      "> sort /var/folders/f8/70g84lyd3n387wjwhbfq4dp80000gn/T/process_places.bshur.20160618.075007.434889/step-0-mapper_part-00000\n",
      "writing to /var/folders/f8/70g84lyd3n387wjwhbfq4dp80000gn/T/process_places.bshur.20160618.075007.434889/step-0-reducer_part-00000\n",
      "Counters from step 1:\n",
      "  (no counters found)\n",
      "Moving /var/folders/f8/70g84lyd3n387wjwhbfq4dp80000gn/T/process_places.bshur.20160618.075007.434889/step-0-reducer_part-00000 -> /var/folders/f8/70g84lyd3n387wjwhbfq4dp80000gn/T/process_places.bshur.20160618.075007.434889/output/part-00000\n",
      "Streaming final output from /var/folders/f8/70g84lyd3n387wjwhbfq4dp80000gn/T/process_places.bshur.20160618.075007.434889/output\n",
      "removing tmp directory /var/folders/f8/70g84lyd3n387wjwhbfq4dp80000gn/T/process_places.bshur.20160618.075007.434889\n"
     ]
    }
   ],
   "source": [
    "!python process_places.py --strict-protocols Data/example.txt > Data/processed_places_ex.txt"
   ]
  },
  {
   "cell_type": "code",
   "execution_count": 118,
   "metadata": {
    "collapsed": false
   },
   "outputs": [
    {
     "name": "stdout",
     "output_type": "stream",
     "text": [
      "null\t\"5662813655|5.8454|6.7676|0.956|0.0221|10|5.2|124.5537|1226|[0.059146, 0.001044]|{0: 25, 1: 25, 2: 28, 3: 28, 4: 53, 5: 30, 6: 32, 7: 37, 8: 28, 9: 20, 10: 29, 11: 23, 12: 22, 13: 22, 14: 19, 15: 21, 16: 11, 17: 7, 18: 7, 19: 17, 20: 14, 21: 38, 22: 35, 23: 42}\"\r\n"
     ]
    }
   ],
   "source": [
    "!head Data/processed_places_ex.txt"
   ]
  },
  {
   "cell_type": "code",
   "execution_count": 87,
   "metadata": {
    "collapsed": false
   },
   "outputs": [
    {
     "name": "stdout",
     "output_type": "stream",
     "text": [
      "no configs found; falling back on auto-configuration\n",
      "no configs found; falling back on auto-configuration\n",
      "creating tmp directory /var/folders/f8/70g84lyd3n387wjwhbfq4dp80000gn/T/process_places.bshur.20160618.081426.786136\n",
      "writing to /var/folders/f8/70g84lyd3n387wjwhbfq4dp80000gn/T/process_places.bshur.20160618.081426.786136/step-0-mapper_part-00000\n",
      "Counters from step 1:\n",
      "  (no counters found)\n",
      "writing to /var/folders/f8/70g84lyd3n387wjwhbfq4dp80000gn/T/process_places.bshur.20160618.081426.786136/step-0-mapper-sorted\n",
      "> sort /var/folders/f8/70g84lyd3n387wjwhbfq4dp80000gn/T/process_places.bshur.20160618.081426.786136/step-0-mapper_part-00000\n",
      "writing to /var/folders/f8/70g84lyd3n387wjwhbfq4dp80000gn/T/process_places.bshur.20160618.081426.786136/step-0-reducer_part-00000\n",
      "Counters from step 1:\n",
      "  (no counters found)\n",
      "Moving /var/folders/f8/70g84lyd3n387wjwhbfq4dp80000gn/T/process_places.bshur.20160618.081426.786136/step-0-reducer_part-00000 -> /var/folders/f8/70g84lyd3n387wjwhbfq4dp80000gn/T/process_places.bshur.20160618.081426.786136/output/part-00000\n",
      "Streaming final output from /var/folders/f8/70g84lyd3n387wjwhbfq4dp80000gn/T/process_places.bshur.20160618.081426.786136/output\n",
      "removing tmp directory /var/folders/f8/70g84lyd3n387wjwhbfq4dp80000gn/T/process_places.bshur.20160618.081426.786136\n"
     ]
    }
   ],
   "source": [
    "!python process_places.py \\\n",
    "--strict-protocols \\\n",
    "Data/train.csv.gz \\\n",
    "> Data/processed_places.txt"
   ]
  },
  {
   "cell_type": "code",
   "execution_count": 119,
   "metadata": {
    "collapsed": false
   },
   "outputs": [
    {
     "name": "stdout",
     "output_type": "stream",
     "text": [
      "null\t\"1000015801|2.6915|5.5492|0.1464|0.0112|16|3.74|82.1417|156|[0.002306, 0.000384]|{0: 3, 1: 1, 11: 2, 13: 15, 14: 12, 15: 7, 16: 3, 17: 4, 18: 3, 19: 2, 20: 2, 21: 3, 22: 8, 23: 13}\"\r\n",
      "null\t\"1000017288|7.1079|4.347|0.2382|0.0072|12|2.83|41.1274|190|[0.007823, 0.000173]|{0: 1, 1: 2, 3: 1, 4: 1, 5: 1, 6: 1, 7: 2, 8: 4, 9: 3, 10: 1, 11: 12, 12: 11, 13: 13, 14: 13, 15: 7, 16: 11, 17: 7, 20: 1, 22: 1, 23: 2}\"\r\n"
     ]
    }
   ],
   "source": [
    "!head -n2 Data/processed_places.txt"
   ]
  },
  {
   "cell_type": "code",
   "execution_count": 29,
   "metadata": {
    "collapsed": false
   },
   "outputs": [
    {
     "name": "stdout",
     "output_type": "stream",
     "text": [
      "Overwriting find_nearest_neighbors.py\n"
     ]
    }
   ],
   "source": [
    "%%writefile find_nearest_neighbors.py\n",
    "#!/usr/bin/env python\n",
    "from math import sqrt \n",
    "from sklearn.cluster import KMeans\n",
    "import pandas as pd\n",
    "import numpy as np\n",
    "import logging\n",
    "logging.basicConfig()\n",
    "\n",
    "PLACES_FILE = 'Data/processed_places.txt'\n",
    "TEST_FILE = 'Data/test.csv'\n",
    "OUTPUT_FILE = 'Data/submission.csv'\n",
    "\n",
    "class Places:\n",
    "    ''' Maintain list of three places \n",
    "        \n",
    "        Each added element is compared \n",
    "            to current list \n",
    "        \n",
    "        Always keep top n, based on\n",
    "            weighted distance \n",
    "    '''\n",
    "    def __init__(self, size=3):\n",
    "        self.size = size\n",
    "        self.values = [None]*size\n",
    "        self.place_ids = [None]*size\n",
    "    \n",
    "    def __str__(self):\n",
    "        r = ' '.join(map(str,self.place_ids))\n",
    "        return r\n",
    "    \n",
    "    def add(self, place_id, distance):\n",
    "        for i in range(self.size):\n",
    "            if distance==0:\n",
    "                distance+=1e-15\n",
    "            if not self.values[i]:\n",
    "                self.values[i] = distance\n",
    "                self.place_ids[i] = place_id\n",
    "                break\n",
    "            elif self.values[i]>distance:\n",
    "                self.values[i+1:] = self.values[i:-1] \n",
    "                self.place_ids[i+1:] = self.place_ids[i:-1] \n",
    "                self.values[i] = distance\n",
    "                self.place_ids[i] = place_id\n",
    "                break\n",
    "    \n",
    "    def merge(self, place2):\n",
    "        new = Places(max([self.size,place2.size]))\n",
    "        for i in range(new.size):\n",
    "            try:\n",
    "                new.add(self.place_ids[i],self.values[i])\n",
    "                new.add(place2.place_ids[i],place2.values[i])\n",
    "            except IndexError:\n",
    "                pass\n",
    "        self.values = new.values\n",
    "        self.place_ids = new.place_ids\n",
    "\n",
    "\n",
    "def gather_places():\n",
    "    ''' Loop through places file \n",
    "        and store in memory\n",
    "    '''\n",
    "    places = []\n",
    "    with open(PLACES_FILE,'r') as r:\n",
    "        for line in r:\n",
    "            _, line = line.replace('\"','').split('\\t')\n",
    "            fields = line.split('|')\n",
    "            place_id = fields[0]\n",
    "            field_names = [\n",
    "                'center_x'\n",
    "                , 'center_y'\n",
    "                , 'sd_x'\n",
    "                , 'sd_y'\n",
    "                , 'mean_time'\n",
    "                , 'sd_time'\n",
    "                , 'sd_acc'\n",
    "                , 'n'\n",
    "            ]\n",
    "            fields_with_names = zip(field_names,fields[1:-2])\n",
    "            d = {k: float(v) for k,v in fields_with_names}\n",
    "            d['time_hours'] = eval(fields[-1])\n",
    "            d['unit_acc'] = eval(fields[-2])\n",
    "            d['place_id'] = place_id\n",
    "            places.append(d)\n",
    "    return places\n",
    "\n",
    "\n",
    "def cluster_places(places, n_clusters=10):\n",
    "    ''' Run KMeans to segment places \n",
    "        into clusters. Return KMeans \n",
    "        model that can predict cluster\n",
    "        for test data.\n",
    "        \n",
    "        Break data into clustered groups\n",
    "        and return segments, indexed by\n",
    "        cluster number.\n",
    "    '''\n",
    "    p_df = pd.DataFrame(places)\n",
    "    X = np.array(p_df[['center_x','center_y']])\n",
    "    km = KMeans(n_clusters=n_clusters)\n",
    "    km.fit(X)\n",
    "    clusters = list(km.predict(X).ravel())\n",
    "    places_clustered = {}\n",
    "    for i, p in enumerate(places):\n",
    "        c = clusters[i]\n",
    "        if c not in places_clustered:\n",
    "            places_clustered[c] = []\n",
    "        places_clustered[c].append(p)\n",
    "    return places_clustered, km\n",
    "\n",
    "\n",
    "def find_nearest_places(places, km_model=None):\n",
    "    ''' Process test data \n",
    "        \n",
    "        Measure euclidean distance to each point \n",
    "            in the places dict\n",
    "        \n",
    "        Estimate range based on accuracy\n",
    "        \n",
    "        Return row id and three nearest places\n",
    "    '''\n",
    "    num = lambda x: round(float(x),4)\n",
    "    ftime = lambda x: int(x)%(60*24)//60\n",
    "    with open(TEST_FILE,'r') as r:\n",
    "        i = 0\n",
    "        for line in r:\n",
    "            if i>0:\n",
    "                fields = line.strip().split(',')\n",
    "                row_id = fields[0]\n",
    "                x = num(fields[1])\n",
    "                y = num(fields[2])\n",
    "                accuracy = num(fields[3])\n",
    "                time = ftime(fields[4])\n",
    "                \n",
    "                if km_model:\n",
    "                    cluster = km_model.predict([[x,y]])[0]\n",
    "                    places_dicts = places[cluster]\n",
    "                else:\n",
    "                    places_dicts = places\n",
    "                three_places = get_three_places(x, \n",
    "                                          y,\n",
    "                                          accuracy,\n",
    "                                          time,\n",
    "                                          places_dicts)\n",
    "                with open(OUTPUT_FILE,'a') as w:\n",
    "                    print >>w, row_id+','+str(three_places)\n",
    "            i = 1\n",
    "\n",
    "            \n",
    "def get_three_places(x,\n",
    "                     y,\n",
    "                     acc,\n",
    "                     time,\n",
    "                     places_dictlist):\n",
    "    ''' Loop through places dictionary\n",
    "        \n",
    "        Compare each place to current record\n",
    "        \n",
    "        Keep three places and return place_ids\n",
    "    '''\n",
    "    distance = lambda x1, x2, y1, y2: sqrt((x1-x2)**2+(y1-y2)**2)\n",
    "    add_acc = lambda x, y, acc, ua, d1, d2: (x+d1*ua[0], y+d2*ua[1])\n",
    "    places = Places(3)\n",
    "    for v in places_dictlist:\n",
    "        place_id = v['place_id']\n",
    "        center_x = float(v['center_x'])\n",
    "        center_y = float(v['center_y'])\n",
    "        unit_acc = v['unit_acc']\n",
    "        adj_x1, adj_y1 = add_acc(x,y,acc,unit_acc,1,1)\n",
    "        adj_x2, adj_y2 = add_acc(x,y,acc,unit_acc,-1,-1)\n",
    "        adj_x3, adj_y3 = add_acc(x,y,acc,unit_acc,1,-1)\n",
    "        adj_x4, adj_y4 = add_acc(x,y,acc,unit_acc,-1,1)\n",
    "        d1 = distance(adj_x1, center_x, adj_y1, center_y)\n",
    "        d2 = distance(adj_x2, center_x, adj_y2, center_y)\n",
    "        d3 = distance(adj_x3, center_x, adj_y3, center_y)\n",
    "        d4 = distance(adj_x4, center_x, adj_y4, center_y)\n",
    "        d = (d1+d2+d3+d4)/4\n",
    "        places.add(place_id, d)\n",
    "    return places\n",
    "\n",
    "\n",
    "def main():\n",
    "    logging.warn('Starting to gather places')\n",
    "    places = gather_places()\n",
    "    \n",
    "    logging.warn('Clustering places')\n",
    "    places, km = cluster_places(places, n_clusters=1000)\n",
    "    \n",
    "    logging.warn('Finding nearest place for test data')\n",
    "    find_nearest_places(places, km)\n",
    "\n",
    "\n",
    "if __name__ == '__main__':\n",
    "    main()"
   ]
  },
  {
   "cell_type": "markdown",
   "metadata": {
    "collapsed": false
   },
   "source": [
    "!rm Data/submission.csv\n",
    "!python find_nearest_neighbors.py"
   ]
  },
  {
   "cell_type": "code",
   "execution_count": 122,
   "metadata": {
    "collapsed": false
   },
   "outputs": [
    {
     "name": "stdout",
     "output_type": "stream",
     "text": [
      "Overwriting nearest_places_mr.py\n"
     ]
    }
   ],
   "source": [
    "%%writefile nearest_places_mr.py\n",
    "from mrjob.job import MRJob\n",
    "from mrjob.step import MRStep\n",
    "import cStringIO \n",
    "from boto.s3.connection import S3Connection\n",
    "from math import sqrt\n",
    "import os\n",
    "\n",
    "\n",
    "AWS_ACCESS_KEY_ID = os.environ['AWS_ACCESS_KEY_ID']\n",
    "AWS_SECRET_ACCESS_KEY = os.environ['AWS_SECRET_ACCESS_KEY']\n",
    "BUCKET = 'brandonshurick'\n",
    "S3FILE = 'facebook_places.txt'\n",
    "LOCALFILE = '/Users/bshur/School/Extras/Kaggle/Facebook/Data/processed_places.txt'\n",
    "\n",
    "\n",
    "class Places:\n",
    "    ''' Maintain list of three places \n",
    "        \n",
    "        Each added element is compared \n",
    "            to current list \n",
    "        \n",
    "        Always keep top n, based on\n",
    "            weighted distance \n",
    "    '''\n",
    "    def __init__(self, size=3):\n",
    "        self.size = size\n",
    "        self.values = [None]*size\n",
    "        self.place_ids = [None]*size\n",
    "    \n",
    "    def __str__(self):\n",
    "        r = ' '.join(map(str,self.place_ids))\n",
    "        return r\n",
    "    \n",
    "    def add(self, place_id, distance):\n",
    "        for i in range(self.size):\n",
    "            if distance==0:\n",
    "                distance+=1e-15\n",
    "            if not self.values[i]:\n",
    "                self.values[i] = distance\n",
    "                self.place_ids[i] = place_id\n",
    "                break\n",
    "            elif self.values[i]>distance:\n",
    "                self.values[i+1:] = self.values[i:-1] \n",
    "                self.place_ids[i+1:] = self.place_ids[i:-1] \n",
    "                self.values[i] = distance\n",
    "                self.place_ids[i] = place_id\n",
    "                break\n",
    "    \n",
    "    def merge(self, place2):\n",
    "        new = Places(max([self.size,place2.size]))\n",
    "        for i in range(new.size):\n",
    "            try:\n",
    "                new.add(self.place_ids[i],self.values[i])\n",
    "                new.add(place2.place_ids[i],place2.values[i])\n",
    "            except IndexError:\n",
    "                pass\n",
    "        self.values = new.values\n",
    "        self.place_ids = new.place_ids\n",
    "\n",
    "\n",
    "def get_three_places(x,\n",
    "                     y,\n",
    "                     acc,\n",
    "                     time,\n",
    "                     places_dictlist):\n",
    "    ''' Loop through places dictionary\n",
    "        \n",
    "        Compare each place to current record\n",
    "        \n",
    "        Keep three places and return place_ids\n",
    "    '''\n",
    "    distance = lambda x1, x2, y1, y2: sqrt((x1-x2)**2+(y1-y2)**2)\n",
    "    add_acc = lambda x, y, acc, ua, d1, d2: (x+d1*ua[0], y+d2*ua[1])\n",
    "    places = Places(3)\n",
    "    for v in places_dictlist:\n",
    "        place_id = v['place_id']\n",
    "        center_x = float(v['center_x'])\n",
    "        center_y = float(v['center_y'])\n",
    "        unit_acc = v['unit_acc']\n",
    "        adj_x1, adj_y1 = add_acc(x,y,acc,unit_acc,1,1)\n",
    "        adj_x2, adj_y2 = add_acc(x,y,acc,unit_acc,-1,-1)\n",
    "        adj_x3, adj_y3 = add_acc(x,y,acc,unit_acc,1,-1)\n",
    "        adj_x4, adj_y4 = add_acc(x,y,acc,unit_acc,-1,1)\n",
    "        d1 = distance(adj_x1, center_x, adj_y1, center_y)\n",
    "        d2 = distance(adj_x2, center_x, adj_y2, center_y)\n",
    "        d3 = distance(adj_x3, center_x, adj_y3, center_y)\n",
    "        d4 = distance(adj_x4, center_x, adj_y4, center_y)\n",
    "        d = (d1+d2+d3+d4)/4\n",
    "        places.add(place_id, d)\n",
    "    return places\n",
    "\n",
    "\n",
    "def gather_places(file_obj):\n",
    "        ''' Loop through places file \n",
    "            and store in memory\n",
    "        '''\n",
    "        places = []\n",
    "        for line in file_obj:\n",
    "            _, line = line.replace('\"','').split('\\t')\n",
    "            fields = line.split('|')\n",
    "            place_id = fields[0]\n",
    "            field_names = [\n",
    "                'center_x'\n",
    "                , 'center_y'\n",
    "                , 'sd_x'\n",
    "                , 'sd_y'\n",
    "                , 'mean_time'\n",
    "                , 'sd_time'\n",
    "                , 'sd_acc'\n",
    "                , 'n'\n",
    "            ]\n",
    "            fields_with_names = zip(field_names,fields[1:-2])\n",
    "            d = {k: float(v) for k,v in fields_with_names}\n",
    "            d['time_hours'] = eval(fields[-1])\n",
    "            d['unit_acc'] = eval(fields[-2])\n",
    "            d['place_id'] = place_id\n",
    "            places.append(d)\n",
    "        return places\n",
    "\n",
    "\n",
    "def download_from_s3(location):\n",
    "    ''' Download a file from S3\n",
    "        into a single file object.\n",
    "    '''\n",
    "    # download files from s3\n",
    "    s3conn = S3Connection(AWS_ACCESS_KEY_ID, AWS_SECRET_ACCESS_KEY)\n",
    "    bucket = s3conn.get_bucket(BUCKET)\n",
    "\n",
    "    # features\n",
    "    should_try_again = True\n",
    "    p = cStringIO.StringIO()\n",
    "    while should_try_again:\n",
    "        try:\n",
    "            for k in bucket.list(location):\n",
    "                k.get_contents_to_file(p)\n",
    "            should_try_again = False\n",
    "        except Exception as e:\n",
    "            print('Exception: %s' % e)\n",
    "            time.sleep(5)\n",
    "    p.seek(0)\n",
    "    return p\n",
    "\n",
    "\n",
    "class NearestPlace(MRJob):\n",
    "    ''' Map-reduce job will read \n",
    "        the places file into memory\n",
    "        for each mapper \n",
    "        and then process the test dataset\n",
    "        in parallel, finding the nearest\n",
    "        neighbor for segments of data.\n",
    "        \n",
    "        Each mapper will have intensive\n",
    "        CPU and memory usage. \n",
    "        \n",
    "        There is no need for a reducer.\n",
    "    '''\n",
    "    def mapper_init(self):\n",
    "        ''' Read places from S3 \n",
    "            store on each mapper\n",
    "        '''\n",
    "        s3filecontents = download_from_s3(S3FILE)\n",
    "        self.places = gather_places(s3filecontents)\n",
    "    \n",
    "    def mapper(self, _, line):\n",
    "        ''' Find 3 nearest neighbors\n",
    "            for each line in test data\n",
    "        '''\n",
    "        num = lambda x: round(float(x),4)\n",
    "        ftime = lambda x: int(x)%(60*24)//60\n",
    "        line = line.strip()\n",
    "        fields = line.split(',')\n",
    "        if fields[0]!='row_id':\n",
    "            row_id = fields[0]\n",
    "            x = num(fields[1])\n",
    "            y = num(fields[2])\n",
    "            accuracy = num(fields[3])\n",
    "            time = ftime(fields[4])\n",
    "            three_places = get_three_places(x, \n",
    "                                              y,\n",
    "                                              accuracy,\n",
    "                                              time,\n",
    "                                              self.places)\n",
    "            yield None, row_id+','+str(three_places)\n",
    "\n",
    "\n",
    "if __name__ == '__main__':\n",
    "    NearestPlace.run()"
   ]
  },
  {
   "cell_type": "markdown",
   "metadata": {
    "collapsed": true
   },
   "source": [
    "%%writefile /etc/mrjob.conf\n",
    "runners:\n",
    "  emr:\n",
    "    bootstrap:\n",
    "    - sudo yum -y update\n",
    "    - sudo yum install -y python27-boto-2.39.0\n",
    "    aws_access_key_id: \n",
    "    aws_secret_access_key: \n",
    "    ec2_core_instance_type: c4.2xlarge\n",
    "    ec2_task_instance_type: c4.2xlarge    \n",
    "    num_ec2_core_instances: 2\n",
    "    num_ec2_task_instances: 10\n",
    "    ec2_task_instance_bid_price: '0.10'\n",
    "    emr_action_on_failure: TERMINATE_CLUSTER\n",
    "    aws_region: eu-west-1\n",
    "    visible_to_all_users: True"
   ]
  },
  {
   "cell_type": "code",
   "execution_count": null,
   "metadata": {
    "collapsed": false
   },
   "outputs": [
    {
     "name": "stdout",
     "output_type": "stream",
     "text": [
      "Got unexpected keyword arguments: ssh_tunnel\n",
      "creating tmp directory /var/folders/f8/70g84lyd3n387wjwhbfq4dp80000gn/T/nearest_places_mr.bshur.20160618.123640.634476\n",
      "writing master bootstrap script to /var/folders/f8/70g84lyd3n387wjwhbfq4dp80000gn/T/nearest_places_mr.bshur.20160618.123640.634476/b.py\n",
      "Copying non-input files into s3://brandonshurick/tmp/nearest_places_mr.bshur.20160618.123640.634476/files/\n",
      "Waiting 5.0s for S3 eventual consistency\n",
      "Creating Elastic MapReduce job flow\n",
      "Job flow created with ID: j-1F7RAN66WUVNE\n",
      "Created new job flow j-1F7RAN66WUVNE\n"
     ]
    }
   ],
   "source": [
    "!python nearest_places_mr.py \\\n",
    "--strict-protocols \\\n",
    "--output-dir=s3://brandonshurick/facebook \\\n",
    "--no-output \\\n",
    "--conf-path=/etc/mrjob.conf \\\n",
    "-r emr \\\n",
    "s3n://brandonshurick/facebook_test.csv"
   ]
  },
  {
   "cell_type": "code",
   "execution_count": null,
   "metadata": {
    "collapsed": true
   },
   "outputs": [],
   "source": []
  }
 ],
 "metadata": {
  "kernelspec": {
   "display_name": "Python 2",
   "language": "python",
   "name": "python2"
  },
  "language_info": {
   "codemirror_mode": {
    "name": "ipython",
    "version": 2
   },
   "file_extension": ".py",
   "mimetype": "text/x-python",
   "name": "python",
   "nbconvert_exporter": "python",
   "pygments_lexer": "ipython2",
   "version": "2.7.10"
  }
 },
 "nbformat": 4,
 "nbformat_minor": 0
}
