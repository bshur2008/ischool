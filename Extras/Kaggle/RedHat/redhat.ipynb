{
 "cells": [
  {
   "cell_type": "markdown",
   "metadata": {},
   "source": [
    "## RedHat Kaggle\n",
    "\n",
    "https://www.kaggle.com/c/predicting-red-hat-business-value"
   ]
  },
  {
   "cell_type": "markdown",
   "metadata": {},
   "source": [
    "##### Load libraries"
   ]
  },
  {
   "cell_type": "code",
   "execution_count": 1,
   "metadata": {
    "collapsed": true
   },
   "outputs": [],
   "source": [
    "import pandas as pd\n",
    "import scipy as sp\n",
    "from scipy.sparse import csr_matrix\n",
    "import numpy as np\n",
    "from sklearn.cross_validation import train_test_split\n",
    "from sklearn.metrics import log_loss\n",
    "from sklearn.linear_model import LogisticRegression\n",
    "from sklearn.metrics import accuracy_score\n",
    "from sklearn.svm import SVC\n",
    "from sklearn.metrics import roc_auc_score\n",
    "import multiprocessing\n",
    "from collections import Counter, defaultdict\n",
    "import hashlib\n",
    "import re\n",
    "from sklearn.learning_curve import validation_curve\n",
    "\n",
    "CPUS = multiprocessing.cpu_count()"
   ]
  },
  {
   "cell_type": "code",
   "execution_count": 2,
   "metadata": {
    "collapsed": false
   },
   "outputs": [
    {
     "data": {
      "text/plain": [
       "16"
      ]
     },
     "execution_count": 2,
     "metadata": {},
     "output_type": "execute_result"
    }
   ],
   "source": [
    "CPUS"
   ]
  },
  {
   "cell_type": "markdown",
   "metadata": {},
   "source": [
    "##### Custom Functions"
   ]
  },
  {
   "cell_type": "code",
   "execution_count": 3,
   "metadata": {
    "collapsed": true
   },
   "outputs": [],
   "source": [
    "def format_col(x, p):\n",
    "    if type(x)==str:\n",
    "        return p+'_'+x.replace(' ','_')\n",
    "    else:\n",
    "        return p+'_'+str(x)\n",
    "\n",
    "def update_cols(df,c=1):\n",
    "    # fix date columns\n",
    "    df['date'] = pd.to_datetime(df['date'])\n",
    "    df['day'] = df['date'].dt.day\n",
    "    df['dayofweek'] = df['date'].dt.dayofweek\n",
    "    df['year'] = df['date'].dt.year\n",
    "    df['month'] = df['date'].dt.month\n",
    "    del df['date']\n",
    "    \n",
    "    # get list of columns\n",
    "    cols = list(df.columns)\n",
    "    \n",
    "    # include column name with value\n",
    "    for p in cols[c:]:\n",
    "        df.loc[:,p] = df.loc[:,p].apply(lambda x: format_col(x, p) )\n",
    "    \n",
    "    return df"
   ]
  },
  {
   "cell_type": "code",
   "execution_count": 4,
   "metadata": {
    "collapsed": true
   },
   "outputs": [],
   "source": [
    "def test_scores(y_test, predictions, pr=True):\n",
    "    ll = log_loss(y_test, predictions)\n",
    "    a = accuracy_score(y_test, np.argmax(predictions,axis=1))\n",
    "    auc = roc_auc_score(np.c_[y_test==0, y_test==1], predictions)\n",
    "    r = {'c':c,'logloss':ll,'accuracy':a,'AUC':auc}\n",
    "    pstr = '''C:{c} Log-Loss:{logloss:.7f} Accuracy:{accuracy:.7f} AUC:{AUC:.7f}'''\n",
    "    if pr: print pstr.format(**r)\n",
    "    return r"
   ]
  },
  {
   "cell_type": "code",
   "execution_count": 5,
   "metadata": {
    "collapsed": false,
    "scrolled": true
   },
   "outputs": [],
   "source": [
    "def create_sparse_ohe_data(df, ohe_dict):\n",
    "    rows = []\n",
    "    cols = []\n",
    "    data = []\n",
    "    for i in xrange(df.shape[0]):\n",
    "        s = map(lambda x: ohe_dict.get(x,-1), df.iloc[i])\n",
    "        while True:\n",
    "            if -1 in s:\n",
    "                indval = s.index(-1)\n",
    "                del s[indval]\n",
    "            else:\n",
    "                break\n",
    "        rows += [i]*len(s)\n",
    "        cols += s\n",
    "        data += [1]*len(s)\n",
    "    return csr_matrix((np.array(data),\n",
    "                (np.array(rows),\n",
    "                 np.array(cols))),\n",
    "               shape=(df.shape[0],len(ohe_dict)))"
   ]
  },
  {
   "cell_type": "code",
   "execution_count": 6,
   "metadata": {
    "collapsed": true
   },
   "outputs": [],
   "source": [
    "def create_sparse_hash_data(df, num_buckets):\n",
    "    rows = []\n",
    "    cols = []\n",
    "    data = []\n",
    "    for i in xrange(df.shape[0]):\n",
    "        mapping = {}\n",
    "        for f in df.iloc[i]:\n",
    "            mapping[f] = int(int(hashlib.md5(f).hexdigest(), 16) % num_buckets)\n",
    "        s = defaultdict(float)\n",
    "        for bucket in mapping.values():\n",
    "            s[bucket] += 1.0\n",
    "        rows += [i]*len(s)\n",
    "        cols += s.keys()\n",
    "        data += s.values()\n",
    "    return csr_matrix((np.array(data),\n",
    "                (np.array(rows),\n",
    "                 np.array(cols))),\n",
    "               shape=(df.shape[0],num_buckets))"
   ]
  },
  {
   "cell_type": "code",
   "execution_count": 7,
   "metadata": {
    "collapsed": false
   },
   "outputs": [],
   "source": [
    "def create_missing_val_lookup(df):\n",
    "    mode_str = lambda x: Counter(list(x)).most_common(1)[0][0]\n",
    "    char_cols = [ c for c in list(df.columns) if re.search('char_',c)]\n",
    "\n",
    "    def find_char_modes(df, char_cols):\n",
    "        for char_col in char_cols:\n",
    "            nonnulls = df[char_col].apply(lambda x: str(x).lower()!='nan')\n",
    "            char_r = df.loc[nonnulls, char_col].groupby(level=0).apply(mode_str)\n",
    "            yield char_r\n",
    "\n",
    "    def find_mode_overall(df, char_cols):\n",
    "        for char_col in char_cols:\n",
    "            nonnulls = df[char_col].apply(lambda x: str(x).lower()!='nan')\n",
    "            freq_val = df.loc[nonnulls, char_col].reset_index().apply(mode_str)[char_col]\n",
    "            yield freq_val\n",
    "\n",
    "    # find most common result for each column-person\n",
    "    char_col_results = find_char_modes(df, char_cols)\n",
    "\n",
    "    # find most common result overall for each column\n",
    "    freq_results = find_mode_overall(df, char_cols)\n",
    "\n",
    "    # create lookup table for missing values\n",
    "    missing_val_lookup = pd.DataFrame(pd.concat(char_col_results, axis=1), columns=char_cols)\n",
    "    freq_lookup = pd.DataFrame(freq_results, index=char_cols, columns=['most_freq'])\n",
    "    freq_lookup_dict = freq_lookup.to_dict()['most_freq']\n",
    "    missing_val_lookup = missing_val_lookup.fillna(freq_lookup_dict, axis=0)\n",
    "    \n",
    "    return missing_val_lookup, freq_lookup_dict"
   ]
  },
  {
   "cell_type": "code",
   "execution_count": 32,
   "metadata": {
    "collapsed": false
   },
   "outputs": [],
   "source": [
    "def lr_validation_curve(X, y, param_range= np.logspace(-3, 3, 3), max_iter=100, tol=1e-5, cv=3):\n",
    "    lr_model = LogisticRegression(max_iter=max_iter, tol=tol)\n",
    "    train_scores, test_scores = validation_curve(lr_model, X, y, \n",
    "                                param_name=\"C\", param_range=param_range,\n",
    "                                cv=cv, scoring=\"accuracy\", n_jobs=CPUS)\n",
    "    train_scores_mean = np.mean(train_scores, axis=1)\n",
    "    train_scores_std = np.std(train_scores, axis=1)\n",
    "    test_scores_mean = np.mean(test_scores, axis=1)\n",
    "    test_scores_std = np.std(test_scores, axis=1)\n",
    "\n",
    "    plt.title(\"Validation Curve with Logistic Regression\")\n",
    "    plt.xlabel(\"C\")\n",
    "    plt.ylabel(\"Score\")\n",
    "    plt.ylim(0.0, 1.1)\n",
    "    plt.semilogx(param_range, train_scores_mean, label=\"Training score\", color=\"r\")\n",
    "    plt.fill_between(param_range, train_scores_mean - train_scores_std,\n",
    "                     train_scores_mean + train_scores_std, alpha=0.2, color=\"r\")\n",
    "    plt.semilogx(param_range, test_scores_mean, label=\"Cross-validation score\",\n",
    "                 color=\"g\")\n",
    "    plt.fill_between(param_range, test_scores_mean - test_scores_std,\n",
    "                     test_scores_mean + test_scores_std, alpha=0.2, color=\"g\")\n",
    "    plt.legend(loc=\"best\")\n",
    "    plt.show()"
   ]
  },
  {
   "cell_type": "markdown",
   "metadata": {},
   "source": [
    "##### Load data"
   ]
  },
  {
   "cell_type": "code",
   "execution_count": 8,
   "metadata": {
    "collapsed": true
   },
   "outputs": [],
   "source": [
    "DIR = '/'\n",
    "FTRAIN = 'Data/act_train.csv.gz'\n",
    "FTEST = 'Data/act_test.csv.gz'\n",
    "FPEOPLE = 'Data/people.csv.gz'\n",
    "FSAMPLE = 'Data/sample_submission.csv.gz'"
   ]
  },
  {
   "cell_type": "code",
   "execution_count": 9,
   "metadata": {
    "collapsed": false
   },
   "outputs": [],
   "source": [
    "train_raw = pd.read_csv(DIR+FTRAIN)\n",
    "test_raw = pd.read_csv(DIR+FTEST)\n",
    "people = pd.read_csv(DIR+FPEOPLE)"
   ]
  },
  {
   "cell_type": "code",
   "execution_count": 10,
   "metadata": {
    "collapsed": true
   },
   "outputs": [],
   "source": [
    "Y = train_raw['outcome']\n",
    "del train_raw['outcome']"
   ]
  },
  {
   "cell_type": "markdown",
   "metadata": {},
   "source": [
    "##### Baseline model"
   ]
  },
  {
   "cell_type": "code",
   "execution_count": 11,
   "metadata": {
    "collapsed": true
   },
   "outputs": [],
   "source": [
    "p = Y.value_counts()*1.0 / train_raw.shape[0]"
   ]
  },
  {
   "cell_type": "code",
   "execution_count": 12,
   "metadata": {
    "collapsed": false
   },
   "outputs": [],
   "source": [
    "N = train_raw.shape[0]\n",
    "predictions = np.zeros((N,2))\n",
    "for i in xrange(N):\n",
    "    predictions[i,:] = p"
   ]
  },
  {
   "cell_type": "code",
   "execution_count": 13,
   "metadata": {
    "collapsed": false
   },
   "outputs": [
    {
     "data": {
      "text/plain": [
       "0.55604560342712916"
      ]
     },
     "execution_count": 13,
     "metadata": {},
     "output_type": "execute_result"
    }
   ],
   "source": [
    "accuracy_score(Y, np.argmax(predictions,axis=1))"
   ]
  },
  {
   "cell_type": "code",
   "execution_count": 14,
   "metadata": {
    "collapsed": false
   },
   "outputs": [
    {
     "data": {
      "text/plain": [
       "0.68685173924161147"
      ]
     },
     "execution_count": 14,
     "metadata": {},
     "output_type": "execute_result"
    }
   ],
   "source": [
    "log_loss(Y, predictions)"
   ]
  },
  {
   "cell_type": "code",
   "execution_count": 15,
   "metadata": {
    "collapsed": false
   },
   "outputs": [
    {
     "data": {
      "text/plain": [
       "0.5"
      ]
     },
     "execution_count": 15,
     "metadata": {},
     "output_type": "execute_result"
    }
   ],
   "source": [
    "roc_auc_score(np.c_[Y==0,Y==1], predictions)"
   ]
  },
  {
   "cell_type": "markdown",
   "metadata": {},
   "source": [
    "##### Handle null values"
   ]
  },
  {
   "cell_type": "code",
   "execution_count": 16,
   "metadata": {
    "collapsed": false
   },
   "outputs": [],
   "source": [
    "train_raw.index = train_raw['people_id']\n",
    "test_raw.index = test_raw['people_id']\n",
    "people.index = people['people_id']\n",
    "del train_raw['people_id']\n",
    "del test_raw['people_id']\n",
    "del people['people_id']"
   ]
  },
  {
   "cell_type": "markdown",
   "metadata": {
    "collapsed": false
   },
   "source": [
    "people_lookup, freq_lookup = create_missing_val_lookup(train_raw)\n",
    "train_raw = train_raw.fillna( people_lookup, axis=0)"
   ]
  },
  {
   "cell_type": "markdown",
   "metadata": {
    "collapsed": true
   },
   "source": [
    "test_raw = test_raw.fillna( people_lookup, axis=0 )\n",
    "test_raw = test_raw.fillna( freq_lookup, axis=0 )"
   ]
  },
  {
   "cell_type": "markdown",
   "metadata": {},
   "source": [
    "##### Feature updates for sparse matrix"
   ]
  },
  {
   "cell_type": "code",
   "execution_count": 17,
   "metadata": {
    "collapsed": false
   },
   "outputs": [],
   "source": [
    "percentile_ref = people['char_38'].ravel()\n",
    "compare_percentile = lambda x: round(sp.stats.percentileofscore(percentile_ref, x, kind='weak'),-1)\n",
    "people['char_38'] = people['char_38'].apply(compare_percentile)"
   ]
  },
  {
   "cell_type": "code",
   "execution_count": 18,
   "metadata": {
    "collapsed": false
   },
   "outputs": [],
   "source": [
    "people = update_cols(people, 0)\n",
    "train_raw = update_cols(train_raw, 1)\n",
    "test_raw = update_cols(test_raw, 1)"
   ]
  },
  {
   "cell_type": "markdown",
   "metadata": {},
   "source": [
    "##### Transform data to sparse OHE matrix"
   ]
  },
  {
   "cell_type": "code",
   "execution_count": 19,
   "metadata": {
    "collapsed": false
   },
   "outputs": [],
   "source": [
    "train_full = pd.merge(train_raw, people, left_index=True, right_index=True)\n",
    "test_full = pd.merge(test_raw, people, left_index=True, right_index=True)\n",
    "train_full.index = train_full['activity_id']\n",
    "test_full.index = test_full['activity_id']\n",
    "del train_full['activity_id']\n",
    "del test_full['activity_id']"
   ]
  },
  {
   "cell_type": "code",
   "execution_count": 20,
   "metadata": {
    "collapsed": false
   },
   "outputs": [
    {
     "data": {
      "text/plain": [
       "0.96589452773332596"
      ]
     },
     "execution_count": 20,
     "metadata": {},
     "output_type": "execute_result"
    }
   ],
   "source": [
    "sum(train_full.memory_usage())*1.0/1024**3"
   ]
  },
  {
   "cell_type": "code",
   "execution_count": 21,
   "metadata": {
    "collapsed": false
   },
   "outputs": [
    {
     "data": {
      "text/plain": [
       "0.21921495348215103"
      ]
     },
     "execution_count": 21,
     "metadata": {},
     "output_type": "execute_result"
    }
   ],
   "source": [
    "sum(test_full.memory_usage())*1.0/1024**3"
   ]
  },
  {
   "cell_type": "markdown",
   "metadata": {},
   "source": [
    "##### Create OHE dictionary "
   ]
  },
  {
   "cell_type": "code",
   "execution_count": 22,
   "metadata": {
    "collapsed": true
   },
   "outputs": [],
   "source": [
    "all_values = np.unique(train_full.as_matrix().reshape(1,-1).ravel())\n",
    "ohe_dict= { k: v for k,v in zip(all_values, xrange(all_values.shape[0])) }"
   ]
  },
  {
   "cell_type": "code",
   "execution_count": 23,
   "metadata": {
    "collapsed": false
   },
   "outputs": [
    {
     "data": {
      "text/plain": [
       "36779"
      ]
     },
     "execution_count": 23,
     "metadata": {},
     "output_type": "execute_result"
    }
   ],
   "source": [
    "len(ohe_dict)"
   ]
  },
  {
   "cell_type": "markdown",
   "metadata": {},
   "source": [
    "##### Create sparse matrices for test and training datasets"
   ]
  },
  {
   "cell_type": "code",
   "execution_count": 25,
   "metadata": {
    "collapsed": false
   },
   "outputs": [],
   "source": [
    "X = create_sparse_ohe_data(train_full, ohe_dict)"
   ]
  },
  {
   "cell_type": "code",
   "execution_count": 26,
   "metadata": {
    "collapsed": false
   },
   "outputs": [],
   "source": [
    "X_test = create_sparse_ohe_data(test_full, ohe_dict)"
   ]
  },
  {
   "cell_type": "code",
   "execution_count": 27,
   "metadata": {
    "collapsed": false
   },
   "outputs": [],
   "source": [
    "IDs = np.array(test_full.index)"
   ]
  },
  {
   "cell_type": "code",
   "execution_count": 28,
   "metadata": {
    "collapsed": false
   },
   "outputs": [
    {
     "data": {
      "text/plain": [
       "(2197291, 36779)"
      ]
     },
     "execution_count": 28,
     "metadata": {},
     "output_type": "execute_result"
    }
   ],
   "source": [
    "X.shape"
   ]
  },
  {
   "cell_type": "markdown",
   "metadata": {},
   "source": [
    "##### Clear unused memory"
   ]
  },
  {
   "cell_type": "code",
   "execution_count": null,
   "metadata": {
    "collapsed": true
   },
   "outputs": [],
   "source": [
    "del train_full \n",
    "del train_raw\n",
    "del test_full\n",
    "del test_raw\n",
    "del ohe_dict\n",
    "del all_values\n",
    "del people "
   ]
  },
  {
   "cell_type": "markdown",
   "metadata": {},
   "source": [
    "##### Split train and validation"
   ]
  },
  {
   "cell_type": "markdown",
   "metadata": {
    "collapsed": false
   },
   "source": [
    "X_train, X_val, y_train, y_val = train_test_split(X, \n",
    "                                                  Y, \n",
    "                                                  test_size=0.20, \n",
    "                                                  random_state=2)"
   ]
  },
  {
   "cell_type": "markdown",
   "metadata": {},
   "source": [
    "### Logistic Regression"
   ]
  },
  {
   "cell_type": "code",
   "execution_count": null,
   "metadata": {
    "collapsed": true
   },
   "outputs": [],
   "source": [
    "lr_validation_curve(X, Y)"
   ]
  },
  {
   "cell_type": "markdown",
   "metadata": {},
   "source": [
    "#### Run full model"
   ]
  },
  {
   "cell_type": "code",
   "execution_count": null,
   "metadata": {
    "collapsed": true
   },
   "outputs": [],
   "source": [
    "c = 1e2\n",
    "lr = LogisticRegression(C=c, max_iter=500, tol=1e-5, n_jobs=CPUS)\n",
    "lr.fit(X, Y)\n",
    "predictions = lr.predict_proba(X_test)"
   ]
  },
  {
   "cell_type": "markdown",
   "metadata": {},
   "source": [
    "#### Submission"
   ]
  },
  {
   "cell_type": "code",
   "execution_count": null,
   "metadata": {
    "collapsed": false
   },
   "outputs": [],
   "source": [
    "submission = pd.DataFrame(np.vstack((IDs, \n",
    "                                     predictions[:,1])).T,\n",
    "                          columns=['activity_id','outcome'])\n",
    "submission.to_csv('submission.csv', index=False)"
   ]
  },
  {
   "cell_type": "markdown",
   "metadata": {},
   "source": [
    "!gzip submission.csv\n",
    "!s3put -bbrandonshurick -p/home/ubuntu/ -gpublic-read submission.csv.gz "
   ]
  },
  {
   "cell_type": "markdown",
   "metadata": {},
   "source": [
    "### XGBoost"
   ]
  },
  {
   "cell_type": "code",
   "execution_count": 27,
   "metadata": {
    "collapsed": true
   },
   "outputs": [],
   "source": [
    "import xgboost as xgb"
   ]
  },
  {
   "cell_type": "code",
   "execution_count": 28,
   "metadata": {
    "collapsed": false
   },
   "outputs": [],
   "source": [
    "def test_scores_xgb(y_val, predictions):\n",
    "    pfull = np.c_[1-predictions,predictions]\n",
    "    ll = log_loss(y_val, pfull)\n",
    "    a = accuracy_score(y_val, np.argmax(pfull ,axis=1))\n",
    "    auc = roc_auc_score(np.c_[y_val==0, y_val==1], pfull)\n",
    "    r = {'logloss':ll,'accuracy':a,'AUC':auc}\n",
    "    return r"
   ]
  },
  {
   "cell_type": "code",
   "execution_count": 29,
   "metadata": {
    "collapsed": false
   },
   "outputs": [],
   "source": [
    "dtrain = xgb.DMatrix( X_train, label=y_train.as_matrix() )\n",
    "dval = xgb.DMatrix( X_val, label=y_val.as_matrix() )\n",
    "dtest = xgb.DMatrix( X_test )"
   ]
  },
  {
   "cell_type": "markdown",
   "metadata": {},
   "source": [
    "#### Train final model"
   ]
  },
  {
   "cell_type": "code",
   "execution_count": null,
   "metadata": {
    "collapsed": false
   },
   "outputs": [
    {
     "name": "stdout",
     "output_type": "stream",
     "text": [
      "[0]\teval-auc:0.986746\ttrain-auc:0.989671\n",
      "[50]\teval-auc:0.997443\ttrain-auc:0.998835\n"
     ]
    }
   ],
   "source": [
    "d = 500\n",
    "e = 0.01\n",
    "param = {'max_depth':d, \n",
    "         'eta':e, \n",
    "         'subsample':0.5, \n",
    "         'colsample_bytree':0.75,\n",
    "         'colsample_bylevel':0.75,\n",
    "         'silent':1, \n",
    "         'objective':'binary:logistic' }\n",
    "param['eval_metric'] = 'auc'\n",
    "param['nthread'] = CPUS\n",
    "evallist  = [(dval,'eval'), (dtrain,'train')]\n",
    "xgb_model = xgb.train(param.items(), dtrain, 501, evallist, verbose_eval=50)"
   ]
  },
  {
   "cell_type": "code",
   "execution_count": null,
   "metadata": {
    "collapsed": false
   },
   "outputs": [],
   "source": [
    "predictions = xgb_model.predict( dval )\n",
    "test_scores_xgb(y_val, predictions)"
   ]
  },
  {
   "cell_type": "markdown",
   "metadata": {},
   "source": [
    "#### Submission"
   ]
  },
  {
   "cell_type": "code",
   "execution_count": null,
   "metadata": {
    "collapsed": true
   },
   "outputs": [],
   "source": [
    "predictions = xgb_model.predict( dtest )"
   ]
  },
  {
   "cell_type": "code",
   "execution_count": null,
   "metadata": {
    "collapsed": false
   },
   "outputs": [],
   "source": [
    "submission = pd.DataFrame(np.vstack((IDs, \n",
    "                                     predictions)).T,\n",
    "                          columns=['activity_id','outcome'])\n",
    "submission.to_csv('submission.csv', index=False)"
   ]
  },
  {
   "cell_type": "code",
   "execution_count": null,
   "metadata": {
    "collapsed": true
   },
   "outputs": [],
   "source": [
    "!gzip submission.csv !s3put -bbrandonshurick -p/home/ubuntu/ -gpublic-read submission.csv.gz"
   ]
  }
 ],
 "metadata": {
  "kernelspec": {
   "display_name": "Python 2",
   "language": "python",
   "name": "python2"
  },
  "language_info": {
   "codemirror_mode": {
    "name": "ipython",
    "version": 2
   },
   "file_extension": ".py",
   "mimetype": "text/x-python",
   "name": "python",
   "nbconvert_exporter": "python",
   "pygments_lexer": "ipython2",
   "version": "2.7.6"
  }
 },
 "nbformat": 4,
 "nbformat_minor": 0
}
