{
 "metadata": {
  "name": "Bag of Words p1 (Kaggle)"
 },
 "nbformat": 3,
 "nbformat_minor": 0,
 "worksheets": [
  {
   "cells": [
    {
     "cell_type": "markdown",
     "metadata": {},
     "source": [
      "[Kaggle Competition](http://www.kaggle.com/c/word2vec-nlp-tutorial/details/part-1-for-beginners-bag-of-words): \"Bag of Words Meets Popcorn\"\n",
      "============\n",
      "\n",
      "Description:\n",
      "--------------\n",
      "NLP (Natural Language Processing) is a set of techniques for approaching text problems. The linked Kaggle competition looks use NLP techniques for sentiment analysis using movie review data from IMDB. Part 1 uses a \"Bag of Words\" method, while parts 2 and 3 use Google's [Word2Vec algorithm](https://code.google.com/p/word2vec/), which attempts to understand the meaning behind words. The method in part 1 actually ends up being just as accurate and easier to understand and to implement, with around 84% accuracy in predicting sentiment. \n",
      "\n",
      "### Part 1 (Bag of Words):"
     ]
    },
    {
     "cell_type": "code",
     "collapsed": false,
     "input": [
      "# Load data with pandas\n",
      "import pandas as pd\n",
      "train = pd.read_csv('Data/labeledTrainData.tsv',header=0,quoting=3,delimiter=\"\\t\")"
     ],
     "language": "python",
     "metadata": {},
     "outputs": [],
     "prompt_number": 12
    },
    {
     "cell_type": "code",
     "collapsed": false,
     "input": [
      "train.head()"
     ],
     "language": "python",
     "metadata": {},
     "outputs": [
      {
       "html": [
        "<div style=\"max-height:1000px;max-width:1500px;overflow:auto;\">\n",
        "<table border=\"1\" class=\"dataframe\">\n",
        "  <thead>\n",
        "    <tr style=\"text-align: right;\">\n",
        "      <th></th>\n",
        "      <th>id</th>\n",
        "      <th>sentiment</th>\n",
        "      <th>review</th>\n",
        "    </tr>\n",
        "  </thead>\n",
        "  <tbody>\n",
        "    <tr>\n",
        "      <th>0</th>\n",
        "      <td> \"5814_8\"</td>\n",
        "      <td> 1</td>\n",
        "      <td> \"With all this stuff going down at the moment ...</td>\n",
        "    </tr>\n",
        "    <tr>\n",
        "      <th>1</th>\n",
        "      <td> \"2381_9\"</td>\n",
        "      <td> 1</td>\n",
        "      <td> \"\\\"The Classic War of the Worlds\\\" by Timothy ...</td>\n",
        "    </tr>\n",
        "    <tr>\n",
        "      <th>2</th>\n",
        "      <td> \"7759_3\"</td>\n",
        "      <td> 0</td>\n",
        "      <td> \"The film starts with a manager (Nicholas Bell...</td>\n",
        "    </tr>\n",
        "    <tr>\n",
        "      <th>3</th>\n",
        "      <td> \"3630_4\"</td>\n",
        "      <td> 0</td>\n",
        "      <td> \"It must be assumed that those who praised thi...</td>\n",
        "    </tr>\n",
        "    <tr>\n",
        "      <th>4</th>\n",
        "      <td> \"9495_8\"</td>\n",
        "      <td> 1</td>\n",
        "      <td> \"Superbly trashy and wondrously unpretentious ...</td>\n",
        "    </tr>\n",
        "  </tbody>\n",
        "</table>\n",
        "</div>"
       ],
       "output_type": "pyout",
       "prompt_number": 13,
       "text": [
        "         id  sentiment                                             review\n",
        "0  \"5814_8\"          1  \"With all this stuff going down at the moment ...\n",
        "1  \"2381_9\"          1  \"\\\"The Classic War of the Worlds\\\" by Timothy ...\n",
        "2  \"7759_3\"          0  \"The film starts with a manager (Nicholas Bell...\n",
        "3  \"3630_4\"          0  \"It must be assumed that those who praised thi...\n",
        "4  \"9495_8\"          1  \"Superbly trashy and wondrously unpretentious ..."
       ]
      }
     ],
     "prompt_number": 13
    },
    {
     "cell_type": "code",
     "collapsed": false,
     "input": [
      "train.shape # 25K rows, 3 columns"
     ],
     "language": "python",
     "metadata": {},
     "outputs": [
      {
       "output_type": "pyout",
       "prompt_number": 14,
       "text": [
        "(25000, 3)"
       ]
      }
     ],
     "prompt_number": 14
    },
    {
     "cell_type": "code",
     "collapsed": false,
     "input": [
      "train.groupby('sentiment').count()"
     ],
     "language": "python",
     "metadata": {},
     "outputs": [
      {
       "html": [
        "<div style=\"max-height:1000px;max-width:1500px;overflow:auto;\">\n",
        "<table border=\"1\" class=\"dataframe\">\n",
        "  <thead>\n",
        "    <tr style=\"text-align: right;\">\n",
        "      <th></th>\n",
        "      <th>id</th>\n",
        "      <th>review</th>\n",
        "    </tr>\n",
        "    <tr>\n",
        "      <th>sentiment</th>\n",
        "      <th></th>\n",
        "      <th></th>\n",
        "    </tr>\n",
        "  </thead>\n",
        "  <tbody>\n",
        "    <tr>\n",
        "      <th>0</th>\n",
        "      <td> 12500</td>\n",
        "      <td> 12500</td>\n",
        "    </tr>\n",
        "    <tr>\n",
        "      <th>1</th>\n",
        "      <td> 12500</td>\n",
        "      <td> 12500</td>\n",
        "    </tr>\n",
        "  </tbody>\n",
        "</table>\n",
        "</div>"
       ],
       "output_type": "pyout",
       "prompt_number": 15,
       "text": [
        "              id  review\n",
        "sentiment               \n",
        "0          12500   12500\n",
        "1          12500   12500"
       ]
      }
     ],
     "prompt_number": 15
    },
    {
     "cell_type": "code",
     "collapsed": false,
     "input": [
      "# Example review (raw text)\n",
      "train['review'][0][:500]+'...'"
     ],
     "language": "python",
     "metadata": {},
     "outputs": [
      {
       "output_type": "pyout",
       "prompt_number": 16,
       "text": [
        "'\"With all this stuff going down at the moment with MJ i\\'ve started listening to his music, watching the odd documentary here and there, watched The Wiz and watched Moonwalker again. Maybe i just want to get a certain insight into this guy who i thought was really cool in the eighties just to maybe make up my mind whether he is guilty or innocent. Moonwalker is part biography, part feature film which i remember going to see at the cinema when it was originally released. Some of it has subtle mess...'"
       ]
      }
     ],
     "prompt_number": 16
    },
    {
     "cell_type": "markdown",
     "metadata": {},
     "source": [
      "There are HTML tags, abbreviations, punctuation - all common issues when processing text from online. [Beautiful Soup](http://www.crummy.com/software/BeautifulSoup/bs4/doc/) contains powerful methods for pulling data out of HTML and XML documents. Here it is used instead of regular expressions to remove tags. Punctuation is removed with a simple regex."
     ]
    },
    {
     "cell_type": "code",
     "collapsed": false,
     "input": [
      "# Utilize the beautiful soup library to remove HTML tags\n",
      "# http://www.crummy.com/software/BeautifulSoup/bs4/doc/\n",
      "from bs4 import BeautifulSoup\n",
      "i = 50\n",
      "example1 = BeautifulSoup(train[\"review\"][i])  \n",
      "\n",
      "# Print the raw review and then compare to get_text()\n",
      "print train[\"review\"][i],'\\n\\n', example1.get_text()"
     ],
     "language": "python",
     "metadata": {},
     "outputs": [
      {
       "output_type": "stream",
       "stream": "stdout",
       "text": [
        "\"Stephane Rideau was already a star for his tour de force in \\\"Wild Reeds,\\\" and he is one of France's biggest indie stars. In this film, he plays Cedric, a local boy who meets vacationing Mathieu (newcomer Jamie Elkaim, in a stunning, nuanced, ethereal performance) at the beach. Mathieu has a complex relationship with his ill mother, demanding aunt and sister (with whom he has a competitive relationship). Soon, the two are falling in love.<br /><br />The film's fractured narrative -- which is comprised of lengthy flash-backs, bits and pieces of the present, and real-time forward-movement into the future -- is a little daunting. Director Sebastien Lifshitz doesn't signal which time-period we are in, and the story line can be difficult to follow. But stick it out: The film's final 45 minutes are so engrossing that you won't be able to take your eyes off the screen. By turns heart-breaking and uplifting, this film ranks with \\\"Beautiful Thing\\\" as must-see cinema.\" \n",
        "\n",
        "\"Stephane Rideau was already a star for his tour de force in \\\"Wild Reeds,\\\" and he is one of France's biggest indie stars. In this film, he plays Cedric, a local boy who meets vacationing Mathieu (newcomer Jamie Elkaim, in a stunning, nuanced, ethereal performance) at the beach. Mathieu has a complex relationship with his ill mother, demanding aunt and sister (with whom he has a competitive relationship). Soon, the two are falling in love.The film's fractured narrative -- which is comprised of lengthy flash-backs, bits and pieces of the present, and real-time forward-movement into the future -- is a little daunting. Director Sebastien Lifshitz doesn't signal which time-period we are in, and the story line can be difficult to follow. But stick it out: The film's final 45 minutes are so engrossing that you won't be able to take your eyes off the screen. By turns heart-breaking and uplifting, this film ranks with \\\"Beautiful Thing\\\" as must-see cinema.\"\n"
       ]
      }
     ],
     "prompt_number": 17
    },
    {
     "cell_type": "code",
     "collapsed": false,
     "input": [
      "# Remove punctuation\n",
      "import re\n",
      "letters_only = lambda x: re.sub(r'[^a-zA-Z]',' ',x)\n",
      "letters = letters_only(example1.get_text())\n",
      "words = letters.split()\n",
      "words[:7]"
     ],
     "language": "python",
     "metadata": {},
     "outputs": [
      {
       "output_type": "pyout",
       "prompt_number": 18,
       "text": [
        "[u'Stephane', u'Rideau', u'was', u'already', u'a', u'star', u'for']"
       ]
      }
     ],
     "prompt_number": 18
    },
    {
     "cell_type": "code",
     "collapsed": false,
     "input": [
      "# load common filler words from nltk \n",
      "import nltk\n",
      "from nltk.corpus import stopwords # Import the stop word list\n",
      "print stopwords.words(\"english\") "
     ],
     "language": "python",
     "metadata": {},
     "outputs": [
      {
       "output_type": "stream",
       "stream": "stdout",
       "text": [
        "['i', 'me', 'my', 'myself', 'we', 'our', 'ours', 'ourselves', 'you', 'your', 'yours', 'yourself', 'yourselves', 'he', 'him', 'his', 'himself', 'she', 'her', 'hers', 'herself', 'it', 'its', 'itself', 'they', 'them', 'their', 'theirs', 'themselves', 'what', 'which', 'who', 'whom', 'this', 'that', 'these', 'those', 'am', 'is', 'are', 'was', 'were', 'be', 'been', 'being', 'have', 'has', 'had', 'having', 'do', 'does', 'did', 'doing', 'a', 'an', 'the', 'and', 'but', 'if', 'or', 'because', 'as', 'until', 'while', 'of', 'at', 'by', 'for', 'with', 'about', 'against', 'between', 'into', 'through', 'during', 'before', 'after', 'above', 'below', 'to', 'from', 'up', 'down', 'in', 'out', 'on', 'off', 'over', 'under', 'again', 'further', 'then', 'once', 'here', 'there', 'when', 'where', 'why', 'how', 'all', 'any', 'both', 'each', 'few', 'more', 'most', 'other', 'some', 'such', 'no', 'nor', 'not', 'only', 'own', 'same', 'so', 'than', 'too', 'very', 's', 't', 'can', 'will', 'just', 'don', 'should', 'now']\n"
       ]
      }
     ],
     "prompt_number": 19
    },
    {
     "cell_type": "code",
     "collapsed": false,
     "input": [
      "words = [ w for w in words if w not in stopwords.words('english') ]\n",
      "words[:7]"
     ],
     "language": "python",
     "metadata": {},
     "outputs": [
      {
       "output_type": "pyout",
       "prompt_number": 20,
       "text": [
        "[u'Stephane', u'Rideau', u'already', u'star', u'tour', u'de', u'force']"
       ]
      }
     ],
     "prompt_number": 20
    },
    {
     "cell_type": "code",
     "collapsed": false,
     "input": [
      "# Single function\n",
      "def review_to_words( raw_review ):\n",
      "    ''' Function to convert a raw review to a string of words\n",
      "        Args:\n",
      "            raw_review (a raw movie review string)\n",
      "        Output:\n",
      "            a preprocessed movie review string\n",
      "    '''\n",
      "    review_text = BeautifulSoup(raw_review).get_text() \n",
      "    letters = letters_only(review_text) \n",
      "    words = letters.lower().split()                             \n",
      "    stops = set(stopwords.words(\"english\"))                  \n",
      "    meaningful_words = [w for w in words if not w in stops]   \n",
      "    return \" \".join( meaningful_words )"
     ],
     "language": "python",
     "metadata": {},
     "outputs": [],
     "prompt_number": 21
    },
    {
     "cell_type": "code",
     "collapsed": false,
     "input": [
      "# test\n",
      "print review_to_words( train[\"review\"][50] )"
     ],
     "language": "python",
     "metadata": {},
     "outputs": [
      {
       "output_type": "stream",
       "stream": "stdout",
       "text": [
        "stephane rideau already star tour de force wild reeds one france biggest indie stars film plays cedric local boy meets vacationing mathieu newcomer jamie elkaim stunning nuanced ethereal performance beach mathieu complex relationship ill mother demanding aunt sister competitive relationship soon two falling love film fractured narrative comprised lengthy flash backs bits pieces present real time forward movement future little daunting director sebastien lifshitz doesn signal time period story line difficult follow stick film final minutes engrossing won able take eyes screen turns heart breaking uplifting film ranks beautiful thing must see cinema\n"
       ]
      }
     ],
     "prompt_number": "*"
    },
    {
     "cell_type": "code",
     "collapsed": false,
     "input": [
      "# Loop through all reviews\n",
      "# Using pandas and not method from Kaggle\n",
      "# Store data in new field\n",
      "train['review_edited'] = train['review'].apply(review_to_words)"
     ],
     "language": "python",
     "metadata": {},
     "outputs": [],
     "prompt_number": "*"
    },
    {
     "cell_type": "code",
     "collapsed": false,
     "input": [
      "train.head()"
     ],
     "language": "python",
     "metadata": {},
     "outputs": [],
     "prompt_number": "*"
    },
    {
     "cell_type": "markdown",
     "metadata": {},
     "source": [
      "A common approach to convert review words into some kind of numeric representation for machine learning is called a [Bag of Words](http://en.wikipedia.org/wiki/Bag-of-words_model). The Bag of Words model learns a vocabulary from all of the documents, then models each document by counting the number of times each word appears. The model creates a sparse matrix of words (with a limiter on vocabulary size) for all the reviews. \n",
      "\n",
      "Note that CountVectorizer comes with its own options to automatically do preprocessing, tokenization, and stop word removal -- for each of these, instead of specifying \"None\", we could have used a built-in method or specified our own function to use.  See the function documentation for more details. "
     ]
    },
    {
     "cell_type": "code",
     "collapsed": false,
     "input": [
      "# \"CountVectorizer\" is scikit-learn's bag of words tool.  \n",
      "from sklearn.feature_extraction.text import CountVectorizer\n",
      "\n",
      "vectorizer = CountVectorizer(analyzer = \"word\",   \\\n",
      "                             tokenizer = None,    \\\n",
      "                             preprocessor = None, \\\n",
      "                             stop_words = None,   \\\n",
      "                             max_features = 5000) "
     ],
     "language": "python",
     "metadata": {},
     "outputs": [],
     "prompt_number": "*"
    },
    {
     "cell_type": "code",
     "collapsed": false,
     "input": [
      "# fit_transform() does two functions: First, it fits the model\n",
      "# and learns the vocabulary; second, it transforms our training data\n",
      "# into feature vectors. The input to fit_transform should be a list of \n",
      "# strings.\n",
      "train_data_features = vectorizer.fit_transform(train['review_edited'])"
     ],
     "language": "python",
     "metadata": {},
     "outputs": [],
     "prompt_number": "*"
    },
    {
     "cell_type": "code",
     "collapsed": false,
     "input": [
      "# Numpy array\n",
      "train_data_features = train_data_features.toarray()"
     ],
     "language": "python",
     "metadata": {},
     "outputs": [],
     "prompt_number": "*"
    },
    {
     "cell_type": "code",
     "collapsed": false,
     "input": [
      "train_data_features.shape # 5K feature sparse matrix"
     ],
     "language": "python",
     "metadata": {},
     "outputs": [],
     "prompt_number": "*"
    },
    {
     "cell_type": "markdown",
     "metadata": {},
     "source": [
      "Now that a sparse matrix of numeric values has been created, we can apply a supervised learning model such as randomForest.  "
     ]
    },
    {
     "cell_type": "code",
     "collapsed": false,
     "input": [
      "# Create a randomForest model\n",
      "from sklearn.ensemble import RandomForestClassifier\n",
      "\n",
      "# Initialize a Random Forest classifier with 100 trees\n",
      "forest = RandomForestClassifier(n_estimators = 100) \n",
      "\n",
      "# Fit the forest to the training set, using the bag of words as \n",
      "# features and the sentiment labels as the response variable\n",
      "#\n",
      "# This may take a few minutes to run\n",
      "forest = forest.fit( train_data_features, train[\"sentiment\"] )"
     ],
     "language": "python",
     "metadata": {},
     "outputs": [],
     "prompt_number": "*"
    },
    {
     "cell_type": "code",
     "collapsed": false,
     "input": [
      "# Load test dataset to make predictions from\n",
      "test = pd.read_csv(\"Data/testData.tsv\", header=0, delimiter=\"\\t\", \\\n",
      "                   quoting=3 )"
     ],
     "language": "python",
     "metadata": {},
     "outputs": [],
     "prompt_number": "*"
    },
    {
     "cell_type": "code",
     "collapsed": false,
     "input": [
      "# Create review_edited column, as before\n",
      "test['review_edited'] = test['review'].apply(review_to_words)"
     ],
     "language": "python",
     "metadata": {},
     "outputs": [],
     "prompt_number": "*"
    },
    {
     "cell_type": "code",
     "collapsed": false,
     "input": [
      "test.head()"
     ],
     "language": "python",
     "metadata": {},
     "outputs": [],
     "prompt_number": "*"
    },
    {
     "cell_type": "code",
     "collapsed": false,
     "input": [
      "# Get a bag of words for the test set, and convert to a numpy array\n",
      "# Use 'vectorizer' instead to 'fit_vectorizer'\n",
      "# Only runs transform into feature vectors\n",
      "test_data_features = vectorizer.transform(test['review_edited'])\n",
      "test_data_features = test_data_features.toarray()"
     ],
     "language": "python",
     "metadata": {},
     "outputs": [],
     "prompt_number": "*"
    },
    {
     "cell_type": "code",
     "collapsed": false,
     "input": [
      "# Use the random forest to make sentiment label predictions\n",
      "result = forest.predict(test_data_features)"
     ],
     "language": "python",
     "metadata": {},
     "outputs": [],
     "prompt_number": "*"
    },
    {
     "cell_type": "code",
     "collapsed": false,
     "input": [
      "# Copy the results to a pandas dataframe with an \"id\" column and\n",
      "# a \"sentiment\" column\n",
      "output = pd.DataFrame( data={\"id\":test[\"id\"], \"sentiment\":result} )\n",
      "\n",
      "# Use pandas to write the comma-separated output file\n",
      "output.to_csv( \"Data/BS_Bag_of_Words_model.csv\", index=False, quoting=3 )"
     ],
     "language": "python",
     "metadata": {},
     "outputs": [],
     "prompt_number": "*"
    }
   ],
   "metadata": {}
  }
 ]
}