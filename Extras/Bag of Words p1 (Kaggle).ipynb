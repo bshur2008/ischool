{
 "metadata": {
  "name": "Bag of Words p1 (Kaggle)"
 },
 "nbformat": 3,
 "nbformat_minor": 0,
 "worksheets": [
  {
   "cells": [
    {
     "cell_type": "markdown",
     "metadata": {},
     "source": [
      "[Kaggle Competition](http://www.kaggle.com/c/word2vec-nlp-tutorial/details/part-1-for-beginners-bag-of-words): \"Bag of Words Meets Popcorn\"\n",
      "============\n",
      "\n",
      "Description:\n",
      "--------------\n",
      "In this tutorial competition, we dig a little \"deeper\" into sentiment analysis. Google's Word2Vec is a deep-learning inspired method that focuses on the meaning of words. Word2Vec attempts to understand meaning and semantic relationships among words. It works in a way that is similar to deep approaches, such as recurrent neural nets or deep neural nets, but is computationally more efficient. This tutorial focuses on Word2Vec for sentiment analysis.\n",
      "\n",
      "### Part 1 (tutorial):"
     ]
    },
    {
     "cell_type": "code",
     "collapsed": false,
     "input": [
      "# Load data with pandas\n",
      "import pandas as pd\n",
      "train = pd.read_csv('Data/labeledTrainData.tsv',header=0,quoting=3,delimiter=\"\\t\")"
     ],
     "language": "python",
     "metadata": {},
     "outputs": [],
     "prompt_number": 1
    },
    {
     "cell_type": "code",
     "collapsed": false,
     "input": [
      "train.head()"
     ],
     "language": "python",
     "metadata": {},
     "outputs": [
      {
       "html": [
        "<div style=\"max-height:1000px;max-width:1500px;overflow:auto;\">\n",
        "<table border=\"1\" class=\"dataframe\">\n",
        "  <thead>\n",
        "    <tr style=\"text-align: right;\">\n",
        "      <th></th>\n",
        "      <th>id</th>\n",
        "      <th>sentiment</th>\n",
        "      <th>review</th>\n",
        "    </tr>\n",
        "  </thead>\n",
        "  <tbody>\n",
        "    <tr>\n",
        "      <th>0</th>\n",
        "      <td> \"5814_8\"</td>\n",
        "      <td> 1</td>\n",
        "      <td> \"With all this stuff going down at the moment ...</td>\n",
        "    </tr>\n",
        "    <tr>\n",
        "      <th>1</th>\n",
        "      <td> \"2381_9\"</td>\n",
        "      <td> 1</td>\n",
        "      <td> \"\\\"The Classic War of the Worlds\\\" by Timothy ...</td>\n",
        "    </tr>\n",
        "    <tr>\n",
        "      <th>2</th>\n",
        "      <td> \"7759_3\"</td>\n",
        "      <td> 0</td>\n",
        "      <td> \"The film starts with a manager (Nicholas Bell...</td>\n",
        "    </tr>\n",
        "    <tr>\n",
        "      <th>3</th>\n",
        "      <td> \"3630_4\"</td>\n",
        "      <td> 0</td>\n",
        "      <td> \"It must be assumed that those who praised thi...</td>\n",
        "    </tr>\n",
        "    <tr>\n",
        "      <th>4</th>\n",
        "      <td> \"9495_8\"</td>\n",
        "      <td> 1</td>\n",
        "      <td> \"Superbly trashy and wondrously unpretentious ...</td>\n",
        "    </tr>\n",
        "  </tbody>\n",
        "</table>\n",
        "</div>"
       ],
       "output_type": "pyout",
       "prompt_number": 2,
       "text": [
        "         id  sentiment                                             review\n",
        "0  \"5814_8\"          1  \"With all this stuff going down at the moment ...\n",
        "1  \"2381_9\"          1  \"\\\"The Classic War of the Worlds\\\" by Timothy ...\n",
        "2  \"7759_3\"          0  \"The film starts with a manager (Nicholas Bell...\n",
        "3  \"3630_4\"          0  \"It must be assumed that those who praised thi...\n",
        "4  \"9495_8\"          1  \"Superbly trashy and wondrously unpretentious ..."
       ]
      }
     ],
     "prompt_number": 2
    },
    {
     "cell_type": "code",
     "collapsed": false,
     "input": [
      "train.shape # 25K rows, 3 columns"
     ],
     "language": "python",
     "metadata": {},
     "outputs": [
      {
       "output_type": "pyout",
       "prompt_number": 3,
       "text": [
        "(25000, 3)"
       ]
      }
     ],
     "prompt_number": 3
    },
    {
     "cell_type": "code",
     "collapsed": false,
     "input": [
      "# Example review (raw text)\n",
      "train['review'][0][:500]+'...'"
     ],
     "language": "python",
     "metadata": {},
     "outputs": [
      {
       "output_type": "pyout",
       "prompt_number": 7,
       "text": [
        "'\"With all this stuff going down at the moment with MJ i\\'ve started listening to his music, watching the odd documentary here and there, watched The Wiz and watched Moonwalker again. Maybe i just want to get a certain insight into this guy who i thought was really cool in the eighties just to maybe make up my mind whether he is guilty or innocent. Moonwalker is part biography, part feature film which i remember going to see at the cinema when it was originally released. Some of it has subtle mess...'"
       ]
      }
     ],
     "prompt_number": 7
    },
    {
     "cell_type": "markdown",
     "metadata": {},
     "source": [
      "There are HTML tags, abbreviations, punctuation - all common issues when processing text from online. [Beautiful Soup](http://www.crummy.com/software/BeautifulSoup/bs4/doc/) contains powerful methods for pulling data out of HTML and XML documents. Here it is used instead of regular expressions to remove tags. Punctuation is removed with a simple regex."
     ]
    },
    {
     "cell_type": "code",
     "collapsed": false,
     "input": [
      "# Utilize the beautiful soup library to remove HTML tags\n",
      "# http://www.crummy.com/software/BeautifulSoup/bs4/doc/\n",
      "from bs4 import BeautifulSoup\n",
      "i = 50\n",
      "example1 = BeautifulSoup(train[\"review\"][i])  \n",
      "\n",
      "# Print the raw review and then compare to get_text()\n",
      "print train[\"review\"][i],'\\n\\n', example1.get_text()"
     ],
     "language": "python",
     "metadata": {},
     "outputs": [
      {
       "output_type": "stream",
       "stream": "stdout",
       "text": [
        "\"Stephane Rideau was already a star for his tour de force in \\\"Wild Reeds,\\\" and he is one of France's biggest indie stars. In this film, he plays Cedric, a local boy who meets vacationing Mathieu (newcomer Jamie Elkaim, in a stunning, nuanced, ethereal performance) at the beach. Mathieu has a complex relationship with his ill mother, demanding aunt and sister (with whom he has a competitive relationship). Soon, the two are falling in love.<br /><br />The film's fractured narrative -- which is comprised of lengthy flash-backs, bits and pieces of the present, and real-time forward-movement into the future -- is a little daunting. Director Sebastien Lifshitz doesn't signal which time-period we are in, and the story line can be difficult to follow. But stick it out: The film's final 45 minutes are so engrossing that you won't be able to take your eyes off the screen. By turns heart-breaking and uplifting, this film ranks with \\\"Beautiful Thing\\\" as must-see cinema.\" \n",
        "\n",
        "\"Stephane Rideau was already a star for his tour de force in \\\"Wild Reeds,\\\" and he is one of France's biggest indie stars. In this film, he plays Cedric, a local boy who meets vacationing Mathieu (newcomer Jamie Elkaim, in a stunning, nuanced, ethereal performance) at the beach. Mathieu has a complex relationship with his ill mother, demanding aunt and sister (with whom he has a competitive relationship). Soon, the two are falling in love.The film's fractured narrative -- which is comprised of lengthy flash-backs, bits and pieces of the present, and real-time forward-movement into the future -- is a little daunting. Director Sebastien Lifshitz doesn't signal which time-period we are in, and the story line can be difficult to follow. But stick it out: The film's final 45 minutes are so engrossing that you won't be able to take your eyes off the screen. By turns heart-breaking and uplifting, this film ranks with \\\"Beautiful Thing\\\" as must-see cinema.\"\n"
       ]
      }
     ],
     "prompt_number": 20
    },
    {
     "cell_type": "code",
     "collapsed": false,
     "input": [
      "# Remove punctuation\n",
      "import re\n",
      "letters_only = lambda x: re.sub(r'[^a-zA-Z]',' ',x)\n",
      "letters = letters_only(example1.get_text())\n",
      "words = letters.split()\n",
      "words[:7]"
     ],
     "language": "python",
     "metadata": {},
     "outputs": [
      {
       "output_type": "pyout",
       "prompt_number": 52,
       "text": [
        "[u'Stephane', u'Rideau', u'was', u'already', u'a', u'star', u'for']"
       ]
      }
     ],
     "prompt_number": 52
    },
    {
     "cell_type": "code",
     "collapsed": false,
     "input": [
      "# load common filler words from nltk \n",
      "import nltk\n",
      "from nltk.corpus import stopwords # Import the stop word list\n",
      "print stopwords.words(\"english\") "
     ],
     "language": "python",
     "metadata": {},
     "outputs": [
      {
       "output_type": "stream",
       "stream": "stdout",
       "text": [
        "['i', 'me', 'my', 'myself', 'we', 'our', 'ours', 'ourselves', 'you', 'your', 'yours', 'yourself', 'yourselves', 'he', 'him', 'his', 'himself', 'she', 'her', 'hers', 'herself', 'it', 'its', 'itself', 'they', 'them', 'their', 'theirs', 'themselves', 'what', 'which', 'who', 'whom', 'this', 'that', 'these', 'those', 'am', 'is', 'are', 'was', 'were', 'be', 'been', 'being', 'have', 'has', 'had', 'having', 'do', 'does', 'did', 'doing', 'a', 'an', 'the', 'and', 'but', 'if', 'or', 'because', 'as', 'until', 'while', 'of', 'at', 'by', 'for', 'with', 'about', 'against', 'between', 'into', 'through', 'during', 'before', 'after', 'above', 'below', 'to', 'from', 'up', 'down', 'in', 'out', 'on', 'off', 'over', 'under', 'again', 'further', 'then', 'once', 'here', 'there', 'when', 'where', 'why', 'how', 'all', 'any', 'both', 'each', 'few', 'more', 'most', 'other', 'some', 'such', 'no', 'nor', 'not', 'only', 'own', 'same', 'so', 'than', 'too', 'very', 's', 't', 'can', 'will', 'just', 'don', 'should', 'now']\n"
       ]
      }
     ],
     "prompt_number": 32
    },
    {
     "cell_type": "code",
     "collapsed": false,
     "input": [
      "words = [ w for w in words if w not in stopwords.words('english') ]\n",
      "words[:7]"
     ],
     "language": "python",
     "metadata": {},
     "outputs": [
      {
       "output_type": "pyout",
       "prompt_number": 41,
       "text": [
        "[u'\"Stephane', u'Rideau', u'already', u'star', u'tour', u'de', u'force']"
       ]
      }
     ],
     "prompt_number": 41
    },
    {
     "cell_type": "code",
     "collapsed": false,
     "input": [
      "# Single function\n",
      "def review_to_words( raw_review ):\n",
      "    ''' Function to convert a raw review to a string of words\n",
      "        Args:\n",
      "            raw_review (a raw movie review string)\n",
      "        Output:\n",
      "            a preprocessed movie review string\n",
      "    '''\n",
      "    review_text = BeautifulSoup(raw_review).get_text() \n",
      "    letters = letters_only(review_text) \n",
      "    words = letters.lower().split()                             \n",
      "    stops = set(stopwords.words(\"english\"))                  \n",
      "    meaningful_words = [w for w in words if not w in stops]   \n",
      "    return \" \".join( meaningful_words )\n"
     ],
     "language": "python",
     "metadata": {},
     "outputs": [],
     "prompt_number": 53
    },
    {
     "cell_type": "code",
     "collapsed": false,
     "input": [
      "# test\n",
      "print review_to_words( train[\"review\"][50] )"
     ],
     "language": "python",
     "metadata": {},
     "outputs": [
      {
       "output_type": "stream",
       "stream": "stdout",
       "text": [
        "\"stephane rideau already star tour de force \\\"wild reeds,\\\" one france's biggest indie stars. film, plays cedric, local boy meets vacationing mathieu (newcomer jamie elkaim, stunning, nuanced, ethereal performance) beach. mathieu complex relationship ill mother, demanding aunt sister (with competitive relationship). soon, two falling love.the film's fractured narrative -- comprised lengthy flash-backs, bits pieces present, real-time forward-movement future -- little daunting. director sebastien lifshitz doesn't signal time-period in, story line difficult follow. stick out: film's final 45 minutes engrossing won't able take eyes screen. turns heart-breaking uplifting, film ranks \\\"beautiful thing\\\" must-see cinema.\"\n"
       ]
      }
     ],
     "prompt_number": 48
    },
    {
     "cell_type": "code",
     "collapsed": false,
     "input": [
      "# Loop through all reviews\n",
      "# Using pandas and not method from Kaggle\n",
      "# Store data in new field\n",
      "train['review_edited'] = train['review'].apply(review_to_words)"
     ],
     "language": "python",
     "metadata": {},
     "outputs": [],
     "prompt_number": 54
    },
    {
     "cell_type": "code",
     "collapsed": false,
     "input": [
      "train.head()"
     ],
     "language": "python",
     "metadata": {},
     "outputs": [
      {
       "html": [
        "<div style=\"max-height:1000px;max-width:1500px;overflow:auto;\">\n",
        "<table border=\"1\" class=\"dataframe\">\n",
        "  <thead>\n",
        "    <tr style=\"text-align: right;\">\n",
        "      <th></th>\n",
        "      <th>id</th>\n",
        "      <th>sentiment</th>\n",
        "      <th>review</th>\n",
        "      <th>review_edited</th>\n",
        "    </tr>\n",
        "  </thead>\n",
        "  <tbody>\n",
        "    <tr>\n",
        "      <th>0</th>\n",
        "      <td> \"5814_8\"</td>\n",
        "      <td> 1</td>\n",
        "      <td> \"With all this stuff going down at the moment ...</td>\n",
        "      <td> \"with stuff going moment mj i've started liste...</td>\n",
        "    </tr>\n",
        "    <tr>\n",
        "      <th>1</th>\n",
        "      <td> \"2381_9\"</td>\n",
        "      <td> 1</td>\n",
        "      <td> \"\\\"The Classic War of the Worlds\\\" by Timothy ...</td>\n",
        "      <td> \"\\\"the classic war worlds\\\" timothy hines ente...</td>\n",
        "    </tr>\n",
        "    <tr>\n",
        "      <th>2</th>\n",
        "      <td> \"7759_3\"</td>\n",
        "      <td> 0</td>\n",
        "      <td> \"The film starts with a manager (Nicholas Bell...</td>\n",
        "      <td> \"the film starts manager (nicholas bell) givin...</td>\n",
        "    </tr>\n",
        "    <tr>\n",
        "      <th>3</th>\n",
        "      <td> \"3630_4\"</td>\n",
        "      <td> 0</td>\n",
        "      <td> \"It must be assumed that those who praised thi...</td>\n",
        "      <td> \"it must assumed praised film (\\\"the greatest ...</td>\n",
        "    </tr>\n",
        "    <tr>\n",
        "      <th>4</th>\n",
        "      <td> \"9495_8\"</td>\n",
        "      <td> 1</td>\n",
        "      <td> \"Superbly trashy and wondrously unpretentious ...</td>\n",
        "      <td> \"superbly trashy wondrously unpretentious 80's...</td>\n",
        "    </tr>\n",
        "  </tbody>\n",
        "</table>\n",
        "</div>"
       ],
       "output_type": "pyout",
       "prompt_number": 50,
       "text": [
        "         id  sentiment                                             review  \\\n",
        "0  \"5814_8\"          1  \"With all this stuff going down at the moment ...   \n",
        "1  \"2381_9\"          1  \"\\\"The Classic War of the Worlds\\\" by Timothy ...   \n",
        "2  \"7759_3\"          0  \"The film starts with a manager (Nicholas Bell...   \n",
        "3  \"3630_4\"          0  \"It must be assumed that those who praised thi...   \n",
        "4  \"9495_8\"          1  \"Superbly trashy and wondrously unpretentious ...   \n",
        "\n",
        "                                       review_edited  \n",
        "0  \"with stuff going moment mj i've started liste...  \n",
        "1  \"\\\"the classic war worlds\\\" timothy hines ente...  \n",
        "2  \"the film starts manager (nicholas bell) givin...  \n",
        "3  \"it must assumed praised film (\\\"the greatest ...  \n",
        "4  \"superbly trashy wondrously unpretentious 80's...  "
       ]
      }
     ],
     "prompt_number": 50
    },
    {
     "cell_type": "markdown",
     "metadata": {},
     "source": [
      "A common approach to convert review words into some kind of numeric representation for machine learning is called a [Bag of Words](http://en.wikipedia.org/wiki/Bag-of-words_model). The Bag of Words model learns a vocabulary from all of the documents, then models each document by counting the number of times each word appears. The model creates a sparse matrix of words (with a limiter on vocabulary size) for all the reviews. \n",
      "\n",
      "Note that CountVectorizer comes with its own options to automatically do preprocessing, tokenization, and stop word removal -- for each of these, instead of specifying \"None\", we could have used a built-in method or specified our own function to use.  See the function documentation for more details. "
     ]
    },
    {
     "cell_type": "code",
     "collapsed": false,
     "input": [
      "# \"CountVectorizer\" is scikit-learn's bag of words tool.  \n",
      "from sklearn.feature_extraction.text import CountVectorizer\n",
      "\n",
      "vectorizer = CountVectorizer(analyzer = \"word\",   \\\n",
      "                             tokenizer = None,    \\\n",
      "                             preprocessor = None, \\\n",
      "                             stop_words = None,   \\\n",
      "                             max_features = 5000) "
     ],
     "language": "python",
     "metadata": {},
     "outputs": [],
     "prompt_number": 57
    },
    {
     "cell_type": "code",
     "collapsed": false,
     "input": [
      "# fit_transform() does two functions: First, it fits the model\n",
      "# and learns the vocabulary; second, it transforms our training data\n",
      "# into feature vectors. The input to fit_transform should be a list of \n",
      "# strings.\n",
      "train_data_features = vectorizer.fit_transform(train['review_edited'])"
     ],
     "language": "python",
     "metadata": {},
     "outputs": [],
     "prompt_number": 59
    },
    {
     "cell_type": "code",
     "collapsed": false,
     "input": [
      "# Numpy array\n",
      "train_data_features = train_data_features.toarray()"
     ],
     "language": "python",
     "metadata": {},
     "outputs": [],
     "prompt_number": 64
    },
    {
     "cell_type": "code",
     "collapsed": false,
     "input": [
      "train_data_features.shape # 5K feature sparse matrix"
     ],
     "language": "python",
     "metadata": {},
     "outputs": [
      {
       "output_type": "pyout",
       "prompt_number": 65,
       "text": [
        "(25000, 5000)"
       ]
      }
     ],
     "prompt_number": 65
    },
    {
     "cell_type": "markdown",
     "metadata": {},
     "source": [
      "Now that a sparse matrix of numeric values has been created, we can apply a supervised learning model such as randomForest.  "
     ]
    },
    {
     "cell_type": "code",
     "collapsed": false,
     "input": [
      "# Create a randomForest model\n",
      "from sklearn.ensemble import RandomForestClassifier\n",
      "\n",
      "# Initialize a Random Forest classifier with 100 trees\n",
      "forest = RandomForestClassifier(n_estimators = 100) \n",
      "\n",
      "# Fit the forest to the training set, using the bag of words as \n",
      "# features and the sentiment labels as the response variable\n",
      "#\n",
      "# This may take a few minutes to run\n",
      "forest = forest.fit( train_data_features, train[\"sentiment\"] )"
     ],
     "language": "python",
     "metadata": {},
     "outputs": [],
     "prompt_number": 68
    },
    {
     "cell_type": "code",
     "collapsed": false,
     "input": [
      "# Load test dataset to make predictions from\n",
      "test = pd.read_csv(\"Data/testData.tsv\", header=0, delimiter=\"\\t\", \\\n",
      "                   quoting=3 )"
     ],
     "language": "python",
     "metadata": {},
     "outputs": [],
     "prompt_number": 70
    },
    {
     "cell_type": "code",
     "collapsed": false,
     "input": [
      "# Create review_edited column, as before\n",
      "test['review_edited'] = test['review'].apply(review_to_words)"
     ],
     "language": "python",
     "metadata": {},
     "outputs": [],
     "prompt_number": 73
    },
    {
     "cell_type": "code",
     "collapsed": false,
     "input": [
      "test.head()"
     ],
     "language": "python",
     "metadata": {},
     "outputs": [
      {
       "html": [
        "<div style=\"max-height:1000px;max-width:1500px;overflow:auto;\">\n",
        "<table border=\"1\" class=\"dataframe\">\n",
        "  <thead>\n",
        "    <tr style=\"text-align: right;\">\n",
        "      <th></th>\n",
        "      <th>id</th>\n",
        "      <th>review</th>\n",
        "      <th>review_edited</th>\n",
        "    </tr>\n",
        "  </thead>\n",
        "  <tbody>\n",
        "    <tr>\n",
        "      <th>0</th>\n",
        "      <td> \"12311_10\"</td>\n",
        "      <td> \"Naturally in a film who's main themes are of ...</td>\n",
        "      <td> naturally film main themes mortality nostalgia...</td>\n",
        "    </tr>\n",
        "    <tr>\n",
        "      <th>1</th>\n",
        "      <td>   \"8348_2\"</td>\n",
        "      <td> \"This movie is a disaster within a disaster fi...</td>\n",
        "      <td> movie disaster within disaster film full great...</td>\n",
        "    </tr>\n",
        "    <tr>\n",
        "      <th>2</th>\n",
        "      <td>   \"5828_4\"</td>\n",
        "      <td> \"All in all, this is a movie for kids. We saw ...</td>\n",
        "      <td> movie kids saw tonight child loved one point k...</td>\n",
        "    </tr>\n",
        "    <tr>\n",
        "      <th>3</th>\n",
        "      <td>   \"7186_2\"</td>\n",
        "      <td> \"Afraid of the Dark left me with the impressio...</td>\n",
        "      <td> afraid dark left impression several different ...</td>\n",
        "    </tr>\n",
        "    <tr>\n",
        "      <th>4</th>\n",
        "      <td>  \"12128_7\"</td>\n",
        "      <td> \"A very accurate depiction of small time mob l...</td>\n",
        "      <td> accurate depiction small time mob life filmed ...</td>\n",
        "    </tr>\n",
        "  </tbody>\n",
        "</table>\n",
        "</div>"
       ],
       "output_type": "pyout",
       "prompt_number": 74,
       "text": [
        "           id                                             review  \\\n",
        "0  \"12311_10\"  \"Naturally in a film who's main themes are of ...   \n",
        "1    \"8348_2\"  \"This movie is a disaster within a disaster fi...   \n",
        "2    \"5828_4\"  \"All in all, this is a movie for kids. We saw ...   \n",
        "3    \"7186_2\"  \"Afraid of the Dark left me with the impressio...   \n",
        "4   \"12128_7\"  \"A very accurate depiction of small time mob l...   \n",
        "\n",
        "                                       review_edited  \n",
        "0  naturally film main themes mortality nostalgia...  \n",
        "1  movie disaster within disaster film full great...  \n",
        "2  movie kids saw tonight child loved one point k...  \n",
        "3  afraid dark left impression several different ...  \n",
        "4  accurate depiction small time mob life filmed ...  "
       ]
      }
     ],
     "prompt_number": 74
    },
    {
     "cell_type": "code",
     "collapsed": false,
     "input": [
      "# Get a bag of words for the test set, and convert to a numpy array\n",
      "# Use 'vectorizer' instead to 'fit_vectorizer'\n",
      "# Only runs transform into feature vectors\n",
      "test_data_features = vectorizer.transform(test['review_edited'])\n",
      "test_data_features = test_data_features.toarray()"
     ],
     "language": "python",
     "metadata": {},
     "outputs": [],
     "prompt_number": 76
    },
    {
     "cell_type": "code",
     "collapsed": false,
     "input": [
      "# Use the random forest to make sentiment label predictions\n",
      "result = forest.predict(test_data_features)"
     ],
     "language": "python",
     "metadata": {},
     "outputs": [],
     "prompt_number": 77
    },
    {
     "cell_type": "code",
     "collapsed": false,
     "input": [
      "# Copy the results to a pandas dataframe with an \"id\" column and\n",
      "# a \"sentiment\" column\n",
      "output = pd.DataFrame( data={\"id\":test[\"id\"], \"sentiment\":result} )\n",
      "\n",
      "# Use pandas to write the comma-separated output file\n",
      "output.to_csv( \"Data/BS_Bag_of_Words_model.csv\", index=False, quoting=3 )"
     ],
     "language": "python",
     "metadata": {},
     "outputs": [],
     "prompt_number": 80
    }
   ],
   "metadata": {}
  }
 ]
}