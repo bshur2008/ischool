{
 "metadata": {
  "name": "Bag of Words p3 (Kaggle)"
 },
 "nbformat": 3,
 "nbformat_minor": 0,
 "worksheets": [
  {
   "cells": [
    {
     "cell_type": "markdown",
     "metadata": {},
     "source": [
      "[Part 3: More fun with word vectors](https://www.kaggle.com/c/word2vec-nlp-tutorial/details/part-3-more-fun-with-word-vectors)\n",
      "==============\n",
      "\n",
      "Utilize a Word2Vec trained model to make predictions."
     ]
    },
    {
     "cell_type": "markdown",
     "metadata": {},
     "source": [
      "Setting the minimum word count to 40 gave us a total vocabulary of 16,490 words with 300 features apiece."
     ]
    },
    {
     "cell_type": "markdown",
     "metadata": {},
     "source": [
      "Attempt 1: Vector Averaging\n",
      "---------\n",
      "\n",
      "\"We need to find a way to take individual word vectors and transform them into a feature set that is the same length for every review.\n",
      "\n",
      "Since each word is a vector in 300-dimensional space, we can use vector operations to combine the words in each review. One method we tried was to simply average the word vectors in a given review (for this purpose, we removed stop words, which would just add noise).\" (via Kaggle)"
     ]
    },
    {
     "cell_type": "code",
     "collapsed": false,
     "input": [
      "import pandas as pd\n",
      "\n",
      "# Read data from files \n",
      "train = pd.read_csv( \"Data/labeledTrainData.tsv\", header=0, \n",
      "    delimiter=\"\\t\", quoting=3 )\n",
      "test = pd.read_csv( \"Data/testData.tsv\", header=0, \n",
      "    delimiter=\"\\t\", quoting=3 )\n",
      "unlabeled_train = pd.read_csv( \"Data/unlabeledTrainData.tsv\", header=0, \n",
      "    delimiter=\"\\t\", quoting=3 )"
     ],
     "language": "python",
     "metadata": {},
     "outputs": [],
     "prompt_number": 2
    },
    {
     "cell_type": "code",
     "collapsed": false,
     "input": [
      "from gensim.models import Word2Vec\n",
      "model = Word2Vec.load(\"Data/300features_40minwords_10context\")\n",
      "model.syn0.shape"
     ],
     "language": "python",
     "metadata": {},
     "outputs": [
      {
       "output_type": "pyout",
       "prompt_number": 3,
       "text": [
        "(16490, 300)"
       ]
      }
     ],
     "prompt_number": 3
    },
    {
     "cell_type": "code",
     "collapsed": false,
     "input": [
      "import numpy as np  # Make sure that numpy is imported\n",
      "\n",
      "def makeFeatureVec(words, model, num_features):\n",
      "    ''' Function to average all of the word vectors in a given\n",
      "        paragraph\n",
      "    '''\n",
      "    # Pre-initialize an empty numpy array (for speed)\n",
      "    featureVec = np.zeros((num_features,),dtype=\"float32\")\n",
      "    #\n",
      "    nwords = 0.\n",
      "    # \n",
      "    # Index2word is a list that contains the names of the words in \n",
      "    # the model's vocabulary. Convert it to a set, for speed \n",
      "    index2word_set = set(model.index2word)\n",
      "    #\n",
      "    # Loop over each word in the review and, if it is in the model's\n",
      "    # vocaublary, add its feature vector to the total\n",
      "    for word in words:\n",
      "        if word in index2word_set: \n",
      "            nwords = nwords + 1.\n",
      "            featureVec = np.add(featureVec,model[word])\n",
      "    # \n",
      "    # Divide the result by the number of words to get the average\n",
      "    featureVec = np.divide(featureVec,nwords)\n",
      "    return featureVec\n",
      "\n",
      "def getAvgFeatureVecs(reviews, model, num_features):\n",
      "    ''' Given a set of reviews (each one a list of words), calculate \n",
      "        the average feature vector for each one and return a 2D numpy array \n",
      "    '''\n",
      "    # Initialize a counter\n",
      "    counter = 0.\n",
      "    # \n",
      "    # Preallocate a 2D numpy array, for speed\n",
      "    reviewFeatureVecs = np.zeros((len(reviews),num_features),dtype=\"float32\")\n",
      "    # \n",
      "    # Loop through the reviews\n",
      "    for review in reviews:\n",
      "       #\n",
      "       # Print a status message every 1000th review\n",
      "       if counter%1000. == 0.:\n",
      "           print \"Review %d of %d\" % (counter, len(reviews))\n",
      "       # \n",
      "       # Call the function (defined above) that makes average feature vectors\n",
      "       reviewFeatureVecs[counter] = makeFeatureVec(review, model, \\\n",
      "           num_features)\n",
      "       #\n",
      "       # Increment the counter\n",
      "       counter = counter + 1.\n",
      "    return reviewFeatureVecs"
     ],
     "language": "python",
     "metadata": {},
     "outputs": [],
     "prompt_number": 7
    },
    {
     "cell_type": "code",
     "collapsed": false,
     "input": [
      "# ****************************************************************\n",
      "# Calculate average feature vectors for training and testing sets,\n",
      "# using the functions we defined above. Notice that we now use stop word\n",
      "# removal.\n",
      "\n",
      "# Import various modules for string cleaning\n",
      "from bs4 import BeautifulSoup\n",
      "import re\n",
      "from nltk.corpus import stopwords\n",
      "letters_only = lambda x: re.sub(\"[^a-zA-Z]\",\" \", x)\n",
      "\n",
      "def review_to_wordlist( review, remove_stopwords=False ):\n",
      "    ''' Function to convert a document to a sequence of words,\n",
      "        optionally removing stop words.  Returns a list of words.\n",
      "    '''\n",
      "    review_text = BeautifulSoup(review).get_text()\n",
      "    review_text = letters_only(review_text)\n",
      "    words = review_text.lower().split()\n",
      "    if remove_stopwords:\n",
      "        stops = set(stopwords.words(\"english\"))\n",
      "        words = [w for w in words if not w in stops]\n",
      "    return(words)"
     ],
     "language": "python",
     "metadata": {},
     "outputs": [],
     "prompt_number": 19
    },
    {
     "cell_type": "code",
     "collapsed": false,
     "input": [
      "clean_train_reviews = []\n",
      "for review in train[\"review\"]:\n",
      "    clean_train_reviews.append( review_to_wordlist( review, \\\n",
      "        remove_stopwords=True ))"
     ],
     "language": "python",
     "metadata": {},
     "outputs": [],
     "prompt_number": 20
    },
    {
     "cell_type": "code",
     "collapsed": false,
     "input": [
      "trainDataVecs = getAvgFeatureVecs( clean_train_reviews, model, 300 )"
     ],
     "language": "python",
     "metadata": {},
     "outputs": [
      {
       "output_type": "stream",
       "stream": "stdout",
       "text": [
        "Review 0 of 25000\n",
        "Review 1000 of 25000"
       ]
      },
      {
       "output_type": "stream",
       "stream": "stdout",
       "text": [
        "\n",
        "Review 2000 of 25000"
       ]
      },
      {
       "output_type": "stream",
       "stream": "stdout",
       "text": [
        "\n",
        "Review 3000 of 25000"
       ]
      },
      {
       "output_type": "stream",
       "stream": "stdout",
       "text": [
        "\n",
        "Review 4000 of 25000"
       ]
      },
      {
       "output_type": "stream",
       "stream": "stdout",
       "text": [
        "\n",
        "Review 5000 of 25000"
       ]
      },
      {
       "output_type": "stream",
       "stream": "stdout",
       "text": [
        "\n",
        "Review 6000 of 25000"
       ]
      },
      {
       "output_type": "stream",
       "stream": "stdout",
       "text": [
        "\n",
        "Review 7000 of 25000"
       ]
      },
      {
       "output_type": "stream",
       "stream": "stdout",
       "text": [
        "\n",
        "Review 8000 of 25000"
       ]
      },
      {
       "output_type": "stream",
       "stream": "stdout",
       "text": [
        "\n",
        "Review 9000 of 25000"
       ]
      },
      {
       "output_type": "stream",
       "stream": "stdout",
       "text": [
        "\n",
        "Review 10000 of 25000"
       ]
      },
      {
       "output_type": "stream",
       "stream": "stdout",
       "text": [
        "\n",
        "Review 11000 of 25000"
       ]
      },
      {
       "output_type": "stream",
       "stream": "stdout",
       "text": [
        "\n",
        "Review 12000 of 25000"
       ]
      },
      {
       "output_type": "stream",
       "stream": "stdout",
       "text": [
        "\n",
        "Review 13000 of 25000"
       ]
      },
      {
       "output_type": "stream",
       "stream": "stdout",
       "text": [
        "\n",
        "Review 14000 of 25000"
       ]
      },
      {
       "output_type": "stream",
       "stream": "stdout",
       "text": [
        "\n",
        "Review 15000 of 25000"
       ]
      },
      {
       "output_type": "stream",
       "stream": "stdout",
       "text": [
        "\n",
        "Review 16000 of 25000"
       ]
      },
      {
       "output_type": "stream",
       "stream": "stdout",
       "text": [
        "\n",
        "Review 17000 of 25000"
       ]
      },
      {
       "output_type": "stream",
       "stream": "stdout",
       "text": [
        "\n",
        "Review 18000 of 25000"
       ]
      },
      {
       "output_type": "stream",
       "stream": "stdout",
       "text": [
        "\n",
        "Review 19000 of 25000"
       ]
      },
      {
       "output_type": "stream",
       "stream": "stdout",
       "text": [
        "\n",
        "Review 20000 of 25000"
       ]
      },
      {
       "output_type": "stream",
       "stream": "stdout",
       "text": [
        "\n",
        "Review 21000 of 25000"
       ]
      },
      {
       "output_type": "stream",
       "stream": "stdout",
       "text": [
        "\n",
        "Review 22000 of 25000"
       ]
      },
      {
       "output_type": "stream",
       "stream": "stdout",
       "text": [
        "\n",
        "Review 23000 of 25000"
       ]
      },
      {
       "output_type": "stream",
       "stream": "stdout",
       "text": [
        "\n",
        "Review 24000 of 25000"
       ]
      },
      {
       "output_type": "stream",
       "stream": "stdout",
       "text": [
        "\n"
       ]
      }
     ],
     "prompt_number": 22
    },
    {
     "cell_type": "code",
     "collapsed": false,
     "input": [
      "print \"Creating average feature vecs for test reviews\"\n",
      "clean_test_reviews = []\n",
      "for review in test[\"review\"]:\n",
      "    clean_test_reviews.append( review_to_wordlist( review, \\\n",
      "        remove_stopwords=True ))"
     ],
     "language": "python",
     "metadata": {},
     "outputs": [
      {
       "output_type": "stream",
       "stream": "stdout",
       "text": [
        "Creating average feature vecs for test reviews\n"
       ]
      }
     ],
     "prompt_number": 23
    },
    {
     "cell_type": "code",
     "collapsed": false,
     "input": [
      "testDataVecs = getAvgFeatureVecs( clean_test_reviews, model, 300 )"
     ],
     "language": "python",
     "metadata": {},
     "outputs": [
      {
       "output_type": "stream",
       "stream": "stdout",
       "text": [
        "Review 0 of 25000\n",
        "Review 1000 of 25000"
       ]
      },
      {
       "output_type": "stream",
       "stream": "stdout",
       "text": [
        "\n",
        "Review 2000 of 25000"
       ]
      },
      {
       "output_type": "stream",
       "stream": "stdout",
       "text": [
        "\n",
        "Review 3000 of 25000"
       ]
      },
      {
       "output_type": "stream",
       "stream": "stdout",
       "text": [
        "\n",
        "Review 4000 of 25000"
       ]
      },
      {
       "output_type": "stream",
       "stream": "stdout",
       "text": [
        "\n",
        "Review 5000 of 25000"
       ]
      },
      {
       "output_type": "stream",
       "stream": "stdout",
       "text": [
        "\n",
        "Review 6000 of 25000"
       ]
      },
      {
       "output_type": "stream",
       "stream": "stdout",
       "text": [
        "\n",
        "Review 7000 of 25000"
       ]
      },
      {
       "output_type": "stream",
       "stream": "stdout",
       "text": [
        "\n",
        "Review 8000 of 25000"
       ]
      },
      {
       "output_type": "stream",
       "stream": "stdout",
       "text": [
        "\n",
        "Review 9000 of 25000"
       ]
      },
      {
       "output_type": "stream",
       "stream": "stdout",
       "text": [
        "\n",
        "Review 10000 of 25000"
       ]
      },
      {
       "output_type": "stream",
       "stream": "stdout",
       "text": [
        "\n",
        "Review 11000 of 25000"
       ]
      },
      {
       "output_type": "stream",
       "stream": "stdout",
       "text": [
        "\n",
        "Review 12000 of 25000"
       ]
      },
      {
       "output_type": "stream",
       "stream": "stdout",
       "text": [
        "\n",
        "Review 13000 of 25000"
       ]
      },
      {
       "output_type": "stream",
       "stream": "stdout",
       "text": [
        "\n",
        "Review 14000 of 25000"
       ]
      },
      {
       "output_type": "stream",
       "stream": "stdout",
       "text": [
        "\n",
        "Review 15000 of 25000"
       ]
      },
      {
       "output_type": "stream",
       "stream": "stdout",
       "text": [
        "\n",
        "Review 16000 of 25000"
       ]
      },
      {
       "output_type": "stream",
       "stream": "stdout",
       "text": [
        "\n",
        "Review 17000 of 25000"
       ]
      },
      {
       "output_type": "stream",
       "stream": "stdout",
       "text": [
        "\n",
        "Review 18000 of 25000"
       ]
      },
      {
       "output_type": "stream",
       "stream": "stdout",
       "text": [
        "\n",
        "Review 19000 of 25000"
       ]
      },
      {
       "output_type": "stream",
       "stream": "stdout",
       "text": [
        "\n",
        "Review 20000 of 25000"
       ]
      },
      {
       "output_type": "stream",
       "stream": "stdout",
       "text": [
        "\n",
        "Review 21000 of 25000"
       ]
      },
      {
       "output_type": "stream",
       "stream": "stdout",
       "text": [
        "\n",
        "Review 22000 of 25000"
       ]
      },
      {
       "output_type": "stream",
       "stream": "stdout",
       "text": [
        "\n",
        "Review 23000 of 25000"
       ]
      },
      {
       "output_type": "stream",
       "stream": "stdout",
       "text": [
        "\n",
        "Review 24000 of 25000"
       ]
      },
      {
       "output_type": "stream",
       "stream": "stdout",
       "text": [
        "\n"
       ]
      }
     ],
     "prompt_number": 25
    },
    {
     "cell_type": "code",
     "collapsed": false,
     "input": [
      "# Fit a random forest to the training data, using 100 trees\n",
      "from sklearn.ensemble import RandomForestClassifier\n",
      "forest = RandomForestClassifier( n_estimators = 100 )\n",
      "\n",
      "print \"Fitting a random forest to labeled training data...\"\n",
      "forest = forest.fit( trainDataVecs, train[\"sentiment\"] )\n",
      "\n",
      "# Test & extract results \n",
      "result = forest.predict( testDataVecs )\n",
      "\n",
      "# Write the test results \n",
      "output = pd.DataFrame( data={\"id\":test[\"id\"], \"sentiment\":result} )\n",
      "output.to_csv( \"Word2Vec_AverageVectors.csv\", index=False, quoting=3 )"
     ],
     "language": "python",
     "metadata": {},
     "outputs": [
      {
       "output_type": "stream",
       "stream": "stdout",
       "text": [
        "Fitting a random forest to labeled training data...\n"
       ]
      }
     ],
     "prompt_number": 26
    },
    {
     "cell_type": "markdown",
     "metadata": {},
     "source": [
      "Attempt 2: Clustering\n",
      "---------\n",
      "\n",
      "\"Word2Vec creates clusters of semantically related words, so another possible approach is to exploit the similarity of words within a cluster. Grouping vectors in this way is known as \"vector quantization.\" To accomplish this, we first need to find the centers of the word clusters, which we can do by using a clustering algorithm such as K-Means.\""
     ]
    },
    {
     "cell_type": "code",
     "collapsed": false,
     "input": [
      "from sklearn.cluster import KMeans\n",
      "import time\n",
      "\n",
      "start = time.time() # Start time\n",
      "\n",
      "# Set \"k\" (num_clusters) to be 1/5th of the vocabulary size, or an\n",
      "# average of 5 words per cluster\n",
      "word_vectors = model.syn0\n",
      "num_clusters = word_vectors.shape[0] / 5\n",
      "\n",
      "# Initalize a k-means object and use it to extract centroids\n",
      "kmeans_clustering = KMeans( n_clusters = num_clusters )\n",
      "idx = kmeans_clustering.fit_predict( word_vectors )\n",
      "\n",
      "# Get the end time and print how long the process took\n",
      "end = time.time()\n",
      "elapsed = end - start\n",
      "print \"Time taken for K Means clustering: \", elapsed, \"seconds.\""
     ],
     "language": "python",
     "metadata": {},
     "outputs": [
      {
       "output_type": "stream",
       "stream": "stdout",
       "text": [
        "Time taken for K Means clustering:  656.899296999 seconds.\n"
       ]
      }
     ],
     "prompt_number": 4
    },
    {
     "cell_type": "markdown",
     "metadata": {},
     "source": [
      "The cluster assignment for each word is now stored in idx, and the vocabulary from our original Word2Vec model is still stored in model.index2word. For convenience, we zip these into one dictionary."
     ]
    },
    {
     "cell_type": "code",
     "collapsed": false,
     "input": [
      "# Create a Word / Index dictionary, mapping each vocabulary word to\n",
      "# a cluster number                                                                                            \n",
      "word_centroid_map = dict(zip( model.index2word, idx ))"
     ],
     "language": "python",
     "metadata": {},
     "outputs": [],
     "prompt_number": 5
    },
    {
     "cell_type": "code",
     "collapsed": false,
     "input": [
      "# For the first 10 clusters\n",
      "for cluster in xrange(0,10):\n",
      "    #\n",
      "    # Print the cluster number  \n",
      "    print \"\\nCluster %d\" % cluster\n",
      "    #\n",
      "    # Find all of the words for that cluster number, and print them out\n",
      "    words = []\n",
      "    for i in xrange(0,len(word_centroid_map.values())):\n",
      "        if( word_centroid_map.values()[i] == cluster ):\n",
      "            words.append(word_centroid_map.keys()[i])\n",
      "    print words"
     ],
     "language": "python",
     "metadata": {},
     "outputs": [
      {
       "output_type": "stream",
       "stream": "stdout",
       "text": [
        "\n",
        "Cluster 0\n",
        "[u'exchange']"
       ]
      },
      {
       "output_type": "stream",
       "stream": "stdout",
       "text": [
        "\n",
        "\n",
        "Cluster 1\n",
        "[u'concluding', u'culminates', u'stages', u'culminating', u'climaxes']"
       ]
      },
      {
       "output_type": "stream",
       "stream": "stdout",
       "text": [
        "\n",
        "\n",
        "Cluster 2\n",
        "[u'amusingly', u'laced']"
       ]
      },
      {
       "output_type": "stream",
       "stream": "stdout",
       "text": [
        "\n",
        "\n",
        "Cluster 3\n",
        "[u'hayek', u'nancy', u'bergen']"
       ]
      },
      {
       "output_type": "stream",
       "stream": "stdout",
       "text": [
        "\n",
        "\n",
        "Cluster 4\n",
        "[u'alliance', u'rebel', u'vessel', u'federation']"
       ]
      },
      {
       "output_type": "stream",
       "stream": "stdout",
       "text": [
        "\n",
        "\n",
        "Cluster 5\n",
        "[u'chill', u'fork', u'handy', u'dish', u'stab']"
       ]
      },
      {
       "output_type": "stream",
       "stream": "stdout",
       "text": [
        "\n",
        "\n",
        "Cluster 6\n",
        "[u'archives', u'treasures']"
       ]
      },
      {
       "output_type": "stream",
       "stream": "stdout",
       "text": [
        "\n",
        "\n",
        "Cluster 7\n",
        "[u'reprises', u'knockout', u'maclaine', u'memorably', u'franchot', u'berger', u'unrecognizable', u'vivian', u'marjorie', u'peters', u'keeler', u'neve', u'foch', u'thankless', u'reprising', u'debra', u'blaine', u'sewell', u'bel', u'stealer', u'chews', u'simmons', u'ditto', u'fiddle', u'claudia', u'underused', u'karyo', u'incomparable', u'perfected', u'tailor', u'tiffany', u'performs', u'beatrice']"
       ]
      },
      {
       "output_type": "stream",
       "stream": "stdout",
       "text": [
        "\n",
        "\n",
        "Cluster 8\n",
        "[u'represents', u'celebrates']"
       ]
      },
      {
       "output_type": "stream",
       "stream": "stdout",
       "text": [
        "\n",
        "\n",
        "Cluster 9\n",
        "[u'cursing', u'ranting', u'phrases']"
       ]
      },
      {
       "output_type": "stream",
       "stream": "stdout",
       "text": [
        "\n"
       ]
      }
     ],
     "prompt_number": 6
    },
    {
     "cell_type": "markdown",
     "metadata": {},
     "source": [
      "We now have a cluster (or \"centroid\") assignment for each word, and we can define a function to convert reviews into bags-of-centroids. This works just like Bag of Words but uses semantically related clusters instead of individual words."
     ]
    },
    {
     "cell_type": "code",
     "collapsed": false,
     "input": [
      "def create_bag_of_centroids( wordlist, word_centroid_map ):\n",
      "    #\n",
      "    # The number of clusters is equal to the highest cluster index\n",
      "    # in the word / centroid map\n",
      "    num_centroids = max( word_centroid_map.values() ) + 1\n",
      "    #\n",
      "    # Pre-allocate the bag of centroids vector (for speed)\n",
      "    bag_of_centroids = np.zeros( num_centroids, dtype=\"float32\" )\n",
      "    #\n",
      "    # Loop over the words in the review. If the word is in the vocabulary,\n",
      "    # find which cluster it belongs to, and increment that cluster count \n",
      "    # by one\n",
      "    for word in wordlist:\n",
      "        if word in word_centroid_map:\n",
      "            index = word_centroid_map[word]\n",
      "            bag_of_centroids[index] += 1\n",
      "    #\n",
      "    # Return the \"bag of centroids\"\n",
      "    return bag_of_centroids"
     ],
     "language": "python",
     "metadata": {},
     "outputs": [],
     "prompt_number": 10
    },
    {
     "cell_type": "code",
     "collapsed": false,
     "input": [
      "import numpy as np\n",
      "# Pre-allocate an array for the training set bags of centroids (for speed)\n",
      "train_centroids = np.zeros( (train[\"review\"].size, num_clusters), \\\n",
      "    dtype=\"float32\" )\n",
      "\n",
      "# Transform the training set reviews into bags of centroids\n",
      "counter = 0\n",
      "for review in clean_train_reviews:\n",
      "    train_centroids[counter] = create_bag_of_centroids( review, \\\n",
      "        word_centroid_map )\n",
      "    counter += 1\n",
      "\n",
      "# Repeat for test reviews \n",
      "test_centroids = np.zeros(( test[\"review\"].size, num_clusters), \\\n",
      "    dtype=\"float32\" )\n",
      "\n",
      "counter = 0\n",
      "for review in clean_test_reviews:\n",
      "    test_centroids[counter] = create_bag_of_centroids( review, \\\n",
      "        word_centroid_map )\n",
      "    counter += 1"
     ],
     "language": "python",
     "metadata": {},
     "outputs": [
      {
       "ename": "NameError",
       "evalue": "name 'clean_train_reviews' is not defined",
       "output_type": "pyerr",
       "traceback": [
        "\u001b[0;31m---------------------------------------------------------------------------\u001b[0m\n\u001b[0;31mNameError\u001b[0m                                 Traceback (most recent call last)",
        "\u001b[0;32m<ipython-input-13-9bb23e29fcc5>\u001b[0m in \u001b[0;36m<module>\u001b[0;34m()\u001b[0m\n\u001b[1;32m      6\u001b[0m \u001b[0;31m# Transform the training set reviews into bags of centroids\u001b[0m\u001b[0;34m\u001b[0m\u001b[0;34m\u001b[0m\u001b[0m\n\u001b[1;32m      7\u001b[0m \u001b[0mcounter\u001b[0m \u001b[0;34m=\u001b[0m \u001b[0;36m0\u001b[0m\u001b[0;34m\u001b[0m\u001b[0m\n\u001b[0;32m----> 8\u001b[0;31m \u001b[0;32mfor\u001b[0m \u001b[0mreview\u001b[0m \u001b[0;32min\u001b[0m \u001b[0mclean_train_reviews\u001b[0m\u001b[0;34m:\u001b[0m\u001b[0;34m\u001b[0m\u001b[0m\n\u001b[0m\u001b[1;32m      9\u001b[0m     train_centroids[counter] = create_bag_of_centroids( review, \\\n\u001b[1;32m     10\u001b[0m         word_centroid_map )\n",
        "\u001b[0;31mNameError\u001b[0m: name 'clean_train_reviews' is not defined"
       ]
      }
     ],
     "prompt_number": 13
    },
    {
     "cell_type": "code",
     "collapsed": false,
     "input": [
      "# Fit a random forest and extract predictions \n",
      "forest = RandomForestClassifier(n_estimators = 100)\n",
      "\n",
      "# Fitting the forest may take a few minutes\n",
      "print \"Fitting a random forest to labeled training data...\"\n",
      "forest = forest.fit(train_centroids,train[\"sentiment\"])\n",
      "result = forest.predict(test_centroids)\n",
      "\n",
      "# Write the test results \n",
      "output = pd.DataFrame(data={\"id\":test[\"id\"], \"sentiment\":result})\n",
      "output.to_csv( \"Data/BS_BagOfCentroids.csv\", index=False, quoting=3 )"
     ],
     "language": "python",
     "metadata": {},
     "outputs": []
    }
   ],
   "metadata": {}
  }
 ]
}