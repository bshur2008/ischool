{
 "cells": [
  {
   "cell_type": "markdown",
   "metadata": {},
   "source": [
    "Kaggle Competition -- Otto Group Product Classification\n",
    "==========\n",
    "\n",
    "[Link to description page here](https://www.kaggle.com/c/otto-group-product-classification-challenge)"
   ]
  },
  {
   "cell_type": "markdown",
   "metadata": {},
   "source": [
    "Read data from training file\n",
    "-------"
   ]
  },
  {
   "cell_type": "code",
   "execution_count": 3,
   "metadata": {
    "collapsed": false
   },
   "outputs": [],
   "source": [
    "data.location <- '/Users/bshur/School/Extras/Data/'\n",
    "data.train <- read.csv(paste0(data.location,'otto_train.csv'))\n",
    "data.test <- read.csv(paste0(data.location,'otto_test.csv'))"
   ]
  },
  {
   "cell_type": "markdown",
   "metadata": {},
   "source": [
    "Explore the data\n",
    "------"
   ]
  },
  {
   "cell_type": "code",
   "execution_count": 4,
   "metadata": {
    "collapsed": false
   },
   "outputs": [
    {
     "data": {
      "text/html": [
       "<ol class=list-inline>\n",
       "\t<li>'id'</li>\n",
       "\t<li>'feat_1'</li>\n",
       "\t<li>'feat_2'</li>\n",
       "\t<li>'feat_3'</li>\n",
       "\t<li>'feat_4'</li>\n",
       "\t<li>'feat_5'</li>\n",
       "\t<li>'feat_6'</li>\n",
       "\t<li>'feat_7'</li>\n",
       "\t<li>'feat_8'</li>\n",
       "\t<li>'feat_9'</li>\n",
       "\t<li>'feat_10'</li>\n",
       "\t<li>'feat_11'</li>\n",
       "\t<li>'feat_12'</li>\n",
       "\t<li>'feat_13'</li>\n",
       "\t<li>'feat_14'</li>\n",
       "\t<li>'feat_15'</li>\n",
       "\t<li>'feat_16'</li>\n",
       "\t<li>'feat_17'</li>\n",
       "\t<li>'feat_18'</li>\n",
       "\t<li>'feat_19'</li>\n",
       "\t<li>'feat_20'</li>\n",
       "\t<li>'feat_21'</li>\n",
       "\t<li>'feat_22'</li>\n",
       "\t<li>'feat_23'</li>\n",
       "\t<li>'feat_24'</li>\n",
       "\t<li>'feat_25'</li>\n",
       "\t<li>'feat_26'</li>\n",
       "\t<li>'feat_27'</li>\n",
       "\t<li>'feat_28'</li>\n",
       "\t<li>'feat_29'</li>\n",
       "\t<li>'feat_30'</li>\n",
       "\t<li>'feat_31'</li>\n",
       "\t<li>'feat_32'</li>\n",
       "\t<li>'feat_33'</li>\n",
       "\t<li>'feat_34'</li>\n",
       "\t<li>'feat_35'</li>\n",
       "\t<li>'feat_36'</li>\n",
       "\t<li>'feat_37'</li>\n",
       "\t<li>'feat_38'</li>\n",
       "\t<li>'feat_39'</li>\n",
       "\t<li>'feat_40'</li>\n",
       "\t<li>'feat_41'</li>\n",
       "\t<li>'feat_42'</li>\n",
       "\t<li>'feat_43'</li>\n",
       "\t<li>'feat_44'</li>\n",
       "\t<li>'feat_45'</li>\n",
       "\t<li>'feat_46'</li>\n",
       "\t<li>'feat_47'</li>\n",
       "\t<li>'feat_48'</li>\n",
       "\t<li>'feat_49'</li>\n",
       "\t<li>'feat_50'</li>\n",
       "\t<li>'feat_51'</li>\n",
       "\t<li>'feat_52'</li>\n",
       "\t<li>'feat_53'</li>\n",
       "\t<li>'feat_54'</li>\n",
       "\t<li>'feat_55'</li>\n",
       "\t<li>'feat_56'</li>\n",
       "\t<li>'feat_57'</li>\n",
       "\t<li>'feat_58'</li>\n",
       "\t<li>'feat_59'</li>\n",
       "\t<li>'feat_60'</li>\n",
       "\t<li>'feat_61'</li>\n",
       "\t<li>'feat_62'</li>\n",
       "\t<li>'feat_63'</li>\n",
       "\t<li>'feat_64'</li>\n",
       "\t<li>'feat_65'</li>\n",
       "\t<li>'feat_66'</li>\n",
       "\t<li>'feat_67'</li>\n",
       "\t<li>'feat_68'</li>\n",
       "\t<li>'feat_69'</li>\n",
       "\t<li>'feat_70'</li>\n",
       "\t<li>'feat_71'</li>\n",
       "\t<li>'feat_72'</li>\n",
       "\t<li>'feat_73'</li>\n",
       "\t<li>'feat_74'</li>\n",
       "\t<li>'feat_75'</li>\n",
       "\t<li>'feat_76'</li>\n",
       "\t<li>'feat_77'</li>\n",
       "\t<li>'feat_78'</li>\n",
       "\t<li>'feat_79'</li>\n",
       "\t<li>'feat_80'</li>\n",
       "\t<li>'feat_81'</li>\n",
       "\t<li>'feat_82'</li>\n",
       "\t<li>'feat_83'</li>\n",
       "\t<li>'feat_84'</li>\n",
       "\t<li>'feat_85'</li>\n",
       "\t<li>'feat_86'</li>\n",
       "\t<li>'feat_87'</li>\n",
       "\t<li>'feat_88'</li>\n",
       "\t<li>'feat_89'</li>\n",
       "\t<li>'feat_90'</li>\n",
       "\t<li>'feat_91'</li>\n",
       "\t<li>'feat_92'</li>\n",
       "\t<li>'feat_93'</li>\n",
       "\t<li>'target'</li>\n",
       "</ol>\n"
      ],
      "text/latex": [
       "\\begin{enumerate*}\n",
       "\\item 'id'\n",
       "\\item 'feat_1'\n",
       "\\item 'feat_2'\n",
       "\\item 'feat_3'\n",
       "\\item 'feat_4'\n",
       "\\item 'feat_5'\n",
       "\\item 'feat_6'\n",
       "\\item 'feat_7'\n",
       "\\item 'feat_8'\n",
       "\\item 'feat_9'\n",
       "\\item 'feat_10'\n",
       "\\item 'feat_11'\n",
       "\\item 'feat_12'\n",
       "\\item 'feat_13'\n",
       "\\item 'feat_14'\n",
       "\\item 'feat_15'\n",
       "\\item 'feat_16'\n",
       "\\item 'feat_17'\n",
       "\\item 'feat_18'\n",
       "\\item 'feat_19'\n",
       "\\item 'feat_20'\n",
       "\\item 'feat_21'\n",
       "\\item 'feat_22'\n",
       "\\item 'feat_23'\n",
       "\\item 'feat_24'\n",
       "\\item 'feat_25'\n",
       "\\item 'feat_26'\n",
       "\\item 'feat_27'\n",
       "\\item 'feat_28'\n",
       "\\item 'feat_29'\n",
       "\\item 'feat_30'\n",
       "\\item 'feat_31'\n",
       "\\item 'feat_32'\n",
       "\\item 'feat_33'\n",
       "\\item 'feat_34'\n",
       "\\item 'feat_35'\n",
       "\\item 'feat_36'\n",
       "\\item 'feat_37'\n",
       "\\item 'feat_38'\n",
       "\\item 'feat_39'\n",
       "\\item 'feat_40'\n",
       "\\item 'feat_41'\n",
       "\\item 'feat_42'\n",
       "\\item 'feat_43'\n",
       "\\item 'feat_44'\n",
       "\\item 'feat_45'\n",
       "\\item 'feat_46'\n",
       "\\item 'feat_47'\n",
       "\\item 'feat_48'\n",
       "\\item 'feat_49'\n",
       "\\item 'feat_50'\n",
       "\\item 'feat_51'\n",
       "\\item 'feat_52'\n",
       "\\item 'feat_53'\n",
       "\\item 'feat_54'\n",
       "\\item 'feat_55'\n",
       "\\item 'feat_56'\n",
       "\\item 'feat_57'\n",
       "\\item 'feat_58'\n",
       "\\item 'feat_59'\n",
       "\\item 'feat_60'\n",
       "\\item 'feat_61'\n",
       "\\item 'feat_62'\n",
       "\\item 'feat_63'\n",
       "\\item 'feat_64'\n",
       "\\item 'feat_65'\n",
       "\\item 'feat_66'\n",
       "\\item 'feat_67'\n",
       "\\item 'feat_68'\n",
       "\\item 'feat_69'\n",
       "\\item 'feat_70'\n",
       "\\item 'feat_71'\n",
       "\\item 'feat_72'\n",
       "\\item 'feat_73'\n",
       "\\item 'feat_74'\n",
       "\\item 'feat_75'\n",
       "\\item 'feat_76'\n",
       "\\item 'feat_77'\n",
       "\\item 'feat_78'\n",
       "\\item 'feat_79'\n",
       "\\item 'feat_80'\n",
       "\\item 'feat_81'\n",
       "\\item 'feat_82'\n",
       "\\item 'feat_83'\n",
       "\\item 'feat_84'\n",
       "\\item 'feat_85'\n",
       "\\item 'feat_86'\n",
       "\\item 'feat_87'\n",
       "\\item 'feat_88'\n",
       "\\item 'feat_89'\n",
       "\\item 'feat_90'\n",
       "\\item 'feat_91'\n",
       "\\item 'feat_92'\n",
       "\\item 'feat_93'\n",
       "\\item 'target'\n",
       "\\end{enumerate*}\n"
      ],
      "text/markdown": [
       "1. 'id'\n",
       "2. 'feat_1'\n",
       "3. 'feat_2'\n",
       "4. 'feat_3'\n",
       "5. 'feat_4'\n",
       "6. 'feat_5'\n",
       "7. 'feat_6'\n",
       "8. 'feat_7'\n",
       "9. 'feat_8'\n",
       "10. 'feat_9'\n",
       "11. 'feat_10'\n",
       "12. 'feat_11'\n",
       "13. 'feat_12'\n",
       "14. 'feat_13'\n",
       "15. 'feat_14'\n",
       "16. 'feat_15'\n",
       "17. 'feat_16'\n",
       "18. 'feat_17'\n",
       "19. 'feat_18'\n",
       "20. 'feat_19'\n",
       "21. 'feat_20'\n",
       "22. 'feat_21'\n",
       "23. 'feat_22'\n",
       "24. 'feat_23'\n",
       "25. 'feat_24'\n",
       "26. 'feat_25'\n",
       "27. 'feat_26'\n",
       "28. 'feat_27'\n",
       "29. 'feat_28'\n",
       "30. 'feat_29'\n",
       "31. 'feat_30'\n",
       "32. 'feat_31'\n",
       "33. 'feat_32'\n",
       "34. 'feat_33'\n",
       "35. 'feat_34'\n",
       "36. 'feat_35'\n",
       "37. 'feat_36'\n",
       "38. 'feat_37'\n",
       "39. 'feat_38'\n",
       "40. 'feat_39'\n",
       "41. 'feat_40'\n",
       "42. 'feat_41'\n",
       "43. 'feat_42'\n",
       "44. 'feat_43'\n",
       "45. 'feat_44'\n",
       "46. 'feat_45'\n",
       "47. 'feat_46'\n",
       "48. 'feat_47'\n",
       "49. 'feat_48'\n",
       "50. 'feat_49'\n",
       "51. 'feat_50'\n",
       "52. 'feat_51'\n",
       "53. 'feat_52'\n",
       "54. 'feat_53'\n",
       "55. 'feat_54'\n",
       "56. 'feat_55'\n",
       "57. 'feat_56'\n",
       "58. 'feat_57'\n",
       "59. 'feat_58'\n",
       "60. 'feat_59'\n",
       "61. 'feat_60'\n",
       "62. 'feat_61'\n",
       "63. 'feat_62'\n",
       "64. 'feat_63'\n",
       "65. 'feat_64'\n",
       "66. 'feat_65'\n",
       "67. 'feat_66'\n",
       "68. 'feat_67'\n",
       "69. 'feat_68'\n",
       "70. 'feat_69'\n",
       "71. 'feat_70'\n",
       "72. 'feat_71'\n",
       "73. 'feat_72'\n",
       "74. 'feat_73'\n",
       "75. 'feat_74'\n",
       "76. 'feat_75'\n",
       "77. 'feat_76'\n",
       "78. 'feat_77'\n",
       "79. 'feat_78'\n",
       "80. 'feat_79'\n",
       "81. 'feat_80'\n",
       "82. 'feat_81'\n",
       "83. 'feat_82'\n",
       "84. 'feat_83'\n",
       "85. 'feat_84'\n",
       "86. 'feat_85'\n",
       "87. 'feat_86'\n",
       "88. 'feat_87'\n",
       "89. 'feat_88'\n",
       "90. 'feat_89'\n",
       "91. 'feat_90'\n",
       "92. 'feat_91'\n",
       "93. 'feat_92'\n",
       "94. 'feat_93'\n",
       "95. 'target'\n",
       "\n",
       "\n"
      ],
      "text/plain": [
       " [1] \"id\"      \"feat_1\"  \"feat_2\"  \"feat_3\"  \"feat_4\"  \"feat_5\"  \"feat_6\" \n",
       " [8] \"feat_7\"  \"feat_8\"  \"feat_9\"  \"feat_10\" \"feat_11\" \"feat_12\" \"feat_13\"\n",
       "[15] \"feat_14\" \"feat_15\" \"feat_16\" \"feat_17\" \"feat_18\" \"feat_19\" \"feat_20\"\n",
       "[22] \"feat_21\" \"feat_22\" \"feat_23\" \"feat_24\" \"feat_25\" \"feat_26\" \"feat_27\"\n",
       "[29] \"feat_28\" \"feat_29\" \"feat_30\" \"feat_31\" \"feat_32\" \"feat_33\" \"feat_34\"\n",
       "[36] \"feat_35\" \"feat_36\" \"feat_37\" \"feat_38\" \"feat_39\" \"feat_40\" \"feat_41\"\n",
       "[43] \"feat_42\" \"feat_43\" \"feat_44\" \"feat_45\" \"feat_46\" \"feat_47\" \"feat_48\"\n",
       "[50] \"feat_49\" \"feat_50\" \"feat_51\" \"feat_52\" \"feat_53\" \"feat_54\" \"feat_55\"\n",
       "[57] \"feat_56\" \"feat_57\" \"feat_58\" \"feat_59\" \"feat_60\" \"feat_61\" \"feat_62\"\n",
       "[64] \"feat_63\" \"feat_64\" \"feat_65\" \"feat_66\" \"feat_67\" \"feat_68\" \"feat_69\"\n",
       "[71] \"feat_70\" \"feat_71\" \"feat_72\" \"feat_73\" \"feat_74\" \"feat_75\" \"feat_76\"\n",
       "[78] \"feat_77\" \"feat_78\" \"feat_79\" \"feat_80\" \"feat_81\" \"feat_82\" \"feat_83\"\n",
       "[85] \"feat_84\" \"feat_85\" \"feat_86\" \"feat_87\" \"feat_88\" \"feat_89\" \"feat_90\"\n",
       "[92] \"feat_91\" \"feat_92\" \"feat_93\" \"target\" "
      ]
     },
     "execution_count": 4,
     "metadata": {},
     "output_type": "execute_result"
    }
   ],
   "source": [
    "names(data.train)"
   ]
  },
  {
   "cell_type": "code",
   "execution_count": 5,
   "metadata": {
    "collapsed": false
   },
   "outputs": [
    {
     "data": {
      "text/html": [
       "<table>\n",
       "<thead><tr><th></th><th scope=col>id</th><th scope=col>target</th><th scope=col>feat_1</th><th scope=col>feat_2</th><th scope=col>feat_3</th><th scope=col>feat_4</th><th scope=col>feat_5</th><th scope=col>feat_6</th><th scope=col>feat_7</th><th scope=col>feat_8</th><th scope=col>feat_9</th><th scope=col>feat_10</th></tr></thead>\n",
       "<tbody>\n",
       "\t<tr><th scope=row>1</th><td>1</td><td>Class_1</td><td>1</td><td>0</td><td>0</td><td>0</td><td>0</td><td>0</td><td>0</td><td>0</td><td>0</td><td>0</td></tr>\n",
       "\t<tr><th scope=row>2</th><td>2</td><td>Class_1</td><td>0</td><td>0</td><td>0</td><td>0</td><td>0</td><td>0</td><td>0</td><td>1</td><td>0</td><td>0</td></tr>\n",
       "\t<tr><th scope=row>3</th><td>3</td><td>Class_1</td><td>0</td><td>0</td><td>0</td><td>0</td><td>0</td><td>0</td><td>0</td><td>1</td><td>0</td><td>0</td></tr>\n",
       "\t<tr><th scope=row>4</th><td>4</td><td>Class_1</td><td>1</td><td>0</td><td>0</td><td>1</td><td>6</td><td>1</td><td>5</td><td>0</td><td>0</td><td>1</td></tr>\n",
       "\t<tr><th scope=row>5</th><td>5</td><td>Class_1</td><td>0</td><td>0</td><td>0</td><td>0</td><td>0</td><td>0</td><td>0</td><td>0</td><td>0</td><td>0</td></tr>\n",
       "\t<tr><th scope=row>6</th><td>6</td><td>Class_1</td><td>2</td><td>1</td><td>0</td><td>0</td><td>7</td><td>0</td><td>0</td><td>0</td><td>0</td><td>0</td></tr>\n",
       "\t<tr><th scope=row>7</th><td>7</td><td>Class_1</td><td>2</td><td>0</td><td>0</td><td>0</td><td>0</td><td>0</td><td>0</td><td>2</td><td>0</td><td>1</td></tr>\n",
       "\t<tr><th scope=row>8</th><td>8</td><td>Class_1</td><td>0</td><td>0</td><td>0</td><td>0</td><td>0</td><td>0</td><td>0</td><td>0</td><td>0</td><td>0</td></tr>\n",
       "\t<tr><th scope=row>9</th><td>9</td><td>Class_1</td><td>0</td><td>0</td><td>0</td><td>0</td><td>0</td><td>0</td><td>0</td><td>4</td><td>0</td><td>0</td></tr>\n",
       "\t<tr><th scope=row>10</th><td>10</td><td>Class_1</td><td>0</td><td>0</td><td>0</td><td>0</td><td>0</td><td>0</td><td>1</td><td>0</td><td>0</td><td>0</td></tr>\n",
       "</tbody>\n",
       "</table>\n"
      ],
      "text/latex": [
       "\\begin{tabular}{r|llllllllllll}\n",
       "  & id & target & feat_1 & feat_2 & feat_3 & feat_4 & feat_5 & feat_6 & feat_7 & feat_8 & feat_9 & feat_10\\\\\n",
       "\\hline\n",
       "\t1 & 1 & Class_1 & 1 & 0 & 0 & 0 & 0 & 0 & 0 & 0 & 0 & 0\\\\\n",
       "\t2 & 2 & Class_1 & 0 & 0 & 0 & 0 & 0 & 0 & 0 & 1 & 0 & 0\\\\\n",
       "\t3 & 3 & Class_1 & 0 & 0 & 0 & 0 & 0 & 0 & 0 & 1 & 0 & 0\\\\\n",
       "\t4 & 4 & Class_1 & 1 & 0 & 0 & 1 & 6 & 1 & 5 & 0 & 0 & 1\\\\\n",
       "\t5 & 5 & Class_1 & 0 & 0 & 0 & 0 & 0 & 0 & 0 & 0 & 0 & 0\\\\\n",
       "\t6 & 6 & Class_1 & 2 & 1 & 0 & 0 & 7 & 0 & 0 & 0 & 0 & 0\\\\\n",
       "\t7 & 7 & Class_1 & 2 & 0 & 0 & 0 & 0 & 0 & 0 & 2 & 0 & 1\\\\\n",
       "\t8 & 8 & Class_1 & 0 & 0 & 0 & 0 & 0 & 0 & 0 & 0 & 0 & 0\\\\\n",
       "\t9 & 9 & Class_1 & 0 & 0 & 0 & 0 & 0 & 0 & 0 & 4 & 0 & 0\\\\\n",
       "\t10 & 10 & Class_1 & 0 & 0 & 0 & 0 & 0 & 0 & 1 & 0 & 0 & 0\\\\\n",
       "\\end{tabular}\n"
      ],
      "text/plain": [
       "   id  target feat_1 feat_2 feat_3 feat_4 feat_5 feat_6 feat_7 feat_8 feat_9\n",
       "1   1 Class_1      1      0      0      0      0      0      0      0      0\n",
       "2   2 Class_1      0      0      0      0      0      0      0      1      0\n",
       "3   3 Class_1      0      0      0      0      0      0      0      1      0\n",
       "4   4 Class_1      1      0      0      1      6      1      5      0      0\n",
       "5   5 Class_1      0      0      0      0      0      0      0      0      0\n",
       "6   6 Class_1      2      1      0      0      7      0      0      0      0\n",
       "7   7 Class_1      2      0      0      0      0      0      0      2      0\n",
       "8   8 Class_1      0      0      0      0      0      0      0      0      0\n",
       "9   9 Class_1      0      0      0      0      0      0      0      4      0\n",
       "10 10 Class_1      0      0      0      0      0      0      1      0      0\n",
       "   feat_10\n",
       "1        0\n",
       "2        0\n",
       "3        0\n",
       "4        1\n",
       "5        0\n",
       "6        0\n",
       "7        1\n",
       "8        0\n",
       "9        0\n",
       "10       0"
      ]
     },
     "execution_count": 5,
     "metadata": {},
     "output_type": "execute_result"
    }
   ],
   "source": [
    "get_features <- function(data,i_to_n=1:10) {\n",
    "    features <- paste0('feat_',i_to_n)\n",
    "    return(data[,c('id','target',features)])\n",
    "}\n",
    "get_features(data.train)[0:10,]"
   ]
  },
  {
   "cell_type": "code",
   "execution_count": 6,
   "metadata": {
    "collapsed": false
   },
   "outputs": [
    {
     "data": {
      "application/pdf": "[encoded data removed]",
      "image/jpeg": "[encoded data removed]",
      "image/png": "[encoded data removed]",
      "image/svg+xml": [
       "<?xml version=\"1.0\" encoding=\"UTF-8\"?>\n",
       "<svg xmlns=\"http://www.w3.org/2000/svg\" xmlns:xlink=\"http://www.w3.org/1999/xlink\" width=\"504pt\" height=\"504pt\" viewBox=\"0 0 504 504\" version=\"1.1\">\n",
       "<defs>\n",
       "<g>\n",
       "<symbol overflow=\"visible\" id=\"glyph0-0\">\n",
       "<path style=\"stroke:none;\" d=\"M 0.390625 0 L 0.390625 -8.609375 L 7.21875 -8.609375 L 7.21875 0 Z M 6.140625 -1.078125 L 6.140625 -7.53125 L 1.46875 -7.53125 L 1.46875 -1.078125 Z \"/>\n",
       "</symbol>\n",
       "<symbol overflow=\"visible\" id=\"glyph0-1\">\n",
       "<path style=\"stroke:none;\" d=\"M 4.546875 -8.84375 C 5.628906 -8.84375 6.472656 -8.554688 7.078125 -7.984375 C 7.679688 -7.410156 8.015625 -6.757812 8.078125 -6.03125 L 6.9375 -6.03125 C 6.8125 -6.582031 6.554688 -7.019531 6.171875 -7.34375 C 5.785156 -7.664062 5.242188 -7.828125 4.546875 -7.828125 C 3.703125 -7.828125 3.019531 -7.53125 2.5 -6.9375 C 1.976562 -6.34375 1.71875 -5.429688 1.71875 -4.203125 C 1.71875 -3.191406 1.953125 -2.367188 2.421875 -1.734375 C 2.890625 -1.109375 3.59375 -0.796875 4.53125 -0.796875 C 5.382812 -0.796875 6.039062 -1.128906 6.5 -1.796875 C 6.726562 -2.140625 6.90625 -2.597656 7.03125 -3.171875 L 8.15625 -3.171875 C 8.0625 -2.265625 7.726562 -1.503906 7.15625 -0.890625 C 6.46875 -0.148438 5.546875 0.21875 4.390625 0.21875 C 3.390625 0.21875 2.550781 -0.0820312 1.875 -0.6875 C 0.976562 -1.488281 0.53125 -2.722656 0.53125 -4.390625 C 0.53125 -5.660156 0.863281 -6.703125 1.53125 -7.515625 C 2.257812 -8.398438 3.265625 -8.84375 4.546875 -8.84375 Z M 4.3125 -8.84375 Z \"/>\n",
       "</symbol>\n",
       "<symbol overflow=\"visible\" id=\"glyph0-2\">\n",
       "<path style=\"stroke:none;\" d=\"M 0.796875 -8.609375 L 1.859375 -8.609375 L 1.859375 0 L 0.796875 0 Z \"/>\n",
       "</symbol>\n",
       "<symbol overflow=\"visible\" id=\"glyph0-3\">\n",
       "<path style=\"stroke:none;\" d=\"M 1.578125 -1.671875 C 1.578125 -1.367188 1.6875 -1.128906 1.90625 -0.953125 C 2.132812 -0.773438 2.398438 -0.6875 2.703125 -0.6875 C 3.078125 -0.6875 3.4375 -0.769531 3.78125 -0.9375 C 4.375 -1.226562 4.671875 -1.695312 4.671875 -2.34375 L 4.671875 -3.1875 C 4.535156 -3.113281 4.363281 -3.046875 4.15625 -2.984375 C 3.957031 -2.929688 3.757812 -2.894531 3.5625 -2.875 L 2.9375 -2.796875 C 2.550781 -2.742188 2.257812 -2.660156 2.0625 -2.546875 C 1.738281 -2.367188 1.578125 -2.078125 1.578125 -1.671875 Z M 4.140625 -3.796875 C 4.378906 -3.828125 4.539062 -3.929688 4.625 -4.109375 C 4.664062 -4.203125 4.6875 -4.335938 4.6875 -4.515625 C 4.6875 -4.867188 4.554688 -5.125 4.296875 -5.28125 C 4.046875 -5.445312 3.6875 -5.53125 3.21875 -5.53125 C 2.664062 -5.53125 2.273438 -5.382812 2.046875 -5.09375 C 1.910156 -4.925781 1.820312 -4.679688 1.78125 -4.359375 L 0.796875 -4.359375 C 0.816406 -5.128906 1.066406 -5.664062 1.546875 -5.96875 C 2.035156 -6.269531 2.597656 -6.421875 3.234375 -6.421875 C 3.972656 -6.421875 4.570312 -6.28125 5.03125 -6 C 5.488281 -5.71875 5.71875 -5.28125 5.71875 -4.6875 L 5.71875 -1.078125 C 5.71875 -0.972656 5.738281 -0.882812 5.78125 -0.8125 C 5.832031 -0.75 5.929688 -0.71875 6.078125 -0.71875 C 6.117188 -0.71875 6.164062 -0.71875 6.21875 -0.71875 C 6.28125 -0.726562 6.347656 -0.738281 6.421875 -0.75 L 6.421875 0.03125 C 6.253906 0.0703125 6.125 0.0976562 6.03125 0.109375 C 5.945312 0.128906 5.832031 0.140625 5.6875 0.140625 C 5.320312 0.140625 5.0625 0.0078125 4.90625 -0.25 C 4.8125 -0.382812 4.75 -0.578125 4.71875 -0.828125 C 4.5 -0.546875 4.1875 -0.300781 3.78125 -0.09375 C 3.382812 0.113281 2.945312 0.21875 2.46875 0.21875 C 1.882812 0.21875 1.40625 0.0390625 1.03125 -0.3125 C 0.664062 -0.664062 0.484375 -1.109375 0.484375 -1.640625 C 0.484375 -2.222656 0.664062 -2.675781 1.03125 -3 C 1.394531 -3.320312 1.867188 -3.519531 2.453125 -3.59375 Z M 3.265625 -6.421875 Z \"/>\n",
       "</symbol>\n",
       "<symbol overflow=\"visible\" id=\"glyph0-4\">\n",
       "<path style=\"stroke:none;\" d=\"M 1.40625 -1.96875 C 1.4375 -1.613281 1.523438 -1.34375 1.671875 -1.15625 C 1.929688 -0.820312 2.390625 -0.65625 3.046875 -0.65625 C 3.441406 -0.65625 3.785156 -0.738281 4.078125 -0.90625 C 4.378906 -1.070312 4.53125 -1.332031 4.53125 -1.6875 C 4.53125 -1.957031 4.410156 -2.164062 4.171875 -2.3125 C 4.015625 -2.394531 3.710938 -2.492188 3.265625 -2.609375 L 2.421875 -2.8125 C 1.890625 -2.945312 1.5 -3.097656 1.25 -3.265625 C 0.789062 -3.546875 0.5625 -3.941406 0.5625 -4.453125 C 0.5625 -5.046875 0.773438 -5.523438 1.203125 -5.890625 C 1.628906 -6.253906 2.207031 -6.4375 2.9375 -6.4375 C 3.875 -6.4375 4.550781 -6.160156 4.96875 -5.609375 C 5.238281 -5.253906 5.367188 -4.875 5.359375 -4.46875 L 4.359375 -4.46875 C 4.335938 -4.707031 4.253906 -4.925781 4.109375 -5.125 C 3.867188 -5.394531 3.445312 -5.53125 2.84375 -5.53125 C 2.445312 -5.53125 2.144531 -5.453125 1.9375 -5.296875 C 1.738281 -5.148438 1.640625 -4.953125 1.640625 -4.703125 C 1.640625 -4.429688 1.773438 -4.210938 2.046875 -4.046875 C 2.203125 -3.953125 2.429688 -3.867188 2.734375 -3.796875 L 3.421875 -3.625 C 4.179688 -3.4375 4.691406 -3.257812 4.953125 -3.09375 C 5.359375 -2.820312 5.5625 -2.394531 5.5625 -1.8125 C 5.5625 -1.257812 5.347656 -0.78125 4.921875 -0.375 C 4.503906 0.03125 3.863281 0.234375 3 0.234375 C 2.0625 0.234375 1.394531 0.0234375 1 -0.390625 C 0.613281 -0.816406 0.410156 -1.34375 0.390625 -1.96875 Z M 2.953125 -6.421875 Z \"/>\n",
       "</symbol>\n",
       "<symbol overflow=\"visible\" id=\"glyph0-5\">\n",
       "<path style=\"stroke:none;\" d=\"M 0 1.5 L 0 0.90625 L 6.671875 0.90625 L 6.671875 1.5 Z \"/>\n",
       "</symbol>\n",
       "<symbol overflow=\"visible\" id=\"glyph0-6\">\n",
       "<path style=\"stroke:none;\" d=\"M 1.15625 -5.9375 L 1.15625 -6.75 C 1.914062 -6.820312 2.441406 -6.945312 2.734375 -7.125 C 3.035156 -7.300781 3.265625 -7.710938 3.421875 -8.359375 L 4.25 -8.359375 L 4.25 0 L 3.125 0 L 3.125 -5.9375 Z \"/>\n",
       "</symbol>\n",
       "<symbol overflow=\"visible\" id=\"glyph0-7\">\n",
       "<path style=\"stroke:none;\" d=\"M 3.125 0.234375 C 2.125 0.234375 1.398438 -0.0351562 0.953125 -0.578125 C 0.503906 -1.128906 0.28125 -1.796875 0.28125 -2.578125 L 1.390625 -2.578125 C 1.429688 -2.035156 1.53125 -1.640625 1.6875 -1.390625 C 1.96875 -0.953125 2.460938 -0.734375 3.171875 -0.734375 C 3.734375 -0.734375 4.179688 -0.878906 4.515625 -1.171875 C 4.847656 -1.472656 5.015625 -1.859375 5.015625 -2.328125 C 5.015625 -2.898438 4.835938 -3.300781 4.484375 -3.53125 C 4.128906 -3.769531 3.640625 -3.890625 3.015625 -3.890625 C 2.941406 -3.890625 2.867188 -3.882812 2.796875 -3.875 C 2.722656 -3.875 2.648438 -3.875 2.578125 -3.875 L 2.578125 -4.8125 C 2.691406 -4.789062 2.785156 -4.78125 2.859375 -4.78125 C 2.929688 -4.78125 3.007812 -4.78125 3.09375 -4.78125 C 3.488281 -4.78125 3.8125 -4.84375 4.0625 -4.96875 C 4.507812 -5.1875 4.734375 -5.578125 4.734375 -6.140625 C 4.734375 -6.554688 4.582031 -6.875 4.28125 -7.09375 C 3.988281 -7.320312 3.644531 -7.4375 3.25 -7.4375 C 2.550781 -7.4375 2.066406 -7.203125 1.796875 -6.734375 C 1.648438 -6.484375 1.566406 -6.117188 1.546875 -5.640625 L 0.5 -5.640625 C 0.5 -6.265625 0.625 -6.796875 0.875 -7.234375 C 1.300781 -8.015625 2.054688 -8.40625 3.140625 -8.40625 C 3.992188 -8.40625 4.65625 -8.210938 5.125 -7.828125 C 5.59375 -7.453125 5.828125 -6.898438 5.828125 -6.171875 C 5.828125 -5.660156 5.691406 -5.242188 5.421875 -4.921875 C 5.242188 -4.722656 5.019531 -4.566406 4.75 -4.453125 C 5.1875 -4.328125 5.53125 -4.09375 5.78125 -3.75 C 6.03125 -3.40625 6.15625 -2.984375 6.15625 -2.484375 C 6.15625 -1.679688 5.890625 -1.023438 5.359375 -0.515625 C 4.835938 -0.015625 4.09375 0.234375 3.125 0.234375 Z \"/>\n",
       "</symbol>\n",
       "<symbol overflow=\"visible\" id=\"glyph0-8\">\n",
       "<path style=\"stroke:none;\" d=\"M 1.484375 -2.140625 C 1.554688 -1.535156 1.835938 -1.117188 2.328125 -0.890625 C 2.578125 -0.773438 2.863281 -0.71875 3.1875 -0.71875 C 3.8125 -0.71875 4.273438 -0.914062 4.578125 -1.3125 C 4.878906 -1.707031 5.03125 -2.148438 5.03125 -2.640625 C 5.03125 -3.222656 4.847656 -3.675781 4.484375 -4 C 4.128906 -4.320312 3.703125 -4.484375 3.203125 -4.484375 C 2.835938 -4.484375 2.523438 -4.410156 2.265625 -4.265625 C 2.003906 -4.128906 1.785156 -3.9375 1.609375 -3.6875 L 0.6875 -3.734375 L 1.328125 -8.25 L 5.6875 -8.25 L 5.6875 -7.234375 L 2.125 -7.234375 L 1.765625 -4.90625 C 1.960938 -5.050781 2.148438 -5.160156 2.328125 -5.234375 C 2.640625 -5.359375 3 -5.421875 3.40625 -5.421875 C 4.175781 -5.421875 4.828125 -5.171875 5.359375 -4.671875 C 5.898438 -4.179688 6.171875 -3.554688 6.171875 -2.796875 C 6.171875 -2.003906 5.921875 -1.300781 5.421875 -0.6875 C 4.929688 -0.0820312 4.148438 0.21875 3.078125 0.21875 C 2.398438 0.21875 1.796875 0.0234375 1.265625 -0.359375 C 0.742188 -0.742188 0.453125 -1.335938 0.390625 -2.140625 Z \"/>\n",
       "</symbol>\n",
       "<symbol overflow=\"visible\" id=\"glyph0-9\">\n",
       "<path style=\"stroke:none;\" d=\"M 6.28125 -8.25 L 6.28125 -7.328125 C 6.007812 -7.066406 5.648438 -6.613281 5.203125 -5.96875 C 4.753906 -5.320312 4.359375 -4.625 4.015625 -3.875 C 3.671875 -3.132812 3.410156 -2.46875 3.234375 -1.875 C 3.128906 -1.488281 2.984375 -0.863281 2.796875 0 L 1.640625 0 C 1.898438 -1.601562 2.484375 -3.195312 3.390625 -4.78125 C 3.929688 -5.707031 4.492188 -6.507812 5.078125 -7.1875 L 0.4375 -7.1875 L 0.4375 -8.25 Z \"/>\n",
       "</symbol>\n",
       "<symbol overflow=\"visible\" id=\"glyph0-10\">\n",
       "<path style=\"stroke:none;\" d=\"M 1.59375 -2.03125 C 1.625 -1.445312 1.847656 -1.046875 2.265625 -0.828125 C 2.484375 -0.703125 2.726562 -0.640625 3 -0.640625 C 3.5 -0.640625 3.925781 -0.847656 4.28125 -1.265625 C 4.632812 -1.691406 4.890625 -2.546875 5.046875 -3.828125 C 4.804688 -3.460938 4.515625 -3.203125 4.171875 -3.046875 C 3.828125 -2.898438 3.453125 -2.828125 3.046875 -2.828125 C 2.242188 -2.828125 1.601562 -3.078125 1.125 -3.578125 C 0.65625 -4.085938 0.421875 -4.738281 0.421875 -5.53125 C 0.421875 -6.289062 0.65625 -6.957031 1.125 -7.53125 C 1.59375 -8.113281 2.28125 -8.40625 3.1875 -8.40625 C 4.40625 -8.40625 5.25 -7.851562 5.71875 -6.75 C 5.96875 -6.144531 6.09375 -5.390625 6.09375 -4.484375 C 6.09375 -3.453125 5.941406 -2.539062 5.640625 -1.75 C 5.128906 -0.425781 4.257812 0.234375 3.03125 0.234375 C 2.21875 0.234375 1.597656 0.0195312 1.171875 -0.40625 C 0.742188 -0.84375 0.53125 -1.382812 0.53125 -2.03125 Z M 3.1875 -3.75 C 3.613281 -3.75 4 -3.882812 4.34375 -4.15625 C 4.6875 -4.4375 4.859375 -4.921875 4.859375 -5.609375 C 4.859375 -6.222656 4.703125 -6.679688 4.390625 -6.984375 C 4.078125 -7.285156 3.679688 -7.4375 3.203125 -7.4375 C 2.691406 -7.4375 2.285156 -7.265625 1.984375 -6.921875 C 1.679688 -6.578125 1.53125 -6.113281 1.53125 -5.53125 C 1.53125 -4.988281 1.660156 -4.554688 1.921875 -4.234375 C 2.191406 -3.910156 2.613281 -3.75 3.1875 -3.75 Z \"/>\n",
       "</symbol>\n",
       "<symbol overflow=\"visible\" id=\"glyph1-0\">\n",
       "<path style=\"stroke:none;\" d=\"M 0 -0.390625 L -8.609375 -0.390625 L -8.609375 -7.21875 L 0 -7.21875 Z M -1.078125 -6.140625 L -7.53125 -6.140625 L -7.53125 -1.46875 L -1.078125 -1.46875 Z \"/>\n",
       "</symbol>\n",
       "<symbol overflow=\"visible\" id=\"glyph1-1\">\n",
       "<path style=\"stroke:none;\" d=\"M -8.390625 -3.25 C -8.390625 -4.332031 -7.941406 -5.117188 -7.046875 -5.609375 C -6.359375 -5.984375 -5.410156 -6.171875 -4.203125 -6.171875 C -3.066406 -6.171875 -2.125 -6 -1.375 -5.65625 C -0.300781 -5.164062 0.234375 -4.359375 0.234375 -3.234375 C 0.234375 -2.234375 -0.203125 -1.484375 -1.078125 -0.984375 C -1.816406 -0.578125 -2.800781 -0.375 -4.03125 -0.375 C -4.976562 -0.375 -5.796875 -0.5 -6.484375 -0.75 C -7.753906 -1.207031 -8.390625 -2.039062 -8.390625 -3.25 Z M -0.734375 -3.234375 C -0.734375 -3.785156 -0.972656 -4.222656 -1.453125 -4.546875 C -1.941406 -4.867188 -2.847656 -5.03125 -4.171875 -5.03125 C -5.117188 -5.03125 -5.898438 -4.910156 -6.515625 -4.671875 C -7.128906 -4.441406 -7.4375 -3.988281 -7.4375 -3.3125 C -7.4375 -2.6875 -7.144531 -2.226562 -6.5625 -1.9375 C -5.976562 -1.65625 -5.117188 -1.515625 -3.984375 -1.515625 C -3.128906 -1.515625 -2.441406 -1.609375 -1.921875 -1.796875 C -1.128906 -2.078125 -0.734375 -2.554688 -0.734375 -3.234375 Z \"/>\n",
       "</symbol>\n",
       "<symbol overflow=\"visible\" id=\"glyph1-2\">\n",
       "<path style=\"stroke:none;\" d=\"M -2.140625 -1.484375 C -1.535156 -1.554688 -1.117188 -1.835938 -0.890625 -2.328125 C -0.773438 -2.578125 -0.71875 -2.863281 -0.71875 -3.1875 C -0.71875 -3.8125 -0.914062 -4.273438 -1.3125 -4.578125 C -1.707031 -4.878906 -2.148438 -5.03125 -2.640625 -5.03125 C -3.222656 -5.03125 -3.675781 -4.847656 -4 -4.484375 C -4.320312 -4.128906 -4.484375 -3.703125 -4.484375 -3.203125 C -4.484375 -2.835938 -4.410156 -2.523438 -4.265625 -2.265625 C -4.128906 -2.003906 -3.9375 -1.785156 -3.6875 -1.609375 L -3.734375 -0.6875 L -8.25 -1.328125 L -8.25 -5.6875 L -7.234375 -5.6875 L -7.234375 -2.125 L -4.90625 -1.765625 C -5.050781 -1.960938 -5.160156 -2.148438 -5.234375 -2.328125 C -5.359375 -2.640625 -5.421875 -3 -5.421875 -3.40625 C -5.421875 -4.175781 -5.171875 -4.828125 -4.671875 -5.359375 C -4.179688 -5.898438 -3.554688 -6.171875 -2.796875 -6.171875 C -2.003906 -6.171875 -1.300781 -5.921875 -0.6875 -5.421875 C -0.0820312 -4.929688 0.21875 -4.148438 0.21875 -3.078125 C 0.21875 -2.398438 0.0234375 -1.796875 -0.359375 -1.265625 C -0.742188 -0.742188 -1.335938 -0.453125 -2.140625 -0.390625 Z \"/>\n",
       "</symbol>\n",
       "<symbol overflow=\"visible\" id=\"glyph1-3\">\n",
       "<path style=\"stroke:none;\" d=\"M -5.9375 -1.15625 L -6.75 -1.15625 C -6.820312 -1.914062 -6.945312 -2.441406 -7.125 -2.734375 C -7.300781 -3.035156 -7.710938 -3.265625 -8.359375 -3.421875 L -8.359375 -4.25 L 0 -4.25 L 0 -3.125 L -5.9375 -3.125 Z \"/>\n",
       "</symbol>\n",
       "</g>\n",
       "</defs>\n",
       "<g id=\"surface1\">\n",
       "<rect x=\"0\" y=\"0\" width=\"504\" height=\"504\" style=\"fill:rgb(100%,100%,100%);fill-opacity:1;stroke:none;\"/>\n",
       "<path style=\"fill-rule:nonzero;fill:rgb(74.509804%,74.509804%,74.509804%);fill-opacity:1;stroke-width:0.75;stroke-linecap:round;stroke-linejoin:round;stroke:rgb(0%,0%,0%);stroke-opacity:1;stroke-miterlimit:10;\" d=\"M 74.398438 426.882812 L 110.625 426.882812 L 110.625 382.871094 L 74.398438 382.871094 Z \"/>\n",
       "<path style=\"fill-rule:nonzero;fill:rgb(74.509804%,74.509804%,74.509804%);fill-opacity:1;stroke-width:0.75;stroke-linecap:round;stroke-linejoin:round;stroke:rgb(0%,0%,0%);stroke-opacity:1;stroke-miterlimit:10;\" d=\"M 117.871094 426.882812 L 154.097656 426.882812 L 154.097656 59.042969 L 117.871094 59.042969 Z \"/>\n",
       "<path style=\"fill-rule:nonzero;fill:rgb(74.509804%,74.509804%,74.509804%);fill-opacity:1;stroke-width:0.75;stroke-linecap:round;stroke-linejoin:round;stroke:rgb(0%,0%,0%);stroke-opacity:1;stroke-miterlimit:10;\" d=\"M 161.34375 426.882812 L 197.570312 426.882812 L 197.570312 244.261719 L 161.34375 244.261719 Z \"/>\n",
       "<path style=\"fill-rule:nonzero;fill:rgb(74.509804%,74.509804%,74.509804%);fill-opacity:1;stroke-width:0.75;stroke-linecap:round;stroke-linejoin:round;stroke:rgb(0%,0%,0%);stroke-opacity:1;stroke-miterlimit:10;\" d=\"M 204.816406 426.882812 L 241.042969 426.882812 L 241.042969 365.484375 L 204.816406 365.484375 Z \"/>\n",
       "<path style=\"fill-rule:nonzero;fill:rgb(74.509804%,74.509804%,74.509804%);fill-opacity:1;stroke-width:0.75;stroke-linecap:round;stroke-linejoin:round;stroke:rgb(0%,0%,0%);stroke-opacity:1;stroke-miterlimit:10;\" d=\"M 248.285156 426.882812 L 284.511719 426.882812 L 284.511719 364.390625 L 248.285156 364.390625 Z \"/>\n",
       "<path style=\"fill-rule:nonzero;fill:rgb(74.509804%,74.509804%,74.509804%);fill-opacity:1;stroke-width:0.75;stroke-linecap:round;stroke-linejoin:round;stroke:rgb(0%,0%,0%);stroke-opacity:1;stroke-miterlimit:10;\" d=\"M 291.757812 426.882812 L 327.984375 426.882812 L 327.984375 104.375 L 291.757812 104.375 Z \"/>\n",
       "<path style=\"fill-rule:nonzero;fill:rgb(74.509804%,74.509804%,74.509804%);fill-opacity:1;stroke-width:0.75;stroke-linecap:round;stroke-linejoin:round;stroke:rgb(0%,0%,0%);stroke-opacity:1;stroke-miterlimit:10;\" d=\"M 335.230469 426.882812 L 371.457031 426.882812 L 371.457031 362.109375 L 335.230469 362.109375 Z \"/>\n",
       "<path style=\"fill-rule:nonzero;fill:rgb(74.509804%,74.509804%,74.509804%);fill-opacity:1;stroke-width:0.75;stroke-linecap:round;stroke-linejoin:round;stroke:rgb(0%,0%,0%);stroke-opacity:1;stroke-miterlimit:10;\" d=\"M 378.703125 426.882812 L 414.929688 426.882812 L 414.929688 233.765625 L 378.703125 233.765625 Z \"/>\n",
       "<path style=\"fill-rule:nonzero;fill:rgb(74.509804%,74.509804%,74.509804%);fill-opacity:1;stroke-width:0.75;stroke-linecap:round;stroke-linejoin:round;stroke:rgb(0%,0%,0%);stroke-opacity:1;stroke-miterlimit:10;\" d=\"M 422.171875 426.882812 L 458.398438 426.882812 L 458.398438 313.828125 L 422.171875 313.828125 Z \"/>\n",
       "<g style=\"fill:rgb(0%,0%,0%);fill-opacity:1;\">\n",
       "  <use xlink:href=\"#glyph0-1\" x=\"70.835938\" y=\"456.480469\"/>\n",
       "  <use xlink:href=\"#glyph0-2\" x=\"79.501953\" y=\"456.480469\"/>\n",
       "  <use xlink:href=\"#glyph0-3\" x=\"82.167969\" y=\"456.480469\"/>\n",
       "  <use xlink:href=\"#glyph0-4\" x=\"88.841797\" y=\"456.480469\"/>\n",
       "  <use xlink:href=\"#glyph0-4\" x=\"94.841797\" y=\"456.480469\"/>\n",
       "  <use xlink:href=\"#glyph0-5\" x=\"100.841797\" y=\"456.480469\"/>\n",
       "  <use xlink:href=\"#glyph0-6\" x=\"107.515625\" y=\"456.480469\"/>\n",
       "</g>\n",
       "<g style=\"fill:rgb(0%,0%,0%);fill-opacity:1;\">\n",
       "  <use xlink:href=\"#glyph0-1\" x=\"157.78125\" y=\"456.480469\"/>\n",
       "  <use xlink:href=\"#glyph0-2\" x=\"166.447266\" y=\"456.480469\"/>\n",
       "  <use xlink:href=\"#glyph0-3\" x=\"169.113281\" y=\"456.480469\"/>\n",
       "  <use xlink:href=\"#glyph0-4\" x=\"175.787109\" y=\"456.480469\"/>\n",
       "  <use xlink:href=\"#glyph0-4\" x=\"181.787109\" y=\"456.480469\"/>\n",
       "  <use xlink:href=\"#glyph0-5\" x=\"187.787109\" y=\"456.480469\"/>\n",
       "  <use xlink:href=\"#glyph0-7\" x=\"194.460938\" y=\"456.480469\"/>\n",
       "</g>\n",
       "<g style=\"fill:rgb(0%,0%,0%);fill-opacity:1;\">\n",
       "  <use xlink:href=\"#glyph0-1\" x=\"244.722656\" y=\"456.480469\"/>\n",
       "  <use xlink:href=\"#glyph0-2\" x=\"253.388672\" y=\"456.480469\"/>\n",
       "  <use xlink:href=\"#glyph0-3\" x=\"256.054688\" y=\"456.480469\"/>\n",
       "  <use xlink:href=\"#glyph0-4\" x=\"262.728516\" y=\"456.480469\"/>\n",
       "  <use xlink:href=\"#glyph0-4\" x=\"268.728516\" y=\"456.480469\"/>\n",
       "  <use xlink:href=\"#glyph0-5\" x=\"274.728516\" y=\"456.480469\"/>\n",
       "  <use xlink:href=\"#glyph0-8\" x=\"281.402344\" y=\"456.480469\"/>\n",
       "</g>\n",
       "<g style=\"fill:rgb(0%,0%,0%);fill-opacity:1;\">\n",
       "  <use xlink:href=\"#glyph0-1\" x=\"331.667969\" y=\"456.480469\"/>\n",
       "  <use xlink:href=\"#glyph0-2\" x=\"340.333984\" y=\"456.480469\"/>\n",
       "  <use xlink:href=\"#glyph0-3\" x=\"343\" y=\"456.480469\"/>\n",
       "  <use xlink:href=\"#glyph0-4\" x=\"349.673828\" y=\"456.480469\"/>\n",
       "  <use xlink:href=\"#glyph0-4\" x=\"355.673828\" y=\"456.480469\"/>\n",
       "  <use xlink:href=\"#glyph0-5\" x=\"361.673828\" y=\"456.480469\"/>\n",
       "  <use xlink:href=\"#glyph0-9\" x=\"368.347656\" y=\"456.480469\"/>\n",
       "</g>\n",
       "<g style=\"fill:rgb(0%,0%,0%);fill-opacity:1;\">\n",
       "  <use xlink:href=\"#glyph0-1\" x=\"418.609375\" y=\"456.480469\"/>\n",
       "  <use xlink:href=\"#glyph0-2\" x=\"427.275391\" y=\"456.480469\"/>\n",
       "  <use xlink:href=\"#glyph0-3\" x=\"429.941406\" y=\"456.480469\"/>\n",
       "  <use xlink:href=\"#glyph0-4\" x=\"436.615234\" y=\"456.480469\"/>\n",
       "  <use xlink:href=\"#glyph0-4\" x=\"442.615234\" y=\"456.480469\"/>\n",
       "  <use xlink:href=\"#glyph0-5\" x=\"448.615234\" y=\"456.480469\"/>\n",
       "  <use xlink:href=\"#glyph0-10\" x=\"455.289062\" y=\"456.480469\"/>\n",
       "</g>\n",
       "<path style=\"fill:none;stroke-width:0.75;stroke-linecap:round;stroke-linejoin:round;stroke:rgb(0%,0%,0%);stroke-opacity:1;stroke-miterlimit:10;\" d=\"M 59.039062 426.882812 L 59.039062 84.640625 \"/>\n",
       "<path style=\"fill:none;stroke-width:0.75;stroke-linecap:round;stroke-linejoin:round;stroke:rgb(0%,0%,0%);stroke-opacity:1;stroke-miterlimit:10;\" d=\"M 59.039062 426.882812 L 51.839844 426.882812 \"/>\n",
       "<path style=\"fill:none;stroke-width:0.75;stroke-linecap:round;stroke-linejoin:round;stroke:rgb(0%,0%,0%);stroke-opacity:1;stroke-miterlimit:10;\" d=\"M 59.039062 312.800781 L 51.839844 312.800781 \"/>\n",
       "<path style=\"fill:none;stroke-width:0.75;stroke-linecap:round;stroke-linejoin:round;stroke:rgb(0%,0%,0%);stroke-opacity:1;stroke-miterlimit:10;\" d=\"M 59.039062 198.71875 L 51.839844 198.71875 \"/>\n",
       "<path style=\"fill:none;stroke-width:0.75;stroke-linecap:round;stroke-linejoin:round;stroke:rgb(0%,0%,0%);stroke-opacity:1;stroke-miterlimit:10;\" d=\"M 59.039062 84.640625 L 51.839844 84.640625 \"/>\n",
       "<g style=\"fill:rgb(0%,0%,0%);fill-opacity:1;\">\n",
       "  <use xlink:href=\"#glyph1-1\" x=\"41.761719\" y=\"430.21875\"/>\n",
       "</g>\n",
       "<g style=\"fill:rgb(0%,0%,0%);fill-opacity:1;\">\n",
       "  <use xlink:href=\"#glyph1-2\" x=\"41.761719\" y=\"326.148438\"/>\n",
       "  <use xlink:href=\"#glyph1-1\" x=\"41.761719\" y=\"319.474609\"/>\n",
       "  <use xlink:href=\"#glyph1-1\" x=\"41.761719\" y=\"312.800781\"/>\n",
       "  <use xlink:href=\"#glyph1-1\" x=\"41.761719\" y=\"306.126953\"/>\n",
       "</g>\n",
       "<g style=\"fill:rgb(0%,0%,0%);fill-opacity:1;\">\n",
       "  <use xlink:href=\"#glyph1-3\" x=\"41.761719\" y=\"215.402344\"/>\n",
       "  <use xlink:href=\"#glyph1-1\" x=\"41.761719\" y=\"208.728516\"/>\n",
       "  <use xlink:href=\"#glyph1-1\" x=\"41.761719\" y=\"202.054688\"/>\n",
       "  <use xlink:href=\"#glyph1-1\" x=\"41.761719\" y=\"195.380859\"/>\n",
       "  <use xlink:href=\"#glyph1-1\" x=\"41.761719\" y=\"188.707031\"/>\n",
       "</g>\n",
       "<g style=\"fill:rgb(0%,0%,0%);fill-opacity:1;\">\n",
       "  <use xlink:href=\"#glyph1-3\" x=\"41.761719\" y=\"101.324219\"/>\n",
       "  <use xlink:href=\"#glyph1-2\" x=\"41.761719\" y=\"94.650391\"/>\n",
       "  <use xlink:href=\"#glyph1-1\" x=\"41.761719\" y=\"87.976562\"/>\n",
       "  <use xlink:href=\"#glyph1-1\" x=\"41.761719\" y=\"81.302734\"/>\n",
       "  <use xlink:href=\"#glyph1-1\" x=\"41.761719\" y=\"74.628906\"/>\n",
       "</g>\n",
       "</g>\n",
       "</svg>\n"
      ],
      "text/plain": [
       "plot without title"
      ]
     },
     "metadata": {
      "image/svg+xml": {
       "isolated": true
      }
     },
     "output_type": "display_data"
    }
   ],
   "source": [
    "barplot(with(data.train\n",
    "     ,table(target)\n",
    "))"
   ]
  },
  {
   "cell_type": "code",
   "execution_count": 7,
   "metadata": {
    "collapsed": false
   },
   "outputs": [],
   "source": [
    "library(reshape2)"
   ]
  },
  {
   "cell_type": "code",
   "execution_count": 8,
   "metadata": {
    "collapsed": false
   },
   "outputs": [],
   "source": [
    "data.subset <- get_features(data.train)[,-1]"
   ]
  },
  {
   "cell_type": "code",
   "execution_count": 9,
   "metadata": {
    "collapsed": false
   },
   "outputs": [
    {
     "name": "stderr",
     "output_type": "stream",
     "text": [
      "Warning message:\n",
      "In .fun(.value[0], ...): no non-missing arguments to max; returning -Inf"
     ]
    },
    {
     "data": {
      "text/html": [
       "<table>\n",
       "<thead><tr><th></th><th scope=col>target</th><th scope=col>feat_1</th><th scope=col>feat_2</th><th scope=col>feat_3</th><th scope=col>feat_4</th><th scope=col>feat_5</th><th scope=col>feat_6</th><th scope=col>feat_7</th><th scope=col>feat_8</th><th scope=col>feat_9</th><th scope=col>feat_10</th></tr></thead>\n",
       "<tbody>\n",
       "\t<tr><th scope=row>1</th><td>Class_1</td><td>25</td><td>10</td><td>7</td><td>5</td><td>19</td><td>5</td><td>19</td><td>56</td><td>7</td><td>26</td></tr>\n",
       "\t<tr><th scope=row>2</th><td>Class_2</td><td>22</td><td>5</td><td>6</td><td>7</td><td>13</td><td>3</td><td>9</td><td>14</td><td>41</td><td>24</td></tr>\n",
       "\t<tr><th scope=row>3</th><td>Class_3</td><td>22</td><td>7</td><td>5</td><td>5</td><td>4</td><td>3</td><td>7</td><td>13</td><td>43</td><td>22</td></tr>\n",
       "\t<tr><th scope=row>4</th><td>Class_4</td><td>30</td><td>2</td><td>5</td><td>9</td><td>5</td><td>2</td><td>2</td><td>6</td><td>20</td><td>30</td></tr>\n",
       "\t<tr><th scope=row>5</th><td>Class_5</td><td>3</td><td>2</td><td>4</td><td>5</td><td>2</td><td>1</td><td>1</td><td>6</td><td>15</td><td>4</td></tr>\n",
       "\t<tr><th scope=row>6</th><td>Class_6</td><td>11</td><td>26</td><td>64</td><td>67</td><td>12</td><td>10</td><td>9</td><td>21</td><td>18</td><td>12</td></tr>\n",
       "\t<tr><th scope=row>7</th><td>Class_7</td><td>13</td><td>39</td><td>10</td><td>10</td><td>5</td><td>3</td><td>15</td><td>22</td><td>17</td><td>30</td></tr>\n",
       "\t<tr><th scope=row>8</th><td>Class_8</td><td>61</td><td>51</td><td>44</td><td>70</td><td>11</td><td>8</td><td>38</td><td>23</td><td>29</td><td>22</td></tr>\n",
       "\t<tr><th scope=row>9</th><td>Class_9</td><td>13</td><td>5</td><td>6</td><td>11</td><td>6</td><td>3</td><td>8</td><td>76</td><td>15</td><td>22</td></tr>\n",
       "</tbody>\n",
       "</table>\n"
      ],
      "text/latex": [
       "\\begin{tabular}{r|lllllllllll}\n",
       "  & target & feat_1 & feat_2 & feat_3 & feat_4 & feat_5 & feat_6 & feat_7 & feat_8 & feat_9 & feat_10\\\\\n",
       "\\hline\n",
       "\t1 & Class_1 & 25 & 10 & 7 & 5 & 19 & 5 & 19 & 56 & 7 & 26\\\\\n",
       "\t2 & Class_2 & 22 & 5 & 6 & 7 & 13 & 3 & 9 & 14 & 41 & 24\\\\\n",
       "\t3 & Class_3 & 22 & 7 & 5 & 5 & 4 & 3 & 7 & 13 & 43 & 22\\\\\n",
       "\t4 & Class_4 & 30 & 2 & 5 & 9 & 5 & 2 & 2 & 6 & 20 & 30\\\\\n",
       "\t5 & Class_5 & 3 & 2 & 4 & 5 & 2 & 1 & 1 & 6 & 15 & 4\\\\\n",
       "\t6 & Class_6 & 11 & 26 & 64 & 67 & 12 & 10 & 9 & 21 & 18 & 12\\\\\n",
       "\t7 & Class_7 & 13 & 39 & 10 & 10 & 5 & 3 & 15 & 22 & 17 & 30\\\\\n",
       "\t8 & Class_8 & 61 & 51 & 44 & 70 & 11 & 8 & 38 & 23 & 29 & 22\\\\\n",
       "\t9 & Class_9 & 13 & 5 & 6 & 11 & 6 & 3 & 8 & 76 & 15 & 22\\\\\n",
       "\\end{tabular}\n"
      ],
      "text/plain": [
       "   target feat_1 feat_2 feat_3 feat_4 feat_5 feat_6 feat_7 feat_8 feat_9\n",
       "1 Class_1     25     10      7      5     19      5     19     56      7\n",
       "2 Class_2     22      5      6      7     13      3      9     14     41\n",
       "3 Class_3     22      7      5      5      4      3      7     13     43\n",
       "4 Class_4     30      2      5      9      5      2      2      6     20\n",
       "5 Class_5      3      2      4      5      2      1      1      6     15\n",
       "6 Class_6     11     26     64     67     12     10      9     21     18\n",
       "7 Class_7     13     39     10     10      5      3     15     22     17\n",
       "8 Class_8     61     51     44     70     11      8     38     23     29\n",
       "9 Class_9     13      5      6     11      6      3      8     76     15\n",
       "  feat_10\n",
       "1      26\n",
       "2      24\n",
       "3      22\n",
       "4      30\n",
       "5       4\n",
       "6      12\n",
       "7      30\n",
       "8      22\n",
       "9      22"
      ]
     },
     "execution_count": 9,
     "metadata": {},
     "output_type": "execute_result"
    }
   ],
   "source": [
    "m <- melt(data.subset,id='target')\n",
    "dcast(m, target~variable, max)"
   ]
  },
  {
   "cell_type": "code",
   "execution_count": 10,
   "metadata": {
    "collapsed": false
   },
   "outputs": [
    {
     "data": {
      "text/html": [
       "<table>\n",
       "<thead><tr><th></th><th scope=col>target</th><th scope=col>feat_1</th><th scope=col>feat_2</th><th scope=col>feat_3</th><th scope=col>feat_4</th><th scope=col>feat_5</th><th scope=col>feat_6</th><th scope=col>feat_7</th><th scope=col>feat_8</th><th scope=col>feat_9</th><th scope=col>feat_10</th></tr></thead>\n",
       "<tbody>\n",
       "\t<tr><th scope=row>1</th><td>Class_1</td><td>0.4416796</td><td>0.1290824</td><td>0.1653707</td><td>0.1596682</td><td>0.3271125</td><td>0.08501814</td><td>0.5132193</td><td>1.77605</td><td>0.1772939</td><td>0.4038362</td></tr>\n",
       "\t<tr><th scope=row>2</th><td>Class_2</td><td>0.3313485</td><td>0.01501054</td><td>0.0857834</td><td>0.09397097</td><td>0.03380474</td><td>0.01277757</td><td>0.02208163</td><td>0.2249101</td><td>1.665922</td><td>0.1173552</td></tr>\n",
       "\t<tr><th scope=row>3</th><td>Class_3</td><td>0.2416292</td><td>0.03123438</td><td>0.09807596</td><td>0.1026987</td><td>0.03885557</td><td>0.01236882</td><td>0.03885557</td><td>0.2572464</td><td>2.976012</td><td>0.2113943</td></tr>\n",
       "\t<tr><th scope=row>4</th><td>Class_4</td><td>0.6105537</td><td>0.01300632</td><td>0.08992939</td><td>0.1204013</td><td>0.05351171</td><td>0.01300632</td><td>0.03307321</td><td>0.2567819</td><td>0.1114827</td><td>0.2820513</td></tr>\n",
       "\t<tr><th scope=row>5</th><td>Class_5</td><td>0.02446148</td><td>0.03176342</td><td>0.05366922</td><td>0.06389193</td><td>0.05074845</td><td>0.005476451</td><td>0.003650968</td><td>0.4914202</td><td>0.1705002</td><td>0.02008032</td></tr>\n",
       "\t<tr><th scope=row>6</th><td>Class_6</td><td>0.263601</td><td>0.3106473</td><td>3.290131</td><td>2.431553</td><td>0.05355501</td><td>0.02426601</td><td>0.1173682</td><td>0.3005306</td><td>0.2534843</td><td>0.2149982</td></tr>\n",
       "\t<tr><th scope=row>7</th><td>Class_7</td><td>0.349771</td><td>0.3064459</td><td>0.2226136</td><td>0.3187742</td><td>0.0489609</td><td>0.03768933</td><td>0.4339556</td><td>0.6305037</td><td>0.45826</td><td>0.7794998</td></tr>\n",
       "\t<tr><th scope=row>8</th><td>Class_8</td><td>0.5581285</td><td>1.153001</td><td>0.5413516</td><td>1.030482</td><td>0.1495747</td><td>0.06415406</td><td>0.8125</td><td>0.7816635</td><td>0.526465</td><td>0.5499764</td></tr>\n",
       "\t<tr><th scope=row>9</th><td>Class_9</td><td>0.9376387</td><td>0.07971746</td><td>0.2391524</td><td>0.215338</td><td>0.09364279</td><td>0.01574168</td><td>0.09323915</td><td>3.468819</td><td>0.2926337</td><td>0.2514632</td></tr>\n",
       "</tbody>\n",
       "</table>\n"
      ],
      "text/latex": [
       "\\begin{tabular}{r|lllllllllll}\n",
       "  & target & feat_1 & feat_2 & feat_3 & feat_4 & feat_5 & feat_6 & feat_7 & feat_8 & feat_9 & feat_10\\\\\n",
       "\\hline\n",
       "\t1 & Class_1 & 0.4416796 & 0.1290824 & 0.1653707 & 0.1596682 & 0.3271125 & 0.08501814 & 0.5132193 & 1.77605 & 0.1772939 & 0.4038362\\\\\n",
       "\t2 & Class_2 & 0.3313485 & 0.01501054 & 0.0857834 & 0.09397097 & 0.03380474 & 0.01277757 & 0.02208163 & 0.2249101 & 1.665922 & 0.1173552\\\\\n",
       "\t3 & Class_3 & 0.2416292 & 0.03123438 & 0.09807596 & 0.1026987 & 0.03885557 & 0.01236882 & 0.03885557 & 0.2572464 & 2.976012 & 0.2113943\\\\\n",
       "\t4 & Class_4 & 0.6105537 & 0.01300632 & 0.08992939 & 0.1204013 & 0.05351171 & 0.01300632 & 0.03307321 & 0.2567819 & 0.1114827 & 0.2820513\\\\\n",
       "\t5 & Class_5 & 0.02446148 & 0.03176342 & 0.05366922 & 0.06389193 & 0.05074845 & 0.005476451 & 0.003650968 & 0.4914202 & 0.1705002 & 0.02008032\\\\\n",
       "\t6 & Class_6 & 0.263601 & 0.3106473 & 3.290131 & 2.431553 & 0.05355501 & 0.02426601 & 0.1173682 & 0.3005306 & 0.2534843 & 0.2149982\\\\\n",
       "\t7 & Class_7 & 0.349771 & 0.3064459 & 0.2226136 & 0.3187742 & 0.0489609 & 0.03768933 & 0.4339556 & 0.6305037 & 0.45826 & 0.7794998\\\\\n",
       "\t8 & Class_8 & 0.5581285 & 1.153001 & 0.5413516 & 1.030482 & 0.1495747 & 0.06415406 & 0.8125 & 0.7816635 & 0.526465 & 0.5499764\\\\\n",
       "\t9 & Class_9 & 0.9376387 & 0.07971746 & 0.2391524 & 0.215338 & 0.09364279 & 0.01574168 & 0.09323915 & 3.468819 & 0.2926337 & 0.2514632\\\\\n",
       "\\end{tabular}\n"
      ],
      "text/plain": [
       "   target     feat_1     feat_2     feat_3     feat_4     feat_5      feat_6\n",
       "1 Class_1 0.44167963 0.12908243 0.16537066 0.15966822 0.32711249 0.085018144\n",
       "2 Class_2 0.33134847 0.01501054 0.08578340 0.09397097 0.03380474 0.012777571\n",
       "3 Class_3 0.24162919 0.03123438 0.09807596 0.10269865 0.03885557 0.012368816\n",
       "4 Class_4 0.61055370 0.01300632 0.08992939 0.12040134 0.05351171 0.013006317\n",
       "5 Class_5 0.02446148 0.03176342 0.05366922 0.06389193 0.05074845 0.005476451\n",
       "6 Class_6 0.26360099 0.31064733 3.29013088 2.43155288 0.05355501 0.024266006\n",
       "7 Class_7 0.34977105 0.30644593 0.22261360 0.31877422 0.04896090 0.037689327\n",
       "8 Class_8 0.55812854 1.15300095 0.54135161 1.03048204 0.14957467 0.064154064\n",
       "9 Class_9 0.93763875 0.07971746 0.23915237 0.21533804 0.09364279 0.015741675\n",
       "       feat_7    feat_8    feat_9    feat_10\n",
       "1 0.513219285 1.7760498 0.1772939 0.40383618\n",
       "2 0.022081628 0.2249101 1.6659223 0.11735517\n",
       "3 0.038855572 0.2572464 2.9760120 0.21139430\n",
       "4 0.033073207 0.2567819 0.1114827 0.28205128\n",
       "5 0.003650968 0.4914202 0.1705002 0.02008032\n",
       "6 0.117368235 0.3005306 0.2534843 0.21499823\n",
       "7 0.433955618 0.6305037 0.4582600 0.77949982\n",
       "8 0.812500000 0.7816635 0.5264650 0.54997637\n",
       "9 0.093239152 3.4688194 0.2926337 0.25146317"
      ]
     },
     "execution_count": 10,
     "metadata": {},
     "output_type": "execute_result"
    }
   ],
   "source": [
    "dcast(m, target~variable, mean)"
   ]
  },
  {
   "cell_type": "code",
   "execution_count": 11,
   "metadata": {
    "collapsed": false
   },
   "outputs": [],
   "source": [
    "d1 <- dcast(m, target~variable, length )\n",
    "d2 <- dcast(m, target~variable, function(x) { sum(x==0, na.rm=T) })"
   ]
  },
  {
   "cell_type": "code",
   "execution_count": 12,
   "metadata": {
    "collapsed": false
   },
   "outputs": [
    {
     "name": "stderr",
     "output_type": "stream",
     "text": [
      "Warning message:\n",
      "In Ops.factor(left, right): ‘-’ not meaningful for factors"
     ]
    },
    {
     "data": {
      "text/html": [
       "<table>\n",
       "<thead><tr><th></th><th scope=col>feat_1</th><th scope=col>feat_2</th><th scope=col>feat_3</th><th scope=col>feat_4</th><th scope=col>feat_5</th><th scope=col>feat_6</th><th scope=col>feat_7</th><th scope=col>feat_8</th><th scope=col>feat_9</th><th scope=col>feat_10</th></tr></thead>\n",
       "<tbody>\n",
       "\t<tr><th scope=row>1</th><td>445</td><td>186</td><td>251</td><td>219</td><td>203</td><td>108</td><td>427</td><td>1017</td><td>242</td><td>403</td></tr>\n",
       "\t<tr><th scope=row>2</th><td>2797</td><td>189</td><td>1072</td><td>1135</td><td>378</td><td>162</td><td>306</td><td>2421</td><td>3537</td><td>939</td></tr>\n",
       "\t<tr><th scope=row>3</th><td>1040</td><td>171</td><td>606</td><td>667</td><td>256</td><td>67</td><td>263</td><td>1283</td><td>2357</td><td>839</td></tr>\n",
       "\t<tr><th scope=row>4</th><td>384</td><td>31</td><td>188</td><td>212</td><td>99</td><td>29</td><td>84</td><td>495</td><td>133</td><td>319</td></tr>\n",
       "\t<tr><th scope=row>5</th><td>61</td><td>48</td><td>112</td><td>137</td><td>138</td><td>15</td><td>10</td><td>1085</td><td>202</td><td>48</td></tr>\n",
       "\t<tr><th scope=row>6</th><td>1816</td><td>2777</td><td>7553</td><td>8012</td><td>600</td><td>230</td><td>1258</td><td>2517</td><td>2195</td><td>2060</td></tr>\n",
       "\t<tr><th scope=row>7</th><td>511</td><td>333</td><td>424</td><td>562</td><td>113</td><td>95</td><td>596</td><td>856</td><td>648</td><td>694</td></tr>\n",
       "\t<tr><th scope=row>8</th><td>1770</td><td>2788</td><td>1552</td><td>1747</td><td>859</td><td>396</td><td>2181</td><td>3633</td><td>1885</td><td>1732</td></tr>\n",
       "\t<tr><th scope=row>9</th><td>1571</td><td>337</td><td>825</td><td>739</td><td>325</td><td>66</td><td>310</td><td>3259</td><td>843</td><td>649</td></tr>\n",
       "</tbody>\n",
       "</table>\n"
      ],
      "text/latex": [
       "\\begin{tabular}{r|llllllllll}\n",
       "  & feat_1 & feat_2 & feat_3 & feat_4 & feat_5 & feat_6 & feat_7 & feat_8 & feat_9 & feat_10\\\\\n",
       "\\hline\n",
       "\t1 & 445 & 186 & 251 & 219 & 203 & 108 & 427 & 1017 & 242 & 403\\\\\n",
       "\t2 & 2797 & 189 & 1072 & 1135 & 378 & 162 & 306 & 2421 & 3537 & 939\\\\\n",
       "\t3 & 1040 & 171 & 606 & 667 & 256 & 67 & 263 & 1283 & 2357 & 839\\\\\n",
       "\t4 & 384 & 31 & 188 & 212 & 99 & 29 & 84 & 495 & 133 & 319\\\\\n",
       "\t5 & 61 & 48 & 112 & 137 & 138 & 15 & 10 & 1085 & 202 & 48\\\\\n",
       "\t6 & 1816 & 2777 & 7553 & 8012 & 600 & 230 & 1258 & 2517 & 2195 & 2060\\\\\n",
       "\t7 & 511 & 333 & 424 & 562 & 113 & 95 & 596 & 856 & 648 & 694\\\\\n",
       "\t8 & 1770 & 2788 & 1552 & 1747 & 859 & 396 & 2181 & 3633 & 1885 & 1732\\\\\n",
       "\t9 & 1571 & 337 & 825 & 739 & 325 & 66 & 310 & 3259 & 843 & 649\\\\\n",
       "\\end{tabular}\n"
      ],
      "text/plain": [
       "  feat_1 feat_2 feat_3 feat_4 feat_5 feat_6 feat_7 feat_8 feat_9 feat_10\n",
       "1    445    186    251    219    203    108    427   1017    242     403\n",
       "2   2797    189   1072   1135    378    162    306   2421   3537     939\n",
       "3   1040    171    606    667    256     67    263   1283   2357     839\n",
       "4    384     31    188    212     99     29     84    495    133     319\n",
       "5     61     48    112    137    138     15     10   1085    202      48\n",
       "6   1816   2777   7553   8012    600    230   1258   2517   2195    2060\n",
       "7    511    333    424    562    113     95    596    856    648     694\n",
       "8   1770   2788   1552   1747    859    396   2181   3633   1885    1732\n",
       "9   1571    337    825    739    325     66    310   3259    843     649"
      ]
     },
     "execution_count": 12,
     "metadata": {},
     "output_type": "execute_result"
    }
   ],
   "source": [
    "(d1 - d2)[,-1]"
   ]
  },
  {
   "cell_type": "code",
   "execution_count": 13,
   "metadata": {
    "collapsed": false
   },
   "outputs": [
    {
     "name": "stderr",
     "output_type": "stream",
     "text": [
      "Warning message:\n",
      "In .fun(.value[0], ...): no non-missing arguments to max; returning -Inf"
     ]
    },
    {
     "data": {
      "text/html": [
       "<table>\n",
       "<thead><tr><th></th><th scope=col>target</th><th scope=col>.</th></tr></thead>\n",
       "<tbody>\n",
       "\t<tr><th scope=row>1</th><td>Class_1</td><td>56</td></tr>\n",
       "\t<tr><th scope=row>2</th><td>Class_2</td><td>41</td></tr>\n",
       "\t<tr><th scope=row>3</th><td>Class_3</td><td>43</td></tr>\n",
       "\t<tr><th scope=row>4</th><td>Class_4</td><td>30</td></tr>\n",
       "\t<tr><th scope=row>5</th><td>Class_5</td><td>15</td></tr>\n",
       "\t<tr><th scope=row>6</th><td>Class_6</td><td>67</td></tr>\n",
       "\t<tr><th scope=row>7</th><td>Class_7</td><td>39</td></tr>\n",
       "\t<tr><th scope=row>8</th><td>Class_8</td><td>70</td></tr>\n",
       "\t<tr><th scope=row>9</th><td>Class_9</td><td>76</td></tr>\n",
       "</tbody>\n",
       "</table>\n"
      ],
      "text/latex": [
       "\\begin{tabular}{r|ll}\n",
       "  & target & .\\\\\n",
       "\\hline\n",
       "\t1 & Class_1 & 56\\\\\n",
       "\t2 & Class_2 & 41\\\\\n",
       "\t3 & Class_3 & 43\\\\\n",
       "\t4 & Class_4 & 30\\\\\n",
       "\t5 & Class_5 & 15\\\\\n",
       "\t6 & Class_6 & 67\\\\\n",
       "\t7 & Class_7 & 39\\\\\n",
       "\t8 & Class_8 & 70\\\\\n",
       "\t9 & Class_9 & 76\\\\\n",
       "\\end{tabular}\n"
      ],
      "text/plain": [
       "   target  .\n",
       "1 Class_1 56\n",
       "2 Class_2 41\n",
       "3 Class_3 43\n",
       "4 Class_4 30\n",
       "5 Class_5 15\n",
       "6 Class_6 67\n",
       "7 Class_7 39\n",
       "8 Class_8 70\n",
       "9 Class_9 76"
      ]
     },
     "execution_count": 13,
     "metadata": {},
     "output_type": "execute_result"
    }
   ],
   "source": [
    "d3 <- dcast(m, target~., max)\n",
    "d3"
   ]
  },
  {
   "cell_type": "markdown",
   "metadata": {},
   "source": [
    "Create randomForest model\n",
    "-------"
   ]
  },
  {
   "cell_type": "code",
   "execution_count": 14,
   "metadata": {
    "collapsed": false
   },
   "outputs": [
    {
     "name": "stderr",
     "output_type": "stream",
     "text": [
      "randomForest 4.6-10\n",
      "Type rfNews() to see new features/changes/bug fixes.\n"
     ]
    }
   ],
   "source": [
    "library(randomForest)"
   ]
  },
  {
   "cell_type": "code",
   "execution_count": 15,
   "metadata": {
    "collapsed": false
   },
   "outputs": [
    {
     "data": {
      "text/html": [
       "61878"
      ],
      "text/latex": [
       "61878"
      ],
      "text/markdown": [
       "61878"
      ],
      "text/plain": [
       "[1] 61878"
      ]
     },
     "execution_count": 15,
     "metadata": {},
     "output_type": "execute_result"
    }
   ],
   "source": [
    "nrow(data.train)"
   ]
  },
  {
   "cell_type": "code",
   "execution_count": 16,
   "metadata": {
    "collapsed": false
   },
   "outputs": [],
   "source": [
    "library(foreach)\n",
    "library(doParallel)\n",
    "registerDoParallel(cores=4)"
   ]
  },
  {
   "cell_type": "code",
   "execution_count": null,
   "metadata": {
    "collapsed": false
   },
   "outputs": [],
   "source": [
    "i <- 250000\n",
    "k <- 4\n",
    "d <- list()\n",
    "foreach (z=1:k, .combine='rbind') %dopar% {\n",
    "    data.train.sample <- data.train[sample(data.train, size=i, replace=TRUE),]\n",
    "}"
   ]
  },
  {
   "cell_type": "code",
   "execution_count": null,
   "metadata": {
    "collapsed": false
   },
   "outputs": [
    {
     "data": {
      "text/html": [
       "10000000"
      ],
      "text/latex": [
       "10000000"
      ],
      "text/markdown": [
       "10000000"
      ],
      "text/plain": [
       "[1] 10000000"
      ]
     },
     "execution_count": 133,
     "metadata": {},
     "output_type": "execute_result"
    }
   ],
   "source": [
    "nrow(data.train.sample); head(data.train.sample)"
   ]
  },
  {
   "cell_type": "code",
   "execution_count": 132,
   "metadata": {
    "collapsed": false
   },
   "outputs": [
    {
     "name": "stderr",
     "output_type": "stream",
     "text": [
      "Warning message:\n",
      "In Ops.factor(left, right): ‘-’ not meaningful for factors"
     ]
    },
    {
     "data": {
      "text/html": [
       "<table>\n",
       "<thead><tr><th></th><th scope=col>feat_1</th><th scope=col>feat_2</th><th scope=col>feat_3</th><th scope=col>feat_4</th><th scope=col>feat_5</th><th scope=col>feat_6</th><th scope=col>feat_7</th><th scope=col>feat_8</th><th scope=col>feat_9</th><th scope=col>feat_10</th></tr></thead>\n",
       "<tbody>\n",
       "\t<tr><th scope=row>1</th><td>445</td><td>186</td><td>251</td><td>219</td><td>203</td><td>108</td><td>427</td><td>1017</td><td>242</td><td>403</td></tr>\n",
       "\t<tr><th scope=row>2</th><td>2797</td><td>189</td><td>1072</td><td>1135</td><td>378</td><td>162</td><td>306</td><td>2421</td><td>3537</td><td>939</td></tr>\n",
       "\t<tr><th scope=row>3</th><td>1040</td><td>171</td><td>606</td><td>667</td><td>256</td><td>67</td><td>263</td><td>1283</td><td>2357</td><td>839</td></tr>\n",
       "\t<tr><th scope=row>4</th><td>384</td><td>31</td><td>188</td><td>212</td><td>99</td><td>29</td><td>84</td><td>495</td><td>133</td><td>319</td></tr>\n",
       "\t<tr><th scope=row>5</th><td>61</td><td>48</td><td>112</td><td>137</td><td>138</td><td>15</td><td>10</td><td>1085</td><td>202</td><td>48</td></tr>\n",
       "\t<tr><th scope=row>6</th><td>1816</td><td>2777</td><td>7553</td><td>8012</td><td>600</td><td>230</td><td>1258</td><td>2517</td><td>2195</td><td>2060</td></tr>\n",
       "\t<tr><th scope=row>7</th><td>511</td><td>333</td><td>424</td><td>562</td><td>113</td><td>95</td><td>596</td><td>856</td><td>648</td><td>694</td></tr>\n",
       "\t<tr><th scope=row>8</th><td>1770</td><td>2788</td><td>1552</td><td>1747</td><td>859</td><td>396</td><td>2181</td><td>3633</td><td>1885</td><td>1732</td></tr>\n",
       "\t<tr><th scope=row>9</th><td>1571</td><td>337</td><td>825</td><td>739</td><td>325</td><td>66</td><td>310</td><td>3259</td><td>843</td><td>649</td></tr>\n",
       "</tbody>\n",
       "</table>\n"
      ],
      "text/latex": [
       "\\begin{tabular}{r|llllllllll}\n",
       "  & feat_1 & feat_2 & feat_3 & feat_4 & feat_5 & feat_6 & feat_7 & feat_8 & feat_9 & feat_10\\\\\n",
       "\\hline\n",
       "\t1 & 445 & 186 & 251 & 219 & 203 & 108 & 427 & 1017 & 242 & 403\\\\\n",
       "\t2 & 2797 & 189 & 1072 & 1135 & 378 & 162 & 306 & 2421 & 3537 & 939\\\\\n",
       "\t3 & 1040 & 171 & 606 & 667 & 256 & 67 & 263 & 1283 & 2357 & 839\\\\\n",
       "\t4 & 384 & 31 & 188 & 212 & 99 & 29 & 84 & 495 & 133 & 319\\\\\n",
       "\t5 & 61 & 48 & 112 & 137 & 138 & 15 & 10 & 1085 & 202 & 48\\\\\n",
       "\t6 & 1816 & 2777 & 7553 & 8012 & 600 & 230 & 1258 & 2517 & 2195 & 2060\\\\\n",
       "\t7 & 511 & 333 & 424 & 562 & 113 & 95 & 596 & 856 & 648 & 694\\\\\n",
       "\t8 & 1770 & 2788 & 1552 & 1747 & 859 & 396 & 2181 & 3633 & 1885 & 1732\\\\\n",
       "\t9 & 1571 & 337 & 825 & 739 & 325 & 66 & 310 & 3259 & 843 & 649\\\\\n",
       "\\end{tabular}\n"
      ],
      "text/plain": [
       "  feat_1 feat_2 feat_3 feat_4 feat_5 feat_6 feat_7 feat_8 feat_9 feat_10\n",
       "1    445    186    251    219    203    108    427   1017    242     403\n",
       "2   2797    189   1072   1135    378    162    306   2421   3537     939\n",
       "3   1040    171    606    667    256     67    263   1283   2357     839\n",
       "4    384     31    188    212     99     29     84    495    133     319\n",
       "5     61     48    112    137    138     15     10   1085    202      48\n",
       "6   1816   2777   7553   8012    600    230   1258   2517   2195    2060\n",
       "7    511    333    424    562    113     95    596    856    648     694\n",
       "8   1770   2788   1552   1747    859    396   2181   3633   1885    1732\n",
       "9   1571    337    825    739    325     66    310   3259    843     649"
      ]
     },
     "execution_count": 132,
     "metadata": {},
     "output_type": "execute_result"
    }
   ],
   "source": [
    "data.subset <- get_features(data.train.sample)[,-1]\n",
    "m <- melt(data.subset,id='target')\n",
    "d1 <- dcast(m, target~variable, length )\n",
    "d2 <- dcast(m, target~variable, function(x) { sum(x==0, na.rm=T) })\n",
    "(d1 - d2)[,-1]"
   ]
  },
  {
   "cell_type": "code",
   "execution_count": 114,
   "metadata": {
    "collapsed": true
   },
   "outputs": [],
   "source": [
    "f <- randomForest(\n",
    "    target~.\n",
    "    ,data=data.train\n",
    "    ,ntree=5000\n",
    ")"
   ]
  },
  {
   "cell_type": "code",
   "execution_count": 116,
   "metadata": {
    "collapsed": false
   },
   "outputs": [],
   "source": [
    "p <- predict(f,data.train)"
   ]
  },
  {
   "cell_type": "code",
   "execution_count": 117,
   "metadata": {
    "collapsed": false
   },
   "outputs": [],
   "source": [
    "t <- data.train[,'target']"
   ]
  },
  {
   "cell_type": "code",
   "execution_count": 118,
   "metadata": {
    "collapsed": false
   },
   "outputs": [
    {
     "data": {
      "text/plain": [
       "         class\n",
       "predict   Class_1 Class_2 Class_3 Class_4 Class_5 Class_6 Class_7 Class_8\n",
       "  Class_1       0       0       0       0       0       0       0       0\n",
       "  Class_2    1753   16105    7900    2488    2550    1289    2208    3160\n",
       "  Class_3       0       0       0       0       0       0       0       0\n",
       "  Class_4       0       0       0       0       0       0       0       0\n",
       "  Class_5       0       0       0       0       0       0       0       0\n",
       "  Class_6     122      16      89     203     167   12793     415    1021\n",
       "  Class_7       0       0       0       0       0       0       0       0\n",
       "  Class_8      54       1      15       0      22      53     216    4283\n",
       "  Class_9       0       0       0       0       0       0       0       0\n",
       "         class\n",
       "predict   Class_9\n",
       "  Class_1       0\n",
       "  Class_2    3980\n",
       "  Class_3       0\n",
       "  Class_4       0\n",
       "  Class_5       0\n",
       "  Class_6     665\n",
       "  Class_7       0\n",
       "  Class_8     310\n",
       "  Class_9       0"
      ]
     },
     "execution_count": 118,
     "metadata": {},
     "output_type": "execute_result"
    }
   ],
   "source": [
    "conf <- data.frame('predict'=p,'class'=t)\n",
    "table(conf)"
   ]
  },
  {
   "cell_type": "code",
   "execution_count": 119,
   "metadata": {
    "collapsed": false
   },
   "outputs": [
    {
     "data": {
      "text/plain": [
       "p\n",
       "Class_1 Class_2 Class_3 Class_4 Class_5 Class_6 Class_7 Class_8 Class_9 \n",
       "      0   41433       0       0       0   15491       0    4954       0 "
      ]
     },
     "execution_count": 119,
     "metadata": {},
     "output_type": "execute_result"
    },
    {
     "data": {
      "text/plain": [
       "t\n",
       "Class_1 Class_2 Class_3 Class_4 Class_5 Class_6 Class_7 Class_8 Class_9 \n",
       "   1929   16122    8004    2691    2739   14135    2839    8464    4955 "
      ]
     },
     "execution_count": 119,
     "metadata": {},
     "output_type": "execute_result"
    }
   ],
   "source": [
    "table(p); table(t)"
   ]
  }
 ],
 "metadata": {
  "kernelspec": {
   "display_name": "R",
   "language": "",
   "name": "ir"
  },
  "language_info": {
   "codemirror_mode": "r",
   "file_extension": ".r",
   "mimetype": "text/x-r-source",
   "name": "R",
   "pygments_lexer": "r",
   "version": "3.2.0"
  }
 },
 "nbformat": 4,
 "nbformat_minor": 0
}
