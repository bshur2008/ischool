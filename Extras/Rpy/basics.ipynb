{
 "cells": [
  {
   "cell_type": "markdown",
   "metadata": {},
   "source": [
    "Using Rpy2\n",
    "==========\n",
    "\n",
    "Covers the (very) basics of installing and running rpy2\n",
    "------\n",
    "\n",
    "to install:\n"
   ]
  },
  {
   "cell_type": "raw",
   "metadata": {},
   "source": [
    "pip install rpy2"
   ]
  },
  {
   "cell_type": "markdown",
   "metadata": {},
   "source": [
    "Installing R packages\n",
    "------\n"
   ]
  },
  {
   "cell_type": "code",
   "execution_count": 3,
   "metadata": {
    "collapsed": false
   },
   "outputs": [
    {
     "name": "stdout",
     "output_type": "stream",
     "text": [
      "--- Please select a CRAN mirror for use in this session ---\n",
      "CRAN mirror \n",
      "\n",
      "  1: 0-Cloud                        2: Algeria                    \n",
      "  3: Argentina (La Plata)           4: Australia (Canberra)       \n",
      "  5: Australia (Melbourne)          6: Austria                    \n",
      "  7: Belgium                        8: Brazil (BA)                \n",
      "  9: Brazil (PR)                   10: Brazil (RJ)                \n",
      " 11: Brazil (SP 1)                 12: Brazil (SP 2)              \n",
      " 13: Canada (BC)                   14: Canada (NS)                \n",
      " 15: Canada (ON)                   16: Canada (QC 1)              \n",
      " 17: Canada (QC 2)                 18: Chile                      \n",
      " 19: China (Beijing 1)             20: China (Beijing 2)          \n",
      " 21: China (Beijing 3)             22: China (Beijing 4)          \n",
      " 23: China (Hefei)                 24: China (Lanzhou)            \n",
      " 25: China (Xiamen)                26: Colombia (Cali)            \n",
      " 27: Czech Republic                28: Denmark                    \n",
      " 29: Ecuador                       30: El Salvador                \n",
      " 31: Estonia                       32: France (Lyon 1)            \n",
      " 33: France (Lyon 2)               34: France (Montpellier)       \n",
      " 35: France (Paris 2)              36: France (Strasbourg)        \n",
      " 37: Germany (Berlin)              38: Germany (Goettingen)       \n",
      " 39: Germany (Frankfurt)           40: Germany (Münster)          \n",
      " 41: Greece                        42: Hungary                    \n",
      " 43: Iceland                       44: India                      \n",
      " 45: Indonesia (Jakarta)           46: Indonesia (Jember)         \n",
      " 47: Iran                          48: Ireland                    \n",
      " 49: Italy (Milano)                50: Italy (Padua)              \n",
      " 51: Italy (Palermo)               52: Japan (Tokyo)              \n",
      " 53: Japan (Tsukuba)               54: Japan (Yamagata)           \n",
      " 55: Korea (Seoul 1)               56: Korea (Seoul 2)            \n",
      " 57: Korea (Ulsan)                 58: Lebanon                    \n",
      " 59: Mexico (Mexico City)          60: Mexico (Texcoco)           \n",
      " 61: Netherlands (Amsterdam)       62: Netherlands (Utrecht)      \n",
      " 63: New Zealand                   64: Norway                     \n",
      " 65: Philippines                   66: Poland                     \n",
      " 67: Portugal                      68: Russia                     \n",
      " 69: Singapore                     70: Slovakia                   \n",
      " 71: South Africa (Johannesburg)   72: Spain (A Coruña)           \n",
      " 73: Spain (Madrid)                74: Sweden                     \n",
      " 75: Switzerland                   76: Taiwan (Chungli)           \n",
      " 77: Taiwan (Taipei)               78: Thailand                   \n",
      " 79: Turkey                        80: UK (Bristol)               \n",
      " 81: UK (Cambridge)                82: UK (London)                \n",
      " 83: UK (London)                   84: UK (St Andrews)            \n",
      " 85: USA (CA 1)                    86: USA (CA 2)                 \n",
      " 87: USA (IA)                      88: USA (IN)                   \n",
      " 89: USA (KS)                      90: USA (MD)                   \n",
      " 91: USA (MI)                      92: USA (MO)                   \n",
      " 93: USA (OH)                      94: USA (OR)                   \n",
      " 95: USA (PA 1)                    96: USA (PA 2)                 \n",
      " 97: USA (TN)                      98: USA (TX 1)                 \n",
      " 99: USA (WA 1)                   100: USA (WA 2)                 \n",
      "101: Venezuela                    102: Vietnam                    \n",
      "\n",
      "\n",
      "Selection: 99\n"
     ]
    }
   ],
   "source": [
    "import rpy2.robjects.packages as rpackages #package functions as python library\n",
    "from rpy2.robjects.vectors import StrVector #to explicitly create string vector object\n",
    "\n",
    "packnames = ('ggplot2', 'ddply2')\n",
    "\n",
    "packnames_to_install = [x for x in packnames if not rpackages.isinstalled(x)]\n",
    "if len(packnames_to_install) > 0:\n",
    "    utils.install_packages(StrVector(packnames_to_install))\n"
   ]
  },
  {
   "cell_type": "markdown",
   "metadata": {},
   "source": [
    "Run R code\n",
    "-------- "
   ]
  },
  {
   "cell_type": "code",
   "execution_count": 10,
   "metadata": {
    "collapsed": false
   },
   "outputs": [
    {
     "data": {
      "text/plain": [
       "<FloatVector - Python:0x1078e6cf8 / R:0x7fb1f793f158>\n",
       "[16.000000]"
      ]
     },
     "execution_count": 10,
     "metadata": {},
     "output_type": "execute_result"
    }
   ],
   "source": [
    "from rpy2 import robjects\n",
    "code = '''\n",
    "    sqr <- function(x){\n",
    "        return(x*x)\n",
    "    }\n",
    "    sqr(4) #return 16\n",
    "'''\n",
    "robjects.r(code) #returns vector and creates function"
   ]
  },
  {
   "cell_type": "code",
   "execution_count": 12,
   "metadata": {
    "collapsed": false
   },
   "outputs": [
    {
     "name": "stdout",
     "output_type": "stream",
     "text": [
      "function (x) \n",
      "{\n",
      "    return(x * x)\n",
      "}\n"
     ]
    }
   ],
   "source": [
    "print robjects.globalenv['sqr'].r_repr()"
   ]
  },
  {
   "cell_type": "markdown",
   "metadata": {},
   "source": [
    "Function is also runnable"
   ]
  },
  {
   "cell_type": "code",
   "execution_count": 14,
   "metadata": {
    "collapsed": false
   },
   "outputs": [
    {
     "data": {
      "text/plain": [
       "16"
      ]
     },
     "execution_count": 14,
     "metadata": {},
     "output_type": "execute_result"
    }
   ],
   "source": [
    "sqr = robjects.globalenv['sqr']\n",
    "sqr(4)[0]"
   ]
  },
  {
   "cell_type": "markdown",
   "metadata": {},
   "source": [
    "Creating vectors\n",
    "------"
   ]
  },
  {
   "cell_type": "code",
   "execution_count": 20,
   "metadata": {
    "collapsed": false
   },
   "outputs": [
    {
     "name": "stdout",
     "output_type": "stream",
     "text": [
      "c(\"abc\", \"def\")\n",
      "\n",
      "1:3\n",
      "\n",
      "c(1.3, 3.3, 10.3)\n"
     ]
    }
   ],
   "source": [
    "from rpy2.robjects.vectors import StrVector, IntVector, FloatVector\n",
    "strs = StrVector(['abc', 'def'])\n",
    "ints = IntVector([1,2,3])\n",
    "floats = FloatVector([1.3,3.3,10.3])\n",
    "print '\\n\\n'.join([strs.r_repr(), ints.r_repr(), floats.r_repr()])"
   ]
  },
  {
   "cell_type": "markdown",
   "metadata": {},
   "source": [
    "Functions\n",
    "------"
   ]
  },
  {
   "cell_type": "markdown",
   "metadata": {},
   "source": [
    "Normal python functions work on R vectors"
   ]
  },
  {
   "cell_type": "code",
   "execution_count": 28,
   "metadata": {
    "collapsed": false
   },
   "outputs": [
    {
     "data": {
      "text/plain": [
       "[1.3, 3.3, 10.3]"
      ]
     },
     "execution_count": 28,
     "metadata": {},
     "output_type": "execute_result"
    }
   ],
   "source": [
    "sorted(floats)"
   ]
  },
  {
   "cell_type": "markdown",
   "metadata": {},
   "source": [
    "R functions return R objects"
   ]
  },
  {
   "cell_type": "code",
   "execution_count": 31,
   "metadata": {
    "collapsed": false
   },
   "outputs": [
    {
     "name": "stdout",
     "output_type": "stream",
     "text": [
      "c(1.3, 3.3, 10.3)\n"
     ]
    }
   ],
   "source": [
    "rsort = robjects.r['sort']\n",
    "print rsort(floats).r_repr()"
   ]
  },
  {
   "cell_type": "markdown",
   "metadata": {},
   "source": [
    "ggplot2 \n",
    "-----\n",
    "\n",
    "More detailed instructions [here](http://rpy.sourceforge.net/rpy2/doc-2.5/html/graphics.html#graphics)"
   ]
  },
  {
   "cell_type": "code",
   "execution_count": 44,
   "metadata": {
    "collapsed": false
   },
   "outputs": [],
   "source": [
    "import rpy2.robjects.lib.ggplot2 as ggplot2\n",
    "from rpy2.robjects.packages import importr, data"
   ]
  },
  {
   "cell_type": "code",
   "execution_count": 45,
   "metadata": {
    "collapsed": true
   },
   "outputs": [],
   "source": [
    "base, datasets = importr('base'), importr('datasets')\n",
    "mtcars = data(datasets).fetch('mtcars')['mtcars']"
   ]
  },
  {
   "cell_type": "code",
   "execution_count": 46,
   "metadata": {
    "collapsed": false
   },
   "outputs": [
    {
     "data": {
      "text/plain": [
       "<IntVector - Python:0x1078d9560 / R:0x7fb1f98b0d48>\n",
       "[       1]"
      ]
     },
     "execution_count": 46,
     "metadata": {},
     "output_type": "execute_result"
    }
   ],
   "source": [
    "grdevices = importr('grDevices')\n",
    "grdevices.png(file=\"/Users/bshur/Downloads/file.png\", width=512, height=512)\n",
    "\n",
    "pp = ggplot2.ggplot(mtcars) + \\\n",
    "     ggplot2.aes_string(x='wt', y='mpg', col='factor(cyl)') + \\\n",
    "     ggplot2.geom_point() + \\\n",
    "     ggplot2.geom_smooth(ggplot2.aes_string(group = 'cyl'),\n",
    "                         method = 'lm')\n",
    "pp.plot()\n",
    "\n",
    "grdevices.dev_off()"
   ]
  },
  {
   "cell_type": "markdown",
   "metadata": {},
   "source": [
    "Linear modeling\n",
    "------"
   ]
  },
  {
   "cell_type": "code",
   "execution_count": 47,
   "metadata": {
    "collapsed": false
   },
   "outputs": [
    {
     "name": "stdout",
     "output_type": "stream",
     "text": [
      "Analysis of Variance Table\n",
      "\n",
      "Response: weight\n",
      "          Df Sum Sq Mean Sq F value Pr(>F)\n",
      "group      1 0.6882 0.68820  1.4191  0.249\n",
      "Residuals 18 8.7292 0.48496               \n",
      "\n",
      "\n",
      "Call:\n",
      "function (formula, data, subset, weights, na.action, method = \"qr\", \n",
      "    model = TRUE, x = FALSE, y = FALSE, qr = TRUE, singular.ok = TRUE, \n",
      "    contrasts = NULL, offset, ...) \n",
      "{\n",
      "    ret.x <- x\n",
      "    ret.y <- y\n",
      "    cl <- match.call()\n",
      "    mf <- match.call(expand.dots = FALSE)\n",
      "    m <- match(c(\"formula\", \"data\", \"subset\", \"weights\", \"na.action\", \n",
      "        \"offset\"), names(mf), 0L)\n",
      "    mf <- mf[c(1L, m)]\n",
      "    mf$drop.unused.levels <- TRUE\n",
      "    mf[[1L]] <- as.name(\"model.frame\")\n",
      "    mf <- eval(mf, parent.frame())\n",
      "    if (method == \"model.frame\") \n",
      "        return(mf)\n",
      "    else if (method != \"qr\") \n",
      "        warning(gettextf(\"method = '%s' is not supported. Using 'qr'\", \n",
      "            method), domain = NA)\n",
      "    mt <- attr(mf, \"terms\")\n",
      "    y <- model.response(mf, \"numeric\")\n",
      "    w <- as.vector(model.weights(mf))\n",
      "    if (!is.null(w) && !is.numeric(w)) \n",
      "        stop(\"'weights' must be a numeric vector\")\n",
      "    offset <- as.vector(model.offset(mf))\n",
      "    if (!is.null(offset)) {\n",
      "        if (length(offset) != NROW(y)) \n",
      "            stop(gettextf(\"number of offsets is %d, should equal %d (number of observations)\", \n",
      "                length(offset), NROW(y)), domain = NA)\n",
      "    }\n",
      "    if (is.empty.model(mt)) {\n",
      "        x <- NULL\n",
      "        z <- list(coefficients = if (is.matrix(y)) matrix(, 0, \n",
      "            3) else numeric(), residuals = y, fitted.values = 0 * \n",
      "            y, weights = w, rank = 0L, df.residual = if (!is.null(w)) sum(w != \n",
      "            0) else if (is.matrix(y)) nrow(y) else length(y))\n",
      "        if (!is.null(offset)) {\n",
      "            z$fitted.values <- offset\n",
      "            z$residuals <- y - offset\n",
      "        }\n",
      "    }\n",
      "    else {\n",
      "        x <- model.matrix(mt, mf, contrasts)\n",
      "        z <- if (is.null(w)) \n",
      "            lm.fit(x, y, offset = offset, singular.ok = singular.ok, \n",
      "                ...)\n",
      "        else lm.wfit(x, y, w, offset = offset, singular.ok = singular.ok, \n",
      "            ...)\n",
      "    }\n",
      "    class(z) <- c(if (is.matrix(y)) \"mlm\", \"lm\")\n",
      "    z$na.action <- attr(mf, \"na.action\")\n",
      "    z$offset <- offset\n",
      "    z$contrasts <- attr(x, \"contrasts\")\n",
      "    z$xlevels <- .getXlevels(mt, mf)\n",
      "    z$call <- cl\n",
      "    z$terms <- mt\n",
      "    if (model) \n",
      "        z$model <- mf\n",
      "    if (ret.x) \n",
      "        z$x <- x\n",
      "    if (ret.y) \n",
      "        z$y <- y\n",
      "    if (!qr) \n",
      "        z$qr <- NULL\n",
      "    z\n",
      "}(formula = \"weight ~ group - 1\")\n",
      "\n",
      "Residuals:\n",
      "    Min      1Q  Median      3Q     Max \n",
      "-1.0710 -0.4938  0.0685  0.2462  1.3690 \n",
      "\n",
      "Coefficients:\n",
      "         Estimate Std. Error t value Pr(>|t|)    \n",
      "groupCtl   5.0320     0.2202   22.85 9.55e-15 ***\n",
      "groupTrt   4.6610     0.2202   21.16 3.62e-14 ***\n",
      "---\n",
      "Signif. codes:  0 ‘***’ 0.001 ‘**’ 0.01 ‘*’ 0.05 ‘.’ 0.1 ‘ ’ 1 \n",
      "\n",
      "Residual standard error: 0.6964 on 18 degrees of freedom\n",
      "Multiple R-squared: 0.9818,\tAdjusted R-squared: 0.9798 \n",
      "F-statistic: 485.1 on 2 and 18 DF,  p-value: < 2.2e-16 \n",
      "\n",
      "\n"
     ]
    }
   ],
   "source": [
    "from rpy2.robjects import FloatVector\n",
    "from rpy2.robjects.packages import importr\n",
    "stats = importr('stats')\n",
    "base = importr('base')\n",
    "\n",
    "ctl = FloatVector([4.17,5.58,5.18,6.11,4.50,4.61,5.17,4.53,5.33,5.14])\n",
    "trt = FloatVector([4.81,4.17,4.41,3.59,5.87,3.83,6.03,4.89,4.32,4.69])\n",
    "group = base.gl(2, 10, 20, labels = [\"Ctl\",\"Trt\"])\n",
    "weight = ctl + trt\n",
    "\n",
    "robjects.globalenv[\"weight\"] = weight\n",
    "robjects.globalenv[\"group\"] = group\n",
    "lm_D9 = stats.lm(\"weight ~ group\")\n",
    "print(stats.anova(lm_D9))\n",
    "\n",
    "# omitting the intercept\n",
    "lm_D90 = stats.lm(\"weight ~ group - 1\")\n",
    "print(base.summary(lm_D90))"
   ]
  }
 ],
 "metadata": {
  "kernelspec": {
   "display_name": "Python 2",
   "language": "python",
   "name": "python2"
  },
  "language_info": {
   "codemirror_mode": {
    "name": "ipython",
    "version": 2
   },
   "file_extension": ".py",
   "mimetype": "text/x-python",
   "name": "python",
   "nbconvert_exporter": "python",
   "pygments_lexer": "ipython2",
   "version": "2.7.6"
  }
 },
 "nbformat": 4,
 "nbformat_minor": 0
}
