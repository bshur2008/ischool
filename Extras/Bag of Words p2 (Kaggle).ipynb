{
 "metadata": {
  "name": "Bag of Words p2 (Kaggle)"
 },
 "nbformat": 3,
 "nbformat_minor": 0,
 "worksheets": [
  {
   "cells": [
    {
     "cell_type": "markdown",
     "metadata": {},
     "source": [
      "[Part 2: Word Vectors](https://www.kaggle.com/c/word2vec-nlp-tutorial/details/part-2-word-vectors)\n",
      "=================\n",
      "\n",
      "Description:\n",
      "----------\n",
      "\n",
      "This tutorial uses distributed word vectors created by the [Word2Vec algorithm](https://code.google.com/p/word2vec/), via Google.\n"
     ]
    },
    {
     "cell_type": "code",
     "collapsed": false,
     "input": [],
     "language": "python",
     "metadata": {},
     "outputs": []
    }
   ],
   "metadata": {}
  }
 ]
}