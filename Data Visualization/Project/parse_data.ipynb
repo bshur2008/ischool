{
 "cells": [
  {
   "cell_type": "markdown",
   "metadata": {},
   "source": [
    "#### load libraries"
   ]
  },
  {
   "cell_type": "code",
   "execution_count": 1,
   "metadata": {
    "collapsed": false
   },
   "outputs": [
    {
     "name": "stderr",
     "output_type": "stream",
     "text": [
      ":0: FutureWarning: IPython widgets are experimental and may change in the future.\n"
     ]
    }
   ],
   "source": [
    "import pandas as pd\n",
    "import numpy as np\n",
    "import seaborn as sns\n",
    "%matplotlib inline\n",
    "from matplotlib import pylab\n",
    "pylab.rcParams['figure.figsize'] = (10.0, 8.0)"
   ]
  },
  {
   "cell_type": "markdown",
   "metadata": {},
   "source": [
    "#### declare arguments"
   ]
  },
  {
   "cell_type": "code",
   "execution_count": 2,
   "metadata": {
    "collapsed": false
   },
   "outputs": [],
   "source": [
    "## Demographics ## \n",
    "ppagecat = {1:'18-24',2:'25-34',3:'35-44',4:'45-54',5:'55-64',6:'65-74',7:'75+',99:'Under 18'}\n",
    "ppeducat = {-2:'Not asked',-1:'REFUSED'\n",
    "            ,1:'Less than high school'\n",
    "            ,2:'High school'\n",
    "            ,3:'Some college'\n",
    "            ,4:'Bachelor\\'s degree or higher'}\n",
    "ppgender = {-2:'Not asked',-1:'REFUSED',1:'Male',2:'Female'}\n",
    "ppincimp = {-2:'Not asked',-1:'REFUSED'\n",
    "            ,1 :'<$5,000'\n",
    "            ,2 :'$5,000 to $7,499'\n",
    "            ,3 :'$7,500 to $9,999'\n",
    "            ,4 :'$10,000 to $12,499'\n",
    "            ,5 :'$12,500 to $14,999'\n",
    "            ,6 :'$15,000 to $19,999'\n",
    "            ,7 :'$20,000 to $24,999'\n",
    "            ,8 :'$25,000 to $29,999'\n",
    "            ,9 :'$30,000 to $34,999'\n",
    "            ,10: '$35,000 to $39,999'\n",
    "            ,11: '$40,000 to $49,999'\n",
    "            ,12: '$50,000 to $59,999'\n",
    "            ,13: '$60,000 to $74,999'\n",
    "            ,14: '$75,000 to $84,999'\n",
    "            ,15: '$85,000 to $99,999'\n",
    "            ,16: '$100,000 to $124,999'\n",
    "            ,17: '$125,000 to $149,999'\n",
    "            ,18: '$150,000 to $174,999'\n",
    "            ,19: '>=$175,000'}\n",
    "ppmarit =  {-2: 'Not asked'\n",
    "            ,-1: 'REFUSED'\n",
    "            ,1 :'Married'\n",
    "            ,2 :'Widowed'\n",
    "            ,3 :'Divorced'\n",
    "            ,4 :'Separated'\n",
    "            ,5: 'Never married'\n",
    "            ,6: 'Living with partner'}\n",
    "ppreg9 = {1: 'New England'\n",
    "            ,2: 'Mid-Atlantic'\n",
    "            ,3: 'East-North Central'\n",
    "            ,4: 'West-North Central' \n",
    "            ,5: 'South Atlantic'\n",
    "            ,6: 'East-South Central' \n",
    "            ,7: 'West-South Central'\n",
    "            ,8: 'Mountain'\n",
    "            ,9: 'Pacific'}\n",
    "core_par = {-2:'Not asked'\n",
    "            ,-1: 'Refused'\n",
    "            ,0: 'No'\n",
    "            ,1: 'Yes'}\n",
    "ppstaten = {-2: 'Not asked'\n",
    "            ,-1: 'REFUSED'\n",
    "            ,11: 'ME'\n",
    "            ,12: 'NH' \n",
    "            ,13: 'VT' \n",
    "            ,14: 'MA' \n",
    "            ,15: 'RI' \n",
    "            ,16: 'CT' \n",
    "            ,21: 'NY' \n",
    "            ,22: 'NJ' \n",
    "            ,23: 'PA' \n",
    "            ,31: 'OH' \n",
    "            ,32: 'IN'\n",
    "            ,33: 'IL' \n",
    "            ,34: 'MI' \n",
    "            ,35: 'WI' \n",
    "            ,41: 'MN' \n",
    "            ,42: 'IA' \n",
    "            ,43: 'MO' \n",
    "            ,44: 'ND' \n",
    "            ,45: 'SD' \n",
    "            ,46: 'NE' \n",
    "            ,47: 'KS' \n",
    "            ,51: 'DE' \n",
    "            ,52: 'MD' \n",
    "            ,53: 'DC' \n",
    "            ,54: 'VA' \n",
    "            ,55: 'WV' \n",
    "            ,56: 'NC' \n",
    "            ,57: 'SC' \n",
    "            ,58: 'GA' \n",
    "            ,59: 'FL' \n",
    "            ,61: 'KY' \n",
    "            ,62: 'TN' \n",
    "            ,63: 'AL' \n",
    "            ,64: 'MS' \n",
    "            ,71: 'AR' \n",
    "            ,72: 'LA' \n",
    "            ,73: 'OK' \n",
    "            ,74: 'TX' \n",
    "            ,81: 'MT' \n",
    "            ,82: 'ID' \n",
    "            ,83: 'WY' \n",
    "            ,84: 'CO'\n",
    "            ,85: 'NM' \n",
    "            ,86: 'AZ' \n",
    "            ,87: 'UT' \n",
    "            ,88: 'NV' \n",
    "            ,91: 'WA' \n",
    "            ,92: 'OR' \n",
    "            ,93: 'CA' \n",
    "            ,94: 'AK' \n",
    "            ,95: 'HI' \n",
    "            ,96: 'AS' \n",
    "            ,97: 'GU' \n",
    "            ,98: 'PR' \n",
    "            ,99: 'VI'}\n",
    "\n",
    "\n",
    "## Questions ##\n",
    "#DPES11\n",
    "format_question = lambda x: '_'.join(x.lower().split())\n",
    "\n",
    "DPES11= format_question('I develop strong emotions toward people I can rely on')\n",
    "DPES11_DICT = {-1:'Refused'\n",
    "                ,1: 'Strongly disagree'\n",
    "                ,2: 'Disagree'\n",
    "                ,3: 'Somewhat disagree'\n",
    "                ,4: 'Neither agree nor disagree'\n",
    "                ,5: 'Somewhat agree'\n",
    "                ,6: 'Agree'\n",
    "                ,7: 'Strongly agree'}\n",
    "\n",
    "L9 = format_question('Parents should empower children as much as possible so that they may follow their dreams')\n",
    "L9_DICT = DPES11_DICT\n",
    "\n",
    "EPQ1 = format_question('Moral standards should be seen as individualistic what one person considers to be moral may be judged as immoral by another person')\n",
    "EPQ1_DICT = {-1:'Refused'\n",
    "                ,1: 'Strongly agree'\n",
    "                ,2: 'Agree'\n",
    "                ,3: 'Somewhat agree'\n",
    "                ,4: 'Neither agree nor disagree'             \n",
    "                ,5: 'Somewhat disagree'\n",
    "                ,6: 'Disagree'\n",
    "                ,7: 'Strongly disagree'}"
   ]
  },
  {
   "cell_type": "markdown",
   "metadata": {},
   "source": [
    "#### parse data"
   ]
  },
  {
   "cell_type": "code",
   "execution_count": 3,
   "metadata": {
    "collapsed": false
   },
   "outputs": [
    {
     "data": {
      "text/html": [
       "<div>\n",
       "<table border=\"1\" class=\"dataframe\">\n",
       "  <thead>\n",
       "    <tr style=\"text-align: right;\">\n",
       "      <th></th>\n",
       "      <th>CaseID</th>\n",
       "      <th>weight</th>\n",
       "      <th>tm_start</th>\n",
       "      <th>tm_finish</th>\n",
       "      <th>duration</th>\n",
       "      <th>C1</th>\n",
       "      <th>C2</th>\n",
       "      <th>C3</th>\n",
       "      <th>I1</th>\n",
       "      <th>I2</th>\n",
       "      <th>...</th>\n",
       "      <th>pppa0097</th>\n",
       "      <th>pppa0098</th>\n",
       "      <th>pppa0099</th>\n",
       "      <th>pppa0100</th>\n",
       "      <th>pppa0101</th>\n",
       "      <th>pppa0102</th>\n",
       "      <th>partyid7</th>\n",
       "      <th>pppa0005</th>\n",
       "      <th>pppa0006</th>\n",
       "      <th>ppp20072</th>\n",
       "    </tr>\n",
       "  </thead>\n",
       "  <tbody>\n",
       "    <tr>\n",
       "      <th>0</th>\n",
       "      <td>2</td>\n",
       "      <td>1.05</td>\n",
       "      <td>3/10/2012</td>\n",
       "      <td>3/10/2012</td>\n",
       "      <td>46</td>\n",
       "      <td>3</td>\n",
       "      <td>3</td>\n",
       "      <td>3</td>\n",
       "      <td>2</td>\n",
       "      <td>3</td>\n",
       "      <td>...</td>\n",
       "      <td>0</td>\n",
       "      <td>0</td>\n",
       "      <td>0</td>\n",
       "      <td>0</td>\n",
       "      <td>0</td>\n",
       "      <td>0</td>\n",
       "      <td>3</td>\n",
       "      <td>1</td>\n",
       "      <td>2</td>\n",
       "      <td>5</td>\n",
       "    </tr>\n",
       "    <tr>\n",
       "      <th>1</th>\n",
       "      <td>3</td>\n",
       "      <td>2.60</td>\n",
       "      <td>3/10/2012</td>\n",
       "      <td>3/10/2012</td>\n",
       "      <td>39</td>\n",
       "      <td>4</td>\n",
       "      <td>2</td>\n",
       "      <td>3</td>\n",
       "      <td>1</td>\n",
       "      <td>2</td>\n",
       "      <td>...</td>\n",
       "      <td>0</td>\n",
       "      <td>0</td>\n",
       "      <td>0</td>\n",
       "      <td>0</td>\n",
       "      <td>1</td>\n",
       "      <td>0</td>\n",
       "      <td>5</td>\n",
       "      <td>1</td>\n",
       "      <td>1</td>\n",
       "      <td>5</td>\n",
       "    </tr>\n",
       "    <tr>\n",
       "      <th>2</th>\n",
       "      <td>4</td>\n",
       "      <td>0.69</td>\n",
       "      <td>3/10/2012</td>\n",
       "      <td>3/11/2012</td>\n",
       "      <td>1453</td>\n",
       "      <td>3</td>\n",
       "      <td>3</td>\n",
       "      <td>4</td>\n",
       "      <td>4</td>\n",
       "      <td>3</td>\n",
       "      <td>...</td>\n",
       "      <td>0</td>\n",
       "      <td>0</td>\n",
       "      <td>0</td>\n",
       "      <td>0</td>\n",
       "      <td>0</td>\n",
       "      <td>0</td>\n",
       "      <td>2</td>\n",
       "      <td>1</td>\n",
       "      <td>2</td>\n",
       "      <td>1</td>\n",
       "    </tr>\n",
       "    <tr>\n",
       "      <th>3</th>\n",
       "      <td>5</td>\n",
       "      <td>1.74</td>\n",
       "      <td>3/10/2012</td>\n",
       "      <td>3/10/2012</td>\n",
       "      <td>45</td>\n",
       "      <td>5</td>\n",
       "      <td>1</td>\n",
       "      <td>4</td>\n",
       "      <td>3</td>\n",
       "      <td>3</td>\n",
       "      <td>...</td>\n",
       "      <td>1</td>\n",
       "      <td>0</td>\n",
       "      <td>0</td>\n",
       "      <td>0</td>\n",
       "      <td>1</td>\n",
       "      <td>0</td>\n",
       "      <td>7</td>\n",
       "      <td>1</td>\n",
       "      <td>1</td>\n",
       "      <td>5</td>\n",
       "    </tr>\n",
       "    <tr>\n",
       "      <th>4</th>\n",
       "      <td>6</td>\n",
       "      <td>2.43</td>\n",
       "      <td>3/10/2012</td>\n",
       "      <td>3/10/2012</td>\n",
       "      <td>26</td>\n",
       "      <td>4</td>\n",
       "      <td>4</td>\n",
       "      <td>4</td>\n",
       "      <td>2</td>\n",
       "      <td>2</td>\n",
       "      <td>...</td>\n",
       "      <td>0</td>\n",
       "      <td>0</td>\n",
       "      <td>0</td>\n",
       "      <td>0</td>\n",
       "      <td>0</td>\n",
       "      <td>0</td>\n",
       "      <td>7</td>\n",
       "      <td>1</td>\n",
       "      <td>1</td>\n",
       "      <td>6</td>\n",
       "    </tr>\n",
       "  </tbody>\n",
       "</table>\n",
       "<p>5 rows × 451 columns</p>\n",
       "</div>"
      ],
      "text/plain": [
       "   CaseID  weight   tm_start  tm_finish  duration  C1  C2  C3  I1  I2  \\\n",
       "0       2    1.05  3/10/2012  3/10/2012        46   3   3   3   2   3   \n",
       "1       3    2.60  3/10/2012  3/10/2012        39   4   2   3   1   2   \n",
       "2       4    0.69  3/10/2012  3/11/2012      1453   3   3   4   4   3   \n",
       "3       5    1.74  3/10/2012  3/10/2012        45   5   1   4   3   3   \n",
       "4       6    2.43  3/10/2012  3/10/2012        26   4   4   4   2   2   \n",
       "\n",
       "     ...     pppa0097  pppa0098  pppa0099  pppa0100  pppa0101  pppa0102  \\\n",
       "0    ...            0         0         0         0         0         0   \n",
       "1    ...            0         0         0         0         1         0   \n",
       "2    ...            0         0         0         0         0         0   \n",
       "3    ...            1         0         0         0         1         0   \n",
       "4    ...            0         0         0         0         0         0   \n",
       "\n",
       "   partyid7  pppa0005  pppa0006  ppp20072  \n",
       "0         3         1         2         5  \n",
       "1         5         1         1         5  \n",
       "2         2         1         2         1  \n",
       "3         7         1         1         5  \n",
       "4         7         1         1         6  \n",
       "\n",
       "[5 rows x 451 columns]"
      ]
     },
     "execution_count": 3,
     "metadata": {},
     "output_type": "execute_result"
    }
   ],
   "source": [
    "surveys = pd.read_csv('MMdata_merged.csv')\n",
    "surveys.head()"
   ]
  },
  {
   "cell_type": "code",
   "execution_count": 4,
   "metadata": {
    "collapsed": false
   },
   "outputs": [
    {
     "data": {
      "text/plain": [
       "(1519, 451)"
      ]
     },
     "execution_count": 4,
     "metadata": {},
     "output_type": "execute_result"
    }
   ],
   "source": [
    "surveys.shape"
   ]
  },
  {
   "cell_type": "code",
   "execution_count": 5,
   "metadata": {
    "collapsed": false
   },
   "outputs": [],
   "source": [
    "new_surveys = pd.DataFrame(surveys[['weight','tm_start','tm_finish','duration']],index=surveys['CaseID'])"
   ]
  },
  {
   "cell_type": "code",
   "execution_count": 6,
   "metadata": {
    "collapsed": false
   },
   "outputs": [],
   "source": [
    "# Demographics\n",
    "new_surveys['age_category'] = surveys['ppagecat'].apply(lambda x: ppagecat[x])\n",
    "new_surveys['education_level'] = surveys['PPEDUCAT'].apply(lambda x: ppeducat[x])\n",
    "new_surveys['gender'] = surveys['PPGENDER'].apply(lambda x: ppgender[x])\n",
    "new_surveys['income_level'] = surveys['PPINCIMP'].apply(lambda x: ppincimp[x])\n",
    "new_surveys['marital_status'] = surveys['PPMARIT'].apply(lambda x: ppmarit[x])\n",
    "new_surveys['region'] = surveys['ppreg9'].apply(lambda x: ppreg9[x])\n",
    "new_surveys['is_parent'] = surveys['core_par'].apply(lambda x: core_par[x])\n",
    "new_surveys['state'] = surveys['PPSTATEN'].apply(lambda x: ppstaten[x])\n",
    "\n",
    "# Survey questions\n",
    "new_surveys[DPES11+'_num'] = surveys['DPES11']\n",
    "new_surveys[DPES11] = surveys['DPES11'].apply(lambda x: DPES11_DICT[x])\n",
    "new_surveys[L9+'_num'] = surveys['L9']\n",
    "new_surveys[L9] = surveys['L9'].apply(lambda x: L9_DICT[x])\n",
    "new_surveys[EPQ1+'_num'] = surveys['EPQ1']\n",
    "new_surveys[EPQ1] = surveys['EPQ1'].apply(lambda x: EPQ1_DICT[x])"
   ]
  },
  {
   "cell_type": "code",
   "execution_count": 7,
   "metadata": {
    "collapsed": false
   },
   "outputs": [
    {
     "data": {
      "text/html": [
       "<div>\n",
       "<table border=\"1\" class=\"dataframe\">\n",
       "  <thead>\n",
       "    <tr style=\"text-align: right;\">\n",
       "      <th></th>\n",
       "      <th>weight</th>\n",
       "      <th>tm_start</th>\n",
       "      <th>tm_finish</th>\n",
       "      <th>duration</th>\n",
       "      <th>age_category</th>\n",
       "      <th>education_level</th>\n",
       "      <th>gender</th>\n",
       "      <th>income_level</th>\n",
       "      <th>marital_status</th>\n",
       "      <th>region</th>\n",
       "      <th>is_parent</th>\n",
       "      <th>state</th>\n",
       "      <th>i_develop_strong_emotions_toward_people_i_can_rely_on_num</th>\n",
       "      <th>i_develop_strong_emotions_toward_people_i_can_rely_on</th>\n",
       "      <th>parents_should_empower_children_as_much_as_possible_so_that_they_may_follow_their_dreams_num</th>\n",
       "      <th>parents_should_empower_children_as_much_as_possible_so_that_they_may_follow_their_dreams</th>\n",
       "      <th>moral_standards_should_be_seen_as_individualistic_what_one_person_considers_to_be_moral_may_be_judged_as_immoral_by_another_person_num</th>\n",
       "      <th>moral_standards_should_be_seen_as_individualistic_what_one_person_considers_to_be_moral_may_be_judged_as_immoral_by_another_person</th>\n",
       "    </tr>\n",
       "    <tr>\n",
       "      <th>CaseID</th>\n",
       "      <th></th>\n",
       "      <th></th>\n",
       "      <th></th>\n",
       "      <th></th>\n",
       "      <th></th>\n",
       "      <th></th>\n",
       "      <th></th>\n",
       "      <th></th>\n",
       "      <th></th>\n",
       "      <th></th>\n",
       "      <th></th>\n",
       "      <th></th>\n",
       "      <th></th>\n",
       "      <th></th>\n",
       "      <th></th>\n",
       "      <th></th>\n",
       "      <th></th>\n",
       "      <th></th>\n",
       "    </tr>\n",
       "  </thead>\n",
       "  <tbody>\n",
       "    <tr>\n",
       "      <th>2</th>\n",
       "      <td>0.69</td>\n",
       "      <td>3/10/2012</td>\n",
       "      <td>3/11/2012</td>\n",
       "      <td>1453</td>\n",
       "      <td>25-34</td>\n",
       "      <td>High school</td>\n",
       "      <td>Female</td>\n",
       "      <td>$12,500 to $14,999</td>\n",
       "      <td>Married</td>\n",
       "      <td>Pacific</td>\n",
       "      <td>Yes</td>\n",
       "      <td>WA</td>\n",
       "      <td>3</td>\n",
       "      <td>Somewhat disagree</td>\n",
       "      <td>5</td>\n",
       "      <td>Somewhat agree</td>\n",
       "      <td>4</td>\n",
       "      <td>Neither agree nor disagree</td>\n",
       "    </tr>\n",
       "    <tr>\n",
       "      <th>3</th>\n",
       "      <td>1.74</td>\n",
       "      <td>3/10/2012</td>\n",
       "      <td>3/10/2012</td>\n",
       "      <td>45</td>\n",
       "      <td>35-44</td>\n",
       "      <td>Bachelor's degree or higher</td>\n",
       "      <td>Female</td>\n",
       "      <td>&gt;=$175,000</td>\n",
       "      <td>Married</td>\n",
       "      <td>South Atlantic</td>\n",
       "      <td>Yes</td>\n",
       "      <td>NC</td>\n",
       "      <td>6</td>\n",
       "      <td>Agree</td>\n",
       "      <td>7</td>\n",
       "      <td>Strongly agree</td>\n",
       "      <td>5</td>\n",
       "      <td>Somewhat disagree</td>\n",
       "    </tr>\n",
       "    <tr>\n",
       "      <th>4</th>\n",
       "      <td>2.43</td>\n",
       "      <td>3/10/2012</td>\n",
       "      <td>3/10/2012</td>\n",
       "      <td>26</td>\n",
       "      <td>35-44</td>\n",
       "      <td>Some college</td>\n",
       "      <td>Female</td>\n",
       "      <td>$75,000 to $84,999</td>\n",
       "      <td>Never married</td>\n",
       "      <td>Mountain</td>\n",
       "      <td>No</td>\n",
       "      <td>NV</td>\n",
       "      <td>6</td>\n",
       "      <td>Agree</td>\n",
       "      <td>6</td>\n",
       "      <td>Agree</td>\n",
       "      <td>4</td>\n",
       "      <td>Neither agree nor disagree</td>\n",
       "    </tr>\n",
       "    <tr>\n",
       "      <th>5</th>\n",
       "      <td>2.72</td>\n",
       "      <td>3/10/2012</td>\n",
       "      <td>3/10/2012</td>\n",
       "      <td>25</td>\n",
       "      <td>35-44</td>\n",
       "      <td>Bachelor's degree or higher</td>\n",
       "      <td>Female</td>\n",
       "      <td>$75,000 to $84,999</td>\n",
       "      <td>Married</td>\n",
       "      <td>East-North Central</td>\n",
       "      <td>Yes</td>\n",
       "      <td>WI</td>\n",
       "      <td>5</td>\n",
       "      <td>Somewhat agree</td>\n",
       "      <td>6</td>\n",
       "      <td>Agree</td>\n",
       "      <td>7</td>\n",
       "      <td>Strongly disagree</td>\n",
       "    </tr>\n",
       "    <tr>\n",
       "      <th>6</th>\n",
       "      <td>0.42</td>\n",
       "      <td>3/10/2012</td>\n",
       "      <td>3/10/2012</td>\n",
       "      <td>207</td>\n",
       "      <td>45-54</td>\n",
       "      <td>Some college</td>\n",
       "      <td>Female</td>\n",
       "      <td>$50,000 to $59,999</td>\n",
       "      <td>Married</td>\n",
       "      <td>East-North Central</td>\n",
       "      <td>No</td>\n",
       "      <td>MI</td>\n",
       "      <td>5</td>\n",
       "      <td>Somewhat agree</td>\n",
       "      <td>7</td>\n",
       "      <td>Strongly agree</td>\n",
       "      <td>6</td>\n",
       "      <td>Disagree</td>\n",
       "    </tr>\n",
       "  </tbody>\n",
       "</table>\n",
       "</div>"
      ],
      "text/plain": [
       "        weight   tm_start  tm_finish  duration age_category  \\\n",
       "CaseID                                                        \n",
       "2         0.69  3/10/2012  3/11/2012      1453        25-34   \n",
       "3         1.74  3/10/2012  3/10/2012        45        35-44   \n",
       "4         2.43  3/10/2012  3/10/2012        26        35-44   \n",
       "5         2.72  3/10/2012  3/10/2012        25        35-44   \n",
       "6         0.42  3/10/2012  3/10/2012       207        45-54   \n",
       "\n",
       "                    education_level  gender        income_level  \\\n",
       "CaseID                                                            \n",
       "2                       High school  Female  $12,500 to $14,999   \n",
       "3       Bachelor's degree or higher  Female          >=$175,000   \n",
       "4                      Some college  Female  $75,000 to $84,999   \n",
       "5       Bachelor's degree or higher  Female  $75,000 to $84,999   \n",
       "6                      Some college  Female  $50,000 to $59,999   \n",
       "\n",
       "       marital_status              region is_parent state  \\\n",
       "CaseID                                                      \n",
       "2             Married             Pacific       Yes    WA   \n",
       "3             Married      South Atlantic       Yes    NC   \n",
       "4       Never married            Mountain        No    NV   \n",
       "5             Married  East-North Central       Yes    WI   \n",
       "6             Married  East-North Central        No    MI   \n",
       "\n",
       "        i_develop_strong_emotions_toward_people_i_can_rely_on_num  \\\n",
       "CaseID                                                              \n",
       "2                                                       3           \n",
       "3                                                       6           \n",
       "4                                                       6           \n",
       "5                                                       5           \n",
       "6                                                       5           \n",
       "\n",
       "       i_develop_strong_emotions_toward_people_i_can_rely_on  \\\n",
       "CaseID                                                         \n",
       "2                                       Somewhat disagree      \n",
       "3                                                   Agree      \n",
       "4                                                   Agree      \n",
       "5                                          Somewhat agree      \n",
       "6                                          Somewhat agree      \n",
       "\n",
       "        parents_should_empower_children_as_much_as_possible_so_that_they_may_follow_their_dreams_num  \\\n",
       "CaseID                                                                                                 \n",
       "2                                                       5                                              \n",
       "3                                                       7                                              \n",
       "4                                                       6                                              \n",
       "5                                                       6                                              \n",
       "6                                                       7                                              \n",
       "\n",
       "       parents_should_empower_children_as_much_as_possible_so_that_they_may_follow_their_dreams  \\\n",
       "CaseID                                                                                            \n",
       "2                                          Somewhat agree                                         \n",
       "3                                          Strongly agree                                         \n",
       "4                                                   Agree                                         \n",
       "5                                                   Agree                                         \n",
       "6                                          Strongly agree                                         \n",
       "\n",
       "        moral_standards_should_be_seen_as_individualistic_what_one_person_considers_to_be_moral_may_be_judged_as_immoral_by_another_person_num  \\\n",
       "CaseID                                                                                                                                           \n",
       "2                                                       4                                                                                        \n",
       "3                                                       5                                                                                        \n",
       "4                                                       4                                                                                        \n",
       "5                                                       7                                                                                        \n",
       "6                                                       6                                                                                        \n",
       "\n",
       "       moral_standards_should_be_seen_as_individualistic_what_one_person_considers_to_be_moral_may_be_judged_as_immoral_by_another_person  \n",
       "CaseID                                                                                                                                     \n",
       "2                              Neither agree nor disagree                                                                                  \n",
       "3                                       Somewhat disagree                                                                                  \n",
       "4                              Neither agree nor disagree                                                                                  \n",
       "5                                       Strongly disagree                                                                                  \n",
       "6                                                Disagree                                                                                  "
      ]
     },
     "execution_count": 7,
     "metadata": {},
     "output_type": "execute_result"
    }
   ],
   "source": [
    "new_surveys.head()"
   ]
  },
  {
   "cell_type": "code",
   "execution_count": 8,
   "metadata": {
    "collapsed": true
   },
   "outputs": [],
   "source": [
    "new_surveys.to_csv('duke_surveys_subset.csv', index=True )"
   ]
  },
  {
   "cell_type": "code",
   "execution_count": 15,
   "metadata": {
    "collapsed": true
   },
   "outputs": [],
   "source": [
    "insert_values = 'insert into surveys_survey (state, weight, gender, i_develop_strong_emotions_toward_people_i_can_rely_on, parents_should_empower_children_as_much_as_possible_so_that_they_may_follow_their_dreams, moral_standards_should_be_seen_as_individualistic_what_one_person_considers_to_be_moral_may_be_judged_as_immoral_by_another_person) values '"
   ]
  },
  {
   "cell_type": "code",
   "execution_count": 20,
   "metadata": {
    "collapsed": false
   },
   "outputs": [],
   "source": [
    "new_surveys['insert_statement'] = insert_values\\\n",
    "+'(\\''+new_surveys['state']+'\\''\\\n",
    "+','+new_surveys['weight'].astype('string')\\\n",
    "+',\\''+new_surveys['gender']+'\\''\\\n",
    "+','+new_surveys['i_develop_strong_emotions_toward_people_i_can_rely_on_num'].astype('string')\\\n",
    "+','+new_surveys['parents_should_empower_children_as_much_as_possible_so_that_they_may_follow_their_dreams_num'].astype('string')\\\n",
    "+','+new_surveys['moral_standards_should_be_seen_as_individualistic_what_one_person_considers_to_be_moral_may_be_judged_as_immoral_by_another_person_num'].astype('string')+');'\\"
   ]
  },
  {
   "cell_type": "code",
   "execution_count": 21,
   "metadata": {
    "collapsed": false
   },
   "outputs": [],
   "source": [
    "new_surveys['insert_statement'].to_csv('inserts.sql',index=False)"
   ]
  },
  {
   "cell_type": "markdown",
   "metadata": {},
   "source": [
    "#### show data slices"
   ]
  },
  {
   "cell_type": "code",
   "execution_count": 13,
   "metadata": {
    "collapsed": false
   },
   "outputs": [],
   "source": [
    "hm2 = hm.reset_index(level=0).reset_index(level=0)"
   ]
  },
  {
   "cell_type": "code",
   "execution_count": 14,
   "metadata": {
    "collapsed": false
   },
   "outputs": [
    {
     "data": {
      "text/html": [
       "<div>\n",
       "<table border=\"1\" class=\"dataframe\">\n",
       "  <thead>\n",
       "    <tr style=\"text-align: right;\">\n",
       "      <th></th>\n",
       "      <th>age_category</th>\n",
       "      <th>income_level</th>\n",
       "      <th>0</th>\n",
       "    </tr>\n",
       "  </thead>\n",
       "  <tbody>\n",
       "    <tr>\n",
       "      <th>0</th>\n",
       "      <td>18-24</td>\n",
       "      <td>$10,000 to $12,499</td>\n",
       "      <td>3</td>\n",
       "    </tr>\n",
       "    <tr>\n",
       "      <th>1</th>\n",
       "      <td>25-34</td>\n",
       "      <td>$10,000 to $12,499</td>\n",
       "      <td>5</td>\n",
       "    </tr>\n",
       "    <tr>\n",
       "      <th>2</th>\n",
       "      <td>35-44</td>\n",
       "      <td>$10,000 to $12,499</td>\n",
       "      <td>3</td>\n",
       "    </tr>\n",
       "    <tr>\n",
       "      <th>3</th>\n",
       "      <td>45-54</td>\n",
       "      <td>$10,000 to $12,499</td>\n",
       "      <td>8</td>\n",
       "    </tr>\n",
       "    <tr>\n",
       "      <th>4</th>\n",
       "      <td>55-64</td>\n",
       "      <td>$10,000 to $12,499</td>\n",
       "      <td>11</td>\n",
       "    </tr>\n",
       "  </tbody>\n",
       "</table>\n",
       "</div>"
      ],
      "text/plain": [
       "  age_category        income_level   0\n",
       "0        18-24  $10,000 to $12,499   3\n",
       "1        25-34  $10,000 to $12,499   5\n",
       "2        35-44  $10,000 to $12,499   3\n",
       "3        45-54  $10,000 to $12,499   8\n",
       "4        55-64  $10,000 to $12,499  11"
      ]
     },
     "execution_count": 14,
     "metadata": {},
     "output_type": "execute_result"
    }
   ],
   "source": [
    "hm2.head()"
   ]
  },
  {
   "cell_type": "code",
   "execution_count": 9,
   "metadata": {
    "collapsed": false
   },
   "outputs": [
    {
     "ename": "TypeError",
     "evalue": "Cannot reset_index inplace on a Series to create a DataFrame",
     "output_type": "error",
     "traceback": [
      "\u001b[0;31m---------------------------------------------------------------------------\u001b[0m",
      "\u001b[0;31mTypeError\u001b[0m                                 Traceback (most recent call last)",
      "\u001b[0;32m<ipython-input-9-34868b60145b>\u001b[0m in \u001b[0;36m<module>\u001b[0;34m()\u001b[0m\n\u001b[1;32m      1\u001b[0m \u001b[0mhm\u001b[0m \u001b[0;34m=\u001b[0m \u001b[0mnew_surveys\u001b[0m\u001b[0;34m[\u001b[0m\u001b[0;34m[\u001b[0m\u001b[0;34m'income_level'\u001b[0m\u001b[0;34m,\u001b[0m\u001b[0;34m'age_category'\u001b[0m\u001b[0;34m]\u001b[0m\u001b[0;34m]\u001b[0m\u001b[0;34m.\u001b[0m\u001b[0mgroupby\u001b[0m\u001b[0;34m(\u001b[0m\u001b[0;34m[\u001b[0m\u001b[0;34m'income_level'\u001b[0m\u001b[0;34m,\u001b[0m\u001b[0;34m'age_category'\u001b[0m\u001b[0;34m]\u001b[0m\u001b[0;34m)\u001b[0m\u001b[0;34m.\u001b[0m\u001b[0msize\u001b[0m\u001b[0;34m(\u001b[0m\u001b[0;34m)\u001b[0m\u001b[0;34m\u001b[0m\u001b[0m\n\u001b[0;32m----> 2\u001b[0;31m \u001b[0mhm\u001b[0m\u001b[0;34m.\u001b[0m\u001b[0mreset_index\u001b[0m\u001b[0;34m(\u001b[0m\u001b[0mlevel\u001b[0m\u001b[0;34m=\u001b[0m\u001b[0;36m0\u001b[0m\u001b[0;34m,\u001b[0m \u001b[0minplace\u001b[0m\u001b[0;34m=\u001b[0m\u001b[0mTrue\u001b[0m\u001b[0;34m)\u001b[0m\u001b[0;34m\u001b[0m\u001b[0m\n\u001b[0m\u001b[1;32m      3\u001b[0m \u001b[0msns\u001b[0m\u001b[0;34m.\u001b[0m\u001b[0mheatmap\u001b[0m\u001b[0;34m(\u001b[0m\u001b[0mhm\u001b[0m\u001b[0;34m)\u001b[0m\u001b[0;34m\u001b[0m\u001b[0m\n",
      "\u001b[0;32m/Library/Python/2.7/site-packages/pandas/core/series.pyc\u001b[0m in \u001b[0;36mreset_index\u001b[0;34m(self, level, drop, name, inplace)\u001b[0m\n\u001b[1;32m    935\u001b[0m                                          index=new_index).__finalize__(self)\n\u001b[1;32m    936\u001b[0m         \u001b[0;32melif\u001b[0m \u001b[0minplace\u001b[0m\u001b[0;34m:\u001b[0m\u001b[0;34m\u001b[0m\u001b[0m\n\u001b[0;32m--> 937\u001b[0;31m             raise TypeError('Cannot reset_index inplace on a Series '\n\u001b[0m\u001b[1;32m    938\u001b[0m                             'to create a DataFrame')\n\u001b[1;32m    939\u001b[0m         \u001b[0;32melse\u001b[0m\u001b[0;34m:\u001b[0m\u001b[0;34m\u001b[0m\u001b[0m\n",
      "\u001b[0;31mTypeError\u001b[0m: Cannot reset_index inplace on a Series to create a DataFrame"
     ]
    }
   ],
   "source": [
    "hm = new_surveys[['income_level','age_category']].groupby(['income_level','age_category']).size()\n",
    "hm.reset_index(level=0, inplace=True)\n",
    "sns.heatmap(hm)"
   ]
  },
  {
   "cell_type": "code",
   "execution_count": 12,
   "metadata": {
    "collapsed": false
   },
   "outputs": [
    {
     "name": "stderr",
     "output_type": "stream",
     "text": [
      "/Library/Python/2.7/site-packages/matplotlib/collections.py:590: FutureWarning: elementwise comparison failed; returning scalar instead, but in the future will perform elementwise comparison\n",
      "  if self._edgecolors == str('face'):\n"
     ]
    },
    {
     "data": {
      "image/png": "[encoded data removed]",
      "text/plain": [
       "<matplotlib.figure.Figure at 0x10a57f5d0>"
      ]
     },
     "metadata": {},
     "output_type": "display_data"
    }
   ],
   "source": [
    "sns.swarmplot(x=\"weight\", y=\"age_category\", data=new_surveys);"
   ]
  },
  {
   "cell_type": "code",
   "execution_count": 10,
   "metadata": {
    "collapsed": false
   },
   "outputs": [
    {
     "data": {
      "text/plain": [
       "<matplotlib.axes._subplots.AxesSubplot at 0x10698f590>"
      ]
     },
     "execution_count": 10,
     "metadata": {},
     "output_type": "execute_result"
    },
    {
     "data": {
      "image/png": "[encoded data removed]",
      "text/plain": [
       "<matplotlib.figure.Figure at 0x10699b3d0>"
      ]
     },
     "metadata": {},
     "output_type": "display_data"
    }
   ],
   "source": [
    "sns.countplot(x=\"region\", data=new_surveys, palette=\"Greens_d\")"
   ]
  },
  {
   "cell_type": "code",
   "execution_count": 11,
   "metadata": {
    "collapsed": false
   },
   "outputs": [
    {
     "data": {
      "text/plain": [
       "<matplotlib.axes._subplots.AxesSubplot at 0x106d0d4d0>"
      ]
     },
     "execution_count": 11,
     "metadata": {},
     "output_type": "execute_result"
    },
    {
     "data": {
      "image/png": "[encoded data removed]",
      "text/plain": [
       "<matplotlib.figure.Figure at 0x106d17390>"
      ]
     },
     "metadata": {},
     "output_type": "display_data"
    }
   ],
   "source": [
    "sns.countplot(x=\"marital_status\", hue=\"gender\", data=new_surveys, palette=\"Greens_d\")"
   ]
  },
  {
   "cell_type": "code",
   "execution_count": 12,
   "metadata": {
    "collapsed": false
   },
   "outputs": [
    {
     "data": {
      "image/png": "[encoded data removed]",
      "text/plain": [
       "<matplotlib.figure.Figure at 0x106d51290>"
      ]
     },
     "metadata": {},
     "output_type": "display_data"
    }
   ],
   "source": [
    "sns.violinplot(x=new_surveys.region, y=new_surveys.i_develop_strong_emotions_toward_people_i_can_rely_on_num*new_surveys.weight);"
   ]
  },
  {
   "cell_type": "code",
   "execution_count": 213,
   "metadata": {
    "collapsed": false
   },
   "outputs": [],
   "source": [
    "import json\n",
    "TEMPLATE = '''\n",
    "var {name} = new Datamap({{\n",
    "  scope: 'usa',\n",
    "  element: document.getElementById('{name}'),\n",
    "  geographyConfig: {{\n",
    "    highlightBorderColor: '#bada55',\n",
    "    popupTemplate: function(geography, data) {{\n",
    "      return '<div class=\"hoverinfo\"><strong>' + geography.properties.name + '</strong>' +\n",
    "          '<br />Strongly Agree: ' +  data.stronglyAgree + \n",
    "          '<br />Agree: ' +  data.agree + \n",
    "          '<br />Somewhat agree: ' + data.somewhatAgree +\n",
    "          '<br />Neither agree nor disagree: ' + data.neitherAgreeNorDisagree +\n",
    "          '<br />Somewhat disagree: ' + data.somewhatDisagree +\n",
    "          '<br />Disagree: ' + data.disagree +\n",
    "          '<br />Strongly disagree: ' + data.stronglyDisagree +\n",
    "          '<br />Refused: ' + data.refused + ' </div>'\n",
    "    }},\n",
    "    highlightBorderWidth: 3\n",
    "  }},\n",
    "\n",
    "  fills: {{\n",
    "  'Strongly agree': '#5BC3F7',\n",
    "  'Agree': '#51B9ED',\n",
    "  'Somewhat agree': '#5185ED',\n",
    "  'Neither agree nor disagree': '#6B51ED',\n",
    "  'Somewhat disagree': '#FFD5A1',\n",
    "  'Disagree ': '#FFC18D', \n",
    "  'Strongly disagree': '#E37B47',\n",
    "  'Refused ': '#B6B6B4',     \n",
    "  defaultFill: '#B6B6B4'\n",
    "}},\n",
    "data:{data}\n",
    "}});\n",
    "{name}.labels();\n",
    "'''"
   ]
  },
  {
   "cell_type": "code",
   "execution_count": 214,
   "metadata": {
    "collapsed": false
   },
   "outputs": [],
   "source": [
    "def make_d3_code(question, key):\n",
    "    q = question\n",
    "    \n",
    "    # gather states \n",
    "    states = [ s for s in set(new_surveys['state'].values) if str(s)!='nan']\n",
    "    \n",
    "    # start output dict \n",
    "    data = {}\n",
    "    \n",
    "    # create dictionary for each state with results \n",
    "    for s in states:\n",
    "        state_dict = {}\n",
    "        \n",
    "        # filter values for state surveys \n",
    "        df_state = new_surveys[new_surveys['state'] == s]\n",
    "        ind = df_state[q].value_counts().index\n",
    "        vals = df_state[q].value_counts().values\n",
    "        ind_vals = zip(ind, vals)\n",
    "        fillkey = ind[0]\n",
    "        if len(ind)>2:\n",
    "            if ind[0] == ind[1]:\n",
    "                if ind[0] == 'Refused':\n",
    "                    fillkey = ind[1]\n",
    "        state_dict[s] = {'fillKey':fillkey}\n",
    "        \n",
    "        # create key-value for survey answers \n",
    "        mapped_ind = map(lambda x: {key[x[0]]:x[1]},zip(ind,vals))\n",
    "        for k in mapped_ind:\n",
    "            state_dict[s].update(k)\n",
    "        \n",
    "        # fill missing values with zeros \n",
    "        missing = [ k for k in key.values() if k not in state_dict[s] ]\n",
    "        for m in missing:\n",
    "            state_dict[s].update({m:0})\n",
    "        data[s] = state_dict[s]\n",
    "    return data"
   ]
  },
  {
   "cell_type": "code",
   "execution_count": 215,
   "metadata": {
    "collapsed": true
   },
   "outputs": [],
   "source": [
    "key = {\n",
    "    'Strongly agree':'stronglyAgree'\n",
    "   , 'Agree':'agree'\n",
    "   , 'Somewhat agree':'somewhatAgree'\n",
    "   , 'Neither agree nor disagree':'neitherAgreeNorDisagree'\n",
    "   , 'Somewhat disagree':'somewhatDisagree'\n",
    "   , 'Disagree':'disagree'\n",
    "   , 'Strongly disagree':'stronglyDisagree'\n",
    "   , 'Refused':'refused'\n",
    "}\n",
    "i_develop_strong_emotions_toward_people_i_can_rely_on = \\\n",
    "    make_d3_code('i_develop_strong_emotions_toward_people_i_can_rely_on', key)\n",
    "parents_should_empower_children_as_much_as_possible_so_that_they_may_follow_their_dreams = \\\n",
    "    make_d3_code('parents_should_empower_children_as_much_as_possible_so_that_they_may_follow_their_dreams', key)\n",
    "moral_standards_should_be_seen_as_individualistic_what_one_person_considers_to_be_moral_may_be_judged_as_immoral_by_another_person = \\\n",
    "    make_d3_code('moral_standards_should_be_seen_as_individualistic_what_one_person_considers_to_be_moral_may_be_judged_as_immoral_by_another_person', key)"
   ]
  },
  {
   "cell_type": "code",
   "execution_count": 216,
   "metadata": {
    "collapsed": false
   },
   "outputs": [],
   "source": [
    "q1_d3 = TEMPLATE.format(name='resultmap_q1'\n",
    "                        , data=json.dumps(i_develop_strong_emotions_toward_people_i_can_rely_on))\n",
    "q2_d3 = TEMPLATE.format(name='resultmap_q2'\n",
    "                        , data=json.dumps(parents_should_empower_children_as_much_as_possible_so_that_they_may_follow_their_dreams))\n",
    "q3_d3 = TEMPLATE.format(name='resultmap_q3'\n",
    "                        , data=json.dumps(moral_standards_should_be_seen_as_individualistic_what_one_person_considers_to_be_moral_may_be_judged_as_immoral_by_another_person))"
   ]
  },
  {
   "cell_type": "code",
   "execution_count": 217,
   "metadata": {
    "collapsed": false
   },
   "outputs": [],
   "source": [
    "with open('q1_d3.txt','w') as w:\n",
    "    print >>w, q1_d3\n",
    "with open('q2_d3.txt','w') as w:\n",
    "    print >>w, q2_d3\n",
    "with open('q3_d3.txt','w') as w:\n",
    "    print >>w, q3_d3"
   ]
  },
  {
   "cell_type": "code",
   "execution_count": null,
   "metadata": {
    "collapsed": true
   },
   "outputs": [],
   "source": []
  }
 ],
 "metadata": {
  "kernelspec": {
   "display_name": "Python 2",
   "language": "python",
   "name": "python2"
  },
  "language_info": {
   "codemirror_mode": {
    "name": "ipython",
    "version": 2
   },
   "file_extension": ".py",
   "mimetype": "text/x-python",
   "name": "python",
   "nbconvert_exporter": "python",
   "pygments_lexer": "ipython2",
   "version": "2.7.10"
  }
 },
 "nbformat": 4,
 "nbformat_minor": 0
}
