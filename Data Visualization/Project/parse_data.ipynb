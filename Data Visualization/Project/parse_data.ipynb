{
 "cells": [
  {
   "cell_type": "markdown",
   "metadata": {},
   "source": [
    "#### load libraries"
   ]
  },
  {
   "cell_type": "code",
   "execution_count": 114,
   "metadata": {
    "collapsed": false
   },
   "outputs": [],
   "source": [
    "import pandas as pd\n",
    "import numpy as np\n",
    "import seaborn as sns\n",
    "%matplotlib inline\n",
    "from matplotlib import pylab\n",
    "pylab.rcParams['figure.figsize'] = (10.0, 8.0)"
   ]
  },
  {
   "cell_type": "markdown",
   "metadata": {},
   "source": [
    "#### declare arguments"
   ]
  },
  {
   "cell_type": "code",
   "execution_count": 115,
   "metadata": {
    "collapsed": false
   },
   "outputs": [],
   "source": [
    "## Demographics ## \n",
    "ppagecat = {1:'18-24',2:'25-34',3:'35-44',4:'45-54',5:'55-64',6:'65-74',7:'75+',99:'Under 18'}\n",
    "ppeducat = {-2:'Not asked',-1:'REFUSED'\n",
    "            ,1:'Less than high school'\n",
    "            ,2:'High school'\n",
    "            ,3:'Some college'\n",
    "            ,4:'Bachelor\\'s degree or higher'}\n",
    "ppgender = {-2:'Not asked',-1:'REFUSED',1:'Male',2:'Female'}\n",
    "ppincimp = {-2:'Not asked',-1:'REFUSED'\n",
    "            ,1 :'<$5,000'\n",
    "            ,2 :'$5,000 to $7,499'\n",
    "            ,3 :'$7,500 to $9,999'\n",
    "            ,4 :'$10,000 to $12,499'\n",
    "            ,5 :'$12,500 to $14,999'\n",
    "            ,6 :'$15,000 to $19,999'\n",
    "            ,7 :'$20,000 to $24,999'\n",
    "            ,8 :'$25,000 to $29,999'\n",
    "            ,9 :'$30,000 to $34,999'\n",
    "            ,10: '$35,000 to $39,999'\n",
    "            ,11: '$40,000 to $49,999'\n",
    "            ,12: '$50,000 to $59,999'\n",
    "            ,13: '$60,000 to $74,999'\n",
    "            ,14: '$75,000 to $84,999'\n",
    "            ,15: '$85,000 to $99,999'\n",
    "            ,16: '$100,000 to $124,999'\n",
    "            ,17: '$125,000 to $149,999'\n",
    "            ,18: '$150,000 to $174,999'\n",
    "            ,19: '>=$175,000'}\n",
    "ppmarit =  {-2: 'Not asked'\n",
    "            ,-1: 'REFUSED'\n",
    "            ,1 :'Married'\n",
    "            ,2 :'Widowed'\n",
    "            ,3 :'Divorced'\n",
    "            ,4 :'Separated'\n",
    "            ,5: 'Never married'\n",
    "            ,6: 'Living with partner'}\n",
    "ppreg9 = {1: 'New England'\n",
    "            ,2: 'Mid-Atlantic'\n",
    "            ,3: 'East-North Central'\n",
    "            ,4: 'West-North Central' \n",
    "            ,5: 'South Atlantic'\n",
    "            ,6: 'East-South Central' \n",
    "            ,7: 'West-South Central'\n",
    "            ,8: 'Mountain'\n",
    "            ,9: 'Pacific'}\n",
    "core_par = {-2:'Not asked'\n",
    "            ,-1: 'Refused'\n",
    "            ,0: 'No'\n",
    "            ,1: 'Yes'}\n",
    "\n",
    "## Questions ##\n",
    "#DPES11\n",
    "format_question = lambda x: '_'.join(x.lower().split())\n",
    "\n",
    "DPES11= format_question('I develop strong emotions toward people I can rely on')\n",
    "DPES11_DICT = {-1:'Refused'\n",
    "                ,1: 'Strongly disagree'\n",
    "                ,2: 'Disagree'\n",
    "                ,3: 'Somewhat disagree'\n",
    "                ,4: 'Neither agree nor disagree'\n",
    "                ,5: 'Somewhat agree'\n",
    "                ,6: 'Agree'\n",
    "                ,7: 'Strongly agree'}\n",
    "\n",
    "L9 = format_question('Parents should empower children as much as possible so that they may follow their dreams')\n",
    "L9_DICT = DPES11_DICT\n",
    "\n",
    "EPQ1 = format_question('Moral standards should be seen as individualistic what one person considers to be moral may be judged as immoral by another person')\n",
    "EPQ1_DICT = {-1:'Refused'\n",
    "                ,1: 'Strongly agree'\n",
    "                ,2: 'Agree'\n",
    "                ,3: 'Somewhat agree'\n",
    "                ,4: 'Neither agree/disagree'             \n",
    "                ,5: 'Somewhat disagree'\n",
    "                ,6: 'Disagree'\n",
    "                ,7: 'Strongly disagree'}"
   ]
  },
  {
   "cell_type": "markdown",
   "metadata": {},
   "source": [
    "#### parse data"
   ]
  },
  {
   "cell_type": "code",
   "execution_count": 116,
   "metadata": {
    "collapsed": false
   },
   "outputs": [
    {
     "data": {
      "text/html": [
       "<div>\n",
       "<table border=\"1\" class=\"dataframe\">\n",
       "  <thead>\n",
       "    <tr style=\"text-align: right;\">\n",
       "      <th></th>\n",
       "      <th>CaseID</th>\n",
       "      <th>weight</th>\n",
       "      <th>tm_start</th>\n",
       "      <th>tm_finish</th>\n",
       "      <th>duration</th>\n",
       "      <th>C1</th>\n",
       "      <th>C2</th>\n",
       "      <th>C3</th>\n",
       "      <th>I1</th>\n",
       "      <th>I2</th>\n",
       "      <th>...</th>\n",
       "      <th>pppa0097</th>\n",
       "      <th>pppa0098</th>\n",
       "      <th>pppa0099</th>\n",
       "      <th>pppa0100</th>\n",
       "      <th>pppa0101</th>\n",
       "      <th>pppa0102</th>\n",
       "      <th>partyid7</th>\n",
       "      <th>pppa0005</th>\n",
       "      <th>pppa0006</th>\n",
       "      <th>ppp20072</th>\n",
       "    </tr>\n",
       "  </thead>\n",
       "  <tbody>\n",
       "    <tr>\n",
       "      <th>0</th>\n",
       "      <td>2</td>\n",
       "      <td>1.05</td>\n",
       "      <td>3/10/2012</td>\n",
       "      <td>3/10/2012</td>\n",
       "      <td>46</td>\n",
       "      <td>3</td>\n",
       "      <td>3</td>\n",
       "      <td>3</td>\n",
       "      <td>2</td>\n",
       "      <td>3</td>\n",
       "      <td>...</td>\n",
       "      <td>0</td>\n",
       "      <td>0</td>\n",
       "      <td>0</td>\n",
       "      <td>0</td>\n",
       "      <td>0</td>\n",
       "      <td>0</td>\n",
       "      <td>3</td>\n",
       "      <td>1</td>\n",
       "      <td>2</td>\n",
       "      <td>5</td>\n",
       "    </tr>\n",
       "    <tr>\n",
       "      <th>1</th>\n",
       "      <td>3</td>\n",
       "      <td>2.60</td>\n",
       "      <td>3/10/2012</td>\n",
       "      <td>3/10/2012</td>\n",
       "      <td>39</td>\n",
       "      <td>4</td>\n",
       "      <td>2</td>\n",
       "      <td>3</td>\n",
       "      <td>1</td>\n",
       "      <td>2</td>\n",
       "      <td>...</td>\n",
       "      <td>0</td>\n",
       "      <td>0</td>\n",
       "      <td>0</td>\n",
       "      <td>0</td>\n",
       "      <td>1</td>\n",
       "      <td>0</td>\n",
       "      <td>5</td>\n",
       "      <td>1</td>\n",
       "      <td>1</td>\n",
       "      <td>5</td>\n",
       "    </tr>\n",
       "    <tr>\n",
       "      <th>2</th>\n",
       "      <td>4</td>\n",
       "      <td>0.69</td>\n",
       "      <td>3/10/2012</td>\n",
       "      <td>3/11/2012</td>\n",
       "      <td>1453</td>\n",
       "      <td>3</td>\n",
       "      <td>3</td>\n",
       "      <td>4</td>\n",
       "      <td>4</td>\n",
       "      <td>3</td>\n",
       "      <td>...</td>\n",
       "      <td>0</td>\n",
       "      <td>0</td>\n",
       "      <td>0</td>\n",
       "      <td>0</td>\n",
       "      <td>0</td>\n",
       "      <td>0</td>\n",
       "      <td>2</td>\n",
       "      <td>1</td>\n",
       "      <td>2</td>\n",
       "      <td>1</td>\n",
       "    </tr>\n",
       "    <tr>\n",
       "      <th>3</th>\n",
       "      <td>5</td>\n",
       "      <td>1.74</td>\n",
       "      <td>3/10/2012</td>\n",
       "      <td>3/10/2012</td>\n",
       "      <td>45</td>\n",
       "      <td>5</td>\n",
       "      <td>1</td>\n",
       "      <td>4</td>\n",
       "      <td>3</td>\n",
       "      <td>3</td>\n",
       "      <td>...</td>\n",
       "      <td>1</td>\n",
       "      <td>0</td>\n",
       "      <td>0</td>\n",
       "      <td>0</td>\n",
       "      <td>1</td>\n",
       "      <td>0</td>\n",
       "      <td>7</td>\n",
       "      <td>1</td>\n",
       "      <td>1</td>\n",
       "      <td>5</td>\n",
       "    </tr>\n",
       "    <tr>\n",
       "      <th>4</th>\n",
       "      <td>6</td>\n",
       "      <td>2.43</td>\n",
       "      <td>3/10/2012</td>\n",
       "      <td>3/10/2012</td>\n",
       "      <td>26</td>\n",
       "      <td>4</td>\n",
       "      <td>4</td>\n",
       "      <td>4</td>\n",
       "      <td>2</td>\n",
       "      <td>2</td>\n",
       "      <td>...</td>\n",
       "      <td>0</td>\n",
       "      <td>0</td>\n",
       "      <td>0</td>\n",
       "      <td>0</td>\n",
       "      <td>0</td>\n",
       "      <td>0</td>\n",
       "      <td>7</td>\n",
       "      <td>1</td>\n",
       "      <td>1</td>\n",
       "      <td>6</td>\n",
       "    </tr>\n",
       "  </tbody>\n",
       "</table>\n",
       "<p>5 rows × 451 columns</p>\n",
       "</div>"
      ],
      "text/plain": [
       "   CaseID  weight   tm_start  tm_finish  duration  C1  C2  C3  I1  I2  \\\n",
       "0       2    1.05  3/10/2012  3/10/2012        46   3   3   3   2   3   \n",
       "1       3    2.60  3/10/2012  3/10/2012        39   4   2   3   1   2   \n",
       "2       4    0.69  3/10/2012  3/11/2012      1453   3   3   4   4   3   \n",
       "3       5    1.74  3/10/2012  3/10/2012        45   5   1   4   3   3   \n",
       "4       6    2.43  3/10/2012  3/10/2012        26   4   4   4   2   2   \n",
       "\n",
       "     ...     pppa0097  pppa0098  pppa0099  pppa0100  pppa0101  pppa0102  \\\n",
       "0    ...            0         0         0         0         0         0   \n",
       "1    ...            0         0         0         0         1         0   \n",
       "2    ...            0         0         0         0         0         0   \n",
       "3    ...            1         0         0         0         1         0   \n",
       "4    ...            0         0         0         0         0         0   \n",
       "\n",
       "   partyid7  pppa0005  pppa0006  ppp20072  \n",
       "0         3         1         2         5  \n",
       "1         5         1         1         5  \n",
       "2         2         1         2         1  \n",
       "3         7         1         1         5  \n",
       "4         7         1         1         6  \n",
       "\n",
       "[5 rows x 451 columns]"
      ]
     },
     "execution_count": 116,
     "metadata": {},
     "output_type": "execute_result"
    }
   ],
   "source": [
    "surveys = pd.read_csv('MMdata_merged.csv')\n",
    "surveys.head()"
   ]
  },
  {
   "cell_type": "code",
   "execution_count": 117,
   "metadata": {
    "collapsed": false
   },
   "outputs": [
    {
     "data": {
      "text/plain": [
       "(1519, 451)"
      ]
     },
     "execution_count": 117,
     "metadata": {},
     "output_type": "execute_result"
    }
   ],
   "source": [
    "surveys.shape"
   ]
  },
  {
   "cell_type": "code",
   "execution_count": 118,
   "metadata": {
    "collapsed": false
   },
   "outputs": [],
   "source": [
    "new_surveys = pd.DataFrame(surveys[['weight','tm_start','tm_finish','duration']],index=surveys['CaseID'])"
   ]
  },
  {
   "cell_type": "code",
   "execution_count": 119,
   "metadata": {
    "collapsed": false
   },
   "outputs": [],
   "source": [
    "# Demographics\n",
    "new_surveys['age_category'] = surveys['ppagecat'].apply(lambda x: ppagecat[x])\n",
    "new_surveys['education_level'] = surveys['PPEDUCAT'].apply(lambda x: ppeducat[x])\n",
    "new_surveys['gender'] = surveys['PPGENDER'].apply(lambda x: ppgender[x])\n",
    "new_surveys['income_level'] = surveys['PPINCIMP'].apply(lambda x: ppincimp[x])\n",
    "new_surveys['marital_status'] = surveys['PPMARIT'].apply(lambda x: ppmarit[x])\n",
    "new_surveys['region'] = surveys['ppreg9'].apply(lambda x: ppreg9[x])\n",
    "new_surveys['is_parent'] = surveys['core_par'].apply(lambda x: core_par[x])\n",
    "\n",
    "# Survey questions\n",
    "new_surveys[DPES11+'_num'] = surveys['DPES11']\n",
    "new_surveys[DPES11] = surveys['DPES11'].apply(lambda x: DPES11_DICT[x])\n",
    "new_surveys[L9+'_num'] = surveys['L9']\n",
    "new_surveys[L9] = surveys['L9'].apply(lambda x: L9_DICT[x])\n",
    "new_surveys[EPQ1+'_num'] = surveys['EPQ1']\n",
    "new_surveys[EPQ1] = surveys['EPQ1'].apply(lambda x: EPQ1_DICT[x])"
   ]
  },
  {
   "cell_type": "code",
   "execution_count": 120,
   "metadata": {
    "collapsed": false
   },
   "outputs": [
    {
     "data": {
      "text/html": [
       "<div>\n",
       "<table border=\"1\" class=\"dataframe\">\n",
       "  <thead>\n",
       "    <tr style=\"text-align: right;\">\n",
       "      <th></th>\n",
       "      <th>weight</th>\n",
       "      <th>tm_start</th>\n",
       "      <th>tm_finish</th>\n",
       "      <th>duration</th>\n",
       "      <th>age_category</th>\n",
       "      <th>education_level</th>\n",
       "      <th>gender</th>\n",
       "      <th>income_level</th>\n",
       "      <th>marital_status</th>\n",
       "      <th>region</th>\n",
       "      <th>is_parent</th>\n",
       "      <th>i_develop_strong_emotions_toward_people_i_can_rely_on_num</th>\n",
       "      <th>i_develop_strong_emotions_toward_people_i_can_rely_on</th>\n",
       "      <th>parents_should_empower_children_as_much_as_possible_so_that_they_may_follow_their_dreams_num</th>\n",
       "      <th>parents_should_empower_children_as_much_as_possible_so_that_they_may_follow_their_dreams</th>\n",
       "      <th>moral_standards_should_be_seen_as_individualistic_what_one_person_considers_to_be_moral_may_be_judged_as_immoral_by_another_person_num</th>\n",
       "      <th>moral_standards_should_be_seen_as_individualistic_what_one_person_considers_to_be_moral_may_be_judged_as_immoral_by_another_person</th>\n",
       "    </tr>\n",
       "    <tr>\n",
       "      <th>CaseID</th>\n",
       "      <th></th>\n",
       "      <th></th>\n",
       "      <th></th>\n",
       "      <th></th>\n",
       "      <th></th>\n",
       "      <th></th>\n",
       "      <th></th>\n",
       "      <th></th>\n",
       "      <th></th>\n",
       "      <th></th>\n",
       "      <th></th>\n",
       "      <th></th>\n",
       "      <th></th>\n",
       "      <th></th>\n",
       "      <th></th>\n",
       "      <th></th>\n",
       "      <th></th>\n",
       "    </tr>\n",
       "  </thead>\n",
       "  <tbody>\n",
       "    <tr>\n",
       "      <th>2</th>\n",
       "      <td>0.69</td>\n",
       "      <td>3/10/2012</td>\n",
       "      <td>3/11/2012</td>\n",
       "      <td>1453</td>\n",
       "      <td>25-34</td>\n",
       "      <td>High school</td>\n",
       "      <td>Female</td>\n",
       "      <td>$12,500 to $14,999</td>\n",
       "      <td>Married</td>\n",
       "      <td>Pacific</td>\n",
       "      <td>Yes</td>\n",
       "      <td>3</td>\n",
       "      <td>Somewhat disagree</td>\n",
       "      <td>5</td>\n",
       "      <td>Somewhat agree</td>\n",
       "      <td>4</td>\n",
       "      <td>Neither agree/disagree</td>\n",
       "    </tr>\n",
       "    <tr>\n",
       "      <th>3</th>\n",
       "      <td>1.74</td>\n",
       "      <td>3/10/2012</td>\n",
       "      <td>3/10/2012</td>\n",
       "      <td>45</td>\n",
       "      <td>35-44</td>\n",
       "      <td>Bachelor's degree or higher</td>\n",
       "      <td>Female</td>\n",
       "      <td>&gt;=$175,000</td>\n",
       "      <td>Married</td>\n",
       "      <td>South Atlantic</td>\n",
       "      <td>Yes</td>\n",
       "      <td>6</td>\n",
       "      <td>Agree</td>\n",
       "      <td>7</td>\n",
       "      <td>Strongly agree</td>\n",
       "      <td>5</td>\n",
       "      <td>Somewhat disagree</td>\n",
       "    </tr>\n",
       "    <tr>\n",
       "      <th>4</th>\n",
       "      <td>2.43</td>\n",
       "      <td>3/10/2012</td>\n",
       "      <td>3/10/2012</td>\n",
       "      <td>26</td>\n",
       "      <td>35-44</td>\n",
       "      <td>Some college</td>\n",
       "      <td>Female</td>\n",
       "      <td>$75,000 to $84,999</td>\n",
       "      <td>Never married</td>\n",
       "      <td>Mountain</td>\n",
       "      <td>No</td>\n",
       "      <td>6</td>\n",
       "      <td>Agree</td>\n",
       "      <td>6</td>\n",
       "      <td>Agree</td>\n",
       "      <td>4</td>\n",
       "      <td>Neither agree/disagree</td>\n",
       "    </tr>\n",
       "    <tr>\n",
       "      <th>5</th>\n",
       "      <td>2.72</td>\n",
       "      <td>3/10/2012</td>\n",
       "      <td>3/10/2012</td>\n",
       "      <td>25</td>\n",
       "      <td>35-44</td>\n",
       "      <td>Bachelor's degree or higher</td>\n",
       "      <td>Female</td>\n",
       "      <td>$75,000 to $84,999</td>\n",
       "      <td>Married</td>\n",
       "      <td>East-North Central</td>\n",
       "      <td>Yes</td>\n",
       "      <td>5</td>\n",
       "      <td>Somewhat agree</td>\n",
       "      <td>6</td>\n",
       "      <td>Agree</td>\n",
       "      <td>7</td>\n",
       "      <td>Strongly disagree</td>\n",
       "    </tr>\n",
       "    <tr>\n",
       "      <th>6</th>\n",
       "      <td>0.42</td>\n",
       "      <td>3/10/2012</td>\n",
       "      <td>3/10/2012</td>\n",
       "      <td>207</td>\n",
       "      <td>45-54</td>\n",
       "      <td>Some college</td>\n",
       "      <td>Female</td>\n",
       "      <td>$50,000 to $59,999</td>\n",
       "      <td>Married</td>\n",
       "      <td>East-North Central</td>\n",
       "      <td>No</td>\n",
       "      <td>5</td>\n",
       "      <td>Somewhat agree</td>\n",
       "      <td>7</td>\n",
       "      <td>Strongly agree</td>\n",
       "      <td>6</td>\n",
       "      <td>Disagree</td>\n",
       "    </tr>\n",
       "  </tbody>\n",
       "</table>\n",
       "</div>"
      ],
      "text/plain": [
       "        weight   tm_start  tm_finish  duration age_category  \\\n",
       "CaseID                                                        \n",
       "2         0.69  3/10/2012  3/11/2012      1453        25-34   \n",
       "3         1.74  3/10/2012  3/10/2012        45        35-44   \n",
       "4         2.43  3/10/2012  3/10/2012        26        35-44   \n",
       "5         2.72  3/10/2012  3/10/2012        25        35-44   \n",
       "6         0.42  3/10/2012  3/10/2012       207        45-54   \n",
       "\n",
       "                    education_level  gender        income_level  \\\n",
       "CaseID                                                            \n",
       "2                       High school  Female  $12,500 to $14,999   \n",
       "3       Bachelor's degree or higher  Female          >=$175,000   \n",
       "4                      Some college  Female  $75,000 to $84,999   \n",
       "5       Bachelor's degree or higher  Female  $75,000 to $84,999   \n",
       "6                      Some college  Female  $50,000 to $59,999   \n",
       "\n",
       "       marital_status              region is_parent  \\\n",
       "CaseID                                                \n",
       "2             Married             Pacific       Yes   \n",
       "3             Married      South Atlantic       Yes   \n",
       "4       Never married            Mountain        No   \n",
       "5             Married  East-North Central       Yes   \n",
       "6             Married  East-North Central        No   \n",
       "\n",
       "        i_develop_strong_emotions_toward_people_i_can_rely_on_num  \\\n",
       "CaseID                                                              \n",
       "2                                                       3           \n",
       "3                                                       6           \n",
       "4                                                       6           \n",
       "5                                                       5           \n",
       "6                                                       5           \n",
       "\n",
       "       i_develop_strong_emotions_toward_people_i_can_rely_on  \\\n",
       "CaseID                                                         \n",
       "2                                       Somewhat disagree      \n",
       "3                                                   Agree      \n",
       "4                                                   Agree      \n",
       "5                                          Somewhat agree      \n",
       "6                                          Somewhat agree      \n",
       "\n",
       "        parents_should_empower_children_as_much_as_possible_so_that_they_may_follow_their_dreams_num  \\\n",
       "CaseID                                                                                                 \n",
       "2                                                       5                                              \n",
       "3                                                       7                                              \n",
       "4                                                       6                                              \n",
       "5                                                       6                                              \n",
       "6                                                       7                                              \n",
       "\n",
       "       parents_should_empower_children_as_much_as_possible_so_that_they_may_follow_their_dreams  \\\n",
       "CaseID                                                                                            \n",
       "2                                          Somewhat agree                                         \n",
       "3                                          Strongly agree                                         \n",
       "4                                                   Agree                                         \n",
       "5                                                   Agree                                         \n",
       "6                                          Strongly agree                                         \n",
       "\n",
       "        moral_standards_should_be_seen_as_individualistic_what_one_person_considers_to_be_moral_may_be_judged_as_immoral_by_another_person_num  \\\n",
       "CaseID                                                                                                                                           \n",
       "2                                                       4                                                                                        \n",
       "3                                                       5                                                                                        \n",
       "4                                                       4                                                                                        \n",
       "5                                                       7                                                                                        \n",
       "6                                                       6                                                                                        \n",
       "\n",
       "       moral_standards_should_be_seen_as_individualistic_what_one_person_considers_to_be_moral_may_be_judged_as_immoral_by_another_person  \n",
       "CaseID                                                                                                                                     \n",
       "2                                  Neither agree/disagree                                                                                  \n",
       "3                                       Somewhat disagree                                                                                  \n",
       "4                                  Neither agree/disagree                                                                                  \n",
       "5                                       Strongly disagree                                                                                  \n",
       "6                                                Disagree                                                                                  "
      ]
     },
     "execution_count": 120,
     "metadata": {},
     "output_type": "execute_result"
    }
   ],
   "source": [
    "new_surveys.head()"
   ]
  },
  {
   "cell_type": "code",
   "execution_count": 121,
   "metadata": {
    "collapsed": true
   },
   "outputs": [],
   "source": [
    "new_surveys.to_csv('duke_surveys_subset.csv', index=True )"
   ]
  },
  {
   "cell_type": "markdown",
   "metadata": {},
   "source": [
    "#### show data slices"
   ]
  },
  {
   "cell_type": "code",
   "execution_count": 122,
   "metadata": {
    "collapsed": false
   },
   "outputs": [
    {
     "data": {
      "image/png": "[encoded data removed]",
      "text/plain": [
       "<matplotlib.figure.Figure at 0x112fd59d0>"
      ]
     },
     "metadata": {},
     "output_type": "display_data"
    }
   ],
   "source": [
    "sns.swarmplot(x=\"age_category\", y=\"weight\", data=new_surveys);"
   ]
  },
  {
   "cell_type": "code",
   "execution_count": 123,
   "metadata": {
    "collapsed": false
   },
   "outputs": [
    {
     "data": {
      "text/plain": [
       "<matplotlib.axes._subplots.AxesSubplot at 0x11192c310>"
      ]
     },
     "execution_count": 123,
     "metadata": {},
     "output_type": "execute_result"
    },
    {
     "data": {
      "image/png": "[encoded data removed]",
      "text/plain": [
       "<matplotlib.figure.Figure at 0x1121116d0>"
      ]
     },
     "metadata": {},
     "output_type": "display_data"
    }
   ],
   "source": [
    "sns.countplot(x=\"region\", data=new_surveys, palette=\"Greens_d\")"
   ]
  },
  {
   "cell_type": "code",
   "execution_count": 124,
   "metadata": {
    "collapsed": false
   },
   "outputs": [
    {
     "ename": "AttributeError",
     "evalue": "'module' object has no attribute 'freqplot'",
     "output_type": "error",
     "traceback": [
      "\u001b[0;31m---------------------------------------------------------------------------\u001b[0m",
      "\u001b[0;31mAttributeError\u001b[0m                            Traceback (most recent call last)",
      "\u001b[0;32m<ipython-input-124-bfd939f5933c>\u001b[0m in \u001b[0;36m<module>\u001b[0;34m()\u001b[0m\n\u001b[0;32m----> 1\u001b[0;31m \u001b[0msns\u001b[0m\u001b[0;34m.\u001b[0m\u001b[0mfreqplot\u001b[0m\u001b[0;34m(\u001b[0m\u001b[0mx\u001b[0m\u001b[0;34m=\u001b[0m\u001b[0;34m\"marital_status\"\u001b[0m\u001b[0;34m,\u001b[0m \u001b[0mhue\u001b[0m\u001b[0;34m=\u001b[0m\u001b[0;34m\"gender\"\u001b[0m\u001b[0;34m,\u001b[0m \u001b[0mdata\u001b[0m\u001b[0;34m=\u001b[0m\u001b[0mnew_surveys\u001b[0m\u001b[0;34m,\u001b[0m \u001b[0mpalette\u001b[0m\u001b[0;34m=\u001b[0m\u001b[0;34m\"Greens_d\"\u001b[0m\u001b[0;34m)\u001b[0m\u001b[0;34m\u001b[0m\u001b[0m\n\u001b[0m",
      "\u001b[0;31mAttributeError\u001b[0m: 'module' object has no attribute 'freqplot'"
     ]
    }
   ],
   "source": [
    "sns.freqplot(x=\"marital_status\", hue=\"gender\", data=new_surveys, palette=\"Greens_d\")"
   ]
  },
  {
   "cell_type": "code",
   "execution_count": null,
   "metadata": {
    "collapsed": false
   },
   "outputs": [],
   "source": [
    "sns.violinplot(x=new_surveys.region, y=new_surveys.i_develop_strong_emotions_toward_people_i_can_rely_on_num*new_surveys.weight);"
   ]
  },
  {
   "cell_type": "code",
   "execution_count": null,
   "metadata": {
    "collapsed": true
   },
   "outputs": [],
   "source": []
  }
 ],
 "metadata": {
  "kernelspec": {
   "display_name": "Python 2",
   "language": "python",
   "name": "python2"
  },
  "language_info": {
   "codemirror_mode": {
    "name": "ipython",
    "version": 2
   },
   "file_extension": ".py",
   "mimetype": "text/x-python",
   "name": "python",
   "nbconvert_exporter": "python",
   "pygments_lexer": "ipython2",
   "version": "2.7.10"
  }
 },
 "nbformat": 4,
 "nbformat_minor": 0
}
