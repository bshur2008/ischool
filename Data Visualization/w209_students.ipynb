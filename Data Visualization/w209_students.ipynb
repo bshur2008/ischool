{
 "cells": [
  {
   "cell_type": "code",
   "execution_count": 11,
   "metadata": {
    "collapsed": false
   },
   "outputs": [],
   "source": [
    "import seaborn as sns\n",
    "import pandas as pd\n",
    "import numpy as np\n",
    "from pylab import rcParams\n",
    "\n",
    "%matplotlib inline\n",
    "rcParams['figure.figsize'] = 10, 5"
   ]
  },
  {
   "cell_type": "code",
   "execution_count": 5,
   "metadata": {
    "collapsed": true
   },
   "outputs": [],
   "source": [
    "students = pd.read_csv('student-data.csv')"
   ]
  },
  {
   "cell_type": "code",
   "execution_count": 19,
   "metadata": {
    "collapsed": false
   },
   "outputs": [
    {
     "data": {
      "text/html": [
       "<div>\n",
       "<table border=\"1\" class=\"dataframe\">\n",
       "  <thead>\n",
       "    <tr style=\"text-align: right;\">\n",
       "      <th></th>\n",
       "      <th>age</th>\n",
       "      <th>gender</th>\n",
       "      <th>GPA</th>\n",
       "      <th>GMAT_quant</th>\n",
       "      <th>GMAT_verb</th>\n",
       "      <th>GRE_quant</th>\n",
       "      <th>GRE_verb</th>\n",
       "      <th>USState</th>\n",
       "    </tr>\n",
       "  </thead>\n",
       "  <tbody>\n",
       "    <tr>\n",
       "      <th>0</th>\n",
       "      <td>27</td>\n",
       "      <td>M</td>\n",
       "      <td>3.50</td>\n",
       "      <td>90.07</td>\n",
       "      <td>69.19</td>\n",
       "      <td>72.49</td>\n",
       "      <td>80.51</td>\n",
       "      <td>Wisconsin</td>\n",
       "    </tr>\n",
       "    <tr>\n",
       "      <th>1</th>\n",
       "      <td>31</td>\n",
       "      <td>F</td>\n",
       "      <td>3.61</td>\n",
       "      <td>71.63</td>\n",
       "      <td>89.84</td>\n",
       "      <td>79.24</td>\n",
       "      <td>83.89</td>\n",
       "      <td>Hawaii</td>\n",
       "    </tr>\n",
       "    <tr>\n",
       "      <th>2</th>\n",
       "      <td>37</td>\n",
       "      <td>F</td>\n",
       "      <td>3.57</td>\n",
       "      <td>78.42</td>\n",
       "      <td>78.69</td>\n",
       "      <td>92.34</td>\n",
       "      <td>85.80</td>\n",
       "      <td>South Carolina</td>\n",
       "    </tr>\n",
       "    <tr>\n",
       "      <th>3</th>\n",
       "      <td>28</td>\n",
       "      <td>F</td>\n",
       "      <td>3.07</td>\n",
       "      <td>76.61</td>\n",
       "      <td>85.90</td>\n",
       "      <td>93.55</td>\n",
       "      <td>81.73</td>\n",
       "      <td>Michigan</td>\n",
       "    </tr>\n",
       "    <tr>\n",
       "      <th>4</th>\n",
       "      <td>37</td>\n",
       "      <td>F</td>\n",
       "      <td>3.61</td>\n",
       "      <td>76.23</td>\n",
       "      <td>57.20</td>\n",
       "      <td>86.42</td>\n",
       "      <td>73.45</td>\n",
       "      <td>Kansas</td>\n",
       "    </tr>\n",
       "  </tbody>\n",
       "</table>\n",
       "</div>"
      ],
      "text/plain": [
       "   age gender   GPA  GMAT_quant  GMAT_verb  GRE_quant  GRE_verb  \\\n",
       "0   27      M  3.50       90.07      69.19      72.49     80.51   \n",
       "1   31      F  3.61       71.63      89.84      79.24     83.89   \n",
       "2   37      F  3.57       78.42      78.69      92.34     85.80   \n",
       "3   28      F  3.07       76.61      85.90      93.55     81.73   \n",
       "4   37      F  3.61       76.23      57.20      86.42     73.45   \n",
       "\n",
       "          USState  \n",
       "0       Wisconsin  \n",
       "1          Hawaii  \n",
       "2  South Carolina  \n",
       "3        Michigan  \n",
       "4          Kansas  "
      ]
     },
     "execution_count": 19,
     "metadata": {},
     "output_type": "execute_result"
    }
   ],
   "source": [
    "students.head()"
   ]
  },
  {
   "cell_type": "code",
   "execution_count": 22,
   "metadata": {
    "collapsed": false
   },
   "outputs": [
    {
     "data": {
      "text/html": [
       "<div>\n",
       "<table border=\"1\" class=\"dataframe\">\n",
       "  <thead>\n",
       "    <tr style=\"text-align: right;\">\n",
       "      <th></th>\n",
       "      <th>age</th>\n",
       "      <th>GPA</th>\n",
       "      <th>GMAT_quant</th>\n",
       "      <th>GMAT_verb</th>\n",
       "      <th>GRE_quant</th>\n",
       "      <th>GRE_verb</th>\n",
       "    </tr>\n",
       "  </thead>\n",
       "  <tbody>\n",
       "    <tr>\n",
       "      <th>count</th>\n",
       "      <td>200.00000</td>\n",
       "      <td>200.000000</td>\n",
       "      <td>200.00000</td>\n",
       "      <td>200.000000</td>\n",
       "      <td>200.000000</td>\n",
       "      <td>200.000000</td>\n",
       "    </tr>\n",
       "    <tr>\n",
       "      <th>mean</th>\n",
       "      <td>33.88000</td>\n",
       "      <td>3.434150</td>\n",
       "      <td>74.76615</td>\n",
       "      <td>80.978300</td>\n",
       "      <td>79.441150</td>\n",
       "      <td>79.632500</td>\n",
       "    </tr>\n",
       "    <tr>\n",
       "      <th>std</th>\n",
       "      <td>6.44697</td>\n",
       "      <td>0.298321</td>\n",
       "      <td>8.77318</td>\n",
       "      <td>9.404362</td>\n",
       "      <td>10.860377</td>\n",
       "      <td>10.707124</td>\n",
       "    </tr>\n",
       "    <tr>\n",
       "      <th>min</th>\n",
       "      <td>22.00000</td>\n",
       "      <td>2.500000</td>\n",
       "      <td>50.00000</td>\n",
       "      <td>50.000000</td>\n",
       "      <td>50.000000</td>\n",
       "      <td>50.000000</td>\n",
       "    </tr>\n",
       "    <tr>\n",
       "      <th>25%</th>\n",
       "      <td>30.00000</td>\n",
       "      <td>3.257500</td>\n",
       "      <td>69.55250</td>\n",
       "      <td>75.032500</td>\n",
       "      <td>71.912500</td>\n",
       "      <td>73.675000</td>\n",
       "    </tr>\n",
       "    <tr>\n",
       "      <th>50%</th>\n",
       "      <td>32.00000</td>\n",
       "      <td>3.490000</td>\n",
       "      <td>74.89000</td>\n",
       "      <td>82.755000</td>\n",
       "      <td>82.360000</td>\n",
       "      <td>81.685000</td>\n",
       "    </tr>\n",
       "    <tr>\n",
       "      <th>75%</th>\n",
       "      <td>37.00000</td>\n",
       "      <td>3.660000</td>\n",
       "      <td>81.75750</td>\n",
       "      <td>88.142500</td>\n",
       "      <td>87.222500</td>\n",
       "      <td>87.910000</td>\n",
       "    </tr>\n",
       "    <tr>\n",
       "      <th>max</th>\n",
       "      <td>57.00000</td>\n",
       "      <td>4.000000</td>\n",
       "      <td>100.00000</td>\n",
       "      <td>100.000000</td>\n",
       "      <td>100.000000</td>\n",
       "      <td>100.000000</td>\n",
       "    </tr>\n",
       "  </tbody>\n",
       "</table>\n",
       "</div>"
      ],
      "text/plain": [
       "             age         GPA  GMAT_quant   GMAT_verb   GRE_quant    GRE_verb\n",
       "count  200.00000  200.000000   200.00000  200.000000  200.000000  200.000000\n",
       "mean    33.88000    3.434150    74.76615   80.978300   79.441150   79.632500\n",
       "std      6.44697    0.298321     8.77318    9.404362   10.860377   10.707124\n",
       "min     22.00000    2.500000    50.00000   50.000000   50.000000   50.000000\n",
       "25%     30.00000    3.257500    69.55250   75.032500   71.912500   73.675000\n",
       "50%     32.00000    3.490000    74.89000   82.755000   82.360000   81.685000\n",
       "75%     37.00000    3.660000    81.75750   88.142500   87.222500   87.910000\n",
       "max     57.00000    4.000000   100.00000  100.000000  100.000000  100.000000"
      ]
     },
     "execution_count": 22,
     "metadata": {},
     "output_type": "execute_result"
    }
   ],
   "source": [
    "students.describe()"
   ]
  },
  {
   "cell_type": "code",
   "execution_count": 21,
   "metadata": {
    "collapsed": false
   },
   "outputs": [
    {
     "data": {
      "text/plain": [
       "<matplotlib.axes._subplots.AxesSubplot at 0x10fa42c90>"
      ]
     },
     "execution_count": 21,
     "metadata": {},
     "output_type": "execute_result"
    },
    {
     "data": {
      "image/png": "[encoded data removed]",
      "text/plain": [
       "<matplotlib.figure.Figure at 0x10fade7d0>"
      ]
     },
     "metadata": {},
     "output_type": "display_data"
    }
   ],
   "source": [
    "sns.distplot(students['GMAT_quant'], axlabel='GMAT Quantitative Percentile')"
   ]
  },
  {
   "cell_type": "code",
   "execution_count": 14,
   "metadata": {
    "collapsed": false
   },
   "outputs": [
    {
     "data": {
      "text/plain": [
       "<matplotlib.axes._subplots.AxesSubplot at 0x10f4af2d0>"
      ]
     },
     "execution_count": 14,
     "metadata": {},
     "output_type": "execute_result"
    },
    {
     "data": {
      "image/png": "[encoded data removed]",
      "text/plain": [
       "<matplotlib.figure.Figure at 0x10f548710>"
      ]
     },
     "metadata": {},
     "output_type": "display_data"
    }
   ],
   "source": [
    "sns.distplot(students['GMAT_verb'], axlabel='GMAT Verbal Percentile')"
   ]
  },
  {
   "cell_type": "code",
   "execution_count": 25,
   "metadata": {
    "collapsed": false
   },
   "outputs": [
    {
     "name": "stderr",
     "output_type": "stream",
     "text": [
      "/Library/Python/2.7/site-packages/matplotlib/collections.py:590: FutureWarning: elementwise comparison failed; returning scalar instead, but in the future will perform elementwise comparison\n",
      "  if self._edgecolors == str('face'):\n"
     ]
    },
    {
     "data": {
      "image/png": "[encoded data removed]",
      "text/plain": [
       "<matplotlib.figure.Figure at 0x10fd2dfd0>"
      ]
     },
     "metadata": {},
     "output_type": "display_data"
    }
   ],
   "source": [
    "sns.jointplot(x=\"GMAT_quant\", y=\"GMAT_verb\", data=students);"
   ]
  },
  {
   "cell_type": "code",
   "execution_count": 24,
   "metadata": {
    "collapsed": false
   },
   "outputs": [
    {
     "data": {
      "text/plain": [
       "California      30\n",
       "Maine            8\n",
       "New Mexico       7\n",
       "Texas            7\n",
       "Kentucky         5\n",
       "Minnesota        5\n",
       "Utah             5\n",
       "New Jersey       5\n",
       "Georgia          5\n",
       "Pennsylvania     5\n",
       "Name: USState, dtype: int64"
      ]
     },
     "execution_count": 24,
     "metadata": {},
     "output_type": "execute_result"
    }
   ],
   "source": [
    "students['USState'].value_counts()[:10]"
   ]
  }
 ],
 "metadata": {
  "kernelspec": {
   "display_name": "Python 2",
   "language": "python",
   "name": "python2"
  },
  "language_info": {
   "codemirror_mode": {
    "name": "ipython",
    "version": 2
   },
   "file_extension": ".py",
   "mimetype": "text/x-python",
   "name": "python",
   "nbconvert_exporter": "python",
   "pygments_lexer": "ipython2",
   "version": "2.7.10"
  }
 },
 "nbformat": 4,
 "nbformat_minor": 0
}
