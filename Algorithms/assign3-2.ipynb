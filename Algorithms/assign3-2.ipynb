{
 "metadata": {
  "name": "assign3-2"
 },
 "nbformat": 3,
 "nbformat_minor": 0,
 "worksheets": [
  {
   "cells": [
    {
     "cell_type": "heading",
     "level": 1,
     "metadata": {},
     "source": [
      "Complexity"
     ]
    },
    {
     "cell_type": "raw",
     "metadata": {},
     "source": [
      "In a particular board game, there are N spaces in a row, numbered 0 through N - 1 from left to right. There are also N marbles, numbered 0 through N - 1, initially placed in their corresponding spaces. The single player begins by shuffling the marbles into a random order. After that, there are two moves available:\n",
      "\n",
      "Switch: Switch the marbles in positions 0 and 1, and\n",
      "Rotate: Move the marble in position 0 to position N - 1, and move all other marbles one space to the left (one index lower).\n",
      "The objective is to arrange the marbles in order, with each marble i in position i.\n",
      "\n",
      "a. Write a class, MarblesBoard, to represent the game above. The class should be initialized with a particular sequence of Marbles in positions. Next, include switch() and rotate() methods to simulate the player's moves. Write a method, is_solved(), that returns True if the marbles are in the correct order.\n",
      "\n",
      "Additionally, you may want to write __str__ and __repr__ methods that display the current state of the board. Your class should behave like the following example.\n",
      ">>> board = MarblesBoard((3,6,7,4,1,0,8,2,5)) \u2028",
      "\n",
      ">>> board\n",
      "3 6 7 4 1 0 8 2 5 \u2028",
      "\n",
      ">>> board.switch() \u2028",
      "\n",
      ">>> board \u2028",
      "\n",
      "6 3 7 4 1 0 8 2 5 \u2028",
      "\n",
      ">>> board.rotate() \u2028",
      "\n",
      ">>> board \u2028",
      "\n",
      "3 7 4 1 0 8 2 5 6 \u2028",
      "\n",
      ">>> board.switch() \u2028",
      "\n",
      ">>> board \u2028",
      "\n",
      "7 3 4 1 0 8 2 5 6\n",
      "\n",
      "b. Write a class, Solver, that actually plays the MarblesGame. Your class should take a MarblesBoard in its constructor. Write a solve() method that repeatedly calls the switch() and rotate() methods of the given MarblesBoard until the game is solved. However, you should not call switch when one of the two marbles being switched is 0. Given this limitation, your class should solve the game in the smallest possible number of moves. \u2028",
      "\n",
      "\n",
      ">>> board = MarblesBoard((1,3,0,2)) \u2028",
      "\n",
      ">>> player = Solver(board) \u2028",
      "\n",
      ">>> player.solve() \u2028",
      "\n",
      "1 3 0 2\n",
      "3 0 2 1\n",
      "0 2 1 3\n",
      "2 1 3 0\n",
      "1 2 3 0\n",
      "2 3 0 1\n",
      "3 0 1 2\n",
      "0 1 2 3\n",
      "total steps: 7\n",
      "\n",
      "When you are done, check to see how many method calls (both switch() and rotate()) each of the following game boards require:\n",
      "\n",
      "(5 2 1 0 3 4)"
     ]
    },
    {
     "cell_type": "raw",
     "metadata": {},
     "source": [
      "a. Write a class, MarblesBoard, to represent the game above. \n",
      "Switch: Switch the marbles in positions 0 and 1, and\n",
      "Rotate: Move the marble in position 0 to position N - 1, and move all other marbles one space to the left (one index lower).\n",
      "The objective is to arrange the marbles in order, with each marble i in position i."
     ]
    },
    {
     "cell_type": "code",
     "collapsed": false,
     "input": [
      "class MarblesBoard():\n",
      "    def __init__(self,digits):\n",
      "        self.board = [ int(d) for d in digits ]\n",
      "    \n",
      "    def __str__(self):\n",
      "        return ' '.join([ str(d) for d in self.board])\n",
      "    \n",
      "    def __repr__(self):\n",
      "        return ' '.join([ str(d) for d in self.board])\n",
      "    \n",
      "    def switch(self):\n",
      "        x = self.board[0]\n",
      "        self.board[0] = self.board[1]\n",
      "        self.board[1] = x\n",
      "    \n",
      "    def rotate(self):\n",
      "        x = [ self.board[z] for z in range(len(self.board)) if z>0 ]\n",
      "        x.append(self.board[0])\n",
      "        self.board = x\n",
      "    \n",
      "    def is_solved(self):\n",
      "        for i in range(len(self.board)): \n",
      "            if i != self.board[i]:\n",
      "                return False\n",
      "        return True\n",
      "\n",
      "board = MarblesBoard((3,6,7,4,1,0,8,2,5))\n",
      "board"
     ],
     "language": "python",
     "metadata": {},
     "outputs": [
      {
       "output_type": "pyout",
       "prompt_number": 67,
       "text": [
        "3 6 7 4 1 0 8 2 5"
       ]
      }
     ],
     "prompt_number": 67
    },
    {
     "cell_type": "raw",
     "metadata": {},
     "source": [
      "Next, include switch() and rotate() methods to simulate the player's moves."
     ]
    },
    {
     "cell_type": "code",
     "collapsed": false,
     "input": [
      "board.switch()\n",
      "board"
     ],
     "language": "python",
     "metadata": {},
     "outputs": [
      {
       "output_type": "pyout",
       "prompt_number": 68,
       "text": [
        "6 3 7 4 1 0 8 2 5"
       ]
      }
     ],
     "prompt_number": 68
    },
    {
     "cell_type": "code",
     "collapsed": false,
     "input": [
      "board.rotate()\n",
      "board"
     ],
     "language": "python",
     "metadata": {},
     "outputs": [
      {
       "output_type": "pyout",
       "prompt_number": 69,
       "text": [
        "3 7 4 1 0 8 2 5 6"
       ]
      }
     ],
     "prompt_number": 69
    },
    {
     "cell_type": "code",
     "collapsed": false,
     "input": [
      "board.switch()\n",
      "board # 7 3 4 1 0 8 2 5 6"
     ],
     "language": "python",
     "metadata": {},
     "outputs": [
      {
       "output_type": "pyout",
       "prompt_number": 70,
       "text": [
        "7 3 4 1 0 8 2 5 6"
       ]
      }
     ],
     "prompt_number": 70
    },
    {
     "cell_type": "raw",
     "metadata": {},
     "source": [
      "Write a method, is_solved(), that returns True if the marbles are in the correct order."
     ]
    },
    {
     "cell_type": "code",
     "collapsed": false,
     "input": [
      "board2 = MarblesBoard((0,1,2,3))\n",
      "board2.is_solved()"
     ],
     "language": "python",
     "metadata": {},
     "outputs": [
      {
       "output_type": "pyout",
       "prompt_number": 71,
       "text": [
        "True"
       ]
      }
     ],
     "prompt_number": 71
    },
    {
     "cell_type": "code",
     "collapsed": false,
     "input": [
      "board.is_solved()"
     ],
     "language": "python",
     "metadata": {},
     "outputs": [
      {
       "output_type": "pyout",
       "prompt_number": 72,
       "text": [
        "False"
       ]
      }
     ],
     "prompt_number": 72
    },
    {
     "cell_type": "raw",
     "metadata": {},
     "source": [
      "b. Write a class, Solver, that actually plays the MarblesGame. Your class should take a MarblesBoard in its constructor. Write a solve() method that repeatedly calls the switch() and rotate() methods of the given MarblesBoard until the game is solved. However, you should not call switch when one of the two marbles being switched is 0. Given this limitation, your class should solve the game in the smallest possible number of moves. \u2028"
     ]
    },
    {
     "cell_type": "code",
     "collapsed": false,
     "input": [
      "class Solver():\n",
      "    def __init__(self,marbleboard):\n",
      "        self.marbleboard = marbleboard\n",
      "    \n",
      "    def solve(self):\n",
      "        "
     ],
     "language": "python",
     "metadata": {},
     "outputs": []
    },
    {
     "cell_type": "markdown",
     "metadata": {},
     "source": []
    },
    {
     "cell_type": "raw",
     "metadata": {},
     "source": [
      "(3, 0, 8, 2, 6, 5, 4, 7, 9, 1)"
     ]
    },
    {
     "cell_type": "raw",
     "metadata": {},
     "source": [
      "(2, 10, 0, 9, 7, 11, 8, 5, 4, 6, 3, 1)"
     ]
    },
    {
     "cell_type": "raw",
     "metadata": {},
     "source": [
      "Compute the big O running time of your algorithm in terms of the number of Marbles"
     ]
    }
   ],
   "metadata": {}
  }
 ]
}