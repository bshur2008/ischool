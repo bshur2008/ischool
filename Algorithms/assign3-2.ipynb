{
 "metadata": {
  "name": "assign3-2"
 },
 "nbformat": 3,
 "nbformat_minor": 0,
 "worksheets": [
  {
   "cells": [
    {
     "cell_type": "heading",
     "level": 1,
     "metadata": {},
     "source": [
      "Complexity"
     ]
    },
    {
     "cell_type": "raw",
     "metadata": {},
     "source": [
      "In a particular board game, there are N spaces in a row, numbered 0 through N - 1 from left to right. There are also N marbles, numbered 0 through N - 1, initially placed in their corresponding spaces. The single player begins by shuffling the marbles into a random order. After that, there are two moves available:\n",
      "\n",
      "Switch: Switch the marbles in positions 0 and 1, and\n",
      "Rotate: Move the marble in position 0 to position N - 1, and move all other marbles one space to the left (one index lower).\n",
      "The objective is to arrange the marbles in order, with each marble i in position i.\n",
      "\n",
      "a. Write a class, MarblesBoard, to represent the game above. The class should be initialized with a particular sequence of Marbles in positions. Next, include switch() and rotate() methods to simulate the player's moves. Write a method, is_solved(), that returns True if the marbles are in the correct order.\n",
      "\n",
      "Additionally, you may want to write __str__ and __repr__ methods that display the current state of the board. Your class should behave like the following example.\n",
      ">>> board = MarblesBoard((3,6,7,4,1,0,8,2,5)) \u2028",
      "\n",
      ">>> board\n",
      "3 6 7 4 1 0 8 2 5 \u2028",
      "\n",
      ">>> board.switch() \u2028",
      "\n",
      ">>> board \u2028",
      "\n",
      "6 3 7 4 1 0 8 2 5 \u2028",
      "\n",
      ">>> board.rotate() \u2028",
      "\n",
      ">>> board \u2028",
      "\n",
      "3 7 4 1 0 8 2 5 6 \u2028",
      "\n",
      ">>> board.switch() \u2028",
      "\n",
      ">>> board \u2028",
      "\n",
      "7 3 4 1 0 8 2 5 6\n",
      "\n",
      "b. Write a class, Solver, that actually plays the MarblesGame. Your class should take a MarblesBoard in its constructor. Write a solve() method that repeatedly calls the switch() and rotate() methods of the given MarblesBoard until the game is solved. However, you should not call switch when one of the two marbles being switched is 0. Given this limitation, your class should solve the game in the smallest possible number of moves. \u2028",
      "\n",
      "\n",
      ">>> board = MarblesBoard((1,3,0,2)) \u2028",
      "\n",
      ">>> player = Solver(board) \u2028",
      "\n",
      ">>> player.solve() \u2028",
      "\n",
      "1 3 0 2\n",
      "3 0 2 1\n",
      "0 2 1 3\n",
      "2 1 3 0\n",
      "1 2 3 0\n",
      "2 3 0 1\n",
      "3 0 1 2\n",
      "0 1 2 3\n",
      "total steps: 7\n",
      "\n",
      "When you are done, check to see how many method calls (both switch() and rotate()) each of the following game boards require:\n",
      "\n",
      "(5 2 1 0 3 4)"
     ]
    },
    {
     "cell_type": "raw",
     "metadata": {},
     "source": [
      "a. Write a class, MarblesBoard, to represent the game above. \n",
      "Switch: Switch the marbles in positions 0 and 1, and\n",
      "Rotate: Move the marble in position 0 to position N - 1, and move all other marbles one space to the left (one index lower).\n",
      "The objective is to arrange the marbles in order, with each marble i in position i."
     ]
    },
    {
     "cell_type": "code",
     "collapsed": false,
     "input": [
      "class MarblesBoard():\n",
      "    def __init__(self,digits):\n",
      "        self.board = [ int(d) for d in digits ]\n",
      "    \n",
      "    def __str__(self):\n",
      "        return ' '.join([ str(d) for d in self.board])\n",
      "    \n",
      "    def __repr__(self):\n",
      "        return ' '.join([ str(d) for d in self.board])\n",
      "    \n",
      "    def get_board(self):\n",
      "        return self.board\n",
      "    \n",
      "    def switch(self):\n",
      "        x = self.board[0]\n",
      "        self.board[0] = self.board[1]\n",
      "        self.board[1] = x\n",
      "    \n",
      "    def rotate(self):\n",
      "        x = [ self.board[z] for z in range(len(self.board)) if z>0 ]\n",
      "        x.append(self.board[0])\n",
      "        self.board = x\n",
      "    \n",
      "    def is_solved(self):\n",
      "        for i in range(len(self.board)): \n",
      "            if i != self.board[i]:\n",
      "                return False\n",
      "        return True\n",
      "\n",
      "board = MarblesBoard((3,6,7,4,1,0,8,2,5))\n",
      "board"
     ],
     "language": "python",
     "metadata": {},
     "outputs": [
      {
       "output_type": "pyout",
       "prompt_number": 36,
       "text": [
        "3 6 7 4 1 0 8 2 5"
       ]
      }
     ],
     "prompt_number": 36
    },
    {
     "cell_type": "raw",
     "metadata": {},
     "source": [
      "Next, include switch() and rotate() methods to simulate the player's moves."
     ]
    },
    {
     "cell_type": "code",
     "collapsed": false,
     "input": [
      "board.switch()\n",
      "board"
     ],
     "language": "python",
     "metadata": {},
     "outputs": [
      {
       "output_type": "pyout",
       "prompt_number": 37,
       "text": [
        "6 3 7 4 1 0 8 2 5"
       ]
      }
     ],
     "prompt_number": 37
    },
    {
     "cell_type": "code",
     "collapsed": false,
     "input": [
      "board.rotate()\n",
      "board"
     ],
     "language": "python",
     "metadata": {},
     "outputs": [
      {
       "output_type": "pyout",
       "prompt_number": 38,
       "text": [
        "3 7 4 1 0 8 2 5 6"
       ]
      }
     ],
     "prompt_number": 38
    },
    {
     "cell_type": "code",
     "collapsed": false,
     "input": [
      "board.switch()\n",
      "board # 7 3 4 1 0 8 2 5 6"
     ],
     "language": "python",
     "metadata": {},
     "outputs": [
      {
       "output_type": "pyout",
       "prompt_number": 39,
       "text": [
        "7 3 4 1 0 8 2 5 6"
       ]
      }
     ],
     "prompt_number": 39
    },
    {
     "cell_type": "raw",
     "metadata": {},
     "source": [
      "Write a method, is_solved(), that returns True if the marbles are in the correct order."
     ]
    },
    {
     "cell_type": "code",
     "collapsed": false,
     "input": [
      "board2 = MarblesBoard((0,1,2,3))\n",
      "board2.is_solved()"
     ],
     "language": "python",
     "metadata": {},
     "outputs": [
      {
       "output_type": "pyout",
       "prompt_number": 40,
       "text": [
        "True"
       ]
      }
     ],
     "prompt_number": 40
    },
    {
     "cell_type": "code",
     "collapsed": false,
     "input": [
      "board.is_solved()"
     ],
     "language": "python",
     "metadata": {},
     "outputs": [
      {
       "output_type": "pyout",
       "prompt_number": 41,
       "text": [
        "False"
       ]
      }
     ],
     "prompt_number": 41
    },
    {
     "cell_type": "raw",
     "metadata": {},
     "source": [
      "b. Write a class, Solver, that actually plays the MarblesGame. Your class should take a MarblesBoard in its constructor. Write a solve() method that repeatedly calls the switch() and rotate() methods of the given MarblesBoard until the game is solved. However, you should not call switch when one of the two marbles being switched is 0. Given this limitation, your class should solve the game in the smallest possible number of moves. \u2028"
     ]
    },
    {
     "cell_type": "code",
     "collapsed": false,
     "input": [
      "class Solver():\n",
      "    def __init__(self,marbleboard):\n",
      "        self.marbleboard = marbleboard\n",
      "    \n",
      "    def solve(self):\n",
      "        i = 0\n",
      "        while not self.marbleboard.is_solved():\n",
      "            print self.marbleboard\n",
      "            b = self.marbleboard.get_board()\n",
      "            if b[0]>b[1] and b[0]!=0 and b[1]!=0: self.marbleboard.switch()\n",
      "            else: self.marbleboard.rotate()\n",
      "            i+=1\n",
      "        print 'Solved! Steps: '+str(i)\n"
     ],
     "language": "python",
     "metadata": {},
     "outputs": [],
     "prompt_number": 42
    },
    {
     "cell_type": "code",
     "collapsed": false,
     "input": [
      "board = MarblesBoard((1,3,0,2))\n",
      "player = Solver(board)\n",
      "player.solve()\n"
     ],
     "language": "python",
     "metadata": {},
     "outputs": [
      {
       "output_type": "stream",
       "stream": "stdout",
       "text": [
        "1 3 0 2\n",
        "3 0 2 1\n",
        "0 2 1 3\n",
        "2 1 3 0\n",
        "1 2 3 0\n",
        "2 3 0 1\n",
        "3 0 1 2\n",
        "Solved! Steps: 7\n"
       ]
      }
     ],
     "prompt_number": 43
    },
    {
     "cell_type": "markdown",
     "metadata": {},
     "source": []
    },
    {
     "cell_type": "raw",
     "metadata": {},
     "source": [
      "(5 2 1 0 3 4)"
     ]
    },
    {
     "cell_type": "code",
     "collapsed": false,
     "input": [
      "board = MarblesBoard((5,2,1,0,3,4))\n",
      "player = Solver(board)\n",
      "player.solve()"
     ],
     "language": "python",
     "metadata": {},
     "outputs": [
      {
       "output_type": "stream",
       "stream": "stdout",
       "text": [
        "5 2 1 0 3 4\n",
        "2 5 1 0 3 4\n",
        "5 1 0 3 4 2\n",
        "1 5 0 3 4 2\n",
        "5 0 3 4 2 1\n",
        "0 3 4 2 1 5\n",
        "3 4 2 1 5 0\n",
        "4 2 1 5 0 3\n",
        "2 4 1 5 0 3\n",
        "4 1 5 0 3 2\n",
        "1 4 5 0 3 2\n",
        "4 5 0 3 2 1\n",
        "5 0 3 2 1 4\n",
        "0 3 2 1 4 5\n",
        "3 2 1 4 5 0\n",
        "2 3 1 4 5 0\n",
        "3 1 4 5 0 2\n",
        "1 3 4 5 0 2\n",
        "3 4 5 0 2 1\n",
        "4 5 0 2 1 3\n",
        "5 0 2 1 3 4\n",
        "0 2 1 3 4 5\n",
        "2 1 3 4 5 0\n",
        "1 2 3 4 5 0\n",
        "2 3 4 5 0 1\n",
        "3 4 5 0 1 2\n",
        "4 5 0 1 2 3\n",
        "5 0 1 2 3 4\n",
        "Solved! Steps: 28\n"
       ]
      }
     ],
     "prompt_number": 45
    },
    {
     "cell_type": "raw",
     "metadata": {},
     "source": [
      "(3, 0, 8, 2, 6, 5, 4, 7, 9, 1)"
     ]
    },
    {
     "cell_type": "code",
     "collapsed": false,
     "input": [
      "board = MarblesBoard((3, 0, 8, 2, 6, 5, 4, 7, 9, 1))\n",
      "player = Solver(board)\n",
      "player.solve()"
     ],
     "language": "python",
     "metadata": {},
     "outputs": [
      {
       "output_type": "stream",
       "stream": "stdout",
       "text": [
        "3 0 8 2 6 5 4 7 9 1\n",
        "0 8 2 6 5 4 7 9 1 3\n",
        "8 2 6 5 4 7 9 1 3 0\n",
        "2 8 6 5 4 7 9 1 3 0\n",
        "8 6 5 4 7 9 1 3 0 2\n",
        "6 8 5 4 7 9 1 3 0 2\n",
        "8 5 4 7 9 1 3 0 2 6\n",
        "5 8 4 7 9 1 3 0 2 6\n",
        "8 4 7 9 1 3 0 2 6 5\n",
        "4 8 7 9 1 3 0 2 6 5\n",
        "8 7 9 1 3 0 2 6 5 4\n",
        "7 8 9 1 3 0 2 6 5 4\n",
        "8 9 1 3 0 2 6 5 4 7\n",
        "9 1 3 0 2 6 5 4 7 8\n",
        "1 9 3 0 2 6 5 4 7 8\n",
        "9 3 0 2 6 5 4 7 8 1\n",
        "3 9 0 2 6 5 4 7 8 1\n",
        "9 0 2 6 5 4 7 8 1 3\n",
        "0 2 6 5 4 7 8 1 3 9\n",
        "2 6 5 4 7 8 1 3 9 0\n",
        "6 5 4 7 8 1 3 9 0 2\n",
        "5 6 4 7 8 1 3 9 0 2\n",
        "6 4 7 8 1 3 9 0 2 5\n",
        "4 6 7 8 1 3 9 0 2 5\n",
        "6 7 8 1 3 9 0 2 5 4\n",
        "7 8 1 3 9 0 2 5 4 6\n",
        "8 1 3 9 0 2 5 4 6 7\n",
        "1 8 3 9 0 2 5 4 6 7\n",
        "8 3 9 0 2 5 4 6 7 1\n",
        "3 8 9 0 2 5 4 6 7 1\n",
        "8 9 0 2 5 4 6 7 1 3\n",
        "9 0 2 5 4 6 7 1 3 8\n",
        "0 2 5 4 6 7 1 3 8 9\n",
        "2 5 4 6 7 1 3 8 9 0\n",
        "5 4 6 7 1 3 8 9 0 2\n",
        "4 5 6 7 1 3 8 9 0 2\n",
        "5 6 7 1 3 8 9 0 2 4\n",
        "6 7 1 3 8 9 0 2 4 5\n",
        "7 1 3 8 9 0 2 4 5 6\n",
        "1 7 3 8 9 0 2 4 5 6\n",
        "7 3 8 9 0 2 4 5 6 1\n",
        "3 7 8 9 0 2 4 5 6 1\n",
        "7 8 9 0 2 4 5 6 1 3\n",
        "8 9 0 2 4 5 6 1 3 7\n",
        "9 0 2 4 5 6 1 3 7 8\n",
        "0 2 4 5 6 1 3 7 8 9\n",
        "2 4 5 6 1 3 7 8 9 0\n",
        "4 5 6 1 3 7 8 9 0 2\n",
        "5 6 1 3 7 8 9 0 2 4\n",
        "6 1 3 7 8 9 0 2 4 5\n",
        "1 6 3 7 8 9 0 2 4 5\n",
        "6 3 7 8 9 0 2 4 5 1\n",
        "3 6 7 8 9 0 2 4 5 1\n",
        "6 7 8 9 0 2 4 5 1 3\n",
        "7 8 9 0 2 4 5 1 3 6\n",
        "8 9 0 2 4 5 1 3 6 7\n",
        "9 0 2 4 5 1 3 6 7 8\n",
        "0 2 4 5 1 3 6 7 8 9\n",
        "2 4 5 1 3 6 7 8 9 0\n",
        "4 5 1 3 6 7 8 9 0 2\n",
        "5 1 3 6 7 8 9 0 2 4\n",
        "1 5 3 6 7 8 9 0 2 4\n",
        "5 3 6 7 8 9 0 2 4 1\n",
        "3 5 6 7 8 9 0 2 4 1\n",
        "5 6 7 8 9 0 2 4 1 3\n",
        "6 7 8 9 0 2 4 1 3 5\n",
        "7 8 9 0 2 4 1 3 5 6\n",
        "8 9 0 2 4 1 3 5 6 7\n",
        "9 0 2 4 1 3 5 6 7 8\n",
        "0 2 4 1 3 5 6 7 8 9\n",
        "2 4 1 3 5 6 7 8 9 0\n",
        "4 1 3 5 6 7 8 9 0 2\n",
        "1 4 3 5 6 7 8 9 0 2\n",
        "4 3 5 6 7 8 9 0 2 1\n",
        "3 4 5 6 7 8 9 0 2 1\n",
        "4 5 6 7 8 9 0 2 1 3\n",
        "5 6 7 8 9 0 2 1 3 4\n",
        "6 7 8 9 0 2 1 3 4 5\n",
        "7 8 9 0 2 1 3 4 5 6\n",
        "8 9 0 2 1 3 4 5 6 7\n",
        "9 0 2 1 3 4 5 6 7 8\n",
        "0 2 1 3 4 5 6 7 8 9\n",
        "2 1 3 4 5 6 7 8 9 0\n",
        "1 2 3 4 5 6 7 8 9 0\n",
        "2 3 4 5 6 7 8 9 0 1\n",
        "3 4 5 6 7 8 9 0 1 2\n",
        "4 5 6 7 8 9 0 1 2 3\n",
        "5 6 7 8 9 0 1 2 3 4\n",
        "6 7 8 9 0 1 2 3 4 5\n",
        "7 8 9 0 1 2 3 4 5 6\n",
        "8 9 0 1 2 3 4 5 6 7\n",
        "9 0 1 2 3 4 5 6 7 8\n",
        "Solved! Steps: 92\n"
       ]
      }
     ],
     "prompt_number": 46
    },
    {
     "cell_type": "raw",
     "metadata": {},
     "source": [
      "(2, 10, 0, 9, 7, 11, 8, 5, 4, 6, 3, 1)"
     ]
    },
    {
     "cell_type": "code",
     "collapsed": false,
     "input": [
      "board = MarblesBoard((2, 10, 0, 9, 7, 11, 8, 5, 4, 6, 3, 1))\n",
      "player = Solver(board)\n",
      "player.solve()"
     ],
     "language": "python",
     "metadata": {},
     "outputs": [
      {
       "output_type": "stream",
       "stream": "stdout",
       "text": [
        "2 10 0 9 7 11 8 5 4 6 3 1\n",
        "10 0 9 7 11 8 5 4 6 3 1 2\n",
        "0 9 7 11 8 5 4 6 3 1 2 10\n",
        "9 7 11 8 5 4 6 3 1 2 10 0\n",
        "7 9 11 8 5 4 6 3 1 2 10 0\n",
        "9 11 8 5 4 6 3 1 2 10 0 7\n",
        "11 8 5 4 6 3 1 2 10 0 7 9\n",
        "8 11 5 4 6 3 1 2 10 0 7 9\n",
        "11 5 4 6 3 1 2 10 0 7 9 8\n",
        "5 11 4 6 3 1 2 10 0 7 9 8\n",
        "11 4 6 3 1 2 10 0 7 9 8 5\n",
        "4 11 6 3 1 2 10 0 7 9 8 5\n",
        "11 6 3 1 2 10 0 7 9 8 5 4\n",
        "6 11 3 1 2 10 0 7 9 8 5 4\n",
        "11 3 1 2 10 0 7 9 8 5 4 6\n",
        "3 11 1 2 10 0 7 9 8 5 4 6\n",
        "11 1 2 10 0 7 9 8 5 4 6 3\n",
        "1 11 2 10 0 7 9 8 5 4 6 3\n",
        "11 2 10 0 7 9 8 5 4 6 3 1\n",
        "2 11 10 0 7 9 8 5 4 6 3 1\n",
        "11 10 0 7 9 8 5 4 6 3 1 2\n",
        "10 11 0 7 9 8 5 4 6 3 1 2\n",
        "11 0 7 9 8 5 4 6 3 1 2 10\n",
        "0 7 9 8 5 4 6 3 1 2 10 11\n",
        "7 9 8 5 4 6 3 1 2 10 11 0\n",
        "9 8 5 4 6 3 1 2 10 11 0 7\n",
        "8 9 5 4 6 3 1 2 10 11 0 7\n",
        "9 5 4 6 3 1 2 10 11 0 7 8\n",
        "5 9 4 6 3 1 2 10 11 0 7 8\n",
        "9 4 6 3 1 2 10 11 0 7 8 5\n",
        "4 9 6 3 1 2 10 11 0 7 8 5\n",
        "9 6 3 1 2 10 11 0 7 8 5 4\n",
        "6 9 3 1 2 10 11 0 7 8 5 4\n",
        "9 3 1 2 10 11 0 7 8 5 4 6\n",
        "3 9 1 2 10 11 0 7 8 5 4 6\n",
        "9 1 2 10 11 0 7 8 5 4 6 3\n",
        "1 9 2 10 11 0 7 8 5 4 6 3\n",
        "9 2 10 11 0 7 8 5 4 6 3 1\n",
        "2 9 10 11 0 7 8 5 4 6 3 1\n",
        "9 10 11 0 7 8 5 4 6 3 1 2\n",
        "10 11 0 7 8 5 4 6 3 1 2 9\n",
        "11 0 7 8 5 4 6 3 1 2 9 10\n",
        "0 7 8 5 4 6 3 1 2 9 10 11\n",
        "7 8 5 4 6 3 1 2 9 10 11 0\n",
        "8 5 4 6 3 1 2 9 10 11 0 7\n",
        "5 8 4 6 3 1 2 9 10 11 0 7\n",
        "8 4 6 3 1 2 9 10 11 0 7 5\n",
        "4 8 6 3 1 2 9 10 11 0 7 5\n",
        "8 6 3 1 2 9 10 11 0 7 5 4\n",
        "6 8 3 1 2 9 10 11 0 7 5 4\n",
        "8 3 1 2 9 10 11 0 7 5 4 6\n",
        "3 8 1 2 9 10 11 0 7 5 4 6\n",
        "8 1 2 9 10 11 0 7 5 4 6 3\n",
        "1 8 2 9 10 11 0 7 5 4 6 3\n",
        "8 2 9 10 11 0 7 5 4 6 3 1\n",
        "2 8 9 10 11 0 7 5 4 6 3 1\n",
        "8 9 10 11 0 7 5 4 6 3 1 2\n",
        "9 10 11 0 7 5 4 6 3 1 2 8\n",
        "10 11 0 7 5 4 6 3 1 2 8 9\n",
        "11 0 7 5 4 6 3 1 2 8 9 10\n",
        "0 7 5 4 6 3 1 2 8 9 10 11\n",
        "7 5 4 6 3 1 2 8 9 10 11 0\n",
        "5 7 4 6 3 1 2 8 9 10 11 0\n",
        "7 4 6 3 1 2 8 9 10 11 0 5\n",
        "4 7 6 3 1 2 8 9 10 11 0 5\n",
        "7 6 3 1 2 8 9 10 11 0 5 4\n",
        "6 7 3 1 2 8 9 10 11 0 5 4\n",
        "7 3 1 2 8 9 10 11 0 5 4 6\n",
        "3 7 1 2 8 9 10 11 0 5 4 6\n",
        "7 1 2 8 9 10 11 0 5 4 6 3\n",
        "1 7 2 8 9 10 11 0 5 4 6 3\n",
        "7 2 8 9 10 11 0 5 4 6 3 1\n",
        "2 7 8 9 10 11 0 5 4 6 3 1\n",
        "7 8 9 10 11 0 5 4 6 3 1 2\n",
        "8 9 10 11 0 5 4 6 3 1 2 7\n",
        "9 10 11 0 5 4 6 3 1 2 7 8\n",
        "10 11 0 5 4 6 3 1 2 7 8 9\n",
        "11 0 5 4 6 3 1 2 7 8 9 10\n",
        "0 5 4 6 3 1 2 7 8 9 10 11\n",
        "5 4 6 3 1 2 7 8 9 10 11 0\n",
        "4 5 6 3 1 2 7 8 9 10 11 0\n",
        "5 6 3 1 2 7 8 9 10 11 0 4\n",
        "6 3 1 2 7 8 9 10 11 0 4 5\n",
        "3 6 1 2 7 8 9 10 11 0 4 5\n",
        "6 1 2 7 8 9 10 11 0 4 5 3\n",
        "1 6 2 7 8 9 10 11 0 4 5 3\n",
        "6 2 7 8 9 10 11 0 4 5 3 1\n",
        "2 6 7 8 9 10 11 0 4 5 3 1\n",
        "6 7 8 9 10 11 0 4 5 3 1 2\n",
        "7 8 9 10 11 0 4 5 3 1 2 6\n",
        "8 9 10 11 0 4 5 3 1 2 6 7\n",
        "9 10 11 0 4 5 3 1 2 6 7 8\n",
        "10 11 0 4 5 3 1 2 6 7 8 9\n",
        "11 0 4 5 3 1 2 6 7 8 9 10\n",
        "0 4 5 3 1 2 6 7 8 9 10 11\n",
        "4 5 3 1 2 6 7 8 9 10 11 0\n",
        "5 3 1 2 6 7 8 9 10 11 0 4\n",
        "3 5 1 2 6 7 8 9 10 11 0 4\n",
        "5 1 2 6 7 8 9 10 11 0 4 3\n",
        "1 5 2 6 7 8 9 10 11 0 4 3\n",
        "5 2 6 7 8 9 10 11 0 4 3 1\n",
        "2 5 6 7 8 9 10 11 0 4 3 1\n",
        "5 6 7 8 9 10 11 0 4 3 1 2\n",
        "6 7 8 9 10 11 0 4 3 1 2 5\n",
        "7 8 9 10 11 0 4 3 1 2 5 6\n",
        "8 9 10 11 0 4 3 1 2 5 6 7\n",
        "9 10 11 0 4 3 1 2 5 6 7 8\n",
        "10 11 0 4 3 1 2 5 6 7 8 9\n",
        "11 0 4 3 1 2 5 6 7 8 9 10\n",
        "0 4 3 1 2 5 6 7 8 9 10 11\n",
        "4 3 1 2 5 6 7 8 9 10 11 0\n",
        "3 4 1 2 5 6 7 8 9 10 11 0\n",
        "4 1 2 5 6 7 8 9 10 11 0 3\n",
        "1 4 2 5 6 7 8 9 10 11 0 3\n",
        "4 2 5 6 7 8 9 10 11 0 3 1\n",
        "2 4 5 6 7 8 9 10 11 0 3 1\n",
        "4 5 6 7 8 9 10 11 0 3 1 2\n",
        "5 6 7 8 9 10 11 0 3 1 2 4\n",
        "6 7 8 9 10 11 0 3 1 2 4 5\n",
        "7 8 9 10 11 0 3 1 2 4 5 6\n",
        "8 9 10 11 0 3 1 2 4 5 6 7\n",
        "9 10 11 0 3 1 2 4 5 6 7 8\n",
        "10 11 0 3 1 2 4 5 6 7 8 9\n",
        "11 0 3 1 2 4 5 6 7 8 9 10\n",
        "0 3 1 2 4 5 6 7 8 9 10 11\n",
        "3 1 2 4 5 6 7 8 9 10 11 0\n",
        "1 3 2 4 5 6 7 8 9 10 11 0\n",
        "3 2 4 5 6 7 8 9 10 11 0 1\n",
        "2 3 4 5 6 7 8 9 10 11 0 1\n",
        "3 4 5 6 7 8 9 10 11 0 1 2\n",
        "4 5 6 7 8 9 10 11 0 1 2 3\n",
        "5 6 7 8 9 10 11 0 1 2 3 4\n",
        "6 7 8 9 10 11 0 1 2 3 4 5\n",
        "7 8 9 10 11 0 1 2 3 4 5 6\n",
        "8 9 10 11 0 1 2 3 4 5 6 7\n",
        "9 10 11 0 1 2 3 4 5 6 7 8\n",
        "10 11 0 1 2 3 4 5 6 7 8 9\n",
        "11 0 1 2 3 4 5 6 7 8 9 10\n",
        "Solved! Steps: 138\n"
       ]
      }
     ],
     "prompt_number": 47
    },
    {
     "cell_type": "raw",
     "metadata": {},
     "source": [
      "Compute the big O running time of your algorithm in terms of the number of Marbles"
     ]
    },
    {
     "cell_type": "markdown",
     "metadata": {},
     "source": [
      "N^2 (loops through to check if solved and also loops through every number in the worst case)"
     ]
    }
   ],
   "metadata": {}
  }
 ]
}