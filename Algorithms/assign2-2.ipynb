{
 "metadata": {
  "name": "assign2-2"
 },
 "nbformat": 3,
 "nbformat_minor": 0,
 "worksheets": [
  {
   "cells": [
    {
     "cell_type": "markdown",
     "metadata": {},
     "source": [
      "Recursive Functions\n",
      "==============\n",
      "Winning Strategies\n",
      "-------------\n",
      "Many simple games are so well understood that players can play perfectly, always choosing the best move. At that point, the outcome often becomes predetermined. The most familiar example may be tic-tac-toe. In this game, either player can force the game into a draw, no matter what moves the other player makes. In other games, such as connect 4 and chopsticks, one of the players actually has a way to win, no matter what the opponent does.\n",
      "\n",
      "Mathematically, we define a winning strategy as a plan a player can use that always ends in a win. To write a winning strategy for one of these games, we can\u2019t just fixed list a sequence of moves. The moves have to change depending on what the opponent plays. So a winning strategy specifies a next move for every possible state of the tic-tac-toe board. You can think of it as a function from the state of the game to a next move.\n",
      "\n",
      "Perhaps the easiest way to think about winning strategies is recursively. Let\u2019s call a state of the game hot\u009d if the current player to move has a winning strategy to finish the game - this is the state that you want to be in. Otherwise, let\u2019s call it cold. Clearly, if a player can win in one move, the state of the game is hot. If the current player loses immediately for any available move, the state of the game is cold.\n",
      "\n",
      "*If the game is not about to end, the best strategy is to play not to lose. That is, the state of the game is hot if the current player has a move that puts the game in a cold state for the next player. Otherwise the state of the game is cold - whatever move the current player makes, the state of the game will be hot for the next player.*\n",
      "\n",
      "For this problem, let\u2019s consider a two-player version of the decreasing number game. The game begins with a number N - this is the state of the game. Two players take turns decreasing the number. Each player has two moves available: they can subtract 1 from the number, or divide it in half (not integer division - use floats for this!). The player that decreases the number below 1 is the loser.\n",
      "\n",
      "Write a script to prompt the user for the starting state of the game, N, and compute whether that state is hot or cold.\n",
      "\n",
      "Hint: Write a recursive function, is_hot, to check whether a state of the game is hot. For a base case, note that any game state less than 2 is cold - no matter which move a player makes, the number will drop below 1 and the player loses.\n",
      "\n",
      "--------------\n"
     ]
    },
    {
     "cell_type": "code",
     "collapsed": false,
     "input": [
      "# this seems to be an accurate representation of all possible routes through each game\n",
      "def routes(n,turn=0):\n",
      "    if n<2 and turn%2==1: return [1]\n",
      "    elif n<2 and turn%2==0: return [0]\n",
      "    else:\n",
      "        return [routes(float(n)-1,turn+1),routes(float(n)/2,turn+1)]"
     ],
     "language": "python",
     "metadata": {},
     "outputs": [],
     "prompt_number": 1
    },
    {
     "cell_type": "code",
     "collapsed": false,
     "input": [
      "# how to use the routes function to see if the game is a hot state? \n",
      "def is_hot(n):\n",
      "    from compiler.ast import flatten\n",
      "    r = routes(n)\n",
      "    max3 = flatten(r)[:3]\n",
      "    return 'hot' if max3[len(max3)-1]==1 else 'cold'"
     ],
     "language": "python",
     "metadata": {},
     "outputs": [],
     "prompt_number": 2
    },
    {
     "cell_type": "code",
     "collapsed": false,
     "input": [
      "is_hot(3) # should be hot, winnable"
     ],
     "language": "python",
     "metadata": {},
     "outputs": [
      {
       "output_type": "pyout",
       "prompt_number": 3,
       "text": [
        "'hot'"
       ]
      }
     ],
     "prompt_number": 3
    },
    {
     "cell_type": "code",
     "collapsed": false,
     "input": [
      "is_hot(2) # should be hot, winnable"
     ],
     "language": "python",
     "metadata": {},
     "outputs": [
      {
       "output_type": "pyout",
       "prompt_number": 4,
       "text": [
        "'hot'"
       ]
      }
     ],
     "prompt_number": 4
    },
    {
     "cell_type": "code",
     "collapsed": false,
     "input": [
      "is_hot(1.8) # should be cold"
     ],
     "language": "python",
     "metadata": {},
     "outputs": [
      {
       "output_type": "pyout",
       "prompt_number": 5,
       "text": [
        "'cold'"
       ]
      }
     ],
     "prompt_number": 5
    },
    {
     "cell_type": "code",
     "collapsed": false,
     "input": [
      "is_hot(4) # should be cold, not winnable"
     ],
     "language": "python",
     "metadata": {},
     "outputs": [
      {
       "output_type": "pyout",
       "prompt_number": 6,
       "text": [
        "'cold'"
       ]
      }
     ],
     "prompt_number": 6
    },
    {
     "cell_type": "code",
     "collapsed": false,
     "input": [
      "is_hot(5) # should be hot, winnable"
     ],
     "language": "python",
     "metadata": {},
     "outputs": [
      {
       "output_type": "pyout",
       "prompt_number": 7,
       "text": [
        "'hot'"
       ]
      }
     ],
     "prompt_number": 7
    },
    {
     "cell_type": "code",
     "collapsed": false,
     "input": [
      "is_hot(6) # should be cold, not winnable"
     ],
     "language": "python",
     "metadata": {},
     "outputs": [
      {
       "output_type": "pyout",
       "prompt_number": 8,
       "text": [
        "'cold'"
       ]
      }
     ],
     "prompt_number": 8
    },
    {
     "cell_type": "code",
     "collapsed": false,
     "input": [
      "is_hot(7) # should be hot, always winnable"
     ],
     "language": "python",
     "metadata": {},
     "outputs": [
      {
       "output_type": "pyout",
       "prompt_number": 9,
       "text": [
        "'hot'"
       ]
      }
     ],
     "prompt_number": 9
    },
    {
     "cell_type": "code",
     "collapsed": false,
     "input": [
      "is_hot(8) # cold?"
     ],
     "language": "python",
     "metadata": {},
     "outputs": [
      {
       "output_type": "pyout",
       "prompt_number": 10,
       "text": [
        "'cold'"
       ]
      }
     ],
     "prompt_number": 10
    },
    {
     "cell_type": "markdown",
     "metadata": {},
     "source": [
      "Solution\n",
      "=============\n",
      "Need to keep track of who's turn it is (either the final turn is yours, or the second player).\n",
      "\n",
      "If the last move is less than 2 and it was your turn, then you lost in that route. If the last move is less than 2 and it was the opponent's turn, then the second player loses that route. However, it is the combination of all routes that need to be analyzed. \n",
      "\n",
      "*Unless you have an answer for every move the opponent makes in order to win, then you don't have a winning strategy.*\n",
      "\n",
      "In the tree representation, the game will always move down the left side, where the combination ((0,0),1) is a win and ((1,1),0) is a loss (the last digit). \n",
      "\n",
      "My solution - the is_hot function - is very ugly, but was correct for all answers.\n",
      "\n",
      "-------------"
     ]
    },
    {
     "cell_type": "markdown",
     "metadata": {},
     "source": [
      "When you are done, test to see if the following game states are hot or cold:\n",
      "\n",
      "* 3\n",
      "* 6\n",
      "* 10\n",
      "* 35\n",
      "* 50\n",
      "* 99\n",
      "* 125\n",
      "\n",
      "---------"
     ]
    },
    {
     "cell_type": "code",
     "collapsed": false,
     "input": [
      "print '\\n'.join(['3: '+is_hot(3),'6: '+is_hot(6),'10: '+is_hot(10),'35: '+is_hot(35),'50: '+is_hot(50),'99: '+is_hot(99),'125: '+is_hot(125)])"
     ],
     "language": "python",
     "metadata": {},
     "outputs": [
      {
       "output_type": "stream",
       "stream": "stdout",
       "text": [
        "3: hot\n",
        "6: cold\n",
        "10: cold\n",
        "35: hot\n",
        "50: cold\n",
        "99: hot\n",
        "125: hot\n"
       ]
      }
     ],
     "prompt_number": 11
    }
   ],
   "metadata": {}
  }
 ]
}