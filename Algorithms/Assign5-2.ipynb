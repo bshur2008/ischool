{
 "metadata": {
  "name": "Assign5-2"
 },
 "nbformat": 3,
 "nbformat_minor": 0,
 "worksheets": [
  {
   "cells": [
    {
     "cell_type": "markdown",
     "metadata": {},
     "source": [
      "For this assignment please refer to this input file: adj.txt.\n",
      "\n",
      "Write a script that can accept an adjacency matrix as input, and construct a node-based representation of a graph.\n",
      "\n",
      "Next, write a method that takes two nodes as arguments, n1 and n2, and returns the number of nodes that are equidistant from n1 and n2. These are the nodes for which the shortest paths to n1 and n2 have the same length. Hint: run two breadth-first searches, one from n1 and one from n2.\n"
     ]
    },
    {
     "cell_type": "code",
     "collapsed": false,
     "input": [
      "class Graph:\n",
      "    def __init__(self, directed=False):\n",
      "        self._outgoing = {}\n",
      "        self._incoming = {} if directed else self._outgoing\n",
      "    \n",
      "    def is_directed(self):\n",
      "        return self._incoming is not self._outgoing\n",
      "    \n",
      "    def vertex_count(self):\n",
      "        return len(self._outgoing)\n",
      "    \n",
      "    def vertices(self):\n",
      "        return self._outgoing.keys()\n",
      "    \n",
      "    def edge_count(self):\n",
      "        total = sum(len(self._outgoing[v]) for v in self._outgoing)\n",
      "        return total if self.is_directed() else total // 2\n",
      "    \n",
      "    def edges(self):\n",
      "        result = set()\n",
      "        for secondary_map in self._outgoing.values():\n",
      "            result.update(secondary_map.values())\n",
      "        return result\n",
      "    \n",
      "    def get_edge(self, u, v):\n",
      "        return self._outgoing[u].get(v)\n",
      "    \n",
      "    def degree(self, v, outgoing=True):\n",
      "        adj = self._outgoing if outgoing else self._incoming\n",
      "        return len(adj[v])\n",
      "    \n",
      "    def incident_edges(self, v, outgoing=True):\n",
      "        adj = self._outgoing if outgoing else self._incoming\n",
      "        for edge in adj[v].values():\n",
      "            yield edge\n",
      "    \n",
      "    def insert_vertex(self, x=None):\n",
      "        v = self.Vertex(x)\n",
      "        self._outgoing[v] = {}\n",
      "        if self.is_directed():\n",
      "            self._incoming[v] = {}\n",
      "        return v\n",
      "    \n",
      "    def insert_edge(self, u, v, x=None):\n",
      "        e = self.Edge(u, v, x)\n",
      "        self._outgoing[u][v] = e\n",
      "        self._incoming[v][u] = e\n",
      "        return e\n",
      "    \n",
      "    class Vertex:\n",
      "        __slots__ = '_element'\n",
      "        \n",
      "        def __init__(self,x):\n",
      "            self._element = x\n",
      "        \n",
      "        def element(self):\n",
      "            return self._element\n",
      "        \n",
      "        def __hash__(self):\n",
      "            return hash(id(self))\n",
      "\n",
      "    class Edge:\n",
      "        __slots__ = '_origin','_destination','_element'\n",
      "        \n",
      "        def __init__(self, u, v, x):\n",
      "            self._origin = u\n",
      "            self._destination = v\n",
      "            self._element = x\n",
      "        \n",
      "        def endpoints(self):\n",
      "            return (self._origin, self._destination)\n",
      "        \n",
      "        def opposite(self, v):\n",
      "            return self._destination if v is self._origin else self._origin\n",
      "        \n",
      "        def element(self):\n",
      "            return self._element\n",
      "        \n",
      "        def __hash__(self):\n",
      "            return hash((self._origin, self._destination))\n",
      "\n"
     ],
     "language": "python",
     "metadata": {},
     "outputs": [],
     "prompt_number": 1
    },
    {
     "cell_type": "code",
     "collapsed": false,
     "input": [
      "adj = '''0 0 0 1 1 0 1 0 1 0 1 0 0 0 0 1 1 0 1 0 1 1 0 1 1  \n",
      "0 0 0 1 1 0 0 0 0 0 0 0 0 0 0 0 0 1 0 0 0 0 1 1 1  \n",
      "0 0 0 0 0 0 0 1 0 0 0 0 0 0 0 0 0 0 0 0 0 0 1 0 0  \n",
      "1 1 0 0 0 1 0 0 1 1 0 1 0 0 0 1 0 0 0 0 1 1 0 1 1  \n",
      "1 1 0 0 0 0 1 1 1 0 0 0 1 0 0 1 0 0 0 0 1 1 1 0 0  \n",
      "0 0 0 1 0 0 1 0 1 0 0 1 0 0 0 0 0 0 0 1 0 0 0 1 0  \n",
      "1 0 0 0 1 1 0 1 0 0 0 0 1 0 0 1 0 1 0 0 0 0 0 0 0  \n",
      "0 0 1 0 1 0 1 0 1 0 0 1 1 1 0 1 0 0 1 0 0 0 0 1 0  \n",
      "1 0 0 1 1 1 0 1 0 0 0 0 0 0 0 0 1 0 1 0 1 1 1 0 1  \n",
      "0 0 0 1 0 0 0 0 0 0 0 0 0 0 0 1 1 0 1 0 0 0 0 1 0  \n",
      "1 0 0 0 0 0 0 0 0 0 0 0 1 1 1 0 0 0 0 0 1 1 1 0 0  \n",
      "0 0 0 1 0 1 0 1 0 0 0 0 0 0 0 0 0 0 0 1 0 0 1 0 0  \n",
      "0 0 0 0 1 0 1 1 0 0 1 0 0 1 0 0 1 1 0 1 0 0 1 0 0  \n",
      "0 0 0 0 0 0 0 1 0 0 1 0 1 0 1 0 1 0 0 1 0 0 0 0 0  \n",
      "0 0 0 0 0 0 0 0 0 0 1 0 0 1 0 1 0 0 0 0 0 0 1 0 0  \n",
      "1 0 0 1 1 0 1 1 0 1 0 0 0 0 1 0 1 0 1 1 1 0 1 1 0  \n",
      "1 0 0 0 0 0 0 0 1 1 0 0 1 1 0 1 0 0 0 0 0 1 0 1 0  \n",
      "0 1 0 0 0 0 1 0 0 0 0 0 1 0 0 0 0 0 1 1 0 1 0 0 0  \n",
      "1 0 0 0 0 0 0 1 1 1 0 0 0 0 0 1 0 1 0 0 1 1 0 1 0  \n",
      "0 0 0 0 0 1 0 0 0 0 0 1 1 1 0 1 0 1 0 0 1 0 1 1 0  \n",
      "1 0 0 1 1 0 0 0 1 0 1 0 0 0 0 1 0 0 1 1 0 0 0 0 0  \n",
      "1 0 0 1 1 0 0 0 1 0 1 0 0 0 0 0 1 1 1 0 0 0 0 1 1  \n",
      "0 1 1 0 1 0 0 0 1 0 1 1 1 0 1 1 0 0 0 1 0 0 0 0 0  \n",
      "1 1 0 1 0 1 0 1 0 1 0 0 0 0 0 1 1 0 1 1 0 1 0 0 0  \n",
      "1 1 0 1 0 0 0 0 1 0 0 0 0 0 0 0 0 0 0 0 0 1 0 0 0\n",
      "'''"
     ],
     "language": "python",
     "metadata": {},
     "outputs": [],
     "prompt_number": 2
    },
    {
     "cell_type": "code",
     "collapsed": false,
     "input": [
      "import re\n",
      "class GraphAdj(Graph):\n",
      "    def read_adj(self,adj):\n",
      "        ''' Read in an ajacency matrix '''\n",
      "        out = []\n",
      "        for line in adj.split('\\n'):\n",
      "            out.append(re.sub(' ','',line))\n",
      "        self.adj_matrix = [ o for o in out if len(o)>0 ]\n",
      "    \n",
      "    def pack_nodes(self):\n",
      "        ''' Fill graph with nodes and edges \n",
      "            based on adjacency matrix\n",
      "        '''\n",
      "        v = []\n",
      "        for i,x in enumerate(self.adj_matrix):\n",
      "            u = self.insert_vertex(x=i)\n",
      "            v.append(u)\n",
      "        for i,x in enumerate(self.adj_matrix):\n",
      "            u = v[i]\n",
      "            for z,y in enumerate(self.adj_matrix[i]):\n",
      "                if y=='1': \n",
      "                    self.insert_edge(u, v[z])"
     ],
     "language": "python",
     "metadata": {},
     "outputs": [],
     "prompt_number": 3
    },
    {
     "cell_type": "code",
     "collapsed": false,
     "input": [
      "g = GraphAdj()\n",
      "g.read_adj(adj)\n",
      "g.pack_nodes()\n",
      "v = g.vertices()"
     ],
     "language": "python",
     "metadata": {},
     "outputs": [],
     "prompt_number": 4
    },
    {
     "cell_type": "code",
     "collapsed": false,
     "input": [
      "def BFS(g, s, discovered):\n",
      "    ''' Perform a Breadth-First Search '''\n",
      "    level = [s]\n",
      "    while len(level)>0:\n",
      "        next_level = []\n",
      "        for u in level:\n",
      "            for e in g.incident_edges(u):\n",
      "                v = e.opposite(u)\n",
      "                if v not in discovered:\n",
      "                    discovered[v] = e\n",
      "                    next_level.append(v)\n",
      "        level = next_level\n",
      "    return discovered\n"
     ],
     "language": "python",
     "metadata": {},
     "outputs": [],
     "prompt_number": 25
    },
    {
     "cell_type": "code",
     "collapsed": false,
     "input": [
      "BFS(g, v[10], {})"
     ],
     "language": "python",
     "metadata": {},
     "outputs": [
      {
       "output_type": "pyout",
       "prompt_number": 26,
       "text": [
        "{<__main__.Vertex instance at 0x10a164b00>: <__main__.Edge instance at 0x10a162b00>,\n",
        " <__main__.Vertex instance at 0x10a164cb0>: <__main__.Edge instance at 0x10a1629e0>,\n",
        " <__main__.Vertex instance at 0x10a164d88>: <__main__.Edge instance at 0x10a162638>,\n",
        " <__main__.Vertex instance at 0x10a18d170>: <__main__.Edge instance at 0x10a162950>,\n",
        " <__main__.Vertex instance at 0x10a18d248>: <__main__.Edge instance at 0x10a18acb0>,\n",
        " <__main__.Vertex instance at 0x10a18d290>: <__main__.Edge instance at 0x10a162c20>,\n",
        " <__main__.Vertex instance at 0x10a18d368>: <__main__.Edge instance at 0x10a1623f8>,\n",
        " <__main__.Vertex instance at 0x10a18d488>: <__main__.Edge instance at 0x10a162ab8>,\n",
        " <__main__.Vertex instance at 0x10a18db90>: <__main__.Edge instance at 0x10a3bb320>,\n",
        " <__main__.Vertex instance at 0x10a18dbd8>: <__main__.Edge instance at 0x10a162b00>,\n",
        " <__main__.Vertex instance at 0x10a1c1290>: <__main__.Edge instance at 0x10a3b5320>,\n",
        " <__main__.Vertex instance at 0x10a1c13f8>: <__main__.Edge instance at 0x10a3bb488>,\n",
        " <__main__.Vertex instance at 0x10a1c1518>: <__main__.Edge instance at 0x10a1628c0>,\n",
        " <__main__.Vertex instance at 0x10a1c15a8>: <__main__.Edge instance at 0x10a3bb1b8>,\n",
        " <__main__.Vertex instance at 0x10a1c1b48>: <__main__.Edge instance at 0x10a3bb8c0>,\n",
        " <__main__.Vertex instance at 0x10a1c1bd8>: <__main__.Edge instance at 0x10a1539e0>,\n",
        " <__main__.Vertex instance at 0x10a38b128>: <__main__.Edge instance at 0x10a1c2998>,\n",
        " <__main__.Vertex instance at 0x10a38b518>: <__main__.Edge instance at 0x10a3bb830>,\n",
        " <__main__.Vertex instance at 0x10a38b8c0>: <__main__.Edge instance at 0x10a150098>,\n",
        " <__main__.Vertex instance at 0x10a38b950>: <__main__.Edge instance at 0x10a1bfcb0>,\n",
        " <__main__.Vertex instance at 0x10a38ba70>: <__main__.Edge instance at 0x10a162200>,\n",
        " <__main__.Vertex instance at 0x10a38bc68>: <__main__.Edge instance at 0x10a3b5a70>,\n",
        " <__main__.Vertex instance at 0x10a38bcb0>: <__main__.Edge instance at 0x10a3b5b48>,\n",
        " <__main__.Vertex instance at 0x10a38be18>: <__main__.Edge instance at 0x10a3b59e0>,\n",
        " <__main__.Vertex instance at 0x10a38be60>: <__main__.Edge instance at 0x10a162ef0>}"
       ]
      }
     ],
     "prompt_number": 26
    },
    {
     "cell_type": "markdown",
     "metadata": {},
     "source": [
      "The file adj.txt contains an adjacency matrix representing a graph with 25 nodes. Node 0 is represented by the first column and the first town, node 1 by the second column and the second row, and so forth. Use your script to compute the following:"
     ]
    },
    {
     "cell_type": "markdown",
     "metadata": {},
     "source": [
      "1.Find the number of nodes equidistant to node 0 and node 1."
     ]
    },
    {
     "cell_type": "code",
     "collapsed": false,
     "input": [
      "equi_dist(g, v[0], v[1])"
     ],
     "language": "python",
     "metadata": {},
     "outputs": [
      {
       "ename": "NameError",
       "evalue": "name 'equi_dist' is not defined",
       "output_type": "pyerr",
       "traceback": [
        "\u001b[0;31m---------------------------------------------------------------------------\u001b[0m\n\u001b[0;31mNameError\u001b[0m                                 Traceback (most recent call last)",
        "\u001b[0;32m<ipython-input-7-515b65234ea8>\u001b[0m in \u001b[0;36m<module>\u001b[0;34m()\u001b[0m\n\u001b[0;32m----> 1\u001b[0;31m \u001b[0mequi_dist\u001b[0m\u001b[0;34m(\u001b[0m\u001b[0mg\u001b[0m\u001b[0;34m,\u001b[0m \u001b[0mv\u001b[0m\u001b[0;34m[\u001b[0m\u001b[0;36m0\u001b[0m\u001b[0;34m]\u001b[0m\u001b[0;34m,\u001b[0m \u001b[0mv\u001b[0m\u001b[0;34m[\u001b[0m\u001b[0;36m1\u001b[0m\u001b[0;34m]\u001b[0m\u001b[0;34m)\u001b[0m\u001b[0;34m\u001b[0m\u001b[0m\n\u001b[0m",
        "\u001b[0;31mNameError\u001b[0m: name 'equi_dist' is not defined"
       ]
      }
     ],
     "prompt_number": 7
    },
    {
     "cell_type": "markdown",
     "metadata": {},
     "source": [
      "2.Find the number of nodes equidistant to node 0 and node 5."
     ]
    },
    {
     "cell_type": "code",
     "collapsed": false,
     "input": [
      "equi_dist(g, v[0], v[5])"
     ],
     "language": "python",
     "metadata": {},
     "outputs": []
    },
    {
     "cell_type": "markdown",
     "metadata": {},
     "source": [
      "3.Find the number of nodes equidistant to node 1 and node 8."
     ]
    },
    {
     "cell_type": "code",
     "collapsed": false,
     "input": [
      "equi_dist(g, v[1], v[8])"
     ],
     "language": "python",
     "metadata": {},
     "outputs": []
    }
   ],
   "metadata": {}
  }
 ]
}