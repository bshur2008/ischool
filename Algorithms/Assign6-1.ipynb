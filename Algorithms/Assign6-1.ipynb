{
 "metadata": {
  "name": "Assign6-1"
 },
 "nbformat": 3,
 "nbformat_minor": 0,
 "worksheets": [
  {
   "cells": [
    {
     "cell_type": "raw",
     "metadata": {},
     "source": [
      "In a classic schoolyard game, each player has three moves: rock, paper, and scissors, represented here as R, P, and S respectively. In this exercise, you will write a script that tries to predict the next move of an opponent using a rather na\u00efve learning algorithm. The rules are simple: your script will predict the probability of each possible move based on the opponent\u2019s previous four moves. For every possible sequence of four moves, you should maintain beliefs about the probability of every possible next move. To do this, use a dictionary in which the keys are four-move sequences, and the values are tuples representing the probability of an R, P, and S.\n",
      "\n",
      "When a sequence of four moves appears for the first time, you should initialize your beliefs about the opponents next move to be (1/3, 1/3, 1/3). When you observe the opponent\u2019s actual move, you should update your beliefs using a weighting factor, a. Multiply all three probabilities by (1 - a) then add a to the one corresponding to the opponent\u2019s move. You should begin this learning process with the opponent\u2019s fifth move and continue updating with every move after that.\n",
      "\n",
      "For this exercise, use a value of a = 0.10.\n",
      "\n",
      "According to this model, what is the most likely next move after the following sequences?"
     ]
    },
    {
     "cell_type": "code",
     "collapsed": false,
     "input": [
      "from itertools import product\n",
      "class RPS:\n",
      "    def __init__(self, alpha = 0.10):\n",
      "        self.sequences = {}\n",
      "        self.default_probability = (float(1)/3,float(1)/3,float(1)/3)\n",
      "        self.alpha = alpha\n",
      "        self.choices = ('R','P','S')\n",
      "        self.moves = ''\n",
      "    \n",
      "    def set_sequences(self):\n",
      "        for seq in list(p for p in product(range(3), repeat=4)):\n",
      "            choice = self.choices[seq[0]]+self.choices[seq[1]]+self.choices[seq[2]]+self.choices[seq[3]]\n",
      "            self.sequences[choice] = self.default_probability\n",
      "    \n",
      "    def analyze_moves(self, moves):\n",
      "        self.moves = moves\n",
      "        for z,x in enumerate(moves):\n",
      "            if z>4:\n",
      "                previous_choices=moves[z-5:z-1]\n",
      "                actual = moves[z-1]\n",
      "                predicted = self.sequences[previous_choices]\n",
      "                new_probs = list(x*(1-self.alpha) for x in predicted)\n",
      "                for i,y in enumerate(self.choices):\n",
      "                    if y == actual: new_probs[i] += self.alpha\n",
      "                # print previous_choices,actual,predicted,new_probs\n",
      "                self.sequences[previous_choices] = tuple(new_probs)\n",
      "    \n",
      "    def predict_next(self):\n",
      "        previous_choices = self.moves[-4:]\n",
      "        probs = self.sequences[previous_choices]\n",
      "        max_prob = max(probs)\n",
      "        if max_prob == float(1)/3: return 'Unknown'\n",
      "        for i,x in enumerate(probs):\n",
      "            if x == max_prob: return self.choices[i]\n"
     ],
     "language": "python",
     "metadata": {},
     "outputs": [],
     "prompt_number": 165
    },
    {
     "cell_type": "raw",
     "metadata": {},
     "source": [
      "Sequence 1:\n",
      "\n",
      "\n",
      "PSSPRPPPPSSRPRRPRSRSSRPPRSSSSSPSRSSRPSSSRPRPSSPRPP"
     ]
    },
    {
     "cell_type": "code",
     "collapsed": false,
     "input": [
      "r = RPS()\n",
      "r.set_sequences()\n",
      "r.analyze_moves('PSSPRPPPPSSRPRRPRSRSSRPPRSSSSSPSRSSRPSSSRPRPSSPRPP')\n",
      "r.sequences[r.moves[-4:]], r.predict_next()"
     ],
     "language": "python",
     "metadata": {},
     "outputs": [
      {
       "output_type": "pyout",
       "prompt_number": 166,
       "text": [
        "((0.3, 0.4, 0.3), 'P')"
       ]
      }
     ],
     "prompt_number": 166
    },
    {
     "cell_type": "raw",
     "metadata": {},
     "source": [
      "Sequence 2:\n",
      "\n",
      "\n",
      "RPSSPRRSRSPSPRPPPPSRSPPRRRSPSSRSSSSPPSSPRRSSRPRSPPSRSRPRRRSSSSPSRSPRSRRPPSR"
     ]
    },
    {
     "cell_type": "code",
     "collapsed": false,
     "input": [
      "r = RPS()\n",
      "r.set_sequences()\n",
      "r.analyze_moves('RPSSPRRSRSPSPRPPPPSRSPPRRRSPSSRSSSSPPSSPRRSSRPRSPPSRSRPRRRSSSSPSRSPRSRRPPSR')\n",
      "r.sequences[r.moves[-4:]], r.predict_next()"
     ],
     "language": "python",
     "metadata": {},
     "outputs": [
      {
       "output_type": "pyout",
       "prompt_number": 167,
       "text": [
        "((0.27, 0.27, 0.4600000000000001), 'S')"
       ]
      }
     ],
     "prompt_number": 167
    },
    {
     "cell_type": "raw",
     "metadata": {},
     "source": [
      "Sequence 3:\n",
      "\n",
      "\n",
      "SPPPPSRSPPPRSPRRSRPPSPRPSRRRSSRRPRRSPSPSPSRRRRSSSRPPSPRPSRSRPRSRPRSRRSPRPRRRSRRPSSRSRSRSPSSPRRRRRPRR"
     ]
    },
    {
     "cell_type": "code",
     "collapsed": false,
     "input": [
      "r = RPS()\n",
      "r.set_sequences()\n",
      "r.analyze_moves('SPPPPSRSPPPRSPRRSRPPSPRPSRRRSSRRPRRSPSPSPSRRRRSSSRPPSPRPSRSRPRSRPRSRRSPRPRRRSRRPSSRSRSRSPSSPRRRRRPRR')\n",
      "r.sequences[r.moves[-4:]], r.predict_next()"
     ],
     "language": "python",
     "metadata": {},
     "outputs": [
      {
       "output_type": "pyout",
       "prompt_number": 168,
       "text": [
        "((0.37, 0.27, 0.36000000000000004), 'R')"
       ]
      }
     ],
     "prompt_number": 168
    },
    {
     "cell_type": "raw",
     "metadata": {},
     "source": [
      "Sequence 4:\n",
      "\n",
      "\n",
      "PPSRPPPSSPSPSRRSPRRPPRPRRPRRRSPPRPSPRRSRPRRSSRSPPPRRSSPRSPSPSRPPSSPSRRRRSSRPRRPPPRSPPSPRPRSPRPPSRRSRPPRSPRSSPPPRRRPSRPPSPSRSPRPPPRRPPPPSRRSPPSPPSPRPPP"
     ]
    },
    {
     "cell_type": "code",
     "collapsed": false,
     "input": [
      "r = RPS()\n",
      "r.set_sequences()\n",
      "r.analyze_moves('PPSRPPPSSPSPSRRSPRRPPRPRRPRRRSPPRPSPRRSRPRRSSRSPPPRRSSPRSPSPSRPPSSPSRRRRSSRPRRPPPRSPPSPRPRSPRPPSRRSRPPRSPRSSPPPRRRPSRPPSPSRSPRPPPRRPPPPSRRSPPSPPSPRPPP')\n",
      "r.sequences[r.moves[-4:]], r.predict_next()"
     ],
     "language": "python",
     "metadata": {},
     "outputs": [
      {
       "output_type": "pyout",
       "prompt_number": 169,
       "text": [
        "((0.38970000000000005, 0.31870000000000004, 0.2916000000000001), 'R')"
       ]
      }
     ],
     "prompt_number": 169
    }
   ],
   "metadata": {}
  }
 ]
}