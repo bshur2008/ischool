{
 "metadata": {
  "name": "assign4-1"
 },
 "nbformat": 3,
 "nbformat_minor": 0,
 "worksheets": [
  {
   "cells": [
    {
     "cell_type": "raw",
     "metadata": {},
     "source": [
      "This problem is adapted from C-6.22 in the textbook.\n",
      "\n",
      "Postfix notation is an alternate format for writing mathematical expressions. If op is an operator, and exp1 and exp2 are expressions, instead of writing exp1 op exp2, we would write exp1 exp2 op. An interesting feature of this notation is that no parentheses are needed to communicate the order of operations, because there is only one order consistent with each expression.\n",
      "\n",
      "As an example, the mathematical expression ((5 + 2) * (8 - 3)) / 4 would be written 5 2 + 8 3 - * 4 / in postfix notation.\n",
      "\n",
      "Write a script to evaluate postfix expressions involving numbers and the four operators +,-,*, and /. Your solution should be based on a single stack (either array-based or link-based) and you should not use recursive function calls.\n",
      "\n",
      "You may want to import the operator module, which provides the following methods corresponding to basic mathematical operators: operator.add, operator.sub, operator.mul, operator.truediv. For example, if you set f equal to operator.add, you can find the sum of exp1 and exp2 using f(exp1, exp2).\n",
      "\n",
      "When you are done, evaluate the following postfix expressions. Please round your answer to the nearest hundredth decimal point (ie: 0.01): "
     ]
    },
    {
     "cell_type": "code",
     "collapsed": false,
     "input": [
      "import operator\n",
      "\n",
      "class PostfixStack:\n",
      "    '''Create an empty stack'''\n",
      "    def __init__(self):\n",
      "        self._data = []\n",
      "        self.add = operator.add\n",
      "        self.sub = operator.sub\n",
      "        self.mul = operator.mul\n",
      "        self.div = operator.truediv\n",
      "    \n",
      "    def __repr__(self):\n",
      "        return str(self._data)\n",
      "    \n",
      "    def __str__(self):\n",
      "        return ' '.join(data)\n",
      "    \n",
      "    def push(self, e):\n",
      "        '''Add element to top of the stack'''\n",
      "        self._data.append(e)\n",
      "    \n",
      "    def isEmpty(self):\n",
      "        return len(self._data)==0\n",
      "    \n",
      "    def top(self):\n",
      "        '''Return the top element of the stack'''\n",
      "        if self.isEmpty():\n",
      "            raise Empty('Stack is empty')\n",
      "        else:\n",
      "            self._data[-1]\n",
      "    \n",
      "    def pop(self):\n",
      "        '''Return and remove the last element of the stack'''\n",
      "        if self.isEmpty():\n",
      "            raise Empty('Stack is empty')\n",
      "        else:\n",
      "            return self._data.pop()\n",
      "    \n",
      "    def popLastTwo(self):\n",
      "        '''Return the last two elements of the stack'''\n",
      "        return self.pop(), self.pop()\n",
      "\n",
      "class Postfix:\n",
      "    def __init__(self,expr):\n",
      "        '''Initialize new postfix object'''\n",
      "        self._expr_str = expr\n",
      "        self._expr_list = expr.split()\n",
      "        self.pf = PostfixStack()\n",
      "        self.OPS = ['+','-','/','*']\n",
      "    \n",
      "    def __str__(self):\n",
      "        return self._expr_str\n",
      "    \n",
      "    def _exp(self, o):\n",
      "        '''Decide which operation to execute'''\n",
      "        if o not in self.OPS: raise Exception('Operation not valid')\n",
      "        elif o == '+': return self.pf.add\n",
      "        elif o == '-': return self.pf.sub\n",
      "        elif o == '/': return self.pf.div\n",
      "        elif o == '*': return self.pf.mul\n",
      "    \n",
      "    def evaluate(self):\n",
      "        '''Evaluate postfix expression'''\n",
      "        for val in self._expr_list:\n",
      "            if val in self.OPS: \n",
      "                    x,y = self.pf.popLastTwo()\n",
      "                    exp = self._exp(val)\n",
      "                    self.pf.push(exp(float(y),float(x)))\n",
      "            else:\n",
      "                self.pf.push(val)\n",
      "        return self.pf\n"
     ],
     "language": "python",
     "metadata": {},
     "outputs": [],
     "prompt_number": 66
    },
    {
     "cell_type": "markdown",
     "metadata": {},
     "source": [
      "Postfix Expression #1:\n",
      "\n",
      "\n",
      "5 2 + 8 3 - * 4 /"
     ]
    },
    {
     "cell_type": "code",
     "collapsed": false,
     "input": [
      "Postfix('5 2 + 8 3 - * 4 /').evaluate()"
     ],
     "language": "python",
     "metadata": {},
     "outputs": [
      {
       "output_type": "pyout",
       "prompt_number": 67,
       "text": [
        "[8.75]"
       ]
      }
     ],
     "prompt_number": 67
    },
    {
     "cell_type": "code",
     "collapsed": false,
     "input": [
      "# Test\n",
      "((float(5+2))*(float(8-3)))/float(4)"
     ],
     "language": "python",
     "metadata": {},
     "outputs": [
      {
       "output_type": "pyout",
       "prompt_number": 68,
       "text": [
        "8.75"
       ]
      }
     ],
     "prompt_number": 68
    },
    {
     "cell_type": "markdown",
     "metadata": {},
     "source": [
      "Postfix Expression #2:\n",
      "\n",
      "\n",
      "4 2 8 / 5 2 + 2 * - +"
     ]
    },
    {
     "cell_type": "code",
     "collapsed": false,
     "input": [
      "Postfix('4 2 8 / 5 2 + 2 * - +').evaluate()"
     ],
     "language": "python",
     "metadata": {},
     "outputs": [
      {
       "output_type": "pyout",
       "prompt_number": 69,
       "text": [
        "[-9.75]"
       ]
      }
     ],
     "prompt_number": 69
    },
    {
     "cell_type": "code",
     "collapsed": false,
     "input": [
      "# Test\n",
      "4+(float(2)/float(8))-(float(5+2))*float(2) "
     ],
     "language": "python",
     "metadata": {},
     "outputs": [
      {
       "output_type": "pyout",
       "prompt_number": 70,
       "text": [
        "-9.75"
       ]
      }
     ],
     "prompt_number": 70
    },
    {
     "cell_type": "markdown",
     "metadata": {},
     "source": [
      "Postfix Expression #3:\n",
      "\n",
      "\n",
      "2 2 8 4 5 / 6 * * 3 4 / 5 * + + 5 - 2 * 10 + +"
     ]
    },
    {
     "cell_type": "code",
     "collapsed": false,
     "input": [
      "Postfix('2 2 8 4 5 / 6 * * 3 4 / 5 * + + 5 - 2 * 10 + +').evaluate()"
     ],
     "language": "python",
     "metadata": {},
     "outputs": [
      {
       "output_type": "pyout",
       "prompt_number": 71,
       "text": [
        "[90.30000000000001]"
       ]
      }
     ],
     "prompt_number": 71
    }
   ],
   "metadata": {}
  }
 ]
}