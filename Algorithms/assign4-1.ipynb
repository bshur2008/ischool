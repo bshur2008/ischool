{
 "metadata": {
  "name": "assign4-1"
 },
 "nbformat": 3,
 "nbformat_minor": 0,
 "worksheets": [
  {
   "cells": [
    {
     "cell_type": "raw",
     "metadata": {},
     "source": [
      "This problem is adapted from C-6.22 in the textbook.\n",
      "\n",
      "Postfix notation is an alternate format for writing mathematical expressions. If op is an operator, and exp1 and exp2 are expressions, instead of writing exp1 op exp2, we would write exp1 exp2 op. An interesting feature of this notation is that no parentheses are needed to communicate the order of operations, because there is only one order consistent with each expression.\n",
      "\n",
      "As an example, the mathematical expression ((5 + 2) * (8 - 3)) / 4 would be written 5 2 + 8 3 - * 4 / in postfix notation.\n",
      "\n",
      "Write a script to evaluate postfix expressions involving numbers and the four operators +,-,*, and /. Your solution should be based on a single stack (either array-based or link-based) and you should not use recursive function calls.\n",
      "\n",
      "You may want to import the operator module, which provides the following methods corresponding to basic mathematical operators: operator.add, operator.sub, operator.mul, operator.truediv. For example, if you set f equal to operator.add, you can find the sum of exp1 and exp2 using f(exp1, exp2).\n",
      "\n",
      "When you are done, evaluate the following postfix expressions. Please round your answer to the nearest hundredth decimal point (ie: 0.01): "
     ]
    },
    {
     "cell_type": "markdown",
     "metadata": {},
     "source": [
      "Postfix Expression #1:\n",
      "\n",
      "\n",
      "5 2 + 8 3 - * 4 /"
     ]
    },
    {
     "cell_type": "markdown",
     "metadata": {},
     "source": [
      "Postfix Expression #2:\n",
      "\n",
      "\n",
      "4 2 8 / 5 2 + 2 * - +"
     ]
    },
    {
     "cell_type": "markdown",
     "metadata": {},
     "source": [
      "Postfix Expression #3:\n",
      "\n",
      "\n",
      "2 2 8 4 5 / 6 * * 3 4 / 5 * + + 5 - 2 * 10 + +"
     ]
    }
   ],
   "metadata": {}
  }
 ]
}