{
 "metadata": {
  "name": "Assign5-1"
 },
 "nbformat": 3,
 "nbformat_minor": 0,
 "worksheets": [
  {
   "cells": [
    {
     "cell_type": "markdown",
     "metadata": {},
     "source": [
      "For this assignment please refer to this input file: adj.txt.\n",
      "\n",
      "Write a script that can accept an adjacency matrix as input, and construct a node-based representation of a graph.\n",
      "\n",
      "Next, write a method that takes two nodes as arguments, n1 and n2, and returns the number of nodes that are equidistant from n1 and n2. These are the nodes for which the shortest paths to n1 and n2 have the same length. Hint: run two breadth-first searches, one from n1 and one from n2.\n",
      "\n",
      "The file adj.txt contains an adjacency matrix representing a graph with 25 nodes. Node 0 is represented by the first column and the first town, node 1 by the second column and the second row, and so forth. Use your script to compute the following:"
     ]
    },
    {
     "cell_type": "markdown",
     "metadata": {},
     "source": [
      "1.Find the number of nodes equidistant to node 0 and node 1."
     ]
    },
    {
     "cell_type": "markdown",
     "metadata": {},
     "source": [
      "2.Find the number of nodes equidistant to node 0 and node 5."
     ]
    },
    {
     "cell_type": "markdown",
     "metadata": {},
     "source": [
      "3.Find the number of nodes equidistant to node 1 and node 8."
     ]
    }
   ],
   "metadata": {}
  }
 ]
}