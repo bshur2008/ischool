{
 "metadata": {
  "name": "Assign5-1"
 },
 "nbformat": 3,
 "nbformat_minor": 0,
 "worksheets": [
  {
   "cells": [
    {
     "cell_type": "markdown",
     "metadata": {},
     "source": [
      "For this assignment please refer to this input file: adj.txt.\n",
      "\n",
      "Write a script that can accept an adjacency matrix as input, and construct a node-based representation of a graph.\n",
      "\n",
      "Next, write a method that takes two nodes as arguments, n1 and n2, and returns the number of nodes that are equidistant from n1 and n2. These are the nodes for which the shortest paths to n1 and n2 have the same length. Hint: run two breadth-first searches, one from n1 and one from n2.\n"
     ]
    },
    {
     "cell_type": "code",
     "collapsed": false,
     "input": [
      "class GraphNode:\n",
      "    ''' A node for an undirected linked graph '''\n",
      "    def __init__(self, value = None):\n",
      "        self.value = value\n",
      "        self.connections = []\n",
      "    \n",
      "    def add_connections(self, other):\n",
      "        if other not in self.connections:\n",
      "            self.connections.append(other)\n",
      "        if self not in other.connections:\n",
      "            other.connections.append(self)\n",
      "    \n",
      "    def get_connections(self):\n",
      "        return self.connections"
     ],
     "language": "python",
     "metadata": {},
     "outputs": [],
     "prompt_number": 1
    },
    {
     "cell_type": "code",
     "collapsed": false,
     "input": [
      "adj = '''0 0 0 1 1 0 1 0 1 0 1 0 0 0 0 1 1 0 1 0 1 1 0 1 1  \n",
      "0 0 0 1 1 0 0 0 0 0 0 0 0 0 0 0 0 1 0 0 0 0 1 1 1  \n",
      "0 0 0 0 0 0 0 1 0 0 0 0 0 0 0 0 0 0 0 0 0 0 1 0 0  \n",
      "1 1 0 0 0 1 0 0 1 1 0 1 0 0 0 1 0 0 0 0 1 1 0 1 1  \n",
      "1 1 0 0 0 0 1 1 1 0 0 0 1 0 0 1 0 0 0 0 1 1 1 0 0  \n",
      "0 0 0 1 0 0 1 0 1 0 0 1 0 0 0 0 0 0 0 1 0 0 0 1 0  \n",
      "1 0 0 0 1 1 0 1 0 0 0 0 1 0 0 1 0 1 0 0 0 0 0 0 0  \n",
      "0 0 1 0 1 0 1 0 1 0 0 1 1 1 0 1 0 0 1 0 0 0 0 1 0  \n",
      "1 0 0 1 1 1 0 1 0 0 0 0 0 0 0 0 1 0 1 0 1 1 1 0 1  \n",
      "0 0 0 1 0 0 0 0 0 0 0 0 0 0 0 1 1 0 1 0 0 0 0 1 0  \n",
      "1 0 0 0 0 0 0 0 0 0 0 0 1 1 1 0 0 0 0 0 1 1 1 0 0  \n",
      "0 0 0 1 0 1 0 1 0 0 0 0 0 0 0 0 0 0 0 1 0 0 1 0 0  \n",
      "0 0 0 0 1 0 1 1 0 0 1 0 0 1 0 0 1 1 0 1 0 0 1 0 0  \n",
      "0 0 0 0 0 0 0 1 0 0 1 0 1 0 1 0 1 0 0 1 0 0 0 0 0  \n",
      "0 0 0 0 0 0 0 0 0 0 1 0 0 1 0 1 0 0 0 0 0 0 1 0 0  \n",
      "1 0 0 1 1 0 1 1 0 1 0 0 0 0 1 0 1 0 1 1 1 0 1 1 0  \n",
      "1 0 0 0 0 0 0 0 1 1 0 0 1 1 0 1 0 0 0 0 0 1 0 1 0  \n",
      "0 1 0 0 0 0 1 0 0 0 0 0 1 0 0 0 0 0 1 1 0 1 0 0 0  \n",
      "1 0 0 0 0 0 0 1 1 1 0 0 0 0 0 1 0 1 0 0 1 1 0 1 0  \n",
      "0 0 0 0 0 1 0 0 0 0 0 1 1 1 0 1 0 1 0 0 1 0 1 1 0  \n",
      "1 0 0 1 1 0 0 0 1 0 1 0 0 0 0 1 0 0 1 1 0 0 0 0 0  \n",
      "1 0 0 1 1 0 0 0 1 0 1 0 0 0 0 0 1 1 1 0 0 0 0 1 1  \n",
      "0 1 1 0 1 0 0 0 1 0 1 1 1 0 1 1 0 0 0 1 0 0 0 0 0  \n",
      "1 1 0 1 0 1 0 1 0 1 0 0 0 0 0 1 1 0 1 1 0 1 0 0 0  \n",
      "1 1 0 1 0 0 0 0 1 0 0 0 0 0 0 0 0 0 0 0 0 1 0 0 0\n",
      "'''"
     ],
     "language": "python",
     "metadata": {},
     "outputs": [],
     "prompt_number": 2
    },
    {
     "cell_type": "code",
     "collapsed": false,
     "input": [
      "import re\n",
      "def read_adj(adj):\n",
      "    ''' Read in an ajacency matrix '''\n",
      "    out = []\n",
      "    for line in adj.split('\\n'):\n",
      "        out.append(re.sub(' ','',line))\n",
      "    return [ o for o in out if len(o)>0 ]"
     ],
     "language": "python",
     "metadata": {},
     "outputs": [],
     "prompt_number": 3
    },
    {
     "cell_type": "code",
     "collapsed": false,
     "input": [
      "m = read_adj(adj)\n",
      "for i,x in enumerate(m): \n",
      "    print i,x"
     ],
     "language": "python",
     "metadata": {},
     "outputs": [
      {
       "output_type": "stream",
       "stream": "stdout",
       "text": [
        "0 0001101010100001101011011\n",
        "1 0001100000000000010000111\n",
        "2 0000000100000000000000100\n",
        "3 1100010011010001000011011\n",
        "4 1100001110001001000011100\n",
        "5 0001001010010000000100010\n",
        "6 1000110100001001010000000\n",
        "7 0010101010011101001000010\n",
        "8 1001110100000000101011101\n",
        "9 0001000000000001101000010\n",
        "10 1000000000001110000011100\n",
        "11 0001010100000000000100100\n",
        "12 0000101100100100110100100\n",
        "13 0000000100101010100100000\n",
        "14 0000000000100101000000100\n",
        "15 1001101101000010101110110\n",
        "16 1000000011001101000001010\n",
        "17 0100001000001000001101000\n",
        "18 1000000111000001010011010\n",
        "19 0000010000011101010010110\n",
        "20 1001100010100001001100000\n",
        "21 1001100010100000111000011\n",
        "22 0110100010111011000100000\n",
        "23 1101010101000001101101000\n",
        "24 1101000010000000000001000\n"
       ]
      }
     ],
     "prompt_number": 4
    },
    {
     "cell_type": "code",
     "collapsed": false,
     "input": [
      "def pack_nodes(adj_matrix):\n",
      "    ''' Create a list of nodes with connections \n",
      "        based on adjacency matrix\n",
      "    '''\n",
      "    nodes = [GraphNode(i) for i,x in enumerate(adj_matrix)]\n",
      "    for i,x in enumerate(adj_matrix):\n",
      "        for z,y in enumerate(adj_matrix[i]):\n",
      "            if y=='1': nodes[i].add_connections(nodes[z])\n",
      "    return nodes\n",
      "nodes = pack_nodes(m)\n",
      "print [ n.value for n in nodes[0].connections ] # 0001101010100001101011011\n",
      "print [ n.value for n in nodes[10].connections ] # 1000000000001110000011100\n",
      "print [ n.value for n in nodes[24].connections ] # 1101000010000000000001000"
     ],
     "language": "python",
     "metadata": {},
     "outputs": [
      {
       "output_type": "stream",
       "stream": "stdout",
       "text": [
        "[3, 4, 6, 8, 10, 15, 16, 18, 20, 21, 23, 24]\n",
        "[0, 12, 13, 14, 20, 21, 22]\n",
        "[0, 1, 3, 8, 21]\n"
       ]
      }
     ],
     "prompt_number": 5
    },
    {
     "cell_type": "code",
     "collapsed": false,
     "input": [
      "class Graph:\n",
      "    def __init__(self, adj_str = ''):\n",
      "        ''' Initialize with adjacency matrix '''\n",
      "        self.adj_str = adj_str \n",
      "        self.adj_matrix = []\n",
      "        self.nodes = []\n",
      "    \n",
      "    def __str__(self):\n",
      "        ''' Return string representation '''\n",
      "        return self.adj_str\n",
      "    \n",
      "    def read_adj(self, adj_str = None):\n",
      "        ''' Read in an ajacency matrix '''\n",
      "        if adj_str:\n",
      "            self.adj_str = adj_str\n",
      "        out = []\n",
      "        for line in self.adj_str.split('\\n'):\n",
      "            out.append(re.sub(' ','',line))\n",
      "        self.adj_matrix = [ o for o in out if len(o)>0 ]\n",
      "    \n",
      "    def pack_nodes(self):\n",
      "        ''' Create a list of nodes with connections \n",
      "            based on adjacency matrix\n",
      "        '''\n",
      "        nodes = [GraphNode(i) for i,x in enumerate(self.adj_matrix)]\n",
      "        for i,x in enumerate(self.adj_matrix):\n",
      "            for z,y in enumerate(self.adj_matrix[i]):\n",
      "                if y=='1': nodes[i].add_connections(nodes[z])\n",
      "        self.nodes = nodes"
     ],
     "language": "python",
     "metadata": {},
     "outputs": [],
     "prompt_number": 6
    },
    {
     "cell_type": "code",
     "collapsed": false,
     "input": [
      "g = Graph()\n",
      "g.read_adj(adj)\n",
      "g.pack_nodes()"
     ],
     "language": "python",
     "metadata": {},
     "outputs": [],
     "prompt_number": 7
    },
    {
     "cell_type": "code",
     "collapsed": false,
     "input": [
      "def BFS(g, s, discovered):\n",
      "    ''' Perform a Breadth-First Search '''\n",
      "    level = [s]\n",
      "    i = 0\n",
      "    while len(level)>0:\n",
      "        next_level = []\n",
      "        for u in level:\n",
      "            for v in g.nodes[u].get_connections():\n",
      "                if v.value not in discovered:\n",
      "                    discovered[v.value] = i #Connect the discovered node with the level of discovery\n",
      "                    next_level.append(v.value) #Start from the next set of nodes\n",
      "        level = next_level\n",
      "        i += 1\n",
      "    return discovered\n",
      "\n",
      "def equi_dist(g, n1, n2):\n",
      "    ''' Calculate number of shared distances from two nodes '''\n",
      "    i = 0\n",
      "    d1, d2 = BFS(g, n1, {}), BFS(g, n2, {})\n",
      "    for k in d1:\n",
      "        if d1[k] == d2[k]: i+=1\n",
      "    return i"
     ],
     "language": "python",
     "metadata": {},
     "outputs": [],
     "prompt_number": 8
    },
    {
     "cell_type": "markdown",
     "metadata": {},
     "source": [
      "The file adj.txt contains an adjacency matrix representing a graph with 25 nodes. Node 0 is represented by the first column and the first town, node 1 by the second column and the second row, and so forth. Use your script to compute the following:"
     ]
    },
    {
     "cell_type": "markdown",
     "metadata": {},
     "source": [
      "1.Find the number of nodes equidistant to node 0 and node 1."
     ]
    },
    {
     "cell_type": "code",
     "collapsed": false,
     "input": [
      "equi_dist(g, 0, 1)"
     ],
     "language": "python",
     "metadata": {},
     "outputs": [
      {
       "output_type": "pyout",
       "prompt_number": 9,
       "text": [
        "13"
       ]
      }
     ],
     "prompt_number": 9
    },
    {
     "cell_type": "markdown",
     "metadata": {},
     "source": [
      "2.Find the number of nodes equidistant to node 0 and node 5."
     ]
    },
    {
     "cell_type": "code",
     "collapsed": false,
     "input": [
      "equi_dist(g, 0, 5)"
     ],
     "language": "python",
     "metadata": {},
     "outputs": [
      {
       "output_type": "pyout",
       "prompt_number": 10,
       "text": [
        "14"
       ]
      }
     ],
     "prompt_number": 10
    },
    {
     "cell_type": "markdown",
     "metadata": {},
     "source": [
      "3.Find the number of nodes equidistant to node 1 and node 8."
     ]
    },
    {
     "cell_type": "code",
     "collapsed": false,
     "input": [
      "equi_dist(g, 1, 8)"
     ],
     "language": "python",
     "metadata": {},
     "outputs": [
      {
       "output_type": "pyout",
       "prompt_number": 11,
       "text": [
        "15"
       ]
      }
     ],
     "prompt_number": 11
    }
   ],
   "metadata": {}
  }
 ]
}