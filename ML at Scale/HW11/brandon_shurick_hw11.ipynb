{
 "cells": [
  {
   "cell_type": "code",
   "execution_count": 8,
   "metadata": {
    "collapsed": false
   },
   "outputs": [],
   "source": [
    "import numpy as np\n",
    "from numpy.random import rand\n",
    "import seaborn as sns\n",
    "import matplotlib\n",
    "import matplotlib.pyplot as plt\n",
    "\n",
    "from pyspark.mllib.classification import LogisticRegressionWithSGD\n",
    "from pyspark.mllib.regression import LabeledPoint\n",
    "import numpy as np\n",
    "\n",
    "%matplotlib inline"
   ]
  },
  {
   "cell_type": "code",
   "execution_count": 2,
   "metadata": {
    "collapsed": false
   },
   "outputs": [
    {
     "name": "stdout",
     "output_type": "stream",
     "text": [
      "Welcome to\n",
      "      ____              __\n",
      "     / __/__  ___ _____/ /__\n",
      "    _\\ \\/ _ \\/ _ `/ __/  '_/\n",
      "   /__ / .__/\\_,_/_/ /_/\\_\\   version 1.6.1\n",
      "      /_/\n",
      "\n",
      "Using Python version 2.7.10 (default, Oct 23 2015 18:05:06)\n",
      "SparkContext available as sc, SQLContext available as sqlContext.\n"
     ]
    }
   ],
   "source": [
    "import os\n",
    "import sys #current as of 9/26/2015\n",
    "spark_home = os.environ['SPARK_HOME'] = \\\n",
    "   '/opt/spark16'\n",
    "    \n",
    "sys.path.insert(0,os.path.join(spark_home,'python'))\n",
    "sys.path.insert(0,os.path.join(spark_home,'python/lib/py4j-0.8.2.1-src.zip'))\n",
    "execfile(os.path.join(spark_home,'python/pyspark/shell.py'))"
   ]
  },
  {
   "cell_type": "markdown",
   "metadata": {},
   "source": [
    "> ### HW 11.3\n",
    ">Generate 2 sets of linearly separable data with 100 data points each using the data generation code provided below and plot each in separate plots. Call one the training set and the other the testing set.\n",
    "\n",
    ">def generateData(n):  \n",
    " \"\"\"  \n",
    "  generates a 2D linearly separable dataset with n samples.  \n",
    "  The third element of the sample is the label  \n",
    " \"\"\"  \n",
    " xb = (rand(n)*2-1)/2-0.5  \n",
    " yb = (rand(n)*2-1)/2+0.5  \n",
    " xr = (rand(n)*2-1)/2+0.5  \n",
    " yr = (rand(n)*2-1)/2-0.5  \n",
    " inputs = []  \n",
    " for i in range(len(xb)):  \n",
    "  inputs.append([xb[i],yb[i],1])  \n",
    "  inputs.append([xr[i],yr[i],-1])  \n",
    " return inputs  \n",
    "\n",
    ">Modify this data generation code to generating non-linearly separable training and testing datasets (with approximately 10% of the data falling on the wrong side of the separating hyperplane. Plot the resulting datasets. \n",
    "\n",
    ">NOTE: For the remainder of this problem please use the non-linearly separable training and testing datasets.\n",
    "\n",
    ">Using MLLib  train up a LASSO logistic regression model with the training dataset and evaluate with the testing set. What a good number of iterations for training the logistic regression model? Justify with plots and words. \n",
    "\n",
    ">Derive and implement in Spark a weighted  LASSO logistic regression. Implement a convergence test of your choice to check for termination within your training algorithm . \n",
    "\n",
    ">Weight the above training dataset as follows:  Weight each example using the inverse vector length (Euclidean norm): \n",
    "\n",
    ">weight(X)= 1/||X||, \n",
    "\n",
    ">where ||X|| = SQRT(X.X)= SQRT(X1^2 + X2^2)\n",
    "\n",
    ">Here X is vector made up of X1 and X2.\n",
    "\n",
    ">Evaluate your homegrown weighted  LASSO logistic regression on the test dataset. Report misclassification error (1 - Accuracy) and how many iterations does it took to converge.\n",
    "\n",
    ">Does Spark MLLib have a weighted LASSO logistic regression implementation. If so use it and report your findings on the weighted training set and test set. "
   ]
  },
  {
   "cell_type": "code",
   "execution_count": 16,
   "metadata": {
    "collapsed": true
   },
   "outputs": [],
   "source": [
    "def generateData(n):\n",
    "    \"\"\" \n",
    "    generates a 2D linearly separable dataset with n samples. \n",
    "    The third element of the sample is the label\n",
    "    \"\"\"\n",
    "    xb = (rand(n)*2-1)/2-0.5\n",
    "    yb = (rand(n)*2-1)/2+0.5\n",
    "    xr = (rand(n)*2-1)/2+0.5\n",
    "    yr = (rand(n)*2-1)/2-0.5\n",
    "    inputs = []\n",
    "    for i in range(len(xb)):\n",
    "        inputs.append([xb[i],yb[i],1])\n",
    "        inputs.append([xr[i],yr[i],-1])\n",
    "    return inputs"
   ]
  },
  {
   "cell_type": "code",
   "execution_count": 70,
   "metadata": {
    "collapsed": false
   },
   "outputs": [
    {
     "data": {
      "text/plain": [
       "[<matplotlib.lines.Line2D at 0x10b2c1b10>,\n",
       " <matplotlib.lines.Line2D at 0x10b2c1d90>]"
      ]
     },
     "execution_count": 70,
     "metadata": {},
     "output_type": "execute_result"
    },
    {
     "data": {
      "image/png": "[encoded data removed]",
      "text/plain": [
       "<matplotlib.figure.Figure at 0x10b0d7e10>"
      ]
     },
     "metadata": {},
     "output_type": "display_data"
    }
   ],
   "source": [
    "d = np.array(generateData(50))\n",
    "d1 = d[d[:,2]==1]\n",
    "d2 = d[d[:,2]==-1]\n",
    "plt.plot(d1[:,0],d1[:,1],'r*', d2[:,0],d2[:,1],'b*')"
   ]
  },
  {
   "cell_type": "code",
   "execution_count": 9,
   "metadata": {
    "collapsed": true
   },
   "outputs": [],
   "source": [
    "def generateNonsepData(n):\n",
    "    \"\"\" \n",
    "    generates a 2D linearly separable dataset with n samples. \n",
    "    The third element of the sample is the label\n",
    "    \"\"\"\n",
    "    xb = (rand(n)*2-1)/2-0.4\n",
    "    yb = (rand(n)*2-1)/2+0.4\n",
    "    xr = (rand(n)*2-1)/2+0.4\n",
    "    yr = (rand(n)*2-1)/2-0.4\n",
    "    inputs = []\n",
    "    for i in range(len(xb)):\n",
    "        inputs.append([xb[i],yb[i],1])\n",
    "        inputs.append([xr[i],yr[i],-1])\n",
    "    return inputs"
   ]
  },
  {
   "cell_type": "code",
   "execution_count": 203,
   "metadata": {
    "collapsed": false
   },
   "outputs": [
    {
     "data": {
      "text/plain": [
       "[<matplotlib.lines.Line2D at 0x10b7fb090>,\n",
       " <matplotlib.lines.Line2D at 0x10b7fb310>]"
      ]
     },
     "execution_count": 203,
     "metadata": {},
     "output_type": "execute_result"
    },
    {
     "data": {
      "image/png": "[encoded data removed]",
      "text/plain": [
       "<matplotlib.figure.Figure at 0x10acd8710>"
      ]
     },
     "metadata": {},
     "output_type": "display_data"
    }
   ],
   "source": [
    "d = np.array(generateNonsepData(50))\n",
    "d1 = d[d[:,2]==1]\n",
    "d2 = d[d[:,2]==-1]\n",
    "plt.plot(d1[:,0],d1[:,1],'r*', d2[:,0],d2[:,1],'b*')"
   ]
  },
  {
   "cell_type": "markdown",
   "metadata": {},
   "source": [
    "#### run MLlib logistic regression "
   ]
  },
  {
   "cell_type": "code",
   "execution_count": 7,
   "metadata": {
    "collapsed": true
   },
   "outputs": [],
   "source": [
    "@np.vectorize\n",
    "def binarize(x):\n",
    "    return int(x>0)\n",
    "\n",
    "def format_data(x, labels, p=2):\n",
    "    data = []\n",
    "    for i in xrange(x.shape[0]):\n",
    "        data.append(LabeledPoint(binarize(labels[i]),x[i,:]))\n",
    "    return sc.parallelize(data, p)"
   ]
  },
  {
   "cell_type": "code",
   "execution_count": 478,
   "metadata": {
    "collapsed": false
   },
   "outputs": [],
   "source": [
    "def test_iterations(N, iterations=10, datafunc=generateNonsepData ):\n",
    "    d = np.array(datafunc(N))\n",
    "    train = d[:N*.8]\n",
    "    test = d[N*.2:]\n",
    "    data = format_data(train[:,:2],train[:,2],10)\n",
    "    lm = LogisticRegressionWithSGD.train( data\n",
    "                                        , iterations=iterations\n",
    "                                        , initialWeights=np.array([1.0,1.0])\n",
    "                                        , regType='l1')\n",
    "    predictions = []\n",
    "    for x in test:\n",
    "        predictions.append(lm.predict(x[:2]))\n",
    "    actuals = binarize(test[:,2])\n",
    "    accuracy = np.mean([ p==a for p,a in zip(predictions, actuals) ])\n",
    "    return accuracy"
   ]
  },
  {
   "cell_type": "code",
   "execution_count": 479,
   "metadata": {
    "collapsed": false
   },
   "outputs": [],
   "source": [
    "results = []\n",
    "for i in xrange(10):\n",
    "    results.append(test_iterations(1000, i+1))"
   ]
  },
  {
   "cell_type": "markdown",
   "metadata": {},
   "source": [
    "#### The ideal number of iterations appears to be around 30"
   ]
  },
  {
   "cell_type": "code",
   "execution_count": 473,
   "metadata": {
    "collapsed": false
   },
   "outputs": [
    {
     "data": {
      "text/plain": [
       "<matplotlib.text.Text at 0x10e0fbb90>"
      ]
     },
     "execution_count": 473,
     "metadata": {},
     "output_type": "execute_result"
    },
    {
     "data": {
      "image/png": "[encoded data removed]",
      "text/plain": [
       "<matplotlib.figure.Figure at 0x10dffc250>"
      ]
     },
     "metadata": {},
     "output_type": "display_data"
    }
   ],
   "source": [
    "plt.plot(range(len(results)),results)\n",
    "plt.xlabel('Iterations')\n",
    "plt.ylabel('Accuracy')"
   ]
  },
  {
   "cell_type": "markdown",
   "metadata": {},
   "source": [
    "#### homegrown weighted-LASSO LR "
   ]
  },
  {
   "cell_type": "code",
   "execution_count": 22,
   "metadata": {
    "collapsed": false
   },
   "outputs": [],
   "source": [
    "def pgradient(p, w):\n",
    "    y = 1 if p.label == 1 else -1\n",
    "    weighted = 1 / np.linalg.norm(p.features)\n",
    "    return weighted*(1/ (1+np.exp(-y*np.dot(w.value,p.features)))-1) \\\n",
    "                            * y * np.array(p.features)\n",
    "\n",
    "def is_converged(w_old, w_new, threshold):\n",
    "    diff = w_old - w_new\n",
    "    return np.linalg.norm(diff) < threshold * np.max([np.linalg.norm(w_new), 1.0])\n",
    "\n",
    "class LogisticRegressionLassoHG(object):\n",
    "    def __init__(self, weights):\n",
    "        self.weights = weights\n",
    "    \n",
    "    @staticmethod\n",
    "    def train(data \\\n",
    "              , weightsInitial=None \\\n",
    "              , learningRate=0.05 \\\n",
    "              , iterations=10 \\\n",
    "              , regParam=0.01 \\\n",
    "              , tol=0.001):\n",
    "        \n",
    "        featureLen = len(data.take(1)[0].features)\n",
    "        n = data.count()\n",
    "\n",
    "        if not weightsInitial:\n",
    "            w = np.random.normal(size=featureLen)\n",
    "        else:\n",
    "            w = np.array(weightsInitial)\n",
    "\n",
    "        for i in xrange(iterations):\n",
    "            wBcast = sc.broadcast(w)\n",
    "            gradient = data.map(lambda p: pgradient(p, wBcast)).reduce(lambda a,b: a+b)\n",
    "            wReg = w * 1 \n",
    "            wReg[-1] = 0\n",
    "            wReg = np.sign(wReg)\n",
    "            gradient = gradient + regParam * wReg\n",
    "            w_new = w - (learningRate * gradient / n)\n",
    "            if is_converged(w, w_new, tol):\n",
    "                w = w_new\n",
    "                break\n",
    "            w = w_new\n",
    "        \n",
    "        return LogisticRegressionLassoHG(w)\n",
    "    \n",
    "    def predict(self, x):\n",
    "        p = 1 / (1+np.exp(-np.dot(self.weights,np.array(x))))\n",
    "        if p>0.5: return 1\n",
    "        else: return 0"
   ]
  },
  {
   "cell_type": "code",
   "execution_count": 28,
   "metadata": {
    "collapsed": true
   },
   "outputs": [],
   "source": [
    "def test_iterations(N, iterations=10, datafunc=generateNonsepData ):\n",
    "    d = np.array(datafunc(N))\n",
    "    train = d[:N*.8]\n",
    "    test = d[N*.2:]\n",
    "    data = format_data(train[:,:2],train[:,2],10)\n",
    "    lm = LogisticRegressionLassoHG.train(   data \\\n",
    "                                           , weightsInitial=[1,1]\n",
    "                                           , iterations=iterations )\n",
    "    predictions = []\n",
    "    for x in test:\n",
    "        predictions.append(lm.predict(x[:2]))\n",
    "    actuals = binarize(test[:,2])\n",
    "    misclass = 1 - np.mean([ p==a for p,a in zip(predictions, actuals) ])\n",
    "    return misclass"
   ]
  },
  {
   "cell_type": "code",
   "execution_count": 29,
   "metadata": {
    "collapsed": false
   },
   "outputs": [],
   "source": [
    "results = []\n",
    "for i in xrange(100):\n",
    "    results.append(test_iterations(1000, i+1))"
   ]
  },
  {
   "cell_type": "code",
   "execution_count": 30,
   "metadata": {
    "collapsed": false
   },
   "outputs": [
    {
     "data": {
      "text/plain": [
       "<matplotlib.text.Text at 0x110d23350>"
      ]
     },
     "execution_count": 30,
     "metadata": {},
     "output_type": "execute_result"
    },
    {
     "data": {
      "image/png": "[encoded data removed]",
      "text/plain": [
       "<matplotlib.figure.Figure at 0x110efad50>"
      ]
     },
     "metadata": {},
     "output_type": "display_data"
    }
   ],
   "source": [
    "plt.plot(range(len(results)),results)\n",
    "plt.xlabel('Iterations')\n",
    "plt.ylabel('Misclassification rate')"
   ]
  },
  {
   "cell_type": "code",
   "execution_count": null,
   "metadata": {
    "collapsed": true
   },
   "outputs": [],
   "source": []
  }
 ],
 "metadata": {
  "kernelspec": {
   "display_name": "Python 2",
   "language": "python",
   "name": "python2"
  },
  "language_info": {
   "codemirror_mode": {
    "name": "ipython",
    "version": 2
   },
   "file_extension": ".py",
   "mimetype": "text/x-python",
   "name": "python",
   "nbconvert_exporter": "python",
   "pygments_lexer": "ipython2",
   "version": "2.7.10"
  }
 },
 "nbformat": 4,
 "nbformat_minor": 0
}
