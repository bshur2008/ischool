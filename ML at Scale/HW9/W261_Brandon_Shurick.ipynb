{
 "cells": [
  {
   "cell_type": "markdown",
   "metadata": {},
   "source": [
    ">### HW 9.0: Short answer questions\n",
    "\n",
    ">What is PageRank and what is it used for in the context of web search?  \n",
    ">What modifications have to be made to the webgraph in order to leverage the machinery of Markov Chains to \n",
    "compute the steady stade distibuton?  \n",
    "OPTIONAL: In topic-specific pagerank, how can we insure that the irreducible property is satified? (HINT: see HW9.4)\n",
    "\n"
   ]
  },
  {
   "cell_type": "markdown",
   "metadata": {},
   "source": [
    ">### HW 9.1: MRJob implementation of basic PageRank\n",
    "\n",
    ">Write a basic MRJob implementation of the iterative PageRank algorithm\n",
    "that takes sparse adjacency lists as input (as explored in HW 7).\n",
    "Make sure that you implementation utilizes teleportation (1-damping/the number of nodes in the network), \n",
    "and further, distributes the mass of dangling nodes with each iteration\n",
    "so that the output of each iteration is correctly normalized (sums to 1).\n",
    "[NOTE: The PageRank algorithm assumes that a random surfer (walker), starting from a random web page,\n",
    "chooses the next page to which it will move by clicking at random, with probability d,\n",
    "one of the hyperlinks in the current page. This probability is represented by a so-called\n",
    "‘damping factor’ d, where d ∈ (0, 1). Otherwise, with probability (1 − d), the surfer\n",
    "jumps to any web page in the network. If a page is a dangling end, meaning it has no\n",
    "outgoing hyperlinks, the random surfer selects an arbitrary web page from a uniform\n",
    "distribution and “teleports” to that page]\n",
    "\n",
    "\n",
    ">As you build your code, use the test data  \n",
    "\n",
    ">s3://ucb-mids-mls-networks/PageRank-test.txt\n",
    "Or under the Data Subfolder for HW7 on Dropbox with the same file name. \n",
    "(On Dropbox https://www.dropbox.com/sh/2c0k5adwz36lkcw/AAAAKsjQfF9uHfv-X9mCqr9wa?dl=0)\n",
    "\n",
    ">with teleportation parameter set to 0.15 (1-d, where d, the damping factor is set to 0.85), and crosscheck\n",
    "your work with the true result, displayed in the first image\n",
    "in the Wikipedia article:\n",
    "\n",
    ">https://en.wikipedia.org/wiki/PageRank\n",
    "\n",
    ">and here for reference are the corresponding PageRank probabilities:\n",
    "\n",
    ">A,0.033  \n",
    "B,0.384  \n",
    "C,0.343  \n",
    "D,0.039  \n",
    "E,0.081  \n",
    "F,0.039  \n",
    "G,0.016  \n",
    "H,0.016  \n",
    "I,0.016  \n",
    "J,0.016  \n",
    "K,0.016  "
   ]
  },
  {
   "cell_type": "code",
   "execution_count": 148,
   "metadata": {
    "collapsed": false
   },
   "outputs": [
    {
     "name": "stdout",
     "output_type": "stream",
     "text": [
      "Overwriting format_nodes.py\n"
     ]
    }
   ],
   "source": [
    "%%writefile format_nodes.py\n",
    "from mrjob.job import MRJob\n",
    "from mrjob.step import MRStep\n",
    "from mrjob.protocol import JSONProtocol, RawProtocol\n",
    "\n",
    "class FormatNodes(MRJob):\n",
    "    OUTPUT_PROTOCOL = JSONProtocol\n",
    "    INPUT_PROTOCOL = RawProtocol\n",
    "    \n",
    "    def configure_options(self):\n",
    "        super(FormatNodes, self).configure_options()\n",
    "        self.add_passthrough_option(\n",
    "            '--summary-file', dest='summary_file', default='summary.txt',\n",
    "            help='file to store summary data')\n",
    "    \n",
    "    def mapper(self, node_id, links):\n",
    "        ''' Re-format links '''\n",
    "        links = eval(links)\n",
    "        node = {}\n",
    "        if links is not None:\n",
    "            node['links'] = sorted(links.items())\n",
    "        else:\n",
    "            node['links'] = []\n",
    "\n",
    "        node['score'] = 1\n",
    "        for link, score in node['links']:\n",
    "            yield link, {'score':0,'links':[]}\n",
    "        \n",
    "        yield node_id, node\n",
    "    \n",
    "    def reducer_init(self):\n",
    "        ''' Initialize N count '''\n",
    "        self.total_count = 0\n",
    "    \n",
    "    def reducer(self, node_id, nodelist):\n",
    "        ''' Compile all nodes '''\n",
    "        self.total_count += 1\n",
    "        links = []\n",
    "        score = 0\n",
    "        for node in nodelist:\n",
    "            node_links = node['links']\n",
    "            for l in node_links:\n",
    "                links.append(l)\n",
    "            score = sum([score, node['score']])\n",
    "        yield node_id, {'score':max(score,1),'links':links}\n",
    "        \n",
    "    def reducer_final(self):\n",
    "        ''' Output N to file '''\n",
    "        with open(self.options.summary_file,'a') as w:\n",
    "            w.write(str(self.total_count)+'\\n')\n",
    "\n",
    "if __name__ == '__main__':\n",
    "    FormatNodes.run()"
   ]
  },
  {
   "cell_type": "code",
   "execution_count": 189,
   "metadata": {
    "collapsed": false
   },
   "outputs": [
    {
     "name": "stdout",
     "output_type": "stream",
     "text": [
      "Overwriting mrpagerank.py\n"
     ]
    }
   ],
   "source": [
    "%%writefile mrpagerank.py\n",
    "from mrjob.job import MRJob\n",
    "from mrjob.protocol import JSONProtocol\n",
    "from mrjob.step import MRStep\n",
    "\n",
    "class MRPageRank(MRJob):\n",
    "    \n",
    "    INPUT_PROTOCOL = JSONProtocol  # read the same format we write\n",
    "    OUTPUT_PROTOCOL = JSONProtocol\n",
    "    \n",
    "    def configure_options(self):\n",
    "        super(MRPageRank, self).configure_options()\n",
    "        \n",
    "        self.add_passthrough_option(\n",
    "            '--iterations', dest='iterations', default=10, type='int',\n",
    "            help='number of iterations to run')\n",
    "\n",
    "        self.add_passthrough_option(\n",
    "            '--damping-factor', dest='damping_factor', default=0.85,\n",
    "            type='float',\n",
    "            help='probability a web surfer will continue clicking on links')\n",
    "        \n",
    "        self.add_passthrough_option(\n",
    "            '--summary-file', dest='summary_file', default='summary.txt',\n",
    "            help='file to store summary data')\n",
    "    \n",
    "    def initialize_n(self):\n",
    "        ''' Count number of nodes '''\n",
    "        try:\n",
    "            with open(self.options.summary_file,'r') as r:\n",
    "                counts = [ int(l.strip()) for l in r.readlines() ]\n",
    "                self.node_count = sum(counts)\n",
    "        except IOError:\n",
    "            self.node_count = 1\n",
    "    \n",
    "    def send_score(self, node_id, node):\n",
    "        \"\"\"Mapper: send score from a single node to other nodes.\n",
    "        Input: ``node_id, node``\n",
    "        Output:\n",
    "        ``node_id, ('node', node)`` OR\n",
    "        ``node_id, ('score', score)``\n",
    "        \"\"\"\n",
    "        yield node_id, ('node', node)\n",
    "        \n",
    "        link_len = len(node.get('links'))\n",
    "        if link_len==0:\n",
    "            yield '*', node['score']   \n",
    "        for dest_id, weight in node.get('links') or []:\n",
    "            yield dest_id, ('score', node['score'] / link_len * weight)\n",
    "    \n",
    "    def score_init(self):\n",
    "        ''' initialize dangling nodes counter '''\n",
    "        self.dangling_nodes = 0\n",
    "    \n",
    "    def receive_score(self, node_id, typed_values):\n",
    "        \"\"\"Reducer: Combine scores sent from other nodes, and update this node\n",
    "        (creating it if necessary).\n",
    "        Store information about the node's previous score in *prev_score*.\n",
    "        \"\"\"\n",
    "        node = {}\n",
    "        total_score = 0\n",
    "        \n",
    "        if node_id == '*':\n",
    "            self.dangling_nodes = sum(typed_values)\n",
    "        else:\n",
    "            for value_type, value in typed_values:\n",
    "                if value_type == 'node':\n",
    "                    node = value\n",
    "                else:\n",
    "                    assert value_type == 'score'\n",
    "                    total_score += value\n",
    "\n",
    "            node['prev_score'] = node['score']\n",
    "\n",
    "            d = self.options.damping_factor\n",
    "            n = self.node_count \n",
    "            m = self.dangling_nodes \n",
    "            node['score'] = (1 - d)/n + d * ( total_score + m / n )\n",
    "\n",
    "            yield node_id, node\n",
    "    \n",
    "    def steps(self):\n",
    "        return ([MRStep(mapper=self.send_score\n",
    "                       , reducer=self.receive_score\n",
    "                       , reducer_init=self.initialize_n\n",
    "                       , jobconf={\n",
    "                            'mapred.reduce.tasks': 1\n",
    "                        })] *\n",
    "                self.options.iterations)\n",
    "\n",
    "if __name__ == '__main__':\n",
    "    MRPageRank.run()"
   ]
  },
  {
   "cell_type": "code",
   "execution_count": 190,
   "metadata": {
    "collapsed": false
   },
   "outputs": [
    {
     "name": "stdout",
     "output_type": "stream",
     "text": [
      "B\t{'C': 1}\r\n",
      "C\t{'B': 1}\r\n",
      "D\t{'A': 1, 'B': 1}\r\n",
      "E\t{'D': 1, 'B': 1, 'F': 1}\r\n",
      "F\t{'B': 1, 'E': 1}\r\n",
      "G\t{'B': 1, 'E': 1}\r\n",
      "H\t{'B': 1, 'E': 1}\r\n",
      "I\t{'B': 1, 'E': 1}\r\n",
      "J\t{'E': 1}\r\n",
      "K\t{'E': 1}\r\n"
     ]
    }
   ],
   "source": [
    "!head ./Data/PageRank-test.txt"
   ]
  },
  {
   "cell_type": "code",
   "execution_count": 191,
   "metadata": {
    "collapsed": false
   },
   "outputs": [],
   "source": [
    "!rm summary.txt\n",
    "!python format_nodes.py \\\n",
    "--summary-file=/Users/bshur/School/ML\\ at\\ Scale/HW9/summary.txt ./Data/PageRank-test.txt \\\n",
    "> ./pg_formatted.json \\\n",
    "2>/dev/null"
   ]
  },
  {
   "cell_type": "code",
   "execution_count": 192,
   "metadata": {
    "collapsed": false
   },
   "outputs": [
    {
     "name": "stdout",
     "output_type": "stream",
     "text": [
      "\"A\"\t{\"score\": 1, \"links\": []}\r\n",
      "\"B\"\t{\"score\": 1, \"links\": [[\"C\", 1]]}\r\n",
      "\"C\"\t{\"score\": 1, \"links\": [[\"B\", 1]]}\r\n",
      "\"D\"\t{\"score\": 1, \"links\": [[\"A\", 1], [\"B\", 1]]}\r\n",
      "\"E\"\t{\"score\": 1, \"links\": [[\"B\", 1], [\"D\", 1], [\"F\", 1]]}\r\n",
      "\"F\"\t{\"score\": 1, \"links\": [[\"B\", 1], [\"E\", 1]]}\r\n",
      "\"G\"\t{\"score\": 1, \"links\": [[\"B\", 1], [\"E\", 1]]}\r\n",
      "\"H\"\t{\"score\": 1, \"links\": [[\"B\", 1], [\"E\", 1]]}\r\n",
      "\"I\"\t{\"score\": 1, \"links\": [[\"B\", 1], [\"E\", 1]]}\r\n",
      "\"J\"\t{\"score\": 1, \"links\": [[\"E\", 1]]}\r\n",
      "\"K\"\t{\"score\": 1, \"links\": [[\"E\", 1]]}\r\n"
     ]
    }
   ],
   "source": [
    "cat ./pg_formatted.json"
   ]
  },
  {
   "cell_type": "code",
   "execution_count": 193,
   "metadata": {
    "collapsed": false
   },
   "outputs": [
    {
     "name": "stdout",
     "output_type": "stream",
     "text": [
      "11\r\n"
     ]
    }
   ],
   "source": [
    "!cat summary.txt"
   ]
  },
  {
   "cell_type": "code",
   "execution_count": 194,
   "metadata": {
    "collapsed": false
   },
   "outputs": [
    {
     "name": "stdout",
     "output_type": "stream",
     "text": [
      "\"A\"\t{\"score\": 0.03278149315936145, \"prev_score\": 0.03278149315937677, \"links\": []}\r\n",
      "\"B\"\t{\"score\": 0.384833778728028, \"prev_score\": 0.384935612433039, \"links\": [[\"C\", 1]]}\r\n",
      "\"C\"\t{\"score\": 0.34336474958494406, \"prev_score\": 0.34341949717240156, \"links\": [[\"B\", 1]]}\r\n",
      "\"D\"\t{\"score\": 0.03908709209998528, \"prev_score\": 0.039087092100001206, \"links\": [[\"A\", 1], [\"B\", 1]]}\r\n",
      "\"E\"\t{\"score\": 0.08088569323452899, \"prev_score\": 0.08088569323455651, \"links\": [[\"B\", 1], [\"D\", 1], [\"F\", 1]]}\r\n",
      "\"F\"\t{\"score\": 0.03908709209998528, \"prev_score\": 0.039087092100001206, \"links\": [[\"B\", 1], [\"E\", 1]]}\r\n",
      "\"G\"\t{\"score\": 0.016169479016860937, \"prev_score\": 0.016169479016863043, \"links\": [[\"B\", 1], [\"E\", 1]]}\r\n",
      "\"H\"\t{\"score\": 0.016169479016860937, \"prev_score\": 0.016169479016863043, \"links\": [[\"B\", 1], [\"E\", 1]]}\r\n",
      "\"I\"\t{\"score\": 0.016169479016860937, \"prev_score\": 0.016169479016863043, \"links\": [[\"B\", 1], [\"E\", 1]]}\r\n",
      "\"J\"\t{\"score\": 0.016169479016860937, \"prev_score\": 0.016169479016863043, \"links\": [[\"E\", 1]]}\r\n",
      "\"K\"\t{\"score\": 0.016169479016860937, \"prev_score\": 0.016169479016863043, \"links\": [[\"E\", 1]]}\r\n"
     ]
    }
   ],
   "source": [
    "!python mrpagerank.py \\\n",
    "--summary-file=/Users/bshur/School/ML\\ at\\ Scale/HW9/summary.txt \\\n",
    "--iterations=50 pg_formatted.json \\\n",
    "2> /dev/null"
   ]
  },
  {
   "cell_type": "code",
   "execution_count": null,
   "metadata": {
    "collapsed": true
   },
   "outputs": [],
   "source": []
  }
 ],
 "metadata": {
  "kernelspec": {
   "display_name": "Python 2",
   "language": "python",
   "name": "python2"
  },
  "language_info": {
   "codemirror_mode": {
    "name": "ipython",
    "version": 2
   },
   "file_extension": ".py",
   "mimetype": "text/x-python",
   "name": "python",
   "nbconvert_exporter": "python",
   "pygments_lexer": "ipython2",
   "version": "2.7.10"
  }
 },
 "nbformat": 4,
 "nbformat_minor": 0
}
