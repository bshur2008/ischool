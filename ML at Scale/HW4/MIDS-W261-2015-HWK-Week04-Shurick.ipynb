{
 "cells": [
  {
   "cell_type": "markdown",
   "metadata": {},
   "source": [
    "## HW4\n",
    "### Brandon Shurick\n"
   ]
  },
  {
   "cell_type": "markdown",
   "metadata": {},
   "source": [
    ">HW 4.0.   \n",
    "What is MrJob? How is it different to Hadoop MapReduce?   \n",
    "What are the mapper_final(), combiner_final(), reducer_final() methods? When are they called?"
   ]
  },
  {
   "cell_type": "markdown",
   "metadata": {},
   "source": [
    ">HW 4.1  \n",
    "What is serialization in the context of MrJob or Hadoop?   \n",
    "When it used in these frameworks?   \n",
    "What is the default serialization mode for input and outputs for MrJob?   "
   ]
  },
  {
   "cell_type": "markdown",
   "metadata": {},
   "source": [
    ">HW 4.2  \n",
    "Recall the Microsoft logfiles data from the async lecture. The logfiles are described are located at:\n",
    "\n",
    ">https://kdd.ics.uci.edu/databases/msweb/msweb.html\n",
    ">http://archive.ics.uci.edu/ml/machine-learning-databases/anonymous/\n",
    "\n",
    ">This dataset records which areas (Vroots) of www.microsoft.com each user visited in a one-week timeframe in Feburary 1998.  \n",
    "\n",
    ">Here, you must preprocess the data on a single node (i.e., not on a cluster of nodes) from the format:  \n",
    "\n",
    ">C,\"10001\",10001   #Visitor id 10001  \n",
    "V,1000,1          #Visit by Visitor 10001 to page id 1000  \n",
    "V,1001,1          #Visit by Visitor 10001 to page id 1001  \n",
    "V,1002,1          #Visit by Visitor 10001 to page id 1002  \n",
    "C,\"10002\",10002   #Visitor id 10001  \n",
    "V\n",
    "Note: #denotes comments  \n",
    "to the format:  \n",
    "\n",
    ">V,1000,1,C, 10001  \n",
    "V,1001,1,C, 10001  \n",
    "V,1002,1,C, 10001  \n",
    "\n",
    ">Write the python code to accomplish this.  "
   ]
  },
  {
   "cell_type": "code",
   "execution_count": null,
   "metadata": {
    "collapsed": true
   },
   "outputs": [],
   "source": []
  }
 ],
 "metadata": {
  "kernelspec": {
   "display_name": "Python 2",
   "language": "python",
   "name": "python2"
  },
  "language_info": {
   "codemirror_mode": {
    "name": "ipython",
    "version": 2
   },
   "file_extension": ".py",
   "mimetype": "text/x-python",
   "name": "python",
   "nbconvert_exporter": "python",
   "pygments_lexer": "ipython2",
   "version": "2.7.10"
  }
 },
 "nbformat": 4,
 "nbformat_minor": 0
}
