{
 "cells": [
  {
   "cell_type": "markdown",
   "metadata": {},
   "source": [
    ">### HW 7.0: Shortest path graph distances (toy networks)\n",
    "\n",
    ">In this part of your assignment you will develop the base of your code for the week.\n",
    "\n",
    ">Write MRJob classes to find shortest path graph distances, \n",
    "as described in the lectures. In addition to finding the distances, \n",
    "your code should also output a distance-minimizing path between the source and target.\n",
    "Work locally for this part of the assignment, and use \n",
    "both of the undirected and directed toy networks.\n",
    "\n",
    ">To proof you code's function, run the following jobs\n",
    "\n",
    ">- shortest path in the undirected network from node 1 to node 4  \n",
    "Solution: 1,5,4 \n",
    "\n",
    ">- shortest path in the directed network from node 1 to node 5  \n",
    "Solution: 1,2,4,5\n",
    "\n",
    ">and report your output---make sure it is correct!"
   ]
  },
  {
   "cell_type": "code",
   "execution_count": 1,
   "metadata": {
    "collapsed": false
   },
   "outputs": [
    {
     "name": "stdout",
     "output_type": "stream",
     "text": [
      "Writing shortest_path.py\n"
     ]
    }
   ],
   "source": [
    "%%writefile shortest_path.py\n",
    "from mrjob import MRJob, MRStep\n",
    "import json\n",
    "\n",
    "class Node():\n",
    "    def __init__(self, nodeid, links={}, distance=-1, state='U'):\n",
    "        self.links = json.loads(links)\n",
    "        self.distance = distance\n",
    "        self.STATE = state\n",
    "        self.ID = nodeid\n",
    "    \n",
    "    def setDistance(self, distance):\n",
    "        self.distance = distance\n",
    "    \n",
    "    def setVisited(self):\n",
    "        self.STATE = 'V'\n",
    "    \n",
    "    def setQueued(self):\n",
    "        self.STATE = 'Q'\n",
    "    \n",
    "    def sendNode(self):\n",
    "        yield self.ID, '\\t'.join([self.ID, json.dumps(self.links), self.distance, self.STATE])\n",
    "    \n",
    "    def sendQueuedNodes(self):\n",
    "        for l in self.links:\n",
    "            yield self.ID, '\\t'.join([ l, '{}', self.distance+1, 'Q' ])\n",
    "\n",
    "class ShortestPathBFS(MRJob):\n",
    "    def process_node_occurances(self, nodeID, nodeinfo):\n",
    "        ''' Parse nodes within reducer \n",
    "        '''\n",
    "        links, distance, state = nodeinfo.split('\\t')\n",
    "        yield Node(nodeID, links, int(distance), state)\n",
    "        \n",
    "    def mapper(self, _, line):\n",
    "        ''' Read each node from temp file\n",
    "            and send node / queued nodes \n",
    "            to stream\n",
    "        '''\n",
    "        # read line as a node\n",
    "        nodeID, links, distance, state = line.strip().split('\\t')\n",
    "        current_node = Node(nodeID, links, int(distance), state)\n",
    "        \n",
    "        # send queued nodes \n",
    "        if current_node.STATE == 'Q':\n",
    "            distance = current_node.distance\n",
    "            current_node.sendQueuedNodes()\n",
    "            current_node.setVisited()\n",
    "        \n",
    "        # send current node\n",
    "        current_node.sendNode()\n",
    "    \n",
    "    def reducer(self, nodeID, occurances):\n",
    "        ''' Join all information for each node \n",
    "        '''\n",
    "        # read each node occurance\n",
    "        node_data = [ self.process_node_occurances(nodeID, o) for o in occurances ]\n",
    "        \n",
    "        # join all node data together \n",
    "        node_distance = -1\n",
    "        node_links = {}\n",
    "        node_state = 'U'\n",
    "        for n in node_data:\n",
    "            if n.distance != -1 and n.distance < node_distance: node_distance = n.distance\n",
    "            node_links.update(n.links)\n",
    "            if n.STATE != node_state: node_state = n.STATE\n",
    "        current_node = Node(nodeID, node_links, node_distance, node_state)\n",
    "        \n",
    "        # send node \n",
    "        current_node.sendNode\n"
   ]
  },
  {
   "cell_type": "code",
   "execution_count": null,
   "metadata": {
    "collapsed": true
   },
   "outputs": [],
   "source": [
    "from shortest_path import ShortestPathBFS\n",
    "\n",
    "SOURCE_FILE = 'Data/directed_toy.txt'\n",
    "TEMP_FILE = 'Data/'\n",
    "args = [GRAPH_STRUCTURE_FILE, '--strict-protocols']\n",
    "mrjob = ShortestPathBFS(args=args)\n",
    "\n"
   ]
  }
 ],
 "metadata": {
  "kernelspec": {
   "display_name": "Python 2",
   "language": "python",
   "name": "python2"
  },
  "language_info": {
   "codemirror_mode": {
    "name": "ipython",
    "version": 2
   },
   "file_extension": ".py",
   "mimetype": "text/x-python",
   "name": "python",
   "nbconvert_exporter": "python",
   "pygments_lexer": "ipython2",
   "version": "2.7.10"
  }
 },
 "nbformat": 4,
 "nbformat_minor": 0
}
