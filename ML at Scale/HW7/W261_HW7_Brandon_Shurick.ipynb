{
 "cells": [
  {
   "cell_type": "markdown",
   "metadata": {},
   "source": [
    ">### HW 7.0: Shortest path graph distances (toy networks)\n",
    "\n",
    ">In this part of your assignment you will develop the base of your code for the week.\n",
    "\n",
    ">Write MRJob classes to find shortest path graph distances, \n",
    "as described in the lectures. In addition to finding the distances, \n",
    "your code should also output a distance-minimizing path between the source and target.\n",
    "Work locally for this part of the assignment, and use \n",
    "both of the undirected and directed toy networks.\n",
    "\n",
    ">To proof you code's function, run the following jobs\n",
    "\n",
    ">- shortest path in the undirected network from node 1 to node 4  \n",
    "Solution: 1,5,4 \n",
    "\n",
    ">- shortest path in the directed network from node 1 to node 5  \n",
    "Solution: 1,2,4,5\n",
    "\n",
    ">and report your output---make sure it is correct!"
   ]
  },
  {
   "cell_type": "code",
   "execution_count": 88,
   "metadata": {
    "collapsed": false
   },
   "outputs": [
    {
     "name": "stdout",
     "output_type": "stream",
     "text": [
      "Overwriting shortest_path.py\n"
     ]
    }
   ],
   "source": [
    "%%writefile shortest_path.py\n",
    "from mrjob.job import MRJob\n",
    "\n",
    "class ShortestPathBFS(MRJob):\n",
    "    class Node:\n",
    "        def __init__(self, nodeid, links='{}', distance=-1, state='U'):\n",
    "            self.links = eval(links)\n",
    "            self.distance = distance\n",
    "            self.STATE = state\n",
    "            self.ID = nodeid\n",
    "\n",
    "        def setDistance(self, distance):\n",
    "            self.distance = distance\n",
    "\n",
    "        def setVisited(self):\n",
    "            self.STATE = 'V'\n",
    "\n",
    "        def setQueued(self):\n",
    "            self.STATE = 'Q'\n",
    "\n",
    "        def sendQueuedNodes(self):\n",
    "            for link_id in self.links:\n",
    "                yield link_id, '\\t'.join([ '{}', str(self.distance+1), 'Q' ])\n",
    "        \n",
    "        def makeNode(self):\n",
    "            return '\\t'.join([str(self.links), str(self.distance), self.STATE])\n",
    "    \n",
    "    def process_node_occurances(self, nodeID, nodeinfo):\n",
    "        ''' Parse nodes within reducer \n",
    "        '''\n",
    "        links, distance, state = nodeinfo.split('\\t')\n",
    "        return self.Node(nodeID, links, int(distance), state)\n",
    "        \n",
    "    def mapper(self, _, line):\n",
    "        ''' Read each node from temp file\n",
    "            and send node / queued nodes \n",
    "            to stream\n",
    "        '''\n",
    "        # read line as a node\n",
    "        nodeID, links, distance, state = line.strip().split('\\t')\n",
    "        current_node = self.Node(nodeID, links, int(distance), state)\n",
    "        \n",
    "        # send queued nodes \n",
    "        if current_node.STATE == 'Q':\n",
    "            distance = current_node.distance\n",
    "            for node_id, node in current_node.sendQueuedNodes():\n",
    "                yield node_id, node\n",
    "            current_node.setVisited()\n",
    "        \n",
    "        # send current node\n",
    "        yield current_node.ID, current_node.makeNode()\n",
    "    \n",
    "    def reducer(self, nodeID, occurances):\n",
    "        ''' Join all information for each node \n",
    "        '''\n",
    "        # read each node occurance\n",
    "        node_data = [ self.process_node_occurances(nodeID, o) for o in occurances ]\n",
    "        \n",
    "        # join all node data together \n",
    "        node_distance = -1\n",
    "        node_links = {}\n",
    "        node_state = 'U'\n",
    "        for n in node_data:\n",
    "            if node_distance != -1:\n",
    "                if n.distance < node_distance: \n",
    "                    node_distance = n.distance\n",
    "            else:\n",
    "                node_distance = n.distance\n",
    "            node_links.update(n.links)\n",
    "            if n.STATE == 'V': node_state = 'V'\n",
    "            elif n.STATE != node_state and node_state != 'V': node_state = n.STATE\n",
    "        current_node = self.Node(nodeID, str(node_links), str(node_distance), node_state)\n",
    "        \n",
    "        # send node \n",
    "        yield current_node.ID, current_node.makeNode()\n",
    "\n",
    "if __name__=='__main__':\n",
    "    ShortestPathBFS.run()"
   ]
  },
  {
   "cell_type": "code",
   "execution_count": 100,
   "metadata": {
    "collapsed": false
   },
   "outputs": [
    {
     "name": "stdout",
     "output_type": "stream",
     "text": [
      "End at iteration 2\n",
      "Distance: 2\n"
     ]
    }
   ],
   "source": [
    "import shortest_path, os\n",
    "reload(shortest_path)\n",
    "from shortest_path import ShortestPathBFS\n",
    "\n",
    "def find_distance(file_name, node_num):\n",
    "    with open(file_name,'r') as r:\n",
    "        for line in r:\n",
    "            node_id, _, distance, _ = line.split('\\t')\n",
    "            if node_id == node_num:\n",
    "                return int(distance)\n",
    "\n",
    "SOURCE_FILE = 'Data/directed_toy.txt'\n",
    "TEMP_FILE = 'Data/graph_tmp.txt'\n",
    "START_NODE = '1'\n",
    "END_NODE = '4'\n",
    "\n",
    "with open(TEMP_FILE, 'w') as w:\n",
    "    with open(SOURCE_FILE, 'r') as r:\n",
    "        for line in r:\n",
    "            line = line.strip()\n",
    "            nodeid, links = line.split('\\t')\n",
    "            if nodeid == START_NODE: \n",
    "                distance = 0\n",
    "                state = 'Q'\n",
    "            else: \n",
    "                distance = -1\n",
    "                state = 'U'\n",
    "            w.write('\\t'.join((nodeid, links, str(distance), state))+'\\n')\n",
    "\n",
    "args = [TEMP_FILE, '--strict-protocols']\n",
    "mrjob = ShortestPathBFS(args=args)\n",
    "\n",
    "i = 0\n",
    "queue_empty = False\n",
    "while not queue_empty and i < 10:\n",
    "    i += 1\n",
    "    with mrjob.make_runner() as runner, open(TEMP_FILE+'.running', \"w\") as f:\n",
    "        runner.run()\n",
    "\n",
    "        for line in runner.stream_output():\n",
    "            # write line to temp file \n",
    "            nodeid, node = mrjob.parse_output_line(line)\n",
    "            f.write('\\t'.join((nodeid, node))+'\\n')\n",
    "            \n",
    "            # check for last iteration \n",
    "            _, distance, _ = node.split('\\t')\n",
    "            if nodeid == END_NODE and distance != '-1':\n",
    "                queue_empty = True\n",
    "        \n",
    "    os.remove(TEMP_FILE)\n",
    "    os.rename(TEMP_FILE+'.running', TEMP_FILE)\n",
    "\n",
    "print 'End at iteration {}'.format(i)\n",
    "print 'Distance: {}'.format(find_distance(TEMP_FILE, END_NODE))"
   ]
  },
  {
   "cell_type": "code",
   "execution_count": null,
   "metadata": {
    "collapsed": true
   },
   "outputs": [],
   "source": []
  }
 ],
 "metadata": {
  "kernelspec": {
   "display_name": "Python 2",
   "language": "python",
   "name": "python2"
  },
  "language_info": {
   "codemirror_mode": {
    "name": "ipython",
    "version": 2
   },
   "file_extension": ".py",
   "mimetype": "text/x-python",
   "name": "python",
   "nbconvert_exporter": "python",
   "pygments_lexer": "ipython2",
   "version": "2.7.10"
  }
 },
 "nbformat": 4,
 "nbformat_minor": 0
}
