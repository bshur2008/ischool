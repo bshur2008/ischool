{
 "cells": [
  {
   "cell_type": "code",
   "execution_count": 14,
   "metadata": {
    "collapsed": true
   },
   "outputs": [],
   "source": [
    "# spark functions \n",
    "from pyspark.mllib.regression import LabeledPoint\n",
    "from pyspark.mllib.linalg import SparseVector\n",
    "from pyspark.mllib.evaluation import BinaryClassificationMetrics\n",
    "\n",
    "# helper libraries \n",
    "from collections import defaultdict\n",
    "import hashlib\n",
    "import numpy as np\n",
    "import datetime as DT\n",
    "from math import exp, log"
   ]
  },
  {
   "cell_type": "code",
   "execution_count": 3,
   "metadata": {
    "collapsed": true
   },
   "outputs": [],
   "source": [
    "def hashFunction(numBuckets, rawFeats, printMapping=False):\n",
    "    \"\"\"Calculate a feature dictionary for an observation's features based on hashing.\n",
    "\n",
    "    Note:\n",
    "        Use printMapping=True for debug purposes and to better understand how the hashing works.\n",
    "\n",
    "    Args:\n",
    "        numBuckets (int): Number of buckets to use as features.\n",
    "        rawFeats (list of (int, str)): A list of features for an observation.  Represented as\n",
    "            (featureID, value) tuples.\n",
    "        printMapping (bool, optional): If true, the mappings of featureString to index will be\n",
    "            printed.\n",
    "\n",
    "    Returns:\n",
    "        dict of int to float:  The keys will be integers which represent the buckets that the\n",
    "            features have been hashed to.  The value for a given key will contain the count of the\n",
    "            (featureID, value) tuples that have hashed to that key.\n",
    "    \"\"\"\n",
    "    mapping = {}\n",
    "    for ind, category in rawFeats:\n",
    "        featureString = category + str(ind)\n",
    "        mapping[featureString] = int(int(hashlib.md5(featureString).hexdigest(), 16) % numBuckets)\n",
    "    if(printMapping): print mapping\n",
    "    sparseFeatures = defaultdict(float)\n",
    "    for bucket in mapping.values():\n",
    "        sparseFeatures[bucket] += 1.0\n",
    "    return dict(sparseFeatures)\n",
    "\n",
    "def parseHashPoint(point, numBuckets, delim):\n",
    "    \"\"\"Create a LabeledPoint for this observation using hashing.\n",
    "\n",
    "    Args:\n",
    "        point (str): A comma separated string where the first value is the label and the rest are\n",
    "            features.\n",
    "        numBuckets: The number of buckets to hash to.\n",
    "\n",
    "    Returns:\n",
    "        LabeledPoint: A LabeledPoint with a label (0.0 or 1.0) and a SparseVector of hashed\n",
    "            features.\n",
    "    \"\"\"\n",
    "    splits = point.split(delim)\n",
    "    fields = [ (i,v) for i,v in enumerate(splits[1:]) ]\n",
    "    vec = SparseVector(numBuckets, hashFunction(numBuckets, fields))\n",
    "    return LabeledPoint(splits[0], vec)\n",
    "\n",
    "def computeLogLoss(p, y):\n",
    "    \"\"\"Calculates the value of log loss for a given probabilty and label.\n",
    "\n",
    "    Note:\n",
    "        log(0) is undefined, so when p is 0 we need to add a small value (epsilon) to it\n",
    "        and when p is 1 we need to subtract a small value (epsilon) from it.\n",
    "\n",
    "    Args:\n",
    "        p (float): A probabilty between 0 and 1.\n",
    "        y (int): A label.  Takes on the values 0 and 1.\n",
    "\n",
    "    Returns:\n",
    "        float: The log loss value.\n",
    "    \"\"\"\n",
    "    epsilon = 10e-12\n",
    "    if p==0:\n",
    "        p+=epsilon\n",
    "    elif p==1:\n",
    "        p-=epsilon\n",
    "    if y==1:\n",
    "        return -log(p)\n",
    "    elif y==0:\n",
    "        return -log(1-p)\n",
    "    else:\n",
    "        raise Exception('y not in {0,1}')\n",
    "\n",
    "def evaluateResults(model, data):\n",
    "    \"\"\"Calculates the log loss for the data given the model.\n",
    "\n",
    "    Args:\n",
    "        model (LogisticRegressionModel): A trained logistic regression model.\n",
    "        data (RDD of LabeledPoint): Labels and features for each observation.\n",
    "\n",
    "    Returns:\n",
    "        float: Log loss for the data.\n",
    "    \"\"\"\n",
    "    probs = data.map(lambda x: (getP(x.features, model.weights, model.intercept), x.label))\n",
    "    logloss = probs.map(lambda x: computeLogLoss(x[0],x[1])).reduce(lambda x,y: x+y) / probs.count()\n",
    "    return logloss\n",
    "\n",
    "def getP(x, w, intercept):\n",
    "    \"\"\"Calculate the probability for an observation given a set of weights and intercept.\n",
    "\n",
    "    Note:\n",
    "        We'll bound our raw prediction between 20 and -20 for numerical purposes.\n",
    "\n",
    "    Args:\n",
    "        x (SparseVector): A vector with values of 1.0 for features that exist in this\n",
    "            observation and 0.0 otherwise.\n",
    "        w (DenseVector): A vector of weights (betas) for the model.\n",
    "        intercept (float): The model's intercept.\n",
    "\n",
    "    Returns:\n",
    "        float: A probability between 0 and 1.\n",
    "    \"\"\"\n",
    "    rawPrediction = x.dot(w)+intercept\n",
    "\n",
    "    # Bound the raw prediction value\n",
    "    rawPrediction = min(rawPrediction, 20)\n",
    "    rawPrediction = max(rawPrediction, -20)\n",
    "    return 1.0/(1+exp(-rawPrediction))"
   ]
  },
  {
   "cell_type": "code",
   "execution_count": 4,
   "metadata": {
    "collapsed": true
   },
   "outputs": [],
   "source": [
    "train_data_location = 's3n://criteo-dataset/rawdata/train'\n",
    "test_data_location = 's3n://criteo-dataset/rawdata/test'\n",
    "validation_data_location = 's3n://criteo-dataset/rawdata/validation'"
   ]
  },
  {
   "cell_type": "code",
   "execution_count": null,
   "metadata": {
    "collapsed": true
   },
   "outputs": [],
   "source": [
    "train_data = sc.textFile(train_data_location).cache()\n",
    "validation_data = sc.textFile(validation_data_location).cache()\n",
    "test_data = sc.textFile(test_data_location).cache()"
   ]
  },
  {
   "cell_type": "code",
   "execution_count": 5,
   "metadata": {
    "collapsed": true
   },
   "outputs": [],
   "source": [
    "hashTrainData = train_data.map(lambda x: parseHashPoint(x, 1000, '\\t')).cache()\n",
    "hashValidationData = validation_data.map(lambda x: parseHashPoint(x, 1000, '\\t')).cache()\n",
    "hashTestData = test_data.map(lambda x: parseHashPoint(x, 1000, '\\t')).cache()"
   ]
  },
  {
   "cell_type": "code",
   "execution_count": 6,
   "metadata": {
    "collapsed": false
   },
   "outputs": [
    {
     "name": "stdout",
     "output_type": "stream",
     "text": [
      "job finished in 0 hours, 15 minutes and 5 seconds\n"
     ]
    }
   ],
   "source": [
    "from pyspark.mllib.classification import LogisticRegressionWithSGD\n",
    "\n",
    "# fixed hyperparameters\n",
    "numIters = 50\n",
    "stepSize = 10.\n",
    "regParam = 0.\n",
    "regType = 'l2'\n",
    "includeIntercept = True\n",
    "\n",
    "starttime = DT.datetime.now()\n",
    "model0 = LogisticRegressionWithSGD.train( data= hashTrainData\n",
    "                                         , iterations= numIters\n",
    "                                         , step= stepSize\n",
    "                                         , regParam= regParam\n",
    "                                         , regType= 'l2'\n",
    "                                         , intercept= includeIntercept )\n",
    "endtime = DT.datetime.now()\n",
    "runtime = (endtime-starttime).seconds\n",
    "runtime_hours = runtime // 3600\n",
    "runtime_minutes = (runtime % 3600) // 60\n",
    "runtime_seconds = (runtime % 3600) % 60\n",
    "print 'job finished in {} hours, {} minutes and {} seconds'.\\\n",
    "        format(runtime_hours, runtime_minutes, runtime_seconds)"
   ]
  },
  {
   "cell_type": "markdown",
   "metadata": {},
   "source": [
    "#### EMR Setup:\n",
    "<table style='align: left'>\n",
    "<tr>\n",
    "<td><strong>Node type</strong></td>\n",
    "<td><strong>Count</strong></td>\n",
    "<td><strong>Intance</strong></td>\n",
    "</tr>\n",
    "<tr>\n",
    "<td>Master</td>\n",
    "<td>1</td>\n",
    "<td>r3.xlarge</td>\n",
    "</tr>\n",
    "<tr>\n",
    "<td>Core</td>\n",
    "<td>7</td>\n",
    "<td>r3.xlarge</td>\n",
    "</tr>\n",
    "</table>"
   ]
  },
  {
   "cell_type": "code",
   "execution_count": 16,
   "metadata": {
    "collapsed": false
   },
   "outputs": [
    {
     "name": "stdout",
     "output_type": "stream",
     "text": [
      "Area under ROC, Train = 0.651420018788\n",
      "Area under ROC, Validation = 0.651397081537\n",
      "Area under ROC, Test = 0.651683988549\n"
     ]
    }
   ],
   "source": [
    "# Compute raw scores on the validation set\n",
    "predictionAndLabelsTrain = hashTrainData.map(lambda lp: (float(model0.predict(lp.features)), lp.label))\n",
    "predictionAndLabelsVal = hashValidationData.map(lambda lp: (float(model0.predict(lp.features)), lp.label))\n",
    "predictionAndLabelsTest = hashTestData.map(lambda lp: (float(model0.predict(lp.features)), lp.label))\n",
    "\n",
    "# Instantiate metrics object\n",
    "metricsTrain = BinaryClassificationMetrics(predictionAndLabelsTrain)\n",
    "metricsVal = BinaryClassificationMetrics(predictionAndLabelsVal)\n",
    "metricsTest = BinaryClassificationMetrics(predictionAndLabelsTest)\n",
    "\n",
    "# Area under ROC curve\n",
    "print(\"Area under ROC, Train = %s\" % metricsTrain.areaUnderROC)\n",
    "print(\"Area under ROC, Validation = %s\" % metricsVal.areaUnderROC)\n",
    "print(\"Area under ROC, Test = %s\" % metricsTest.areaUnderROC)"
   ]
  },
  {
   "cell_type": "code",
   "execution_count": 17,
   "metadata": {
    "collapsed": false
   },
   "outputs": [
    {
     "name": "stdout",
     "output_type": "stream",
     "text": [
      "Log-loss, Train = 0.556543482585\n",
      "Log-loss, Validation = 0.556640268951\n",
      "Log-loss, Test = 0.556543482585\n"
     ]
    }
   ],
   "source": [
    "# Evaluate Log-Loss\n",
    "loglossTrain = evaluateResults(model0,hashTrainData)\n",
    "loglossVal = evaluateResults(model0,hashValidationData)\n",
    "loglossTest = evaluateResults(model0,hashTrainData)\n",
    "\n",
    "# Log-loss results\n",
    "print(\"Log-loss, Train = %s\" % loglossTrain)\n",
    "print(\"Log-loss, Validation = %s\" % loglossVal)\n",
    "print(\"Log-loss, Test = %s\" % loglossTest)"
   ]
  },
  {
   "cell_type": "markdown",
   "metadata": {},
   "source": [
    "#### Model results table\n",
    "<table>\n",
    "<tr>\n",
    "<th>Metric</th>\n",
    "<th>Dataset</th>\n",
    "<th>Result</th>\n",
    "</tr>\n",
    "<tr>\n",
    "<td>AUC</td>\n",
    "<td>Train</td>\n",
    "<td>65.14%</td>\n",
    "</tr>\n",
    "<tr>\n",
    "<td>AUC</td>\n",
    "<td>Validation</td>\n",
    "<td>65.14%</td>\n",
    "</tr>\n",
    "<tr>\n",
    "<td>AUC</td>\n",
    "<td>Test</td>\n",
    "<td>65.17%</td>\n",
    "</tr>\n",
    "<tr>\n",
    "<td>Log-loss</td>\n",
    "<td>Train</td>\n",
    "<td>55.65%</td>\n",
    "</tr>\n",
    "<tr>\n",
    "<td>Log-loss</td>\n",
    "<td>Validation</td>\n",
    "<td>55.66%</td>\n",
    "</tr>\n",
    "<tr>\n",
    "<td>Log-loss</td>\n",
    "<td>Test</td>\n",
    "<td>55.65%</td>\n",
    "</tr>\n",
    "</table>"
   ]
  },
  {
   "cell_type": "markdown",
   "metadata": {},
   "source": [
    "### HW 13.5: Criteo Phase 2 hyperparameter tuning  \n",
    ">SPECIAL NOTE:\n",
    "Please share your findings as they become available with class via the Google Group. You will get brownie points for this.  Once results are shared please used them and build on them.\n",
    " \n",
    "\n",
    ">Using the training dataset, validation dataset and testing dataset in the Criteo bucket perform the following experiments:\n",
    "\n",
    ">-- write spark code (borrow from Phase 1 of this project) to train a logistic regression model with various hyperparamters. Do a gridsearch of the hyperparameter space and determine optimal settings using the validation set.\n",
    "\n",
    ">-- Number of buckets for hashing: 1,000, 10,000, .... explore different values  here\n",
    "-- Logistic Regression: regularization term: [1e-6, 1e-3]  explore other  values here also\n",
    "-- Logistic Regression: step size: explore different step sizes. Focus on a stepsize of 1 initially. \n",
    "\n",
    ">Report the AWS cluster configuration that you used and how long in minutes and seconds it takes to complete this job.\n",
    "\n",
    ">Report in tabular form and using heatmaps the AUC values (https://en.wikipedia.org/wiki/Receiver_operating_characteristic) for the Training, Validation, and Testing datasets.\n",
    "Report in tabular form and using heatmaps  the logLossTest for the Training, Validation, and Testing datasets.\n",
    "\n",
    ">Dont forget to put a caption on your tables (above the table) and on your heatmap figures (put caption below figures) detailing the experiment associated with each table or figure (data, algorithm used, parameters and settings explored.\n",
    "\n",
    ">Discuss the optimal setting to solve this problem  in terms of the following:\n",
    "-- Features\n",
    "-- Learning algortihm\n",
    "-- Spark cluster\n",
    "\n",
    ">Justiy your recommendations based on your experimental results and cross reference with table numbers and figure numbers. Also highlight key results with annotations, both textual and line and box based, on your tables and graphs.\n",
    "\n"
   ]
  },
  {
   "cell_type": "code",
   "execution_count": null,
   "metadata": {
    "collapsed": false
   },
   "outputs": [],
   "source": [
    "hashBuckets = [ 1000, 5000, 10000 ]\n",
    "regTerms = [ 1e-6, 1e-3 ] \n",
    "stepSizes = [ 1, 10, 100 ]\n",
    "results = {}\n",
    "results['hashBuckets'] = []\n",
    "results['regTerms'] = []\n",
    "results['stepSizes'] = []\n",
    "results['trainAUC'] = []\n",
    "results['testAUC'] = []\n",
    "results['validationAUC'] = []\n",
    "results['trainLogLoss'] = []\n",
    "results['testLogLoss'] = []\n",
    "results['validationLogLoss'] = []\n",
    "\n",
    "starttime = DT.datetime.now()\n",
    "for h in hashBuckets:\n",
    "    for r in regTerms:\n",
    "        for s in stepSizes:\n",
    "            results['hashBuckets'].append(h)\n",
    "            results['regTerms'].append(r)\n",
    "            results['stepSizes'].append(s)\n",
    "            \n",
    "            # load data\n",
    "            hashTrainData = train_data.map(lambda x: parseHashPoint(x, h, '\\t')).cache()\n",
    "            hashValidationData = validation_data.map(lambda x: parseHashPoint(x, h, '\\t')).cache()\n",
    "            hashTestData = test_data.map(lambda x: parseHashPoint(x, h, '\\t')).cache()\n",
    "            \n",
    "            # run model \n",
    "            model = LogisticRegressionWithSGD.train( data= hashTrainData\n",
    "                                         , iterations= 10\n",
    "                                         , step= s\n",
    "                                         , regParam= r\n",
    "                                         , regType= 'l2'\n",
    "                                         , intercept= True )\n",
    "            \n",
    "            # calculation binary classification metrics \n",
    "            predictionAndLabelsTrain = hashTrainData. \\\n",
    "                                        map(lambda lp: (float(model.predict(lp.features)), lp.label))\n",
    "            predictionAndLabelsVal = hashValidationData. \\\n",
    "                                        map(lambda lp: (float(model.predict(lp.features)), lp.label))\n",
    "            predictionAndLabelsTest = hashTestData. \\\n",
    "                                        map(lambda lp: (float(model.predict(lp.features)), lp.label))\n",
    "            metricsTrain = BinaryClassificationMetrics(predictionAndLabelsTrain)\n",
    "            metricsVal = BinaryClassificationMetrics(predictionAndLabelsVal)\n",
    "            metricsTest = BinaryClassificationMetrics(predictionAndLabelsTest)\n",
    "            \n",
    "            # calculate log-loss\n",
    "            loglossTrain = evaluateResults(model, hashTrainData)\n",
    "            loglossVal = evaluateResults(model, hashValidationData)\n",
    "            loglossTest = evaluateResults(model, hashTestData)\n",
    "            \n",
    "            # store results\n",
    "            results['trainAUC'].append(metricsTrain.areaUnderROC)\n",
    "            results['testAUC'].append(metricsTest.areaUnderROC)\n",
    "            results['validationAUC'].append(metricsVal.areaUnderROC)\n",
    "            results['trainLogLoss'].append(loglossTrain)\n",
    "            results['testLogLoss'].append(loglossTest)\n",
    "            results['validationLogLoss'].append(loglossVal)\n",
    "            \n",
    "endtime = DT.datetime.now()\n",
    "runtime = (endtime-starttime).seconds\n",
    "runtime_hours = runtime // 3600\n",
    "runtime_minutes = (runtime % 3600) // 60\n",
    "runtime_seconds = (runtime % 3600) % 60\n",
    "print 'job finished in {} hours, {} minutes and {} seconds'.\\\n",
    "        format(runtime_hours, runtime_minutes, runtime_seconds)"
   ]
  },
  {
   "cell_type": "code",
   "execution_count": null,
   "metadata": {
    "collapsed": true
   },
   "outputs": [],
   "source": []
  }
 ],
 "metadata": {
  "kernelspec": {
   "display_name": "Python 2",
   "language": "python",
   "name": "python2"
  },
  "language_info": {
   "codemirror_mode": {
    "name": "ipython",
    "version": 2
   },
   "file_extension": ".py",
   "mimetype": "text/x-python",
   "name": "python",
   "nbconvert_exporter": "python",
   "pygments_lexer": "ipython2",
   "version": "2.7.10"
  }
 },
 "nbformat": 4,
 "nbformat_minor": 0
}
