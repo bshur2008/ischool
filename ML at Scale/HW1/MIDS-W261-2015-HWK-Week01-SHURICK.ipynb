{
 "cells": [
  {
   "cell_type": "markdown",
   "metadata": {},
   "source": [
    "## Homework 1: Brandon Shurick"
   ]
  },
  {
   "cell_type": "markdown",
   "metadata": {},
   "source": [
    "### HW1.0.0\n",
    "Define big data. Provide an example of a big data problem in your domain of expertise. "
   ]
  },
  {
   "cell_type": "markdown",
   "metadata": {},
   "source": [
    "In my opinion, \"big data\" is the integration of data into core business processes (regardless of data size). Big data manifests itself in two major ways in my domain of expertise (business intelligence & operations):\n",
    "- recommendations based on observational data, i.e. for account managers, customer care agents, other internal employees, based on client or partner history\n",
    "- causational interpretation of randomized, controlled experiments, i.e. A-B tests\n",
    "\n",
    "Each of these requires careful recording and cleansing of data that may involve any of the \"3 V's\": volume, variety, velocity. For example, we may need to use cheap storage and Hadoop in order to store all of our operational and customer usage data, because we don't always know what features we might need to utilize for recommendations based on observational data. We might need to build complicated data processing code to cleans and connect all of the types of data we record. Lastly, we might need to build infrastructure that can support realtime analysis at high-speed. "
   ]
  },
  {
   "cell_type": "markdown",
   "metadata": {},
   "source": [
    "### HW1.0.1\n",
    "In 500 words (English or pseudo code or a combination) describe how to estimate the bias, the variance, the irreduciable error for a test dataset T when using polynomial regression models of degree 1, 2,3, 4,5 are considered. How would you select a model?"
   ]
  },
  {
   "cell_type": "markdown",
   "metadata": {},
   "source": [
    "First, to estimate bias it is necessary to have a target function defined that the regression models are attemtping to estimate. We can call this function $f(x)$. Then a regression model $g_N(x)$ should be created from training data to approximate $f(x)$ for a dataset $T$ over each of the $N$ polynomial degrees being considered, where $T$ represents the result of function $f(x)$ plus some additional random noise. \n",
    "\n",
    "The bias would then be calculated as the mean of the squared mean test error (as measured by mean squared error in regression) across all datasets for each polynomial degree being considered, minus the result of the true function $f(x)$. In pseudocode:\n",
    "\n",
    "polydegree = {}  \n",
    "bias = {}  \n",
    "for n in N:  \n",
    "&nbsp;&nbsp;for d in T:  \n",
    "&nbsp;&nbsp;&nbsp;&nbsp;if n not in polydegree: polydegree[n]=[ ]  \n",
    "&nbsp;&nbsp;&nbsp;&nbsp;error_d = (g_n(d)-d)\\*\\*2  \n",
    "&nbsp;&nbsp;&nbsp;&nbsp;polydegree[n].append(error_d)  \n",
    "for n in N:  \n",
    "&nbsp;&nbsp;bias[n] = mean((mean(polydegree[n])-f(x))\\*\\*2)  \n",
    "\n",
    "Measuring the variance would not require the function $f(x)$ but would simply be a calculation of the mean variance of the model $g_N(x)$ test results for each polynomial degree being considered. In pseudocode:\n",
    "\n",
    "polydegree = {}  \n",
    "variance = {}  \n",
    "for n in N:  \n",
    "&nbsp;&nbsp;for d in T:  \n",
    "&nbsp;&nbsp;&nbsp;&nbsp;if n not in polydegree: polydegree[n]=[ ]  \n",
    "&nbsp;&nbsp;&nbsp;&nbsp;result_d = g_n(d)  \n",
    "&nbsp;&nbsp;&nbsp;&nbsp;polydegree[n].append(result_d)  \n",
    "for n in N:  \n",
    "&nbsp;&nbsp;results = [ (d-mean(polydegree[n]))\\*\\*2 for d in polydegree[n] ]  \n",
    "&nbsp;&nbsp;variance[n] = mean(results)\n",
    "\n",
    "The irreducable (constant) error does not depend on the model $g_N(x)$, and is calculated as the mean squared difference between the observations in the dataset $T$ from the true function $f(x)$. In pseudocode:\n",
    "\n",
    "polydegree = {}  \n",
    "error = {}  \n",
    "for n in N:  \n",
    "&nbsp;&nbsp;for d in T:  \n",
    "&nbsp;&nbsp;&nbsp;&nbsp;if n not in polydegree: polydegree[n]=[ ]  \n",
    "&nbsp;&nbsp;&nbsp;&nbsp;result_d = (d-f(x))\\*\\*2  \n",
    "&nbsp;&nbsp;&nbsp;&nbsp;polydegree[n].append(result_d)  \n",
    "for n in N:  \n",
    "&nbsp;&nbsp;error[n] = mean(polydegree[n])\n",
    "\n",
    "To choose the model, I would select the model $g_N(x)$ which has the lowest combined variance and bias (ignoring the error/noise of the data, which is constant across all models). \n"
   ]
  },
  {
   "cell_type": "markdown",
   "metadata": {},
   "source": [
    "### HW1.1\n",
    "Read through the provided control script (pNaiveBayes.sh)\n",
    "   and all of its comments. When you are comfortable with their\n",
    "   purpose and function, respond to the remaining homework questions below. \n",
    "   A simple cell in the notebook with a print statmement with  a \"done\" string will suffice here. (dont forget to include the Question Number and the quesition in the cell as a multiline comment!)"
   ]
  },
  {
   "cell_type": "raw",
   "metadata": {},
   "source": [
    "Done"
   ]
  },
  {
   "cell_type": "markdown",
   "metadata": {},
   "source": [
    "### HW1.2\n",
    "Provide a mapper/reducer pair that, when executed by pNaiveBayes.sh\n",
    "   will determine the number of occurrences of a single, user-specified word. Examine the word “assistance” and report your results."
   ]
  },
  {
   "cell_type": "code",
   "execution_count": 38,
   "metadata": {
    "collapsed": false
   },
   "outputs": [
    {
     "name": "stdout",
     "output_type": "stream",
     "text": [
      "Writing mapper.py\n"
     ]
    }
   ],
   "source": [
    "%%writefile mapper.py\n",
    "#!/usr/bin/env python\n",
    "import re, sys\n",
    "filename = sys.argv[1]\n",
    "findword = sys.argv[2]\n",
    "WORDS = re.compile(r'[\\w]+')\n",
    "for line in open(filename,'r').readlines():\n",
    "    line = line.strip()\n",
    "    wordslist = WORDS.findall(line)\n",
    "    findwords = [w for w in wordslist if w==findword ]\n",
    "    print(len(findwords))    "
   ]
  },
  {
   "cell_type": "code",
   "execution_count": 39,
   "metadata": {
    "collapsed": false
   },
   "outputs": [],
   "source": [
    "!chmod +x mapper.py"
   ]
  },
  {
   "cell_type": "code",
   "execution_count": 40,
   "metadata": {
    "collapsed": false
   },
   "outputs": [
    {
     "name": "stdout",
     "output_type": "stream",
     "text": [
      "Writing reducer.py\n"
     ]
    }
   ],
   "source": [
    "%%writefile reducer.py\n",
    "#!/usr/bin/env python\n",
    "import sys\n",
    "filenames = sys.argv[1:]\n",
    "sums = []\n",
    "for f in filenames:\n",
    "    for line in open(f,'r').readlines():\n",
    "        line = line.strip()\n",
    "        sums.append(int(line))\n",
    "print(sum(sums))"
   ]
  },
  {
   "cell_type": "code",
   "execution_count": 41,
   "metadata": {
    "collapsed": true
   },
   "outputs": [],
   "source": [
    "!chmod +x reducer.py"
   ]
  },
  {
   "cell_type": "code",
   "execution_count": 42,
   "metadata": {
    "collapsed": true
   },
   "outputs": [],
   "source": [
    "!chmod +x pNaiveBayes.sh"
   ]
  },
  {
   "cell_type": "code",
   "execution_count": 44,
   "metadata": {
    "collapsed": false
   },
   "outputs": [
    {
     "name": "stdout",
     "output_type": "stream",
     "text": [
      "assistance: 10\r\n"
     ]
    }
   ],
   "source": [
    "!./pNaiveBayes.sh 4 assistance\n",
    "!echo assistance: `cat *.output`"
   ]
  },
  {
   "cell_type": "markdown",
   "metadata": {},
   "source": [
    "### HW1.3. \n",
    "Provide a mapper/reducer pair that, when executed by pNaiveBayes.sh\n",
    "   will classify the email messages by a single, user-specified word using the multinomial Naive Bayes Formulation. Examine the word “assistance” and report your results. To do so, make sure that\n",
    "   \n",
    "   - mapper.py and\n",
    "   - reducer.py \n",
    "\n",
    "That performs a single word Naive Bayes classification. For multinomial Naive Bayes, the Pr(X=“assistance”|Y=SPAM) is calculated as follows:\n",
    "\n",
    "  the number of times “assistance” occurs in SPAM labeled documents / the number of words in documents labeled SPAM "
   ]
  },
  {
   "cell_type": "code",
   "execution_count": 138,
   "metadata": {
    "collapsed": false
   },
   "outputs": [
    {
     "name": "stdout",
     "output_type": "stream",
     "text": [
      "Overwriting mapper.py\n"
     ]
    }
   ],
   "source": [
    "%%writefile mapper.py\n",
    "#!/usr/bin/env python\n",
    "import re, sys\n",
    "filename = sys.argv[1]\n",
    "findword = sys.argv[2]\n",
    "WORDS = re.compile(r'[\\w]+')\n",
    "for line in open(filename,'r').readlines():\n",
    "    line = re.sub(r'[^\\w\\s]+','',line.strip())\n",
    "    components = line.split('\\t')\n",
    "    try:\n",
    "        spamdoc = int(components[1])\n",
    "    except IndexError:\n",
    "        continue \n",
    "    words = ' '.join(components[2:])\n",
    "    wordslist = WORDS.findall(words)\n",
    "    totalwords = len(wordslist)\n",
    "    findwords = [ w for w in wordslist if w==findword ]\n",
    "    print('{}\\t{}\\t{}\\t{}'.format(components[0],spamdoc,len(findwords),totalwords))"
   ]
  },
  {
   "cell_type": "code",
   "execution_count": 139,
   "metadata": {
    "collapsed": true
   },
   "outputs": [],
   "source": [
    "!chmod +x mapper.py"
   ]
  },
  {
   "cell_type": "code",
   "execution_count": 209,
   "metadata": {
    "collapsed": false
   },
   "outputs": [
    {
     "name": "stdout",
     "output_type": "stream",
     "text": [
      "Overwriting reducer.py\n"
     ]
    }
   ],
   "source": [
    "%%writefile reducer.py\n",
    "#!/usr/bin/env python\n",
    "import sys\n",
    "import math\n",
    "filenames = sys.argv[1:]\n",
    "docs = 0\n",
    "typecnt = {}\n",
    "prior = {}\n",
    "findwords = {}\n",
    "totalwords = {}\n",
    "\n",
    "for f in filenames:\n",
    "    for line in open(f,'r').readlines():\n",
    "        docs += 1\n",
    "        line = line.strip()\n",
    "        components = line.split('\\t')\n",
    "        cid,spam,findword_cnt,totalword_cnt = components\n",
    "        \n",
    "        if spam not in typecnt: typecnt[spam] = 1\n",
    "        else: typecnt[spam] += 1\n",
    "        \n",
    "        if spam not in findwords: findwords[spam] = int(findword_cnt)\n",
    "        else: findwords[spam] += int(findword_cnt)\n",
    "        \n",
    "        if spam not in totalwords: totalwords[spam] = int(totalword_cnt)\n",
    "        else: totalwords[spam] += int(totalword_cnt)\n",
    "        \n",
    "        if int(findword_cnt)>0:\n",
    "            logprior = math.log((typecnt['1']*1.0 / docs)/(typecnt['0']*1.0 / docs))\n",
    "            spamp = findwords['1']*1.0/totalwords['1']\n",
    "            nonspamp = findwords['0']*1.0/totalwords['0']\n",
    "            logp = math.log(spamp/nonspamp) if nonspamp>0 else 0 \n",
    "            if (logp+logprior)>0: print('{}\\t{}\\t{}'.format(cid,1,spam))\n",
    "            else: print('{}\\t{}\\t{}'.format(cid,0,spam))\n",
    "        else:\n",
    "            print('{}\\t{}\\t{}'.format(cid,0,spam))           "
   ]
  },
  {
   "cell_type": "code",
   "execution_count": 210,
   "metadata": {
    "collapsed": true
   },
   "outputs": [],
   "source": [
    "!chmod +x reducer.py"
   ]
  },
  {
   "cell_type": "code",
   "execution_count": 211,
   "metadata": {
    "collapsed": true
   },
   "outputs": [],
   "source": [
    "!chmod +x pNaiveBayes.sh"
   ]
  },
  {
   "cell_type": "code",
   "execution_count": 212,
   "metadata": {
    "collapsed": false
   },
   "outputs": [
    {
     "name": "stdout",
     "output_type": "stream",
     "text": [
      "000119991210farmer\t0\t0\r\n",
      "000119991210kaminski\t0\t0\r\n",
      "000120000117beck\t0\t0\r\n",
      "000120000606lokay\t0\t0\r\n",
      "000120010207kitchen\t0\t0\r\n",
      "000120010402williams\t0\t0\r\n",
      "000219991213farmer\t0\t0\r\n",
      "000220010207kitchen\t0\t0\r\n",
      "000220010525SA_and_HP\t0\t1\r\n",
      "000220031218GP\t0\t1\r\n",
      "000220040801BG\t0\t1\r\n",
      "000319991210kaminski\t0\t0\r\n",
      "000319991214farmer\t0\t0\r\n",
      "000320000117beck\t0\t0\r\n",
      "000320010208kitchen\t0\t0\r\n",
      "000320031218GP\t0\t1\r\n",
      "000320040801BG\t0\t1\r\n",
      "000419991210kaminski\t1\t0\r\n",
      "000419991214farmer\t0\t0\r\n",
      "000420010402williams\t0\t0\r\n",
      "000420010612SA_and_HP\t0\t1\r\n",
      "000420040801BG\t0\t1\r\n",
      "000519991212kaminski\t0\t0\r\n",
      "000519991214farmer\t0\t0\r\n",
      "000520000606lokay\t0\t0\r\n",
      "000520010208kitchen\t0\t0\r\n",
      "000520010623SA_and_HP\t0\t1\r\n",
      "000520031218GP\t0\t1\r\n",
      "000619991213kaminski\t0\t0\r\n",
      "000620010208kitchen\t0\t0\r\n",
      "000620010403williams\t0\t0\r\n",
      "000620010625SA_and_HP\t0\t1\r\n",
      "000620031218GP\t0\t1\r\n",
      "000620040801BG\t0\t1\r\n",
      "000719991213kaminski\t0\t0\r\n",
      "000719991214farmer\t0\t0\r\n",
      "000720000117beck\t0\t0\r\n",
      "000720010209kitchen\t0\t0\r\n",
      "000720031218GP\t0\t1\r\n",
      "000720040801BG\t0\t1\r\n",
      "000820010209kitchen\t0\t0\r\n",
      "000820010612SA_and_HP\t0\t1\r\n",
      "000820010625SA_and_HP\t0\t1\r\n",
      "000820031218GP\t0\t1\r\n",
      "000820040801BG\t0\t1\r\n",
      "000919991213kaminski\t0\t0\r\n",
      "000919991214farmer\t0\t0\r\n",
      "000920000607lokay\t0\t0\r\n",
      "000920010209kitchen\t0\t0\r\n",
      "000920010626SA_and_HP\t0\t1\r\n",
      "000920031218GP\t0\t1\r\n",
      "001019991214farmer\t0\t0\r\n",
      "001019991214kaminski\t0\t0\r\n",
      "001020010209kitchen\t0\t0\r\n",
      "001020010628SA_and_HP\t1\t1\r\n",
      "001020031218GP\t0\t1\r\n",
      "001020040801BG\t0\t1\r\n",
      "001119991214farmer\t0\t0\r\n",
      "001120010628SA_and_HP\t0\t1\r\n",
      "001120010629SA_and_HP\t0\t1\r\n",
      "001120031218GP\t0\t1\r\n",
      "001120040801BG\t0\t1\r\n",
      "001219991214farmer\t0\t0\r\n",
      "001219991214kaminski\t0\t0\r\n",
      "001220000117beck\t0\t0\r\n",
      "001220000608lokay\t0\t0\r\n",
      "001220010209kitchen\t0\t0\r\n",
      "001220031219GP\t0\t1\r\n",
      "001319991214farmer\t0\t0\r\n",
      "001319991214kaminski\t0\t0\r\n",
      "001320010403williams\t0\t0\r\n",
      "001320010630SA_and_HP\t0\t1\r\n",
      "001320040801BG\t0\t1\r\n",
      "001419991214kaminski\t0\t0\r\n",
      "001419991215farmer\t0\t0\r\n",
      "001420010212kitchen\t0\t0\r\n",
      "001420010704SA_and_HP\t0\t1\r\n",
      "001420031219GP\t0\t1\r\n",
      "001420040801BG\t0\t1\r\n",
      "001519991214kaminski\t0\t0\r\n",
      "001519991215farmer\t0\t0\r\n",
      "001520000609lokay\t0\t0\r\n",
      "001520010212kitchen\t0\t0\r\n",
      "001520010705SA_and_HP\t0\t1\r\n",
      "001520031219GP\t0\t1\r\n",
      "001619991215farmer\t0\t0\r\n",
      "001620010212kitchen\t0\t0\r\n",
      "001620010705SA_and_HP\t0\t1\r\n",
      "001620010706SA_and_HP\t0\t1\r\n",
      "001620031219GP\t0\t1\r\n",
      "001620040801BG\t0\t1\r\n",
      "001719991214kaminski\t0\t0\r\n",
      "001720000117beck\t0\t0\r\n",
      "001720010403williams\t0\t0\r\n",
      "001720031218GP\t0\t1\r\n",
      "001720040801BG\t0\t1\r\n",
      "001720040802BG\t0\t1\r\n",
      "001819991214kaminski\t0\t0\r\n",
      "001820010713SA_and_HP\t1\t1\r\n",
      "001820031218GP\t1\t1\r\n"
     ]
    }
   ],
   "source": [
    "!./pNaiveBayes.sh 4 assistance\n",
    "!cat *.output"
   ]
  },
  {
   "cell_type": "markdown",
   "metadata": {},
   "source": [
    "### HW1.4\n",
    "Provide a mapper/reducer pair that, when executed by pNaiveBayes.sh\n",
    "   will classify the email messages by a list of one or more user-specified words. Examine the words “assistance”, “valium”, and “enlargementWithATypo” and report your results\n",
    "   \n",
    "To do so, make sure that\n",
    "\n",
    "   - mapper.py counts all occurrences of a list of words, and\n",
    "   - reducer.py performs the multiple-word multinomial Naive Bayes classification via the chosen list.  "
   ]
  }
 ],
 "metadata": {
  "kernelspec": {
   "display_name": "Python 2",
   "language": "python",
   "name": "python2"
  },
  "language_info": {
   "codemirror_mode": {
    "name": "ipython",
    "version": 2
   },
   "file_extension": ".py",
   "mimetype": "text/x-python",
   "name": "python",
   "nbconvert_exporter": "python",
   "pygments_lexer": "ipython2",
   "version": "2.7.10"
  }
 },
 "nbformat": 4,
 "nbformat_minor": 0
}
